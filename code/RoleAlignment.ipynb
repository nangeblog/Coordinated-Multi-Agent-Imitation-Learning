{
 "cells": [
  {
   "cell_type": "code",
   "execution_count": 1,
   "metadata": {},
   "outputs": [],
   "source": [
    "import pandas as pd\n",
    "import numpy as np\n",
    "import matplotlib.pyplot as plt\n",
    "import seaborn as sns\n",
    "import glob, os, sys\n",
    "from scipy.stats import multivariate_normal\n",
    "from mpl_toolkits.mplot3d import Axes3D\n",
    "\n",
    "from hmmlearn import hmm\n",
    "osp = sys.platform\n",
    "\n",
    "from utilities import *\n",
    "from helpers import *\n",
    "# ---------------------------------------------------------\n",
    "%matplotlib inline\n",
    "%load_ext autoreload\n",
    "%autoreload 2\n",
    "import warnings\n",
    "warnings.filterwarnings('ignore')\n",
    "# warnings.filterwarnings(action='once')\n",
    "# ---------------------------------------------------------\n",
    "# directories\n",
    "main_dir = '../'\n",
    "game_dir = main_dir+'data/'\n",
    "Data = LoadData(main_dir, game_dir)"
   ]
  },
  {
   "cell_type": "code",
   "execution_count": 2,
   "metadata": {},
   "outputs": [
    {
     "name": "stdout",
     "output_type": "stream",
     "text": [
      "raw events shape: (231, 8)\n"
     ]
    },
    {
     "data": {
      "text/html": [
       "<div>\n",
       "<style>\n",
       "    .dataframe thead tr:only-child th {\n",
       "        text-align: right;\n",
       "    }\n",
       "\n",
       "    .dataframe thead th {\n",
       "        text-align: left;\n",
       "    }\n",
       "\n",
       "    .dataframe tbody tr th {\n",
       "        vertical-align: top;\n",
       "    }\n",
       "</style>\n",
       "<table border=\"1\" class=\"dataframe\">\n",
       "  <thead>\n",
       "    <tr style=\"text-align: right;\">\n",
       "      <th></th>\n",
       "      <th>end_time_left</th>\n",
       "      <th>home</th>\n",
       "      <th>moments</th>\n",
       "      <th>orig_events</th>\n",
       "      <th>playbyplay</th>\n",
       "      <th>quarter</th>\n",
       "      <th>start_time_left</th>\n",
       "      <th>visitor</th>\n",
       "    </tr>\n",
       "  </thead>\n",
       "  <tbody>\n",
       "    <tr>\n",
       "      <th>0</th>\n",
       "      <td>702.31</td>\n",
       "      <td>{'abbreviation': 'CHI', 'players': [{'playerid...</td>\n",
       "      <td>[[1, 1451351428029, 708.28, 12.78, None, [[-1,...</td>\n",
       "      <td>[0]</td>\n",
       "      <td>GAME_ID  EVENTNUM  EVENTMSGTYPE  EVENTMS...</td>\n",
       "      <td>1</td>\n",
       "      <td>708.28</td>\n",
       "      <td>{'abbreviation': 'TOR', 'players': [{'playerid...</td>\n",
       "    </tr>\n",
       "    <tr>\n",
       "      <th>1</th>\n",
       "      <td>686.28</td>\n",
       "      <td>{'abbreviation': 'CHI', 'players': [{'playerid...</td>\n",
       "      <td>[[1, 1451351428029, 708.28, 12.78, None, [[-1,...</td>\n",
       "      <td>[1]</td>\n",
       "      <td>GAME_ID  EVENTNUM  EVENTMSGTYPE  EVENTMS...</td>\n",
       "      <td>1</td>\n",
       "      <td>708.28</td>\n",
       "      <td>{'abbreviation': 'TOR', 'players': [{'playerid...</td>\n",
       "    </tr>\n",
       "    <tr>\n",
       "      <th>2</th>\n",
       "      <td>668.42</td>\n",
       "      <td>{'abbreviation': 'CHI', 'players': [{'playerid...</td>\n",
       "      <td>[[1, 1451351444029, 692.25, 12.21, None, [[-1,...</td>\n",
       "      <td>[2, 3]</td>\n",
       "      <td>GAME_ID  EVENTNUM  EVENTMSGTYPE  EVENTMS...</td>\n",
       "      <td>1</td>\n",
       "      <td>692.25</td>\n",
       "      <td>{'abbreviation': 'TOR', 'players': [{'playerid...</td>\n",
       "    </tr>\n",
       "  </tbody>\n",
       "</table>\n",
       "</div>"
      ],
      "text/plain": [
       "   end_time_left                                               home  \\\n",
       "0         702.31  {'abbreviation': 'CHI', 'players': [{'playerid...   \n",
       "1         686.28  {'abbreviation': 'CHI', 'players': [{'playerid...   \n",
       "2         668.42  {'abbreviation': 'CHI', 'players': [{'playerid...   \n",
       "\n",
       "                                             moments orig_events  \\\n",
       "0  [[1, 1451351428029, 708.28, 12.78, None, [[-1,...         [0]   \n",
       "1  [[1, 1451351428029, 708.28, 12.78, None, [[-1,...         [1]   \n",
       "2  [[1, 1451351444029, 692.25, 12.21, None, [[-1,...      [2, 3]   \n",
       "\n",
       "                                          playbyplay  quarter  \\\n",
       "0        GAME_ID  EVENTNUM  EVENTMSGTYPE  EVENTMS...        1   \n",
       "1        GAME_ID  EVENTNUM  EVENTMSGTYPE  EVENTMS...        1   \n",
       "2        GAME_ID  EVENTNUM  EVENTMSGTYPE  EVENTMS...        1   \n",
       "\n",
       "   start_time_left                                            visitor  \n",
       "0           708.28  {'abbreviation': 'TOR', 'players': [{'playerid...  \n",
       "1           708.28  {'abbreviation': 'TOR', 'players': [{'playerid...  \n",
       "2           692.25  {'abbreviation': 'TOR', 'players': [{'playerid...  "
      ]
     },
     "execution_count": 2,
     "metadata": {},
     "output_type": "execute_result"
    }
   ],
   "source": [
    "# %%time\n",
    "game_id = '0021500463'\n",
    "game_data = Data.load_game(game_id)\n",
    "events_df = pd.DataFrame(game_data['events'])\n",
    "print('raw events shape:', events_df.shape)\n",
    "events_df.head(3)"
   ]
  },
  {
   "cell_type": "code",
   "execution_count": 3,
   "metadata": {
    "collapsed": true
   },
   "outputs": [],
   "source": [
    "# get events and number of events\n",
    "# events_df = pd.DataFrame(data['events'])\n",
    "# n_events = events_df.shape[0]\n",
    "# # get numebr of moments\n",
    "# moments = events_df.iloc[event_number,:]['moments']\n",
    "# n_moments = len(moments)\n",
    "\n",
    "# print(n_moments, event_df.shape)\n",
    "# event_df.head()"
   ]
  },
  {
   "cell_type": "code",
   "execution_count": 4,
   "metadata": {
    "collapsed": true
   },
   "outputs": [],
   "source": [
    "# # get all the player_id and player_name mapping\n",
    "# player_id_mapping = id_player(event_df)"
   ]
  },
  {
   "cell_type": "code",
   "execution_count": 5,
   "metadata": {
    "collapsed": true
   },
   "outputs": [],
   "source": [
    "# get position mapping\n",
    "# get all the player_id and player_name mapping\n",
    "id_position_mapping = id_position(events_df)"
   ]
  },
  {
   "cell_type": "code",
   "execution_count": 6,
   "metadata": {
    "collapsed": true
   },
   "outputs": [],
   "source": [
    "# set(np.concatenate(list(position_id_mapping.values())))"
   ]
  },
  {
   "cell_type": "code",
   "execution_count": 7,
   "metadata": {
    "collapsed": true
   },
   "outputs": [],
   "source": [
    "# play id to play roles/positions\n",
    "id_role = id_position(events_df)\n",
    "check_game_roles_duplicates(id_role)\n",
    "\n",
    "# we will use this fixed order as the role order\n",
    "roles = ['F', 'G', 'C-F', 'G-F', 'F-G', 'C', 'F-C']\n",
    "role_order = {'F': 0, 'G':4, 'C-F':1, 'G-F':3, 'F-G':3, 'C':2, 'F-C':1}\n",
    "\n",
    "# its possible that F has similar role as G-f or F-G, we create empty slots to ensure meta order\n",
    "# ddentify defending and offending runs (this is included in process_moments)\n",
    "court_index = Data.load_csv('./meta_data/court_index.csv')\n",
    "court_index = dict(zip(court_index.game_id, court_index.court_position))\n",
    "\n",
    "# home and visitor ids\n",
    "homeid = events_df.loc[0].home['teamid']\n",
    "awayid = events_df.loc[0].visitor['teamid']"
   ]
  },
  {
   "cell_type": "markdown",
   "metadata": {},
   "source": [
    "#### Pre-process \n",
    "filter events, subsample frames, add velocity, reorder moments, re-arrange team order\n",
    "shot clock, filter out event with short moments"
   ]
  },
  {
   "cell_type": "code",
   "execution_count": 25,
   "metadata": {},
   "outputs": [
    {
     "name": "stdout",
     "output_type": "stream",
     "text": [
      "After filtering events has shape: (134, 8)\n",
      "Final number of events: 165\n"
     ]
    }
   ],
   "source": [
    "# filter out actions except 1: Make, 2: Miss, 4: Rebound, 6:Personal Foul, 7:Violation\n",
    "use_event = [1, 2, 4, 6, 7]\n",
    "discard_event = [3, 5, 8, 9, 10, 12, 13, 18]\n",
    "events = filter_event_type(events_df, discard_event)\n",
    "print('After filtering events has shape:', events.shape)\n",
    "# break up sequences at 24secs shot clock point (or irregular case, e.g. out of bound maybe),\n",
    "# and obtain the game data\n",
    "subsample_factor = 0\n",
    "single_game = get_game_data_ra(events, court_index, game_id, event_threshold=10, subsample_factor=subsample_factor)\n",
    "print('Final number of events:', len(single_game))"
   ]
  },
  {
   "cell_type": "code",
   "execution_count": 26,
   "metadata": {
    "collapsed": true
   },
   "outputs": [],
   "source": [
    "# just use portion of it for demo\n",
    "# single_game = single_game[:10]"
   ]
  },
  {
   "cell_type": "code",
   "execution_count": 27,
   "metadata": {},
   "outputs": [],
   "source": [
    "# single_game[0].shape"
   ]
  },
  {
   "cell_type": "code",
   "execution_count": 28,
   "metadata": {
    "collapsed": true
   },
   "outputs": [],
   "source": [
    "# create data s.t. its for all players        \n",
    "seq_lens = np.array([len(i) for i in single_game])\n",
    "train = np.concatenate(single_game, axis=0)"
   ]
  },
  {
   "cell_type": "code",
   "execution_count": 29,
   "metadata": {},
   "outputs": [
    {
     "data": {
      "text/plain": [
       "(38, 20)"
      ]
     },
     "execution_count": 29,
     "metadata": {},
     "output_type": "execute_result"
    }
   ],
   "source": [
    "single_game[0].shape"
   ]
  },
  {
   "cell_type": "code",
   "execution_count": 30,
   "metadata": {},
   "outputs": [
    {
     "data": {
      "text/plain": [
       "(21119, 20)"
      ]
     },
     "execution_count": 30,
     "metadata": {},
     "output_type": "execute_result"
    }
   ],
   "source": [
    "train.shape"
   ]
  },
  {
   "cell_type": "code",
   "execution_count": null,
   "metadata": {
    "collapsed": true
   },
   "outputs": [],
   "source": []
  },
  {
   "cell_type": "code",
   "execution_count": 31,
   "metadata": {
    "collapsed": true
   },
   "outputs": [],
   "source": [
    "# we are only modelling defending players\n",
    "n_dim = train.shape[1]//2\n",
    "final = []\n",
    "# final_players = []\n",
    "for i in range(0, n_dim, 2):\n",
    "    final.append(train[:,list(range(i,i+2))+list(range(n_dim, n_dim*2))])\n",
    "#     final_players.append(train[:, i])\n",
    "    \n",
    "final = np.concatenate(final, axis=0)\n",
    "seq_lens = np.concatenate([seq_lens for _ in range(5)], axis=0)\n",
    "# final_players = np.concatenate(final_players)"
   ]
  },
  {
   "cell_type": "code",
   "execution_count": 32,
   "metadata": {},
   "outputs": [
    {
     "data": {
      "text/plain": [
       "(105595, 12)"
      ]
     },
     "execution_count": 32,
     "metadata": {},
     "output_type": "execute_result"
    }
   ],
   "source": [
    "final.shape"
   ]
  },
  {
   "cell_type": "code",
   "execution_count": 33,
   "metadata": {},
   "outputs": [
    {
     "data": {
      "text/plain": [
       "105595"
      ]
     },
     "execution_count": 33,
     "metadata": {},
     "output_type": "execute_result"
    }
   ],
   "source": [
    "sum(seq_lens)"
   ]
  },
  {
   "cell_type": "code",
   "execution_count": 34,
   "metadata": {},
   "outputs": [],
   "source": [
    "# final1 = final[:, 0].reshape(-1, 1)\n",
    "# final = np.repeat(final, [1,2], axis=1)"
   ]
  },
  {
   "cell_type": "code",
   "execution_count": 35,
   "metadata": {},
   "outputs": [],
   "source": [
    "# final.shape"
   ]
  },
  {
   "cell_type": "markdown",
   "metadata": {},
   "source": [
    "#### Create HMM model"
   ]
  },
  {
   "cell_type": "code",
   "execution_count": 38,
   "metadata": {
    "scrolled": true
   },
   "outputs": [
    {
     "name": "stderr",
     "output_type": "stream",
     "text": [
      "         1    -4902641.8019             +nan\n",
      "         2    -4838801.2961      +63840.5058\n",
      "         3    -4804542.4472      +34258.8489\n",
      "         4    -4769175.2353      +35367.2119\n",
      "         5    -4738285.8791      +30889.3561\n",
      "         6    -4671523.7176      +66762.1615\n",
      "         7    -4585403.9357      +86119.7819\n",
      "         8    -4532816.2562      +52587.6795\n",
      "         9    -4495095.8750      +37720.3812\n",
      "        10    -4447966.8491      +47129.0258\n",
      "        11    -4364879.5376      +83087.3115\n",
      "        12    -4282516.7166      +82362.8211\n",
      "        13    -4242691.2775      +39825.4390\n",
      "        14    -4223573.3238      +19117.9537\n",
      "        15    -4204158.6798      +19414.6441\n",
      "        16    -4188139.6067      +16019.0730\n",
      "        17    -4181221.5262       +6918.0806\n",
      "        18    -4177839.9816       +3381.5446\n",
      "        19    -4174785.4882       +3054.4934\n",
      "        20    -4171048.8108       +3736.6775\n",
      "        21    -4166497.4744       +4551.3364\n",
      "        22    -4163738.9797       +2758.4946\n",
      "        23    -4162363.8652       +1375.1146\n",
      "        24    -4161325.5377       +1038.3275\n",
      "        25    -4160517.8750        +807.6627\n",
      "        26    -4159884.5360        +633.3390\n",
      "        27    -4157961.6579       +1922.8781\n",
      "        28    -4156500.5079       +1461.1500\n",
      "        29    -4153211.7926       +3288.7153\n",
      "        30    -4152330.5321        +881.2605\n",
      "        31    -4151493.9552        +836.5769\n",
      "        32    -4150634.6922        +859.2630\n",
      "        33    -4148314.1354       +2320.5568\n",
      "        34    -4145888.5202       +2425.6152\n",
      "        35    -4145245.5313        +642.9889\n",
      "        36    -4144757.7551        +487.7762\n",
      "        37    -4144171.7502        +586.0049\n",
      "        38    -4143792.8773        +378.8729\n",
      "        39    -4143486.3593        +306.5180\n",
      "        40    -4143164.1698        +322.1895\n",
      "        41    -4142818.4922        +345.6776\n",
      "        42    -4142425.1854        +393.3068\n",
      "        43    -4142129.7082        +295.4771\n",
      "        44    -4141647.5618        +482.1464\n",
      "        45    -4141558.8369         +88.7249\n",
      "        46    -4141515.6876         +43.1494\n",
      "        47    -4141499.0655         +16.6221\n",
      "        48    -4141494.6046          +4.4609\n",
      "        49    -4141492.8726          +1.7320\n",
      "        50    -4141491.8787          +0.9939\n",
      "        51    -4141489.9442          +1.9346\n",
      "        52    -4141484.0780          +5.8662\n",
      "        53    -4141480.1575          +3.9205\n",
      "        54    -4141435.7413         +44.4162\n",
      "        55    -4141346.4049         +89.3364\n",
      "        56    -4141314.2006         +32.2043\n",
      "        57    -4141282.7586         +31.4421\n",
      "        58    -4141106.9506        +175.8080\n",
      "        59    -4141055.5420         +51.4085\n",
      "        60    -4141046.8810          +8.6611\n",
      "        61    -4141031.4820         +15.3990\n",
      "        62    -4140916.4634        +115.0186\n",
      "        63    -4140819.6976         +96.7658\n",
      "        64    -4140756.5874         +63.1102\n",
      "        65    -4140704.3570         +52.2303\n",
      "        66    -4140675.5219         +28.8352\n",
      "        67    -4140658.9298         +16.5921\n",
      "        68    -4140644.9259         +14.0039\n",
      "        69    -4140630.9331         +13.9929\n",
      "        70    -4140619.5592         +11.3739\n",
      "        71    -4140599.2468         +20.3124\n",
      "        72    -4140586.8131         +12.4337\n",
      "        73    -4140583.2471          +3.5660\n",
      "        74    -4140576.7620          +6.4852\n",
      "        75    -4140543.8971         +32.8648\n",
      "        76    -4140524.3955         +19.5016\n",
      "        77    -4140522.8862          +1.5093\n",
      "        78    -4140522.3591          +0.5271\n",
      "        79    -4140522.1220          +0.2371\n",
      "        80    -4140522.0009          +0.1210\n",
      "        81    -4140521.9338          +0.0671\n",
      "        82    -4140521.8945          +0.0393\n",
      "        83    -4140521.8706          +0.0239\n",
      "        84    -4140521.8558          +0.0148\n",
      "        85    -4140521.8465          +0.0093\n"
     ]
    },
    {
     "data": {
      "text/plain": [
       "GMMHMM(algorithm='viterbi', covariance_type='diag', covars_prior=0.01,\n",
       "    init_params='stmcw', n_components=7, n_iter=100, n_mix=5,\n",
       "    params='stmcw', random_state=None, startprob_prior=1.0, tol=0.01,\n",
       "    transmat_prior=1.0, verbose=True)"
      ]
     },
     "execution_count": 38,
     "metadata": {},
     "output_type": "execute_result"
    }
   ],
   "source": [
    "# Viterbi is set by default as the 'algorithm' optional parameter.\n",
    "model = hmm.GMMHMM(n_components=7, n_mix=5, verbose=True, n_iter=100)\n",
    "# model.gmms_[0].n_features = 2\n",
    "# model.n_features = 2\n",
    "model.fit(final, lengths=seq_lens)"
   ]
  },
  {
   "cell_type": "code",
   "execution_count": null,
   "metadata": {},
   "outputs": [],
   "source": [
    "\n"
   ]
  },
  {
   "cell_type": "code",
   "execution_count": null,
   "metadata": {
    "collapsed": true
   },
   "outputs": [],
   "source": [
    "state_sequence = model.predict(final, lengths=seq_lens)\n",
    "# # prob_next_step = model.transmat_[state_sequence[-1], :]"
   ]
  },
  {
   "cell_type": "code",
   "execution_count": null,
   "metadata": {},
   "outputs": [],
   "source": [
    "# state_sequence[:30]"
   ]
  },
  {
   "cell_type": "code",
   "execution_count": null,
   "metadata": {},
   "outputs": [],
   "source": [
    "# final_players[:30]"
   ]
  },
  {
   "cell_type": "code",
   "execution_count": 44,
   "metadata": {},
   "outputs": [
    {
     "data": {
      "text/plain": [
       "array([17.44944593, 25.34430563, 17.22798134, 26.43921712, 23.92706842,\n",
       "       18.42977138, 34.91346975, 35.5092225 , 23.83025012, 20.56930079,\n",
       "       20.59785506, 25.68101129])"
      ]
     },
     "execution_count": 44,
     "metadata": {},
     "output_type": "execute_result"
    }
   ],
   "source": [
    "gmms[n_state].means_[0]"
   ]
  },
  {
   "cell_type": "code",
   "execution_count": 49,
   "metadata": {},
   "outputs": [
    {
     "data": {
      "image/png": "[encoded data removed]",
      "text/plain": [
       "<Figure size 720x576 with 16 Axes>"
      ]
     },
     "metadata": {},
     "output_type": "display_data"
    }
   ],
   "source": [
    "def gaussian_superposition(means_arr, vars_arr, mix_p):\n",
    "    ''' means_arr: n_mix x feature_dim\n",
    "        vars_arr: n_mix x feature_dim\n",
    "    '''\n",
    "    #Create grid and multivariate normal\n",
    "    nx = 1000\n",
    "    ny = 500\n",
    "    x = np.linspace(0,94,nx)\n",
    "    y = np.linspace(0,50,ny)\n",
    "\n",
    "    X, Y = np.meshgrid(x,y)\n",
    "    pos = np.empty(X.shape + (2,))\n",
    "    pos[:, :, 0] = X; pos[:, :, 1] = Y\n",
    "    \n",
    "    def single_gaussian_(mu, var):\n",
    "        #Parameters to set\n",
    "        mu_x, mu_y = mu[0], mu[1]\n",
    "        var_x, var_y = var[0], var[1]\n",
    "        rv = multivariate_normal([mu_x, mu_y], [[var_x, 0], [0, var_y]])\n",
    "\n",
    "        return rv.pdf(pos)\n",
    "    n_mix = means_arr.shape[0]\n",
    "    sp = np.sum([single_gaussian_(means_arr[i], vars_arr[i])*mix_p[i] for i in range(n_mix)],axis=0)\n",
    "    return X, Y, sp, nx, ny\n",
    "\n",
    "def plot_3d_gaussian(X,Y,Z):\n",
    "    %matplotlib notebook\n",
    "    %matplotlib notebook\n",
    "    #Make a 3D plot\n",
    "    fig = plt.figure()\n",
    "    ax = fig.gca(projection='3d')\n",
    "    ax.plot_surface(X, Y, Z,cmap='viridis',linewidth=0)\n",
    "    ax.set_xlabel('X axis')\n",
    "    ax.set_ylabel('Y axis')\n",
    "    ax.set_zlabel('Z axis')\n",
    "    plt.show()\n",
    "\n",
    "    \n",
    "    \n",
    "# X, Y, Z, nx, ny = gaussian_superposition(gmms[0].means_, gmms[0].covars_, gmms[0].weights_)\n",
    "# df = pd.DataFrame(Z, index=range(ny), columns=range(nx))\n",
    "# sns.heatmap(df, xticklabels=False, yticklabels=False)#.set_title(str(n_state))\n",
    "    \n",
    "# plot all the 3ds\n",
    "gmms = model.gmms_\n",
    "nrows, ncols = 3,3\n",
    "fig, ax = plt.subplots(nrows=nrows, ncols=ncols, figsize=(10,8))\n",
    "n_state = 0\n",
    "for i in range(nrows):\n",
    "    for j in range(ncols):\n",
    "        if n_state > 6:\n",
    "            break\n",
    "        X, Y, Z, nx, ny = gaussian_superposition(gmms[n_state].means_, gmms[n_state].covars_, gmms[n_state].weights_)\n",
    "        df = pd.DataFrame(Z, index=range(ny), columns=range(nx))\n",
    "        sns.heatmap(df, ax=ax[i, j], xticklabels=False, yticklabels=False).set_title(str(n_state))\n",
    "        n_state += 1\n"
   ]
  },
  {
   "cell_type": "markdown",
   "metadata": {},
   "source": [
    "---"
   ]
  },
  {
   "cell_type": "markdown",
   "metadata": {},
   "source": [
    "### Next: try using the predefined position as indexing mechanism for the imitation learning"
   ]
  },
  {
   "cell_type": "markdown",
   "metadata": {},
   "source": [
    "Questions:\n",
    "\n",
    "  - Is the latent structure learning trained for each individual agent or their sequences are put together?"
   ]
  },
  {
   "cell_type": "code",
   "execution_count": null,
   "metadata": {
    "collapsed": true
   },
   "outputs": [],
   "source": []
  },
  {
   "cell_type": "code",
   "execution_count": null,
   "metadata": {
    "collapsed": true
   },
   "outputs": [],
   "source": []
  },
  {
   "cell_type": "code",
   "execution_count": null,
   "metadata": {
    "collapsed": true
   },
   "outputs": [],
   "source": []
  }
 ],
 "metadata": {
  "kernelspec": {
   "display_name": "Python 3",
   "language": "python",
   "name": "python3"
  },
  "language_info": {
   "codemirror_mode": {
    "name": "ipython",
    "version": 3
   },
   "file_extension": ".py",
   "mimetype": "text/x-python",
   "name": "python",
   "nbconvert_exporter": "python",
   "pygments_lexer": "ipython3",
   "version": "3.6.4"
  }
 },
 "nbformat": 4,
 "nbformat_minor": 2
}
