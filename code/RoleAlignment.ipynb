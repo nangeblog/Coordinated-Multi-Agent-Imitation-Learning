{
 "cells": [
  {
   "cell_type": "code",
   "execution_count": 1,
   "metadata": {},
   "outputs": [],
   "source": [
    "import pandas as pd\n",
    "import numpy as np\n",
    "import glob, os, sys\n",
    "from hmmlearn import hmm\n",
    "osp = sys.platform\n",
    "# import matplotlib.pyplot as plt\n",
    "# %matplotlib inline\n",
    "\n",
    "from utilities import PlotGame, LoadData, make_video\n",
    "from helpers import id_player, id_position, get_player_trajectory\n",
    "# ---------------------------------------------------------\n",
    "%load_ext autoreload\n",
    "%autoreload 2"
   ]
  },
  {
   "cell_type": "code",
   "execution_count": 2,
   "metadata": {
    "collapsed": true
   },
   "outputs": [],
   "source": [
    "gameid='0021500463'\n",
    "\n",
    "# directories\n",
    "# CHANGE HERE\n",
    "main_dir = '../'\n",
    "game_dir = main_dir+'data/'\n",
    "# court_path = data_dir + 'nba_court_T.png'\n",
    "\n",
    "Data = LoadData(main_dir, game_dir)\n",
    "data = Data.load_game(gameid)\n",
    "event_number, moment_number = 0, 0\n"
   ]
  },
  {
   "cell_type": "code",
   "execution_count": 3,
   "metadata": {},
   "outputs": [
    {
     "name": "stdout",
     "output_type": "stream",
     "text": [
      "150 (231, 8)\n"
     ]
    },
    {
     "data": {
      "text/html": [
       "<div>\n",
       "<style>\n",
       "    .dataframe thead tr:only-child th {\n",
       "        text-align: right;\n",
       "    }\n",
       "\n",
       "    .dataframe thead th {\n",
       "        text-align: left;\n",
       "    }\n",
       "\n",
       "    .dataframe tbody tr th {\n",
       "        vertical-align: top;\n",
       "    }\n",
       "</style>\n",
       "<table border=\"1\" class=\"dataframe\">\n",
       "  <thead>\n",
       "    <tr style=\"text-align: right;\">\n",
       "      <th></th>\n",
       "      <th>end_time_left</th>\n",
       "      <th>home</th>\n",
       "      <th>moments</th>\n",
       "      <th>orig_events</th>\n",
       "      <th>playbyplay</th>\n",
       "      <th>quarter</th>\n",
       "      <th>start_time_left</th>\n",
       "      <th>visitor</th>\n",
       "    </tr>\n",
       "  </thead>\n",
       "  <tbody>\n",
       "    <tr>\n",
       "      <th>0</th>\n",
       "      <td>702.31</td>\n",
       "      <td>{'abbreviation': 'CHI', 'players': [{'playerid...</td>\n",
       "      <td>[[1, 1451351428029, 708.28, 12.78, None, [[-1,...</td>\n",
       "      <td>[0]</td>\n",
       "      <td>GAME_ID  EVENTNUM  EVENTMSGTYPE  EVENTMS...</td>\n",
       "      <td>1</td>\n",
       "      <td>708.28</td>\n",
       "      <td>{'abbreviation': 'TOR', 'players': [{'playerid...</td>\n",
       "    </tr>\n",
       "    <tr>\n",
       "      <th>1</th>\n",
       "      <td>686.28</td>\n",
       "      <td>{'abbreviation': 'CHI', 'players': [{'playerid...</td>\n",
       "      <td>[[1, 1451351428029, 708.28, 12.78, None, [[-1,...</td>\n",
       "      <td>[1]</td>\n",
       "      <td>GAME_ID  EVENTNUM  EVENTMSGTYPE  EVENTMS...</td>\n",
       "      <td>1</td>\n",
       "      <td>708.28</td>\n",
       "      <td>{'abbreviation': 'TOR', 'players': [{'playerid...</td>\n",
       "    </tr>\n",
       "    <tr>\n",
       "      <th>2</th>\n",
       "      <td>668.42</td>\n",
       "      <td>{'abbreviation': 'CHI', 'players': [{'playerid...</td>\n",
       "      <td>[[1, 1451351444029, 692.25, 12.21, None, [[-1,...</td>\n",
       "      <td>[2, 3]</td>\n",
       "      <td>GAME_ID  EVENTNUM  EVENTMSGTYPE  EVENTMS...</td>\n",
       "      <td>1</td>\n",
       "      <td>692.25</td>\n",
       "      <td>{'abbreviation': 'TOR', 'players': [{'playerid...</td>\n",
       "    </tr>\n",
       "    <tr>\n",
       "      <th>3</th>\n",
       "      <td>665.71</td>\n",
       "      <td>{'abbreviation': 'CHI', 'players': [{'playerid...</td>\n",
       "      <td>[[1, 1451351463029, 673.22, 21.44, None, [[-1,...</td>\n",
       "      <td>[4, 5]</td>\n",
       "      <td>GAME_ID  EVENTNUM  EVENTMSGTYPE  EVENTMS...</td>\n",
       "      <td>1</td>\n",
       "      <td>673.22</td>\n",
       "      <td>{'abbreviation': 'TOR', 'players': [{'playerid...</td>\n",
       "    </tr>\n",
       "    <tr>\n",
       "      <th>4</th>\n",
       "      <td>646.64</td>\n",
       "      <td>{'abbreviation': 'CHI', 'players': [{'playerid...</td>\n",
       "      <td>[[1, 1451351473027, 668.0, 22.9, None, [[-1, -...</td>\n",
       "      <td>[6]</td>\n",
       "      <td>GAME_ID  EVENTNUM  EVENTMSGTYPE  EVENTMS...</td>\n",
       "      <td>1</td>\n",
       "      <td>668.00</td>\n",
       "      <td>{'abbreviation': 'TOR', 'players': [{'playerid...</td>\n",
       "    </tr>\n",
       "  </tbody>\n",
       "</table>\n",
       "</div>"
      ],
      "text/plain": [
       "   end_time_left                                               home  \\\n",
       "0         702.31  {'abbreviation': 'CHI', 'players': [{'playerid...   \n",
       "1         686.28  {'abbreviation': 'CHI', 'players': [{'playerid...   \n",
       "2         668.42  {'abbreviation': 'CHI', 'players': [{'playerid...   \n",
       "3         665.71  {'abbreviation': 'CHI', 'players': [{'playerid...   \n",
       "4         646.64  {'abbreviation': 'CHI', 'players': [{'playerid...   \n",
       "\n",
       "                                             moments orig_events  \\\n",
       "0  [[1, 1451351428029, 708.28, 12.78, None, [[-1,...         [0]   \n",
       "1  [[1, 1451351428029, 708.28, 12.78, None, [[-1,...         [1]   \n",
       "2  [[1, 1451351444029, 692.25, 12.21, None, [[-1,...      [2, 3]   \n",
       "3  [[1, 1451351463029, 673.22, 21.44, None, [[-1,...      [4, 5]   \n",
       "4  [[1, 1451351473027, 668.0, 22.9, None, [[-1, -...         [6]   \n",
       "\n",
       "                                          playbyplay  quarter  \\\n",
       "0        GAME_ID  EVENTNUM  EVENTMSGTYPE  EVENTMS...        1   \n",
       "1        GAME_ID  EVENTNUM  EVENTMSGTYPE  EVENTMS...        1   \n",
       "2        GAME_ID  EVENTNUM  EVENTMSGTYPE  EVENTMS...        1   \n",
       "3        GAME_ID  EVENTNUM  EVENTMSGTYPE  EVENTMS...        1   \n",
       "4        GAME_ID  EVENTNUM  EVENTMSGTYPE  EVENTMS...        1   \n",
       "\n",
       "   start_time_left                                            visitor  \n",
       "0           708.28  {'abbreviation': 'TOR', 'players': [{'playerid...  \n",
       "1           708.28  {'abbreviation': 'TOR', 'players': [{'playerid...  \n",
       "2           692.25  {'abbreviation': 'TOR', 'players': [{'playerid...  \n",
       "3           673.22  {'abbreviation': 'TOR', 'players': [{'playerid...  \n",
       "4           668.00  {'abbreviation': 'TOR', 'players': [{'playerid...  "
      ]
     },
     "execution_count": 3,
     "metadata": {},
     "output_type": "execute_result"
    }
   ],
   "source": [
    "# get events and number of events\n",
    "event_df = pd.DataFrame(data['events'])\n",
    "n_events = event_df.shape[0]\n",
    "# get numebr of moments\n",
    "moments = event_df.iloc[event_number,:]['moments']\n",
    "n_moments = len(moments)\n",
    "\n",
    "print(n_moments, event_df.shape)\n",
    "event_df.head()"
   ]
  },
  {
   "cell_type": "code",
   "execution_count": 4,
   "metadata": {},
   "outputs": [
    {
     "data": {
      "text/plain": [
       "dict_keys(['gamedate', 'gameid', 'events'])"
      ]
     },
     "execution_count": 4,
     "metadata": {},
     "output_type": "execute_result"
    }
   ],
   "source": [
    "data.keys()"
   ]
  },
  {
   "cell_type": "code",
   "execution_count": 5,
   "metadata": {},
   "outputs": [
    {
     "data": {
      "text/plain": [
       "end_time_left                                                 702.31\n",
       "home               {'abbreviation': 'CHI', 'players': [{'playerid...\n",
       "moments            [[1, 1451351428029, 708.28, 12.78, None, [[-1,...\n",
       "orig_events                                                      [0]\n",
       "playbyplay               GAME_ID  EVENTNUM  EVENTMSGTYPE  EVENTMS...\n",
       "quarter                                                            1\n",
       "start_time_left                                               708.28\n",
       "visitor            {'abbreviation': 'TOR', 'players': [{'playerid...\n",
       "Name: 0, dtype: object"
      ]
     },
     "execution_count": 5,
     "metadata": {},
     "output_type": "execute_result"
    }
   ],
   "source": [
    "event_df.loc[0,:]"
   ]
  },
  {
   "cell_type": "code",
   "execution_count": 6,
   "metadata": {},
   "outputs": [
    {
     "data": {
      "text/plain": [
       "[[-1, -1, 18.38063, 14.07976, 8.56325],\n",
       " [1610612741, 2200, 11.15334, 21.35529, 0.0],\n",
       " [1610612741, 201959, 16.79035, 20.55978, 0.0],\n",
       " [1610612741, 201565, 9.12233, 39.32051, 0.0],\n",
       " [1610612741, 202710, 21.15543, 32.71616, 0.0],\n",
       " [1610612741, 202703, 8.40459, 11.67492, 0.0],\n",
       " [1610612761, 2449, 24.18381, 44.21187, 0.0],\n",
       " [1610612761, 201960, 1.06327, 2.54971, 0.0],\n",
       " [1610612761, 200768, 7.28146, 48.40417, 0.0],\n",
       " [1610612761, 201942, 18.1243, 14.25539, 0.0],\n",
       " [1610612761, 202687, 10.82794, 26.70275, 0.0]]"
      ]
     },
     "execution_count": 6,
     "metadata": {},
     "output_type": "execute_result"
    }
   ],
   "source": [
    "event_df.loc[0,:]['moments'][0][5]"
   ]
  },
  {
   "cell_type": "code",
   "execution_count": 7,
   "metadata": {},
   "outputs": [
    {
     "data": {
      "text/plain": [
       "array([[ -1.00000000e+00,  -1.00000000e+00,   1.83806300e+01,\n",
       "          1.40797600e+01,   8.56325000e+00],\n",
       "       [  1.61061274e+09,   2.20000000e+03,   1.11533400e+01,\n",
       "          2.13552900e+01,   0.00000000e+00],\n",
       "       [  1.61061274e+09,   2.01959000e+05,   1.67903500e+01,\n",
       "          2.05597800e+01,   0.00000000e+00],\n",
       "       [  1.61061274e+09,   2.01565000e+05,   9.12233000e+00,\n",
       "          3.93205100e+01,   0.00000000e+00],\n",
       "       [  1.61061274e+09,   2.02710000e+05,   2.11554300e+01,\n",
       "          3.27161600e+01,   0.00000000e+00],\n",
       "       [  1.61061274e+09,   2.02703000e+05,   8.40459000e+00,\n",
       "          1.16749200e+01,   0.00000000e+00],\n",
       "       [  1.61061276e+09,   2.44900000e+03,   2.41838100e+01,\n",
       "          4.42118700e+01,   0.00000000e+00],\n",
       "       [  1.61061276e+09,   2.01960000e+05,   1.06327000e+00,\n",
       "          2.54971000e+00,   0.00000000e+00],\n",
       "       [  1.61061276e+09,   2.00768000e+05,   7.28146000e+00,\n",
       "          4.84041700e+01,   0.00000000e+00],\n",
       "       [  1.61061276e+09,   2.01942000e+05,   1.81243000e+01,\n",
       "          1.42553900e+01,   0.00000000e+00],\n",
       "       [  1.61061276e+09,   2.02687000e+05,   1.08279400e+01,\n",
       "          2.67027500e+01,   0.00000000e+00]])"
      ]
     },
     "execution_count": 7,
     "metadata": {},
     "output_type": "execute_result"
    }
   ],
   "source": [
    "np.array(event_df.loc[0,:]['moments'][0][5])"
   ]
  },
  {
   "cell_type": "code",
   "execution_count": 8,
   "metadata": {},
   "outputs": [
    {
     "data": {
      "text/html": [
       "<div>\n",
       "<style>\n",
       "    .dataframe thead tr:only-child th {\n",
       "        text-align: right;\n",
       "    }\n",
       "\n",
       "    .dataframe thead th {\n",
       "        text-align: left;\n",
       "    }\n",
       "\n",
       "    .dataframe tbody tr th {\n",
       "        vertical-align: top;\n",
       "    }\n",
       "</style>\n",
       "<table border=\"1\" class=\"dataframe\">\n",
       "  <thead>\n",
       "    <tr style=\"text-align: right;\">\n",
       "      <th></th>\n",
       "      <th>end_time_left</th>\n",
       "      <th>home</th>\n",
       "      <th>moments</th>\n",
       "      <th>orig_events</th>\n",
       "      <th>playbyplay</th>\n",
       "      <th>quarter</th>\n",
       "      <th>start_time_left</th>\n",
       "      <th>visitor</th>\n",
       "      <th>moments_length</th>\n",
       "    </tr>\n",
       "  </thead>\n",
       "  <tbody>\n",
       "    <tr>\n",
       "      <th>0</th>\n",
       "      <td>702.31</td>\n",
       "      <td>{'abbreviation': 'CHI', 'players': [{'playerid...</td>\n",
       "      <td>[[1, 1451351428029, 708.28, 12.78, None, [[-1,...</td>\n",
       "      <td>[0]</td>\n",
       "      <td>GAME_ID  EVENTNUM  EVENTMSGTYPE  EVENTMS...</td>\n",
       "      <td>1</td>\n",
       "      <td>708.28</td>\n",
       "      <td>{'abbreviation': 'TOR', 'players': [{'playerid...</td>\n",
       "      <td>150</td>\n",
       "    </tr>\n",
       "    <tr>\n",
       "      <th>1</th>\n",
       "      <td>686.28</td>\n",
       "      <td>{'abbreviation': 'CHI', 'players': [{'playerid...</td>\n",
       "      <td>[[1, 1451351428029, 708.28, 12.78, None, [[-1,...</td>\n",
       "      <td>[1]</td>\n",
       "      <td>GAME_ID  EVENTNUM  EVENTMSGTYPE  EVENTMS...</td>\n",
       "      <td>1</td>\n",
       "      <td>708.28</td>\n",
       "      <td>{'abbreviation': 'TOR', 'players': [{'playerid...</td>\n",
       "      <td>550</td>\n",
       "    </tr>\n",
       "  </tbody>\n",
       "</table>\n",
       "</div>"
      ],
      "text/plain": [
       "   end_time_left                                               home  \\\n",
       "0         702.31  {'abbreviation': 'CHI', 'players': [{'playerid...   \n",
       "1         686.28  {'abbreviation': 'CHI', 'players': [{'playerid...   \n",
       "\n",
       "                                             moments orig_events  \\\n",
       "0  [[1, 1451351428029, 708.28, 12.78, None, [[-1,...         [0]   \n",
       "1  [[1, 1451351428029, 708.28, 12.78, None, [[-1,...         [1]   \n",
       "\n",
       "                                          playbyplay  quarter  \\\n",
       "0        GAME_ID  EVENTNUM  EVENTMSGTYPE  EVENTMS...        1   \n",
       "1        GAME_ID  EVENTNUM  EVENTMSGTYPE  EVENTMS...        1   \n",
       "\n",
       "   start_time_left                                            visitor  \\\n",
       "0           708.28  {'abbreviation': 'TOR', 'players': [{'playerid...   \n",
       "1           708.28  {'abbreviation': 'TOR', 'players': [{'playerid...   \n",
       "\n",
       "   moments_length  \n",
       "0             150  \n",
       "1             550  "
      ]
     },
     "execution_count": 8,
     "metadata": {},
     "output_type": "execute_result"
    }
   ],
   "source": [
    "# loop through each events and grab the same id\n",
    "# first find the max moments\n",
    "event_df['moments_length'] = event_df['moments'].apply(lambda m: len(m))\n",
    "event_df.head(2)"
   ]
  },
  {
   "cell_type": "code",
   "execution_count": 9,
   "metadata": {
    "scrolled": true
   },
   "outputs": [
    {
     "data": {
      "text/plain": [
       "[{'firstname': 'Bobby',\n",
       "  'jersey': '5',\n",
       "  'lastname': 'Portis',\n",
       "  'playerid': 1626171,\n",
       "  'position': 'F'},\n",
       " {'firstname': 'Derrick',\n",
       "  'jersey': '1',\n",
       "  'lastname': 'Rose',\n",
       "  'playerid': 201565,\n",
       "  'position': 'G'},\n",
       " {'firstname': 'Cameron',\n",
       "  'jersey': '41',\n",
       "  'lastname': 'Bairstow',\n",
       "  'playerid': 203946,\n",
       "  'position': 'F-C'},\n",
       " {'firstname': 'Nikola',\n",
       "  'jersey': '44',\n",
       "  'lastname': 'Mirotic',\n",
       "  'playerid': 202703,\n",
       "  'position': 'F'},\n",
       " {'firstname': 'Jimmy',\n",
       "  'jersey': '21',\n",
       "  'lastname': 'Butler',\n",
       "  'playerid': 202710,\n",
       "  'position': 'G-F'},\n",
       " {'firstname': 'Taj',\n",
       "  'jersey': '22',\n",
       "  'lastname': 'Gibson',\n",
       "  'playerid': 201959,\n",
       "  'position': 'F'},\n",
       " {'firstname': \"E'Twaun\",\n",
       "  'jersey': '55',\n",
       "  'lastname': 'Moore',\n",
       "  'playerid': 202734,\n",
       "  'position': 'G'},\n",
       " {'firstname': 'Tony',\n",
       "  'jersey': '20',\n",
       "  'lastname': 'Snell',\n",
       "  'playerid': 203503,\n",
       "  'position': 'F'},\n",
       " {'firstname': 'Pau',\n",
       "  'jersey': '16',\n",
       "  'lastname': 'Gasol',\n",
       "  'playerid': 2200,\n",
       "  'position': 'C-F'},\n",
       " {'firstname': 'Kirk',\n",
       "  'jersey': '12',\n",
       "  'lastname': 'Hinrich',\n",
       "  'playerid': 2550,\n",
       "  'position': 'G'},\n",
       " {'firstname': 'Aaron',\n",
       "  'jersey': '0',\n",
       "  'lastname': 'Brooks',\n",
       "  'playerid': 201166,\n",
       "  'position': 'G'},\n",
       " {'firstname': 'Cristiano',\n",
       "  'jersey': '6',\n",
       "  'lastname': 'Felicio',\n",
       "  'playerid': 1626245,\n",
       "  'position': 'F-C'},\n",
       " {'firstname': 'Doug',\n",
       "  'jersey': '3',\n",
       "  'lastname': 'McDermott',\n",
       "  'playerid': 203926,\n",
       "  'position': 'F'}]"
      ]
     },
     "execution_count": 9,
     "metadata": {},
     "output_type": "execute_result"
    }
   ],
   "source": [
    "event_df.iloc[0, :].home['players']"
   ]
  },
  {
   "cell_type": "code",
   "execution_count": 10,
   "metadata": {},
   "outputs": [],
   "source": [
    "# get all the player_id and player_name mapping\n",
    "player_id_mapping = id_player(event_df)"
   ]
  },
  {
   "cell_type": "code",
   "execution_count": 11,
   "metadata": {},
   "outputs": [
    {
     "data": {
      "text/plain": [
       "{2200: 'Pau Gasol',\n",
       " 2449: 'Luis Scola',\n",
       " 2550: 'Kirk Hinrich',\n",
       " 200768: 'Kyle Lowry',\n",
       " 201166: 'Aaron Brooks',\n",
       " 201565: 'Derrick Rose',\n",
       " 201942: 'DeMar DeRozan',\n",
       " 201949: 'James Johnson',\n",
       " 201959: 'Taj Gibson',\n",
       " 201960: 'DeMarre Carroll',\n",
       " 202335: 'Patrick Patterson',\n",
       " 202685: 'Jonas Valanciunas',\n",
       " 202687: 'Bismack Biyombo',\n",
       " 202703: 'Nikola Mirotic',\n",
       " 202709: 'Cory Joseph',\n",
       " 202710: 'Jimmy Butler',\n",
       " 202734: \"E'Twaun Moore\",\n",
       " 203082: 'Terrence Ross',\n",
       " 203461: 'Anthony Bennett',\n",
       " 203503: 'Tony Snell',\n",
       " 203512: 'Lucas Nogueira',\n",
       " 203926: 'Doug McDermott',\n",
       " 203946: 'Cameron Bairstow',\n",
       " 1626153: 'Delon Wright',\n",
       " 1626171: 'Bobby Portis',\n",
       " 1626245: 'Cristiano Felicio'}"
      ]
     },
     "execution_count": 11,
     "metadata": {},
     "output_type": "execute_result"
    }
   ],
   "source": [
    "player_id_mapping"
   ]
  },
  {
   "cell_type": "code",
   "execution_count": 12,
   "metadata": {
    "collapsed": true
   },
   "outputs": [],
   "source": [
    "# get position mapping\n",
    "# get all the player_id and player_name mapping\n",
    "position_id_mapping = id_position(event_df)"
   ]
  },
  {
   "cell_type": "code",
   "execution_count": 13,
   "metadata": {},
   "outputs": [
    {
     "data": {
      "text/plain": [
       "{2200: ['C-F'],\n",
       " 2449: ['F'],\n",
       " 2550: ['G'],\n",
       " 200768: ['G'],\n",
       " 201166: ['G'],\n",
       " 201565: ['G'],\n",
       " 201942: ['G'],\n",
       " 201949: ['F'],\n",
       " 201959: ['F'],\n",
       " 201960: ['F'],\n",
       " 202335: ['F'],\n",
       " 202685: ['C'],\n",
       " 202687: ['C-F'],\n",
       " 202703: ['F'],\n",
       " 202709: ['G'],\n",
       " 202710: ['G-F'],\n",
       " 202734: ['G'],\n",
       " 203082: ['F-G'],\n",
       " 203461: ['F'],\n",
       " 203503: ['F'],\n",
       " 203512: ['C'],\n",
       " 203926: ['F'],\n",
       " 203946: ['F-C'],\n",
       " 1626153: ['G'],\n",
       " 1626171: ['F'],\n",
       " 1626245: ['F-C']}"
      ]
     },
     "execution_count": 13,
     "metadata": {},
     "output_type": "execute_result"
    }
   ],
   "source": [
    "position_id_mapping"
   ]
  },
  {
   "cell_type": "code",
   "execution_count": 14,
   "metadata": {},
   "outputs": [
    {
     "data": {
      "text/plain": [
       "{'C', 'C-F', 'F', 'F-C', 'F-G', 'G', 'G-F'}"
      ]
     },
     "execution_count": 14,
     "metadata": {},
     "output_type": "execute_result"
    }
   ],
   "source": [
    "set(np.concatenate(list(position_id_mapping.values())))"
   ]
  },
  {
   "cell_type": "code",
   "execution_count": 15,
   "metadata": {},
   "outputs": [
    {
     "data": {
      "text/html": [
       "<div>\n",
       "<style>\n",
       "    .dataframe thead tr:only-child th {\n",
       "        text-align: right;\n",
       "    }\n",
       "\n",
       "    .dataframe thead th {\n",
       "        text-align: left;\n",
       "    }\n",
       "\n",
       "    .dataframe tbody tr th {\n",
       "        vertical-align: top;\n",
       "    }\n",
       "</style>\n",
       "<table border=\"1\" class=\"dataframe\">\n",
       "  <thead>\n",
       "    <tr style=\"text-align: right;\">\n",
       "      <th></th>\n",
       "      <th>end_time_left</th>\n",
       "      <th>home</th>\n",
       "      <th>moments</th>\n",
       "      <th>orig_events</th>\n",
       "      <th>playbyplay</th>\n",
       "      <th>quarter</th>\n",
       "      <th>start_time_left</th>\n",
       "      <th>visitor</th>\n",
       "      <th>moments_length</th>\n",
       "      <th>players_id</th>\n",
       "    </tr>\n",
       "  </thead>\n",
       "  <tbody>\n",
       "    <tr>\n",
       "      <th>0</th>\n",
       "      <td>702.31</td>\n",
       "      <td>{'abbreviation': 'CHI', 'players': [{'playerid...</td>\n",
       "      <td>[[1, 1451351428029, 708.28, 12.78, None, [[-1,...</td>\n",
       "      <td>[0]</td>\n",
       "      <td>GAME_ID  EVENTNUM  EVENTMSGTYPE  EVENTMS...</td>\n",
       "      <td>1</td>\n",
       "      <td>708.28</td>\n",
       "      <td>{'abbreviation': 'TOR', 'players': [{'playerid...</td>\n",
       "      <td>150</td>\n",
       "      <td>[200768, 201959, 201960, 202703, 2449, 202710,...</td>\n",
       "    </tr>\n",
       "    <tr>\n",
       "      <th>1</th>\n",
       "      <td>686.28</td>\n",
       "      <td>{'abbreviation': 'CHI', 'players': [{'playerid...</td>\n",
       "      <td>[[1, 1451351428029, 708.28, 12.78, None, [[-1,...</td>\n",
       "      <td>[1]</td>\n",
       "      <td>GAME_ID  EVENTNUM  EVENTMSGTYPE  EVENTMS...</td>\n",
       "      <td>1</td>\n",
       "      <td>708.28</td>\n",
       "      <td>{'abbreviation': 'TOR', 'players': [{'playerid...</td>\n",
       "      <td>550</td>\n",
       "      <td>[200768, 201959, 201960, 202703, 2449, 202710,...</td>\n",
       "    </tr>\n",
       "    <tr>\n",
       "      <th>2</th>\n",
       "      <td>668.42</td>\n",
       "      <td>{'abbreviation': 'CHI', 'players': [{'playerid...</td>\n",
       "      <td>[[1, 1451351444029, 692.25, 12.21, None, [[-1,...</td>\n",
       "      <td>[2, 3]</td>\n",
       "      <td>GAME_ID  EVENTNUM  EVENTMSGTYPE  EVENTMS...</td>\n",
       "      <td>1</td>\n",
       "      <td>692.25</td>\n",
       "      <td>{'abbreviation': 'TOR', 'players': [{'playerid...</td>\n",
       "      <td>596</td>\n",
       "      <td>[200768, 201959, 201960, 202703, 2449, 202710,...</td>\n",
       "    </tr>\n",
       "    <tr>\n",
       "      <th>3</th>\n",
       "      <td>665.71</td>\n",
       "      <td>{'abbreviation': 'CHI', 'players': [{'playerid...</td>\n",
       "      <td>[[1, 1451351463029, 673.22, 21.44, None, [[-1,...</td>\n",
       "      <td>[4, 5]</td>\n",
       "      <td>GAME_ID  EVENTNUM  EVENTMSGTYPE  EVENTMS...</td>\n",
       "      <td>1</td>\n",
       "      <td>673.22</td>\n",
       "      <td>{'abbreviation': 'TOR', 'players': [{'playerid...</td>\n",
       "      <td>314</td>\n",
       "      <td>[200768, 201959, 201960, 202703, 2449, 202710,...</td>\n",
       "    </tr>\n",
       "    <tr>\n",
       "      <th>4</th>\n",
       "      <td>646.64</td>\n",
       "      <td>{'abbreviation': 'CHI', 'players': [{'playerid...</td>\n",
       "      <td>[[1, 1451351473027, 668.0, 22.9, None, [[-1, -...</td>\n",
       "      <td>[6]</td>\n",
       "      <td>GAME_ID  EVENTNUM  EVENTMSGTYPE  EVENTMS...</td>\n",
       "      <td>1</td>\n",
       "      <td>668.00</td>\n",
       "      <td>{'abbreviation': 'TOR', 'players': [{'playerid...</td>\n",
       "      <td>627</td>\n",
       "      <td>[200768, 201959, 201960, 202703, 2449, 202710,...</td>\n",
       "    </tr>\n",
       "  </tbody>\n",
       "</table>\n",
       "</div>"
      ],
      "text/plain": [
       "   end_time_left                                               home  \\\n",
       "0         702.31  {'abbreviation': 'CHI', 'players': [{'playerid...   \n",
       "1         686.28  {'abbreviation': 'CHI', 'players': [{'playerid...   \n",
       "2         668.42  {'abbreviation': 'CHI', 'players': [{'playerid...   \n",
       "3         665.71  {'abbreviation': 'CHI', 'players': [{'playerid...   \n",
       "4         646.64  {'abbreviation': 'CHI', 'players': [{'playerid...   \n",
       "\n",
       "                                             moments orig_events  \\\n",
       "0  [[1, 1451351428029, 708.28, 12.78, None, [[-1,...         [0]   \n",
       "1  [[1, 1451351428029, 708.28, 12.78, None, [[-1,...         [1]   \n",
       "2  [[1, 1451351444029, 692.25, 12.21, None, [[-1,...      [2, 3]   \n",
       "3  [[1, 1451351463029, 673.22, 21.44, None, [[-1,...      [4, 5]   \n",
       "4  [[1, 1451351473027, 668.0, 22.9, None, [[-1, -...         [6]   \n",
       "\n",
       "                                          playbyplay  quarter  \\\n",
       "0        GAME_ID  EVENTNUM  EVENTMSGTYPE  EVENTMS...        1   \n",
       "1        GAME_ID  EVENTNUM  EVENTMSGTYPE  EVENTMS...        1   \n",
       "2        GAME_ID  EVENTNUM  EVENTMSGTYPE  EVENTMS...        1   \n",
       "3        GAME_ID  EVENTNUM  EVENTMSGTYPE  EVENTMS...        1   \n",
       "4        GAME_ID  EVENTNUM  EVENTMSGTYPE  EVENTMS...        1   \n",
       "\n",
       "   start_time_left                                            visitor  \\\n",
       "0           708.28  {'abbreviation': 'TOR', 'players': [{'playerid...   \n",
       "1           708.28  {'abbreviation': 'TOR', 'players': [{'playerid...   \n",
       "2           692.25  {'abbreviation': 'TOR', 'players': [{'playerid...   \n",
       "3           673.22  {'abbreviation': 'TOR', 'players': [{'playerid...   \n",
       "4           668.00  {'abbreviation': 'TOR', 'players': [{'playerid...   \n",
       "\n",
       "   moments_length                                         players_id  \n",
       "0             150  [200768, 201959, 201960, 202703, 2449, 202710,...  \n",
       "1             550  [200768, 201959, 201960, 202703, 2449, 202710,...  \n",
       "2             596  [200768, 201959, 201960, 202703, 2449, 202710,...  \n",
       "3             314  [200768, 201959, 201960, 202703, 2449, 202710,...  \n",
       "4             627  [200768, 201959, 201960, 202703, 2449, 202710,...  "
      ]
     },
     "execution_count": 15,
     "metadata": {},
     "output_type": "execute_result"
    }
   ],
   "source": [
    "# first unique player ids for each event\n",
    "def get_player_id(moments):\n",
    "    return list(set([i[1] for m in moments for i in m[5]]))\n",
    "event_df['players_id'] = event_df['moments'].apply(get_player_id)\n",
    "# also obtain all the ids\n",
    "all_ids = list(set([j for i in event_df['players_id'].values for j in i]))\n",
    "# remove the -1 in player id\n",
    "all_ids = [i for i in all_ids if i >= 0]\n",
    "event_df.head()"
   ]
  },
  {
   "cell_type": "code",
   "execution_count": null,
   "metadata": {},
   "outputs": [],
   "source": [
    "all_ids"
   ]
  },
  {
   "cell_type": "code",
   "execution_count": null,
   "metadata": {},
   "outputs": [],
   "source": [
    "# first get the trajectory of a single player\n",
    "pid = 2200\n",
    "    \n",
    "pid_track = pd.DataFrame(event_df['moments'].apply(lambda m: get_player_trajectory(m, pid)))\n",
    "pid_track = pid_track[pid_track.moments.apply(lambda m: len(m) != 0)]\n",
    "pid_track.reset_index(inplace=True, drop=True)\n",
    "pid_track['length'] = pid_track.moments.apply(lambda m: len(m))"
   ]
  },
  {
   "cell_type": "code",
   "execution_count": null,
   "metadata": {},
   "outputs": [],
   "source": [
    "pid_track.shape"
   ]
  },
  {
   "cell_type": "code",
   "execution_count": null,
   "metadata": {},
   "outputs": [],
   "source": [
    "pid_track.head()"
   ]
  },
  {
   "cell_type": "code",
   "execution_count": null,
   "metadata": {},
   "outputs": [],
   "source": [
    "pid_track.moments.values.shape"
   ]
  },
  {
   "cell_type": "code",
   "execution_count": null,
   "metadata": {},
   "outputs": [],
   "source": [
    "train = np.array([j for i in pid_track.moments.values for j in i])\n",
    "train.shape"
   ]
  },
  {
   "cell_type": "code",
   "execution_count": null,
   "metadata": {
    "collapsed": true
   },
   "outputs": [],
   "source": [
    "length = pid_track.length.values"
   ]
  },
  {
   "cell_type": "code",
   "execution_count": null,
   "metadata": {
    "scrolled": true
   },
   "outputs": [],
   "source": [
    "\n",
    "# Viterbi is set by default as the 'algorithm' optional parameter.\n",
    "model = hmm.GMMHMM(n_components=5, n_mix=5)#, covariance_type=\"diag\", n_iter=100) \n",
    "model.fit(train, lengths=length)"
   ]
  },
  {
   "cell_type": "code",
   "execution_count": null,
   "metadata": {},
   "outputs": [],
   "source": [
    "state_sequence = model.predict(train, lengths=length)\n",
    "# prob_next_step = model.transmat_[state_sequence[-1], :]"
   ]
  },
  {
   "cell_type": "code",
   "execution_count": null,
   "metadata": {},
   "outputs": [],
   "source": [
    "prob_next_step*100"
   ]
  },
  {
   "cell_type": "code",
   "execution_count": null,
   "metadata": {},
   "outputs": [],
   "source": [
    "state_sequence.shape"
   ]
  },
  {
   "cell_type": "code",
   "execution_count": null,
   "metadata": {},
   "outputs": [],
   "source": [
    "state_sequence[:150]"
   ]
  },
  {
   "cell_type": "code",
   "execution_count": null,
   "metadata": {
    "collapsed": true
   },
   "outputs": [],
   "source": []
  },
  {
   "cell_type": "code",
   "execution_count": null,
   "metadata": {
    "collapsed": true
   },
   "outputs": [],
   "source": []
  },
  {
   "cell_type": "code",
   "execution_count": null,
   "metadata": {
    "collapsed": true
   },
   "outputs": [],
   "source": []
  },
  {
   "cell_type": "code",
   "execution_count": null,
   "metadata": {
    "collapsed": true
   },
   "outputs": [],
   "source": []
  },
  {
   "cell_type": "code",
   "execution_count": null,
   "metadata": {
    "collapsed": true
   },
   "outputs": [],
   "source": []
  },
  {
   "cell_type": "code",
   "execution_count": null,
   "metadata": {
    "collapsed": true
   },
   "outputs": [],
   "source": []
  },
  {
   "cell_type": "code",
   "execution_count": null,
   "metadata": {
    "collapsed": true
   },
   "outputs": [],
   "source": []
  },
  {
   "cell_type": "code",
   "execution_count": null,
   "metadata": {
    "collapsed": true
   },
   "outputs": [],
   "source": []
  },
  {
   "cell_type": "code",
   "execution_count": null,
   "metadata": {
    "collapsed": true
   },
   "outputs": [],
   "source": []
  },
  {
   "cell_type": "code",
   "execution_count": null,
   "metadata": {
    "collapsed": true
   },
   "outputs": [],
   "source": []
  },
  {
   "cell_type": "code",
   "execution_count": null,
   "metadata": {
    "collapsed": true
   },
   "outputs": [],
   "source": []
  },
  {
   "cell_type": "code",
   "execution_count": null,
   "metadata": {
    "collapsed": true
   },
   "outputs": [],
   "source": []
  },
  {
   "cell_type": "code",
   "execution_count": null,
   "metadata": {
    "collapsed": true
   },
   "outputs": [],
   "source": []
  },
  {
   "cell_type": "markdown",
   "metadata": {},
   "source": [
    "---"
   ]
  },
  {
   "cell_type": "markdown",
   "metadata": {},
   "source": [
    "### Next: try using the predefined position as indexing mechanism for the imitation learning"
   ]
  },
  {
   "cell_type": "markdown",
   "metadata": {},
   "source": [
    "Questions:\n",
    "\n",
    "  - Is the latent structure learning trained for each individual agent or their sequences are put together?"
   ]
  }
 ],
 "metadata": {
  "kernelspec": {
   "display_name": "Python 3",
   "language": "python",
   "name": "python3"
  },
  "language_info": {
   "codemirror_mode": {
    "name": "ipython",
    "version": 3
   },
   "file_extension": ".py",
   "mimetype": "text/x-python",
   "name": "python",
   "nbconvert_exporter": "python",
   "pygments_lexer": "ipython3",
   "version": "3.6.4"
  }
 },
 "nbformat": 4,
 "nbformat_minor": 2
}
