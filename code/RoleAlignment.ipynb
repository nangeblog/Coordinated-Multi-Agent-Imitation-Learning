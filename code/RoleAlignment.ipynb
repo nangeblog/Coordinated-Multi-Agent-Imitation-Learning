{
 "cells": [
  {
   "cell_type": "code",
   "execution_count": 25,
   "metadata": {},
   "outputs": [
    {
     "name": "stdout",
     "output_type": "stream",
     "text": [
      "The autoreload extension is already loaded. To reload it, use:\n",
      "  %reload_ext autoreload\n"
     ]
    }
   ],
   "source": [
    "import pandas as pd\n",
    "import numpy as np\n",
    "import matplotlib.pyplot as plt\n",
    "import seaborn as sns\n",
    "import glob, os, sys\n",
    "from scipy.stats import multivariate_normal\n",
    "from mpl_toolkits.mplot3d import Axes3D\n",
    "\n",
    "from hmmlearn import hmm\n",
    "osp = sys.platform\n",
    "\n",
    "from utilities import *\n",
    "from helpers import *\n",
    "# ---------------------------------------------------------\n",
    "%matplotlib inline\n",
    "%load_ext autoreload\n",
    "%autoreload 2\n",
    "import warnings\n",
    "warnings.filterwarnings('ignore')\n",
    "# warnings.filterwarnings(action='once')\n",
    "# ---------------------------------------------------------\n",
    "# directories\n",
    "main_dir = '../'\n",
    "game_dir = main_dir+'data/'\n",
    "Data = LoadData(main_dir, game_dir)"
   ]
  },
  {
   "cell_type": "code",
   "execution_count": 2,
   "metadata": {},
   "outputs": [
    {
     "name": "stdout",
     "output_type": "stream",
     "text": [
      "raw events shape: (231, 8)\n"
     ]
    },
    {
     "data": {
      "text/html": [
       "<div>\n",
       "<style scoped>\n",
       "    .dataframe tbody tr th:only-of-type {\n",
       "        vertical-align: middle;\n",
       "    }\n",
       "\n",
       "    .dataframe tbody tr th {\n",
       "        vertical-align: top;\n",
       "    }\n",
       "\n",
       "    .dataframe thead th {\n",
       "        text-align: right;\n",
       "    }\n",
       "</style>\n",
       "<table border=\"1\" class=\"dataframe\">\n",
       "  <thead>\n",
       "    <tr style=\"text-align: right;\">\n",
       "      <th></th>\n",
       "      <th>end_time_left</th>\n",
       "      <th>home</th>\n",
       "      <th>moments</th>\n",
       "      <th>orig_events</th>\n",
       "      <th>playbyplay</th>\n",
       "      <th>quarter</th>\n",
       "      <th>start_time_left</th>\n",
       "      <th>visitor</th>\n",
       "    </tr>\n",
       "  </thead>\n",
       "  <tbody>\n",
       "    <tr>\n",
       "      <th>0</th>\n",
       "      <td>702.31</td>\n",
       "      <td>{'abbreviation': 'CHI', 'players': [{'playerid...</td>\n",
       "      <td>[[1, 1451351428029, 708.28, 12.78, None, [[-1,...</td>\n",
       "      <td>[0]</td>\n",
       "      <td>GAME_ID  EVENTNUM  EVENTMSGTYPE  EVENTMS...</td>\n",
       "      <td>1</td>\n",
       "      <td>708.28</td>\n",
       "      <td>{'abbreviation': 'TOR', 'players': [{'playerid...</td>\n",
       "    </tr>\n",
       "    <tr>\n",
       "      <th>1</th>\n",
       "      <td>686.28</td>\n",
       "      <td>{'abbreviation': 'CHI', 'players': [{'playerid...</td>\n",
       "      <td>[[1, 1451351428029, 708.28, 12.78, None, [[-1,...</td>\n",
       "      <td>[1]</td>\n",
       "      <td>GAME_ID  EVENTNUM  EVENTMSGTYPE  EVENTMS...</td>\n",
       "      <td>1</td>\n",
       "      <td>708.28</td>\n",
       "      <td>{'abbreviation': 'TOR', 'players': [{'playerid...</td>\n",
       "    </tr>\n",
       "    <tr>\n",
       "      <th>2</th>\n",
       "      <td>668.42</td>\n",
       "      <td>{'abbreviation': 'CHI', 'players': [{'playerid...</td>\n",
       "      <td>[[1, 1451351444029, 692.25, 12.21, None, [[-1,...</td>\n",
       "      <td>[2, 3]</td>\n",
       "      <td>GAME_ID  EVENTNUM  EVENTMSGTYPE  EVENTMS...</td>\n",
       "      <td>1</td>\n",
       "      <td>692.25</td>\n",
       "      <td>{'abbreviation': 'TOR', 'players': [{'playerid...</td>\n",
       "    </tr>\n",
       "  </tbody>\n",
       "</table>\n",
       "</div>"
      ],
      "text/plain": [
       "   end_time_left                                               home  \\\n",
       "0         702.31  {'abbreviation': 'CHI', 'players': [{'playerid...   \n",
       "1         686.28  {'abbreviation': 'CHI', 'players': [{'playerid...   \n",
       "2         668.42  {'abbreviation': 'CHI', 'players': [{'playerid...   \n",
       "\n",
       "                                             moments orig_events  \\\n",
       "0  [[1, 1451351428029, 708.28, 12.78, None, [[-1,...         [0]   \n",
       "1  [[1, 1451351428029, 708.28, 12.78, None, [[-1,...         [1]   \n",
       "2  [[1, 1451351444029, 692.25, 12.21, None, [[-1,...      [2, 3]   \n",
       "\n",
       "                                          playbyplay  quarter  \\\n",
       "0        GAME_ID  EVENTNUM  EVENTMSGTYPE  EVENTMS...        1   \n",
       "1        GAME_ID  EVENTNUM  EVENTMSGTYPE  EVENTMS...        1   \n",
       "2        GAME_ID  EVENTNUM  EVENTMSGTYPE  EVENTMS...        1   \n",
       "\n",
       "   start_time_left                                            visitor  \n",
       "0           708.28  {'abbreviation': 'TOR', 'players': [{'playerid...  \n",
       "1           708.28  {'abbreviation': 'TOR', 'players': [{'playerid...  \n",
       "2           692.25  {'abbreviation': 'TOR', 'players': [{'playerid...  "
      ]
     },
     "execution_count": 2,
     "metadata": {},
     "output_type": "execute_result"
    }
   ],
   "source": [
    "# %%time\n",
    "game_id = '0021500463'\n",
    "game_data = Data.load_game(game_id)\n",
    "events_df = pd.DataFrame(game_data['events'])\n",
    "print('raw events shape:', events_df.shape)\n",
    "events_df.head(3)"
   ]
  },
  {
   "cell_type": "code",
   "execution_count": 3,
   "metadata": {
    "collapsed": true
   },
   "outputs": [],
   "source": [
    "# get events and number of events\n",
    "# events_df = pd.DataFrame(data['events'])\n",
    "# n_events = events_df.shape[0]\n",
    "# # get numebr of moments\n",
    "# moments = events_df.iloc[event_number,:]['moments']\n",
    "# n_moments = len(moments)\n",
    "\n",
    "# print(n_moments, event_df.shape)\n",
    "# event_df.head()"
   ]
  },
  {
   "cell_type": "code",
   "execution_count": 4,
   "metadata": {
    "collapsed": true
   },
   "outputs": [],
   "source": [
    "# # get all the player_id and player_name mapping\n",
    "# player_id_mapping = id_player(event_df)"
   ]
  },
  {
   "cell_type": "code",
   "execution_count": 5,
   "metadata": {},
   "outputs": [],
   "source": [
    "# get position mapping\n",
    "# get all the player_id and player_name mapping\n",
    "id_position_mapping = id_position(events_df)"
   ]
  },
  {
   "cell_type": "code",
   "execution_count": 6,
   "metadata": {
    "collapsed": true
   },
   "outputs": [],
   "source": [
    "# set(np.concatenate(list(position_id_mapping.values())))"
   ]
  },
  {
   "cell_type": "code",
   "execution_count": 7,
   "metadata": {
    "collapsed": true
   },
   "outputs": [],
   "source": [
    "# play id to play roles/positions\n",
    "id_role = id_position(events_df)\n",
    "check_game_roles_duplicates(id_role)\n",
    "\n",
    "# we will use this fixed order as the role order\n",
    "roles = ['F', 'G', 'C-F', 'G-F', 'F-G', 'C', 'F-C']\n",
    "role_order = {'F': 0, 'G':4, 'C-F':1, 'G-F':3, 'F-G':3, 'C':2, 'F-C':1}\n",
    "\n",
    "# its possible that F has similar role as G-f or F-G, we create empty slots to ensure meta order\n",
    "# ddentify defending and offending runs (this is included in process_moments)\n",
    "court_index = Data.load_csv('./meta_data/court_index.csv')\n",
    "court_index = dict(zip(court_index.game_id, court_index.court_position))\n",
    "\n",
    "# home and visitor ids\n",
    "homeid = events_df.loc[0].home['teamid']\n",
    "awayid = events_df.loc[0].visitor['teamid']"
   ]
  },
  {
   "cell_type": "markdown",
   "metadata": {},
   "source": [
    "#### Pre-process \n",
    "filter events, subsample frames, add velocity, reorder moments, re-arrange team order\n",
    "shot clock, filter out event with short moments"
   ]
  },
  {
   "cell_type": "code",
   "execution_count": 8,
   "metadata": {},
   "outputs": [
    {
     "name": "stdout",
     "output_type": "stream",
     "text": [
      "After filtering events has shape: (134, 8)\n",
      "Final number of events: 165\n"
     ]
    }
   ],
   "source": [
    "# filter out actions except 1: Make, 2: Miss, 4: Rebound, 6:Personal Foul, 7:Violation\n",
    "use_event = [1, 2, 4, 6, 7]\n",
    "discard_event = [3, 5, 8, 9, 10, 12, 13, 18]\n",
    "events = filter_event_type(events_df, discard_event)\n",
    "print('After filtering events has shape:', events.shape)\n",
    "# break up sequences at 24secs shot clock point (or irregular case, e.g. out of bound maybe),\n",
    "# and obtain the game data\n",
    "subsample_factor = 0\n",
    "single_game = get_game_data_ra(events, court_index, game_id, event_threshold=10, subsample_factor=subsample_factor)\n",
    "print('Final number of events:', len(single_game))"
   ]
  },
  {
   "cell_type": "code",
   "execution_count": 9,
   "metadata": {},
   "outputs": [
    {
     "data": {
      "text/plain": [
       "(38, 30)"
      ]
     },
     "execution_count": 9,
     "metadata": {},
     "output_type": "execute_result"
    }
   ],
   "source": [
    "single_game[0].shape"
   ]
  },
  {
   "cell_type": "code",
   "execution_count": 10,
   "metadata": {},
   "outputs": [],
   "source": [
    "# create data s.t. its for all players        \n",
    "seq_lens = np.array([len(i) for i in single_game])\n",
    "train = np.concatenate(single_game, axis=0)"
   ]
  },
  {
   "cell_type": "code",
   "execution_count": 11,
   "metadata": {},
   "outputs": [
    {
     "data": {
      "text/plain": [
       "(38, 30)"
      ]
     },
     "execution_count": 11,
     "metadata": {},
     "output_type": "execute_result"
    }
   ],
   "source": [
    "single_game[0].shape"
   ]
  },
  {
   "cell_type": "code",
   "execution_count": 12,
   "metadata": {},
   "outputs": [
    {
     "data": {
      "text/plain": [
       "(21119, 30)"
      ]
     },
     "execution_count": 12,
     "metadata": {},
     "output_type": "execute_result"
    }
   ],
   "source": [
    "train.shape"
   ]
  },
  {
   "cell_type": "code",
   "execution_count": 13,
   "metadata": {},
   "outputs": [],
   "source": [
    "final = []\n",
    "final_players = []\n",
    "for i in range(0, train.shape[1], 3):\n",
    "    final.append(train[:,i+1:i+3])\n",
    "    final_players.append(train[:, i])\n",
    "    \n",
    "final = np.concatenate(final, axis=0)\n",
    "seq_lens = np.concatenate([seq_lens for _ in range(10)], axis=0)\n",
    "final_players = np.concatenate(final_players)"
   ]
  },
  {
   "cell_type": "code",
   "execution_count": 14,
   "metadata": {
    "scrolled": true
   },
   "outputs": [
    {
     "name": "stderr",
     "output_type": "stream",
     "text": [
      "         1    -1639835.3779             +nan\n",
      "         2    -1597447.7205      +42387.6574\n",
      "         3    -1594726.4223       +2721.2982\n",
      "         4    -1592822.0074       +1904.4149\n",
      "         5    -1591273.9547       +1548.0527\n",
      "         6    -1589987.2488       +1286.7059\n",
      "         7    -1588909.1522       +1078.0965\n",
      "         8    -1588001.6915        +907.4607\n",
      "         9    -1587234.5044        +767.1870\n",
      "        10    -1586581.3511        +653.1534\n",
      "        11    -1586019.1908        +562.1602\n",
      "        12    -1585529.7426        +489.4483\n",
      "        13    -1585101.0742        +428.6683\n",
      "        14    -1584726.7466        +374.3276\n",
      "        15    -1584402.9618        +323.7849\n",
      "        16    -1584125.8132        +277.1486\n",
      "        17    -1583890.0539        +235.7593\n",
      "        18    -1583689.3525        +200.7014\n",
      "        19    -1583517.1914        +172.1611\n",
      "        20    -1583367.6533        +149.5381\n",
      "        21    -1583235.8130        +131.8403\n",
      "        22    -1583117.7910        +118.0219\n",
      "        23    -1583010.6225        +107.1685\n",
      "        24    -1582912.0619         +98.5606\n",
      "        25    -1582820.3902         +91.6718\n",
      "        26    -1582734.2499         +86.1403\n",
      "        27    -1582652.5139         +81.7360\n",
      "        28    -1582574.1840         +78.3299\n",
      "        29    -1582498.3141         +75.8700\n",
      "        30    -1582423.9512         +74.3629\n",
      "        31    -1582350.0876         +73.8636\n",
      "        32    -1582275.6158         +74.4717\n",
      "        33    -1582199.2771         +76.3387\n",
      "        34    -1582119.5876         +79.6895\n",
      "        35    -1582034.7183         +84.8693\n",
      "        36    -1581942.2833         +92.4350\n",
      "        37    -1581838.9509        +103.3324\n",
      "        38    -1581719.7041        +119.2468\n",
      "        39    -1581576.3688        +143.3352\n",
      "        40    -1581394.5175        +181.8513\n",
      "        41    -1581146.4841        +248.0334\n",
      "        42    -1580774.2916        +372.1925\n",
      "        43    -1580144.2328        +630.0588\n",
      "        44    -1578916.9675       +1227.2654\n",
      "        45    -1576168.3660       +2748.6015\n",
      "        46    -1569404.1209       +6764.2451\n",
      "        47    -1553144.1299      +16259.9909\n",
      "        48    -1522948.7599      +30195.3701\n",
      "        49    -1490120.9745      +32827.7853\n",
      "        50    -1466534.4647      +23586.5098\n",
      "        51    -1439274.2057      +27260.2591\n",
      "        52    -1403576.1329      +35698.0728\n",
      "        53    -1378915.0337      +24661.0992\n",
      "        54    -1354752.3955      +24162.6382\n",
      "        55    -1333468.0305      +21284.3650\n",
      "        56    -1305637.6321      +27830.3984\n",
      "        57    -1272612.5373      +33025.0948\n",
      "        58    -1257421.8585      +15190.6788\n",
      "        59    -1253219.4216       +4202.4368\n",
      "        60    -1250287.1653       +2932.2564\n",
      "        61    -1248009.5163       +2277.6490\n",
      "        62    -1246053.7614       +1955.7548\n",
      "        63    -1243973.0054       +2080.7560\n",
      "        64    -1241698.0875       +2274.9179\n",
      "        65    -1239319.1601       +2378.9274\n",
      "        66    -1236255.5162       +3063.6439\n",
      "        67    -1233385.5312       +2869.9850\n",
      "        68    -1230792.4364       +2593.0948\n",
      "        69    -1229023.7629       +1768.6735\n",
      "        70    -1227793.7257       +1230.0372\n",
      "        71    -1226806.3763        +987.3495\n",
      "        72    -1226083.5788        +722.7975\n",
      "        73    -1225568.2857        +515.2931\n",
      "        74    -1225166.7541        +401.5316\n",
      "        75    -1224782.8004        +383.9537\n",
      "        76    -1224536.6058        +246.1946\n",
      "        77    -1224324.7676        +211.8382\n",
      "        78    -1224094.1970        +230.5707\n",
      "        79    -1223895.3144        +198.8826\n",
      "        80    -1223717.8890        +177.4254\n",
      "        81    -1223537.0570        +180.8320\n",
      "        82    -1223318.6180        +218.4390\n",
      "        83    -1222996.7596        +321.8584\n",
      "        84    -1222755.1021        +241.6575\n",
      "        85    -1222524.9495        +230.1527\n",
      "        86    -1222276.7782        +248.1713\n",
      "        87    -1222038.5219        +238.2563\n",
      "        88    -1221822.2104        +216.3114\n",
      "        89    -1221607.1564        +215.0541\n",
      "        90    -1221336.1995        +270.9568\n",
      "        91    -1221053.0843        +283.1153\n",
      "        92    -1220783.7709        +269.3133\n",
      "        93    -1220573.0477        +210.7232\n",
      "        94    -1220455.6756        +117.3721\n",
      "        95    -1220326.2983        +129.3773\n",
      "        96    -1220199.5494        +126.7489\n",
      "        97    -1220067.6452        +131.9042\n",
      "        98    -1219971.8868         +95.7584\n",
      "        99    -1219910.4581         +61.4287\n",
      "       100    -1219855.5278         +54.9303\n"
     ]
    },
    {
     "data": {
      "text/plain": [
       "GMMHMM(algorithm='viterbi', covariance_type='diag', covars_prior=0.01,\n",
       "    init_params='stmcw', n_components=6, n_iter=100, n_mix=5,\n",
       "    params='stmcw', random_state=None, startprob_prior=1.0, tol=0.01,\n",
       "    transmat_prior=1.0, verbose=True)"
      ]
     },
     "execution_count": 14,
     "metadata": {},
     "output_type": "execute_result"
    }
   ],
   "source": [
    "# Viterbi is set by default as the 'algorithm' optional parameter.\n",
    "model = hmm.GMMHMM(n_components=6, n_mix=5, verbose=True, n_iter=100)\n",
    "model.fit(final, lengths=seq_lens)"
   ]
  },
  {
   "cell_type": "code",
   "execution_count": 15,
   "metadata": {},
   "outputs": [],
   "source": [
    "state_sequence = model.predict(final, lengths=seq_lens)\n",
    "# # prob_next_step = model.transmat_[state_sequence[-1], :]"
   ]
  },
  {
   "cell_type": "code",
   "execution_count": 16,
   "metadata": {},
   "outputs": [
    {
     "data": {
      "text/plain": [
       "array([2, 2, 2, 2, 2, 2, 2, 2, 2, 2, 2, 2, 2, 2, 2, 2, 2, 2, 2, 2, 2, 2,\n",
       "       2, 2, 2, 2, 2, 2, 2, 2])"
      ]
     },
     "execution_count": 16,
     "metadata": {},
     "output_type": "execute_result"
    }
   ],
   "source": [
    "state_sequence[:30]"
   ]
  },
  {
   "cell_type": "code",
   "execution_count": 17,
   "metadata": {},
   "outputs": [
    {
     "data": {
      "text/plain": [
       "array([2200., 2200., 2200., 2200., 2200., 2200., 2200., 2200., 2200.,\n",
       "       2200., 2200., 2200., 2200., 2200., 2200., 2200., 2200., 2200.,\n",
       "       2200., 2200., 2200., 2200., 2200., 2200., 2200., 2200., 2200.,\n",
       "       2200., 2200., 2200.])"
      ]
     },
     "execution_count": 17,
     "metadata": {},
     "output_type": "execute_result"
    }
   ],
   "source": [
    "final_players[:30]"
   ]
  },
  {
   "cell_type": "code",
   "execution_count": 18,
   "metadata": {},
   "outputs": [
    {
     "data": {
      "text/plain": [
       "['C-F']"
      ]
     },
     "execution_count": 18,
     "metadata": {},
     "output_type": "execute_result"
    }
   ],
   "source": [
    "id_position_mapping[2200]"
   ]
  },
  {
   "cell_type": "code",
   "execution_count": 19,
   "metadata": {},
   "outputs": [
    {
     "data": {
      "text/plain": [
       "array([1, 1, 1, 1, 1, 1, 1, 1, 1, 1])"
      ]
     },
     "execution_count": 19,
     "metadata": {},
     "output_type": "execute_result"
    }
   ],
   "source": [
    "state_sequence[-10:]"
   ]
  },
  {
   "cell_type": "code",
   "execution_count": 20,
   "metadata": {},
   "outputs": [
    {
     "data": {
      "text/plain": [
       "array([1626171., 1626171., 1626171., 1626171., 1626171., 1626171.,\n",
       "       1626171., 1626171., 1626171., 1626171.])"
      ]
     },
     "execution_count": 20,
     "metadata": {},
     "output_type": "execute_result"
    }
   ],
   "source": [
    "final_players[-10:]"
   ]
  },
  {
   "cell_type": "code",
   "execution_count": 21,
   "metadata": {},
   "outputs": [
    {
     "data": {
      "text/plain": [
       "['F']"
      ]
     },
     "execution_count": 21,
     "metadata": {},
     "output_type": "execute_result"
    }
   ],
   "source": [
    "id_position_mapping[1626171]"
   ]
  },
  {
   "cell_type": "code",
   "execution_count": 26,
   "metadata": {},
   "outputs": [
    {
     "data": {
      "image/png": "[encoded data removed]",
      "text/plain": [
       "<matplotlib.figure.Figure at 0x23840278>"
      ]
     },
     "metadata": {},
     "output_type": "display_data"
    }
   ],
   "source": [
    "def gaussian_superposition(means_arr, vars_arr, mix_p):\n",
    "    ''' means_arr: n_mix x feature_dim\n",
    "        vars_arr: n_mix x feature_dim\n",
    "    '''\n",
    "    #Create grid and multivariate normal\n",
    "    nx = 1000\n",
    "    ny = 500\n",
    "    x = np.linspace(0,94,nx)\n",
    "    y = np.linspace(0,50,ny)\n",
    "\n",
    "    X, Y = np.meshgrid(x,y)\n",
    "    pos = np.empty(X.shape + (2,))\n",
    "    pos[:, :, 0] = X; pos[:, :, 1] = Y\n",
    "    \n",
    "    def single_gaussian_(mu, var):\n",
    "        #Parameters to set\n",
    "        mu_x, mu_y = mu[0], mu[1]\n",
    "        var_x, var_y = var[0], var[1]\n",
    "        rv = multivariate_normal([mu_x, mu_y], [[var_x, 0], [0, var_y]])\n",
    "\n",
    "        return rv.pdf(pos)\n",
    "    n_mix = means_arr.shape[0]\n",
    "    sp = np.sum([single_gaussian_(means_arr[i], vars_arr[i])*mix_p[i] for i in range(n_mix)],axis=0)\n",
    "    return X, Y, sp, nx, ny\n",
    "\n",
    "def plot_3d_gaussian(X,Y,Z):\n",
    "    %matplotlib notebook\n",
    "    %matplotlib notebook\n",
    "    #Make a 3D plot\n",
    "    fig = plt.figure()\n",
    "    ax = fig.gca(projection='3d')\n",
    "    ax.plot_surface(X, Y, Z,cmap='viridis',linewidth=0)\n",
    "    ax.set_xlabel('X axis')\n",
    "    ax.set_ylabel('Y axis')\n",
    "    ax.set_zlabel('Z axis')\n",
    "    plt.show()\n",
    "\n",
    "# plot all the 3ds\n",
    "gmms = model.gmms_\n",
    "nrows, ncols = 3, 2\n",
    "fig, ax = plt.subplots(nrows=nrows, ncols=ncols, figsize=(8,6))\n",
    "n_state = 0\n",
    "for i in range(nrows):\n",
    "    for j in range(ncols):\n",
    "        X, Y, Z, nx, ny = gaussian_superposition(gmms[n_state].means_, gmms[n_state].covars_, gmms[n_state].weights_)\n",
    "        df = pd.DataFrame(Z, index=range(ny), columns=range(nx))\n",
    "        sns.heatmap(df, ax=ax[i, j], xticklabels=False, yticklabels=False).set_title(str(n_state))\n",
    "        n_state += 1"
   ]
  },
  {
   "cell_type": "markdown",
   "metadata": {},
   "source": [
    "---"
   ]
  },
  {
   "cell_type": "markdown",
   "metadata": {},
   "source": [
    "### Next: try using the predefined position as indexing mechanism for the imitation learning"
   ]
  },
  {
   "cell_type": "markdown",
   "metadata": {},
   "source": [
    "Questions:\n",
    "\n",
    "  - Is the latent structure learning trained for each individual agent or their sequences are put together?"
   ]
  },
  {
   "cell_type": "code",
   "execution_count": null,
   "metadata": {
    "collapsed": true
   },
   "outputs": [],
   "source": []
  },
  {
   "cell_type": "code",
   "execution_count": null,
   "metadata": {
    "collapsed": true
   },
   "outputs": [],
   "source": []
  },
  {
   "cell_type": "code",
   "execution_count": null,
   "metadata": {
    "collapsed": true
   },
   "outputs": [],
   "source": []
  }
 ],
 "metadata": {
  "kernelspec": {
   "display_name": "Python 3",
   "language": "python",
   "name": "python3"
  },
  "language_info": {
   "codemirror_mode": {
    "name": "ipython",
    "version": 3
   },
   "file_extension": ".py",
   "mimetype": "text/x-python",
   "name": "python",
   "nbconvert_exporter": "python",
   "pygments_lexer": "ipython3",
   "version": "3.6.1"
  }
 },
 "nbformat": 4,
 "nbformat_minor": 2
}
