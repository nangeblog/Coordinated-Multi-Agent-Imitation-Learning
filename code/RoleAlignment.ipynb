{
 "cells": [
  {
   "cell_type": "code",
   "execution_count": 1,
   "metadata": {
    "collapsed": true
   },
   "outputs": [],
   "source": [
    "import pandas as pd\n",
    "import numpy as np\n",
    "import matplotlib.pyplot as plt\n",
    "import seaborn as sns\n",
    "import glob, os, sys, warnings\n",
    "from scipy.stats import multivariate_normal\n",
    "from mpl_toolkits.mplot3d import Axes3D\n",
    "from hmmlearn import hmm\n",
    "\n",
    "# custom modules\n",
    "from utilities import *\n",
    "from helpers import *\n",
    "# ---------------------------------------------------------\n",
    "%matplotlib inline\n",
    "%load_ext autoreload\n",
    "%autoreload 2\n",
    "\n",
    "warnings.filterwarnings('ignore')\n",
    "# warnings.filterwarnings(action='once')\n",
    "# ---------------------------------------------------------\n",
    "# directories\n",
    "main_dir = '../'\n",
    "game_dir = main_dir+'data/'\n",
    "Data = LoadData(main_dir, game_dir)"
   ]
  },
  {
   "cell_type": "markdown",
   "metadata": {},
   "source": [
    "#### Load raw event data"
   ]
  },
  {
   "cell_type": "code",
   "execution_count": 2,
   "metadata": {},
   "outputs": [
    {
     "name": "stdout",
     "output_type": "stream",
     "text": [
      "raw events shape: (231, 8)\n"
     ]
    },
    {
     "data": {
      "text/html": [
       "<div>\n",
       "<style>\n",
       "    .dataframe thead tr:only-child th {\n",
       "        text-align: right;\n",
       "    }\n",
       "\n",
       "    .dataframe thead th {\n",
       "        text-align: left;\n",
       "    }\n",
       "\n",
       "    .dataframe tbody tr th {\n",
       "        vertical-align: top;\n",
       "    }\n",
       "</style>\n",
       "<table border=\"1\" class=\"dataframe\">\n",
       "  <thead>\n",
       "    <tr style=\"text-align: right;\">\n",
       "      <th></th>\n",
       "      <th>end_time_left</th>\n",
       "      <th>home</th>\n",
       "      <th>moments</th>\n",
       "      <th>orig_events</th>\n",
       "      <th>playbyplay</th>\n",
       "      <th>quarter</th>\n",
       "      <th>start_time_left</th>\n",
       "      <th>visitor</th>\n",
       "    </tr>\n",
       "  </thead>\n",
       "  <tbody>\n",
       "    <tr>\n",
       "      <th>0</th>\n",
       "      <td>702.31</td>\n",
       "      <td>{'abbreviation': 'CHI', 'players': [{'playerid...</td>\n",
       "      <td>[[1, 1451351428029, 708.28, 12.78, None, [[-1,...</td>\n",
       "      <td>[0]</td>\n",
       "      <td>GAME_ID  EVENTNUM  EVENTMSGTYPE  EVENTMS...</td>\n",
       "      <td>1</td>\n",
       "      <td>708.28</td>\n",
       "      <td>{'abbreviation': 'TOR', 'players': [{'playerid...</td>\n",
       "    </tr>\n",
       "    <tr>\n",
       "      <th>1</th>\n",
       "      <td>686.28</td>\n",
       "      <td>{'abbreviation': 'CHI', 'players': [{'playerid...</td>\n",
       "      <td>[[1, 1451351428029, 708.28, 12.78, None, [[-1,...</td>\n",
       "      <td>[1]</td>\n",
       "      <td>GAME_ID  EVENTNUM  EVENTMSGTYPE  EVENTMS...</td>\n",
       "      <td>1</td>\n",
       "      <td>708.28</td>\n",
       "      <td>{'abbreviation': 'TOR', 'players': [{'playerid...</td>\n",
       "    </tr>\n",
       "  </tbody>\n",
       "</table>\n",
       "</div>"
      ],
      "text/plain": [
       "   end_time_left                                               home  \\\n",
       "0         702.31  {'abbreviation': 'CHI', 'players': [{'playerid...   \n",
       "1         686.28  {'abbreviation': 'CHI', 'players': [{'playerid...   \n",
       "\n",
       "                                             moments orig_events  \\\n",
       "0  [[1, 1451351428029, 708.28, 12.78, None, [[-1,...         [0]   \n",
       "1  [[1, 1451351428029, 708.28, 12.78, None, [[-1,...         [1]   \n",
       "\n",
       "                                          playbyplay  quarter  \\\n",
       "0        GAME_ID  EVENTNUM  EVENTMSGTYPE  EVENTMS...        1   \n",
       "1        GAME_ID  EVENTNUM  EVENTMSGTYPE  EVENTMS...        1   \n",
       "\n",
       "   start_time_left                                            visitor  \n",
       "0           708.28  {'abbreviation': 'TOR', 'players': [{'playerid...  \n",
       "1           708.28  {'abbreviation': 'TOR', 'players': [{'playerid...  "
      ]
     },
     "execution_count": 2,
     "metadata": {},
     "output_type": "execute_result"
    }
   ],
   "source": [
    "# %%time\n",
    "game_id = '0021500463'\n",
    "game_data = Data.load_game(game_id)\n",
    "events_df = pd.DataFrame(game_data['events'])\n",
    "print('raw events shape:', events_df.shape)\n",
    "events_df.head(2)"
   ]
  },
  {
   "cell_type": "markdown",
   "metadata": {},
   "source": [
    "#### Load some meta info"
   ]
  },
  {
   "cell_type": "code",
   "execution_count": 3,
   "metadata": {
    "collapsed": true
   },
   "outputs": [],
   "source": [
    "# ddentify defending and offending runs (this is included in process_moments)\n",
    "court_index = Data.load_csv('./meta_data/court_index.csv')\n",
    "court_index = dict(zip(court_index.game_id, court_index.court_position))\n",
    "\n",
    "# home and visitor ids\n",
    "homeid = events_df.loc[0].home['teamid']\n",
    "awayid = events_df.loc[0].visitor['teamid']"
   ]
  },
  {
   "cell_type": "markdown",
   "metadata": {},
   "source": [
    "#### Pre-process \n",
    "filter events, subsample frames, add velocity, reorder moments, re-arrange team order\n",
    "shot clock, filter out event with short moments"
   ]
  },
  {
   "cell_type": "code",
   "execution_count": 4,
   "metadata": {},
   "outputs": [
    {
     "name": "stdout",
     "output_type": "stream",
     "text": [
      "After filtering events has shape: (134, 8)\n",
      "Final number of events: 165\n"
     ]
    }
   ],
   "source": [
    "# filter out actions except 1: Make, 2: Miss, 4: Rebound, 6:Personal Foul, 7:Violation\n",
    "use_event = [1, 2, 4, 6, 7]\n",
    "discard_event = [3, 5, 8, 9, 10, 12, 13, 18]\n",
    "events = filter_event_type(events_df, discard_event)\n",
    "print('After filtering events has shape:', events.shape)\n",
    "# break up sequences at 24secs shot clock point (or irregular case, e.g. out of bound maybe),\n",
    "# and obtain the game data\n",
    "subsample_factor = 0\n",
    "single_game = get_game_data_ra(events, court_index, game_id, event_threshold=10, subsample_factor=subsample_factor)\n",
    "print('Final number of events:', len(single_game))"
   ]
  },
  {
   "cell_type": "markdown",
   "metadata": {},
   "source": [
    "#### Prepare data set for training HMM"
   ]
  },
  {
   "cell_type": "code",
   "execution_count": 5,
   "metadata": {
    "collapsed": true
   },
   "outputs": [],
   "source": [
    "n_defend = 5\n",
    "# length for each moment\n",
    "event_lengths = np.array([len(i) for i in single_game])\n",
    "# repeat the event_lengths 5 times in order to match the unstack later on with moments\n",
    "event_lengths_repeat = np.concatenate([event_lengths for _ in range(n_defend)], axis=0)\n",
    "# all the moments\n",
    "all_moments = np.concatenate(single_game, axis=0)\n",
    "# we only need the first 5 players x,y coordindates\n",
    "all_moments = all_moments[:, :2*n_defend]\n",
    "all_moments_ = np.concatenate([all_moments[:, i:i+2] for i in range(0, 2*n_defend, 2)], axis=0)"
   ]
  },
  {
   "cell_type": "code",
   "execution_count": 6,
   "metadata": {},
   "outputs": [
    {
     "data": {
      "text/plain": [
       "(105595, 2)"
      ]
     },
     "execution_count": 6,
     "metadata": {},
     "output_type": "execute_result"
    }
   ],
   "source": [
    "all_moments_.shape"
   ]
  },
  {
   "cell_type": "code",
   "execution_count": 7,
   "metadata": {},
   "outputs": [
    {
     "data": {
      "text/plain": [
       "(825,)"
      ]
     },
     "execution_count": 7,
     "metadata": {},
     "output_type": "execute_result"
    }
   ],
   "source": [
    "event_lengths_repeat.shape"
   ]
  },
  {
   "cell_type": "code",
   "execution_count": 8,
   "metadata": {},
   "outputs": [
    {
     "data": {
      "text/plain": [
       "105595"
      ]
     },
     "execution_count": 8,
     "metadata": {},
     "output_type": "execute_result"
    }
   ],
   "source": [
    "sum(event_lengths_repeat)"
   ]
  },
  {
   "cell_type": "code",
   "execution_count": 9,
   "metadata": {},
   "outputs": [
    {
     "data": {
      "text/plain": [
       "21119"
      ]
     },
     "execution_count": 9,
     "metadata": {},
     "output_type": "execute_result"
    }
   ],
   "source": [
    "len(all_moments)"
   ]
  },
  {
   "cell_type": "markdown",
   "metadata": {},
   "source": [
    "#### Create HMM model"
   ]
  },
  {
   "cell_type": "code",
   "execution_count": 10,
   "metadata": {
    "scrolled": true
   },
   "outputs": [
    {
     "name": "stderr",
     "output_type": "stream",
     "text": [
      "         1     -764469.1145             +nan\n",
      "         2     -703463.7826      +61005.3318\n",
      "         3     -647821.2588      +55642.5238\n",
      "         4     -599059.6864      +48761.5724\n",
      "         5     -562265.8112      +36793.8751\n",
      "         6     -555489.4617       +6776.3495\n",
      "         7     -554590.5130        +898.9487\n",
      "         8     -554187.2369        +403.2761\n",
      "         9     -553969.8315        +217.4054\n",
      "        10     -553872.0165         +97.8150\n",
      "        11     -553811.4515         +60.5651\n",
      "        12     -553754.0824         +57.3691\n",
      "        13     -553714.3361         +39.7463\n",
      "        14     -553692.5903         +21.7458\n",
      "        15     -553680.9496         +11.6407\n",
      "        16     -553672.3400          +8.6096\n",
      "        17     -553663.7228          +8.6172\n",
      "        18     -553653.9642          +9.7586\n",
      "        19     -553643.5743         +10.3899\n",
      "        20     -553634.3386          +9.2357\n",
      "        21     -553627.6636          +6.6750\n",
      "        22     -553623.2765          +4.3871\n",
      "        23     -553620.0781          +3.1983\n",
      "        24     -553616.9520          +3.1262\n",
      "        25     -553613.9298          +3.0222\n",
      "        26     -553612.0530          +1.8768\n",
      "        27     -553611.1758          +0.8771\n",
      "        28     -553610.7858          +0.3900\n",
      "        29     -553610.6036          +0.1822\n",
      "        30     -553610.5113          +0.0923\n"
     ]
    },
    {
     "data": {
      "text/plain": [
       "GaussianHMM(algorithm='viterbi', covariance_type='diag', covars_prior=0.01,\n",
       "      covars_weight=1, init_params='stmc', means_prior=0, means_weight=0,\n",
       "      min_covar=0.001, n_components=7, n_iter=30, params='stmc',\n",
       "      random_state=None, startprob_prior=1.0, tol=0.01, transmat_prior=1.0,\n",
       "      verbose=True)"
      ]
     },
     "execution_count": 10,
     "metadata": {},
     "output_type": "execute_result"
    }
   ],
   "source": [
    "# Viterbi is set by default as the 'algorithm' optional parameter.\n",
    "n_comp = 7\n",
    "n_mix = 1\n",
    "# model = hmm.GMMHMM(n_components=n_comp, n_mix=n_mix, verbose=True, n_iter=30)\n",
    "model = hmm.GaussianHMM(n_components=n_comp, verbose=True, n_iter=30)\n",
    "\n",
    "model.fit(all_moments_, lengths=event_lengths_repeat)"
   ]
  },
  {
   "cell_type": "code",
   "execution_count": 11,
   "metadata": {
    "collapsed": true
   },
   "outputs": [],
   "source": [
    "# predict the state\n",
    "state_sequence = model.predict(all_moments_, lengths=event_lengths_repeat)\n",
    "# unstack s.t. each row contains sequence for each of the players\n",
    "state_sequence_ = state_sequence.reshape(5, -1).T"
   ]
  },
  {
   "cell_type": "code",
   "execution_count": 12,
   "metadata": {},
   "outputs": [
    {
     "data": {
      "text/plain": [
       "array([[2, 2, 2, 2, 0],\n",
       "       [2, 2, 2, 2, 0],\n",
       "       [2, 2, 2, 2, 0],\n",
       "       [2, 2, 2, 2, 0],\n",
       "       [2, 2, 2, 2, 0]])"
      ]
     },
     "execution_count": 12,
     "metadata": {},
     "output_type": "execute_result"
    }
   ],
   "source": [
    "state_sequence_[-5:]"
   ]
  },
  {
   "cell_type": "code",
   "execution_count": 13,
   "metadata": {},
   "outputs": [
    {
     "data": {
      "text/plain": [
       "21119"
      ]
     },
     "execution_count": 13,
     "metadata": {},
     "output_type": "execute_result"
    }
   ],
   "source": [
    "len(state_sequence_)"
   ]
  },
  {
   "cell_type": "code",
   "execution_count": null,
   "metadata": {
    "collapsed": true
   },
   "outputs": [],
   "source": []
  },
  {
   "cell_type": "code",
   "execution_count": null,
   "metadata": {
    "collapsed": true
   },
   "outputs": [],
   "source": []
  },
  {
   "cell_type": "code",
   "execution_count": null,
   "metadata": {
    "collapsed": true
   },
   "outputs": [],
   "source": []
  },
  {
   "cell_type": "code",
   "execution_count": null,
   "metadata": {
    "collapsed": true
   },
   "outputs": [],
   "source": []
  },
  {
   "cell_type": "code",
   "execution_count": 77,
   "metadata": {},
   "outputs": [
    {
     "data": {
      "text/plain": [
       "0.0"
      ]
     },
     "execution_count": 77,
     "metadata": {},
     "output_type": "execute_result"
    }
   ],
   "source": [
    "# A problem instance is described by a matrix C, where each C[i,j]\n",
    "# is the cost of matching vertex i of the first partite set (a “worker”) \n",
    "# and vertex j of the second set (a “job”).\n",
    "# The goal is to find a complete assignment of workers to jobs of minimal cost.\n",
    "# cost = np.array([[4, 1, 3], [2, 0, 5], [3, 2, 2]])\n",
    "cost = np.eye(3)\n",
    "from scipy.optimize import linear_sum_assignment\n",
    "row_ind, col_ind = linear_sum_assignment(cost)\n",
    "col_ind\n",
    "\n",
    "cost[row_ind, col_ind].sum()"
   ]
  },
  {
   "cell_type": "code",
   "execution_count": 78,
   "metadata": {},
   "outputs": [
    {
     "data": {
      "text/plain": [
       "array([[1., 0., 0.],\n",
       "       [0., 1., 0.],\n",
       "       [0., 0., 1.]])"
      ]
     },
     "execution_count": 78,
     "metadata": {},
     "output_type": "execute_result"
    }
   ],
   "source": [
    "cost"
   ]
  },
  {
   "cell_type": "code",
   "execution_count": 79,
   "metadata": {},
   "outputs": [
    {
     "data": {
      "text/plain": [
       "array([0, 1, 2])"
      ]
     },
     "execution_count": 79,
     "metadata": {},
     "output_type": "execute_result"
    }
   ],
   "source": [
    "row_ind"
   ]
  },
  {
   "cell_type": "code",
   "execution_count": 80,
   "metadata": {},
   "outputs": [
    {
     "data": {
      "text/plain": [
       "array([1, 2, 0])"
      ]
     },
     "execution_count": 80,
     "metadata": {},
     "output_type": "execute_result"
    }
   ],
   "source": [
    "col_ind"
   ]
  },
  {
   "cell_type": "code",
   "execution_count": 84,
   "metadata": {},
   "outputs": [
    {
     "data": {
      "text/plain": [
       "[(2, 0), (0, 1), (1, 2)]"
      ]
     },
     "execution_count": 84,
     "metadata": {},
     "output_type": "execute_result"
    }
   ],
   "source": [
    "sorted(list(zip(row_ind, col_ind)), key=lambda x: x[1])\n"
   ]
  },
  {
   "cell_type": "code",
   "execution_count": 16,
   "metadata": {},
   "outputs": [
    {
     "data": {
      "text/plain": [
       "array([[ 8.42986014, 34.62033474],\n",
       "       [17.34402275, 15.75225013],\n",
       "       [29.07798078, 22.72335804],\n",
       "       [19.06420659, 25.89607712],\n",
       "       [18.78630959, 35.6648368 ],\n",
       "       [ 7.63472575, 23.56902542],\n",
       "       [ 8.8065149 , 14.22586554]])"
      ]
     },
     "execution_count": 16,
     "metadata": {},
     "output_type": "execute_result"
    }
   ],
   "source": [
    "# compute cost\n",
    "cmeans = model.means_\n",
    "cmeans"
   ]
  },
  {
   "cell_type": "code",
   "execution_count": 17,
   "metadata": {},
   "outputs": [
    {
     "data": {
      "text/plain": [
       "array([[11.15334, 21.35529],\n",
       "       [10.99227, 21.31452],\n",
       "       [10.88838, 21.3161 ],\n",
       "       ...,\n",
       "       [ 9.63891, 31.50498],\n",
       "       [ 9.54051, 31.53853],\n",
       "       [ 9.44711, 31.58005]])"
      ]
     },
     "execution_count": 17,
     "metadata": {},
     "output_type": "execute_result"
    }
   ],
   "source": [
    "all_moments_"
   ]
  },
  {
   "cell_type": "code",
   "execution_count": 20,
   "metadata": {},
   "outputs": [
    {
     "data": {
      "text/plain": [
       "(105595, 2)"
      ]
     },
     "execution_count": 20,
     "metadata": {},
     "output_type": "execute_result"
    }
   ],
   "source": [
    "all_moments_.shape"
   ]
  },
  {
   "cell_type": "code",
   "execution_count": 40,
   "metadata": {},
   "outputs": [
    {
     "data": {
      "text/plain": [
       "(105595, 7)"
      ]
     },
     "execution_count": 40,
     "metadata": {},
     "output_type": "execute_result"
    }
   ],
   "source": [
    "from scipy.spatial import distance\n",
    "\n",
    "# compute the distance for each of the players (all_moments),\n",
    "# to each of the component means (cmeans)\n",
    "ed = distance.cdist(all_moments_, cmeans, 'euclidean')\n",
    "ed.shape"
   ]
  },
  {
   "cell_type": "code",
   "execution_count": 105,
   "metadata": {},
   "outputs": [],
   "source": [
    "n = len(ed)//5 # number of sequences\n",
    "assert n == all_moments.shape[0]\n",
    "\n",
    "def assign_index(cm):\n",
    "    ''' Find the roles/index the players from 0 to 4 belongs to.\n",
    "        cm is the cost matrix: \n",
    "            e.g. 7x5 where 7 is the number of roles,\n",
    "            and 5 is the number of players\n",
    "        i is the loop index\n",
    "    '''\n",
    "    row_ind, col_ind = linear_sum_assignment(cm)\n",
    "    assignment = sorted(list(zip(row_ind, col_ind)), key=lambda x: x[1])\n",
    "    return [j[0] for j in assignment]\n",
    "    \n",
    "role_assignments = np.array([assign_index(ed[np.arange(5)*n + i].T) for i in range(n)])"
   ]
  },
  {
   "cell_type": "code",
   "execution_count": 106,
   "metadata": {},
   "outputs": [
    {
     "data": {
      "text/plain": [
       "(21119, 5)"
      ]
     },
     "execution_count": 106,
     "metadata": {},
     "output_type": "execute_result"
    }
   ],
   "source": [
    "role_assignments.shape"
   ]
  },
  {
   "cell_type": "code",
   "execution_count": 107,
   "metadata": {},
   "outputs": [
    {
     "data": {
      "text/plain": [
       "array([[5, 1, 0, 4, 6],\n",
       "       [5, 1, 0, 4, 6],\n",
       "       [5, 1, 0, 4, 6],\n",
       "       ...,\n",
       "       [1, 3, 4, 2, 0],\n",
       "       [1, 3, 4, 2, 0],\n",
       "       [1, 3, 4, 2, 0]])"
      ]
     },
     "execution_count": 107,
     "metadata": {},
     "output_type": "execute_result"
    }
   ],
   "source": [
    "role_assignments"
   ]
  },
  {
   "cell_type": "code",
   "execution_count": 109,
   "metadata": {},
   "outputs": [
    {
     "data": {
      "text/plain": [
       "array([[1, 3, 4, 2, 0],\n",
       "       [1, 3, 4, 2, 0],\n",
       "       [1, 3, 4, 2, 0],\n",
       "       [1, 3, 4, 2, 0],\n",
       "       [1, 3, 4, 2, 0],\n",
       "       [1, 3, 4, 2, 0],\n",
       "       [1, 3, 4, 2, 0],\n",
       "       [1, 3, 4, 2, 0],\n",
       "       [1, 3, 4, 2, 0],\n",
       "       [1, 3, 4, 2, 0]])"
      ]
     },
     "execution_count": 109,
     "metadata": {},
     "output_type": "execute_result"
    }
   ],
   "source": [
    "role_assignments[-10:]"
   ]
  },
  {
   "cell_type": "code",
   "execution_count": 110,
   "metadata": {},
   "outputs": [
    {
     "data": {
      "text/plain": [
       "array([[2, 2, 2, 2, 0],\n",
       "       [2, 2, 2, 2, 0],\n",
       "       [2, 2, 2, 2, 0],\n",
       "       [2, 2, 2, 2, 0],\n",
       "       [2, 2, 2, 2, 0],\n",
       "       [2, 2, 2, 2, 0],\n",
       "       [2, 2, 2, 2, 0],\n",
       "       [2, 2, 2, 2, 0],\n",
       "       [2, 2, 2, 2, 0],\n",
       "       [2, 2, 2, 2, 0]])"
      ]
     },
     "execution_count": 110,
     "metadata": {},
     "output_type": "execute_result"
    }
   ],
   "source": [
    "state_sequence_[-10:]"
   ]
  },
  {
   "cell_type": "code",
   "execution_count": 26,
   "metadata": {},
   "outputs": [
    {
     "data": {
      "text/plain": [
       "(21119, 5)"
      ]
     },
     "execution_count": 26,
     "metadata": {},
     "output_type": "execute_result"
    }
   ],
   "source": [
    "state_sequence_.shape"
   ]
  },
  {
   "cell_type": "code",
   "execution_count": null,
   "metadata": {
    "collapsed": true
   },
   "outputs": [],
   "source": []
  },
  {
   "cell_type": "code",
   "execution_count": 15,
   "metadata": {},
   "outputs": [
    {
     "data": {
      "image/png": "[encoded data removed]",
      "text/plain": [
       "<Figure size 720x576 with 14 Axes>"
      ]
     },
     "metadata": {},
     "output_type": "display_data"
    }
   ],
   "source": [
    "def gaussian_superposition(means_arr, vars_arr, mix_p):\n",
    "    ''' means_arr: n_mix x feature_dim\n",
    "        vars_arr: n_mix x feature_dim\n",
    "    '''\n",
    "    #Create grid and multivariate normal\n",
    "    nx = 1000\n",
    "    ny = 500\n",
    "    x = np.linspace(0,94,nx)\n",
    "    y = np.linspace(0,50,ny)\n",
    "\n",
    "    X, Y = np.meshgrid(x,y)\n",
    "    pos = np.empty(X.shape + (2,))\n",
    "    pos[:, :, 0] = X; pos[:, :, 1] = Y\n",
    "    \n",
    "    def single_gaussian_(mu, var):\n",
    "        #Parameters to set\n",
    "        mu_x, mu_y = mu[0], mu[1]\n",
    "        if mix_p != None:\n",
    "            var_x, var_y = var[0], var[1]\n",
    "            rv = multivariate_normal([mu_x, mu_y], [[var_x, 0], [0, var_y]])\n",
    "        else:\n",
    "            rv = multivariate_normal([mu_x, mu_y], var)\n",
    "        return rv.pdf(pos)\n",
    "    n_mix = means_arr.shape[0]\n",
    "    if mix_p != None:\n",
    "        sp = np.sum([single_gaussian_(means_arr[i], vars_arr[i])*mix_p[i] for i in range(n_mix)],axis=0)\n",
    "    else:\n",
    "        sp = single_gaussian_(means_arr, vars_arr)\n",
    "    return X, Y, sp, nx, ny\n",
    "\n",
    "def plot_3d_gaussian(X,Y,Z):\n",
    "    %matplotlib notebook\n",
    "    %matplotlib notebook\n",
    "    #Make a 3D plot\n",
    "    fig = plt.figure()\n",
    "    ax = fig.gca(projection='3d')\n",
    "    ax.plot_surface(X, Y, Z,cmap='viridis',linewidth=0)\n",
    "    ax.set_xlabel('X axis')\n",
    "    ax.set_ylabel('Y axis')\n",
    "    ax.set_zlabel('Z axis')\n",
    "    plt.show()\n",
    "\n",
    "    \n",
    "# # plot all the 3ds\n",
    "# gmms = model.gmms_\n",
    "# nrows, ncols = 3,3\n",
    "# # fig, ax = plt.subplots(nrows=nrows, ncols=ncols, figsize=(10,8))\n",
    "# # figsize=(10,8)\n",
    "# plt.figure(figsize=(10,8))\n",
    "# n_state = 0\n",
    "# for i in range(nrows):\n",
    "#     for j in range(ncols):\n",
    "#         if n_state >= n_comp:\n",
    "#             break\n",
    "#         ax = plt.subplot(nrows, ncols, n_state+1)\n",
    "#         X, Y, Z, nx, ny = gaussian_superposition(gmms[n_state].means_, gmms[n_state].covars_, gmms[n_state].weights_)\n",
    "#         df = pd.DataFrame(Z, index=range(ny), columns=range(nx))\n",
    "#         sns.heatmap(df, ax=ax, xticklabels=False, yticklabels=False).set_title(str(n_state+1))\n",
    "#         n_state += 1\n",
    "\n",
    "\n",
    "# plot all the 3ds\n",
    "gmms = model\n",
    "nrows, ncols = 3,3\n",
    "# fig, ax = plt.subplots(nrows=nrows, ncols=ncols, figsize=(10,8))\n",
    "# figsize=(10,8)\n",
    "plt.figure(figsize=(10,8))\n",
    "n_state = 0\n",
    "for i in range(nrows):\n",
    "    for j in range(ncols):\n",
    "        if n_state >= n_comp:\n",
    "            break\n",
    "        ax = plt.subplot(nrows, ncols, n_state+1)\n",
    "        X, Y, Z, nx, ny = gaussian_superposition(gmms.means_[n_state], gmms.covars_[n_state], mix_p=None)# gmms.weights_[n_state])\n",
    "        df = pd.DataFrame(Z, index=range(ny), columns=range(nx))\n",
    "        sns.heatmap(df, ax=ax, xticklabels=False, yticklabels=False).set_title(str(n_state+1))\n",
    "        n_state += 1"
   ]
  },
  {
   "cell_type": "markdown",
   "metadata": {},
   "source": [
    "---"
   ]
  },
  {
   "cell_type": "markdown",
   "metadata": {},
   "source": [
    "### Next: try using the predefined position as indexing mechanism for the imitation learning"
   ]
  },
  {
   "cell_type": "markdown",
   "metadata": {},
   "source": [
    "Questions:\n",
    "\n",
    "  - Is the latent structure learning trained for each individual agent or their sequences are put together?"
   ]
  },
  {
   "cell_type": "code",
   "execution_count": null,
   "metadata": {
    "collapsed": true
   },
   "outputs": [],
   "source": []
  },
  {
   "cell_type": "code",
   "execution_count": null,
   "metadata": {
    "collapsed": true
   },
   "outputs": [],
   "source": []
  },
  {
   "cell_type": "code",
   "execution_count": null,
   "metadata": {
    "collapsed": true
   },
   "outputs": [],
   "source": []
  }
 ],
 "metadata": {
  "kernelspec": {
   "display_name": "Python 3",
   "language": "python",
   "name": "python3"
  },
  "language_info": {
   "codemirror_mode": {
    "name": "ipython",
    "version": 3
   },
   "file_extension": ".py",
   "mimetype": "text/x-python",
   "name": "python",
   "nbconvert_exporter": "python",
   "pygments_lexer": "ipython3",
   "version": "3.6.4"
  }
 },
 "nbformat": 4,
 "nbformat_minor": 2
}
