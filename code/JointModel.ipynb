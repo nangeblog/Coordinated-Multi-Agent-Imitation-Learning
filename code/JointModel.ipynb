{
 "cells": [
  {
   "cell_type": "code",
   "execution_count": 1,
   "metadata": {},
   "outputs": [
    {
     "name": "stderr",
     "output_type": "stream",
     "text": [
      "/home/sam/anaconda3/lib/python3.6/importlib/_bootstrap.py:219: RuntimeWarning: compiletime version 3.5 of module 'tensorflow.python.framework.fast_tensor_util' does not match runtime version 3.6\n",
      "  return f(*args, **kwds)\n",
      "/home/sam/anaconda3/lib/python3.6/site-packages/h5py/__init__.py:36: FutureWarning: Conversion of the second argument of issubdtype from `float` to `np.floating` is deprecated. In future, it will be treated as `np.float64 == np.dtype(float).type`.\n",
      "  from ._conv import register_converters as _register_converters\n"
     ]
    }
   ],
   "source": [
    "import tensorflow as tf\n",
    "from tensorflow.python.ops.rnn import _transpose_batch_time\n",
    "\n",
    "from datetime import datetime\n",
    "import numpy as np\n",
    "import pandas as pd\n",
    "import glob, os, sys, math, warnings\n",
    "import matplotlib.pyplot as plt\n",
    "import copy, time, glob, os, sys\n",
    "os.environ[\"TF_CPP_MIN_LOG_LEVEL\"]=\"3\"\n",
    "\n",
    "# customized ftns \n",
    "from helpers import *\n",
    "from utilities import *\n",
    "from model import *\n",
    "from train import train_all_single_policies\n",
    "# ---------------------------------------------------------\n",
    "%matplotlib inline\n",
    "%load_ext autoreload\n",
    "%autoreload 2\n",
    "warnings.filterwarnings('ignore')\n",
    "# warnings.filterwarnings(action='once')\n",
    "# ---------------------------------------------------------\n",
    "# directories\n",
    "main_dir = '../'\n",
    "game_dir = main_dir+'data/'\n",
    "Data = LoadData(main_dir, game_dir)\n",
    "models_path = './models/' "
   ]
  },
  {
   "cell_type": "markdown",
   "metadata": {},
   "source": [
    "#### Load raw data"
   ]
  },
  {
   "cell_type": "code",
   "execution_count": 2,
   "metadata": {},
   "outputs": [
    {
     "name": "stdout",
     "output_type": "stream",
     "text": [
      "raw events shape: (231, 8)\n"
     ]
    },
    {
     "data": {
      "text/html": [
       "<div>\n",
       "<style>\n",
       "    .dataframe thead tr:only-child th {\n",
       "        text-align: right;\n",
       "    }\n",
       "\n",
       "    .dataframe thead th {\n",
       "        text-align: left;\n",
       "    }\n",
       "\n",
       "    .dataframe tbody tr th {\n",
       "        vertical-align: top;\n",
       "    }\n",
       "</style>\n",
       "<table border=\"1\" class=\"dataframe\">\n",
       "  <thead>\n",
       "    <tr style=\"text-align: right;\">\n",
       "      <th></th>\n",
       "      <th>end_time_left</th>\n",
       "      <th>home</th>\n",
       "      <th>moments</th>\n",
       "      <th>orig_events</th>\n",
       "      <th>playbyplay</th>\n",
       "      <th>quarter</th>\n",
       "      <th>start_time_left</th>\n",
       "      <th>visitor</th>\n",
       "    </tr>\n",
       "  </thead>\n",
       "  <tbody>\n",
       "    <tr>\n",
       "      <th>0</th>\n",
       "      <td>702.31</td>\n",
       "      <td>{'abbreviation': 'CHI', 'players': [{'playerid...</td>\n",
       "      <td>[[1, 1451351428029, 708.28, 12.78, None, [[-1,...</td>\n",
       "      <td>[0]</td>\n",
       "      <td>GAME_ID  EVENTNUM  EVENTMSGTYPE  EVENTMS...</td>\n",
       "      <td>1</td>\n",
       "      <td>708.28</td>\n",
       "      <td>{'abbreviation': 'TOR', 'players': [{'playerid...</td>\n",
       "    </tr>\n",
       "    <tr>\n",
       "      <th>1</th>\n",
       "      <td>686.28</td>\n",
       "      <td>{'abbreviation': 'CHI', 'players': [{'playerid...</td>\n",
       "      <td>[[1, 1451351428029, 708.28, 12.78, None, [[-1,...</td>\n",
       "      <td>[1]</td>\n",
       "      <td>GAME_ID  EVENTNUM  EVENTMSGTYPE  EVENTMS...</td>\n",
       "      <td>1</td>\n",
       "      <td>708.28</td>\n",
       "      <td>{'abbreviation': 'TOR', 'players': [{'playerid...</td>\n",
       "    </tr>\n",
       "    <tr>\n",
       "      <th>2</th>\n",
       "      <td>668.42</td>\n",
       "      <td>{'abbreviation': 'CHI', 'players': [{'playerid...</td>\n",
       "      <td>[[1, 1451351444029, 692.25, 12.21, None, [[-1,...</td>\n",
       "      <td>[2, 3]</td>\n",
       "      <td>GAME_ID  EVENTNUM  EVENTMSGTYPE  EVENTMS...</td>\n",
       "      <td>1</td>\n",
       "      <td>692.25</td>\n",
       "      <td>{'abbreviation': 'TOR', 'players': [{'playerid...</td>\n",
       "    </tr>\n",
       "  </tbody>\n",
       "</table>\n",
       "</div>"
      ],
      "text/plain": [
       "   end_time_left                                               home  \\\n",
       "0         702.31  {'abbreviation': 'CHI', 'players': [{'playerid...   \n",
       "1         686.28  {'abbreviation': 'CHI', 'players': [{'playerid...   \n",
       "2         668.42  {'abbreviation': 'CHI', 'players': [{'playerid...   \n",
       "\n",
       "                                             moments orig_events  \\\n",
       "0  [[1, 1451351428029, 708.28, 12.78, None, [[-1,...         [0]   \n",
       "1  [[1, 1451351428029, 708.28, 12.78, None, [[-1,...         [1]   \n",
       "2  [[1, 1451351444029, 692.25, 12.21, None, [[-1,...      [2, 3]   \n",
       "\n",
       "                                          playbyplay  quarter  \\\n",
       "0        GAME_ID  EVENTNUM  EVENTMSGTYPE  EVENTMS...        1   \n",
       "1        GAME_ID  EVENTNUM  EVENTMSGTYPE  EVENTMS...        1   \n",
       "2        GAME_ID  EVENTNUM  EVENTMSGTYPE  EVENTMS...        1   \n",
       "\n",
       "   start_time_left                                            visitor  \n",
       "0           708.28  {'abbreviation': 'TOR', 'players': [{'playerid...  \n",
       "1           708.28  {'abbreviation': 'TOR', 'players': [{'playerid...  \n",
       "2           692.25  {'abbreviation': 'TOR', 'players': [{'playerid...  "
      ]
     },
     "execution_count": 2,
     "metadata": {},
     "output_type": "execute_result"
    }
   ],
   "source": [
    "# %%time\n",
    "game_id = '0021500463'\n",
    "game_data = Data.load_game(game_id)\n",
    "events_df = pd.DataFrame(game_data['events'])\n",
    "print('raw events shape:', events_df.shape)\n",
    "events_df.head(3)"
   ]
  },
  {
   "cell_type": "markdown",
   "metadata": {},
   "source": [
    "#### Get some suplementary data"
   ]
  },
  {
   "cell_type": "code",
   "execution_count": 3,
   "metadata": {
    "collapsed": true
   },
   "outputs": [],
   "source": [
    "# play id to play roles/positions\n",
    "id_role = id_position(events_df)\n",
    "check_game_roles_duplicates(id_role)\n",
    "\n",
    "# its possible that F has similar role as G-f or F-G, we create empty slots to ensure meta order\n",
    "# ddentify defending and offending runs (this is included in process_moments)\n",
    "court_index = Data.load_csv('./meta_data/court_index.csv')\n",
    "court_index = dict(zip(court_index.game_id, court_index.court_position))\n",
    "\n",
    "# home and visitor ids\n",
    "homeid = events_df.loc[0].home['teamid']\n",
    "awayid = events_df.loc[0].visitor['teamid']"
   ]
  },
  {
   "cell_type": "markdown",
   "metadata": {},
   "source": [
    "#### Pre-process \n",
    "filter events, subsample frames, add velocity, reorder moments, re-arrange team order\n",
    "shot clock, filter out event with short moments"
   ]
  },
  {
   "cell_type": "code",
   "execution_count": 4,
   "metadata": {},
   "outputs": [
    {
     "name": "stdout",
     "output_type": "stream",
     "text": [
      "After filtering events has shape: (134, 8)\n",
      "Final number of events: 165\n"
     ]
    }
   ],
   "source": [
    "# filter out actions except 1: Make, 2: Miss, 4: Rebound, 6:Personal Foul, 7:Violation\n",
    "use_event = [1, 2, 4, 6, 7]\n",
    "discard_event = [3, 5, 8, 9, 10, 12, 13, 18]\n",
    "events = filter_event_type(events_df, discard_event)\n",
    "print('After filtering events has shape:', events.shape)\n",
    "# break up sequences at 24secs shot clock point (or irregular case, e.g. out of bound maybe),\n",
    "# and obtain the game data\n",
    "subsample_factor = 0\n",
    "single_game, single_game_balls = get_game_data_ra(events, court_index, game_id, \n",
    "                                                  event_threshold=10, subsample_factor=subsample_factor)\n",
    "print('Final number of events:', len(single_game))\n",
    "\n",
    "# get player velocity\n",
    "fs_base = 1./25 # 1/25 sec/frame   or  25 frames/sec\n",
    "fs = fs_base * subsample_factor if subsample_factor != 0 else fs_base\n",
    "single_game = [get_velocity(i, fs, mode=1) for i in single_game]\n",
    "n_events = len(single_game)\n",
    "\n",
    "# get basketball velocity\n",
    "single_game_balls = [np.concatenate([i[:-1, :], get_velocity(i, fs, mode=0)], axis=1) for i in single_game_balls]"
   ]
  },
  {
   "cell_type": "code",
   "execution_count": 5,
   "metadata": {},
   "outputs": [
    {
     "data": {
      "text/plain": [
       "(37, 40)"
      ]
     },
     "execution_count": 5,
     "metadata": {},
     "output_type": "execute_result"
    }
   ],
   "source": [
    "single_game[0].shape"
   ]
  },
  {
   "cell_type": "code",
   "execution_count": 6,
   "metadata": {},
   "outputs": [
    {
     "data": {
      "text/plain": [
       "(37, 6)"
      ]
     },
     "execution_count": 6,
     "metadata": {},
     "output_type": "execute_result"
    }
   ],
   "source": [
    "single_game_balls[0].shape"
   ]
  },
  {
   "cell_type": "markdown",
   "metadata": {},
   "source": [
    "#### Role assignment and reorder moment"
   ]
  },
  {
   "cell_type": "code",
   "execution_count": 7,
   "metadata": {
    "collapsed": true
   },
   "outputs": [],
   "source": [
    "# first prepare data\n",
    "n_defend = 5\n",
    "n_offend = 5\n",
    "n_ind = 4\n",
    "\n",
    "# length for each moment\n",
    "event_lengths = np.array([len(i) for i in single_game])\n",
    "# repeat the event_lengths 5 times in order to match the unstack later on with moments\n",
    "event_lengths_repeat = np.concatenate([event_lengths for _ in range(n_defend)], axis=0)\n",
    "# all the moments\n",
    "all_moments = np.concatenate(single_game, axis=0)\n",
    "all_moments_vel = np.concatenate(single_game, axis=0) # vel\n",
    "# we only need the first 5 players x,y coordindates\n",
    "# defend\n",
    "all_defend_moments = all_moments[:, :n_ind*n_defend]\n",
    "# offend\n",
    "all_offend_moments = all_moments[:, n_ind*n_offend:]\n",
    "\n",
    "# flattened\n",
    "all_defend_moments_ = np.concatenate([all_defend_moments[:, i:i+n_ind] for i in range(0, n_ind*n_defend, n_ind)], axis=0)\n",
    "all_offend_moments_ = np.concatenate([all_offend_moments[:, i:i+n_ind] for i in range(0, n_ind*n_offend, n_ind)], axis=0)"
   ]
  },
  {
   "cell_type": "code",
   "execution_count": 8,
   "metadata": {
    "collapsed": true
   },
   "outputs": [],
   "source": [
    "# create hmm model\n",
    "n_comp = 7\n",
    "n_mix = None\n",
    "RA = RoleAssignment(n_iter=50,verbose=True)"
   ]
  },
  {
   "cell_type": "code",
   "execution_count": 9,
   "metadata": {
    "scrolled": true
   },
   "outputs": [
    {
     "name": "stderr",
     "output_type": "stream",
     "text": [
      "         1    -1526457.8325             +nan\n",
      "         2    -1268924.5854     +257533.2471\n",
      "         3    -1200828.2524      +68096.3330\n",
      "         4    -1172055.6233      +28772.6291\n",
      "         5    -1168202.8601       +3852.7632\n",
      "         6    -1166918.4365       +1284.4236\n",
      "         7    -1166079.8787        +838.5578\n",
      "         8    -1165555.5242        +524.3545\n",
      "         9    -1165269.0194        +286.5048\n",
      "        10    -1165082.1474        +186.8720\n",
      "        11    -1164971.9147        +110.2327\n",
      "        12    -1164914.3671         +57.5477\n",
      "        13    -1164891.1977         +23.1694\n",
      "        14    -1164881.8610          +9.3367\n",
      "        15    -1164877.5057          +4.3553\n",
      "        16    -1164875.3154          +2.1902\n",
      "        17    -1164874.1176          +1.1978\n",
      "        18    -1164873.3956          +0.7220\n",
      "        19    -1164872.9145          +0.4811\n",
      "        20    -1164872.5633          +0.3512\n",
      "        21    -1164872.2874          +0.2759\n",
      "        22    -1164872.0588          +0.2287\n",
      "        23    -1164871.8621          +0.1966\n",
      "        24    -1164871.6884          +0.1737\n",
      "        25    -1164871.5309          +0.1575\n",
      "        26    -1164871.3832          +0.1477\n",
      "        27    -1164871.2383          +0.1449\n",
      "        28    -1164871.0897          +0.1486\n",
      "        29    -1164870.9373          +0.1523\n",
      "        30    -1164870.7939          +0.1435\n",
      "        31    -1164870.6772          +0.1167\n",
      "        32    -1164870.5929          +0.0843\n",
      "        33    -1164870.5329          +0.0600\n",
      "        34    -1164870.4876          +0.0453\n",
      "        35    -1164870.4510          +0.0366\n",
      "        36    -1164870.4200          +0.0310\n",
      "        37    -1164870.3930          +0.0270\n",
      "        38    -1164870.3692          +0.0238\n",
      "        39    -1164870.3481          +0.0212\n",
      "        40    -1164870.3291          +0.0190\n",
      "        41    -1164870.3120          +0.0171\n",
      "        42    -1164870.2965          +0.0155\n",
      "        43    -1164870.2823          +0.0142\n",
      "        44    -1164870.2693          +0.0130\n",
      "        45    -1164870.2572          +0.0120\n",
      "        46    -1164870.2461          +0.0112\n",
      "        47    -1164870.2356          +0.0104\n",
      "        48    -1164870.2259          +0.0098\n",
      "         1    -1677542.2184             +nan\n",
      "         2    -1397223.2042     +280319.0142\n",
      "         3    -1318761.2083      +78461.9960\n",
      "         4    -1292368.8909      +26392.3173\n",
      "         5    -1284579.2792       +7789.6118\n",
      "         6    -1282959.7569       +1619.5222\n",
      "         7    -1281825.3392       +1134.4178\n",
      "         8    -1281054.7844        +770.5548\n",
      "         9    -1280509.7090        +545.0753\n",
      "        10    -1280193.0207        +316.6883\n",
      "        11    -1280023.9156        +169.1051\n",
      "        12    -1279896.2449        +127.6707\n",
      "        13    -1279769.0750        +127.1699\n",
      "        14    -1279627.7735        +141.3015\n",
      "        15    -1279500.9772        +126.7963\n",
      "        16    -1279378.2119        +122.7652\n",
      "        17    -1279303.6785         +74.5334\n",
      "        18    -1279263.6661         +40.0124\n",
      "        19    -1279241.8657         +21.8004\n",
      "        20    -1279229.2685         +12.5972\n",
      "        21    -1279221.7699          +7.4986\n",
      "        22    -1279216.8560          +4.9139\n",
      "        23    -1279213.1648          +3.6912\n",
      "        24    -1279210.0003          +3.1646\n",
      "        25    -1279207.0391          +2.9611\n",
      "        26    -1279204.2209          +2.8182\n",
      "        27    -1279201.6883          +2.5326\n",
      "        28    -1279199.6302          +2.0582\n",
      "        29    -1279198.1007          +1.5294\n",
      "        30    -1279197.0132          +1.0875\n",
      "        31    -1279196.2382          +0.7750\n",
      "        32    -1279195.6674          +0.5709\n",
      "        33    -1279195.2244          +0.4430\n",
      "        34    -1279194.8571          +0.3672\n",
      "        35    -1279194.5295          +0.3276\n",
      "        36    -1279194.2173          +0.3123\n",
      "        37    -1279193.9077          +0.3096\n",
      "        38    -1279193.6016          +0.3061\n",
      "        39    -1279193.3114          +0.2902\n",
      "        40    -1279193.0517          +0.2597\n",
      "        41    -1279192.8299          +0.2218\n",
      "        42    -1279192.6451          +0.1848\n",
      "        43    -1279192.4922          +0.1529\n",
      "        44    -1279192.3654          +0.1268\n",
      "        45    -1279192.2596          +0.1058\n",
      "        46    -1279192.1707          +0.0889\n",
      "        47    -1279192.0954          +0.0753\n",
      "        48    -1279192.0311          +0.0643\n",
      "        49    -1279191.9758          +0.0554\n",
      "        50    -1279191.9276          +0.0482\n"
     ]
    }
   ],
   "source": [
    "# train\n",
    "defend_state_sequence_, defend_means, defend_covs, _ = RA.train_hmm(all_defend_moments_, event_lengths_repeat, n_comp, n_mix)\n",
    "offend_state_sequence_, offend_means, offend_covs, _ = RA.train_hmm(all_offend_moments_, event_lengths_repeat, n_comp, n_mix)\n",
    "# get role orders\n",
    "_, defend_roles = RA.assign_roles(all_defend_moments_, all_defend_moments, defend_means, event_lengths)\n",
    "_, offend_roles = RA.assign_roles(all_offend_moments_, all_offend_moments, offend_means, event_lengths)"
   ]
  },
  {
   "cell_type": "code",
   "execution_count": 10,
   "metadata": {
    "collapsed": true
   },
   "outputs": [],
   "source": [
    "defend_pos_vel = order_moment_ra([i[:, :n_ind*5] for i in single_game], defend_roles)\n",
    "offend_pos_vel = order_moment_ra([i[:, n_ind*5:] for i in single_game], offend_roles)"
   ]
  },
  {
   "cell_type": "code",
   "execution_count": 11,
   "metadata": {},
   "outputs": [
    {
     "data": {
      "text/plain": [
       "(37, 6)"
      ]
     },
     "execution_count": 11,
     "metadata": {},
     "output_type": "execute_result"
    }
   ],
   "source": [
    "single_game_balls[0].shape"
   ]
  },
  {
   "cell_type": "code",
   "execution_count": 12,
   "metadata": {},
   "outputs": [
    {
     "data": {
      "text/plain": [
       "(37, 28)"
      ]
     },
     "execution_count": 12,
     "metadata": {},
     "output_type": "execute_result"
    }
   ],
   "source": [
    "defend_pos_vel[0].shape"
   ]
  },
  {
   "cell_type": "code",
   "execution_count": 13,
   "metadata": {},
   "outputs": [
    {
     "data": {
      "text/plain": [
       "array([[11.15334, 21.35529, -4.02675, ..., 11.67492, -0.2985 ,  0.495  ],\n",
       "       [10.99227, 21.31452, -2.59725, ..., 11.69472, -0.29875,  0.7705 ],\n",
       "       [10.88838, 21.3161 , -2.02775, ..., 11.72554, -0.30525,  1.0805 ],\n",
       "       ...,\n",
       "       [ 8.37199, 23.28826, -5.046  , ..., 17.59439,  1.261  ,  0.8865 ],\n",
       "       [ 8.17015, 23.48841, -4.9075 , ..., 17.62985,  0.03675,  0.445  ],\n",
       "       [ 7.97385, 23.71319, -4.1805 , ..., 17.64765, -0.16425,  0.76475]])"
      ]
     },
     "execution_count": 13,
     "metadata": {},
     "output_type": "execute_result"
    }
   ],
   "source": [
    "defend_pos_vel[0]"
   ]
  },
  {
   "cell_type": "code",
   "execution_count": 14,
   "metadata": {
    "collapsed": true
   },
   "outputs": [],
   "source": [
    "# concatenate defend, offend roles pos and velocity and the basketball pos and vel\n",
    "single_game = [np.concatenate([defend_pos_vel[i], offend_pos_vel[i], single_game_balls[i]], axis=1) for i in range(n_events)]\n",
    "# single_game = [np.concatenate([defend_pos_vel[i], offend_pos_vel[i]], axis=1) for i in range(n_events)]"
   ]
  },
  {
   "cell_type": "code",
   "execution_count": 15,
   "metadata": {},
   "outputs": [
    {
     "data": {
      "text/plain": [
       "(37, 62)"
      ]
     },
     "execution_count": 15,
     "metadata": {},
     "output_type": "execute_result"
    }
   ],
   "source": [
    "single_game[0].shape"
   ]
  },
  {
   "cell_type": "code",
   "execution_count": 16,
   "metadata": {
    "collapsed": true
   },
   "outputs": [],
   "source": [
    "all_roles = [np.concatenate([defend_roles[i], offend_roles[i]], axis=1) for i in range(len(single_game))]"
   ]
  },
  {
   "cell_type": "code",
   "execution_count": 17,
   "metadata": {},
   "outputs": [
    {
     "data": {
      "text/plain": [
       "(37, 10)"
      ]
     },
     "execution_count": 17,
     "metadata": {},
     "output_type": "execute_result"
    }
   ],
   "source": [
    "all_roles[0].shape"
   ]
  },
  {
   "cell_type": "code",
   "execution_count": 18,
   "metadata": {},
   "outputs": [
    {
     "data": {
      "text/plain": [
       "165"
      ]
     },
     "execution_count": 18,
     "metadata": {},
     "output_type": "execute_result"
    }
   ],
   "source": [
    "len(all_roles)"
   ]
  },
  {
   "cell_type": "code",
   "execution_count": 19,
   "metadata": {},
   "outputs": [
    {
     "data": {
      "text/plain": [
       "165"
      ]
     },
     "execution_count": 19,
     "metadata": {},
     "output_type": "execute_result"
    }
   ],
   "source": [
    "n_events"
   ]
  },
  {
   "cell_type": "markdown",
   "metadata": {},
   "source": [
    "#### Show the plot, for the sake of comparison with processed moment later on"
   ]
  },
  {
   "cell_type": "code",
   "execution_count": 20,
   "metadata": {
    "collapsed": true,
    "scrolled": false
   },
   "outputs": [],
   "source": [
    "# Plot = PlotGame(game_id, main_dir, game_dir)\n",
    "# # for i in range(plotn): \n",
    "# Plot.load_moment2img(game_data, event_number=0, moment_number=0, return_img=True)"
   ]
  },
  {
   "cell_type": "code",
   "execution_count": 21,
   "metadata": {
    "collapsed": true
   },
   "outputs": [],
   "source": [
    "# # manual plot check\n",
    "# plot_check(single_game, plt_ind=0)"
   ]
  },
  {
   "cell_type": "markdown",
   "metadata": {},
   "source": [
    "#### Create label, train and test set"
   ]
  },
  {
   "cell_type": "code",
   "execution_count": 22,
   "metadata": {
    "collapsed": true
   },
   "outputs": [],
   "source": [
    "sequence_length = 30\n",
    "overlap = 15\n",
    "# pad short sequence and chunk long sequence with overlaps\n",
    "train, target = get_sequences(single_game, sequence_length, overlap)"
   ]
  },
  {
   "cell_type": "code",
   "execution_count": 23,
   "metadata": {
    "collapsed": true
   },
   "outputs": [],
   "source": [
    "# create train and test set\n",
    "p = 0.8 # train percentage\n",
    "divider = int(len(train)*p)\n",
    "train_game, test_game = train[:divider], train[divider:]\n",
    "train_target, test_target = target[:divider], target[divider:]"
   ]
  },
  {
   "cell_type": "code",
   "execution_count": 24,
   "metadata": {},
   "outputs": [
    {
     "data": {
      "text/plain": [
       "(1067, 267)"
      ]
     },
     "execution_count": 24,
     "metadata": {},
     "output_type": "execute_result"
    }
   ],
   "source": [
    "len(train_game), len(test_game)"
   ]
  },
  {
   "cell_type": "code",
   "execution_count": 25,
   "metadata": {},
   "outputs": [
    {
     "data": {
      "text/plain": [
       "(29, 62)"
      ]
     },
     "execution_count": 25,
     "metadata": {},
     "output_type": "execute_result"
    }
   ],
   "source": [
    "train_game[0].shape"
   ]
  },
  {
   "cell_type": "markdown",
   "metadata": {},
   "source": [
    "#### Build graph and starts training for all single policies"
   ]
  },
  {
   "cell_type": "code",
   "execution_count": 26,
   "metadata": {
    "scrolled": false
   },
   "outputs": [
    {
     "name": "stdout",
     "output_type": "stream",
     "text": [
      "Wroking on policy 0\n",
      "Horizon 0 ==========\n",
      "Epoch 0    | loss: 306.68   | time took: 0.87s | validation loss: 302.49  \n",
      "Epoch 100  | loss: 10.20    | time took: 0.68s | validation loss: 14.37   \n",
      "Epoch 200  | loss: 7.71     | time took: 0.68s | validation loss: 11.17   \n",
      "Epoch 300  | loss: 6.37     | time took: 0.68s | validation loss: 9.76    \n",
      "Epoch 400  | loss: 5.92     | time took: 0.68s | validation loss: 9.31    \n",
      "Epoch 500  | loss: 6.46     | time took: 0.68s | validation loss: 10.43   \n",
      "Epoch 600  | loss: 7.31     | time took: 0.68s | validation loss: 11.10   \n",
      "Epoch 700  | loss: 5.26     | time took: 0.67s | validation loss: 8.75    \n",
      "Epoch 800  | loss: 4.93     | time took: 0.68s | validation loss: 8.43    \n",
      "Epoch 900  | loss: 5.08     | time took: 0.68s | validation loss: 9.94    \n",
      "Epoch 1000 | loss: 5.06     | time took: 0.68s | validation loss: 8.64    \n",
      "Epoch 1100 | loss: 4.72     | time took: 0.68s | validation loss: 8.72    \n",
      "Epoch 1200 | loss: 4.80     | time took: 0.68s | validation loss: 8.78    \n",
      "Epoch 1300 | loss: 4.48     | time took: 0.68s | validation loss: 8.49    \n",
      "Epoch 1400 | loss: 4.58     | time took: 0.68s | validation loss: 8.39    \n",
      "Epoch 1500 | loss: 4.44     | time took: 0.72s | validation loss: 8.08    \n",
      "Epoch 1600 | loss: 4.46     | time took: 0.68s | validation loss: 8.59    \n",
      "Epoch 1700 | loss: 4.48     | time took: 0.68s | validation loss: 8.50    \n",
      "Epoch 1800 | loss: 4.33     | time took: 0.68s | validation loss: 8.36    \n",
      "Epoch 1900 | loss: 4.25     | time took: 0.68s | validation loss: 8.37    \n",
      "Total time took: 0.38hrs\n",
      "Horizon 2 ==========\n",
      "Epoch 0    | loss: 15.23    | time took: 0.71s | validation loss: 23.19   \n",
      "Epoch 100  | loss: 7.57     | time took: 0.70s | validation loss: 18.24   \n",
      "Epoch 200  | loss: 6.71     | time took: 0.71s | validation loss: 23.23   \n",
      "Epoch 300  | loss: 7.16     | time took: 0.71s | validation loss: 19.64   \n",
      "Epoch 400  | loss: 5.61     | time took: 0.71s | validation loss: 22.72   \n",
      "Epoch 500  | loss: 5.64     | time took: 0.70s | validation loss: 23.62   \n",
      "Epoch 600  | loss: 5.66     | time took: 0.70s | validation loss: 24.30   \n",
      "Epoch 700  | loss: 5.83     | time took: 0.71s | validation loss: 25.81   \n",
      "Epoch 800  | loss: 5.86     | time took: 0.71s | validation loss: 27.39   \n",
      "Epoch 900  | loss: 5.50     | time took: 0.71s | validation loss: 28.61   \n",
      "Epoch 1000 | loss: 5.48     | time took: 0.71s | validation loss: 28.31   \n",
      "Epoch 1100 | loss: 6.72     | time took: 0.71s | validation loss: 25.00   \n",
      "Epoch 1200 | loss: 5.46     | time took: 0.70s | validation loss: 27.73   \n",
      "Epoch 1300 | loss: 5.67     | time took: 0.71s | validation loss: 26.47   \n",
      "Epoch 1400 | loss: 5.43     | time took: 0.71s | validation loss: 24.43   \n",
      "Epoch 1500 | loss: 5.98     | time took: 0.72s | validation loss: 24.02   \n",
      "Epoch 1600 | loss: 5.77     | time took: 0.71s | validation loss: 24.53   \n",
      "Epoch 1700 | loss: 5.60     | time took: 0.70s | validation loss: 29.30   \n",
      "Epoch 1800 | loss: 5.60     | time took: 0.71s | validation loss: 27.92   \n",
      "Epoch 1900 | loss: 5.46     | time took: 0.70s | validation loss: 29.12   \n",
      "Total time took: 0.77hrs\n",
      "Horizon 4 ==========\n",
      "Epoch 0    | loss: 6.94     | time took: 0.85s | validation loss: 31.68   \n",
      "Epoch 100  | loss: 5.93     | time took: 0.71s | validation loss: 30.82   \n",
      "Epoch 200  | loss: 5.73     | time took: 0.72s | validation loss: 28.75   \n",
      "Epoch 300  | loss: 6.33     | time took: 0.79s | validation loss: 28.02   \n",
      "Epoch 400  | loss: 5.57     | time took: 0.74s | validation loss: 27.59   \n",
      "Epoch 500  | loss: 6.39     | time took: 0.74s | validation loss: 25.60   \n",
      "Epoch 600  | loss: 6.04     | time took: 0.78s | validation loss: 27.58   \n",
      "Epoch 700  | loss: 5.95     | time took: 0.74s | validation loss: 27.47   \n",
      "Epoch 800  | loss: 5.63     | time took: 0.76s | validation loss: 27.90   \n",
      "Epoch 900  | loss: 6.34     | time took: 0.80s | validation loss: 26.55   \n",
      "Epoch 1000 | loss: 6.11     | time took: 0.77s | validation loss: 26.25   \n",
      "Epoch 1100 | loss: 6.80     | time took: 0.76s | validation loss: 27.46   \n",
      "Epoch 1200 | loss: 6.04     | time took: 0.77s | validation loss: 25.95   \n",
      "Epoch 1300 | loss: 6.15     | time took: 0.76s | validation loss: 27.37   \n",
      "Epoch 1400 | loss: 5.72     | time took: 0.77s | validation loss: 27.12   \n",
      "Epoch 1500 | loss: 5.48     | time took: 0.73s | validation loss: 26.40   \n",
      "Epoch 1600 | loss: 6.39     | time took: 0.74s | validation loss: 26.40   \n",
      "Epoch 1700 | loss: 5.38     | time took: 0.73s | validation loss: 26.53   \n",
      "Epoch 1800 | loss: 5.86     | time took: 0.74s | validation loss: 25.95   \n",
      "Epoch 1900 | loss: 5.34     | time took: 0.74s | validation loss: 25.40   \n",
      "Total time took: 1.19hrs\n",
      "Horizon 6 ==========\n",
      "Epoch 0    | loss: 5.97     | time took: 0.74s | validation loss: 27.31   \n",
      "Epoch 100  | loss: 6.18     | time took: 0.73s | validation loss: 26.05   \n",
      "Epoch 200  | loss: 6.08     | time took: 0.73s | validation loss: 26.90   \n",
      "Epoch 300  | loss: 6.67     | time took: 0.73s | validation loss: 26.48   \n",
      "Epoch 400  | loss: 6.60     | time took: 0.72s | validation loss: 25.87   \n",
      "Epoch 500  | loss: 6.22     | time took: 0.75s | validation loss: 26.78   \n",
      "Epoch 600  | loss: 7.10     | time took: 0.74s | validation loss: 27.86   \n",
      "Epoch 700  | loss: 6.89     | time took: 0.82s | validation loss: 26.16   \n",
      "Epoch 800  | loss: 5.98     | time took: 0.73s | validation loss: 27.31   \n",
      "Epoch 900  | loss: 8.03     | time took: 0.73s | validation loss: 25.74   \n",
      "Epoch 1000 | loss: 6.50     | time took: 0.73s | validation loss: 26.69   \n",
      "Epoch 1100 | loss: 6.59     | time took: 0.73s | validation loss: 27.01   \n",
      "Epoch 1200 | loss: 6.34     | time took: 0.73s | validation loss: 26.92   \n",
      "Epoch 1300 | loss: 7.70     | time took: 0.73s | validation loss: 27.20   \n",
      "Epoch 1400 | loss: 5.59     | time took: 0.73s | validation loss: 27.07   \n",
      "Epoch 1500 | loss: 6.68     | time took: 0.73s | validation loss: 28.24   \n",
      "Epoch 1600 | loss: 5.65     | time took: 0.73s | validation loss: 27.39   \n",
      "Epoch 1700 | loss: 6.21     | time took: 0.72s | validation loss: 28.95   \n",
      "Epoch 1800 | loss: 5.91     | time took: 0.73s | validation loss: 27.70   \n",
      "Epoch 1900 | loss: 7.31     | time took: 0.74s | validation loss: 28.77   \n",
      "Total time took: 1.60hrs\n",
      "Done saving model for 0 \n",
      "\n",
      "Wroking on policy 1\n",
      "Horizon 0 ==========\n",
      "Epoch 0    | loss: 232.61   | time took: 0.76s | validation loss: 157.53  \n",
      "Epoch 100  | loss: 8.41     | time took: 0.69s | validation loss: 12.03   \n",
      "Epoch 200  | loss: 7.20     | time took: 0.70s | validation loss: 10.21   \n",
      "Epoch 300  | loss: 6.09     | time took: 0.70s | validation loss: 8.81    \n",
      "Epoch 400  | loss: 5.60     | time took: 0.69s | validation loss: 8.32    \n",
      "Epoch 500  | loss: 6.13     | time took: 0.71s | validation loss: 9.63    \n",
      "Epoch 600  | loss: 5.41     | time took: 0.70s | validation loss: 8.42    \n",
      "Epoch 700  | loss: 5.20     | time took: 0.71s | validation loss: 8.20    \n",
      "Epoch 800  | loss: 4.79     | time took: 0.73s | validation loss: 8.05    \n",
      "Epoch 900  | loss: 4.77     | time took: 0.71s | validation loss: 8.48    \n",
      "Epoch 1000 | loss: 4.61     | time took: 0.71s | validation loss: 8.09    \n",
      "Epoch 1100 | loss: 4.89     | time took: 0.72s | validation loss: 8.01    \n",
      "Epoch 1200 | loss: 4.52     | time took: 0.72s | validation loss: 8.30    \n",
      "Epoch 1300 | loss: 4.53     | time took: 0.71s | validation loss: 7.89    \n",
      "Epoch 1400 | loss: 4.35     | time took: 0.71s | validation loss: 7.90    \n",
      "Epoch 1500 | loss: 4.36     | time took: 0.70s | validation loss: 8.61    \n",
      "Epoch 1600 | loss: 4.39     | time took: 0.70s | validation loss: 7.49    \n",
      "Epoch 1700 | loss: 4.23     | time took: 0.71s | validation loss: 7.75    \n",
      "Epoch 1800 | loss: 4.47     | time took: 0.71s | validation loss: 7.65    \n",
      "Epoch 1900 | loss: 4.44     | time took: 0.71s | validation loss: 7.84    \n",
      "Total time took: 0.39hrs\n",
      "Horizon 2 ==========\n",
      "Epoch 0    | loss: 4.64     | time took: 0.74s | validation loss: 7.36    \n",
      "Epoch 100  | loss: 4.35     | time took: 0.74s | validation loss: 7.36    \n",
      "Epoch 200  | loss: 4.31     | time took: 0.74s | validation loss: 8.09    \n",
      "Epoch 300  | loss: 4.14     | time took: 0.73s | validation loss: 7.70    \n",
      "Epoch 400  | loss: 4.25     | time took: 0.73s | validation loss: 7.70    \n",
      "Epoch 500  | loss: 4.27     | time took: 0.73s | validation loss: 8.08    \n"
     ]
    },
    {
     "name": "stdout",
     "output_type": "stream",
     "text": [
      "Epoch 600  | loss: 4.10     | time took: 0.74s | validation loss: 8.39    \n",
      "Epoch 700  | loss: 4.18     | time took: 0.74s | validation loss: 8.29    \n",
      "Epoch 800  | loss: 4.40     | time took: 0.73s | validation loss: 7.96    \n",
      "Epoch 900  | loss: 4.14     | time took: 0.73s | validation loss: 7.93    \n",
      "Epoch 1000 | loss: 4.16     | time took: 0.74s | validation loss: 7.91    \n",
      "Epoch 1100 | loss: 4.21     | time took: 0.74s | validation loss: 7.83    \n",
      "Epoch 1200 | loss: 4.13     | time took: 0.74s | validation loss: 7.87    \n",
      "Epoch 1300 | loss: 4.13     | time took: 0.73s | validation loss: 7.84    \n",
      "Epoch 1400 | loss: 4.16     | time took: 0.73s | validation loss: 8.01    \n",
      "Epoch 1500 | loss: 4.33     | time took: 0.73s | validation loss: 7.78    \n",
      "Epoch 1600 | loss: 3.98     | time took: 0.74s | validation loss: 8.14    \n",
      "Epoch 1700 | loss: 3.97     | time took: 0.74s | validation loss: 8.15    \n",
      "Epoch 1800 | loss: 4.08     | time took: 0.73s | validation loss: 8.11    \n",
      "Epoch 1900 | loss: 3.97     | time took: 0.73s | validation loss: 7.75    \n",
      "Total time took: 0.80hrs\n",
      "Horizon 4 ==========\n",
      "Epoch 0    | loss: 4.15     | time took: 0.74s | validation loss: 8.55    \n",
      "Epoch 100  | loss: 4.24     | time took: 0.74s | validation loss: 7.23    \n",
      "Epoch 200  | loss: 4.12     | time took: 0.74s | validation loss: 7.30    \n",
      "Epoch 300  | loss: 4.13     | time took: 0.74s | validation loss: 7.78    \n",
      "Epoch 400  | loss: 3.95     | time took: 0.74s | validation loss: 7.22    \n",
      "Epoch 500  | loss: 4.95     | time took: 0.74s | validation loss: 7.40    \n",
      "Epoch 600  | loss: 4.02     | time took: 0.74s | validation loss: 7.22    \n",
      "Epoch 700  | loss: 4.12     | time took: 0.75s | validation loss: 8.21    \n",
      "Epoch 800  | loss: 3.96     | time took: 0.74s | validation loss: 7.84    \n",
      "Epoch 900  | loss: 4.25     | time took: 0.74s | validation loss: 8.18    \n",
      "Epoch 1000 | loss: 3.96     | time took: 0.74s | validation loss: 7.58    \n",
      "Epoch 1100 | loss: 3.95     | time took: 0.73s | validation loss: 7.81    \n",
      "Epoch 1200 | loss: 4.04     | time took: 0.73s | validation loss: 7.60    \n",
      "Epoch 1300 | loss: 4.29     | time took: 0.74s | validation loss: 7.75    \n",
      "Epoch 1400 | loss: 3.99     | time took: 0.73s | validation loss: 7.67    \n",
      "Epoch 1500 | loss: 4.02     | time took: 0.73s | validation loss: 7.67    \n",
      "Epoch 1600 | loss: 3.91     | time took: 0.74s | validation loss: 7.43    \n",
      "Epoch 1700 | loss: 4.00     | time took: 0.74s | validation loss: 7.74    \n",
      "Epoch 1800 | loss: 4.21     | time took: 0.74s | validation loss: 7.39    \n",
      "Epoch 1900 | loss: 4.17     | time took: 0.73s | validation loss: 8.12    \n",
      "Total time took: 1.21hrs\n",
      "Horizon 6 ==========\n",
      "Epoch 0    | loss: 4.15     | time took: 0.74s | validation loss: 7.25    \n",
      "Epoch 100  | loss: 4.04     | time took: 0.73s | validation loss: 7.97    \n",
      "Epoch 200  | loss: 4.11     | time took: 0.74s | validation loss: 8.05    \n",
      "Epoch 300  | loss: 3.92     | time took: 0.73s | validation loss: 8.13    \n",
      "Epoch 400  | loss: 3.91     | time took: 0.73s | validation loss: 7.86    \n",
      "Epoch 500  | loss: 3.89     | time took: 0.74s | validation loss: 7.74    \n",
      "Epoch 600  | loss: 3.97     | time took: 0.74s | validation loss: 7.57    \n",
      "Epoch 700  | loss: 4.10     | time took: 0.74s | validation loss: 7.90    \n",
      "Epoch 800  | loss: 4.44     | time took: 0.74s | validation loss: 7.20    \n",
      "Epoch 900  | loss: 4.07     | time took: 0.74s | validation loss: 7.63    \n",
      "Epoch 1000 | loss: 4.12     | time took: 0.73s | validation loss: 7.66    \n",
      "Epoch 1100 | loss: 3.94     | time took: 0.74s | validation loss: 7.70    \n",
      "Epoch 1200 | loss: 3.77     | time took: 0.74s | validation loss: 7.47    \n",
      "Epoch 1300 | loss: 3.95     | time took: 0.74s | validation loss: 7.73    \n",
      "Epoch 1400 | loss: 3.88     | time took: 0.74s | validation loss: 7.69    \n",
      "Epoch 1500 | loss: 3.92     | time took: 0.73s | validation loss: 8.28    \n",
      "Epoch 1600 | loss: 3.87     | time took: 0.74s | validation loss: 7.79    \n",
      "Epoch 1700 | loss: 3.87     | time took: 0.74s | validation loss: 7.75    \n",
      "Epoch 1800 | loss: 3.81     | time took: 0.73s | validation loss: 7.53    \n",
      "Epoch 1900 | loss: 3.88     | time took: 0.74s | validation loss: 8.09    \n",
      "Total time took: 1.62hrs\n",
      "Done saving model for 1 \n",
      "\n",
      "Wroking on policy 2\n",
      "Horizon 0 ==========\n",
      "Epoch 0    | loss: 238.73   | time took: 0.77s | validation loss: 165.27  \n",
      "Epoch 100  | loss: 8.20     | time took: 0.70s | validation loss: 11.25   \n",
      "Epoch 200  | loss: 8.16     | time took: 0.69s | validation loss: 10.70   \n",
      "Epoch 300  | loss: 6.39     | time took: 0.70s | validation loss: 9.36    \n",
      "Epoch 400  | loss: 7.78     | time took: 0.72s | validation loss: 11.26   \n",
      "Epoch 500  | loss: 5.61     | time took: 0.70s | validation loss: 8.45    \n",
      "Epoch 600  | loss: 5.92     | time took: 0.70s | validation loss: 8.92    \n",
      "Epoch 700  | loss: 5.40     | time took: 0.76s | validation loss: 8.51    \n",
      "Epoch 800  | loss: 5.06     | time took: 0.68s | validation loss: 8.14    \n",
      "Epoch 900  | loss: 4.62     | time took: 0.68s | validation loss: 7.53    \n",
      "Epoch 1000 | loss: 4.68     | time took: 0.68s | validation loss: 7.65    \n",
      "Epoch 1100 | loss: 4.92     | time took: 0.68s | validation loss: 7.65    \n",
      "Epoch 1200 | loss: 4.41     | time took: 0.68s | validation loss: 7.63    \n",
      "Epoch 1300 | loss: 4.39     | time took: 0.68s | validation loss: 7.84    \n",
      "Epoch 1400 | loss: 4.33     | time took: 0.68s | validation loss: 7.95    \n",
      "Epoch 1500 | loss: 4.31     | time took: 0.68s | validation loss: 9.70    \n",
      "Epoch 1600 | loss: 4.55     | time took: 0.69s | validation loss: 7.99    \n",
      "Epoch 1700 | loss: 4.31     | time took: 0.68s | validation loss: 8.01    \n",
      "Epoch 1800 | loss: 4.25     | time took: 0.68s | validation loss: 8.01    \n",
      "Epoch 1900 | loss: 4.17     | time took: 0.68s | validation loss: 10.02   \n",
      "Total time took: 0.39hrs\n",
      "Horizon 2 ==========\n",
      "Epoch 0    | loss: 4.17     | time took: 0.71s | validation loss: 9.15    \n",
      "Epoch 100  | loss: 4.12     | time took: 0.71s | validation loss: 8.21    \n",
      "Epoch 200  | loss: 4.15     | time took: 0.71s | validation loss: 11.59   \n",
      "Epoch 300  | loss: 4.19     | time took: 0.71s | validation loss: 9.38    \n",
      "Epoch 400  | loss: 4.11     | time took: 0.71s | validation loss: 8.02    \n",
      "Epoch 500  | loss: 4.08     | time took: 0.71s | validation loss: 7.85    \n",
      "Epoch 600  | loss: 3.99     | time took: 0.71s | validation loss: 9.05    \n",
      "Epoch 700  | loss: 4.12     | time took: 0.71s | validation loss: 9.13    \n",
      "Epoch 800  | loss: 3.90     | time took: 0.71s | validation loss: 10.94   \n",
      "Epoch 900  | loss: 4.12     | time took: 0.71s | validation loss: 8.14    \n",
      "Epoch 1000 | loss: 3.95     | time took: 0.72s | validation loss: 8.27    \n",
      "Epoch 1100 | loss: 4.04     | time took: 0.71s | validation loss: 8.26    \n",
      "Epoch 1200 | loss: 3.94     | time took: 0.71s | validation loss: 10.32   \n",
      "Epoch 1300 | loss: 4.25     | time took: 0.71s | validation loss: 9.80    \n",
      "Epoch 1400 | loss: 3.88     | time took: 0.72s | validation loss: 9.17    \n",
      "Epoch 1500 | loss: 3.95     | time took: 0.71s | validation loss: 8.17    \n",
      "Epoch 1600 | loss: 4.59     | time took: 0.71s | validation loss: 7.49    \n",
      "Epoch 1700 | loss: 4.03     | time took: 0.71s | validation loss: 7.71    \n",
      "Epoch 1800 | loss: 3.91     | time took: 0.71s | validation loss: 9.04    \n",
      "Epoch 1900 | loss: 4.05     | time took: 0.71s | validation loss: 8.16    \n",
      "Total time took: 0.78hrs\n",
      "Horizon 4 ==========\n",
      "Epoch 0    | loss: 4.01     | time took: 0.72s | validation loss: 7.55    \n",
      "Epoch 100  | loss: 3.93     | time took: 0.72s | validation loss: 8.91    \n",
      "Epoch 200  | loss: 4.07     | time took: 0.72s | validation loss: 8.58    \n",
      "Epoch 300  | loss: 4.06     | time took: 0.71s | validation loss: 8.11    \n",
      "Epoch 400  | loss: 4.04     | time took: 0.73s | validation loss: 7.64    \n",
      "Epoch 500  | loss: 3.91     | time took: 0.72s | validation loss: 7.90    \n",
      "Epoch 600  | loss: 4.58     | time took: 0.71s | validation loss: 8.54    \n",
      "Epoch 700  | loss: 3.89     | time took: 0.72s | validation loss: 7.64    \n",
      "Epoch 800  | loss: 3.88     | time took: 0.72s | validation loss: 7.80    \n",
      "Epoch 900  | loss: 4.58     | time took: 0.72s | validation loss: 8.29    \n",
      "Epoch 1000 | loss: 4.17     | time took: 0.72s | validation loss: 8.43    \n",
      "Epoch 1100 | loss: 3.96     | time took: 0.72s | validation loss: 8.48    \n"
     ]
    },
    {
     "name": "stdout",
     "output_type": "stream",
     "text": [
      "Epoch 1200 | loss: 3.89     | time took: 0.72s | validation loss: 8.39    \n",
      "Epoch 1300 | loss: 3.91     | time took: 0.72s | validation loss: 8.10    \n",
      "Epoch 1400 | loss: 3.71     | time took: 0.72s | validation loss: 7.70    \n",
      "Epoch 1500 | loss: 4.72     | time took: 0.72s | validation loss: 8.12    \n",
      "Epoch 1600 | loss: 3.80     | time took: 0.72s | validation loss: 8.94    \n",
      "Epoch 1700 | loss: 3.93     | time took: 0.72s | validation loss: 7.43    \n",
      "Epoch 1800 | loss: 3.77     | time took: 0.71s | validation loss: 7.90    \n",
      "Epoch 1900 | loss: 3.86     | time took: 0.72s | validation loss: 7.61    \n",
      "Total time took: 1.18hrs\n",
      "Horizon 6 ==========\n",
      "Epoch 0    | loss: 3.83     | time took: 0.72s | validation loss: 8.08    \n",
      "Epoch 100  | loss: 3.82     | time took: 0.72s | validation loss: 8.42    \n",
      "Epoch 200  | loss: 3.90     | time took: 0.72s | validation loss: 8.22    \n",
      "Epoch 300  | loss: 4.14     | time took: 0.72s | validation loss: 9.09    \n",
      "Epoch 400  | loss: 4.11     | time took: 0.72s | validation loss: 7.53    \n",
      "Epoch 500  | loss: 3.92     | time took: 0.72s | validation loss: 8.16    \n",
      "Epoch 600  | loss: 3.86     | time took: 0.72s | validation loss: 8.32    \n",
      "Epoch 700  | loss: 3.70     | time took: 0.72s | validation loss: 8.41    \n",
      "Epoch 800  | loss: 4.13     | time took: 0.72s | validation loss: 8.42    \n",
      "Epoch 900  | loss: 3.85     | time took: 0.72s | validation loss: 8.74    \n",
      "Epoch 1000 | loss: 3.76     | time took: 0.72s | validation loss: 9.04    \n",
      "Epoch 1100 | loss: 3.97     | time took: 0.72s | validation loss: 8.48    \n",
      "Epoch 1200 | loss: 3.76     | time took: 0.72s | validation loss: 9.19    \n",
      "Epoch 1300 | loss: 3.97     | time took: 0.72s | validation loss: 8.92    \n",
      "Epoch 1400 | loss: 3.79     | time took: 0.72s | validation loss: 8.29    \n",
      "Epoch 1500 | loss: 3.78     | time took: 0.72s | validation loss: 9.30    \n",
      "Epoch 1600 | loss: 3.73     | time took: 0.72s | validation loss: 8.29    \n",
      "Epoch 1700 | loss: 3.82     | time took: 0.72s | validation loss: 9.81    \n",
      "Epoch 1800 | loss: 3.86     | time took: 0.72s | validation loss: 8.15    \n",
      "Epoch 1900 | loss: 3.76     | time took: 0.72s | validation loss: 8.61    \n",
      "Total time took: 1.58hrs\n",
      "Done saving model for 2 \n",
      "\n",
      "Wroking on policy 3\n",
      "Horizon 0 ==========\n",
      "Epoch 0    | loss: 233.92   | time took: 0.76s | validation loss: 169.56  \n",
      "Epoch 100  | loss: 8.97     | time took: 0.68s | validation loss: 13.29   \n",
      "Epoch 200  | loss: 7.00     | time took: 0.68s | validation loss: 10.33   \n",
      "Epoch 300  | loss: 6.01     | time took: 0.68s | validation loss: 9.25    \n",
      "Epoch 400  | loss: 6.29     | time took: 0.68s | validation loss: 9.65    \n",
      "Epoch 500  | loss: 5.53     | time took: 0.68s | validation loss: 9.18    \n",
      "Epoch 600  | loss: 5.62     | time took: 0.69s | validation loss: 10.16   \n",
      "Epoch 700  | loss: 5.35     | time took: 0.68s | validation loss: 9.14    \n",
      "Epoch 800  | loss: 5.97     | time took: 0.68s | validation loss: 10.18   \n",
      "Epoch 900  | loss: 4.82     | time took: 0.68s | validation loss: 8.79    \n",
      "Epoch 1000 | loss: 5.19     | time took: 0.68s | validation loss: 8.31    \n",
      "Epoch 1100 | loss: 4.73     | time took: 0.69s | validation loss: 8.20    \n",
      "Epoch 1200 | loss: 4.67     | time took: 0.69s | validation loss: 8.20    \n",
      "Epoch 1300 | loss: 4.51     | time took: 0.68s | validation loss: 8.31    \n",
      "Epoch 1400 | loss: 5.55     | time took: 0.68s | validation loss: 9.06    \n",
      "Epoch 1500 | loss: 4.40     | time took: 0.69s | validation loss: 8.42    \n",
      "Epoch 1600 | loss: 4.40     | time took: 0.69s | validation loss: 8.34    \n",
      "Epoch 1700 | loss: 5.60     | time took: 0.68s | validation loss: 9.16    \n",
      "Epoch 1800 | loss: 4.31     | time took: 0.69s | validation loss: 9.23    \n",
      "Epoch 1900 | loss: 4.26     | time took: 0.68s | validation loss: 9.55    \n",
      "Total time took: 0.38hrs\n",
      "Horizon 2 ==========\n",
      "Epoch 0    | loss: 4.24     | time took: 0.72s | validation loss: 9.60    \n",
      "Epoch 100  | loss: 4.26     | time took: 0.72s | validation loss: 10.01   \n",
      "Epoch 200  | loss: 4.26     | time took: 0.72s | validation loss: 10.68   \n",
      "Epoch 300  | loss: 4.83     | time took: 0.72s | validation loss: 11.06   \n",
      "Epoch 400  | loss: 4.39     | time took: 0.81s | validation loss: 11.40   \n",
      "Epoch 500  | loss: 4.40     | time took: 0.72s | validation loss: 10.93   \n",
      "Epoch 600  | loss: 4.11     | time took: 0.72s | validation loss: 10.75   \n",
      "Epoch 700  | loss: 4.05     | time took: 0.72s | validation loss: 11.28   \n",
      "Epoch 800  | loss: 4.06     | time took: 0.72s | validation loss: 11.87   \n",
      "Epoch 900  | loss: 4.28     | time took: 0.72s | validation loss: 11.02   \n",
      "Epoch 1000 | loss: 4.11     | time took: 0.72s | validation loss: 12.63   \n",
      "Epoch 1100 | loss: 4.11     | time took: 0.72s | validation loss: 11.33   \n",
      "Epoch 1200 | loss: 4.36     | time took: 0.72s | validation loss: 10.55   \n",
      "Epoch 1300 | loss: 4.66     | time took: 0.72s | validation loss: 9.54    \n",
      "Epoch 1400 | loss: 4.37     | time took: 0.72s | validation loss: 10.61   \n",
      "Epoch 1500 | loss: 4.04     | time took: 0.72s | validation loss: 12.36   \n",
      "Epoch 1600 | loss: 4.02     | time took: 0.72s | validation loss: 12.32   \n",
      "Epoch 1700 | loss: 4.23     | time took: 0.72s | validation loss: 10.57   \n",
      "Epoch 1800 | loss: 4.05     | time took: 0.72s | validation loss: 12.05   \n",
      "Epoch 1900 | loss: 4.12     | time took: 0.72s | validation loss: 10.14   \n",
      "Total time took: 0.78hrs\n",
      "Horizon 4 ==========\n",
      "Epoch 0    | loss: 4.45     | time took: 0.73s | validation loss: 11.52   \n",
      "Epoch 100  | loss: 4.05     | time took: 0.72s | validation loss: 11.07   \n",
      "Epoch 200  | loss: 4.06     | time took: 0.72s | validation loss: 12.23   \n",
      "Epoch 300  | loss: 4.21     | time took: 0.72s | validation loss: 10.42   \n",
      "Epoch 400  | loss: 4.21     | time took: 0.72s | validation loss: 11.57   \n",
      "Epoch 500  | loss: 4.10     | time took: 0.72s | validation loss: 13.63   \n",
      "Epoch 600  | loss: 4.18     | time took: 0.72s | validation loss: 13.40   \n",
      "Epoch 700  | loss: 4.14     | time took: 0.73s | validation loss: 13.33   \n",
      "Epoch 800  | loss: 4.10     | time took: 0.73s | validation loss: 12.25   \n",
      "Epoch 900  | loss: 4.32     | time took: 0.72s | validation loss: 12.07   \n",
      "Epoch 1000 | loss: 4.79     | time took: 0.72s | validation loss: 12.14   \n",
      "Epoch 1100 | loss: 3.98     | time took: 0.72s | validation loss: 13.43   \n",
      "Epoch 1200 | loss: 4.06     | time took: 0.72s | validation loss: 11.96   \n",
      "Epoch 1300 | loss: 3.99     | time took: 0.72s | validation loss: 12.35   \n",
      "Epoch 1400 | loss: 4.02     | time took: 0.73s | validation loss: 12.14   \n",
      "Epoch 1500 | loss: 4.11     | time took: 0.73s | validation loss: 12.67   \n",
      "Epoch 1600 | loss: 3.95     | time took: 0.73s | validation loss: 12.46   \n",
      "Epoch 1700 | loss: 3.87     | time took: 0.72s | validation loss: 12.81   \n",
      "Epoch 1800 | loss: 3.95     | time took: 0.72s | validation loss: 12.79   \n",
      "Epoch 1900 | loss: 4.04     | time took: 0.72s | validation loss: 12.39   \n",
      "Total time took: 1.18hrs\n",
      "Horizon 6 ==========\n",
      "Epoch 0    | loss: 4.24     | time took: 0.73s | validation loss: 11.53   \n",
      "Epoch 100  | loss: 4.42     | time took: 0.73s | validation loss: 11.62   \n",
      "Epoch 200  | loss: 4.13     | time took: 0.72s | validation loss: 11.42   \n",
      "Epoch 300  | loss: 3.97     | time took: 0.73s | validation loss: 12.29   \n",
      "Epoch 400  | loss: 4.09     | time took: 0.74s | validation loss: 11.77   \n",
      "Epoch 500  | loss: 3.97     | time took: 0.73s | validation loss: 12.96   \n",
      "Epoch 600  | loss: 4.75     | time took: 0.73s | validation loss: 12.53   \n",
      "Epoch 700  | loss: 3.90     | time took: 0.73s | validation loss: 11.99   \n",
      "Epoch 800  | loss: 3.98     | time took: 0.73s | validation loss: 13.32   \n",
      "Epoch 900  | loss: 3.91     | time took: 0.73s | validation loss: 12.46   \n",
      "Epoch 1000 | loss: 4.06     | time took: 0.72s | validation loss: 12.89   \n",
      "Epoch 1100 | loss: 4.03     | time took: 0.73s | validation loss: 9.98    \n",
      "Epoch 1200 | loss: 4.07     | time took: 0.72s | validation loss: 10.47   \n",
      "Epoch 1300 | loss: 4.16     | time took: 0.73s | validation loss: 11.60   \n",
      "Epoch 1400 | loss: 3.94     | time took: 0.73s | validation loss: 13.58   \n",
      "Epoch 1500 | loss: 4.01     | time took: 0.73s | validation loss: 11.42   \n",
      "Epoch 1600 | loss: 4.13     | time took: 0.73s | validation loss: 10.34   \n",
      "Epoch 1700 | loss: 3.97     | time took: 0.73s | validation loss: 11.38   \n"
     ]
    },
    {
     "name": "stdout",
     "output_type": "stream",
     "text": [
      "Epoch 1800 | loss: 3.97     | time took: 0.74s | validation loss: 11.94   \n",
      "Epoch 1900 | loss: 3.83     | time took: 0.73s | validation loss: 12.09   \n",
      "Total time took: 1.59hrs\n",
      "Done saving model for 3 \n",
      "\n",
      "Wroking on policy 4\n",
      "Horizon 0 ==========\n",
      "Epoch 0    | loss: 293.25   | time took: 0.76s | validation loss: 222.52  \n",
      "Epoch 100  | loss: 10.04    | time took: 0.68s | validation loss: 12.85   \n",
      "Epoch 200  | loss: 8.57     | time took: 0.68s | validation loss: 11.16   \n",
      "Epoch 300  | loss: 6.21     | time took: 0.68s | validation loss: 9.30    \n",
      "Epoch 400  | loss: 8.36     | time took: 0.68s | validation loss: 16.64   \n",
      "Epoch 500  | loss: 5.64     | time took: 0.69s | validation loss: 9.30    \n",
      "Epoch 600  | loss: 5.09     | time took: 0.69s | validation loss: 8.51    \n",
      "Epoch 700  | loss: 5.03     | time took: 0.69s | validation loss: 8.15    \n",
      "Epoch 800  | loss: 5.75     | time took: 0.68s | validation loss: 9.79    \n",
      "Epoch 900  | loss: 4.95     | time took: 0.68s | validation loss: 8.19    \n",
      "Epoch 1000 | loss: 4.76     | time took: 0.68s | validation loss: 8.35    \n",
      "Epoch 1100 | loss: 4.52     | time took: 0.69s | validation loss: 8.11    \n",
      "Epoch 1200 | loss: 4.46     | time took: 0.68s | validation loss: 8.48    \n",
      "Epoch 1300 | loss: 4.83     | time took: 0.69s | validation loss: 8.51    \n",
      "Epoch 1400 | loss: 4.31     | time took: 0.69s | validation loss: 8.95    \n",
      "Epoch 1500 | loss: 4.67     | time took: 0.68s | validation loss: 8.57    \n",
      "Epoch 1600 | loss: 4.64     | time took: 0.68s | validation loss: 9.09    \n",
      "Epoch 1700 | loss: 4.43     | time took: 0.69s | validation loss: 10.68   \n",
      "Epoch 1800 | loss: 4.42     | time took: 0.68s | validation loss: 8.98    \n",
      "Epoch 1900 | loss: 4.19     | time took: 0.69s | validation loss: 8.84    \n",
      "Total time took: 0.38hrs\n",
      "Horizon 2 ==========\n",
      "Epoch 0    | loss: 4.45     | time took: 0.71s | validation loss: 9.49    \n",
      "Epoch 100  | loss: 4.48     | time took: 0.71s | validation loss: 14.41   \n",
      "Epoch 200  | loss: 4.32     | time took: 0.71s | validation loss: 14.60   \n",
      "Epoch 300  | loss: 4.22     | time took: 0.71s | validation loss: 12.18   \n",
      "Epoch 400  | loss: 4.33     | time took: 0.71s | validation loss: 16.72   \n",
      "Epoch 500  | loss: 4.25     | time took: 0.71s | validation loss: 15.32   \n",
      "Epoch 600  | loss: 4.46     | time took: 0.71s | validation loss: 15.84   \n",
      "Epoch 700  | loss: 4.06     | time took: 0.72s | validation loss: 16.89   \n",
      "Epoch 800  | loss: 4.48     | time took: 0.71s | validation loss: 12.39   \n",
      "Epoch 900  | loss: 4.37     | time took: 0.71s | validation loss: 9.84    \n",
      "Epoch 1000 | loss: 4.29     | time took: 0.71s | validation loss: 13.87   \n",
      "Epoch 1100 | loss: 4.42     | time took: 0.72s | validation loss: 14.53   \n",
      "Epoch 1200 | loss: 4.35     | time took: 0.72s | validation loss: 8.10    \n",
      "Epoch 1300 | loss: 4.13     | time took: 0.71s | validation loss: 13.68   \n",
      "Epoch 1400 | loss: 4.22     | time took: 0.72s | validation loss: 13.63   \n",
      "Epoch 1500 | loss: 4.11     | time took: 0.71s | validation loss: 13.35   \n",
      "Epoch 1600 | loss: 4.03     | time took: 0.71s | validation loss: 13.27   \n",
      "Epoch 1700 | loss: 4.16     | time took: 0.71s | validation loss: 7.93    \n",
      "Epoch 1800 | loss: 4.10     | time took: 0.71s | validation loss: 13.81   \n",
      "Epoch 1900 | loss: 4.23     | time took: 0.71s | validation loss: 12.16   \n",
      "Total time took: 0.78hrs\n",
      "Horizon 4 ==========\n",
      "Epoch 0    | loss: 3.92     | time took: 0.72s | validation loss: 13.88   \n",
      "Epoch 100  | loss: 4.17     | time took: 0.72s | validation loss: 11.24   \n",
      "Epoch 200  | loss: 4.18     | time took: 0.72s | validation loss: 10.16   \n",
      "Epoch 300  | loss: 4.41     | time took: 0.72s | validation loss: 9.52    \n",
      "Epoch 400  | loss: 4.01     | time took: 0.72s | validation loss: 8.47    \n",
      "Epoch 500  | loss: 4.18     | time took: 0.72s | validation loss: 11.04   \n",
      "Epoch 600  | loss: 4.06     | time took: 0.72s | validation loss: 12.42   \n",
      "Epoch 700  | loss: 3.94     | time took: 0.72s | validation loss: 8.96    \n",
      "Epoch 800  | loss: 4.08     | time took: 0.72s | validation loss: 10.40   \n",
      "Epoch 900  | loss: 4.08     | time took: 0.72s | validation loss: 10.74   \n",
      "Epoch 1000 | loss: 3.95     | time took: 0.72s | validation loss: 11.81   \n",
      "Epoch 1100 | loss: 4.27     | time took: 0.72s | validation loss: 9.10    \n",
      "Epoch 1200 | loss: 4.03     | time took: 0.72s | validation loss: 8.29    \n",
      "Epoch 1300 | loss: 3.97     | time took: 0.72s | validation loss: 8.32    \n",
      "Epoch 1400 | loss: 3.91     | time took: 0.73s | validation loss: 11.35   \n",
      "Epoch 1500 | loss: 3.99     | time took: 0.72s | validation loss: 10.90   \n",
      "Epoch 1600 | loss: 4.36     | time took: 0.72s | validation loss: 10.18   \n",
      "Epoch 1700 | loss: 3.92     | time took: 0.72s | validation loss: 9.29    \n",
      "Epoch 1800 | loss: 4.17     | time took: 0.72s | validation loss: 10.17   \n",
      "Epoch 1900 | loss: 4.12     | time took: 0.72s | validation loss: 9.16    \n",
      "Total time took: 1.18hrs\n",
      "Horizon 6 ==========\n",
      "Epoch 0    | loss: 4.29     | time took: 0.72s | validation loss: 10.04   \n",
      "Epoch 100  | loss: 3.94     | time took: 0.72s | validation loss: 10.57   \n",
      "Epoch 200  | loss: 4.13     | time took: 0.72s | validation loss: 8.61    \n",
      "Epoch 300  | loss: 4.06     | time took: 0.72s | validation loss: 10.19   \n",
      "Epoch 400  | loss: 3.96     | time took: 0.72s | validation loss: 9.35    \n",
      "Epoch 500  | loss: 4.11     | time took: 0.72s | validation loss: 9.09    \n",
      "Epoch 600  | loss: 4.09     | time took: 0.72s | validation loss: 9.28    \n",
      "Epoch 700  | loss: 4.15     | time took: 0.72s | validation loss: 10.44   \n",
      "Epoch 800  | loss: 4.05     | time took: 0.72s | validation loss: 9.15    \n",
      "Epoch 900  | loss: 3.97     | time took: 0.72s | validation loss: 9.59    \n",
      "Epoch 1000 | loss: 3.88     | time took: 0.72s | validation loss: 9.34    \n",
      "Epoch 1100 | loss: 3.89     | time took: 0.72s | validation loss: 9.60    \n",
      "Epoch 1200 | loss: 3.91     | time took: 0.72s | validation loss: 9.58    \n",
      "Epoch 1300 | loss: 3.93     | time took: 0.72s | validation loss: 10.12   \n",
      "Epoch 1400 | loss: 3.87     | time took: 0.72s | validation loss: 9.65    \n",
      "Epoch 1500 | loss: 4.62     | time took: 0.72s | validation loss: 9.45    \n",
      "Epoch 1600 | loss: 4.16     | time took: 0.72s | validation loss: 9.62    \n",
      "Epoch 1700 | loss: 3.90     | time took: 0.72s | validation loss: 10.10   \n",
      "Epoch 1800 | loss: 3.96     | time took: 0.72s | validation loss: 8.52    \n",
      "Epoch 1900 | loss: 4.06     | time took: 0.72s | validation loss: 8.22    \n",
      "Total time took: 1.58hrs\n",
      "Done saving model for 4 \n",
      "\n",
      "Wroking on policy 5\n",
      "Horizon 0 ==========\n",
      "Epoch 0    | loss: 239.39   | time took: 0.77s | validation loss: 177.16  \n",
      "Epoch 100  | loss: 11.54    | time took: 0.68s | validation loss: 13.59   \n",
      "Epoch 200  | loss: 7.06     | time took: 0.68s | validation loss: 9.80    \n",
      "Epoch 300  | loss: 6.01     | time took: 0.69s | validation loss: 8.79    \n",
      "Epoch 400  | loss: 5.63     | time took: 0.68s | validation loss: 8.76    \n",
      "Epoch 500  | loss: 7.51     | time took: 0.69s | validation loss: 9.90    \n",
      "Epoch 600  | loss: 5.55     | time took: 0.68s | validation loss: 8.40    \n",
      "Epoch 700  | loss: 4.89     | time took: 0.69s | validation loss: 7.98    \n",
      "Epoch 800  | loss: 4.91     | time took: 0.68s | validation loss: 7.87    \n",
      "Epoch 900  | loss: 4.83     | time took: 0.68s | validation loss: 8.01    \n",
      "Epoch 1000 | loss: 4.70     | time took: 0.68s | validation loss: 8.34    \n",
      "Epoch 1100 | loss: 4.75     | time took: 0.68s | validation loss: 7.76    \n",
      "Epoch 1200 | loss: 4.70     | time took: 0.69s | validation loss: 7.59    \n",
      "Epoch 1300 | loss: 4.48     | time took: 0.68s | validation loss: 7.73    \n",
      "Epoch 1400 | loss: 4.36     | time took: 0.68s | validation loss: 7.78    \n",
      "Epoch 1500 | loss: 4.45     | time took: 0.69s | validation loss: 8.01    \n",
      "Epoch 1600 | loss: 4.74     | time took: 0.68s | validation loss: 8.25    \n",
      "Epoch 1700 | loss: 4.60     | time took: 0.68s | validation loss: 7.85    \n",
      "Epoch 1800 | loss: 4.47     | time took: 0.68s | validation loss: 7.38    \n",
      "Epoch 1900 | loss: 4.26     | time took: 0.69s | validation loss: 8.27    \n",
      "Total time took: 0.38hrs\n",
      "Horizon 2 ==========\n",
      "Epoch 0    | loss: 4.53     | time took: 0.72s | validation loss: 7.76    \n",
      "Epoch 100  | loss: 4.27     | time took: 0.71s | validation loss: 9.06    \n",
      "Epoch 200  | loss: 4.58     | time took: 0.71s | validation loss: 7.88    \n"
     ]
    },
    {
     "name": "stdout",
     "output_type": "stream",
     "text": [
      "Epoch 300  | loss: 4.21     | time took: 0.71s | validation loss: 9.08    \n",
      "Epoch 400  | loss: 4.28     | time took: 0.72s | validation loss: 8.64    \n",
      "Epoch 500  | loss: 4.39     | time took: 0.71s | validation loss: 7.91    \n",
      "Epoch 600  | loss: 4.18     | time took: 0.71s | validation loss: 8.80    \n",
      "Epoch 700  | loss: 4.07     | time took: 0.72s | validation loss: 9.80    \n",
      "Epoch 800  | loss: 4.12     | time took: 0.71s | validation loss: 8.15    \n",
      "Epoch 900  | loss: 4.22     | time took: 0.72s | validation loss: 8.56    \n",
      "Epoch 1000 | loss: 4.23     | time took: 0.71s | validation loss: 7.58    \n",
      "Epoch 1100 | loss: 4.06     | time took: 0.71s | validation loss: 10.33   \n",
      "Epoch 1200 | loss: 4.11     | time took: 0.71s | validation loss: 8.35    \n",
      "Epoch 1300 | loss: 4.54     | time took: 0.72s | validation loss: 8.55    \n",
      "Epoch 1400 | loss: 4.26     | time took: 0.71s | validation loss: 7.75    \n",
      "Epoch 1500 | loss: 4.33     | time took: 0.71s | validation loss: 8.32    \n",
      "Epoch 1600 | loss: 4.34     | time took: 0.71s | validation loss: 8.65    \n",
      "Epoch 1700 | loss: 4.06     | time took: 0.71s | validation loss: 8.42    \n",
      "Epoch 1800 | loss: 4.12     | time took: 0.71s | validation loss: 8.37    \n",
      "Epoch 1900 | loss: 4.44     | time took: 0.71s | validation loss: 9.16    \n",
      "Total time took: 0.78hrs\n",
      "Horizon 4 ==========\n",
      "Epoch 0    | loss: 4.20     | time took: 0.74s | validation loss: 9.68    \n",
      "Epoch 100  | loss: 4.03     | time took: 0.72s | validation loss: 8.16    \n",
      "Epoch 200  | loss: 4.62     | time took: 0.72s | validation loss: 8.29    \n",
      "Epoch 300  | loss: 4.20     | time took: 0.72s | validation loss: 9.28    \n",
      "Epoch 400  | loss: 4.05     | time took: 0.72s | validation loss: 15.19   \n",
      "Epoch 500  | loss: 3.88     | time took: 0.74s | validation loss: 8.72    \n",
      "Epoch 600  | loss: 4.25     | time took: 0.72s | validation loss: 9.74    \n",
      "Epoch 700  | loss: 4.06     | time took: 0.72s | validation loss: 8.89    \n",
      "Epoch 800  | loss: 3.86     | time took: 0.72s | validation loss: 9.47    \n",
      "Epoch 900  | loss: 4.04     | time took: 0.72s | validation loss: 8.92    \n",
      "Epoch 1000 | loss: 4.16     | time took: 0.72s | validation loss: 8.46    \n",
      "Epoch 1100 | loss: 4.11     | time took: 0.72s | validation loss: 9.05    \n",
      "Epoch 1200 | loss: 4.20     | time took: 0.72s | validation loss: 8.51    \n",
      "Epoch 1300 | loss: 3.93     | time took: 0.72s | validation loss: 8.98    \n",
      "Epoch 1400 | loss: 4.01     | time took: 0.72s | validation loss: 9.06    \n",
      "Epoch 1500 | loss: 4.03     | time took: 0.72s | validation loss: 9.20    \n",
      "Epoch 1600 | loss: 4.41     | time took: 0.72s | validation loss: 7.98    \n",
      "Epoch 1700 | loss: 3.98     | time took: 0.72s | validation loss: 9.25    \n",
      "Epoch 1800 | loss: 3.96     | time took: 0.72s | validation loss: 9.71    \n",
      "Epoch 1900 | loss: 3.96     | time took: 0.72s | validation loss: 8.49    \n",
      "Total time took: 1.18hrs\n",
      "Horizon 6 ==========\n",
      "Epoch 0    | loss: 4.21     | time took: 0.73s | validation loss: 9.10    \n",
      "Epoch 100  | loss: 4.01     | time took: 0.72s | validation loss: 8.63    \n",
      "Epoch 200  | loss: 4.24     | time took: 0.72s | validation loss: 8.81    \n",
      "Epoch 300  | loss: 4.14     | time took: 0.72s | validation loss: 8.69    \n",
      "Epoch 400  | loss: 4.00     | time took: 0.72s | validation loss: 8.02    \n",
      "Epoch 500  | loss: 4.07     | time took: 0.72s | validation loss: 8.76    \n",
      "Epoch 600  | loss: 3.99     | time took: 0.72s | validation loss: 8.98    \n",
      "Epoch 700  | loss: 3.95     | time took: 0.72s | validation loss: 8.75    \n",
      "Epoch 800  | loss: 3.93     | time took: 0.72s | validation loss: 8.66    \n",
      "Epoch 900  | loss: 3.98     | time took: 0.72s | validation loss: 8.84    \n",
      "Epoch 1000 | loss: 3.96     | time took: 0.72s | validation loss: 8.14    \n",
      "Epoch 1100 | loss: 4.05     | time took: 0.72s | validation loss: 8.62    \n",
      "Epoch 1200 | loss: 4.08     | time took: 0.72s | validation loss: 9.10    \n",
      "Epoch 1300 | loss: 3.94     | time took: 0.72s | validation loss: 9.04    \n",
      "Epoch 1400 | loss: 4.03     | time took: 0.72s | validation loss: 8.98    \n",
      "Epoch 1500 | loss: 3.84     | time took: 0.73s | validation loss: 8.82    \n",
      "Epoch 1600 | loss: 3.92     | time took: 0.72s | validation loss: 9.06    \n",
      "Epoch 1700 | loss: 4.04     | time took: 0.72s | validation loss: 8.60    \n",
      "Epoch 1800 | loss: 4.08     | time took: 0.72s | validation loss: 9.25    \n",
      "Epoch 1900 | loss: 3.88     | time took: 0.73s | validation loss: 9.27    \n",
      "Total time took: 1.58hrs\n",
      "Done saving model for 5 \n",
      "\n",
      "Wroking on policy 6\n",
      "Horizon 0 ==========\n",
      "Epoch 0    | loss: 238.70   | time took: 0.76s | validation loss: 166.68  \n",
      "Epoch 100  | loss: 8.34     | time took: 0.69s | validation loss: 12.02   \n",
      "Epoch 200  | loss: 7.04     | time took: 0.68s | validation loss: 10.87   \n",
      "Epoch 300  | loss: 6.27     | time took: 0.69s | validation loss: 9.83    \n",
      "Epoch 400  | loss: 6.59     | time took: 0.68s | validation loss: 9.61    \n",
      "Epoch 500  | loss: 5.68     | time took: 0.69s | validation loss: 9.88    \n",
      "Epoch 600  | loss: 5.23     | time took: 0.69s | validation loss: 8.96    \n",
      "Epoch 700  | loss: 5.27     | time took: 0.69s | validation loss: 9.15    \n",
      "Epoch 800  | loss: 5.07     | time took: 0.68s | validation loss: 9.45    \n",
      "Epoch 900  | loss: 5.17     | time took: 0.68s | validation loss: 9.05    \n",
      "Epoch 1000 | loss: 4.62     | time took: 0.68s | validation loss: 8.91    \n",
      "Epoch 1100 | loss: 4.52     | time took: 0.68s | validation loss: 8.53    \n",
      "Epoch 1200 | loss: 4.47     | time took: 0.69s | validation loss: 8.68    \n",
      "Epoch 1300 | loss: 4.50     | time took: 0.69s | validation loss: 8.64    \n",
      "Epoch 1400 | loss: 4.50     | time took: 0.69s | validation loss: 9.18    \n",
      "Epoch 1500 | loss: 4.53     | time took: 0.69s | validation loss: 8.71    \n",
      "Epoch 1600 | loss: 4.48     | time took: 0.69s | validation loss: 8.54    \n",
      "Epoch 1700 | loss: 4.43     | time took: 0.68s | validation loss: 8.61    \n",
      "Epoch 1800 | loss: 4.27     | time took: 0.69s | validation loss: 8.75    \n",
      "Epoch 1900 | loss: 4.50     | time took: 0.68s | validation loss: 8.57    \n",
      "Total time took: 0.38hrs\n",
      "Horizon 2 ==========\n",
      "Epoch 0    | loss: 4.74     | time took: 0.72s | validation loss: 8.85    \n",
      "Epoch 100  | loss: 4.60     | time took: 0.72s | validation loss: 10.57   \n",
      "Epoch 200  | loss: 4.42     | time took: 0.71s | validation loss: 9.78    \n",
      "Epoch 300  | loss: 4.40     | time took: 0.71s | validation loss: 9.65    \n",
      "Epoch 400  | loss: 4.40     | time took: 0.72s | validation loss: 8.13    \n",
      "Epoch 500  | loss: 4.21     | time took: 0.71s | validation loss: 9.69    \n",
      "Epoch 600  | loss: 4.32     | time took: 0.72s | validation loss: 8.96    \n",
      "Epoch 700  | loss: 4.24     | time took: 0.72s | validation loss: 9.32    \n",
      "Epoch 800  | loss: 4.16     | time took: 0.72s | validation loss: 9.21    \n",
      "Epoch 900  | loss: 4.32     | time took: 0.71s | validation loss: 10.27   \n",
      "Epoch 1000 | loss: 4.25     | time took: 0.71s | validation loss: 8.02    \n",
      "Epoch 1100 | loss: 4.15     | time took: 0.72s | validation loss: 8.91    \n",
      "Epoch 1200 | loss: 4.20     | time took: 0.72s | validation loss: 9.34    \n",
      "Epoch 1300 | loss: 4.71     | time took: 0.72s | validation loss: 9.57    \n",
      "Epoch 1400 | loss: 4.10     | time took: 0.72s | validation loss: 10.65   \n",
      "Epoch 1500 | loss: 4.16     | time took: 0.72s | validation loss: 9.31    \n",
      "Epoch 1600 | loss: 4.05     | time took: 0.72s | validation loss: 9.67    \n",
      "Epoch 1700 | loss: 4.37     | time took: 0.71s | validation loss: 8.19    \n",
      "Epoch 1800 | loss: 4.29     | time took: 0.71s | validation loss: 9.53    \n",
      "Epoch 1900 | loss: 4.09     | time took: 0.72s | validation loss: 8.42    \n",
      "Total time took: 0.78hrs\n",
      "Horizon 4 ==========\n",
      "Epoch 0    | loss: 4.33     | time took: 0.73s | validation loss: 8.14    \n",
      "Epoch 100  | loss: 4.07     | time took: 0.72s | validation loss: 8.21    \n",
      "Epoch 200  | loss: 4.21     | time took: 0.72s | validation loss: 7.54    \n",
      "Epoch 300  | loss: 4.10     | time took: 0.72s | validation loss: 7.65    \n",
      "Epoch 400  | loss: 3.96     | time took: 0.72s | validation loss: 7.79    \n",
      "Epoch 500  | loss: 4.09     | time took: 0.72s | validation loss: 7.46    \n",
      "Epoch 600  | loss: 3.96     | time took: 0.72s | validation loss: 8.14    \n",
      "Epoch 700  | loss: 3.92     | time took: 0.72s | validation loss: 7.73    \n",
      "Epoch 800  | loss: 4.10     | time took: 0.72s | validation loss: 7.41    \n"
     ]
    },
    {
     "name": "stdout",
     "output_type": "stream",
     "text": [
      "Epoch 900  | loss: 4.10     | time took: 0.72s | validation loss: 7.38    \n",
      "Epoch 1000 | loss: 4.03     | time took: 0.72s | validation loss: 7.77    \n",
      "Epoch 1100 | loss: 3.91     | time took: 0.72s | validation loss: 7.65    \n",
      "Epoch 1200 | loss: 3.81     | time took: 0.72s | validation loss: 7.62    \n",
      "Epoch 1300 | loss: 3.83     | time took: 0.72s | validation loss: 7.91    \n",
      "Epoch 1400 | loss: 4.01     | time took: 0.72s | validation loss: 7.70    \n",
      "Epoch 1500 | loss: 4.19     | time took: 0.72s | validation loss: 7.71    \n",
      "Epoch 1600 | loss: 4.06     | time took: 0.72s | validation loss: 7.97    \n",
      "Epoch 1700 | loss: 3.92     | time took: 0.72s | validation loss: 7.76    \n",
      "Epoch 1800 | loss: 3.85     | time took: 0.72s | validation loss: 7.78    \n",
      "Epoch 1900 | loss: 4.07     | time took: 0.72s | validation loss: 7.97    \n",
      "Total time took: 1.18hrs\n",
      "Horizon 6 ==========\n",
      "Epoch 0    | loss: 3.95     | time took: 0.73s | validation loss: 7.51    \n",
      "Epoch 100  | loss: 3.93     | time took: 0.72s | validation loss: 7.70    \n",
      "Epoch 200  | loss: 3.90     | time took: 0.72s | validation loss: 7.81    \n",
      "Epoch 300  | loss: 3.85     | time took: 0.72s | validation loss: 7.75    \n",
      "Epoch 400  | loss: 3.74     | time took: 0.72s | validation loss: 7.97    \n",
      "Epoch 500  | loss: 4.29     | time took: 0.72s | validation loss: 8.27    \n",
      "Epoch 600  | loss: 3.84     | time took: 0.72s | validation loss: 7.71    \n",
      "Epoch 700  | loss: 3.84     | time took: 0.72s | validation loss: 8.08    \n",
      "Epoch 800  | loss: 3.89     | time took: 0.73s | validation loss: 7.95    \n",
      "Epoch 900  | loss: 3.89     | time took: 0.72s | validation loss: 7.75    \n",
      "Epoch 1000 | loss: 3.80     | time took: 0.72s | validation loss: 7.90    \n",
      "Epoch 1100 | loss: 3.78     | time took: 0.72s | validation loss: 8.02    \n",
      "Epoch 1200 | loss: 3.72     | time took: 0.72s | validation loss: 8.38    \n",
      "Epoch 1300 | loss: 3.87     | time took: 0.72s | validation loss: 8.13    \n",
      "Epoch 1400 | loss: 3.81     | time took: 0.73s | validation loss: 7.92    \n",
      "Epoch 1500 | loss: 3.68     | time took: 0.72s | validation loss: 8.44    \n",
      "Epoch 1600 | loss: 3.89     | time took: 0.72s | validation loss: 8.23    \n",
      "Epoch 1700 | loss: 3.84     | time took: 0.72s | validation loss: 8.80    \n",
      "Epoch 1800 | loss: 3.77     | time took: 0.72s | validation loss: 8.26    \n",
      "Epoch 1900 | loss: 3.83     | time took: 0.73s | validation loss: 8.59    \n",
      "Total time took: 1.58hrs\n",
      "Done saving model for 6 \n",
      "\n"
     ]
    }
   ],
   "source": [
    "batch_size = 32\n",
    "train_all_single_policies(batch_size, sequence_length, train_game, train_target, test_game, test_target, models_path)"
   ]
  },
  {
   "cell_type": "code",
   "execution_count": null,
   "metadata": {
    "collapsed": true
   },
   "outputs": [],
   "source": []
  },
  {
   "cell_type": "code",
   "execution_count": null,
   "metadata": {
    "collapsed": true
   },
   "outputs": [],
   "source": []
  },
  {
   "cell_type": "code",
   "execution_count": null,
   "metadata": {
    "collapsed": true
   },
   "outputs": [],
   "source": []
  },
  {
   "cell_type": "markdown",
   "metadata": {},
   "source": [
    "### To do:\n",
    "\n",
    "    - 1) Regularize the lstm\n",
    "    - 2) Figure out why there are blanks in the testing\n",
    "    - 3) may consider to collect those left out from the process of creating batches\n",
    "    - 4) related to 3), seq_len = 3 may create null batches \n",
    "\n",
    "    - Split data to defending and offending, as the model for e.g. forward role in deffending and offending should be pretty different. Remove particular events, like free-throw etc.\n",
    "    \n",
    "    - We can use the shot clock as an indicator of when the offending and defending switches.\n",
    "    \n",
    "    - The cameras oprate at 25 frames per second, so in order to learn realistic motions, either we sample the 25 frames, or extend the horizon to 50 for example or even longer(this might be too computationally heavy and model would probably drift a lot).\n",
    "    \n",
    "    - At the moment if we don't have defending or offending sepearted, at least we need to break down the sequences from the 24 secs shot clock, since it usually stands for a change in game state. (note: shot clock sometimes is None)\n",
    "    \n",
    "    - Add tensorboard visualization. Add validation performance (maybe, it would take longer). \n",
    "      tensorboard --logdir=./train_logs\n",
    "      \n",
    "    - Start thinking about 1) joint training 2) Hidden structure 3) Smooth learning\n",
    "    - from each sample to next sample theres not much change, subsample them "
   ]
  },
  {
   "cell_type": "markdown",
   "metadata": {
    "collapsed": true
   },
   "source": [
    "### Questions\n",
    "\n",
    "    * After a team scored and they go back to get ready for defense, is the going back trajectory pretty much random?\n",
    "    * Do player swap roles during the play? e.g. a forward swapped to a guard, is the forward roles a lot different from gaurds these day? (i.e. can you differentaite a player plaing forward from guard from the game) If yes, then the hidden structure learning/sequencing is necessary. "
   ]
  },
  {
   "cell_type": "code",
   "execution_count": null,
   "metadata": {
    "collapsed": true
   },
   "outputs": [],
   "source": []
  }
 ],
 "metadata": {
  "kernelspec": {
   "display_name": "Python 3",
   "language": "python",
   "name": "python3"
  },
  "language_info": {
   "codemirror_mode": {
    "name": "ipython",
    "version": 3
   },
   "file_extension": ".py",
   "mimetype": "text/x-python",
   "name": "python",
   "nbconvert_exporter": "python",
   "pygments_lexer": "ipython3",
   "version": "3.6.4"
  }
 },
 "nbformat": 4,
 "nbformat_minor": 2
}
