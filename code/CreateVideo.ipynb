{
 "cells": [
  {
   "cell_type": "code",
   "execution_count": 1,
   "metadata": {},
   "outputs": [],
   "source": [
    "import pandas as pd\n",
    "import numpy as np\n",
    "import glob, os, sys\n",
    "import re\n",
    "osp = sys.platform\n",
    "# import matplotlib.pyplot as plt\n",
    "# %matplotlib inline\n",
    "\n",
    "from utilities import PlotGame, LoadData, make_video\n",
    "from helpers import id_player, id_position, id_teams\n",
    "\n",
    "# ---------------------------------------------------------\n",
    "%load_ext autoreload\n",
    "%autoreload 2"
   ]
  },
  {
   "cell_type": "code",
   "execution_count": 2,
   "metadata": {},
   "outputs": [],
   "source": [
    "# directories\n",
    "main_dir = '../'\n",
    "game_dir = main_dir+'data/'\n",
    "# court_path = data_dir + 'nba_court_T.png'\n",
    "\n",
    "file_names = glob.glob(game_dir+'*.pkl')\n",
    "gameids = [re.findall('\\d+', i)[0] for i in file_names]\n",
    "gameids = sorted(gameids, key=lambda x: int(x))"
   ]
  },
  {
   "cell_type": "code",
   "execution_count": 3,
   "metadata": {
    "scrolled": true
   },
   "outputs": [
    {
     "name": "stdout",
     "output_type": "stream",
     "text": [
      "0021500009 ==========\n",
      "court position >>> 0 | team >>> toronto raptors\n",
      "(268, 8) 150\n",
      "../data/game0021500009/event0/0.mp4\n",
      "The output video is ../data/game0021500009/event0/0.mp4\n",
      "0021500024 ==========\n",
      "court position >>> 1 | team >>> toronto raptors\n",
      "(283, 8) 150\n",
      "../data/game0021500024/event0/0.mp4\n",
      "The output video is ../data/game0021500024/event0/0.mp4\n",
      "0021500042 ==========\n",
      "court position >>> 1 | team >>> milwaukee bucks\n",
      "(233, 8) 150\n",
      "../data/game0021500042/event0/0.mp4\n",
      "The output video is ../data/game0021500042/event0/0.mp4\n",
      "0021500057 ==========\n",
      "court position >>> 1 | team >>> toronto raptors\n",
      "(208, 8) 150\n",
      "../data/game0021500057/event0/0.mp4\n",
      "The output video is ../data/game0021500057/event0/0.mp4\n",
      "0021500066 ==========\n",
      "court position >>> 0 | team >>> oklahoma city thunder\n",
      "(258, 8) 48\n",
      "../data/game0021500066/event0/0.mp4\n",
      "The output video is ../data/game0021500066/event0/0.mp4\n",
      "0021500075 ==========\n",
      "court position >>> 0 | team >>> orlando magic\n",
      "(197, 8) 107\n",
      "../data/game0021500075/event0/0.mp4\n",
      "The output video is ../data/game0021500075/event0/0.mp4\n",
      "0021500096 ==========\n",
      "court position >>> 0 | team >>> miami heat\n",
      "(239, 8) 150\n",
      "../data/game0021500096/event0/0.mp4\n",
      "The output video is ../data/game0021500096/event0/0.mp4\n",
      "0021500109 ==========\n",
      "court position >>> 1 | team >>> new york knicks\n",
      "(252, 8) 150\n",
      "../data/game0021500109/event0/0.mp4\n",
      "The output video is ../data/game0021500109/event0/0.mp4\n",
      "0021500115 ==========\n",
      "court position >>> 1 | team >>> toronto raptors\n",
      "(227, 8) 150\n",
      "../data/game0021500115/event0/0.mp4\n",
      "The output video is ../data/game0021500115/event0/0.mp4\n",
      "0021500131 ==========\n",
      "court position >>> 1 | team >>> new orleans pelicans\n",
      "(233, 8) 150\n",
      "../data/game0021500131/event0/0.mp4\n",
      "The output video is ../data/game0021500131/event0/0.mp4\n",
      "0021500150 ==========\n",
      "court position >>> 0 | team >>> sacramento kings\n",
      "(220, 8) 150\n",
      "../data/game0021500150/event0/0.mp4\n",
      "The output video is ../data/game0021500150/event0/0.mp4\n",
      "0021500164 ==========\n",
      "court position >>> 1 | team >>> toronto raptors\n",
      "(274, 8) 124\n",
      "../data/game0021500164/event0/0.mp4\n",
      "The output video is ../data/game0021500164/event0/0.mp4\n",
      "0021500173 ==========\n",
      "court position >>> 1 | team >>> toronto raptors\n",
      "(226, 8) 800\n",
      "../data/game0021500173/event0/0.mp4\n",
      "The output video is ../data/game0021500173/event0/0.mp4\n",
      "0021500188 ==========\n",
      "court position >>> 1 | team >>> toronto raptors\n",
      "(217, 8) 150\n",
      "../data/game0021500188/event0/0.mp4\n",
      "The output video is ../data/game0021500188/event0/0.mp4\n",
      "0021500196 ==========\n",
      "court position >>> 1 | team >>> toronto raptors\n",
      "(234, 8) 150\n",
      "../data/game0021500196/event0/0.mp4\n",
      "The output video is ../data/game0021500196/event0/0.mp4\n",
      "0021500219 ==========\n",
      "court position >>> 1 | team >>> cleveland cavaliers\n",
      "(225, 8) 600\n",
      "../data/game0021500219/event0/0.mp4\n",
      "The output video is ../data/game0021500219/event0/0.mp4\n",
      "0021500239 ==========\n",
      "court position >>> 1 | team >>> toronto raptors\n",
      "(251, 8) 150\n",
      "../data/game0021500239/event0/0.mp4\n",
      "The output video is ../data/game0021500239/event0/0.mp4\n",
      "0021500250 ==========\n",
      "court position >>> 1 | team >>> phoenix suns\n",
      "(261, 8) 150\n",
      "../data/game0021500250/event0/0.mp4\n",
      "The output video is ../data/game0021500250/event0/0.mp4\n",
      "0021500272 ==========\n",
      "court position >>> 0 | team >>> atlanta hawks\n",
      "(200, 8) 150\n",
      "../data/game0021500272/event0/0.mp4\n",
      "The output video is ../data/game0021500272/event0/0.mp4\n",
      "0021500278 ==========\n",
      "court position >>> 1 | team >>> denver nuggets\n",
      "(233, 8) 150\n",
      "../data/game0021500278/event0/0.mp4\n",
      "The output video is ../data/game0021500278/event0/0.mp4\n",
      "0021500290 ==========\n",
      "court position >>> 0 | team >>> toronto raptors\n",
      "(246, 8) 150\n",
      "../data/game0021500290/event0/0.mp4\n",
      "The output video is ../data/game0021500290/event0/0.mp4\n",
      "0021500308 ==========\n",
      "court position >>> 1 | team >>> los angeles lakers\n",
      "(246, 8) 150\n",
      "../data/game0021500308/event0/0.mp4\n",
      "The output video is ../data/game0021500308/event0/0.mp4\n",
      "0021500323 ==========\n",
      "court position >>> 0 | team >>> toronto raptors\n",
      "(228, 8) 150\n",
      "../data/game0021500323/event0/0.mp4\n",
      "The output video is ../data/game0021500323/event0/0.mp4\n",
      "0021500337 ==========\n",
      "court position >>> 1 | team >>> milwaukee bucks\n",
      "(234, 8) 151\n",
      "../data/game0021500337/event0/0.mp4\n",
      "The output video is ../data/game0021500337/event0/0.mp4\n",
      "0021500355 ==========\n",
      "court position >>> 1 | team >>> philadelphia 76ers\n",
      "(243, 8) 150\n",
      "../data/game0021500355/event0/0.mp4\n",
      "The output video is ../data/game0021500355/event0/0.mp4\n",
      "0021500357 ==========\n",
      "court position >>> 1 | team >>> toronto raptors\n",
      "(207, 8) 150\n",
      "../data/game0021500357/event0/0.mp4\n",
      "The output video is ../data/game0021500357/event0/0.mp4\n",
      "0021500383 ==========\n",
      "court position >>> 1 | team >>> toronto raptors\n",
      "(277, 8) 150\n",
      "../data/game0021500383/event0/0.mp4\n",
      "The output video is ../data/game0021500383/event0/0.mp4\n",
      "0021500390 ==========\n",
      "court position >>> 0 | team >>> miami heat\n",
      "(220, 8) 150\n",
      "../data/game0021500390/event0/0.mp4\n",
      "The output video is ../data/game0021500390/event0/0.mp4\n",
      "0021500408 ==========\n",
      "court position >>> 1 | team >>> sacramento kings\n",
      "(225, 8) 150\n",
      "../data/game0021500408/event0/0.mp4\n",
      "The output video is ../data/game0021500408/event0/0.mp4\n",
      "0021500421 ==========\n",
      "court position >>> 1 | team >>> dallas mavericks\n",
      "(265, 8) 150\n",
      "../data/game0021500421/event0/0.mp4\n",
      "The output video is ../data/game0021500421/event0/0.mp4\n",
      "0021500441 ==========\n",
      "court position >>> 0 | team >>> milwaukee bucks\n",
      "(220, 8) 86\n",
      "../data/game0021500441/event0/0.mp4\n",
      "The output video is ../data/game0021500441/event0/0.mp4\n",
      "0021500463 ==========\n",
      "court position >>> 1 | team >>> toronto raptors\n",
      "(231, 8) 150\n",
      "../data/game0021500463/event0/0.mp4\n",
      "The output video is ../data/game0021500463/event0/0.mp4\n",
      "0021500477 ==========\n",
      "court position >>> 1 | team >>> washington wizards\n",
      "(250, 8) 150\n",
      "../data/game0021500477/event0/0.mp4\n",
      "The output video is ../data/game0021500477/event0/0.mp4\n",
      "0021500492 ==========\n",
      "court position >>> 1 | team >>> charlotte hornets\n",
      "(230, 8) 150\n",
      "../data/game0021500492/event0/0.mp4\n",
      "The output video is ../data/game0021500492/event0/0.mp4\n",
      "0021500507 ==========\n",
      "court position >>> 0 | team >>> toronto raptors\n",
      "(255, 8) 150\n",
      "../data/game0021500507/event0/0.mp4\n",
      "The output video is ../data/game0021500507/event0/0.mp4\n",
      "0021500511 ==========\n",
      "court position >>> 1 | team >>> toronto raptors\n",
      "(192, 8) 150\n",
      "../data/game0021500511/event0/0.mp4\n",
      "The output video is ../data/game0021500511/event0/0.mp4\n",
      "0021500529 ==========\n",
      "court position >>> 1 | team >>> toronto raptors\n",
      "(201, 8) 122\n",
      "../data/game0021500529/event0/0.mp4\n",
      "The output video is ../data/game0021500529/event0/0.mp4\n",
      "0021500540 ==========\n",
      "court position >>> 1 | team >>> toronto raptors\n",
      "(249, 8) 150\n",
      "../data/game0021500540/event0/0.mp4\n",
      "The output video is ../data/game0021500540/event0/0.mp4\n",
      "0021500554 ==========\n",
      "court position >>> 1 | team >>> toronto raptors\n",
      "(194, 8) 150\n",
      "../data/game0021500554/event0/0.mp4\n",
      "The output video is ../data/game0021500554/event0/0.mp4\n",
      "0021500621 ==========\n",
      "court position >>> 0 | team >>> toronto raptors\n",
      "(215, 8) 150\n",
      "../data/game0021500621/event0/0.mp4\n",
      "The output video is ../data/game0021500621/event0/0.mp4\n",
      "0021500633 ==========\n",
      "court position >>> 0 | team >>> toronto raptors\n",
      "(219, 8) 615\n",
      "../data/game0021500633/event0/0.mp4\n",
      "The output video is ../data/game0021500633/event0/0.mp4\n",
      "0021500649 ==========\n",
      "court position >>> 1 | team >>> miami heat\n",
      "(198, 8) 150\n",
      "../data/game0021500649/event0/0.mp4\n",
      "The output video is ../data/game0021500649/event0/0.mp4\n"
     ]
    }
   ],
   "source": [
    "def create_event(gameid, event_number, video=True):    \n",
    "    Data = LoadData(main_dir, game_dir)\n",
    "    data = Data.load_game(gameid)\n",
    "    \n",
    "    # get events and number of events\n",
    "    event_df = pd.DataFrame(data['events'])\n",
    "    team_map = id_teams([event_df])\n",
    "    \n",
    "    # get the mean of the team\n",
    "    # use the first moment from first moment\n",
    "    init_moment = np.array(event_df['moments'][0][0][5])\n",
    "#     print(init_moment)\n",
    "    assert len(init_moment) == 11\n",
    "    t1 = init_moment[1:6, :]\n",
    "    t2 = init_moment[6:, :]\n",
    "    tx_mean1 = np.mean(t1[:, 2], axis=0)\n",
    "    tx_mean2 = np.mean(t2[:, 2], axis=0)\n",
    "    court_position = -1\n",
    "    oteam = 'none'\n",
    "    if tx_mean1 > tx_mean2:\n",
    "        court_position = 1\n",
    "        oteam = team_map[t2[0][0]]\n",
    "    else:\n",
    "        court_position = 0\n",
    "        oteam = team_map[t1[0][0]]\n",
    "        \n",
    "    print('court position >>> {0:} | team >>> {1:}'.format(court_position, oteam))\n",
    "    n_events = event_df.shape[0]\n",
    "    # get numebr of moments\n",
    "    moments = event_df.iloc[event_number,:]['moments']\n",
    "    n_moments = len(moments)\n",
    "\n",
    "    print(event_df.shape, n_moments)\n",
    "#     event_df.head()\n",
    "    \n",
    "    Plot = PlotGame(gameid, main_dir, game_dir)\n",
    "    # save all moments for a specific events\n",
    "    moments = range(n_moments)\n",
    "    for i in moments:\n",
    "        print(i, end='\\r')\n",
    "        Plot.load_moment2img(data, event_number, i)\n",
    "    #     break\n",
    "    \n",
    "    if video:\n",
    "        # prepare to save videos\n",
    "        event_dir = game_dir + 'game' + str(gameid) + '/' + 'event' + str(event_number) + '/'\n",
    "        video_name = event_dir + str(event_number) + '.mp4'\n",
    "        print(video_name)\n",
    "        images = glob.glob(event_dir + \"*.png\")\n",
    "        if osp == 'linux':\n",
    "            # this is pretty hard-coded, should change\n",
    "            images = sorted(images, key=lambda x: int(x.split('.')[2].split('/')[-1]))\n",
    "        else:\n",
    "            images = sorted(images, key=lambda x: int(x.split('\\\\')[-1].split('.')[0]))\n",
    "        # print(images)\n",
    "        # save to video\n",
    "        make_video(images, video_name, 15)\n",
    "    \n",
    "    return court_position, oteam\n",
    "        \n",
    "# we try to extract which team belongs to the left most\n",
    "# i.e. (0,0) side\n",
    "court_positions_id = {}\n",
    "court_positions_team = {}\n",
    "# we will create all the event 0 for all game id\n",
    "for i in gameids:\n",
    "    print(i, '='*10)\n",
    "    court_positions_id[i], court_positions_team[i] = create_event(i, 0, video=True)"
   ]
  },
  {
   "cell_type": "code",
   "execution_count": 9,
   "metadata": {},
   "outputs": [],
   "source": [
    "# fix mistakes\n",
    "# 0021500290: 1, golden state warriors\n",
    "# 0021500463: 0, chicago bulls\n",
    "court_positions_id['0021500290'] = 1\n",
    "court_positions_team['0021500290'] = 'golden state warriors'\n",
    "\n",
    "court_positions_id['0021500463'] = 0\n",
    "court_positions_team['0021500463'] = 'chicago bulls'"
   ]
  },
  {
   "cell_type": "code",
   "execution_count": 15,
   "metadata": {},
   "outputs": [],
   "source": [
    "# save to meta\n",
    "df = pd.DataFrame.from_dict(court_positions_team, orient='index')\n",
    "df.reset_index(inplace=True)\n",
    "df = df.rename(columns={'index': 'game_id', 0: 'court_position'})\n",
    "df.to_csv('./meta_data/court_name.csv', index=False)"
   ]
  },
  {
   "cell_type": "code",
   "execution_count": null,
   "metadata": {
    "collapsed": true
   },
   "outputs": [],
   "source": []
  },
  {
   "cell_type": "code",
   "execution_count": null,
   "metadata": {
    "collapsed": true
   },
   "outputs": [],
   "source": [
    "# # get events and number of events\n",
    "# event_df = pd.DataFrame(data['events'])\n",
    "# n_events = event_df.shape[0]\n",
    "# # get numebr of moments\n",
    "# moments = event_df.iloc[event_number,:]['moments']\n",
    "# n_moments = len(moments)\n",
    "\n",
    "# print(n_moments, event_df.shape)\n",
    "# event_df.head()"
   ]
  },
  {
   "cell_type": "code",
   "execution_count": null,
   "metadata": {
    "collapsed": true
   },
   "outputs": [],
   "source": [
    "# h = event_df.home[0]\n",
    "# h_team, h_id = h['name'], h['teamid']\n",
    "\n",
    "# v = event_df.visitor[0]\n",
    "# v_team, v_id = v['name'], v['teamid']\n",
    "\n",
    "# event_number = 0"
   ]
  },
  {
   "cell_type": "code",
   "execution_count": null,
   "metadata": {},
   "outputs": [],
   "source": [
    "# Plot = PlotGame(gameid, main_dir, game_dir)\n",
    "# # save all moments for a specific events\n",
    "# moments = range(n_moments)\n",
    "# for i in moments:\n",
    "#     print(i, end='\\r')\n",
    "#     Plot.load_moment2img(data, event_number, i)\n",
    "# #     break"
   ]
  },
  {
   "cell_type": "code",
   "execution_count": null,
   "metadata": {
    "collapsed": true
   },
   "outputs": [],
   "source": []
  },
  {
   "cell_type": "code",
   "execution_count": null,
   "metadata": {
    "collapsed": true
   },
   "outputs": [],
   "source": []
  },
  {
   "cell_type": "code",
   "execution_count": null,
   "metadata": {
    "scrolled": true
   },
   "outputs": [],
   "source": [
    "# # prepare to save videos\n",
    "# event_dir = game_dir + 'game' + str(gameid) + '/' + 'event' + str(event_number) + '/'\n",
    "# video_name = event_dir + str(event_number) + '.mp4'\n",
    "# print(video_name)\n",
    "# images = glob.glob(event_dir + \"*.png\")\n",
    "# if osp == 'linux':\n",
    "#     # this is pretty hard-coded, should change\n",
    "#     images = sorted(images, key=lambda x: int(x.split('.')[2].split('/')[-1]))\n",
    "# else:\n",
    "#     images = sorted(images, key=lambda x: int(x.split('\\\\')[-1].split('.')[0]))\n",
    "# # print(images)\n",
    "# # save to video\n",
    "# make_video(images, video_name, 15)"
   ]
  },
  {
   "cell_type": "code",
   "execution_count": null,
   "metadata": {
    "collapsed": true
   },
   "outputs": [],
   "source": []
  },
  {
   "cell_type": "code",
   "execution_count": null,
   "metadata": {
    "collapsed": true
   },
   "outputs": [],
   "source": []
  },
  {
   "cell_type": "code",
   "execution_count": null,
   "metadata": {},
   "outputs": [],
   "source": [
    "event_df.loc[0,:].playbyplay"
   ]
  },
  {
   "cell_type": "code",
   "execution_count": null,
   "metadata": {},
   "outputs": [],
   "source": [
    "event_df.playbyplay[0].to_dict(orient='records')"
   ]
  },
  {
   "cell_type": "code",
   "execution_count": null,
   "metadata": {
    "collapsed": true
   },
   "outputs": [],
   "source": []
  },
  {
   "cell_type": "code",
   "execution_count": null,
   "metadata": {},
   "outputs": [],
   "source": [
    "event_df.loc[0, :].moments"
   ]
  },
  {
   "cell_type": "code",
   "execution_count": null,
   "metadata": {
    "collapsed": true
   },
   "outputs": [],
   "source": [
    "# event_df"
   ]
  },
  {
   "cell_type": "code",
   "execution_count": null,
   "metadata": {},
   "outputs": [],
   "source": [
    "id_team = id_teams([event_df])\n",
    "id_team"
   ]
  },
  {
   "cell_type": "code",
   "execution_count": null,
   "metadata": {
    "collapsed": true
   },
   "outputs": [],
   "source": [
    "hid = 1610612741\n",
    "vid = 1610612761\n",
    "hteam_state = []\n",
    "vteam_state = []\n",
    "for i in event_df.loc[0, :].moments:\n",
    "    ai = np.array(i[5])\n",
    "    assert len(ai) == 11\n",
    "    bi = np.array(i[5][0][2:4])\n",
    "    ha = ai[ai[:, 0]==hid, 2:4]\n",
    "    va = ai[ai[:, 0]==vid, 2:4]\n",
    "#     print(bi, ha, va)\n",
    "    hd = (np.sum((ha-bi)**2, axis=1)**0.5).min()\n",
    "    vd = (np.sum((va-bi)**2, axis=1)**0.5).min()\n",
    "    if hd > vd:\n",
    "        hteam_state.append('defend')\n",
    "        vteam_state.append('offend')\n",
    "    else:\n",
    "        hteam_state.append('offfend')\n",
    "        vteam_state.append('defend')\n",
    "#     break"
   ]
  },
  {
   "cell_type": "code",
   "execution_count": null,
   "metadata": {
    "collapsed": true
   },
   "outputs": [],
   "source": [
    "# hteam_state"
   ]
  },
  {
   "cell_type": "code",
   "execution_count": null,
   "metadata": {
    "collapsed": true
   },
   "outputs": [],
   "source": []
  },
  {
   "cell_type": "code",
   "execution_count": null,
   "metadata": {
    "collapsed": true
   },
   "outputs": [],
   "source": []
  },
  {
   "cell_type": "code",
   "execution_count": null,
   "metadata": {},
   "outputs": [],
   "source": [
    "a = np.array([ [1,2], [0,3] ])\n",
    "b = np.array([2, 3])\n",
    "a"
   ]
  },
  {
   "cell_type": "code",
   "execution_count": null,
   "metadata": {},
   "outputs": [],
   "source": [
    "b"
   ]
  },
  {
   "cell_type": "code",
   "execution_count": null,
   "metadata": {},
   "outputs": [],
   "source": [
    "a - b"
   ]
  },
  {
   "cell_type": "code",
   "execution_count": null,
   "metadata": {},
   "outputs": [],
   "source": [
    "(a-b)**2"
   ]
  },
  {
   "cell_type": "code",
   "execution_count": null,
   "metadata": {},
   "outputs": [],
   "source": [
    "np.sum((a-b)**2, axis=1)**0.5"
   ]
  }
 ],
 "metadata": {
  "kernelspec": {
   "display_name": "Python 3",
   "language": "python",
   "name": "python3"
  },
  "language_info": {
   "codemirror_mode": {
    "name": "ipython",
    "version": 3
   },
   "file_extension": ".py",
   "mimetype": "text/x-python",
   "name": "python",
   "nbconvert_exporter": "python",
   "pygments_lexer": "ipython3",
   "version": "3.6.4"
  }
 },
 "nbformat": 4,
 "nbformat_minor": 2
}
