{
 "cells": [
  {
   "cell_type": "code",
   "execution_count": 41,
   "metadata": {},
   "outputs": [
    {
     "name": "stdout",
     "output_type": "stream",
     "text": [
      "The autoreload extension is already loaded. To reload it, use:\n",
      "  %reload_ext autoreload\n"
     ]
    }
   ],
   "source": [
    "import tensorflow as tf\n",
    "from tensorflow.python.ops.rnn import _transpose_batch_time\n",
    "\n",
    "from datetime import datetime\n",
    "import numpy as np\n",
    "import pandas as pd\n",
    "import glob, os, sys, math, warnings\n",
    "import matplotlib.pyplot as plt\n",
    "import copy, time, glob, os, sys\n",
    "os.environ[\"TF_CPP_MIN_LOG_LEVEL\"]=\"3\"\n",
    "\n",
    "# customized ftns \n",
    "from helpers import *\n",
    "from utilities import *\n",
    "from model import *\n",
    "from train import train_all_single_policies\n",
    "# ---------------------------------------------------------\n",
    "%matplotlib inline\n",
    "%load_ext autoreload\n",
    "%autoreload 2\n",
    "warnings.filterwarnings('ignore')\n",
    "# warnings.filterwarnings(action='once')\n",
    "# ---------------------------------------------------------\n",
    "# directories\n",
    "main_dir = '../'\n",
    "game_dir = main_dir+'data/'\n",
    "Data = LoadData(main_dir, game_dir)\n",
    "models_path = './models/' "
   ]
  },
  {
   "cell_type": "markdown",
   "metadata": {},
   "source": [
    "#### Load raw data"
   ]
  },
  {
   "cell_type": "code",
   "execution_count": 2,
   "metadata": {},
   "outputs": [
    {
     "name": "stdout",
     "output_type": "stream",
     "text": [
      "raw events shape: (231, 8)\n"
     ]
    },
    {
     "data": {
      "text/html": [
       "<div>\n",
       "<style>\n",
       "    .dataframe thead tr:only-child th {\n",
       "        text-align: right;\n",
       "    }\n",
       "\n",
       "    .dataframe thead th {\n",
       "        text-align: left;\n",
       "    }\n",
       "\n",
       "    .dataframe tbody tr th {\n",
       "        vertical-align: top;\n",
       "    }\n",
       "</style>\n",
       "<table border=\"1\" class=\"dataframe\">\n",
       "  <thead>\n",
       "    <tr style=\"text-align: right;\">\n",
       "      <th></th>\n",
       "      <th>end_time_left</th>\n",
       "      <th>home</th>\n",
       "      <th>moments</th>\n",
       "      <th>orig_events</th>\n",
       "      <th>playbyplay</th>\n",
       "      <th>quarter</th>\n",
       "      <th>start_time_left</th>\n",
       "      <th>visitor</th>\n",
       "    </tr>\n",
       "  </thead>\n",
       "  <tbody>\n",
       "    <tr>\n",
       "      <th>0</th>\n",
       "      <td>702.31</td>\n",
       "      <td>{'abbreviation': 'CHI', 'players': [{'playerid...</td>\n",
       "      <td>[[1, 1451351428029, 708.28, 12.78, None, [[-1,...</td>\n",
       "      <td>[0]</td>\n",
       "      <td>GAME_ID  EVENTNUM  EVENTMSGTYPE  EVENTMS...</td>\n",
       "      <td>1</td>\n",
       "      <td>708.28</td>\n",
       "      <td>{'abbreviation': 'TOR', 'players': [{'playerid...</td>\n",
       "    </tr>\n",
       "    <tr>\n",
       "      <th>1</th>\n",
       "      <td>686.28</td>\n",
       "      <td>{'abbreviation': 'CHI', 'players': [{'playerid...</td>\n",
       "      <td>[[1, 1451351428029, 708.28, 12.78, None, [[-1,...</td>\n",
       "      <td>[1]</td>\n",
       "      <td>GAME_ID  EVENTNUM  EVENTMSGTYPE  EVENTMS...</td>\n",
       "      <td>1</td>\n",
       "      <td>708.28</td>\n",
       "      <td>{'abbreviation': 'TOR', 'players': [{'playerid...</td>\n",
       "    </tr>\n",
       "    <tr>\n",
       "      <th>2</th>\n",
       "      <td>668.42</td>\n",
       "      <td>{'abbreviation': 'CHI', 'players': [{'playerid...</td>\n",
       "      <td>[[1, 1451351444029, 692.25, 12.21, None, [[-1,...</td>\n",
       "      <td>[2, 3]</td>\n",
       "      <td>GAME_ID  EVENTNUM  EVENTMSGTYPE  EVENTMS...</td>\n",
       "      <td>1</td>\n",
       "      <td>692.25</td>\n",
       "      <td>{'abbreviation': 'TOR', 'players': [{'playerid...</td>\n",
       "    </tr>\n",
       "  </tbody>\n",
       "</table>\n",
       "</div>"
      ],
      "text/plain": [
       "   end_time_left                                               home  \\\n",
       "0         702.31  {'abbreviation': 'CHI', 'players': [{'playerid...   \n",
       "1         686.28  {'abbreviation': 'CHI', 'players': [{'playerid...   \n",
       "2         668.42  {'abbreviation': 'CHI', 'players': [{'playerid...   \n",
       "\n",
       "                                             moments orig_events  \\\n",
       "0  [[1, 1451351428029, 708.28, 12.78, None, [[-1,...         [0]   \n",
       "1  [[1, 1451351428029, 708.28, 12.78, None, [[-1,...         [1]   \n",
       "2  [[1, 1451351444029, 692.25, 12.21, None, [[-1,...      [2, 3]   \n",
       "\n",
       "                                          playbyplay  quarter  \\\n",
       "0        GAME_ID  EVENTNUM  EVENTMSGTYPE  EVENTMS...        1   \n",
       "1        GAME_ID  EVENTNUM  EVENTMSGTYPE  EVENTMS...        1   \n",
       "2        GAME_ID  EVENTNUM  EVENTMSGTYPE  EVENTMS...        1   \n",
       "\n",
       "   start_time_left                                            visitor  \n",
       "0           708.28  {'abbreviation': 'TOR', 'players': [{'playerid...  \n",
       "1           708.28  {'abbreviation': 'TOR', 'players': [{'playerid...  \n",
       "2           692.25  {'abbreviation': 'TOR', 'players': [{'playerid...  "
      ]
     },
     "execution_count": 2,
     "metadata": {},
     "output_type": "execute_result"
    }
   ],
   "source": [
    "# %%time\n",
    "game_id = '0021500463'\n",
    "game_data = Data.load_game(game_id)\n",
    "events_df = pd.DataFrame(game_data['events'])\n",
    "print('raw events shape:', events_df.shape)\n",
    "events_df.head(3)"
   ]
  },
  {
   "cell_type": "markdown",
   "metadata": {},
   "source": [
    "#### Get some suplementary data"
   ]
  },
  {
   "cell_type": "code",
   "execution_count": 3,
   "metadata": {
    "collapsed": true
   },
   "outputs": [],
   "source": [
    "# identify defending and offending runs (this is included in process_moments)\n",
    "court_index = Data.load_csv('./meta_data/court_index.csv')\n",
    "court_index = dict(zip(court_index.game_id, court_index.court_position))\n",
    "\n",
    "# home and visitor ids\n",
    "homeid = events_df.loc[0].home['teamid']\n",
    "awayid = events_df.loc[0].visitor['teamid']"
   ]
  },
  {
   "cell_type": "markdown",
   "metadata": {},
   "source": [
    "#### Pre-process \n",
    "filter events, subsample frames, add velocity, reorder moments, re-arrange team order\n",
    "shot clock, filter out event with short moments"
   ]
  },
  {
   "cell_type": "code",
   "execution_count": 4,
   "metadata": {},
   "outputs": [
    {
     "name": "stdout",
     "output_type": "stream",
     "text": [
      "After filtering events has shape: (134, 8)\n",
      "Final number of events: 165\n"
     ]
    }
   ],
   "source": [
    "# filter out actions except 1: Make, 2: Miss, 4: Rebound, 6:Personal Foul, 7:Violation\n",
    "use_event = [1, 2, 4, 6, 7]\n",
    "discard_event = [3, 5, 8, 9, 10, 12, 13, 18]\n",
    "events = filter_event_type(events_df, discard_event)\n",
    "print('After filtering events has shape:', events.shape)\n",
    "# break up sequences at 24secs shot clock point (or irregular case, e.g. out of bound maybe),\n",
    "# and obtain the game data\n",
    "subsample_factor = 0\n",
    "single_game, single_game_balls = get_game_data_ra(events, court_index, game_id, \n",
    "                                                  event_threshold=10, subsample_factor=subsample_factor)\n",
    "print('Final number of events:', len(single_game))\n",
    "\n",
    "# get player velocity\n",
    "fs_base = 1./25 # 1/25 sec/frame   or  25 frames/sec\n",
    "fs = fs_base * subsample_factor if subsample_factor != 0 else fs_base\n",
    "single_game = [get_velocity(i, fs, mode=1) for i in single_game]\n",
    "n_events = len(single_game)\n",
    "\n",
    "# get basketball velocity\n",
    "single_game_balls = [np.concatenate([i[:-1, :], get_velocity(i, fs, mode=0)], axis=1) for i in single_game_balls]"
   ]
  },
  {
   "cell_type": "code",
   "execution_count": 5,
   "metadata": {},
   "outputs": [
    {
     "data": {
      "text/plain": [
       "(37, 40)"
      ]
     },
     "execution_count": 5,
     "metadata": {},
     "output_type": "execute_result"
    }
   ],
   "source": [
    "single_game[0].shape"
   ]
  },
  {
   "cell_type": "code",
   "execution_count": 6,
   "metadata": {},
   "outputs": [
    {
     "data": {
      "text/plain": [
       "(37, 6)"
      ]
     },
     "execution_count": 6,
     "metadata": {},
     "output_type": "execute_result"
    }
   ],
   "source": [
    "single_game_balls[0].shape"
   ]
  },
  {
   "cell_type": "markdown",
   "metadata": {},
   "source": [
    "#### Role assignment and reorder moment"
   ]
  },
  {
   "cell_type": "code",
   "execution_count": 7,
   "metadata": {
    "collapsed": true
   },
   "outputs": [],
   "source": [
    "# first prepare data\n",
    "n_defend = 5\n",
    "n_offend = 5\n",
    "n_ind = 4\n",
    "\n",
    "# length for each moment\n",
    "event_lengths = np.array([len(i) for i in single_game])\n",
    "# repeat the event_lengths 5 times in order to match the unstack later on with moments\n",
    "event_lengths_repeat = np.concatenate([event_lengths for _ in range(n_defend)], axis=0)\n",
    "# all the moments\n",
    "all_moments = np.concatenate(single_game, axis=0)\n",
    "all_moments_vel = np.concatenate(single_game, axis=0) # vel\n",
    "# we only need the first 5 players x,y coordindates\n",
    "# defend\n",
    "all_defend_moments = all_moments[:, :n_ind*n_defend]\n",
    "# offend\n",
    "all_offend_moments = all_moments[:, n_ind*n_offend:]\n",
    "\n",
    "# flattened\n",
    "all_defend_moments_ = np.concatenate([all_defend_moments[:, i:i+n_ind] for i in range(0, n_ind*n_defend, n_ind)], axis=0)\n",
    "all_offend_moments_ = np.concatenate([all_offend_moments[:, i:i+n_ind] for i in range(0, n_ind*n_offend, n_ind)], axis=0)"
   ]
  },
  {
   "cell_type": "code",
   "execution_count": 8,
   "metadata": {
    "collapsed": true
   },
   "outputs": [],
   "source": [
    "# create hmm model\n",
    "n_comp = 7\n",
    "n_mix = None\n",
    "RA = RoleAssignment(n_iter=50,verbose=True)"
   ]
  },
  {
   "cell_type": "code",
   "execution_count": 9,
   "metadata": {
    "scrolled": true
   },
   "outputs": [
    {
     "name": "stderr",
     "output_type": "stream",
     "text": [
      "         1    -1526457.8325             +nan\n",
      "         2    -1268924.5854     +257533.2471\n",
      "         3    -1200828.2524      +68096.3330\n",
      "         4    -1172055.6233      +28772.6291\n",
      "         5    -1168202.8601       +3852.7632\n",
      "         6    -1166918.4365       +1284.4236\n",
      "         7    -1166079.8787        +838.5578\n",
      "         8    -1165555.5242        +524.3545\n",
      "         9    -1165269.0194        +286.5048\n",
      "        10    -1165082.1474        +186.8720\n",
      "        11    -1164971.9147        +110.2327\n",
      "        12    -1164914.3671         +57.5477\n",
      "        13    -1164891.1977         +23.1694\n",
      "        14    -1164881.8610          +9.3367\n",
      "        15    -1164877.5057          +4.3553\n",
      "        16    -1164875.3154          +2.1902\n",
      "        17    -1164874.1176          +1.1978\n",
      "        18    -1164873.3956          +0.7220\n",
      "        19    -1164872.9145          +0.4811\n",
      "        20    -1164872.5633          +0.3512\n",
      "        21    -1164872.2874          +0.2759\n",
      "        22    -1164872.0588          +0.2287\n",
      "        23    -1164871.8621          +0.1966\n",
      "        24    -1164871.6884          +0.1737\n",
      "        25    -1164871.5309          +0.1575\n",
      "        26    -1164871.3832          +0.1477\n",
      "        27    -1164871.2383          +0.1449\n",
      "        28    -1164871.0897          +0.1486\n",
      "        29    -1164870.9373          +0.1523\n",
      "        30    -1164870.7939          +0.1435\n",
      "        31    -1164870.6772          +0.1167\n",
      "        32    -1164870.5929          +0.0843\n",
      "        33    -1164870.5329          +0.0600\n",
      "        34    -1164870.4876          +0.0453\n",
      "        35    -1164870.4510          +0.0366\n",
      "        36    -1164870.4200          +0.0310\n",
      "        37    -1164870.3930          +0.0270\n",
      "        38    -1164870.3692          +0.0238\n",
      "        39    -1164870.3481          +0.0212\n",
      "        40    -1164870.3291          +0.0190\n",
      "        41    -1164870.3120          +0.0171\n",
      "        42    -1164870.2965          +0.0155\n",
      "        43    -1164870.2823          +0.0142\n",
      "        44    -1164870.2693          +0.0130\n",
      "        45    -1164870.2572          +0.0120\n",
      "        46    -1164870.2461          +0.0112\n",
      "        47    -1164870.2356          +0.0104\n",
      "        48    -1164870.2259          +0.0098\n",
      "         1    -1677542.2184             +nan\n",
      "         2    -1397223.2042     +280319.0142\n",
      "         3    -1318761.2083      +78461.9960\n",
      "         4    -1292368.8909      +26392.3173\n",
      "         5    -1284579.2792       +7789.6118\n",
      "         6    -1282959.7569       +1619.5222\n",
      "         7    -1281825.3392       +1134.4178\n",
      "         8    -1281054.7844        +770.5548\n",
      "         9    -1280509.7090        +545.0753\n",
      "        10    -1280193.0207        +316.6883\n",
      "        11    -1280023.9156        +169.1051\n",
      "        12    -1279896.2449        +127.6707\n",
      "        13    -1279769.0750        +127.1699\n",
      "        14    -1279627.7735        +141.3015\n",
      "        15    -1279500.9772        +126.7963\n",
      "        16    -1279378.2119        +122.7652\n",
      "        17    -1279303.6785         +74.5334\n",
      "        18    -1279263.6661         +40.0124\n",
      "        19    -1279241.8657         +21.8004\n",
      "        20    -1279229.2685         +12.5972\n",
      "        21    -1279221.7699          +7.4986\n",
      "        22    -1279216.8560          +4.9139\n",
      "        23    -1279213.1648          +3.6912\n",
      "        24    -1279210.0003          +3.1646\n",
      "        25    -1279207.0391          +2.9611\n",
      "        26    -1279204.2209          +2.8182\n",
      "        27    -1279201.6883          +2.5326\n",
      "        28    -1279199.6302          +2.0582\n",
      "        29    -1279198.1007          +1.5294\n",
      "        30    -1279197.0132          +1.0875\n",
      "        31    -1279196.2382          +0.7750\n",
      "        32    -1279195.6674          +0.5709\n",
      "        33    -1279195.2244          +0.4430\n",
      "        34    -1279194.8571          +0.3672\n",
      "        35    -1279194.5295          +0.3276\n",
      "        36    -1279194.2173          +0.3123\n",
      "        37    -1279193.9077          +0.3096\n",
      "        38    -1279193.6016          +0.3061\n",
      "        39    -1279193.3114          +0.2902\n",
      "        40    -1279193.0517          +0.2597\n",
      "        41    -1279192.8299          +0.2218\n",
      "        42    -1279192.6451          +0.1848\n",
      "        43    -1279192.4922          +0.1529\n",
      "        44    -1279192.3654          +0.1268\n",
      "        45    -1279192.2596          +0.1058\n",
      "        46    -1279192.1707          +0.0889\n",
      "        47    -1279192.0954          +0.0753\n",
      "        48    -1279192.0311          +0.0643\n",
      "        49    -1279191.9758          +0.0554\n",
      "        50    -1279191.9276          +0.0482\n"
     ]
    }
   ],
   "source": [
    "# train\n",
    "defend_state_sequence_, defend_means, defend_covs, _ = RA.train_hmm(all_defend_moments_, event_lengths_repeat, n_comp, n_mix)\n",
    "offend_state_sequence_, offend_means, offend_covs, _ = RA.train_hmm(all_offend_moments_, event_lengths_repeat, n_comp, n_mix)\n",
    "# get role orders\n",
    "_, defend_roles = RA.assign_roles(all_defend_moments_, all_defend_moments, defend_means, event_lengths)\n",
    "_, offend_roles = RA.assign_roles(all_offend_moments_, all_offend_moments, offend_means, event_lengths)"
   ]
  },
  {
   "cell_type": "code",
   "execution_count": 10,
   "metadata": {
    "collapsed": true
   },
   "outputs": [],
   "source": [
    "defend_pos_vel = order_moment_ra([i[:, :n_ind*5] for i in single_game], defend_roles)\n",
    "offend_pos_vel = order_moment_ra([i[:, n_ind*5:] for i in single_game], offend_roles)"
   ]
  },
  {
   "cell_type": "code",
   "execution_count": 11,
   "metadata": {},
   "outputs": [
    {
     "data": {
      "text/plain": [
       "(37, 6)"
      ]
     },
     "execution_count": 11,
     "metadata": {},
     "output_type": "execute_result"
    }
   ],
   "source": [
    "single_game_balls[0].shape"
   ]
  },
  {
   "cell_type": "code",
   "execution_count": 12,
   "metadata": {},
   "outputs": [
    {
     "data": {
      "text/plain": [
       "(37, 28)"
      ]
     },
     "execution_count": 12,
     "metadata": {},
     "output_type": "execute_result"
    }
   ],
   "source": [
    "defend_pos_vel[0].shape"
   ]
  },
  {
   "cell_type": "code",
   "execution_count": 13,
   "metadata": {},
   "outputs": [
    {
     "data": {
      "text/plain": [
       "array([[11.15334, 21.35529, -4.02675, ..., 11.67492, -0.2985 ,  0.495  ],\n",
       "       [10.99227, 21.31452, -2.59725, ..., 11.69472, -0.29875,  0.7705 ],\n",
       "       [10.88838, 21.3161 , -2.02775, ..., 11.72554, -0.30525,  1.0805 ],\n",
       "       ...,\n",
       "       [ 8.37199, 23.28826, -5.046  , ..., 17.59439,  1.261  ,  0.8865 ],\n",
       "       [ 8.17015, 23.48841, -4.9075 , ..., 17.62985,  0.03675,  0.445  ],\n",
       "       [ 7.97385, 23.71319, -4.1805 , ..., 17.64765, -0.16425,  0.76475]])"
      ]
     },
     "execution_count": 13,
     "metadata": {},
     "output_type": "execute_result"
    }
   ],
   "source": [
    "defend_pos_vel[0]"
   ]
  },
  {
   "cell_type": "code",
   "execution_count": 14,
   "metadata": {
    "collapsed": true
   },
   "outputs": [],
   "source": [
    "# concatenate defend, offend roles pos and velocity and the basketball pos and vel\n",
    "single_game = [np.concatenate([defend_pos_vel[i], offend_pos_vel[i], single_game_balls[i]], axis=1) for i in range(n_events)]\n",
    "# single_game = [np.concatenate([defend_pos_vel[i], offend_pos_vel[i]], axis=1) for i in range(n_events)]"
   ]
  },
  {
   "cell_type": "code",
   "execution_count": 15,
   "metadata": {},
   "outputs": [
    {
     "data": {
      "text/plain": [
       "(37, 62)"
      ]
     },
     "execution_count": 15,
     "metadata": {},
     "output_type": "execute_result"
    }
   ],
   "source": [
    "single_game[0].shape"
   ]
  },
  {
   "cell_type": "code",
   "execution_count": 16,
   "metadata": {
    "collapsed": true
   },
   "outputs": [],
   "source": [
    "all_roles = [np.concatenate([defend_roles[i], offend_roles[i]], axis=1) for i in range(len(single_game))]"
   ]
  },
  {
   "cell_type": "code",
   "execution_count": 17,
   "metadata": {},
   "outputs": [
    {
     "data": {
      "text/plain": [
       "(37, 10)"
      ]
     },
     "execution_count": 17,
     "metadata": {},
     "output_type": "execute_result"
    }
   ],
   "source": [
    "all_roles[0].shape"
   ]
  },
  {
   "cell_type": "code",
   "execution_count": 18,
   "metadata": {},
   "outputs": [
    {
     "data": {
      "text/plain": [
       "165"
      ]
     },
     "execution_count": 18,
     "metadata": {},
     "output_type": "execute_result"
    }
   ],
   "source": [
    "len(all_roles)"
   ]
  },
  {
   "cell_type": "code",
   "execution_count": 19,
   "metadata": {},
   "outputs": [
    {
     "data": {
      "text/plain": [
       "165"
      ]
     },
     "execution_count": 19,
     "metadata": {},
     "output_type": "execute_result"
    }
   ],
   "source": [
    "n_events"
   ]
  },
  {
   "cell_type": "markdown",
   "metadata": {},
   "source": [
    "#### Show the plot, for the sake of comparison with processed moment later on"
   ]
  },
  {
   "cell_type": "code",
   "execution_count": 20,
   "metadata": {
    "collapsed": true,
    "scrolled": false
   },
   "outputs": [],
   "source": [
    "# Plot = PlotGame(game_id, main_dir, game_dir)\n",
    "# # for i in range(plotn): \n",
    "# Plot.load_moment2img(game_data, event_number=0, moment_number=0, return_img=True)"
   ]
  },
  {
   "cell_type": "code",
   "execution_count": 21,
   "metadata": {
    "collapsed": true
   },
   "outputs": [],
   "source": [
    "# # manual plot check\n",
    "# plot_check(single_game, plt_ind=0)"
   ]
  },
  {
   "cell_type": "markdown",
   "metadata": {},
   "source": [
    "#### Build graph and starts training for all single policies"
   ]
  },
  {
   "cell_type": "code",
   "execution_count": 22,
   "metadata": {},
   "outputs": [
    {
     "name": "stdout",
     "output_type": "stream",
     "text": [
      "./models/model\n",
      "INFO:tensorflow:Restoring parameters from ./models/policy0/model\n",
      "./models/model\n",
      "INFO:tensorflow:Restoring parameters from ./models/policy1/model\n",
      "./models/model\n",
      "INFO:tensorflow:Restoring parameters from ./models/policy2/model\n",
      "./models/model\n",
      "INFO:tensorflow:Restoring parameters from ./models/policy3/model\n",
      "./models/model\n",
      "INFO:tensorflow:Restoring parameters from ./models/policy4/model\n",
      "./models/model\n",
      "INFO:tensorflow:Restoring parameters from ./models/policy5/model\n",
      "./models/model\n",
      "INFO:tensorflow:Restoring parameters from ./models/policy6/model\n"
     ]
    }
   ],
   "source": [
    "policies = list(range(7))\n",
    "single_policies = [ImportGraph('policy{}/'.format(str(i))) for i in policies]"
   ]
  },
  {
   "cell_type": "code",
   "execution_count": 23,
   "metadata": {
    "collapsed": true
   },
   "outputs": [],
   "source": [
    "# model = ImportGraph('policy1/')\n",
    "# result = model.run(train_x=val_xi, train_y=val_yi, seq_len=true_seq_len, h=k)\n",
    "# result"
   ]
  },
  {
   "cell_type": "code",
   "execution_count": 24,
   "metadata": {
    "collapsed": true
   },
   "outputs": [],
   "source": [
    "sequence_length = 30\n",
    "overlap = 15\n",
    "batch_size = 32\n",
    "policy_targets = [np.array(get_sequences(single_game, policy, sequence_length, overlap)[1]) for policy in policies]\n",
    "policy_targets = np.concatenate(policy_targets, axis=2)"
   ]
  },
  {
   "cell_type": "code",
   "execution_count": 25,
   "metadata": {
    "collapsed": true
   },
   "outputs": [],
   "source": [
    "# policy_targets[6].shape"
   ]
  },
  {
   "cell_type": "code",
   "execution_count": 26,
   "metadata": {
    "collapsed": true
   },
   "outputs": [],
   "source": [
    "# a = np.arange(12).reshape(2,3,2)\n",
    "# a"
   ]
  },
  {
   "cell_type": "code",
   "execution_count": 27,
   "metadata": {
    "collapsed": true
   },
   "outputs": [],
   "source": [
    "# b = np.arange(10,22).reshape(2,3,2)\n",
    "# b"
   ]
  },
  {
   "cell_type": "code",
   "execution_count": 28,
   "metadata": {
    "collapsed": true
   },
   "outputs": [],
   "source": [
    "# np.concatenate((a,b), axis=2)"
   ]
  },
  {
   "cell_type": "code",
   "execution_count": 29,
   "metadata": {},
   "outputs": [
    {
     "data": {
      "text/plain": [
       "(14,)"
      ]
     },
     "execution_count": 29,
     "metadata": {},
     "output_type": "execute_result"
    }
   ],
   "source": [
    "policy_targets[0][4].shape"
   ]
  },
  {
   "cell_type": "markdown",
   "metadata": {
    "collapsed": true
   },
   "source": [
    "At each epoch we will first do a forward pass to get the current step output, then we will use it for next roll-out position input and train"
   ]
  },
  {
   "cell_type": "code",
   "execution_count": 30,
   "metadata": {
    "scrolled": true
   },
   "outputs": [
    {
     "name": "stdout",
     "output_type": "stream",
     "text": [
      "Horizon 1 ==========\n",
      "Epoch: 0\n",
      "0 17.139927491909127 9.225421905517578\n",
      "Epoch: 1\n",
      "Epoch: 2\n",
      "Epoch: 3\n",
      "Epoch: 4\n",
      "Epoch: 5\n",
      "Epoch: 6\n",
      "Epoch: 7\n",
      "Epoch: 8\n",
      "Epoch: 9\n",
      "Epoch: 10\n",
      "Epoch: 11\n",
      "Epoch: 12\n",
      "Epoch: 13\n",
      "Epoch: 14\n",
      "Epoch: 15\n",
      "Epoch: 16\n",
      "Epoch: 17\n",
      "Epoch: 18\n",
      "Epoch: 19\n",
      "Epoch: 20\n",
      "Epoch: 21\n",
      "Epoch: 22\n",
      "Epoch: 23\n",
      "Epoch: 24\n",
      "Epoch: 25\n",
      "Epoch: 26\n",
      "Epoch: 27\n",
      "Epoch: 28\n",
      "Epoch: 29\n",
      "Epoch: 30\n",
      "Epoch: 31\n",
      "Epoch: 32\n",
      "Epoch: 33\n",
      "Epoch: 34\n",
      "Epoch: 35\n",
      "Epoch: 36\n",
      "Epoch: 37\n",
      "Epoch: 38\n",
      "Epoch: 39\n",
      "Epoch: 40\n",
      "Epoch: 41\n",
      "Epoch: 42\n",
      "Epoch: 43\n",
      "Epoch: 44\n",
      "Epoch: 45\n",
      "Epoch: 46\n",
      "Epoch: 47\n",
      "Epoch: 48\n",
      "Epoch: 49\n",
      "Epoch: 50\n",
      "Epoch: 51\n",
      "Epoch: 52\n",
      "Epoch: 53\n",
      "Epoch: 54\n",
      "Epoch: 55\n",
      "Epoch: 56\n",
      "Epoch: 57\n",
      "Epoch: 58\n",
      "Epoch: 59\n",
      "Epoch: 60\n",
      "Epoch: 61\n",
      "Epoch: 62\n",
      "Epoch: 63\n",
      "Epoch: 64\n",
      "Epoch: 65\n",
      "Epoch: 66\n",
      "Epoch: 67\n",
      "Epoch: 68\n",
      "Epoch: 69\n",
      "Epoch: 70\n",
      "Epoch: 71\n",
      "Epoch: 72\n",
      "Epoch: 73\n",
      "Epoch: 74\n",
      "Epoch: 75\n",
      "Epoch: 76\n",
      "Epoch: 77\n",
      "Epoch: 78\n",
      "Epoch: 79\n",
      "Epoch: 80\n",
      "Epoch: 81\n",
      "Epoch: 82\n",
      "Epoch: 83\n",
      "Epoch: 84\n",
      "Epoch: 85\n",
      "Epoch: 86\n",
      "Epoch: 87\n",
      "Epoch: 88\n",
      "Epoch: 89\n",
      "Epoch: 90\n",
      "Epoch: 91\n",
      "Epoch: 92\n",
      "Epoch: 93\n",
      "Epoch: 94\n",
      "Epoch: 95\n",
      "Epoch: 96\n",
      "Epoch: 97\n",
      "Epoch: 98\n",
      "Epoch: 99\n",
      "Total time took: 0.24hrs\n"
     ]
    }
   ],
   "source": [
    "sequence_length = 30\n",
    "overlap = 15\n",
    "batch_size = 32\n",
    "policy_targets = [np.array(get_sequences(single_game, policy, sequence_length, overlap)[1]) for policy in policies]\n",
    "policy_targets = np.concatenate(policy_targets, axis=2)\n",
    "train = get_sequences(single_game, 0, sequence_length, overlap)[0] # all the train is same for all policy so we just choose one\n",
    "\n",
    "# starts training\n",
    "printn = 100    # how many epochs we print\n",
    "n_epoch = int(1e2)\n",
    "# look-ahead horizon\n",
    "horizon = [1] # we start from 1 as 0 is contained from single policy already\n",
    "t_int = time.time()\n",
    "train_step = 0\n",
    "valid_step = 0\n",
    "for k in horizon:\n",
    "    print('Horizon {0:} {1:}'.format(k, '='*10))\n",
    "    for epoch in range(n_epoch):\n",
    "        print('Epoch:', epoch)\n",
    "        epoch_loss =0.\n",
    "        # number of train batches\n",
    "        n_train_batch = len(train)//batch_size\n",
    "        t1 = time.time()\n",
    "        for batch in iterate_minibatches(train, policy_targets, batch_size, shuffle=False):\n",
    "            train_xi, train_yi = batch\n",
    "            train_pxi = []\n",
    "            # go through each policy\n",
    "            for policy in policies:\n",
    "                model = single_policies[policy]\n",
    "                # forward_pass make predictions for current timestep\n",
    "                p = model.forward_pass(train_xi, k)\n",
    "                # combine and recreate input\n",
    "                train_pxi.append(p[0])\n",
    "            # update each other\n",
    "            train_xi_updated = np.copy(train_xi)\n",
    "            for policy in policies:\n",
    "                for i in range(batch_size):\n",
    "                    # only updates based on horzion\n",
    "                    # how to deal with the the part where horzion can't reach????????????????????????????????????\n",
    "                    train_xi_updated[i][list(range(1, sequence_length-1, k+1)), policy*4:policy*4+2]\\\n",
    "                        = train_pxi[policy][i][list(range(0, sequence_length-2, k+1)), :]\n",
    "            # feed back into the model for training\n",
    "            for policy in policies:\n",
    "                train_pyi = [i[:, policy*2:policy*2+2] for i in train_yi]\n",
    "                p, l, _ = model.backward_pass(train_xi_updated, train_pyi, 0)\n",
    "            epoch_loss += l/n_train_batch\n",
    "            train_step += 1\n",
    "        # print out info\n",
    "        if epoch%printn ==0:\n",
    "#             # number of validation batches\n",
    "#             n_val_batch = len(test_game)//batch_size\n",
    "            t2 = time.time()\n",
    "#             valid_loss = 0\n",
    "#             for test_batch in iterate_minibatches(test_game, test_target, batch_size, shuffle=False):\n",
    "#                 val_xi, val_yi = test_batch\n",
    "#                 val_l, valid_sum = model.validate(val_xi, val_yi, k)\n",
    "\n",
    "#                 model.valid_writer.add_summary(valid_sum, valid_step)\n",
    "#                 valid_loss += val_l/n_val_batch\n",
    "#                 valid_step += printn\n",
    "#             print('Epoch {0:<4d} | loss: {1:<8.2f} | time took: {2:<.2f}s '\n",
    "#                 '| validation loss: {3:<8.2f}'.format(epoch, epoch_loss, (t2-t1), valid_loss))\n",
    "            print(epoch, epoch_loss, t2-t1)\n",
    "\n",
    "    print('Total time took: {0:<.2f}hrs'.format((time.time()-t_int)/60/60))"
   ]
  },
  {
   "cell_type": "code",
   "execution_count": 54,
   "metadata": {
    "collapsed": true
   },
   "outputs": [],
   "source": [
    "cp = 0\n",
    "model = single_policies[cp]\n",
    "# forward_pass make predictions for current timestep\n",
    "p = model.forward_pass(train_xi, k)"
   ]
  },
  {
   "cell_type": "code",
   "execution_count": 55,
   "metadata": {},
   "outputs": [
    {
     "data": {
      "text/plain": [
       "1"
      ]
     },
     "execution_count": 55,
     "metadata": {},
     "output_type": "execute_result"
    }
   ],
   "source": [
    "len(p)"
   ]
  },
  {
   "cell_type": "code",
   "execution_count": 40,
   "metadata": {},
   "outputs": [
    {
     "data": {
      "text/plain": [
       "(29, 2)"
      ]
     },
     "execution_count": 40,
     "metadata": {},
     "output_type": "execute_result"
    }
   ],
   "source": [
    "p[0][0].shape"
   ]
  },
  {
   "cell_type": "code",
   "execution_count": 67,
   "metadata": {},
   "outputs": [
    {
     "name": "stdout",
     "output_type": "stream",
     "text": [
      "rand checking index: 21\n",
      "(29, 2)\n"
     ]
    },
    {
     "data": {
      "image/png": "[encoded data removed]",
      "text/plain": [
       "<Figure size 1080x576 with 1 Axes>"
      ]
     },
     "metadata": {},
     "output_type": "display_data"
    }
   ],
   "source": [
    "plot_check_pred(p[0], [i[:, cp*4:cp*4+2] for i in train_yi])"
   ]
  },
  {
   "cell_type": "code",
   "execution_count": 53,
   "metadata": {},
   "outputs": [
    {
     "data": {
      "text/plain": [
       "(29, 14)"
      ]
     },
     "execution_count": 53,
     "metadata": {},
     "output_type": "execute_result"
    }
   ],
   "source": [
    "train_yi[0].shape"
   ]
  },
  {
   "cell_type": "code",
   "execution_count": null,
   "metadata": {
    "collapsed": true
   },
   "outputs": [],
   "source": []
  },
  {
   "cell_type": "code",
   "execution_count": null,
   "metadata": {
    "collapsed": true
   },
   "outputs": [],
   "source": []
  },
  {
   "cell_type": "code",
   "execution_count": null,
   "metadata": {
    "collapsed": true
   },
   "outputs": [],
   "source": []
  },
  {
   "cell_type": "code",
   "execution_count": null,
   "metadata": {
    "collapsed": true
   },
   "outputs": [],
   "source": []
  },
  {
   "cell_type": "markdown",
   "metadata": {},
   "source": [
    "### To do:\n",
    "\n",
    "    - 1) Regularize the lstm\n",
    "    - 2) Figure out why there are blanks in the testing\n",
    "    - 3) may consider to collect those left out from the process of creating batches\n",
    "    - 4) related to 3), seq_len = 3 may create null batches \n",
    "\n",
    "    - Split data to defending and offending, as the model for e.g. forward role in deffending and offending should be pretty different. Remove particular events, like free-throw etc.\n",
    "    \n",
    "    - We can use the shot clock as an indicator of when the offending and defending switches.\n",
    "    \n",
    "    - The cameras oprate at 25 frames per second, so in order to learn realistic motions, either we sample the 25 frames, or extend the horizon to 50 for example or even longer(this might be too computationally heavy and model would probably drift a lot).\n",
    "    \n",
    "    - At the moment if we don't have defending or offending sepearted, at least we need to break down the sequences from the 24 secs shot clock, since it usually stands for a change in game state. (note: shot clock sometimes is None)\n",
    "    \n",
    "    - Add tensorboard visualization. Add validation performance (maybe, it would take longer). \n",
    "      tensorboard --logdir=./train_logs\n",
    "      \n",
    "    - Start thinking about 1) joint training 2) Hidden structure 3) Smooth learning\n",
    "    - from each sample to next sample theres not much change, subsample them "
   ]
  },
  {
   "cell_type": "markdown",
   "metadata": {
    "collapsed": true
   },
   "source": [
    "### Questions\n",
    "\n",
    "    * After a team scored and they go back to get ready for defense, is the going back trajectory pretty much random?\n",
    "    * Do player swap roles during the play? e.g. a forward swapped to a guard, is the forward roles a lot different from gaurds these day? (i.e. can you differentaite a player plaing forward from guard from the game) If yes, then the hidden structure learning/sequencing is necessary. "
   ]
  },
  {
   "cell_type": "code",
   "execution_count": null,
   "metadata": {
    "collapsed": true
   },
   "outputs": [],
   "source": []
  }
 ],
 "metadata": {
  "kernelspec": {
   "display_name": "Python 3",
   "language": "python",
   "name": "python3"
  },
  "language_info": {
   "codemirror_mode": {
    "name": "ipython",
    "version": 3
   },
   "file_extension": ".py",
   "mimetype": "text/x-python",
   "name": "python",
   "nbconvert_exporter": "python",
   "pygments_lexer": "ipython3",
   "version": "3.6.4"
  }
 },
 "nbformat": 4,
 "nbformat_minor": 2
}
