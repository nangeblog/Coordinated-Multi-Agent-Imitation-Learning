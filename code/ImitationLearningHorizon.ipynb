{
 "cells": [
  {
   "cell_type": "code",
   "execution_count": 1,
   "metadata": {},
   "outputs": [
    {
     "name": "stderr",
     "output_type": "stream",
     "text": [
      "/home/sam/anaconda3/lib/python3.6/importlib/_bootstrap.py:219: RuntimeWarning: compiletime version 3.5 of module 'tensorflow.python.framework.fast_tensor_util' does not match runtime version 3.6\n",
      "  return f(*args, **kwds)\n",
      "/home/sam/anaconda3/lib/python3.6/site-packages/h5py/__init__.py:36: FutureWarning: Conversion of the second argument of issubdtype from `float` to `np.floating` is deprecated. In future, it will be treated as `np.float64 == np.dtype(float).type`.\n",
      "  from ._conv import register_converters as _register_converters\n"
     ]
    }
   ],
   "source": [
    "import tensorflow as tf\n",
    "from tensorflow.python.ops.rnn import _transpose_batch_time\n",
    "from model import sampling_rnn\n",
    "\n",
    "from datetime import datetime\n",
    "import numpy as np\n",
    "import pandas as pd\n",
    "import copy\n",
    "import time\n",
    "import glob, os, sys\n",
    "\n",
    "from helpers import get_sequences, iterate_minibatches, get_minibatches, check_game_roles_duplicates, \\\n",
    "                    process_moments\n",
    "    \n",
    "import matplotlib.pyplot as plt\n",
    "\n",
    "import os\n",
    "os.environ[\"TF_CPP_MIN_LOG_LEVEL\"]=\"3\"\n",
    "\n",
    "%matplotlib inline\n",
    "\n",
    "from utilities import LoadData, PlotGame, make_video\n",
    "from helpers import id_player, id_position, id_teams, get_player_trajectory, segment\n",
    "from model import rnn_horizon\n",
    "# ---------------------------------------------------------\n",
    "%load_ext autoreload\n",
    "%autoreload 2\n",
    "\n",
    "# ---------------------------------------------------------\n",
    "# directories\n",
    "main_dir = '../'\n",
    "game_dir = main_dir+'data/'\n",
    "Data = LoadData(main_dir, game_dir)"
   ]
  },
  {
   "cell_type": "code",
   "execution_count": 2,
   "metadata": {
    "collapsed": true
   },
   "outputs": [],
   "source": [
    "# we will use this fixed order as the role order\n",
    "roles = ['F', 'G', 'C-F', 'G-F', 'F-G', 'C', 'F-C']\n",
    "role_order = {'F': 0, 'G':4, 'C-F':1, 'G-F':3, 'F-G':3, 'C':2, 'F-C':1}\n",
    "# its possible that F has similar role as G-f or F-G, we create empty slots to ensure meta order"
   ]
  },
  {
   "cell_type": "code",
   "execution_count": 3,
   "metadata": {},
   "outputs": [
    {
     "name": "stdout",
     "output_type": "stream",
     "text": [
      "CPU times: user 10.3 s, sys: 116 ms, total: 10.5 s\n",
      "Wall time: 10.4 s\n"
     ]
    }
   ],
   "source": [
    "%%time\n",
    "game_id = '0021500463'\n",
    "game_data = Data.load_game(game_id)\n",
    "events_df = pd.DataFrame(game_data['events'])"
   ]
  },
  {
   "cell_type": "code",
   "execution_count": 4,
   "metadata": {},
   "outputs": [
    {
     "name": "stdout",
     "output_type": "stream",
     "text": [
      "events shape: (231, 8)\n"
     ]
    },
    {
     "data": {
      "text/html": [
       "<div>\n",
       "<style>\n",
       "    .dataframe thead tr:only-child th {\n",
       "        text-align: right;\n",
       "    }\n",
       "\n",
       "    .dataframe thead th {\n",
       "        text-align: left;\n",
       "    }\n",
       "\n",
       "    .dataframe tbody tr th {\n",
       "        vertical-align: top;\n",
       "    }\n",
       "</style>\n",
       "<table border=\"1\" class=\"dataframe\">\n",
       "  <thead>\n",
       "    <tr style=\"text-align: right;\">\n",
       "      <th></th>\n",
       "      <th>end_time_left</th>\n",
       "      <th>home</th>\n",
       "      <th>moments</th>\n",
       "      <th>orig_events</th>\n",
       "      <th>playbyplay</th>\n",
       "      <th>quarter</th>\n",
       "      <th>start_time_left</th>\n",
       "      <th>visitor</th>\n",
       "    </tr>\n",
       "  </thead>\n",
       "  <tbody>\n",
       "    <tr>\n",
       "      <th>0</th>\n",
       "      <td>702.31</td>\n",
       "      <td>{'abbreviation': 'CHI', 'players': [{'playerid...</td>\n",
       "      <td>[[1, 1451351428029, 708.28, 12.78, None, [[-1,...</td>\n",
       "      <td>[0]</td>\n",
       "      <td>GAME_ID  EVENTNUM  EVENTMSGTYPE  EVENTMS...</td>\n",
       "      <td>1</td>\n",
       "      <td>708.28</td>\n",
       "      <td>{'abbreviation': 'TOR', 'players': [{'playerid...</td>\n",
       "    </tr>\n",
       "    <tr>\n",
       "      <th>1</th>\n",
       "      <td>686.28</td>\n",
       "      <td>{'abbreviation': 'CHI', 'players': [{'playerid...</td>\n",
       "      <td>[[1, 1451351428029, 708.28, 12.78, None, [[-1,...</td>\n",
       "      <td>[1]</td>\n",
       "      <td>GAME_ID  EVENTNUM  EVENTMSGTYPE  EVENTMS...</td>\n",
       "      <td>1</td>\n",
       "      <td>708.28</td>\n",
       "      <td>{'abbreviation': 'TOR', 'players': [{'playerid...</td>\n",
       "    </tr>\n",
       "    <tr>\n",
       "      <th>2</th>\n",
       "      <td>668.42</td>\n",
       "      <td>{'abbreviation': 'CHI', 'players': [{'playerid...</td>\n",
       "      <td>[[1, 1451351444029, 692.25, 12.21, None, [[-1,...</td>\n",
       "      <td>[2, 3]</td>\n",
       "      <td>GAME_ID  EVENTNUM  EVENTMSGTYPE  EVENTMS...</td>\n",
       "      <td>1</td>\n",
       "      <td>692.25</td>\n",
       "      <td>{'abbreviation': 'TOR', 'players': [{'playerid...</td>\n",
       "    </tr>\n",
       "  </tbody>\n",
       "</table>\n",
       "</div>"
      ],
      "text/plain": [
       "   end_time_left                                               home  \\\n",
       "0         702.31  {'abbreviation': 'CHI', 'players': [{'playerid...   \n",
       "1         686.28  {'abbreviation': 'CHI', 'players': [{'playerid...   \n",
       "2         668.42  {'abbreviation': 'CHI', 'players': [{'playerid...   \n",
       "\n",
       "                                             moments orig_events  \\\n",
       "0  [[1, 1451351428029, 708.28, 12.78, None, [[-1,...         [0]   \n",
       "1  [[1, 1451351428029, 708.28, 12.78, None, [[-1,...         [1]   \n",
       "2  [[1, 1451351444029, 692.25, 12.21, None, [[-1,...      [2, 3]   \n",
       "\n",
       "                                          playbyplay  quarter  \\\n",
       "0        GAME_ID  EVENTNUM  EVENTMSGTYPE  EVENTMS...        1   \n",
       "1        GAME_ID  EVENTNUM  EVENTMSGTYPE  EVENTMS...        1   \n",
       "2        GAME_ID  EVENTNUM  EVENTMSGTYPE  EVENTMS...        1   \n",
       "\n",
       "   start_time_left                                            visitor  \n",
       "0           708.28  {'abbreviation': 'TOR', 'players': [{'playerid...  \n",
       "1           708.28  {'abbreviation': 'TOR', 'players': [{'playerid...  \n",
       "2           692.25  {'abbreviation': 'TOR', 'players': [{'playerid...  "
      ]
     },
     "execution_count": 4,
     "metadata": {},
     "output_type": "execute_result"
    }
   ],
   "source": [
    "print('events shape:', events_df.shape)\n",
    "events_df.head(3)"
   ]
  },
  {
   "cell_type": "code",
   "execution_count": 5,
   "metadata": {
    "collapsed": true
   },
   "outputs": [],
   "source": [
    "# for i in events.moments[0]:\n",
    "#     print(i[3], '|', i[5][0][2:])"
   ]
  },
  {
   "cell_type": "markdown",
   "metadata": {},
   "source": [
    "show the plot, for the sake of comparison with processed moment later on"
   ]
  },
  {
   "cell_type": "code",
   "execution_count": 6,
   "metadata": {},
   "outputs": [
    {
     "name": "stdout",
     "output_type": "stream",
     "text": [
      "event 0/231, moment: 0/150\r"
     ]
    },
    {
     "data": {
      "text/plain": [
       "<matplotlib.axes._subplots.AxesSubplot at 0x7f6d6a19b7f0>"
      ]
     },
     "execution_count": 6,
     "metadata": {},
     "output_type": "execute_result"
    },
    {
     "data": {
      "image/png": "[encoded data removed]",
      "text/plain": [
       "<Figure size 432x288 with 1 Axes>"
      ]
     },
     "metadata": {},
     "output_type": "display_data"
    }
   ],
   "source": [
    "Plot = PlotGame(game_id, main_dir, game_dir)\n",
    "Plot.load_moment2img(game_data, 0, 0, return_img=True)"
   ]
  },
  {
   "cell_type": "markdown",
   "metadata": {},
   "source": [
    "### Let's just see the forward role model first, and ignore defending vs offending, use home vs visitor\n",
    "### also ignore sequence length"
   ]
  },
  {
   "cell_type": "code",
   "execution_count": 7,
   "metadata": {},
   "outputs": [
    {
     "data": {
      "text/plain": [
       "0"
      ]
     },
     "execution_count": 7,
     "metadata": {},
     "output_type": "execute_result"
    }
   ],
   "source": [
    "id_role = id_position(events_df)\n",
    "check_game_roles_duplicates(id_role)"
   ]
  },
  {
   "cell_type": "code",
   "execution_count": 8,
   "metadata": {},
   "outputs": [
    {
     "data": {
      "text/plain": [
       "'Chicago Bulls'"
      ]
     },
     "execution_count": 8,
     "metadata": {},
     "output_type": "execute_result"
    }
   ],
   "source": [
    "events_df.loc[0].home['name']"
   ]
  },
  {
   "cell_type": "code",
   "execution_count": 9,
   "metadata": {},
   "outputs": [
    {
     "data": {
      "text/plain": [
       "'2015-12-28'"
      ]
     },
     "execution_count": 9,
     "metadata": {},
     "output_type": "execute_result"
    }
   ],
   "source": [
    "game_data['gamedate']"
   ]
  },
  {
   "cell_type": "code",
   "execution_count": 10,
   "metadata": {},
   "outputs": [
    {
     "data": {
      "text/plain": [
       "150"
      ]
     },
     "execution_count": 10,
     "metadata": {},
     "output_type": "execute_result"
    }
   ],
   "source": [
    "len(events_df.loc[0,'moments'])"
   ]
  },
  {
   "cell_type": "code",
   "execution_count": 11,
   "metadata": {},
   "outputs": [
    {
     "data": {
      "text/plain": [
       "6"
      ]
     },
     "execution_count": 11,
     "metadata": {},
     "output_type": "execute_result"
    }
   ],
   "source": [
    "events_df['moments'].apply(lambda x: len(x)).values.min()"
   ]
  },
  {
   "cell_type": "markdown",
   "metadata": {},
   "source": [
    "#### Pre-precoess input data"
   ]
  },
  {
   "cell_type": "markdown",
   "metadata": {},
   "source": [
    "filter out actions except 1: Make, 2: Miss, 4: Rebound, 6:Personal Foul, 7:Violation"
   ]
  },
  {
   "cell_type": "code",
   "execution_count": 12,
   "metadata": {
    "collapsed": true
   },
   "outputs": [],
   "source": [
    "use_event = [1, 2, 4, 6, 7]\n",
    "discard_event = [3, 5, 8, 9, 10, 12, 13, 18]\n",
    "# events_df.loc[0, 'playbyplay'].to_dict('records')[0]"
   ]
  },
  {
   "cell_type": "code",
   "execution_count": 13,
   "metadata": {
    "collapsed": true,
    "scrolled": true
   },
   "outputs": [],
   "source": [
    "def filter_events(x, discard_event):\n",
    "    etype = x['EVENTMSGTYPE'].values\n",
    "    if len(set(etype).intersection(discard_event))!=0 or len(etype) ==0:\n",
    "        # if the event contains discard events or if the event type is an empty list\n",
    "        return False\n",
    "    else:\n",
    "        return True\n",
    "    \n",
    "events = events_df[events_df.playbyplay.apply(lambda x: filter_events(x, discard_event))].copy()\n",
    "events.reset_index(drop=True, inplace=True)"
   ]
  },
  {
   "cell_type": "code",
   "execution_count": 14,
   "metadata": {},
   "outputs": [
    {
     "data": {
      "text/plain": [
       "(134, 8)"
      ]
     },
     "execution_count": 14,
     "metadata": {},
     "output_type": "execute_result"
    }
   ],
   "source": [
    "events.shape"
   ]
  },
  {
   "cell_type": "markdown",
   "metadata": {},
   "source": [
    "Identify defending and offending runs (this is included in process_moments)"
   ]
  },
  {
   "cell_type": "code",
   "execution_count": 15,
   "metadata": {
    "collapsed": true
   },
   "outputs": [],
   "source": [
    "court_index = Data.load_csv('./meta_data/court_index.csv')\n",
    "court_index = dict(zip(court_index.game_id, court_index.court_position))"
   ]
  },
  {
   "cell_type": "markdown",
   "metadata": {},
   "source": [
    "without 24s shot clock seperation"
   ]
  },
  {
   "cell_type": "code",
   "execution_count": 16,
   "metadata": {
    "collapsed": true
   },
   "outputs": [],
   "source": [
    "# # %%time\n",
    "# homeid = events.loc[0].home['teamid']\n",
    "# awayid = events.loc[0].visitor['teamid']\n",
    "# single_game = []\n",
    "\n",
    "# # filter out seq length less than threshold\n",
    "# len_th = 25\n",
    "# n = 0    # record number that satisfies the threshold\n",
    "# n_short = 0    # number that doesnt match\n",
    "# for k, v in enumerate(events.moments.values):\n",
    "#     result_i = process_moments(v, homeid, awayid, id_role, role_order, court_index, game_id)\n",
    "#     if result_i == None:\n",
    "#         continue\n",
    "#     else:\n",
    "#         pm, scs = result_i\n",
    "#         if len(pm) >= len_th:\n",
    "#             single_game.append(pm)\n",
    "#             n += 1\n",
    "#         else:\n",
    "#             n_short += 1\n",
    "        \n",
    "    \n",
    "# # dimensions extreme<3> x n_players<10> x (player_pos<2> + teamid_onehot<25> + ball<3>) = 900"
   ]
  },
  {
   "cell_type": "markdown",
   "metadata": {},
   "source": [
    "split frames by shot clock 24s, re-order input according to role_order, extract trajectory"
   ]
  },
  {
   "cell_type": "code",
   "execution_count": 17,
   "metadata": {},
   "outputs": [
    {
     "name": "stdout",
     "output_type": "stream",
     "text": [
      "n_balls_missing: 17\n",
      "n_balls_missing: 24\n",
      "n_balls_missing: 26\n",
      "n_balls_missing: 47\n",
      "n_balls_missing: 1\n",
      "n_balls_missing: 1\n",
      "n_balls_missing: 5\n",
      "n_balls_missing: 6\n",
      "n_balls_missing: 2\n",
      "n_balls_missing: 2\n",
      "n_balls_missing: 19\n",
      "n_balls_missing: 14\n",
      "n_balls_missing: 22\n",
      "n_balls_missing: 8\n",
      "n_balls_missing: 23\n",
      "n_balls_missing: 37\n",
      "n_balls_missing: 36\n"
     ]
    }
   ],
   "source": [
    "# %%time\n",
    "homeid = events.loc[0].home['teamid']\n",
    "awayid = events.loc[0].visitor['teamid']\n",
    "single_game = []\n",
    "sc = 24. # init 25s shot clock\n",
    "\n",
    "# filter out seq length less than threshold, this has to be greater than 2\n",
    "# otherwise, there might be duplicates appearing\n",
    "len_th = 50\n",
    "n = 0    # record number that satisfies the threshold\n",
    "n_short = 0    # number that doesnt match\n",
    "# s1 = 0    # index that divides the sequence, this usually happens for 24s shot clock\n",
    "# test = []\n",
    "# true = []\n",
    "for k, v in enumerate(events.moments.values):\n",
    "    result_i = process_moments(v, homeid, awayid, id_role, role_order, court_index, game_id)\n",
    "    if result_i == None:\n",
    "        continue\n",
    "    else:\n",
    "        s1 = 0 # index that divides the sequence, this usually happens for 24s shot clock\n",
    "        pm, scs = result_i\n",
    "#         print(len(pm), len(scs))\n",
    "#         scs = [None, None, None, 24, 23,22,10, 24, None, 24, 11, 10,10, 10, 10,  9, 8, 7 ,None, None]\n",
    "#         true.append(scs)\n",
    "        for i in range(len(scs)-1):\n",
    "            # sometimes there are None shot clock value\n",
    "            if scs[i] != None and scs[i+1] == None:\n",
    "                if len(scs[s1:i+1]) >= len_th:\n",
    "                    single_game.append(pm[s1:i+1])\n",
    "#                     print(pm[s1:i+1], 'A<<<<<<<<')\n",
    "#                     test.append(scs[s1:i+1])\n",
    "                    n += 1\n",
    "                else:\n",
    "                    n_short += 1\n",
    "                s1 = i+1\n",
    "            elif scs[i] == None:\n",
    "                s1 += 1\n",
    "            elif scs[i+1] >= scs[i]:\n",
    "                if len(scs[s1:i+1]) >= len_th:\n",
    "                    single_game.append(pm[s1:i+1])\n",
    "#                     print(pm[s1:i+1], 'B<<<<<<<<')\n",
    "#                     test.append(scs[s1:i+1])\n",
    "                    n += 1\n",
    "                else:\n",
    "                    n_short += 1\n",
    "                s1 = i+1\n",
    "#             else:\n",
    "#                 s1 += 1\n",
    "        # grab the end piece\n",
    "        if s1 != len(scs)-2:\n",
    "            if len(scs[s1:]) >= len_th:\n",
    "                single_game.append(pm[s1:])\n",
    "#                 print(pm[s1:], scs[s1:], 'C<<<<<<<<')\n",
    "#                 test.append(scs[s1:])\n",
    "                n += 1\n",
    "            else:\n",
    "                n_short += 1\n",
    "#     break\n",
    "# dimensions extreme<3> x n_players<10> x (player_pos<2> + teamid_onehot<25> + ball<3>) = 900\n",
    "# dimensions = extreme<3> x n_players<10> x player_pos<2> + teamid_onehot<4> + ball<3> = "
   ]
  },
  {
   "cell_type": "code",
   "execution_count": 18,
   "metadata": {},
   "outputs": [
    {
     "data": {
      "text/plain": [
       "118"
      ]
     },
     "execution_count": 18,
     "metadata": {},
     "output_type": "execute_result"
    }
   ],
   "source": [
    "len(single_game)"
   ]
  },
  {
   "cell_type": "code",
   "execution_count": 19,
   "metadata": {},
   "outputs": [
    {
     "data": {
      "text/plain": [
       "(152, 67)"
      ]
     },
     "execution_count": 19,
     "metadata": {},
     "output_type": "execute_result"
    }
   ],
   "source": [
    "single_game[0].shape"
   ]
  },
  {
   "cell_type": "code",
   "execution_count": 20,
   "metadata": {},
   "outputs": [
    {
     "data": {
      "text/plain": [
       "array([[22.71371, 20.54124, 13.05484, ...,  0.     ,  0.     ,  1.     ],\n",
       "       [22.29246, 20.67645, 12.96878, ...,  0.     ,  0.     ,  1.     ],\n",
       "       [21.77544, 20.76705, 12.90042, ...,  0.     ,  0.     ,  1.     ],\n",
       "       ...,\n",
       "       [ 8.12452, 16.1882 ,  7.08018, ...,  0.     ,  0.     ,  1.     ],\n",
       "       [ 8.19581, 16.21393,  7.06101, ...,  0.     ,  0.     ,  1.     ],\n",
       "       [ 8.27903, 16.29591,  7.05558, ...,  0.     ,  0.     ,  1.     ]])"
      ]
     },
     "execution_count": 20,
     "metadata": {},
     "output_type": "execute_result"
    }
   ],
   "source": [
    "single_game[0]"
   ]
  },
  {
   "cell_type": "code",
   "execution_count": 21,
   "metadata": {},
   "outputs": [
    {
     "data": {
      "image/png": "[encoded data removed]",
      "text/plain": [
       "<Figure size 360x504 with 1 Axes>"
      ]
     },
     "metadata": {},
     "output_type": "display_data"
    }
   ],
   "source": [
    "g = single_game[0]\n",
    "plt.figure(figsize=(5,7))\n",
    "c = ['b']*30 + ['r']*30\n",
    "for i in range(0, 3*10*2, 2): # extreme=3, palyers=10, x,y=2\n",
    "#     print(i)\n",
    "    x_i, y_i = g[:, i], g[:, i+1]\n",
    "    if sum(x_i) !=0 and sum(y_i) != 0:\n",
    "        plt.plot(x_i, y_i, c[i])"
   ]
  },
  {
   "cell_type": "markdown",
   "metadata": {},
   "source": [
    "this roughly looks correct corresponding to the video created for the first moment of first event before 24sec shot clock reset"
   ]
  },
  {
   "cell_type": "code",
   "execution_count": 22,
   "metadata": {},
   "outputs": [
    {
     "name": "stdout",
     "output_type": "stream",
     "text": [
      "118 3022\n"
     ]
    }
   ],
   "source": [
    "print(n, n_short)"
   ]
  },
  {
   "cell_type": "code",
   "execution_count": 23,
   "metadata": {},
   "outputs": [
    {
     "data": {
      "text/plain": [
       "1610612741"
      ]
     },
     "execution_count": 23,
     "metadata": {},
     "output_type": "execute_result"
    }
   ],
   "source": [
    "homeid"
   ]
  },
  {
   "cell_type": "code",
   "execution_count": 24,
   "metadata": {},
   "outputs": [
    {
     "data": {
      "text/plain": [
       "1610612761"
      ]
     },
     "execution_count": 24,
     "metadata": {},
     "output_type": "execute_result"
    }
   ],
   "source": [
    "awayid"
   ]
  },
  {
   "cell_type": "code",
   "execution_count": 25,
   "metadata": {},
   "outputs": [
    {
     "name": "stdout",
     "output_type": "stream",
     "text": [
      "118\n"
     ]
    }
   ],
   "source": [
    "print(len(single_game))"
   ]
  },
  {
   "cell_type": "code",
   "execution_count": 26,
   "metadata": {
    "scrolled": true
   },
   "outputs": [
    {
     "data": {
      "text/plain": [
       "(152, 67)"
      ]
     },
     "execution_count": 26,
     "metadata": {},
     "output_type": "execute_result"
    }
   ],
   "source": [
    "single_game[0].shape"
   ]
  },
  {
   "cell_type": "code",
   "execution_count": 27,
   "metadata": {
    "collapsed": true
   },
   "outputs": [],
   "source": [
    "# lets first predict role F (ignored the extreme)\n",
    "game_target = [np.roll(i[:, :2], -1, axis=0) for i in single_game]"
   ]
  },
  {
   "cell_type": "code",
   "execution_count": 28,
   "metadata": {},
   "outputs": [
    {
     "data": {
      "text/plain": [
       "(152, 67)"
      ]
     },
     "execution_count": 28,
     "metadata": {},
     "output_type": "execute_result"
    }
   ],
   "source": [
    "single_game[0].shape"
   ]
  },
  {
   "cell_type": "code",
   "execution_count": 29,
   "metadata": {},
   "outputs": [
    {
     "data": {
      "text/plain": [
       "(152, 2)"
      ]
     },
     "execution_count": 29,
     "metadata": {},
     "output_type": "execute_result"
    }
   ],
   "source": [
    "game_target[0].shape"
   ]
  },
  {
   "cell_type": "code",
   "execution_count": 30,
   "metadata": {},
   "outputs": [
    {
     "data": {
      "text/plain": [
       "(309, 67)"
      ]
     },
     "execution_count": 30,
     "metadata": {},
     "output_type": "execute_result"
    }
   ],
   "source": [
    "single_game[1].shape"
   ]
  },
  {
   "cell_type": "code",
   "execution_count": 31,
   "metadata": {},
   "outputs": [
    {
     "data": {
      "text/plain": [
       "(366, 67)"
      ]
     },
     "execution_count": 31,
     "metadata": {},
     "output_type": "execute_result"
    }
   ],
   "source": [
    "single_game[2].shape"
   ]
  },
  {
   "cell_type": "markdown",
   "metadata": {},
   "source": [
    "#### Create train and test set"
   ]
  },
  {
   "cell_type": "code",
   "execution_count": 32,
   "metadata": {
    "collapsed": true
   },
   "outputs": [],
   "source": [
    "p = 0.8 # train percentage\n",
    "divider = int(len(single_game)*p)\n",
    "train_game, test_game = single_game[:divider], single_game[divider:]\n",
    "train_target, test_target = game_target[:divider], game_target[divider:]"
   ]
  },
  {
   "cell_type": "markdown",
   "metadata": {},
   "source": [
    "#### Build graph and starts training"
   ]
  },
  {
   "cell_type": "code",
   "execution_count": 33,
   "metadata": {
    "scrolled": true
   },
   "outputs": [
    {
     "name": "stdout",
     "output_type": "stream",
     "text": [
      "output shape, last_states (64, ?, 2) (LSTMStateTuple(c=<tf.Tensor 'rnn/while/Exit_4:0' shape=(64, 128) dtype=float32>, h=<tf.Tensor 'rnn/while/Exit_5:0' shape=(64, 128) dtype=float32>), LSTMStateTuple(c=<tf.Tensor 'rnn/while/Exit_6:0' shape=(64, 128) dtype=float32>, h=<tf.Tensor 'rnn/while/Exit_7:0' shape=(64, 128) dtype=float32>))\n",
      "label shape:(64, ?, 2) | output prediction shape: (64, ?, 2)\n",
      "Horizon 2 ==========\n",
      "train_x.shape: (7852, 2, 67)\n",
      "train_y.shape: (7852, 2, 2)\n",
      "valid_x.shape: (2157, 2, 67)\n",
      "valid_y.shape: (2157, 2, 2)\n",
      "Epoch 0    | loss: 161.22   | time took: 0.52s | validation loss: 71.54   \n",
      "Epoch 100  | loss: 4.20     | time took: 0.34s | validation loss: 46.16   \n",
      "Epoch 200  | loss: 2.91     | time took: 0.33s | validation loss: 24.69   \n",
      "Epoch 300  | loss: 2.39     | time took: 0.33s | validation loss: 23.03   \n",
      "Epoch 400  | loss: 2.02     | time took: 0.33s | validation loss: 19.11   \n",
      "Epoch 500  | loss: 1.82     | time took: 0.33s | validation loss: 20.19   \n",
      "Epoch 600  | loss: 1.72     | time took: 0.33s | validation loss: 19.75   \n",
      "Epoch 700  | loss: 1.50     | time took: 0.33s | validation loss: 19.04   \n",
      "Epoch 800  | loss: 1.37     | time took: 0.33s | validation loss: 22.49   \n",
      "Epoch 900  | loss: 1.33     | time took: 0.32s | validation loss: 24.16   \n",
      "Horizon 3 ==========\n",
      "train_x.shape: (5216, 3, 67)\n",
      "train_y.shape: (5216, 3, 2)\n",
      "valid_x.shape: (1433, 3, 67)\n",
      "valid_y.shape: (1433, 3, 2)\n",
      "Epoch 0    | loss: 1.30     | time took: 0.30s | validation loss: 24.97   \n",
      "Epoch 100  | loss: 1.15     | time took: 0.29s | validation loss: 26.67   \n",
      "Epoch 200  | loss: 1.05     | time took: 0.28s | validation loss: 23.14   \n",
      "Epoch 300  | loss: 0.98     | time took: 0.28s | validation loss: 23.61   \n",
      "Epoch 400  | loss: 0.95     | time took: 0.29s | validation loss: 27.15   \n",
      "Epoch 500  | loss: 0.90     | time took: 0.30s | validation loss: 25.89   \n",
      "Epoch 600  | loss: 0.92     | time took: 0.28s | validation loss: 26.81   \n",
      "Epoch 700  | loss: 0.91     | time took: 0.28s | validation loss: 27.86   \n",
      "Epoch 800  | loss: 0.87     | time took: 0.28s | validation loss: 32.34   \n",
      "Epoch 900  | loss: 0.87     | time took: 0.29s | validation loss: 30.14   \n",
      "Horizon 4 ==========\n",
      "train_x.shape: (3905, 4, 67)\n",
      "train_y.shape: (3905, 4, 2)\n",
      "valid_x.shape: (1073, 4, 67)\n",
      "valid_y.shape: (1073, 4, 2)\n",
      "Epoch 0    | loss: 0.90     | time took: 0.27s | validation loss: 30.87   \n",
      "Epoch 100  | loss: 0.83     | time took: 0.26s | validation loss: 28.71   \n",
      "Epoch 200  | loss: 0.79     | time took: 0.26s | validation loss: 29.46   \n",
      "Epoch 300  | loss: 0.76     | time took: 0.26s | validation loss: 33.68   \n",
      "Epoch 400  | loss: 0.76     | time took: 0.26s | validation loss: 34.33   \n",
      "Epoch 500  | loss: 0.75     | time took: 0.26s | validation loss: 31.25   \n",
      "Epoch 600  | loss: 0.75     | time took: 0.26s | validation loss: 30.83   \n",
      "Epoch 700  | loss: 0.72     | time took: 0.26s | validation loss: 32.02   \n",
      "Epoch 800  | loss: 0.78     | time took: 0.26s | validation loss: 32.69   \n",
      "Epoch 900  | loss: 0.72     | time took: 0.26s | validation loss: 33.45   \n",
      "Horizon 5 ==========\n",
      "train_x.shape: (3112, 5, 67)\n",
      "train_y.shape: (3112, 5, 2)\n",
      "valid_x.shape: (855, 5, 67)\n",
      "valid_y.shape: (855, 5, 2)\n",
      "Epoch 0    | loss: 0.73     | time took: 0.25s | validation loss: 32.36   \n",
      "Epoch 100  | loss: 0.73     | time took: 0.25s | validation loss: 35.04   \n",
      "Epoch 200  | loss: 0.69     | time took: 0.25s | validation loss: 32.82   \n",
      "Epoch 300  | loss: 0.65     | time took: 0.25s | validation loss: 32.17   \n",
      "Epoch 400  | loss: 0.65     | time took: 0.25s | validation loss: 31.23   \n",
      "Epoch 500  | loss: 0.63     | time took: 0.25s | validation loss: 33.18   \n",
      "Epoch 600  | loss: 0.64     | time took: 0.25s | validation loss: 30.58   \n",
      "Epoch 700  | loss: 0.65     | time took: 0.25s | validation loss: 34.68   \n",
      "Epoch 800  | loss: 0.65     | time took: 0.25s | validation loss: 32.50   \n",
      "Epoch 900  | loss: 0.60     | time took: 0.25s | validation loss: 31.40   \n",
      "Horizon 6 ==========\n",
      "train_x.shape: (2584, 6, 67)\n",
      "train_y.shape: (2584, 6, 2)\n",
      "valid_x.shape: (709, 6, 67)\n",
      "valid_y.shape: (709, 6, 2)\n",
      "Epoch 0    | loss: 0.86     | time took: 0.24s | validation loss: 30.77   \n",
      "Epoch 100  | loss: 0.62     | time took: 0.24s | validation loss: 34.79   \n",
      "Epoch 200  | loss: 0.60     | time took: 0.24s | validation loss: 32.49   \n",
      "Epoch 300  | loss: 0.66     | time took: 0.24s | validation loss: 33.27   \n",
      "Epoch 400  | loss: 0.59     | time took: 0.24s | validation loss: 32.57   \n",
      "Epoch 500  | loss: 0.62     | time took: 0.24s | validation loss: 34.16   \n",
      "Epoch 600  | loss: 0.62     | time took: 0.24s | validation loss: 37.81   \n",
      "Epoch 700  | loss: 0.59     | time took: 0.24s | validation loss: 34.30   \n",
      "Epoch 800  | loss: 0.59     | time took: 0.24s | validation loss: 35.21   \n",
      "Epoch 900  | loss: 0.58     | time took: 0.24s | validation loss: 39.84   \n",
      "Horizon 7 ==========\n",
      "train_x.shape: (2209, 7, 67)\n",
      "train_y.shape: (2209, 7, 2)\n",
      "valid_x.shape: (607, 7, 67)\n",
      "valid_y.shape: (607, 7, 2)\n",
      "Epoch 0    | loss: 0.77     | time took: 0.24s | validation loss: 36.22   \n",
      "Epoch 100  | loss: 0.65     | time took: 0.23s | validation loss: 38.52   \n",
      "Epoch 200  | loss: 0.71     | time took: 0.23s | validation loss: 43.51   \n",
      "Epoch 300  | loss: 0.60     | time took: 0.23s | validation loss: 42.47   \n",
      "Epoch 400  | loss: 0.65     | time took: 0.23s | validation loss: 40.29   \n",
      "Epoch 500  | loss: 0.61     | time took: 0.23s | validation loss: 41.99   \n",
      "Epoch 600  | loss: 0.60     | time took: 0.23s | validation loss: 40.70   \n",
      "Epoch 700  | loss: 0.57     | time took: 0.23s | validation loss: 37.72   \n",
      "Epoch 800  | loss: 0.57     | time took: 0.23s | validation loss: 39.33   \n",
      "Epoch 900  | loss: 0.59     | time took: 0.23s | validation loss: 37.59   \n",
      "Horizon 8 ==========\n",
      "train_x.shape: (1930, 8, 67)\n",
      "train_y.shape: (1930, 8, 2)\n",
      "valid_x.shape: (531, 8, 67)\n",
      "valid_y.shape: (531, 8, 2)\n",
      "Epoch 0    | loss: 0.75     | time took: 0.23s | validation loss: 42.37   \n",
      "Epoch 100  | loss: 0.57     | time took: 0.23s | validation loss: 37.76   \n",
      "Epoch 200  | loss: 0.60     | time took: 0.23s | validation loss: 37.92   \n",
      "Epoch 300  | loss: 0.58     | time took: 0.23s | validation loss: 35.20   \n",
      "Epoch 400  | loss: 0.62     | time took: 0.23s | validation loss: 37.01   \n",
      "Epoch 500  | loss: 0.53     | time took: 0.23s | validation loss: 38.97   \n",
      "Epoch 600  | loss: 0.57     | time took: 0.23s | validation loss: 36.02   \n",
      "Epoch 700  | loss: 0.56     | time took: 0.23s | validation loss: 38.11   \n",
      "Epoch 800  | loss: 0.55     | time took: 0.23s | validation loss: 39.22   \n",
      "Epoch 900  | loss: 0.55     | time took: 0.23s | validation loss: 38.46   \n",
      "Horizon 9 ==========\n",
      "train_x.shape: (1710, 9, 67)\n",
      "train_y.shape: (1710, 9, 2)\n",
      "valid_x.shape: (470, 9, 67)\n",
      "valid_y.shape: (470, 9, 2)\n",
      "Epoch 0    | loss: 0.63     | time took: 0.22s | validation loss: 43.34   \n",
      "Epoch 100  | loss: 0.56     | time took: 0.22s | validation loss: 39.40   \n",
      "Epoch 200  | loss: 0.52     | time took: 0.22s | validation loss: 39.49   \n",
      "Epoch 300  | loss: 0.51     | time took: 0.22s | validation loss: 39.05   \n",
      "Epoch 400  | loss: 0.49     | time took: 0.23s | validation loss: 39.57   \n",
      "Epoch 500  | loss: 0.50     | time took: 0.22s | validation loss: 40.44   \n",
      "Epoch 600  | loss: 0.48     | time took: 0.22s | validation loss: 42.82   \n",
      "Epoch 700  | loss: 0.51     | time took: 0.23s | validation loss: 42.17   \n",
      "Epoch 800  | loss: 0.53     | time took: 0.22s | validation loss: 40.64   \n",
      "Epoch 900  | loss: 0.50     | time took: 0.22s | validation loss: 41.08   \n",
      "Horizon 10 ==========\n",
      "train_x.shape: (1531, 10, 67)\n",
      "train_y.shape: (1531, 10, 2)\n",
      "valid_x.shape: (420, 10, 67)\n",
      "valid_y.shape: (420, 10, 2)\n",
      "Epoch 0    | loss: 0.56     | time took: 0.21s | validation loss: 44.80   \n",
      "Epoch 100  | loss: 0.47     | time took: 0.21s | validation loss: 45.86   \n",
      "Epoch 200  | loss: 0.48     | time took: 0.21s | validation loss: 42.30   \n",
      "Epoch 300  | loss: 0.50     | time took: 0.21s | validation loss: 40.73   \n",
      "Epoch 400  | loss: 0.46     | time took: 0.21s | validation loss: 42.01   \n",
      "Epoch 500  | loss: 0.52     | time took: 0.21s | validation loss: 39.08   \n",
      "Epoch 600  | loss: 0.46     | time took: 0.21s | validation loss: 39.25   \n",
      "Epoch 700  | loss: 0.44     | time took: 0.21s | validation loss: 40.84   \n"
     ]
    },
    {
     "name": "stdout",
     "output_type": "stream",
     "text": [
      "Epoch 800  | loss: 0.46     | time took: 0.21s | validation loss: 40.71   \n",
      "Epoch 900  | loss: 0.48     | time took: 0.21s | validation loss: 40.04   \n",
      "Horizon 11 ==========\n",
      "train_x.shape: (1382, 11, 67)\n",
      "train_y.shape: (1382, 11, 2)\n",
      "valid_x.shape: (382, 11, 67)\n",
      "valid_y.shape: (382, 11, 2)\n",
      "Epoch 0    | loss: 0.52     | time took: 0.21s | validation loss: 44.18   \n",
      "Epoch 100  | loss: 0.51     | time took: 0.21s | validation loss: 43.83   \n",
      "Epoch 200  | loss: 0.48     | time took: 0.21s | validation loss: 42.98   \n",
      "Epoch 300  | loss: 0.44     | time took: 0.21s | validation loss: 43.68   \n",
      "Epoch 400  | loss: 0.45     | time took: 0.21s | validation loss: 44.32   \n",
      "Epoch 500  | loss: 0.46     | time took: 0.21s | validation loss: 44.09   \n",
      "Epoch 600  | loss: 0.47     | time took: 0.21s | validation loss: 46.08   \n",
      "Epoch 700  | loss: 0.47     | time took: 0.21s | validation loss: 46.47   \n",
      "Epoch 800  | loss: 0.46     | time took: 0.21s | validation loss: 46.32   \n",
      "Epoch 900  | loss: 0.44     | time took: 0.21s | validation loss: 45.67   \n",
      "Horizon 12 ==========\n",
      "train_x.shape: (1270, 12, 67)\n",
      "train_y.shape: (1270, 12, 2)\n",
      "valid_x.shape: (347, 12, 67)\n",
      "valid_y.shape: (347, 12, 2)\n",
      "Epoch 0    | loss: 0.52     | time took: 0.21s | validation loss: 44.69   \n",
      "Epoch 100  | loss: 0.50     | time took: 0.21s | validation loss: 43.59   \n",
      "Epoch 200  | loss: 0.51     | time took: 0.21s | validation loss: 41.99   \n",
      "Epoch 300  | loss: 0.48     | time took: 0.20s | validation loss: 43.41   \n",
      "Epoch 400  | loss: 0.47     | time took: 0.20s | validation loss: 42.30   \n",
      "Epoch 500  | loss: 0.47     | time took: 0.21s | validation loss: 43.05   \n",
      "Epoch 600  | loss: 0.50     | time took: 0.20s | validation loss: 41.82   \n",
      "Epoch 700  | loss: 0.45     | time took: 0.21s | validation loss: 44.17   \n",
      "Epoch 800  | loss: 0.45     | time took: 0.21s | validation loss: 44.54   \n",
      "Epoch 900  | loss: 0.44     | time took: 0.21s | validation loss: 42.91   \n",
      "Horizon 13 ==========\n",
      "train_x.shape: (1169, 13, 67)\n",
      "train_y.shape: (1169, 13, 2)\n",
      "valid_x.shape: (324, 13, 67)\n",
      "valid_y.shape: (324, 13, 2)\n",
      "Epoch 0    | loss: 0.59     | time took: 0.22s | validation loss: 44.27   \n",
      "Epoch 100  | loss: 0.50     | time took: 0.21s | validation loss: 42.27   \n",
      "Epoch 200  | loss: 0.47     | time took: 0.21s | validation loss: 43.95   \n",
      "Epoch 300  | loss: 0.45     | time took: 0.21s | validation loss: 42.89   \n",
      "Epoch 400  | loss: 0.46     | time took: 0.21s | validation loss: 45.99   \n",
      "Epoch 500  | loss: 0.46     | time took: 0.21s | validation loss: 46.19   \n",
      "Epoch 600  | loss: 0.47     | time took: 0.21s | validation loss: 46.73   \n",
      "Epoch 700  | loss: 0.45     | time took: 0.21s | validation loss: 44.23   \n",
      "Epoch 800  | loss: 0.44     | time took: 0.21s | validation loss: 43.25   \n",
      "Epoch 900  | loss: 0.43     | time took: 0.21s | validation loss: 46.86   \n",
      "Horizon 14 ==========\n",
      "train_x.shape: (1078, 14, 67)\n",
      "train_y.shape: (1078, 14, 2)\n",
      "valid_x.shape: (298, 14, 67)\n",
      "valid_y.shape: (298, 14, 2)\n",
      "Epoch 0    | loss: 0.55     | time took: 0.20s | validation loss: 48.81   \n",
      "Epoch 100  | loss: 0.48     | time took: 0.20s | validation loss: 48.72   \n",
      "Epoch 200  | loss: 0.47     | time took: 0.20s | validation loss: 49.27   \n",
      "Epoch 300  | loss: 0.46     | time took: 0.22s | validation loss: 48.94   \n",
      "Epoch 400  | loss: 0.46     | time took: 0.20s | validation loss: 48.35   \n",
      "Epoch 500  | loss: 0.45     | time took: 0.20s | validation loss: 49.78   \n",
      "Epoch 600  | loss: 0.44     | time took: 0.20s | validation loss: 50.92   \n",
      "Epoch 700  | loss: 0.44     | time took: 0.20s | validation loss: 48.83   \n",
      "Epoch 800  | loss: 0.44     | time took: 0.20s | validation loss: 51.11   \n",
      "Epoch 900  | loss: 0.43     | time took: 0.20s | validation loss: 49.47   \n",
      "Horizon 15 ==========\n",
      "train_x.shape: (1006, 15, 67)\n",
      "train_y.shape: (1006, 15, 2)\n",
      "valid_x.shape: (277, 15, 67)\n",
      "valid_y.shape: (277, 15, 2)\n",
      "Epoch 0    | loss: 0.48     | time took: 0.20s | validation loss: 47.39   \n",
      "Epoch 100  | loss: 0.44     | time took: 0.20s | validation loss: 49.12   \n",
      "Epoch 200  | loss: 0.43     | time took: 0.20s | validation loss: 50.20   \n",
      "Epoch 300  | loss: 0.41     | time took: 0.20s | validation loss: 48.24   \n",
      "Epoch 400  | loss: 0.41     | time took: 0.20s | validation loss: 47.02   \n",
      "Epoch 500  | loss: 0.40     | time took: 0.20s | validation loss: 47.39   \n",
      "Epoch 600  | loss: 0.40     | time took: 0.20s | validation loss: 48.11   \n",
      "Epoch 700  | loss: 0.40     | time took: 0.22s | validation loss: 49.50   \n",
      "Epoch 800  | loss: 0.40     | time took: 0.20s | validation loss: 48.26   \n",
      "Epoch 900  | loss: 0.39     | time took: 0.20s | validation loss: 48.88   \n",
      "Horizon 16 ==========\n",
      "train_x.shape: (941, 16, 67)\n",
      "train_y.shape: (941, 16, 2)\n",
      "valid_x.shape: (260, 16, 67)\n",
      "valid_y.shape: (260, 16, 2)\n",
      "Epoch 0    | loss: 0.50     | time took: 0.20s | validation loss: 46.33   \n",
      "Epoch 100  | loss: 0.47     | time took: 0.20s | validation loss: 48.89   \n",
      "Epoch 200  | loss: 0.46     | time took: 0.20s | validation loss: 49.37   \n",
      "Epoch 300  | loss: 0.46     | time took: 0.20s | validation loss: 48.04   \n",
      "Epoch 400  | loss: 0.45     | time took: 0.20s | validation loss: 49.22   \n",
      "Epoch 500  | loss: 0.47     | time took: 0.20s | validation loss: 47.66   \n",
      "Epoch 600  | loss: 0.49     | time took: 0.19s | validation loss: 48.26   \n",
      "Epoch 700  | loss: 0.45     | time took: 0.20s | validation loss: 49.41   \n",
      "Epoch 800  | loss: 0.43     | time took: 0.20s | validation loss: 48.10   \n",
      "Epoch 900  | loss: 0.44     | time took: 0.20s | validation loss: 49.21   \n",
      "Horizon 17 ==========\n",
      "train_x.shape: (879, 17, 67)\n",
      "train_y.shape: (879, 17, 2)\n",
      "valid_x.shape: (246, 17, 67)\n",
      "valid_y.shape: (246, 17, 2)\n",
      "Epoch 0    | loss: 0.48     | time took: 0.20s | validation loss: 55.39   \n",
      "Epoch 100  | loss: 0.42     | time took: 0.19s | validation loss: 55.59   \n",
      "Epoch 200  | loss: 0.40     | time took: 0.20s | validation loss: 55.31   \n",
      "Epoch 300  | loss: 0.43     | time took: 0.19s | validation loss: 55.52   \n",
      "Epoch 400  | loss: 0.42     | time took: 0.19s | validation loss: 56.08   \n",
      "Epoch 500  | loss: 0.42     | time took: 0.19s | validation loss: 55.91   \n",
      "Epoch 600  | loss: 0.41     | time took: 0.20s | validation loss: 54.98   \n",
      "Epoch 700  | loss: 0.40     | time took: 0.19s | validation loss: 54.33   \n",
      "Epoch 800  | loss: 0.41     | time took: 0.19s | validation loss: 56.97   \n",
      "Epoch 900  | loss: 0.41     | time took: 0.19s | validation loss: 55.37   \n",
      "Horizon 18 ==========\n",
      "train_x.shape: (832, 18, 67)\n",
      "train_y.shape: (832, 18, 2)\n",
      "valid_x.shape: (228, 18, 67)\n",
      "valid_y.shape: (228, 18, 2)\n",
      "Epoch 0    | loss: 0.57     | time took: 0.21s | validation loss: 56.67   \n",
      "Epoch 100  | loss: 0.42     | time took: 0.20s | validation loss: 52.01   \n",
      "Epoch 200  | loss: 0.44     | time took: 0.20s | validation loss: 53.76   \n",
      "Epoch 300  | loss: 0.43     | time took: 0.20s | validation loss: 52.09   \n",
      "Epoch 400  | loss: 0.41     | time took: 0.20s | validation loss: 54.36   \n",
      "Epoch 500  | loss: 0.43     | time took: 0.21s | validation loss: 54.44   \n",
      "Epoch 600  | loss: 0.41     | time took: 0.20s | validation loss: 51.30   \n",
      "Epoch 700  | loss: 0.41     | time took: 0.20s | validation loss: 52.10   \n",
      "Epoch 800  | loss: 0.40     | time took: 0.20s | validation loss: 54.19   \n",
      "Epoch 900  | loss: 0.42     | time took: 0.20s | validation loss: 54.86   \n",
      "Horizon 19 ==========\n",
      "train_x.shape: (785, 19, 67)\n",
      "train_y.shape: (785, 19, 2)\n",
      "valid_x.shape: (218, 19, 67)\n",
      "valid_y.shape: (218, 19, 2)\n",
      "Epoch 0    | loss: 0.48     | time took: 0.20s | validation loss: 50.89   \n",
      "Epoch 100  | loss: 0.42     | time took: 0.20s | validation loss: 53.48   \n",
      "Epoch 200  | loss: 0.41     | time took: 0.20s | validation loss: 52.70   \n",
      "Epoch 300  | loss: 0.43     | time took: 0.20s | validation loss: 52.04   \n",
      "Epoch 400  | loss: 0.43     | time took: 0.20s | validation loss: 54.70   \n",
      "Epoch 500  | loss: 0.42     | time took: 0.20s | validation loss: 52.86   \n",
      "Epoch 600  | loss: 0.41     | time took: 0.20s | validation loss: 55.16   \n",
      "Epoch 700  | loss: 0.41     | time took: 0.20s | validation loss: 52.74   \n",
      "Epoch 800  | loss: 0.40     | time took: 0.20s | validation loss: 52.27   \n",
      "Epoch 900  | loss: 0.43     | time took: 0.20s | validation loss: 53.14   \n",
      "Horizon 20 ==========\n",
      "train_x.shape: (743, 20, 67)\n",
      "train_y.shape: (743, 20, 2)\n",
      "valid_x.shape: (201, 20, 67)\n",
      "valid_y.shape: (201, 20, 2)\n"
     ]
    },
    {
     "name": "stdout",
     "output_type": "stream",
     "text": [
      "Epoch 0    | loss: 0.45     | time took: 0.19s | validation loss: 52.02   \n",
      "Epoch 100  | loss: 0.38     | time took: 0.19s | validation loss: 50.27   \n",
      "Epoch 200  | loss: 0.38     | time took: 0.19s | validation loss: 51.40   \n",
      "Epoch 300  | loss: 0.39     | time took: 0.19s | validation loss: 52.69   \n",
      "Epoch 400  | loss: 0.37     | time took: 0.19s | validation loss: 51.56   \n",
      "Epoch 500  | loss: 0.39     | time took: 0.19s | validation loss: 51.57   \n",
      "Epoch 600  | loss: 0.38     | time took: 0.19s | validation loss: 51.31   \n",
      "Epoch 700  | loss: 0.38     | time took: 0.19s | validation loss: 51.01   \n",
      "Epoch 800  | loss: 0.38     | time took: 0.19s | validation loss: 50.30   \n",
      "Epoch 900  | loss: 0.37     | time took: 0.19s | validation loss: 50.94   \n",
      "Horizon 21 ==========\n",
      "train_x.shape: (703, 21, 67)\n",
      "train_y.shape: (703, 21, 2)\n",
      "valid_x.shape: (196, 21, 67)\n",
      "valid_y.shape: (196, 21, 2)\n",
      "Epoch 0    | loss: 0.50     | time took: 0.18s | validation loss: 53.24   \n",
      "Epoch 100  | loss: 0.45     | time took: 0.18s | validation loss: 51.54   \n",
      "Epoch 200  | loss: 0.45     | time took: 0.18s | validation loss: 50.90   \n",
      "Epoch 300  | loss: 0.42     | time took: 0.18s | validation loss: 53.04   \n",
      "Epoch 400  | loss: 0.42     | time took: 0.18s | validation loss: 51.97   \n",
      "Epoch 500  | loss: 0.43     | time took: 0.18s | validation loss: 53.30   \n",
      "Epoch 600  | loss: 0.41     | time took: 0.18s | validation loss: 50.59   \n",
      "Epoch 700  | loss: 0.41     | time took: 0.18s | validation loss: 53.10   \n",
      "Epoch 800  | loss: 0.43     | time took: 0.18s | validation loss: 52.68   \n",
      "Epoch 900  | loss: 0.41     | time took: 0.18s | validation loss: 53.33   \n",
      "Horizon 22 ==========\n",
      "train_x.shape: (668, 22, 67)\n",
      "train_y.shape: (668, 22, 2)\n",
      "valid_x.shape: (184, 22, 67)\n",
      "valid_y.shape: (184, 22, 2)\n",
      "Epoch 0    | loss: 0.47     | time took: 0.19s | validation loss: 63.20   \n",
      "Epoch 100  | loss: 0.38     | time took: 0.19s | validation loss: 66.66   \n",
      "Epoch 200  | loss: 0.38     | time took: 0.19s | validation loss: 63.00   \n",
      "Epoch 300  | loss: 0.37     | time took: 0.19s | validation loss: 63.50   \n",
      "Epoch 400  | loss: 0.37     | time took: 0.19s | validation loss: 63.61   \n",
      "Epoch 500  | loss: 0.38     | time took: 0.19s | validation loss: 66.20   \n",
      "Epoch 600  | loss: 0.39     | time took: 0.19s | validation loss: 66.44   \n",
      "Epoch 700  | loss: 0.37     | time took: 0.19s | validation loss: 63.34   \n",
      "Epoch 800  | loss: 0.38     | time took: 0.19s | validation loss: 64.14   \n",
      "Epoch 900  | loss: 0.37     | time took: 0.19s | validation loss: 66.17   \n",
      "Horizon 23 ==========\n",
      "train_x.shape: (636, 23, 67)\n",
      "train_y.shape: (636, 23, 2)\n",
      "valid_x.shape: (178, 23, 67)\n",
      "valid_y.shape: (178, 23, 2)\n",
      "Epoch 0    | loss: 0.42     | time took: 0.18s | validation loss: 62.92   \n",
      "Epoch 100  | loss: 0.38     | time took: 0.18s | validation loss: 66.44   \n",
      "Epoch 200  | loss: 0.37     | time took: 0.19s | validation loss: 64.97   \n",
      "Epoch 300  | loss: 0.36     | time took: 0.18s | validation loss: 64.29   \n",
      "Epoch 400  | loss: 0.38     | time took: 0.18s | validation loss: 67.02   \n",
      "Epoch 500  | loss: 0.36     | time took: 0.18s | validation loss: 64.18   \n",
      "Epoch 600  | loss: 0.38     | time took: 0.18s | validation loss: 64.50   \n",
      "Epoch 700  | loss: 0.36     | time took: 0.18s | validation loss: 65.41   \n",
      "Epoch 800  | loss: 0.36     | time took: 0.18s | validation loss: 64.25   \n",
      "Epoch 900  | loss: 0.35     | time took: 0.18s | validation loss: 64.15   \n",
      "Horizon 24 ==========\n",
      "train_x.shape: (613, 24, 67)\n",
      "train_y.shape: (613, 24, 2)\n",
      "valid_x.shape: (168, 24, 67)\n",
      "valid_y.shape: (168, 24, 2)\n",
      "Epoch 0    | loss: 0.49     | time took: 0.19s | validation loss: 59.40   \n",
      "Epoch 100  | loss: 0.41     | time took: 0.19s | validation loss: 62.35   \n",
      "Epoch 200  | loss: 0.38     | time took: 0.18s | validation loss: 61.92   \n",
      "Epoch 300  | loss: 0.38     | time took: 0.18s | validation loss: 58.11   \n",
      "Epoch 400  | loss: 0.41     | time took: 0.18s | validation loss: 56.36   \n",
      "Epoch 500  | loss: 0.38     | time took: 0.20s | validation loss: 61.10   \n",
      "Epoch 600  | loss: 0.41     | time took: 0.19s | validation loss: 62.62   \n",
      "Epoch 700  | loss: 0.41     | time took: 0.18s | validation loss: 62.31   \n",
      "Epoch 800  | loss: 0.39     | time took: 0.19s | validation loss: 62.86   \n",
      "Epoch 900  | loss: 0.38     | time took: 0.18s | validation loss: 61.67   \n",
      "Horizon 25 ==========\n",
      "train_x.shape: (586, 25, 67)\n",
      "train_y.shape: (586, 25, 2)\n",
      "valid_x.shape: (162, 25, 67)\n",
      "valid_y.shape: (162, 25, 2)\n",
      "Epoch 0    | loss: 0.47     | time took: 0.19s | validation loss: 61.37   \n",
      "Epoch 100  | loss: 0.40     | time took: 0.19s | validation loss: 57.72   \n",
      "Epoch 200  | loss: 0.39     | time took: 0.20s | validation loss: 60.52   \n",
      "Epoch 300  | loss: 0.40     | time took: 0.19s | validation loss: 61.91   \n",
      "Epoch 400  | loss: 0.38     | time took: 0.19s | validation loss: 62.35   \n",
      "Epoch 500  | loss: 0.39     | time took: 0.19s | validation loss: 61.69   \n",
      "Epoch 600  | loss: 0.38     | time took: 0.19s | validation loss: 64.56   \n",
      "Epoch 700  | loss: 0.39     | time took: 0.19s | validation loss: 65.92   \n",
      "Epoch 800  | loss: 0.39     | time took: 0.19s | validation loss: 61.95   \n",
      "Epoch 900  | loss: 0.37     | time took: 0.19s | validation loss: 66.11   \n",
      "Horizon 26 ==========\n",
      "train_x.shape: (565, 26, 67)\n",
      "train_y.shape: (565, 26, 2)\n",
      "valid_x.shape: (158, 26, 67)\n",
      "valid_y.shape: (158, 26, 2)\n",
      "Epoch 0    | loss: 0.41     | time took: 0.18s | validation loss: 67.30   \n",
      "Epoch 100  | loss: 0.36     | time took: 0.18s | validation loss: 66.82   \n",
      "Epoch 200  | loss: 0.36     | time took: 0.18s | validation loss: 66.98   \n",
      "Epoch 300  | loss: 0.37     | time took: 0.18s | validation loss: 68.40   \n",
      "Epoch 400  | loss: 0.36     | time took: 0.18s | validation loss: 66.78   \n",
      "Epoch 500  | loss: 0.36     | time took: 0.18s | validation loss: 65.68   \n",
      "Epoch 600  | loss: 0.36     | time took: 0.18s | validation loss: 66.25   \n",
      "Epoch 700  | loss: 0.37     | time took: 0.18s | validation loss: 65.26   \n",
      "Epoch 800  | loss: 0.36     | time took: 0.18s | validation loss: 68.73   \n",
      "Epoch 900  | loss: 0.36     | time took: 0.18s | validation loss: 72.10   \n",
      "Horizon 27 ==========\n",
      "train_x.shape: (540, 27, 67)\n",
      "train_y.shape: (540, 27, 2)\n",
      "valid_x.shape: (148, 27, 67)\n",
      "valid_y.shape: (148, 27, 2)\n",
      "Epoch 0    | loss: 0.40     | time took: 0.18s | validation loss: 63.47   \n",
      "Epoch 100  | loss: 0.36     | time took: 0.19s | validation loss: 62.26   \n",
      "Epoch 200  | loss: 0.36     | time took: 0.18s | validation loss: 62.73   \n",
      "Epoch 300  | loss: 0.36     | time took: 0.19s | validation loss: 59.71   \n",
      "Epoch 400  | loss: 0.43     | time took: 0.18s | validation loss: 60.95   \n",
      "Epoch 500  | loss: 0.35     | time took: 0.18s | validation loss: 60.79   \n",
      "Epoch 600  | loss: 0.35     | time took: 0.18s | validation loss: 60.43   \n",
      "Epoch 700  | loss: 0.35     | time took: 0.18s | validation loss: 61.62   \n",
      "Epoch 800  | loss: 0.36     | time took: 0.18s | validation loss: 59.01   \n",
      "Epoch 900  | loss: 0.36     | time took: 0.19s | validation loss: 62.51   \n",
      "Horizon 28 ==========\n",
      "train_x.shape: (518, 28, 67)\n",
      "train_y.shape: (518, 28, 2)\n",
      "valid_x.shape: (141, 28, 67)\n",
      "valid_y.shape: (141, 28, 2)\n",
      "Epoch 0    | loss: 0.48     | time took: 0.19s | validation loss: 59.89   \n",
      "Epoch 100  | loss: 0.46     | time took: 0.19s | validation loss: 57.28   \n",
      "Epoch 200  | loss: 0.44     | time took: 0.19s | validation loss: 55.49   \n",
      "Epoch 300  | loss: 0.44     | time took: 0.19s | validation loss: 56.64   \n",
      "Epoch 400  | loss: 0.41     | time took: 0.19s | validation loss: 54.82   \n",
      "Epoch 500  | loss: 0.42     | time took: 0.19s | validation loss: 54.36   \n",
      "Epoch 600  | loss: 0.42     | time took: 0.19s | validation loss: 60.51   \n",
      "Epoch 700  | loss: 0.41     | time took: 0.19s | validation loss: 55.78   \n",
      "Epoch 800  | loss: 0.40     | time took: 0.19s | validation loss: 58.14   \n",
      "Epoch 900  | loss: 0.42     | time took: 0.19s | validation loss: 58.49   \n",
      "Horizon 29 ==========\n",
      "train_x.shape: (498, 29, 67)\n",
      "train_y.shape: (498, 29, 2)\n",
      "valid_x.shape: (136, 29, 67)\n",
      "valid_y.shape: (136, 29, 2)\n",
      "Epoch 0    | loss: 0.42     | time took: 0.17s | validation loss: 58.37   \n",
      "Epoch 100  | loss: 0.43     | time took: 0.17s | validation loss: 58.16   \n",
      "Epoch 200  | loss: 0.38     | time took: 0.18s | validation loss: 58.03   \n"
     ]
    },
    {
     "name": "stdout",
     "output_type": "stream",
     "text": [
      "Epoch 300  | loss: 0.38     | time took: 0.17s | validation loss: 58.08   \n",
      "Epoch 400  | loss: 0.40     | time took: 0.17s | validation loss: 57.08   \n",
      "Epoch 500  | loss: 0.39     | time took: 0.17s | validation loss: 56.18   \n",
      "Epoch 600  | loss: 0.38     | time took: 0.17s | validation loss: 57.12   \n",
      "Epoch 700  | loss: 0.38     | time took: 0.17s | validation loss: 56.69   \n",
      "Epoch 800  | loss: 0.41     | time took: 0.17s | validation loss: 55.05   \n",
      "Epoch 900  | loss: 0.39     | time took: 0.17s | validation loss: 55.01   \n",
      "Horizon 30 ==========\n",
      "train_x.shape: (476, 30, 67)\n",
      "train_y.shape: (476, 30, 2)\n",
      "valid_x.shape: (132, 30, 67)\n",
      "valid_y.shape: (132, 30, 2)\n",
      "Epoch 0    | loss: 0.43     | time took: 0.18s | validation loss: 56.98   \n",
      "Epoch 100  | loss: 0.36     | time took: 0.18s | validation loss: 54.08   \n",
      "Epoch 200  | loss: 0.36     | time took: 0.18s | validation loss: 53.99   \n",
      "Epoch 300  | loss: 0.40     | time took: 0.18s | validation loss: 54.75   \n",
      "Epoch 400  | loss: 0.35     | time took: 0.18s | validation loss: 53.66   \n",
      "Epoch 500  | loss: 0.35     | time took: 0.18s | validation loss: 54.36   \n",
      "Epoch 600  | loss: 0.35     | time took: 0.18s | validation loss: 54.52   \n",
      "Epoch 700  | loss: 0.35     | time took: 0.18s | validation loss: 54.89   \n",
      "Epoch 800  | loss: 0.34     | time took: 0.18s | validation loss: 54.75   \n",
      "Epoch 900  | loss: 0.35     | time took: 0.18s | validation loss: 55.28   \n",
      "Horizon 31 ==========\n",
      "train_x.shape: (464, 31, 67)\n",
      "train_y.shape: (464, 31, 2)\n",
      "valid_x.shape: (127, 31, 67)\n",
      "valid_y.shape: (127, 31, 2)\n",
      "Epoch 0    | loss: 0.43     | time took: 0.18s | validation loss: 39.99   \n",
      "Epoch 100  | loss: 0.38     | time took: 0.18s | validation loss: 42.44   \n",
      "Epoch 200  | loss: 0.39     | time took: 0.19s | validation loss: 41.44   \n",
      "Epoch 300  | loss: 0.40     | time took: 0.18s | validation loss: 41.91   \n",
      "Epoch 400  | loss: 0.38     | time took: 0.18s | validation loss: 39.28   \n",
      "Epoch 500  | loss: 0.36     | time took: 0.18s | validation loss: 42.85   \n",
      "Epoch 600  | loss: 0.38     | time took: 0.18s | validation loss: 41.66   \n",
      "Epoch 700  | loss: 0.39     | time took: 0.19s | validation loss: 40.46   \n",
      "Epoch 800  | loss: 0.39     | time took: 0.18s | validation loss: 41.27   \n",
      "Epoch 900  | loss: 0.38     | time took: 0.18s | validation loss: 43.12   \n",
      "Horizon 32 ==========\n",
      "train_x.shape: (445, 32, 67)\n",
      "train_y.shape: (445, 32, 2)\n",
      "valid_x.shape: (123, 32, 67)\n",
      "valid_y.shape: (123, 32, 2)\n",
      "Epoch 0    | loss: 0.41     | time took: 0.16s | validation loss: 42.25   \n",
      "Epoch 100  | loss: 0.38     | time took: 0.16s | validation loss: 43.69   \n",
      "Epoch 200  | loss: 0.37     | time took: 0.16s | validation loss: 45.15   \n",
      "Epoch 300  | loss: 0.37     | time took: 0.16s | validation loss: 44.77   \n",
      "Epoch 400  | loss: 0.37     | time took: 0.16s | validation loss: 43.30   \n",
      "Epoch 500  | loss: 0.37     | time took: 0.16s | validation loss: 44.11   \n",
      "Epoch 600  | loss: 0.37     | time took: 0.16s | validation loss: 44.23   \n",
      "Epoch 700  | loss: 0.36     | time took: 0.16s | validation loss: 45.61   \n",
      "Epoch 800  | loss: 0.36     | time took: 0.16s | validation loss: 44.79   \n",
      "Epoch 900  | loss: 0.36     | time took: 0.16s | validation loss: 45.58   \n",
      "Horizon 33 ==========\n",
      "train_x.shape: (429, 33, 67)\n",
      "train_y.shape: (429, 33, 2)\n",
      "valid_x.shape: (119, 33, 67)\n",
      "valid_y.shape: (119, 33, 2)\n",
      "Epoch 0    | loss: 0.38     | time took: 0.17s | validation loss: 48.52   \n",
      "Epoch 100  | loss: 0.35     | time took: 0.18s | validation loss: 46.88   \n",
      "Epoch 200  | loss: 0.35     | time took: 0.17s | validation loss: 46.23   \n",
      "Epoch 300  | loss: 0.36     | time took: 0.17s | validation loss: 48.54   \n",
      "Epoch 400  | loss: 0.34     | time took: 0.17s | validation loss: 47.11   \n",
      "Epoch 500  | loss: 0.35     | time took: 0.17s | validation loss: 49.68   \n",
      "Epoch 600  | loss: 0.35     | time took: 0.17s | validation loss: 46.34   \n",
      "Epoch 700  | loss: 0.34     | time took: 0.17s | validation loss: 48.06   \n",
      "Epoch 800  | loss: 0.34     | time took: 0.17s | validation loss: 47.43   \n",
      "Epoch 900  | loss: 0.34     | time took: 0.17s | validation loss: 47.48   \n",
      "Horizon 34 ==========\n",
      "train_x.shape: (414, 34, 67)\n",
      "train_y.shape: (414, 34, 2)\n",
      "valid_x.shape: (116, 34, 67)\n",
      "valid_y.shape: (116, 34, 2)\n",
      "Epoch 0    | loss: 0.37     | time took: 0.17s | validation loss: 52.51   \n",
      "Epoch 100  | loss: 0.34     | time took: 0.17s | validation loss: 51.30   \n",
      "Epoch 200  | loss: 0.37     | time took: 0.17s | validation loss: 53.60   \n",
      "Epoch 300  | loss: 0.39     | time took: 0.17s | validation loss: 50.68   \n",
      "Epoch 400  | loss: 0.34     | time took: 0.17s | validation loss: 53.83   \n",
      "Epoch 500  | loss: 0.35     | time took: 0.17s | validation loss: 50.94   \n",
      "Epoch 600  | loss: 0.34     | time took: 0.17s | validation loss: 50.65   \n",
      "Epoch 700  | loss: 0.34     | time took: 0.17s | validation loss: 50.52   \n",
      "Epoch 800  | loss: 0.34     | time took: 0.17s | validation loss: 50.47   \n",
      "Epoch 900  | loss: 0.35     | time took: 0.17s | validation loss: 51.38   \n",
      "Horizon 35 ==========\n",
      "train_x.shape: (402, 35, 67)\n",
      "train_y.shape: (402, 35, 2)\n",
      "valid_x.shape: (111, 35, 67)\n",
      "valid_y.shape: (111, 35, 2)\n",
      "Epoch 0    | loss: 0.38     | time took: 0.18s | validation loss: 53.81   \n",
      "Epoch 100  | loss: 0.36     | time took: 0.18s | validation loss: 53.92   \n",
      "Epoch 200  | loss: 0.36     | time took: 0.18s | validation loss: 52.85   \n",
      "Epoch 300  | loss: 0.35     | time took: 0.18s | validation loss: 52.78   \n",
      "Epoch 400  | loss: 0.35     | time took: 0.18s | validation loss: 53.98   \n",
      "Epoch 500  | loss: 0.34     | time took: 0.18s | validation loss: 53.48   \n",
      "Epoch 600  | loss: 0.33     | time took: 0.18s | validation loss: 52.90   \n",
      "Epoch 700  | loss: 0.34     | time took: 0.18s | validation loss: 54.82   \n",
      "Epoch 800  | loss: 0.35     | time took: 0.18s | validation loss: 54.45   \n",
      "Epoch 900  | loss: 0.34     | time took: 0.18s | validation loss: 53.48   \n",
      "Horizon 36 ==========\n",
      "train_x.shape: (392, 36, 67)\n",
      "train_y.shape: (392, 36, 2)\n",
      "valid_x.shape: (107, 36, 67)\n",
      "valid_y.shape: (107, 36, 2)\n",
      "Epoch 0    | loss: 0.39     | time took: 0.18s | validation loss: 62.51   \n",
      "Epoch 100  | loss: 0.35     | time took: 0.20s | validation loss: 77.53   \n",
      "Epoch 200  | loss: 0.34     | time took: 0.19s | validation loss: 74.65   \n",
      "Epoch 300  | loss: 0.34     | time took: 0.18s | validation loss: 77.20   \n",
      "Epoch 400  | loss: 0.35     | time took: 0.18s | validation loss: 77.81   \n",
      "Epoch 500  | loss: 0.35     | time took: 0.18s | validation loss: 76.78   \n",
      "Epoch 600  | loss: 0.34     | time took: 0.18s | validation loss: 76.36   \n",
      "Epoch 700  | loss: 0.33     | time took: 0.18s | validation loss: 76.03   \n",
      "Epoch 800  | loss: 0.34     | time took: 0.18s | validation loss: 78.13   \n",
      "Epoch 900  | loss: 0.34     | time took: 0.18s | validation loss: 75.70   \n",
      "Horizon 37 ==========\n",
      "train_x.shape: (381, 37, 67)\n",
      "train_y.shape: (381, 37, 2)\n",
      "valid_x.shape: (105, 37, 67)\n",
      "valid_y.shape: (105, 37, 2)\n",
      "Epoch 0    | loss: 0.64     | time took: 0.16s | validation loss: 80.99   \n",
      "Epoch 100  | loss: 0.39     | time took: 0.16s | validation loss: 81.29   \n",
      "Epoch 200  | loss: 0.37     | time took: 0.16s | validation loss: 80.35   \n",
      "Epoch 300  | loss: 0.37     | time took: 0.16s | validation loss: 80.65   \n",
      "Epoch 400  | loss: 0.37     | time took: 0.16s | validation loss: 80.58   \n",
      "Epoch 500  | loss: 0.36     | time took: 0.16s | validation loss: 82.33   \n",
      "Epoch 600  | loss: 0.37     | time took: 0.16s | validation loss: 80.56   \n",
      "Epoch 700  | loss: 0.37     | time took: 0.16s | validation loss: 83.86   \n",
      "Epoch 800  | loss: 0.34     | time took: 0.16s | validation loss: 82.78   \n",
      "Epoch 900  | loss: 0.35     | time took: 0.16s | validation loss: 79.90   \n",
      "Horizon 38 ==========\n",
      "train_x.shape: (367, 38, 67)\n",
      "train_y.shape: (367, 38, 2)\n",
      "valid_x.shape: (104, 38, 67)\n",
      "valid_y.shape: (104, 38, 2)\n",
      "Epoch 0    | loss: 0.41     | time took: 0.16s | validation loss: 83.02   \n",
      "Epoch 100  | loss: 0.40     | time took: 0.16s | validation loss: 83.64   \n",
      "Epoch 200  | loss: 0.38     | time took: 0.16s | validation loss: 85.22   \n",
      "Epoch 300  | loss: 0.37     | time took: 0.16s | validation loss: 83.06   \n",
      "Epoch 400  | loss: 0.36     | time took: 0.16s | validation loss: 82.59   \n",
      "Epoch 500  | loss: 0.35     | time took: 0.16s | validation loss: 83.99   \n"
     ]
    },
    {
     "name": "stdout",
     "output_type": "stream",
     "text": [
      "Epoch 600  | loss: 0.35     | time took: 0.16s | validation loss: 84.14   \n",
      "Epoch 700  | loss: 0.35     | time took: 0.16s | validation loss: 84.91   \n",
      "Epoch 800  | loss: 0.35     | time took: 0.16s | validation loss: 83.39   \n",
      "Epoch 900  | loss: 0.34     | time took: 0.16s | validation loss: 85.59   \n",
      "Horizon 39 ==========\n",
      "train_x.shape: (355, 39, 67)\n",
      "train_y.shape: (355, 39, 2)\n",
      "valid_x.shape: (101, 39, 67)\n",
      "valid_y.shape: (101, 39, 2)\n",
      "Epoch 0    | loss: 0.38     | time took: 0.17s | validation loss: 83.06   \n",
      "Epoch 100  | loss: 0.34     | time took: 0.17s | validation loss: 81.49   \n",
      "Epoch 200  | loss: 0.34     | time took: 0.17s | validation loss: 84.55   \n",
      "Epoch 300  | loss: 0.34     | time took: 0.17s | validation loss: 82.36   \n",
      "Epoch 400  | loss: 0.35     | time took: 0.17s | validation loss: 82.28   \n",
      "Epoch 500  | loss: 0.40     | time took: 0.17s | validation loss: 79.45   \n",
      "Epoch 600  | loss: 0.37     | time took: 0.17s | validation loss: 82.78   \n",
      "Epoch 700  | loss: 0.35     | time took: 0.17s | validation loss: 82.85   \n",
      "Epoch 800  | loss: 0.34     | time took: 0.17s | validation loss: 83.62   \n",
      "Epoch 900  | loss: 0.34     | time took: 0.17s | validation loss: 79.16   \n",
      "Horizon 40 ==========\n",
      "train_x.shape: (346, 40, 67)\n",
      "train_y.shape: (346, 40, 2)\n",
      "valid_x.shape: (97, 40, 67)\n",
      "valid_y.shape: (97, 40, 2)\n",
      "Epoch 0    | loss: 0.37     | time took: 0.17s | validation loss: 84.88   \n",
      "Epoch 100  | loss: 0.33     | time took: 0.17s | validation loss: 82.21   \n",
      "Epoch 200  | loss: 0.34     | time took: 0.17s | validation loss: 83.77   \n",
      "Epoch 300  | loss: 0.33     | time took: 0.17s | validation loss: 83.45   \n",
      "Epoch 400  | loss: 0.34     | time took: 0.17s | validation loss: 81.67   \n",
      "Epoch 500  | loss: 0.34     | time took: 0.17s | validation loss: 83.76   \n",
      "Epoch 600  | loss: 0.33     | time took: 0.17s | validation loss: 83.53   \n",
      "Epoch 700  | loss: 0.33     | time took: 0.17s | validation loss: 81.66   \n",
      "Epoch 800  | loss: 0.32     | time took: 0.17s | validation loss: 84.80   \n",
      "Epoch 900  | loss: 0.33     | time took: 0.17s | validation loss: 85.38   \n",
      "Horizon 41 ==========\n",
      "train_x.shape: (340, 41, 67)\n",
      "train_y.shape: (340, 41, 2)\n",
      "valid_x.shape: (95, 41, 67)\n",
      "valid_y.shape: (95, 41, 2)\n",
      "Epoch 0    | loss: 0.36     | time took: 0.18s | validation loss: 87.87   \n",
      "Epoch 100  | loss: 0.33     | time took: 0.18s | validation loss: 87.90   \n",
      "Epoch 200  | loss: 0.35     | time took: 0.18s | validation loss: 85.68   \n",
      "Epoch 300  | loss: 0.33     | time took: 0.18s | validation loss: 85.31   \n",
      "Epoch 400  | loss: 0.32     | time took: 0.17s | validation loss: 89.69   \n",
      "Epoch 500  | loss: 0.34     | time took: 0.19s | validation loss: 88.52   \n",
      "Epoch 600  | loss: 0.33     | time took: 0.18s | validation loss: 91.08   \n",
      "Epoch 700  | loss: 0.34     | time took: 0.17s | validation loss: 90.32   \n",
      "Epoch 800  | loss: 0.33     | time took: 0.17s | validation loss: 88.86   \n",
      "Epoch 900  | loss: 0.33     | time took: 0.17s | validation loss: 88.35   \n",
      "Horizon 42 ==========\n",
      "train_x.shape: (331, 42, 67)\n",
      "train_y.shape: (331, 42, 2)\n",
      "valid_x.shape: (93, 42, 67)\n",
      "valid_y.shape: (93, 42, 2)\n",
      "Epoch 0    | loss: 0.41     | time took: 0.18s | validation loss: 86.97   \n",
      "Epoch 100  | loss: 0.45     | time took: 0.18s | validation loss: 88.25   \n",
      "Epoch 200  | loss: 0.36     | time took: 0.18s | validation loss: 90.45   \n",
      "Epoch 300  | loss: 2.00     | time took: 0.18s | validation loss: 90.86   \n",
      "Epoch 400  | loss: 1.39     | time took: 0.18s | validation loss: 95.35   \n",
      "Epoch 500  | loss: 1.67     | time took: 0.18s | validation loss: 89.24   \n",
      "Epoch 600  | loss: 0.96     | time took: 0.18s | validation loss: 87.39   \n",
      "Epoch 700  | loss: 0.86     | time took: 0.18s | validation loss: 92.09   \n",
      "Epoch 800  | loss: 0.86     | time took: 0.18s | validation loss: 98.02   \n",
      "Epoch 900  | loss: 0.72     | time took: 0.18s | validation loss: 92.82   \n",
      "Horizon 43 ==========\n",
      "train_x.shape: (323, 43, 67)\n",
      "train_y.shape: (323, 43, 2)\n",
      "valid_x.shape: (88, 43, 67)\n",
      "valid_y.shape: (88, 43, 2)\n",
      "Epoch 0    | loss: 0.99     | time took: 0.18s | validation loss: 82.38   \n",
      "Epoch 100  | loss: 0.63     | time took: 0.19s | validation loss: 80.17   \n",
      "Epoch 200  | loss: 0.60     | time took: 0.18s | validation loss: 73.48   \n",
      "Epoch 300  | loss: 0.55     | time took: 0.18s | validation loss: 74.13   \n",
      "Epoch 400  | loss: 0.50     | time took: 0.18s | validation loss: 72.77   \n",
      "Epoch 500  | loss: 0.65     | time took: 0.19s | validation loss: 80.11   \n",
      "Epoch 600  | loss: 0.54     | time took: 0.18s | validation loss: 73.68   \n",
      "Epoch 700  | loss: 0.51     | time took: 0.19s | validation loss: 76.47   \n",
      "Epoch 800  | loss: 0.48     | time took: 0.19s | validation loss: 76.50   \n",
      "Epoch 900  | loss: 0.45     | time took: 0.19s | validation loss: 79.33   \n",
      "Horizon 44 ==========\n",
      "train_x.shape: (314, 44, 67)\n",
      "train_y.shape: (314, 44, 2)\n",
      "valid_x.shape: (86, 44, 67)\n",
      "valid_y.shape: (86, 44, 2)\n",
      "Epoch 0    | loss: 0.47     | time took: 0.15s | validation loss: 70.02   \n",
      "Epoch 100  | loss: 0.44     | time took: 0.15s | validation loss: 73.97   \n",
      "Epoch 200  | loss: 0.42     | time took: 0.15s | validation loss: 73.50   \n",
      "Epoch 300  | loss: 0.40     | time took: 0.15s | validation loss: 74.24   \n",
      "Epoch 400  | loss: 0.38     | time took: 0.15s | validation loss: 73.24   \n",
      "Epoch 500  | loss: 0.38     | time took: 0.15s | validation loss: 73.32   \n",
      "Epoch 600  | loss: 0.37     | time took: 0.15s | validation loss: 69.83   \n",
      "Epoch 700  | loss: 0.37     | time took: 0.15s | validation loss: 72.76   \n",
      "Epoch 800  | loss: 0.37     | time took: 0.15s | validation loss: 72.71   \n",
      "Epoch 900  | loss: 0.36     | time took: 0.15s | validation loss: 73.03   \n",
      "Horizon 45 ==========\n",
      "train_x.shape: (306, 45, 67)\n",
      "train_y.shape: (306, 45, 2)\n",
      "valid_x.shape: (85, 45, 67)\n",
      "valid_y.shape: (85, 45, 2)\n",
      "Epoch 0    | loss: 0.39     | time took: 0.15s | validation loss: 73.66   \n",
      "Epoch 100  | loss: 0.37     | time took: 0.15s | validation loss: 72.91   \n",
      "Epoch 200  | loss: 0.37     | time took: 0.15s | validation loss: 73.30   \n",
      "Epoch 300  | loss: 0.36     | time took: 0.15s | validation loss: 70.93   \n",
      "Epoch 400  | loss: 0.34     | time took: 0.16s | validation loss: 68.73   \n",
      "Epoch 500  | loss: 0.38     | time took: 0.15s | validation loss: 67.76   \n",
      "Epoch 600  | loss: 0.34     | time took: 0.15s | validation loss: 69.97   \n",
      "Epoch 700  | loss: 0.35     | time took: 0.15s | validation loss: 67.72   \n",
      "Epoch 800  | loss: 0.35     | time took: 0.15s | validation loss: 69.15   \n",
      "Epoch 900  | loss: 0.35     | time took: 0.15s | validation loss: 70.65   \n",
      "Horizon 46 ==========\n",
      "train_x.shape: (295, 46, 67)\n",
      "train_y.shape: (295, 46, 2)\n",
      "valid_x.shape: (83, 46, 67)\n",
      "valid_y.shape: (83, 46, 2)\n",
      "Epoch 0    | loss: 0.38     | time took: 0.16s | validation loss: 65.11   \n",
      "Epoch 100  | loss: 0.45     | time took: 0.16s | validation loss: 68.54   \n",
      "Epoch 200  | loss: 0.41     | time took: 0.16s | validation loss: 66.05   \n",
      "Epoch 300  | loss: 0.36     | time took: 0.16s | validation loss: 64.31   \n",
      "Epoch 400  | loss: 0.36     | time took: 0.16s | validation loss: 69.49   \n",
      "Epoch 500  | loss: 0.37     | time took: 0.16s | validation loss: 63.76   \n",
      "Epoch 600  | loss: 0.36     | time took: 0.16s | validation loss: 62.56   \n",
      "Epoch 700  | loss: 0.35     | time took: 0.16s | validation loss: 59.64   \n",
      "Epoch 800  | loss: 0.38     | time took: 0.16s | validation loss: 64.51   \n",
      "Epoch 900  | loss: 0.35     | time took: 0.16s | validation loss: 60.85   \n",
      "Horizon 47 ==========\n",
      "train_x.shape: (291, 47, 67)\n",
      "train_y.shape: (291, 47, 2)\n",
      "valid_x.shape: (80, 47, 67)\n",
      "valid_y.shape: (80, 47, 2)\n",
      "Epoch 0    | loss: 0.37     | time took: 0.16s | validation loss: 60.18   \n",
      "Epoch 100  | loss: 0.36     | time took: 0.16s | validation loss: 65.64   \n",
      "Epoch 200  | loss: 0.36     | time took: 0.16s | validation loss: 65.04   \n",
      "Epoch 300  | loss: 0.34     | time took: 0.16s | validation loss: 65.64   \n",
      "Epoch 400  | loss: 0.34     | time took: 0.16s | validation loss: 63.18   \n",
      "Epoch 500  | loss: 0.36     | time took: 0.16s | validation loss: 64.55   \n",
      "Epoch 600  | loss: 0.39     | time took: 0.16s | validation loss: 64.24   \n",
      "Epoch 700  | loss: 0.42     | time took: 0.16s | validation loss: 64.05   \n",
      "Epoch 800  | loss: 0.37     | time took: 0.16s | validation loss: 67.13   \n",
      "Epoch 900  | loss: 0.37     | time took: 0.16s | validation loss: 69.67   \n"
     ]
    },
    {
     "name": "stdout",
     "output_type": "stream",
     "text": [
      "Horizon 48 ==========\n",
      "train_x.shape: (285, 48, 67)\n",
      "train_y.shape: (285, 48, 2)\n",
      "valid_x.shape: (79, 48, 67)\n",
      "valid_y.shape: (79, 48, 2)\n",
      "Epoch 0    | loss: 0.44     | time took: 0.19s | validation loss: 67.27   \n",
      "Epoch 100  | loss: 0.40     | time took: 0.16s | validation loss: 66.84   \n",
      "Epoch 200  | loss: 0.39     | time took: 0.17s | validation loss: 64.15   \n",
      "Epoch 300  | loss: 0.40     | time took: 0.16s | validation loss: 68.81   \n",
      "Epoch 400  | loss: 0.39     | time took: 0.17s | validation loss: 65.81   \n",
      "Epoch 500  | loss: 0.39     | time took: 0.16s | validation loss: 64.14   \n",
      "Epoch 600  | loss: 0.38     | time took: 0.17s | validation loss: 65.84   \n",
      "Epoch 700  | loss: 0.36     | time took: 0.17s | validation loss: 62.23   \n",
      "Epoch 800  | loss: 0.38     | time took: 0.16s | validation loss: 62.62   \n",
      "Epoch 900  | loss: 0.40     | time took: 0.16s | validation loss: 66.78   \n",
      "Horizon 49 ==========\n",
      "train_x.shape: (279, 49, 67)\n",
      "train_y.shape: (279, 49, 2)\n",
      "valid_x.shape: (78, 49, 67)\n",
      "valid_y.shape: (78, 49, 2)\n",
      "Epoch 0    | loss: 0.44     | time took: 0.17s | validation loss: 67.92   \n",
      "Epoch 100  | loss: 0.36     | time took: 0.17s | validation loss: 66.65   \n",
      "Epoch 200  | loss: 0.47     | time took: 0.17s | validation loss: 62.86   \n",
      "Epoch 300  | loss: 0.38     | time took: 0.17s | validation loss: 66.78   \n",
      "Epoch 400  | loss: 0.75     | time took: 0.17s | validation loss: 61.60   \n",
      "Epoch 500  | loss: 0.40     | time took: 0.17s | validation loss: 64.62   \n",
      "Epoch 600  | loss: 0.40     | time took: 0.17s | validation loss: 63.57   \n",
      "Epoch 700  | loss: 0.38     | time took: 0.17s | validation loss: 63.05   \n",
      "Epoch 800  | loss: 0.38     | time took: 0.17s | validation loss: 63.85   \n",
      "Epoch 900  | loss: 0.35     | time took: 0.17s | validation loss: 64.03   \n",
      "Total time took: 2.59hrs\n"
     ]
    }
   ],
   "source": [
    "tf.reset_default_graph()\n",
    "# use training start time as the unique naming\n",
    "train_time = datetime.now().strftime('%Y_%m_%d_%H_%M_%S')\n",
    "logs_path = './train_logs/'\n",
    "\n",
    "# hyper-parameters\n",
    "num_layers = 2\n",
    "state_size = 128\n",
    "batch_size = 64\n",
    "dimx = 67\n",
    "dimy = 2\n",
    "n_epochs = 1000\n",
    "learning_rate = 0.001\n",
    "\n",
    "# lstm cells\n",
    "lstm1 = tf.contrib.rnn.BasicLSTMCell(state_size, forget_bias=1.)\n",
    "lstm1 = tf.nn.rnn_cell.DropoutWrapper(lstm1, output_keep_prob=0.8)\n",
    "\n",
    "lstm2 = tf.contrib.rnn.BasicLSTMCell(state_size, forget_bias=1.)\n",
    "lstm2 = tf.nn.rnn_cell.DropoutWrapper(lstm2, output_keep_prob=0.8)\n",
    "\n",
    "lstm_cell = tf.contrib.rnn.MultiRNNCell([lstm1, lstm2])\n",
    "\n",
    "# initial state\n",
    "initial_state = lstm_cell.zero_state(batch_size, dtype=tf.float32)\n",
    "\n",
    "# input placeholders\n",
    "h = tf.placeholder(tf.int32)\n",
    "X = tf.placeholder(tf.float32, [batch_size, None, dimx], name = 'train_input')\n",
    "Y = tf.placeholder(tf.float32, [batch_size, None, dimy], name = 'train_label')\n",
    "# rnn structure\n",
    "output, last_states = rnn_horizon(cell=lstm_cell, \n",
    "                                  initial_state=initial_state, \n",
    "                                  input_=X,\n",
    "                                  batch_size=batch_size,\n",
    "                                  seq_lengths=h,\n",
    "                                  output_dim=dimy)\n",
    "# output as the prediction\n",
    "print('output shape, last_states', output.shape, last_states)\n",
    "pred = output\n",
    "print('label shape:{0:} | output prediction shape: {1:}'.format(Y.shape, pred.shape))\n",
    "\n",
    "# tensorboard's graph visualization more convenient\n",
    "\n",
    "\n",
    "# cost = tf.reduce_sum(tf.pow(pred - y, 2)) + regularization_cost\n",
    "# optimizer = tf.train.AdamOptimizer().minimize(cost)\n",
    "\n",
    "\n",
    "with tf.name_scope('MSEloss'):\n",
    "    # loss (also add regularization on params)\n",
    "    tv = tf.trainable_variables()\n",
    "    # l2 weight loss\n",
    "#     regularization_cost = tf.reduce_sum([tf.nn.l2_loss(v) for v in tv])\n",
    "    # l1 loss\n",
    "#     l1_regularizer = tf.contrib.layers.l1_regularizer(scale=0.005, scope=None)\n",
    "#     regularization_cost = tf.contrib.layers.apply_regularization(l1_regularizer, tv)\n",
    "\n",
    "#     loss = tf.losses.mean_squared_error(Y, pred) + regularization_cost\n",
    "    # no weight loss\n",
    "    loss = tf.losses.mean_squared_error(Y, pred)\n",
    "with tf.name_scope('Adam'):\n",
    "    # optimzier\n",
    "    opt = tf.train.AdamOptimizer(learning_rate).minimize(loss)\n",
    "    \n",
    "# initialize variables\n",
    "init = tf.global_variables_initializer()\n",
    "# create a summary to monitor cost tensor\n",
    "train_summary = tf.summary.scalar(\"TrainMSEloss\", loss)\n",
    "valid_summary = tf.summary.scalar(\"ValidMSEloss\", loss)\n",
    "# # Merge all summaries into a single op\n",
    "# merged_summary_op = tf.summary.merge_all()\n",
    "\n",
    "\n",
    "# session\n",
    "sess = tf.Session(config=tf.ConfigProto(log_device_placement=True))\n",
    "# initializing the variables\n",
    "sess.run(init)\n",
    "# op to write logs to Tensorboard\n",
    "train_writer = tf.summary.FileWriter(logs_path+'/train'+train_time, graph=tf.get_default_graph())\n",
    "valid_writer = tf.summary.FileWriter(logs_path+'/valid'+train_time, graph=tf.get_default_graph())\n",
    "\n",
    "# ===============================================================================================\n",
    "\n",
    "# start training\n",
    "printn = int(1e2)\n",
    "# horizon = [2, 4, 8, 12, 16, 20, 25]\n",
    "horizon = range(2, 50)\n",
    "t_int = time.time()\n",
    "train_step = 0\n",
    "valid_step = 0\n",
    "for k in horizon:\n",
    "    # look-ahead horizon\n",
    "#     seq_len = k + 1\n",
    "    seq_len = k\n",
    "    print('Horizon {0:} {1:}'.format(seq_len, '='*10))\n",
    "\n",
    "    # train x\n",
    "    train_x = copy.deepcopy([get_sequences(i, seq_len, dimx) for i in train_game])\n",
    "    train_x = copy.deepcopy(np.concatenate(train_x, axis=0))\n",
    "    print('train_x.shape:', train_x.shape)\n",
    "    # train y\n",
    "    train_y = copy.deepcopy([get_sequences(i, seq_len, dimy) for i in train_target])\n",
    "    train_y = copy.deepcopy(np.concatenate(train_y, axis=0))\n",
    "    print('train_y.shape:', train_y.shape)\n",
    "    \n",
    "    # valid x\n",
    "    val_x = copy.deepcopy([get_sequences(i, seq_len, dimx) for i in test_game])\n",
    "    val_x = copy.deepcopy(np.concatenate(val_x, axis=0))\n",
    "    print('valid_x.shape:', val_x.shape)\n",
    "    # valid y\n",
    "    val_y = copy.deepcopy([get_sequences(i, seq_len, dimy) for i in test_target])\n",
    "    val_y = copy.deepcopy(np.concatenate(val_y, axis=0))\n",
    "    print('valid_y.shape:', val_y.shape)\n",
    "    \n",
    "    for epoch in range(n_epochs):\n",
    "        epoch_loss =0.\n",
    "        # number of train batches\n",
    "        n_train_batch = train_x.shape[0]//batch_size\n",
    "        t1 = time.time()\n",
    "        for batch in iterate_minibatches(train_x, train_y, batch_size, shuffle=False):\n",
    "            train_xi, train_yi = batch\n",
    "            p, l, _, train_sum = sess.run([output, loss, opt, train_summary], \n",
    "                                        feed_dict={X: train_xi, Y: train_yi, h:seq_len})\n",
    "            train_writer.add_summary(train_sum, train_step)\n",
    "            epoch_loss += l/n_train_batch\n",
    "            train_step += 1\n",
    "        # print out info\n",
    "        if epoch%printn ==0:\n",
    "            # number of validation batches\n",
    "            n_val_batch = val_x.shape[0]//batch_size\n",
    "            t2 = time.time()\n",
    "            valid_loss = 0\n",
    "            for batch in iterate_minibatches(val_x, val_y, batch_size, shuffle=False):\n",
    "                val_xi, val_yi = batch\n",
    "                val_l, valid_sum = sess.run([loss, train_summary], \n",
    "                                            feed_dict={X: val_xi, Y: val_yi, h:seq_len})\n",
    "                valid_writer.add_summary(valid_sum, valid_step)\n",
    "                valid_loss += val_l/n_val_batch\n",
    "                valid_step += printn\n",
    "            print('Epoch {0:<4d} | loss: {1:<8.2f} | time took: {2:<.2f}s '\n",
    "                  '| validation loss: {3:<8.2f}'.format(epoch, epoch_loss, (t2-t1), valid_loss))\n",
    "                \n",
    "\n",
    "t_end = time.time()\n",
    "print('Total time took: {0:<.2f}hrs'.format((time.time()-t_int)/60/60))\n",
    "# sess.close()\n",
    "# # save model\n",
    "# #Create a saver object which will save all the variables\n",
    "# saver = tf.train.Saver()\n",
    "# #save the graph\n",
    "# saver.save(sess, save_path='./models/test_model')"
   ]
  },
  {
   "cell_type": "markdown",
   "metadata": {
    "collapsed": true
   },
   "source": [
    "### Check model on train set"
   ]
  },
  {
   "cell_type": "code",
   "execution_count": 34,
   "metadata": {},
   "outputs": [
    {
     "name": "stdout",
     "output_type": "stream",
     "text": [
      "check_id: 74\n"
     ]
    },
    {
     "data": {
      "image/png": "[encoded data removed]",
      "text/plain": [
       "<Figure size 1080x576 with 1 Axes>"
      ]
     },
     "metadata": {},
     "output_type": "display_data"
    }
   ],
   "source": [
    "check_seq_len = 3\n",
    "\n",
    "# use while loop to make sure the \n",
    "present = 0\n",
    "while present == 0:\n",
    "    check_ind = np.random.randint(0, len(train_game)-1)\n",
    "    # check_ind = 0\n",
    "#     print('check_id:', check_ind)\n",
    "    input_x = copy.deepcopy(get_sequences(train_game[check_ind], check_seq_len, dimx))\n",
    "#     print('input x shape >>>', input_x.shape)\n",
    "    output_y = copy.deepcopy(get_sequences(train_target[check_ind], check_seq_len, dimy))\n",
    "    if input_x.shape[0] >= batch_size:\n",
    "        print('check_id:', check_ind)\n",
    "        present += 1\n",
    "\n",
    "pred = []\n",
    "y_train = []\n",
    "order_x = []\n",
    "for batch in iterate_minibatches(input_x, output_y, batch_size, shuffle=False):\n",
    "    input_xi, output_yi = batch\n",
    "    p = sess.run([output], feed_dict={X: input_xi, h:check_seq_len})#, Y: train_yi, h:2})\n",
    "    pred.append(p)\n",
    "    order_x.append(input_xi)\n",
    "    y_train.append(output_yi)\n",
    "pred_train = np.array(pred).reshape(-1,2)\n",
    "y_train = np.array(y_train).reshape(-1,2)\n",
    "plt.figure(figsize=(15,8))\n",
    "plt.plot(y_train[:,0], y_train[:,1], pred_train[:, 0], pred_train[:, 1])\n",
    "plt.grid(True)"
   ]
  },
  {
   "cell_type": "markdown",
   "metadata": {},
   "source": [
    "#### Check model on test set"
   ]
  },
  {
   "cell_type": "code",
   "execution_count": 38,
   "metadata": {},
   "outputs": [
    {
     "name": "stdout",
     "output_type": "stream",
     "text": [
      "check_id: 8\n",
      "(71, 3, 67) (71, 3, 2)\n"
     ]
    },
    {
     "data": {
      "image/png": "[encoded data removed]",
      "text/plain": [
       "<Figure size 1080x576 with 1 Axes>"
      ]
     },
     "metadata": {},
     "output_type": "display_data"
    }
   ],
   "source": [
    "check_seq_len = 3\n",
    "\n",
    "# use while loop to make sure the \n",
    "present = 0\n",
    "while present == 0:\n",
    "    check_ind = np.random.randint(0, len(test_game)-1)\n",
    "    # check_ind = 0\n",
    "#     print('check_id:', check_ind)\n",
    "    input_x = copy.deepcopy(get_sequences(test_game[check_ind], check_seq_len, dimx))\n",
    "#     print('input x shape >>>', input_x.shape)\n",
    "    output_y = copy.deepcopy(get_sequences(test_target[check_ind], check_seq_len, dimy))\n",
    "    if input_x.shape[0] >= batch_size:\n",
    "        print('check_id:', check_ind)\n",
    "        present += 1\n",
    "\n",
    "pred = []\n",
    "y_train = []\n",
    "order_x = []\n",
    "print(input_x.shape, output_y.shape)\n",
    "for batch in iterate_minibatches(input_x, output_y, batch_size, shuffle=False):\n",
    "    input_xi, output_yi = batch\n",
    "    p = sess.run([output], feed_dict={X: input_xi, h:check_seq_len})#, Y: train_yi, h:2})\n",
    "    pred.append(p)\n",
    "    order_x.append(input_xi)\n",
    "    y_train.append(output_yi)\n",
    "pred_train = np.array(pred).reshape(-1,2)\n",
    "y_train = np.array(y_train).reshape(-1,2)\n",
    "plt.figure(figsize=(15,8))\n",
    "plt.plot(y_train[:,0], y_train[:,1], pred_train[:, 0], pred_train[:, 1])\n",
    "plt.grid(True)"
   ]
  },
  {
   "cell_type": "markdown",
   "metadata": {},
   "source": [
    "#### Create video based off predictions"
   ]
  },
  {
   "cell_type": "code",
   "execution_count": 36,
   "metadata": {},
   "outputs": [
    {
     "ename": "IndexError",
     "evalue": "list index out of range",
     "output_type": "error",
     "traceback": [
      "\u001b[0;31m---------------------------------------------------------------------------\u001b[0m",
      "\u001b[0;31mIndexError\u001b[0m                                Traceback (most recent call last)",
      "\u001b[0;32m<ipython-input-36-f876186f516b>\u001b[0m in \u001b[0;36m<module>\u001b[0;34m()\u001b[0m\n\u001b[1;32m      7\u001b[0m \u001b[0;31m#         print(x[i][5][2][2:4], pred_train[i])\u001b[0m\u001b[0;34m\u001b[0m\u001b[0;34m\u001b[0m\u001b[0m\n\u001b[1;32m      8\u001b[0m         \u001b[0mx\u001b[0m\u001b[0;34m[\u001b[0m\u001b[0mi\u001b[0m\u001b[0;34m]\u001b[0m\u001b[0;34m[\u001b[0m\u001b[0;36m5\u001b[0m\u001b[0;34m]\u001b[0m\u001b[0;34m[\u001b[0m\u001b[0;36m2\u001b[0m\u001b[0;34m]\u001b[0m\u001b[0;34m[\u001b[0m\u001b[0;36m2\u001b[0m\u001b[0;34m:\u001b[0m\u001b[0;36m4\u001b[0m\u001b[0;34m]\u001b[0m\u001b[0;34m=\u001b[0m\u001b[0mpred_train\u001b[0m\u001b[0;34m[\u001b[0m\u001b[0mi\u001b[0m\u001b[0;34m]\u001b[0m\u001b[0;34m\u001b[0m\u001b[0m\n\u001b[0;32m----> 9\u001b[0;31m \u001b[0mevents_pred\u001b[0m \u001b[0;34m=\u001b[0m \u001b[0mevents_pred\u001b[0m\u001b[0;34m.\u001b[0m\u001b[0mmoments\u001b[0m\u001b[0;34m.\u001b[0m\u001b[0mapply\u001b[0m\u001b[0;34m(\u001b[0m\u001b[0;32mlambda\u001b[0m \u001b[0mx\u001b[0m\u001b[0;34m:\u001b[0m \u001b[0mreplace_pos\u001b[0m\u001b[0;34m(\u001b[0m\u001b[0mx\u001b[0m\u001b[0;34m)\u001b[0m\u001b[0;34m)\u001b[0m\u001b[0;34m\u001b[0m\u001b[0m\n\u001b[0m",
      "\u001b[0;32m/home/sam/anaconda3/lib/python3.6/site-packages/pandas/core/series.py\u001b[0m in \u001b[0;36mapply\u001b[0;34m(self, func, convert_dtype, args, **kwds)\u001b[0m\n\u001b[1;32m   2353\u001b[0m             \u001b[0;32melse\u001b[0m\u001b[0;34m:\u001b[0m\u001b[0;34m\u001b[0m\u001b[0m\n\u001b[1;32m   2354\u001b[0m                 \u001b[0mvalues\u001b[0m \u001b[0;34m=\u001b[0m \u001b[0mself\u001b[0m\u001b[0;34m.\u001b[0m\u001b[0masobject\u001b[0m\u001b[0;34m\u001b[0m\u001b[0m\n\u001b[0;32m-> 2355\u001b[0;31m                 \u001b[0mmapped\u001b[0m \u001b[0;34m=\u001b[0m \u001b[0mlib\u001b[0m\u001b[0;34m.\u001b[0m\u001b[0mmap_infer\u001b[0m\u001b[0;34m(\u001b[0m\u001b[0mvalues\u001b[0m\u001b[0;34m,\u001b[0m \u001b[0mf\u001b[0m\u001b[0;34m,\u001b[0m \u001b[0mconvert\u001b[0m\u001b[0;34m=\u001b[0m\u001b[0mconvert_dtype\u001b[0m\u001b[0;34m)\u001b[0m\u001b[0;34m\u001b[0m\u001b[0m\n\u001b[0m\u001b[1;32m   2356\u001b[0m \u001b[0;34m\u001b[0m\u001b[0m\n\u001b[1;32m   2357\u001b[0m         \u001b[0;32mif\u001b[0m \u001b[0mlen\u001b[0m\u001b[0;34m(\u001b[0m\u001b[0mmapped\u001b[0m\u001b[0;34m)\u001b[0m \u001b[0;32mand\u001b[0m \u001b[0misinstance\u001b[0m\u001b[0;34m(\u001b[0m\u001b[0mmapped\u001b[0m\u001b[0;34m[\u001b[0m\u001b[0;36m0\u001b[0m\u001b[0;34m]\u001b[0m\u001b[0;34m,\u001b[0m \u001b[0mSeries\u001b[0m\u001b[0;34m)\u001b[0m\u001b[0;34m:\u001b[0m\u001b[0;34m\u001b[0m\u001b[0m\n",
      "\u001b[0;32mpandas/_libs/src/inference.pyx\u001b[0m in \u001b[0;36mpandas._libs.lib.map_infer (pandas/_libs/lib.c:66440)\u001b[0;34m()\u001b[0m\n",
      "\u001b[0;32m<ipython-input-36-f876186f516b>\u001b[0m in \u001b[0;36m<lambda>\u001b[0;34m(x)\u001b[0m\n\u001b[1;32m      7\u001b[0m \u001b[0;31m#         print(x[i][5][2][2:4], pred_train[i])\u001b[0m\u001b[0;34m\u001b[0m\u001b[0;34m\u001b[0m\u001b[0m\n\u001b[1;32m      8\u001b[0m         \u001b[0mx\u001b[0m\u001b[0;34m[\u001b[0m\u001b[0mi\u001b[0m\u001b[0;34m]\u001b[0m\u001b[0;34m[\u001b[0m\u001b[0;36m5\u001b[0m\u001b[0;34m]\u001b[0m\u001b[0;34m[\u001b[0m\u001b[0;36m2\u001b[0m\u001b[0;34m]\u001b[0m\u001b[0;34m[\u001b[0m\u001b[0;36m2\u001b[0m\u001b[0;34m:\u001b[0m\u001b[0;36m4\u001b[0m\u001b[0;34m]\u001b[0m\u001b[0;34m=\u001b[0m\u001b[0mpred_train\u001b[0m\u001b[0;34m[\u001b[0m\u001b[0mi\u001b[0m\u001b[0;34m]\u001b[0m\u001b[0;34m\u001b[0m\u001b[0m\n\u001b[0;32m----> 9\u001b[0;31m \u001b[0mevents_pred\u001b[0m \u001b[0;34m=\u001b[0m \u001b[0mevents_pred\u001b[0m\u001b[0;34m.\u001b[0m\u001b[0mmoments\u001b[0m\u001b[0;34m.\u001b[0m\u001b[0mapply\u001b[0m\u001b[0;34m(\u001b[0m\u001b[0;32mlambda\u001b[0m \u001b[0mx\u001b[0m\u001b[0;34m:\u001b[0m \u001b[0mreplace_pos\u001b[0m\u001b[0;34m(\u001b[0m\u001b[0mx\u001b[0m\u001b[0;34m)\u001b[0m\u001b[0;34m)\u001b[0m\u001b[0;34m\u001b[0m\u001b[0m\n\u001b[0m",
      "\u001b[0;32m<ipython-input-36-f876186f516b>\u001b[0m in \u001b[0;36mreplace_pos\u001b[0;34m(x)\u001b[0m\n\u001b[1;32m      6\u001b[0m \u001b[0;31m#         print(x[i][5])\u001b[0m\u001b[0;34m\u001b[0m\u001b[0;34m\u001b[0m\u001b[0m\n\u001b[1;32m      7\u001b[0m \u001b[0;31m#         print(x[i][5][2][2:4], pred_train[i])\u001b[0m\u001b[0;34m\u001b[0m\u001b[0;34m\u001b[0m\u001b[0m\n\u001b[0;32m----> 8\u001b[0;31m         \u001b[0mx\u001b[0m\u001b[0;34m[\u001b[0m\u001b[0mi\u001b[0m\u001b[0;34m]\u001b[0m\u001b[0;34m[\u001b[0m\u001b[0;36m5\u001b[0m\u001b[0;34m]\u001b[0m\u001b[0;34m[\u001b[0m\u001b[0;36m2\u001b[0m\u001b[0;34m]\u001b[0m\u001b[0;34m[\u001b[0m\u001b[0;36m2\u001b[0m\u001b[0;34m:\u001b[0m\u001b[0;36m4\u001b[0m\u001b[0;34m]\u001b[0m\u001b[0;34m=\u001b[0m\u001b[0mpred_train\u001b[0m\u001b[0;34m[\u001b[0m\u001b[0mi\u001b[0m\u001b[0;34m]\u001b[0m\u001b[0;34m\u001b[0m\u001b[0m\n\u001b[0m\u001b[1;32m      9\u001b[0m \u001b[0mevents_pred\u001b[0m \u001b[0;34m=\u001b[0m \u001b[0mevents_pred\u001b[0m\u001b[0;34m.\u001b[0m\u001b[0mmoments\u001b[0m\u001b[0;34m.\u001b[0m\u001b[0mapply\u001b[0m\u001b[0;34m(\u001b[0m\u001b[0;32mlambda\u001b[0m \u001b[0mx\u001b[0m\u001b[0;34m:\u001b[0m \u001b[0mreplace_pos\u001b[0m\u001b[0;34m(\u001b[0m\u001b[0mx\u001b[0m\u001b[0;34m)\u001b[0m\u001b[0;34m)\u001b[0m\u001b[0;34m\u001b[0m\u001b[0m\n",
      "\u001b[0;31mIndexError\u001b[0m: list index out of range"
     ]
    }
   ],
   "source": [
    "# events.head()\n",
    "# replace the true position with the predicted\n",
    "events_pred = events.head(1).copy()\n",
    "def replace_pos(x):\n",
    "    for i in range(len(pred_train)):\n",
    "#         print(x[i][5])\n",
    "#         print(x[i][5][2][2:4], pred_train[i])\n",
    "        x[i][5][2][2:4]=pred_train[i] \n",
    "events_pred = events_pred.moments.apply(lambda x: replace_pos(x))"
   ]
  },
  {
   "cell_type": "code",
   "execution_count": null,
   "metadata": {
    "collapsed": true
   },
   "outputs": [],
   "source": [
    "# save all moments for a specific events\n",
    "Plot = PlotGame(game_id, main_dir, game_dir)\n",
    "moments = range(len(pred_train))\n",
    "event_number = 0\n",
    "for i in moments:\n",
    "    print(i, end='\\r')\n",
    "    Plot.load_pred_moment2img(game_data, event_number, i)\n",
    "# PlotGame.load_pred_moment2img()"
   ]
  },
  {
   "cell_type": "code",
   "execution_count": null,
   "metadata": {
    "collapsed": true
   },
   "outputs": [],
   "source": [
    "#  so by comparing the position we know we are modelling the third position ind = 2\n",
    "# order_x"
   ]
  },
  {
   "cell_type": "code",
   "execution_count": null,
   "metadata": {
    "collapsed": true
   },
   "outputs": [],
   "source": [
    "# prepare to save videos\n",
    "event_dir = game_dir + 'game' + str(game_id) + '/' + 'predevent' + str(event_number) + '/'\n",
    "video_name = event_dir + str(event_number) + '.mp4'\n",
    "print(video_name)\n",
    "images = glob.glob(event_dir + \"*.png\")\n",
    "images = sorted(images, key=lambda x: int(x.split('.')[2].split('/')[-1][4:]))\n",
    "# print(images)\n",
    "# save to video\n",
    "make_video(images, video_name, 15)"
   ]
  },
  {
   "cell_type": "code",
   "execution_count": null,
   "metadata": {
    "collapsed": true
   },
   "outputs": [],
   "source": []
  },
  {
   "cell_type": "code",
   "execution_count": null,
   "metadata": {
    "collapsed": true
   },
   "outputs": [],
   "source": [
    "pred_train.shape"
   ]
  },
  {
   "cell_type": "code",
   "execution_count": null,
   "metadata": {
    "collapsed": true
   },
   "outputs": [],
   "source": [
    "# len(events_pred.moments)"
   ]
  },
  {
   "cell_type": "code",
   "execution_count": null,
   "metadata": {
    "collapsed": true
   },
   "outputs": [],
   "source": []
  },
  {
   "cell_type": "code",
   "execution_count": null,
   "metadata": {
    "collapsed": true
   },
   "outputs": [],
   "source": []
  },
  {
   "cell_type": "code",
   "execution_count": null,
   "metadata": {
    "collapsed": true
   },
   "outputs": [],
   "source": []
  },
  {
   "cell_type": "markdown",
   "metadata": {},
   "source": [
    "### To do:\n",
    "\n",
    "    - 1) Regularize the lstm\n",
    "    - 2) Figure out why there are blanks in the testing\n",
    "    - 3) may consider to collect those left out from the process of creating batches\n",
    "    - 4) related to 3), seq_len = 3 may create null batches \n",
    "\n",
    "    - Split data to defending and offending, as the model for e.g. forward role in deffending and offending should be pretty different. Remove particular events, like free-throw etc.\n",
    "    \n",
    "    - We can use the shot clock as an indicator of when the offending and defending switches.\n",
    "    \n",
    "    - The cameras oprate at 25 frames per second, so in order to learn realistic motions, either we sample the 25 frames, or extend the horizon to 50 for example or even longer(this might be too computationally heavy and model would probably drift a lot).\n",
    "    \n",
    "    - At the moment if we don't have defending or offending sepearted, at least we need to break down the sequences from the 24 secs shot clock, since it usually stands for a change in game state. (note: shot clock sometimes is None)\n",
    "    \n",
    "    - Add tensorboard visualization. Add validation performance (maybe, it would take longer). \n",
    "      tensorboard --logdir=./train_logs\n",
    "      \n",
    "    - Start thinking about 1) joint training 2) Hidden structure 3) Smooth learning"
   ]
  },
  {
   "cell_type": "markdown",
   "metadata": {
    "collapsed": true
   },
   "source": [
    "### Questions\n",
    "\n",
    "    * After a team scored and they go back to get ready for defense, is the going back trajectory pretty much random?\n",
    "    * Do player swap roles during the play? e.g. a forward swapped to a guard, is the forward roles a lot different from gaurds these day? (i.e. can you differentaite a player plaing forward from guard from the game) If yes, then the hidden structure learning/sequencing is necessary. "
   ]
  },
  {
   "cell_type": "code",
   "execution_count": null,
   "metadata": {
    "collapsed": true
   },
   "outputs": [],
   "source": []
  }
 ],
 "metadata": {
  "kernelspec": {
   "display_name": "Python 3",
   "language": "python",
   "name": "python3"
  },
  "language_info": {
   "codemirror_mode": {
    "name": "ipython",
    "version": 3
   },
   "file_extension": ".py",
   "mimetype": "text/x-python",
   "name": "python",
   "nbconvert_exporter": "python",
   "pygments_lexer": "ipython3",
   "version": "3.6.4"
  }
 },
 "nbformat": 4,
 "nbformat_minor": 2
}
