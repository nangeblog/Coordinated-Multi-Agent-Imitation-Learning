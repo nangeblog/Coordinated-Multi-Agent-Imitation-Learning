{
 "cells": [
  {
   "cell_type": "code",
   "execution_count": 1,
   "metadata": {},
   "outputs": [
    {
     "name": "stderr",
     "output_type": "stream",
     "text": [
      "/home/sam/anaconda3/lib/python3.6/importlib/_bootstrap.py:219: RuntimeWarning: compiletime version 3.5 of module 'tensorflow.python.framework.fast_tensor_util' does not match runtime version 3.6\n",
      "  return f(*args, **kwds)\n",
      "/home/sam/anaconda3/lib/python3.6/site-packages/h5py/__init__.py:36: FutureWarning: Conversion of the second argument of issubdtype from `float` to `np.floating` is deprecated. In future, it will be treated as `np.float64 == np.dtype(float).type`.\n",
      "  from ._conv import register_converters as _register_converters\n"
     ]
    }
   ],
   "source": [
    "import tensorflow as tf\n",
    "from tensorflow.python.ops.rnn import _transpose_batch_time\n",
    "from model import sampling_rnn\n",
    "import numpy as np\n",
    "import pandas as pd\n",
    "import copy\n",
    "import time\n",
    "import glob, os, sys\n",
    "\n",
    "from helpers import get_sequences, iterate_minibatches, get_minibatches, check_game_roles_duplicates, \\\n",
    "                    process_moments\n",
    "    \n",
    "import matplotlib.pyplot as plt\n",
    "\n",
    "import os\n",
    "os.environ[\"TF_CPP_MIN_LOG_LEVEL\"]=\"3\"\n",
    "\n",
    "%matplotlib inline\n",
    "\n",
    "from utilities import LoadData, PlotGame, make_video\n",
    "from helpers import id_player, id_position, id_teams, get_player_trajectory, segment\n",
    "from model import rnn_horizon\n",
    "# ---------------------------------------------------------\n",
    "%load_ext autoreload\n",
    "%autoreload 2\n",
    "\n",
    "# ---------------------------------------------------------\n",
    "# directories\n",
    "main_dir = '../'\n",
    "game_dir = main_dir+'data/'\n",
    "Data = LoadData(main_dir, game_dir)"
   ]
  },
  {
   "cell_type": "code",
   "execution_count": 2,
   "metadata": {
    "collapsed": true
   },
   "outputs": [],
   "source": [
    "# we will use this fixed order as the role order\n",
    "roles = ['F', 'G', 'C-F', 'G-F', 'F-G', 'C', 'F-C']\n",
    "role_order = {'F': 0, 'G':4, 'C-F':1, 'G-F':3, 'F-G':3, 'C':2, 'F-C':1}\n",
    "# its possible that F has similar role as G-f or F-G, we create empty slots to ensure meta order"
   ]
  },
  {
   "cell_type": "code",
   "execution_count": 3,
   "metadata": {},
   "outputs": [
    {
     "name": "stdout",
     "output_type": "stream",
     "text": [
      "CPU times: user 10.9 s, sys: 156 ms, total: 11.1 s\n",
      "Wall time: 10.9 s\n"
     ]
    }
   ],
   "source": [
    "%%time\n",
    "game_id = '0021500463'\n",
    "game_data = Data.load_game(game_id)\n",
    "events = pd.DataFrame(game_data['events'])"
   ]
  },
  {
   "cell_type": "code",
   "execution_count": 4,
   "metadata": {},
   "outputs": [
    {
     "data": {
      "text/html": [
       "<div>\n",
       "<style>\n",
       "    .dataframe thead tr:only-child th {\n",
       "        text-align: right;\n",
       "    }\n",
       "\n",
       "    .dataframe thead th {\n",
       "        text-align: left;\n",
       "    }\n",
       "\n",
       "    .dataframe tbody tr th {\n",
       "        vertical-align: top;\n",
       "    }\n",
       "</style>\n",
       "<table border=\"1\" class=\"dataframe\">\n",
       "  <thead>\n",
       "    <tr style=\"text-align: right;\">\n",
       "      <th></th>\n",
       "      <th>end_time_left</th>\n",
       "      <th>home</th>\n",
       "      <th>moments</th>\n",
       "      <th>orig_events</th>\n",
       "      <th>playbyplay</th>\n",
       "      <th>quarter</th>\n",
       "      <th>start_time_left</th>\n",
       "      <th>visitor</th>\n",
       "    </tr>\n",
       "  </thead>\n",
       "  <tbody>\n",
       "    <tr>\n",
       "      <th>0</th>\n",
       "      <td>702.31</td>\n",
       "      <td>{'abbreviation': 'CHI', 'players': [{'playerid...</td>\n",
       "      <td>[[1, 1451351428029, 708.28, 12.78, None, [[-1,...</td>\n",
       "      <td>[0]</td>\n",
       "      <td>GAME_ID  EVENTNUM  EVENTMSGTYPE  EVENTMS...</td>\n",
       "      <td>1</td>\n",
       "      <td>708.28</td>\n",
       "      <td>{'abbreviation': 'TOR', 'players': [{'playerid...</td>\n",
       "    </tr>\n",
       "    <tr>\n",
       "      <th>1</th>\n",
       "      <td>686.28</td>\n",
       "      <td>{'abbreviation': 'CHI', 'players': [{'playerid...</td>\n",
       "      <td>[[1, 1451351428029, 708.28, 12.78, None, [[-1,...</td>\n",
       "      <td>[1]</td>\n",
       "      <td>GAME_ID  EVENTNUM  EVENTMSGTYPE  EVENTMS...</td>\n",
       "      <td>1</td>\n",
       "      <td>708.28</td>\n",
       "      <td>{'abbreviation': 'TOR', 'players': [{'playerid...</td>\n",
       "    </tr>\n",
       "    <tr>\n",
       "      <th>2</th>\n",
       "      <td>668.42</td>\n",
       "      <td>{'abbreviation': 'CHI', 'players': [{'playerid...</td>\n",
       "      <td>[[1, 1451351444029, 692.25, 12.21, None, [[-1,...</td>\n",
       "      <td>[2, 3]</td>\n",
       "      <td>GAME_ID  EVENTNUM  EVENTMSGTYPE  EVENTMS...</td>\n",
       "      <td>1</td>\n",
       "      <td>692.25</td>\n",
       "      <td>{'abbreviation': 'TOR', 'players': [{'playerid...</td>\n",
       "    </tr>\n",
       "    <tr>\n",
       "      <th>3</th>\n",
       "      <td>665.71</td>\n",
       "      <td>{'abbreviation': 'CHI', 'players': [{'playerid...</td>\n",
       "      <td>[[1, 1451351463029, 673.22, 21.44, None, [[-1,...</td>\n",
       "      <td>[4, 5]</td>\n",
       "      <td>GAME_ID  EVENTNUM  EVENTMSGTYPE  EVENTMS...</td>\n",
       "      <td>1</td>\n",
       "      <td>673.22</td>\n",
       "      <td>{'abbreviation': 'TOR', 'players': [{'playerid...</td>\n",
       "    </tr>\n",
       "    <tr>\n",
       "      <th>4</th>\n",
       "      <td>646.64</td>\n",
       "      <td>{'abbreviation': 'CHI', 'players': [{'playerid...</td>\n",
       "      <td>[[1, 1451351473027, 668.0, 22.9, None, [[-1, -...</td>\n",
       "      <td>[6]</td>\n",
       "      <td>GAME_ID  EVENTNUM  EVENTMSGTYPE  EVENTMS...</td>\n",
       "      <td>1</td>\n",
       "      <td>668.00</td>\n",
       "      <td>{'abbreviation': 'TOR', 'players': [{'playerid...</td>\n",
       "    </tr>\n",
       "  </tbody>\n",
       "</table>\n",
       "</div>"
      ],
      "text/plain": [
       "   end_time_left                                               home  \\\n",
       "0         702.31  {'abbreviation': 'CHI', 'players': [{'playerid...   \n",
       "1         686.28  {'abbreviation': 'CHI', 'players': [{'playerid...   \n",
       "2         668.42  {'abbreviation': 'CHI', 'players': [{'playerid...   \n",
       "3         665.71  {'abbreviation': 'CHI', 'players': [{'playerid...   \n",
       "4         646.64  {'abbreviation': 'CHI', 'players': [{'playerid...   \n",
       "\n",
       "                                             moments orig_events  \\\n",
       "0  [[1, 1451351428029, 708.28, 12.78, None, [[-1,...         [0]   \n",
       "1  [[1, 1451351428029, 708.28, 12.78, None, [[-1,...         [1]   \n",
       "2  [[1, 1451351444029, 692.25, 12.21, None, [[-1,...      [2, 3]   \n",
       "3  [[1, 1451351463029, 673.22, 21.44, None, [[-1,...      [4, 5]   \n",
       "4  [[1, 1451351473027, 668.0, 22.9, None, [[-1, -...         [6]   \n",
       "\n",
       "                                          playbyplay  quarter  \\\n",
       "0        GAME_ID  EVENTNUM  EVENTMSGTYPE  EVENTMS...        1   \n",
       "1        GAME_ID  EVENTNUM  EVENTMSGTYPE  EVENTMS...        1   \n",
       "2        GAME_ID  EVENTNUM  EVENTMSGTYPE  EVENTMS...        1   \n",
       "3        GAME_ID  EVENTNUM  EVENTMSGTYPE  EVENTMS...        1   \n",
       "4        GAME_ID  EVENTNUM  EVENTMSGTYPE  EVENTMS...        1   \n",
       "\n",
       "   start_time_left                                            visitor  \n",
       "0           708.28  {'abbreviation': 'TOR', 'players': [{'playerid...  \n",
       "1           708.28  {'abbreviation': 'TOR', 'players': [{'playerid...  \n",
       "2           692.25  {'abbreviation': 'TOR', 'players': [{'playerid...  \n",
       "3           673.22  {'abbreviation': 'TOR', 'players': [{'playerid...  \n",
       "4           668.00  {'abbreviation': 'TOR', 'players': [{'playerid...  "
      ]
     },
     "execution_count": 4,
     "metadata": {},
     "output_type": "execute_result"
    }
   ],
   "source": [
    "events.head()"
   ]
  },
  {
   "cell_type": "code",
   "execution_count": 5,
   "metadata": {},
   "outputs": [],
   "source": [
    "# for i in events.moments[0]:\n",
    "#     print(i[3], '|', i[5][0][2:])"
   ]
  },
  {
   "cell_type": "markdown",
   "metadata": {},
   "source": [
    "### Let's just see the forward role model first, and ignore defending vs offending, use home vs visitor\n",
    "### also ignore sequence length"
   ]
  },
  {
   "cell_type": "code",
   "execution_count": 6,
   "metadata": {},
   "outputs": [
    {
     "data": {
      "text/plain": [
       "0"
      ]
     },
     "execution_count": 6,
     "metadata": {},
     "output_type": "execute_result"
    }
   ],
   "source": [
    "id_role = id_position(events)\n",
    "check_game_roles_duplicates(id_role)"
   ]
  },
  {
   "cell_type": "code",
   "execution_count": 7,
   "metadata": {},
   "outputs": [
    {
     "data": {
      "text/plain": [
       "'Chicago Bulls'"
      ]
     },
     "execution_count": 7,
     "metadata": {},
     "output_type": "execute_result"
    }
   ],
   "source": [
    "events.loc[0].home['name']"
   ]
  },
  {
   "cell_type": "code",
   "execution_count": 8,
   "metadata": {},
   "outputs": [
    {
     "data": {
      "text/plain": [
       "'2015-12-28'"
      ]
     },
     "execution_count": 8,
     "metadata": {},
     "output_type": "execute_result"
    }
   ],
   "source": [
    "game_data['gamedate']"
   ]
  },
  {
   "cell_type": "code",
   "execution_count": 9,
   "metadata": {},
   "outputs": [
    {
     "data": {
      "text/plain": [
       "150"
      ]
     },
     "execution_count": 9,
     "metadata": {},
     "output_type": "execute_result"
    }
   ],
   "source": [
    "len(events.loc[0,'moments'])"
   ]
  },
  {
   "cell_type": "code",
   "execution_count": 10,
   "metadata": {},
   "outputs": [
    {
     "data": {
      "text/plain": [
       "6"
      ]
     },
     "execution_count": 10,
     "metadata": {},
     "output_type": "execute_result"
    }
   ],
   "source": [
    "events['moments'].apply(lambda x: len(x)).values.min()"
   ]
  },
  {
   "cell_type": "markdown",
   "metadata": {},
   "source": [
    "#### Pre-precoess input data\n",
    "split frames by shot clock 24s, re-order input according to role_order, extract trajectory"
   ]
  },
  {
   "cell_type": "code",
   "execution_count": 11,
   "metadata": {},
   "outputs": [
    {
     "name": "stdout",
     "output_type": "stream",
     "text": [
      "Warning!: There are less than 10 players! (skip)\n",
      "Warning!: There are less than 10 players! (skip)\n",
      "Warning!: There are less than 10 players! (skip)\n"
     ]
    }
   ],
   "source": [
    "# %%time\n",
    "homeid = events.loc[0].home['teamid']\n",
    "awayid = events.loc[0].visitor['teamid']\n",
    "single_game = []\n",
    "sc = 24. # init 25s shot clock\n",
    "\n",
    "# filter out seq length less than threshold\n",
    "len_th = 25\n",
    "n = 0\n",
    "n_short = 0\n",
    "s1 = 0\n",
    "s2 = -1\n",
    "for k, v in enumerate(events.moments.values):\n",
    "    rec = []\n",
    "    pm, scs = process_moments(v, homeid, awayid, id_role, role_order)\n",
    "    for i in range(len(scs)-1):\n",
    "        if scs[i] != None and scs[i+1] == None:\n",
    "#             rec.append(scs[s1:i+1])\n",
    "            if len(scs[s1:i+1]) >= len_th:\n",
    "                single_game.append(pm[s1:i+1])\n",
    "                n += 1\n",
    "            else:\n",
    "                n_short += 1\n",
    "            s1 = i+1\n",
    "        elif scs[i] == None:\n",
    "            s1 += 1\n",
    "        elif scs[i+1] > scs[i]:\n",
    "#             rec.append(scs[s1:i+1])\n",
    "            if len(scs[s1:i+1]) >= len_th:\n",
    "                single_game.append(pm[s1:i+1])\n",
    "                n += 1\n",
    "            else:\n",
    "                n_short += 1\n",
    "            s1 = i+1\n",
    "        elif scs[i+1] == scs[i] == sc:\n",
    "            s1 += 1\n",
    "    if s1 != len(scs)-2:\n",
    "        if len(scs[s1:]) >= len_th:\n",
    "            single_game.append(pm[s1:])\n",
    "            n += 1\n",
    "        else:\n",
    "            n_short += 1\n",
    "#         rec.append(scs[s1:])\n",
    "        \n",
    "    \n",
    "# dimensions extreme<3> x n_players<10> x (player_pos<2> + teamid_onehot<25> + ball<3>) = 900"
   ]
  },
  {
   "cell_type": "code",
   "execution_count": 12,
   "metadata": {},
   "outputs": [
    {
     "data": {
      "text/plain": [
       "292"
      ]
     },
     "execution_count": 12,
     "metadata": {},
     "output_type": "execute_result"
    }
   ],
   "source": [
    "len(single_game)"
   ]
  },
  {
   "cell_type": "code",
   "execution_count": null,
   "metadata": {
    "collapsed": true
   },
   "outputs": [],
   "source": []
  },
  {
   "cell_type": "code",
   "execution_count": 13,
   "metadata": {
    "scrolled": true
   },
   "outputs": [],
   "source": [
    "# # %%time\n",
    "# homeid = events.loc[0].home['teamid']\n",
    "# awayid = events.loc[0].visitor['teamid']\n",
    "# single_game = []\n",
    "# sc = 24. # init 25s shot clock\n",
    "\n",
    "# # filter out seq length less than threshold\n",
    "# len_th = 10\n",
    "# n = 0\n",
    "# n_short = 0\n",
    "# for k, v in enumerate(events.moments.values):\n",
    "# #     print('>>>>>>>', k, end='\\r')\n",
    "#     pm, scs = process_moments(v, homeid, awayid, id_role, role_order)\n",
    "#     print(scs)\n",
    "#     rec = []\n",
    "# #     break\n",
    "#     s1 = 0 # shot clock reset index\n",
    "#     for i in range(len(scs)-1):\n",
    "#         if scs[i] == None: # somehow there is None shot clock\n",
    "#             s1 += 1\n",
    "#             continue\n",
    "# #         if scs[i] >= sc and s1 != 0:\n",
    "#         if scs[i] == scs[i+1] and scs[i] == sc:\n",
    "#             s1 += 1\n",
    "#             continue\n",
    "# #         if scs[i] == None:\n",
    "# #             print(v[i])\n",
    "# #         print(scs[i], i, len(scs))\n",
    "#         if scs[i] >= sc and s1 != 0: #and scs[i+1] < sc: # there are cases we have multiple 24 in a row \n",
    "# #             print('==============', pm[s1:i])\n",
    "#             print('>>>>', scs[i], s1, '<<<<')\n",
    "#             if len(pm[s1:i]) >= len_th:\n",
    "#                 single_game.append(pm[s1:i-1])\n",
    "#                 rec.append(scs[s1:i-1])\n",
    "#                 n += 1\n",
    "#             else:\n",
    "#                 n_short += 1\n",
    "#             s1 = i\n",
    "#     if len(pm[s1:i]) >= len_th:\n",
    "#         single_game.append(pm[s1:])\n",
    "#         n += 1\n",
    "#     else:\n",
    "#         n_short += 1\n",
    "    \n",
    "#     print('>>>>', rec, '====')\n",
    "        \n",
    "#     break\n",
    "# # dimensions extreme<3> x n_players<10> x (player_pos<2> + teamid_onehot<25> + ball<3>) = 900"
   ]
  },
  {
   "cell_type": "code",
   "execution_count": 14,
   "metadata": {},
   "outputs": [
    {
     "name": "stdout",
     "output_type": "stream",
     "text": [
      "292 908\n"
     ]
    }
   ],
   "source": [
    "print(n, n_short)"
   ]
  },
  {
   "cell_type": "code",
   "execution_count": 15,
   "metadata": {},
   "outputs": [
    {
     "data": {
      "text/plain": [
       "(38, 900)"
      ]
     },
     "execution_count": 15,
     "metadata": {},
     "output_type": "execute_result"
    }
   ],
   "source": [
    "single_game[0].shape"
   ]
  },
  {
   "cell_type": "code",
   "execution_count": 16,
   "metadata": {
    "collapsed": true
   },
   "outputs": [],
   "source": [
    "# lets first predict role F (ignored the extreme)\n",
    "game_target = [np.roll(i[:, :2], -1, axis=0) for i in single_game]"
   ]
  },
  {
   "cell_type": "code",
   "execution_count": 17,
   "metadata": {},
   "outputs": [
    {
     "data": {
      "text/plain": [
       "(38, 900)"
      ]
     },
     "execution_count": 17,
     "metadata": {},
     "output_type": "execute_result"
    }
   ],
   "source": [
    "# D = 900\n",
    "single_game[0].shape"
   ]
  },
  {
   "cell_type": "code",
   "execution_count": 18,
   "metadata": {},
   "outputs": [
    {
     "data": {
      "text/plain": [
       "(38, 2)"
      ]
     },
     "execution_count": 18,
     "metadata": {},
     "output_type": "execute_result"
    }
   ],
   "source": [
    "game_target[0].shape"
   ]
  },
  {
   "cell_type": "code",
   "execution_count": 19,
   "metadata": {},
   "outputs": [
    {
     "data": {
      "text/plain": [
       "(43, 900)"
      ]
     },
     "execution_count": 19,
     "metadata": {},
     "output_type": "execute_result"
    }
   ],
   "source": [
    "single_game[1].shape"
   ]
  },
  {
   "cell_type": "markdown",
   "metadata": {},
   "source": [
    "#### Create train and test set"
   ]
  },
  {
   "cell_type": "code",
   "execution_count": null,
   "metadata": {
    "collapsed": true
   },
   "outputs": [],
   "source": [
    "p = 0.8 # train percentage\n",
    "divider = int(len(single_game)*p)\n",
    "train_game, test_game = single_game[:divider], single_game[divider:]\n",
    "train_target, test_target = game_target[:divider], game_target[divider:]"
   ]
  },
  {
   "cell_type": "markdown",
   "metadata": {},
   "source": [
    "#### Build graph and starts training"
   ]
  },
  {
   "cell_type": "code",
   "execution_count": null,
   "metadata": {
    "scrolled": true
   },
   "outputs": [
    {
     "name": "stdout",
     "output_type": "stream",
     "text": [
      "output shape, last_states (64, ?, 2) (LSTMStateTuple(c=<tf.Tensor 'rnn/while/Exit_4:0' shape=(64, 512) dtype=float32>, h=<tf.Tensor 'rnn/while/Exit_5:0' shape=(64, 512) dtype=float32>), LSTMStateTuple(c=<tf.Tensor 'rnn/while/Exit_6:0' shape=(64, 512) dtype=float32>, h=<tf.Tensor 'rnn/while/Exit_7:0' shape=(64, 512) dtype=float32>))\n",
      "label shape:(64, ?, 2) | output prediction shape: (64, ?, 2)\n",
      "Horizon 2 ==========\n",
      "train_x.shape: (22669, 2, 900)\n",
      "train_y.shape: (22669, 2, 2)\n",
      "valid_x.shape: (6331, 2, 900)\n",
      "valid_y.shape: (6331, 2, 2)\n",
      "Epoch 0    | loss: 153414.63 | time took: 1.85s | validation loss: 26330.88\n",
      "Epoch 100  | loss: 27284.38 | time took: 1.72s | validation loss: 6300.94 \n",
      "Epoch 200  | loss: 9738.92  | time took: 1.69s | validation loss: 5002.25 \n",
      "Epoch 300  | loss: 7099.36  | time took: 2.07s | validation loss: 3436.22 \n",
      "Epoch 400  | loss: 5883.08  | time took: 1.96s | validation loss: 3017.01 \n",
      "Epoch 500  | loss: 4879.75  | time took: 1.69s | validation loss: 2826.38 \n",
      "Epoch 600  | loss: 4746.47  | time took: 1.75s | validation loss: 2781.39 \n",
      "Epoch 700  | loss: 4278.06  | time took: 1.97s | validation loss: 2468.00 \n",
      "Epoch 800  | loss: 3600.80  | time took: 1.70s | validation loss: 2611.10 \n",
      "Epoch 900  | loss: 3709.01  | time took: 1.76s | validation loss: 2326.17 \n",
      "Horizon 4 ==========\n",
      "train_x.shape: (11276, 4, 900)\n",
      "train_y.shape: (11276, 4, 2)\n",
      "valid_x.shape: (3150, 4, 900)\n",
      "valid_y.shape: (3150, 4, 2)\n",
      "Epoch 0    | loss: 1545.36  | time took: 1.56s | validation loss: 879.45  \n",
      "Epoch 100  | loss: 1070.03  | time took: 1.33s | validation loss: 828.77  \n",
      "Epoch 200  | loss: 1013.81  | time took: 1.58s | validation loss: 845.48  \n",
      "Epoch 300  | loss: 989.39   | time took: 1.35s | validation loss: 904.09  \n",
      "Epoch 400  | loss: 929.08   | time took: 1.35s | validation loss: 883.38  \n",
      "Epoch 500  | loss: 821.04   | time took: 1.35s | validation loss: 760.24  \n",
      "Epoch 600  | loss: 687.24   | time took: 1.35s | validation loss: 816.67  \n",
      "Epoch 700  | loss: 704.69   | time took: 1.36s | validation loss: 779.10  \n",
      "Epoch 800  | loss: 713.77   | time took: 1.36s | validation loss: 724.77  \n",
      "Epoch 900  | loss: 621.19   | time took: 1.35s | validation loss: 862.92  \n",
      "Horizon 8 ==========\n",
      "train_x.shape: (5581, 8, 900)\n",
      "train_y.shape: (5581, 8, 2)\n",
      "valid_x.shape: (1559, 8, 900)\n",
      "valid_y.shape: (1559, 8, 2)\n",
      "Epoch 0    | loss: 316.55   | time took: 1.18s | validation loss: 365.91  \n",
      "Epoch 100  | loss: 259.29   | time took: 1.16s | validation loss: 398.68  \n",
      "Epoch 200  | loss: 218.40   | time took: 1.16s | validation loss: 410.40  \n",
      "Epoch 300  | loss: 219.04   | time took: 1.17s | validation loss: 358.03  \n",
      "Epoch 400  | loss: 199.79   | time took: 1.16s | validation loss: 346.91  \n",
      "Epoch 500  | loss: 199.80   | time took: 1.16s | validation loss: 399.27  \n",
      "Epoch 600  | loss: 237.95   | time took: 1.16s | validation loss: 415.34  \n",
      "Epoch 700  | loss: 239.36   | time took: 1.16s | validation loss: 382.60  \n",
      "Epoch 800  | loss: 193.08   | time took: 1.18s | validation loss: 378.30  \n",
      "Epoch 900  | loss: 217.65   | time took: 1.16s | validation loss: 397.21  \n",
      "Horizon 12 ==========\n",
      "train_x.shape: (3683, 12, 900)\n",
      "train_y.shape: (3683, 12, 2)\n",
      "valid_x.shape: (1029, 12, 900)\n",
      "valid_y.shape: (1029, 12, 2)\n",
      "Epoch 0    | loss: 141.64   | time took: 1.09s | validation loss: 270.77  \n",
      "Epoch 100  | loss: 220.15   | time took: 1.19s | validation loss: 233.34  \n",
      "Epoch 200  | loss: 133.20   | time took: 1.11s | validation loss: 241.98  \n",
      "Epoch 300  | loss: 156.97   | time took: 1.10s | validation loss: 271.17  \n",
      "Epoch 400  | loss: 165.86   | time took: 1.12s | validation loss: 260.70  \n",
      "Epoch 500  | loss: 125.69   | time took: 1.14s | validation loss: 255.17  \n",
      "Epoch 600  | loss: 122.55   | time took: 1.14s | validation loss: 267.73  \n",
      "Epoch 700  | loss: 147.84   | time took: 1.14s | validation loss: 236.33  \n",
      "Epoch 800  | loss: 132.88   | time took: 1.14s | validation loss: 259.77  \n",
      "Epoch 900  | loss: 133.87   | time took: 1.16s | validation loss: 255.17  \n",
      "Horizon 16 ==========\n",
      "train_x.shape: (2731, 16, 900)\n",
      "train_y.shape: (2731, 16, 2)\n",
      "valid_x.shape: (764, 16, 900)\n",
      "valid_y.shape: (764, 16, 2)\n",
      "Epoch 0    | loss: 129.86   | time took: 1.10s | validation loss: 185.75  \n",
      "Epoch 100  | loss: 162.95   | time took: 1.09s | validation loss: 181.98  \n",
      "Epoch 200  | loss: 202.11   | time took: 1.04s | validation loss: 198.71  \n",
      "Epoch 300  | loss: 123.11   | time took: 1.06s | validation loss: 191.63  \n",
      "Epoch 400  | loss: 115.36   | time took: 1.04s | validation loss: 195.17  \n",
      "Epoch 500  | loss: 195.05   | time took: 1.04s | validation loss: 201.24  \n",
      "Epoch 600  | loss: 124.58   | time took: 1.08s | validation loss: 194.66  \n",
      "Epoch 700  | loss: 133.56   | time took: 1.18s | validation loss: 205.39  \n",
      "Epoch 800  | loss: 108.15   | time took: 1.12s | validation loss: 181.39  \n",
      "Epoch 900  | loss: 157.56   | time took: 1.03s | validation loss: 211.58  \n",
      "Horizon 20 ==========\n",
      "train_x.shape: (2156, 20, 900)\n",
      "train_y.shape: (2156, 20, 2)\n",
      "valid_x.shape: (607, 20, 900)\n",
      "valid_y.shape: (607, 20, 2)\n",
      "Epoch 0    | loss: 96.49    | time took: 1.01s | validation loss: 167.20  \n",
      "Epoch 100  | loss: 136.18   | time took: 1.00s | validation loss: 151.50  \n",
      "Epoch 200  | loss: 135.19   | time took: 1.16s | validation loss: 174.77  \n",
      "Epoch 300  | loss: 157.03   | time took: 1.00s | validation loss: 213.01  \n"
     ]
    }
   ],
   "source": [
    "tf.reset_default_graph()\n",
    "logs_path = './train_logs/'\n",
    "\n",
    "num_layers = 2\n",
    "state_size = 512\n",
    "batch_size = 64\n",
    "dimx = 900\n",
    "dimy = 2\n",
    "\n",
    "n_epochs = 1000\n",
    "# cell\n",
    "lstm1 = tf.contrib.rnn.BasicLSTMCell(state_size, forget_bias=1.)\n",
    "lstm2 = tf.contrib.rnn.BasicLSTMCell(state_size, forget_bias=1.)\n",
    "lstm_cell = tf.contrib.rnn.MultiRNNCell([lstm1, lstm2])\n",
    "\n",
    "# initial state\n",
    "initial_state = lstm_cell.zero_state(batch_size, dtype=tf.float32)\n",
    "\n",
    "# input \n",
    "h = tf.placeholder(tf.int32)\n",
    "X = tf.placeholder(tf.float32, [batch_size, None, dimx], name = 'train_input')\n",
    "Y = tf.placeholder(tf.float32, [batch_size, None, dimy], name = 'train_label')\n",
    "output, last_states = rnn_horizon(cell=lstm_cell, \n",
    "                                  initial_state=initial_state, \n",
    "                                  input_=X,\n",
    "                                  batch_size=batch_size,\n",
    "                                  seq_lengths=h,\n",
    "                                  output_dim=dimy)\n",
    "# output as the prediction\n",
    "print('output shape, last_states', output.shape, last_states)\n",
    "pred = output\n",
    "print('label shape:{0:} | output prediction shape: {1:}'.format(Y.shape, pred.shape))\n",
    "\n",
    "# Tensorboard's Graph visualization more convenient\n",
    "with tf.name_scope('MSEloss'):\n",
    "    # loss\n",
    "    loss = tf.losses.mean_squared_error(Y, pred)\n",
    "with tf.name_scope('Adam'):\n",
    "    # optimzier\n",
    "    opt = tf.train.AdamOptimizer().minimize(loss)\n",
    "    \n",
    "# Initialize variables\n",
    "init = tf.global_variables_initializer()\n",
    "# Create a summary to monitor cost tensor\n",
    "train_summary = tf.summary.scalar(\"TrainMSEloss\", loss)\n",
    "valid_summary = tf.summary.scalar(\"ValidMSEloss\", loss)\n",
    "# # Merge all summaries into a single op\n",
    "# merged_summary_op = tf.summary.merge_all()\n",
    "\n",
    "\n",
    "# session\n",
    "sess = tf.Session(config=tf.ConfigProto(log_device_placement=True))\n",
    "# Initializing the variables\n",
    "sess.run(init)\n",
    "# op to write logs to Tensorboard\n",
    "train_writer = tf.summary.FileWriter(logs_path+'/train', graph=tf.get_default_graph())\n",
    "valid_writer = tf.summary.FileWriter(logs_path+'/valid', graph=tf.get_default_graph())\n",
    "\n",
    "# iterate\n",
    "printn = int(1e2)\n",
    "horizon = [2, 4, 8, 12, 16, 20, 25]\n",
    "t_int = time.time()\n",
    "train_step = 0\n",
    "valid_step = 0\n",
    "for k in horizon:\n",
    "    # look-ahead horizon\n",
    "#     seq_len = k + 1\n",
    "    seq_len = k\n",
    "    print('Horizon {0:} {1:}'.format(seq_len, '='*10))\n",
    "\n",
    "    # train x\n",
    "    train_x = copy.deepcopy([get_sequences(i, seq_len, dimx) for i in train_game])\n",
    "    train_x = copy.deepcopy(np.concatenate(train_x, axis=0))\n",
    "    print('train_x.shape:', train_x.shape)\n",
    "    # train y\n",
    "    train_y = copy.deepcopy([get_sequences(i, seq_len, dimy) for i in train_target])\n",
    "    train_y = copy.deepcopy(np.concatenate(train_y, axis=0))\n",
    "    print('train_y.shape:', train_y.shape)\n",
    "    \n",
    "    # valid x\n",
    "    val_x = copy.deepcopy([get_sequences(i, seq_len, dimx) for i in test_game])\n",
    "    val_x = copy.deepcopy(np.concatenate(val_x, axis=0))\n",
    "    print('valid_x.shape:', val_x.shape)\n",
    "    # valid y\n",
    "    val_y = copy.deepcopy([get_sequences(i, seq_len, dimy) for i in test_target])\n",
    "    val_y = copy.deepcopy(np.concatenate(val_y, axis=0))\n",
    "    print('valid_y.shape:', val_y.shape)\n",
    "    \n",
    "    for epoch in range(n_epochs):\n",
    "        epoch_loss =0.\n",
    "        t1 = time.time()\n",
    "        for batch in iterate_minibatches(train_x, train_y, batch_size, shuffle=False):\n",
    "            train_xi, train_yi = batch\n",
    "            p, l, _, train_sum = sess.run([output, loss, opt, train_summary], \n",
    "                                        feed_dict={X: train_xi, Y: train_yi, h:seq_len})\n",
    "            train_writer.add_summary(train_sum, train_step)\n",
    "            epoch_loss += l\n",
    "            train_step += 1\n",
    "        # print out info\n",
    "        if epoch%printn ==0:\n",
    "            t2 = time.time()\n",
    "            valid_loss = 0\n",
    "            for batch in iterate_minibatches(val_x, val_y, batch_size, shuffle=False):\n",
    "                val_xi, val_yi = batch\n",
    "                l, valid_sum = sess.run([loss, train_summary], \n",
    "                                            feed_dict={X: val_xi, Y: val_yi, h:seq_len})\n",
    "                valid_writer.add_summary(valid_sum, valid_step)\n",
    "                valid_loss += 1\n",
    "                valid_step += printn\n",
    "            print('Epoch {0:<4d} | loss: {1:<8.2f} | time took: {2:<.2f}s '\n",
    "                  '| validation loss: {3:<8.2f}'.format(epoch, epoch_loss, (t2-t1), valid_loss))\n",
    "                \n",
    "\n",
    "t_end = time.time()\n",
    "print('Total time took: {0:<.2f}hrs'.format((time.time()-t_int)/60/60))\n",
    "# sess.close()\n",
    "# # save model\n",
    "# #Create a saver object which will save all the variables\n",
    "# saver = tf.train.Saver()\n",
    "# #save the graph\n",
    "# saver.save(sess, save_path='./models/test_model')"
   ]
  },
  {
   "cell_type": "markdown",
   "metadata": {
    "collapsed": true
   },
   "source": [
    "### Check model on train set"
   ]
  },
  {
   "cell_type": "code",
   "execution_count": null,
   "metadata": {},
   "outputs": [],
   "source": [
    "check_seq_len = 3\n",
    "check_ind = np.random.randint(0, len(train_game)-1)\n",
    "# check_ind = 0\n",
    "print('check_id:', check_ind)\n",
    "input_x = copy.deepcopy(get_sequences(train_game[check_ind], check_seq_len, dimx))\n",
    "output_y = copy.deepcopy(get_sequences(train_target[check_ind], check_seq_len, dimy))\n",
    "pred = []\n",
    "y_train = []\n",
    "order_x = []\n",
    "for batch in iterate_minibatches(input_x, output_y, batch_size, shuffle=False):\n",
    "    input_xi, output_yi = batch\n",
    "    p = sess.run([output], feed_dict={X: input_xi, h:check_seq_len})#, Y: train_yi, h:2})\n",
    "    pred.append(p)\n",
    "    order_x.append(input_xi)\n",
    "    y_train.append(output_yi)\n",
    "pred_train = np.array(pred).reshape(-1,2)\n",
    "y_train = np.array(y_train).reshape(-1,2)"
   ]
  },
  {
   "cell_type": "code",
   "execution_count": null,
   "metadata": {},
   "outputs": [],
   "source": [
    "plt.figure(figsize=(15,8))\n",
    "plt.plot(y_train[:,0], y_train[:,1], pred_train[:, 0], pred_train[:, 1])\n",
    "plt.grid(True)"
   ]
  },
  {
   "cell_type": "markdown",
   "metadata": {},
   "source": [
    "#### Check model on test set"
   ]
  },
  {
   "cell_type": "code",
   "execution_count": null,
   "metadata": {
    "collapsed": true
   },
   "outputs": [],
   "source": [
    "check_ind = np.random.randint(0, len(test_game)-1)\n",
    "input_x = copy.deepcopy(get_sequences(test_game[check_ind], check_seq_len, dimx))\n",
    "output_y = copy.deepcopy(get_sequences(test_target[check_ind], check_seq_len, dimy))\n",
    "pred = []\n",
    "y_test = []\n",
    "for batch in iterate_minibatches(input_x, output_y, batch_size, shuffle=False):\n",
    "    input_xi, output_yi = batch\n",
    "    p = sess.run([output], feed_dict={X: input_xi, h:check_seq_len})#, Y: train_yi, h:2})\n",
    "    pred.append(p)\n",
    "    y_test.append(output_yi)\n",
    "pred_test = np.array(pred).reshape(-1,2)\n",
    "y_test = np.array(y_test).reshape(-1,2)"
   ]
  },
  {
   "cell_type": "code",
   "execution_count": null,
   "metadata": {},
   "outputs": [],
   "source": [
    "plt.figure(figsize=(15,8))\n",
    "plt.plot(y_test[:,0], y_test[:,1], pred_test[:, 0], pred_test[:, 1])\n",
    "plt.grid(True)"
   ]
  },
  {
   "cell_type": "markdown",
   "metadata": {},
   "source": [
    "#### Create video based off predictions"
   ]
  },
  {
   "cell_type": "code",
   "execution_count": null,
   "metadata": {
    "collapsed": true
   },
   "outputs": [],
   "source": [
    "# events.head()\n",
    "# replace the true position with the predicted\n",
    "events_pred = events.head(1).copy()\n",
    "def replace_pos(x):\n",
    "    for i in range(len(pred_train)):\n",
    "#         print(x[i][5])\n",
    "#         print(x[i][5][2][2:4], pred_train[i])\n",
    "        x[i][5][2][2:4]=pred_train[i] \n",
    "events_pred = events_pred.moments.apply(lambda x: replace_pos(x))"
   ]
  },
  {
   "cell_type": "code",
   "execution_count": null,
   "metadata": {},
   "outputs": [],
   "source": [
    "# save all moments for a specific events\n",
    "Plot = PlotGame(game_id, main_dir, game_dir)\n",
    "moments = range(len(pred_train))\n",
    "event_number = 0\n",
    "for i in moments:\n",
    "    print(i, end='\\r')\n",
    "    Plot.load_pred_moment2img(game_data, event_number, i)\n",
    "# PlotGame.load_pred_moment2img()"
   ]
  },
  {
   "cell_type": "code",
   "execution_count": null,
   "metadata": {
    "collapsed": true
   },
   "outputs": [],
   "source": [
    "#  so by comparing the position we know we are modelling the third position ind = 2\n",
    "# order_x"
   ]
  },
  {
   "cell_type": "code",
   "execution_count": null,
   "metadata": {},
   "outputs": [],
   "source": [
    "# prepare to save videos\n",
    "event_dir = game_dir + 'game' + str(game_id) + '/' + 'predevent' + str(event_number) + '/'\n",
    "video_name = event_dir + str(event_number) + '.mp4'\n",
    "print(video_name)\n",
    "images = glob.glob(event_dir + \"*.png\")\n",
    "images = sorted(images, key=lambda x: int(x.split('.')[2].split('/')[-1][4:]))\n",
    "# print(images)\n",
    "# save to video\n",
    "make_video(images, video_name, 15)"
   ]
  },
  {
   "cell_type": "code",
   "execution_count": null,
   "metadata": {
    "collapsed": true
   },
   "outputs": [],
   "source": []
  },
  {
   "cell_type": "code",
   "execution_count": null,
   "metadata": {},
   "outputs": [],
   "source": [
    "pred_train.shape"
   ]
  },
  {
   "cell_type": "code",
   "execution_count": null,
   "metadata": {
    "collapsed": true
   },
   "outputs": [],
   "source": [
    "# len(events_pred.moments)"
   ]
  },
  {
   "cell_type": "code",
   "execution_count": null,
   "metadata": {
    "collapsed": true
   },
   "outputs": [],
   "source": []
  },
  {
   "cell_type": "code",
   "execution_count": null,
   "metadata": {
    "collapsed": true
   },
   "outputs": [],
   "source": []
  },
  {
   "cell_type": "code",
   "execution_count": null,
   "metadata": {
    "collapsed": true
   },
   "outputs": [],
   "source": []
  },
  {
   "cell_type": "markdown",
   "metadata": {},
   "source": [
    "### To do:\n",
    "    - Split data to defending and offending, as the model for e.g. forward role in deffending and offending should be pretty different. Remove particular events, like free-throw etc.\n",
    "    \n",
    "    - We can use the shot clock as an indicator of when the offending and defending switches.\n",
    "    \n",
    "    - The cameras oprate at 25 frames per second, so in order to learn realistic motions, either we sample the 25 frames, or extend the horizon to 50 for example or even longer(this might be too computationally heavy and model would probably drift a lot).\n",
    "    \n",
    "    - At the moment if we don't have defending or offending sepearted, at least we need to break down the sequences from the 24 secs shot clock, since it usually stands for a change in game state. (note: shot clock sometimes is None)\n",
    "    \n",
    "    - Add tensorboard visualization. Add validation performance (maybe, it would take longer). \n",
    "      tensorboard --logdir=./train_logs\n",
    "      \n",
    "    - Start thinking about 1) joint training 2) Hidden structure 3) Smooth learning"
   ]
  },
  {
   "cell_type": "markdown",
   "metadata": {
    "collapsed": true
   },
   "source": [
    "### Questions\n",
    "\n",
    "    * After a team scored and they go back to get ready for defense, is the going back trajectory pretty much random?\n",
    "    * Do player swap roles during the play? e.g. a forward swapped to a guard, is the forward roles a lot different from gaurds these day? (i.e. can you differentaite a player plaing forward from guard from the game) If yes, then the hidden structure learning/sequencing is necessary. "
   ]
  },
  {
   "cell_type": "code",
   "execution_count": null,
   "metadata": {
    "collapsed": true
   },
   "outputs": [],
   "source": []
  }
 ],
 "metadata": {
  "kernelspec": {
   "display_name": "Python 3",
   "language": "python",
   "name": "python3"
  },
  "language_info": {
   "codemirror_mode": {
    "name": "ipython",
    "version": 3
   },
   "file_extension": ".py",
   "mimetype": "text/x-python",
   "name": "python",
   "nbconvert_exporter": "python",
   "pygments_lexer": "ipython3",
   "version": "3.6.4"
  }
 },
 "nbformat": 4,
 "nbformat_minor": 2
}
