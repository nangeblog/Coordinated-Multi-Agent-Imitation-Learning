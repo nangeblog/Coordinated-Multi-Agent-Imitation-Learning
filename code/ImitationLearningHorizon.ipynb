{
 "cells": [
  {
   "cell_type": "code",
   "execution_count": 2,
   "metadata": {},
   "outputs": [
    {
     "name": "stderr",
     "output_type": "stream",
     "text": [
      "C:\\Users\\sshi\\AppData\\Local\\Continuum\\Anaconda3\\lib\\site-packages\\h5py\\__init__.py:34: FutureWarning: Conversion of the second argument of issubdtype from `float` to `np.floating` is deprecated. In future, it will be treated as `np.float64 == np.dtype(float).type`.\n",
      "  from ._conv import register_converters as _register_converters\n"
     ]
    }
   ],
   "source": [
    "import tensorflow as tf\n",
    "from tensorflow.python.ops.rnn import _transpose_batch_time\n",
    "from model import sampling_rnn\n",
    "\n",
    "from datetime import datetime\n",
    "import numpy as np\n",
    "import pandas as pd\n",
    "import copy\n",
    "import time\n",
    "import glob, os, sys\n",
    "\n",
    "from helpers import get_sequences, iterate_minibatches, get_minibatches, check_game_roles_duplicates, \\\n",
    "                    process_moments\n",
    "    \n",
    "import matplotlib.pyplot as plt\n",
    "\n",
    "import os\n",
    "os.environ[\"TF_CPP_MIN_LOG_LEVEL\"]=\"3\"\n",
    "\n",
    "%matplotlib inline\n",
    "\n",
    "from utilities import LoadData, PlotGame, make_video\n",
    "from helpers import id_player, id_position, id_teams, get_player_trajectory, segment\n",
    "from model import rnn_horizon\n",
    "# ---------------------------------------------------------\n",
    "%load_ext autoreload\n",
    "%autoreload 2\n",
    "\n",
    "# ---------------------------------------------------------\n",
    "# directories\n",
    "main_dir = '../'\n",
    "game_dir = main_dir+'data/'\n",
    "Data = LoadData(main_dir, game_dir)"
   ]
  },
  {
   "cell_type": "code",
   "execution_count": 3,
   "metadata": {
    "collapsed": true
   },
   "outputs": [],
   "source": [
    "# we will use this fixed order as the role order\n",
    "roles = ['F', 'G', 'C-F', 'G-F', 'F-G', 'C', 'F-C']\n",
    "role_order = {'F': 0, 'G':4, 'C-F':1, 'G-F':3, 'F-G':3, 'C':2, 'F-C':1}\n",
    "# its possible that F has similar role as G-f or F-G, we create empty slots to ensure meta order"
   ]
  },
  {
   "cell_type": "code",
   "execution_count": 4,
   "metadata": {},
   "outputs": [
    {
     "name": "stdout",
     "output_type": "stream",
     "text": [
      "Wall time: 18.4 s\n"
     ]
    }
   ],
   "source": [
    "%%time\n",
    "game_id = '0021500463'\n",
    "game_data = Data.load_game(game_id)\n",
    "events_df = pd.DataFrame(game_data['events'])"
   ]
  },
  {
   "cell_type": "code",
   "execution_count": 5,
   "metadata": {},
   "outputs": [
    {
     "name": "stdout",
     "output_type": "stream",
     "text": [
      "events shape: (231, 8)\n"
     ]
    },
    {
     "data": {
      "text/html": [
       "<div>\n",
       "<style scoped>\n",
       "    .dataframe tbody tr th:only-of-type {\n",
       "        vertical-align: middle;\n",
       "    }\n",
       "\n",
       "    .dataframe tbody tr th {\n",
       "        vertical-align: top;\n",
       "    }\n",
       "\n",
       "    .dataframe thead th {\n",
       "        text-align: right;\n",
       "    }\n",
       "</style>\n",
       "<table border=\"1\" class=\"dataframe\">\n",
       "  <thead>\n",
       "    <tr style=\"text-align: right;\">\n",
       "      <th></th>\n",
       "      <th>end_time_left</th>\n",
       "      <th>home</th>\n",
       "      <th>moments</th>\n",
       "      <th>orig_events</th>\n",
       "      <th>playbyplay</th>\n",
       "      <th>quarter</th>\n",
       "      <th>start_time_left</th>\n",
       "      <th>visitor</th>\n",
       "    </tr>\n",
       "  </thead>\n",
       "  <tbody>\n",
       "    <tr>\n",
       "      <th>0</th>\n",
       "      <td>702.31</td>\n",
       "      <td>{'abbreviation': 'CHI', 'players': [{'playerid...</td>\n",
       "      <td>[[1, 1451351428029, 708.28, 12.78, None, [[-1,...</td>\n",
       "      <td>[0]</td>\n",
       "      <td>GAME_ID  EVENTNUM  EVENTMSGTYPE  EVENTMS...</td>\n",
       "      <td>1</td>\n",
       "      <td>708.28</td>\n",
       "      <td>{'abbreviation': 'TOR', 'players': [{'playerid...</td>\n",
       "    </tr>\n",
       "    <tr>\n",
       "      <th>1</th>\n",
       "      <td>686.28</td>\n",
       "      <td>{'abbreviation': 'CHI', 'players': [{'playerid...</td>\n",
       "      <td>[[1, 1451351428029, 708.28, 12.78, None, [[-1,...</td>\n",
       "      <td>[1]</td>\n",
       "      <td>GAME_ID  EVENTNUM  EVENTMSGTYPE  EVENTMS...</td>\n",
       "      <td>1</td>\n",
       "      <td>708.28</td>\n",
       "      <td>{'abbreviation': 'TOR', 'players': [{'playerid...</td>\n",
       "    </tr>\n",
       "    <tr>\n",
       "      <th>2</th>\n",
       "      <td>668.42</td>\n",
       "      <td>{'abbreviation': 'CHI', 'players': [{'playerid...</td>\n",
       "      <td>[[1, 1451351444029, 692.25, 12.21, None, [[-1,...</td>\n",
       "      <td>[2, 3]</td>\n",
       "      <td>GAME_ID  EVENTNUM  EVENTMSGTYPE  EVENTMS...</td>\n",
       "      <td>1</td>\n",
       "      <td>692.25</td>\n",
       "      <td>{'abbreviation': 'TOR', 'players': [{'playerid...</td>\n",
       "    </tr>\n",
       "  </tbody>\n",
       "</table>\n",
       "</div>"
      ],
      "text/plain": [
       "   end_time_left                                               home  \\\n",
       "0         702.31  {'abbreviation': 'CHI', 'players': [{'playerid...   \n",
       "1         686.28  {'abbreviation': 'CHI', 'players': [{'playerid...   \n",
       "2         668.42  {'abbreviation': 'CHI', 'players': [{'playerid...   \n",
       "\n",
       "                                             moments orig_events  \\\n",
       "0  [[1, 1451351428029, 708.28, 12.78, None, [[-1,...         [0]   \n",
       "1  [[1, 1451351428029, 708.28, 12.78, None, [[-1,...         [1]   \n",
       "2  [[1, 1451351444029, 692.25, 12.21, None, [[-1,...      [2, 3]   \n",
       "\n",
       "                                          playbyplay  quarter  \\\n",
       "0        GAME_ID  EVENTNUM  EVENTMSGTYPE  EVENTMS...        1   \n",
       "1        GAME_ID  EVENTNUM  EVENTMSGTYPE  EVENTMS...        1   \n",
       "2        GAME_ID  EVENTNUM  EVENTMSGTYPE  EVENTMS...        1   \n",
       "\n",
       "   start_time_left                                            visitor  \n",
       "0           708.28  {'abbreviation': 'TOR', 'players': [{'playerid...  \n",
       "1           708.28  {'abbreviation': 'TOR', 'players': [{'playerid...  \n",
       "2           692.25  {'abbreviation': 'TOR', 'players': [{'playerid...  "
      ]
     },
     "execution_count": 5,
     "metadata": {},
     "output_type": "execute_result"
    }
   ],
   "source": [
    "print('events shape:', events_df.shape)\n",
    "events_df.head(3)"
   ]
  },
  {
   "cell_type": "code",
   "execution_count": 6,
   "metadata": {
    "collapsed": true
   },
   "outputs": [],
   "source": [
    "# for i in events.moments[0]:\n",
    "#     print(i[3], '|', i[5][0][2:])"
   ]
  },
  {
   "cell_type": "markdown",
   "metadata": {},
   "source": [
    "show the plot, for the sake of comparison with processed moment later on"
   ]
  },
  {
   "cell_type": "code",
   "execution_count": 7,
   "metadata": {},
   "outputs": [
    {
     "name": "stdout",
     "output_type": "stream",
     "text": [
      "event 0/231, moment: 0/150\r"
     ]
    },
    {
     "data": {
      "text/plain": [
       "<matplotlib.axes._subplots.AxesSubplot at 0x22555898>"
      ]
     },
     "execution_count": 7,
     "metadata": {},
     "output_type": "execute_result"
    },
    {
     "data": {
      "image/png": "[encoded data removed]",
      "text/plain": [
       "<matplotlib.figure.Figure at 0x225228d0>"
      ]
     },
     "metadata": {},
     "output_type": "display_data"
    }
   ],
   "source": [
    "Plot = PlotGame(game_id, main_dir, game_dir)\n",
    "Plot.load_moment2img(game_data, 0, 0, return_img=True)"
   ]
  },
  {
   "cell_type": "markdown",
   "metadata": {},
   "source": [
    "### Let's just see the forward role model first, and ignore defending vs offending, use home vs visitor\n",
    "### also ignore sequence length"
   ]
  },
  {
   "cell_type": "code",
   "execution_count": 8,
   "metadata": {},
   "outputs": [
    {
     "data": {
      "text/plain": [
       "0"
      ]
     },
     "execution_count": 8,
     "metadata": {},
     "output_type": "execute_result"
    }
   ],
   "source": [
    "id_role = id_position(events_df)\n",
    "check_game_roles_duplicates(id_role)"
   ]
  },
  {
   "cell_type": "code",
   "execution_count": 9,
   "metadata": {},
   "outputs": [
    {
     "data": {
      "text/plain": [
       "'Chicago Bulls'"
      ]
     },
     "execution_count": 9,
     "metadata": {},
     "output_type": "execute_result"
    }
   ],
   "source": [
    "events_df.loc[0].home['name']"
   ]
  },
  {
   "cell_type": "code",
   "execution_count": 10,
   "metadata": {},
   "outputs": [
    {
     "data": {
      "text/plain": [
       "'2015-12-28'"
      ]
     },
     "execution_count": 10,
     "metadata": {},
     "output_type": "execute_result"
    }
   ],
   "source": [
    "game_data['gamedate']"
   ]
  },
  {
   "cell_type": "code",
   "execution_count": 11,
   "metadata": {},
   "outputs": [
    {
     "data": {
      "text/plain": [
       "150"
      ]
     },
     "execution_count": 11,
     "metadata": {},
     "output_type": "execute_result"
    }
   ],
   "source": [
    "len(events_df.loc[0,'moments'])"
   ]
  },
  {
   "cell_type": "code",
   "execution_count": 12,
   "metadata": {},
   "outputs": [
    {
     "data": {
      "text/plain": [
       "6"
      ]
     },
     "execution_count": 12,
     "metadata": {},
     "output_type": "execute_result"
    }
   ],
   "source": [
    "events_df['moments'].apply(lambda x: len(x)).values.min()"
   ]
  },
  {
   "cell_type": "markdown",
   "metadata": {},
   "source": [
    "#### Pre-precoess input data"
   ]
  },
  {
   "cell_type": "markdown",
   "metadata": {},
   "source": [
    "filter out actions except 1: Make, 2: Miss, 4: Rebound, 6:Personal Foul, 7:Violation"
   ]
  },
  {
   "cell_type": "code",
   "execution_count": 13,
   "metadata": {
    "collapsed": true
   },
   "outputs": [],
   "source": [
    "use_event = [1, 2, 4, 6, 7]\n",
    "discard_event = [3, 5, 8, 9, 10, 12, 13, 18]\n",
    "# events_df.loc[0, 'playbyplay'].to_dict('records')[0]"
   ]
  },
  {
   "cell_type": "code",
   "execution_count": 14,
   "metadata": {
    "collapsed": true,
    "scrolled": true
   },
   "outputs": [],
   "source": [
    "def filter_events(x, discard_event):\n",
    "    etype = x['EVENTMSGTYPE'].values\n",
    "    if len(set(etype).intersection(discard_event))!=0 or len(etype) ==0:\n",
    "        # if the event contains discard events or if the event type is an empty list\n",
    "        return False\n",
    "    else:\n",
    "        return True\n",
    "    \n",
    "events = events_df[events_df.playbyplay.apply(lambda x: filter_events(x, discard_event))].copy()\n",
    "events.reset_index(drop=True, inplace=True)"
   ]
  },
  {
   "cell_type": "code",
   "execution_count": 15,
   "metadata": {},
   "outputs": [
    {
     "data": {
      "text/plain": [
       "(134, 8)"
      ]
     },
     "execution_count": 15,
     "metadata": {},
     "output_type": "execute_result"
    }
   ],
   "source": [
    "events.shape"
   ]
  },
  {
   "cell_type": "markdown",
   "metadata": {},
   "source": [
    "Identify defending and offending runs (this is included in process_moments)"
   ]
  },
  {
   "cell_type": "code",
   "execution_count": 16,
   "metadata": {
    "collapsed": true
   },
   "outputs": [],
   "source": [
    "court_index = Data.load_csv('./meta_data/court_index.csv')\n",
    "court_index = dict(zip(court_index.game_id, court_index.court_position))"
   ]
  },
  {
   "cell_type": "markdown",
   "metadata": {},
   "source": [
    "without 24s shot clock seperation"
   ]
  },
  {
   "cell_type": "code",
   "execution_count": 17,
   "metadata": {
    "collapsed": true
   },
   "outputs": [],
   "source": [
    "# # %%time\n",
    "# homeid = events.loc[0].home['teamid']\n",
    "# awayid = events.loc[0].visitor['teamid']\n",
    "# single_game = []\n",
    "\n",
    "# # filter out seq length less than threshold\n",
    "# len_th = 25\n",
    "# n = 0    # record number that satisfies the threshold\n",
    "# n_short = 0    # number that doesnt match\n",
    "# for k, v in enumerate(events.moments.values):\n",
    "#     result_i = process_moments(v, homeid, awayid, id_role, role_order, court_index, game_id)\n",
    "#     if result_i == None:\n",
    "#         continue\n",
    "#     else:\n",
    "#         pm, scs = result_i\n",
    "#         if len(pm) >= len_th:\n",
    "#             single_game.append(pm)\n",
    "#             n += 1\n",
    "#         else:\n",
    "#             n_short += 1\n",
    "        \n",
    "    \n",
    "# # dimensions extreme<3> x n_players<10> x (player_pos<2> + teamid_onehot<25> + ball<3>) = 900"
   ]
  },
  {
   "cell_type": "markdown",
   "metadata": {},
   "source": [
    "split frames by shot clock 24s, re-order input according to role_order, extract trajectory"
   ]
  },
  {
   "cell_type": "code",
   "execution_count": 18,
   "metadata": {
    "collapsed": true
   },
   "outputs": [],
   "source": [
    "# %%time\n",
    "homeid = events.loc[0].home['teamid']\n",
    "awayid = events.loc[0].visitor['teamid']\n",
    "single_game = []\n",
    "sc = 24. # init 25s shot clock\n",
    "\n",
    "# filter out seq length less than threshold, this has to be greater than 2\n",
    "# otherwise, there might be duplicates appearing\n",
    "len_th = 25\n",
    "n = 0    # record number that satisfies the threshold\n",
    "n_short = 0    # number that doesnt match\n",
    "# s1 = 0    # index that divides the sequence, this usually happens for 24s shot clock\n",
    "# test = []\n",
    "# true = []\n",
    "for k, v in enumerate(events.moments.values):\n",
    "    result_i = process_moments(v, homeid, awayid, id_role, role_order, court_index, game_id)\n",
    "    if result_i == None:\n",
    "        continue\n",
    "    else:\n",
    "        s1 = 0 # index that divides the sequence, this usually happens for 24s shot clock\n",
    "        pm, scs = result_i\n",
    "#         print(len(pm), len(scs))\n",
    "#         scs = [None, None, None, 24, 23,22,10, 24, None, 24, 11, 10,10, 10, 10,  9, 8, 7 ,None, None]\n",
    "#         true.append(scs)\n",
    "        for i in range(len(scs)-1):\n",
    "            # sometimes there are None shot clock value\n",
    "            if scs[i] != None and scs[i+1] == None:\n",
    "                if len(scs[s1:i+1]) >= len_th:\n",
    "                    single_game.append(pm[s1:i+1])\n",
    "#                     print(pm[s1:i+1], 'A<<<<<<<<')\n",
    "#                     test.append(scs[s1:i+1])\n",
    "                    n += 1\n",
    "                else:\n",
    "                    n_short += 1\n",
    "                s1 = i+1\n",
    "            elif scs[i] == None:\n",
    "                s1 += 1\n",
    "            elif scs[i+1] >= scs[i]:\n",
    "                if len(scs[s1:i+1]) >= len_th:\n",
    "                    single_game.append(pm[s1:i+1])\n",
    "#                     print(pm[s1:i+1], 'B<<<<<<<<')\n",
    "#                     test.append(scs[s1:i+1])\n",
    "                    n += 1\n",
    "                else:\n",
    "                    n_short += 1\n",
    "                s1 = i+1\n",
    "#             else:\n",
    "#                 s1 += 1\n",
    "        # grab the end piece\n",
    "        if s1 != len(scs)-2:\n",
    "            if len(scs[s1:]) >= len_th:\n",
    "                single_game.append(pm[s1:])\n",
    "#                 print(pm[s1:], scs[s1:], 'C<<<<<<<<')\n",
    "#                 test.append(scs[s1:])\n",
    "                n += 1\n",
    "            else:\n",
    "                n_short += 1\n",
    "#     break\n",
    "# dimensions extreme<3> x n_players<10> x (player_pos<2> + teamid_onehot<25> + ball<3>) = 900"
   ]
  },
  {
   "cell_type": "code",
   "execution_count": null,
   "metadata": {
    "collapsed": true
   },
   "outputs": [],
   "source": [
    "g = single_game[0]\n"
   ]
  },
  {
   "cell_type": "code",
   "execution_count": 17,
   "metadata": {},
   "outputs": [
    {
     "name": "stdout",
     "output_type": "stream",
     "text": [
      "128 2711\n"
     ]
    }
   ],
   "source": [
    "print(n, n_short)"
   ]
  },
  {
   "cell_type": "code",
   "execution_count": 18,
   "metadata": {},
   "outputs": [
    {
     "data": {
      "text/plain": [
       "1610612741"
      ]
     },
     "execution_count": 18,
     "metadata": {},
     "output_type": "execute_result"
    }
   ],
   "source": [
    "homeid"
   ]
  },
  {
   "cell_type": "code",
   "execution_count": 19,
   "metadata": {},
   "outputs": [
    {
     "data": {
      "text/plain": [
       "1610612761"
      ]
     },
     "execution_count": 19,
     "metadata": {},
     "output_type": "execute_result"
    }
   ],
   "source": [
    "awayid"
   ]
  },
  {
   "cell_type": "code",
   "execution_count": 20,
   "metadata": {},
   "outputs": [
    {
     "name": "stdout",
     "output_type": "stream",
     "text": [
      "128\n"
     ]
    }
   ],
   "source": [
    "print(len(single_game))"
   ]
  },
  {
   "cell_type": "code",
   "execution_count": 21,
   "metadata": {},
   "outputs": [
    {
     "data": {
      "text/plain": [
       "(38, 210)"
      ]
     },
     "execution_count": 21,
     "metadata": {},
     "output_type": "execute_result"
    }
   ],
   "source": [
    "single_game[0].shape"
   ]
  },
  {
   "cell_type": "code",
   "execution_count": 22,
   "metadata": {
    "collapsed": true
   },
   "outputs": [],
   "source": [
    "# lets first predict role F (ignored the extreme)\n",
    "game_target = [np.roll(i[:, :2], -1, axis=0) for i in single_game]"
   ]
  },
  {
   "cell_type": "code",
   "execution_count": 23,
   "metadata": {},
   "outputs": [
    {
     "data": {
      "text/plain": [
       "(38, 210)"
      ]
     },
     "execution_count": 23,
     "metadata": {},
     "output_type": "execute_result"
    }
   ],
   "source": [
    "single_game[0].shape"
   ]
  },
  {
   "cell_type": "code",
   "execution_count": 24,
   "metadata": {},
   "outputs": [
    {
     "data": {
      "text/plain": [
       "(38, 2)"
      ]
     },
     "execution_count": 24,
     "metadata": {},
     "output_type": "execute_result"
    }
   ],
   "source": [
    "game_target[0].shape"
   ]
  },
  {
   "cell_type": "code",
   "execution_count": 25,
   "metadata": {},
   "outputs": [
    {
     "data": {
      "text/plain": [
       "(38, 210)"
      ]
     },
     "execution_count": 25,
     "metadata": {},
     "output_type": "execute_result"
    }
   ],
   "source": [
    "single_game[1].shape"
   ]
  },
  {
   "cell_type": "code",
   "execution_count": 26,
   "metadata": {
    "collapsed": true
   },
   "outputs": [],
   "source": [
    "# for i in single_game:\n",
    "#     print(i.shape)"
   ]
  },
  {
   "cell_type": "code",
   "execution_count": 36,
   "metadata": {},
   "outputs": [
    {
     "data": {
      "text/plain": [
       "(149, 210)"
      ]
     },
     "execution_count": 36,
     "metadata": {},
     "output_type": "execute_result"
    }
   ],
   "source": [
    "single_game[2].shape"
   ]
  },
  {
   "cell_type": "markdown",
   "metadata": {},
   "source": [
    "#### Create train and test set"
   ]
  },
  {
   "cell_type": "code",
   "execution_count": 28,
   "metadata": {
    "collapsed": true
   },
   "outputs": [],
   "source": [
    "p = 0.9 # train percentage\n",
    "divider = int(len(single_game)*p)\n",
    "train_game, test_game = single_game[:divider], single_game[divider:]\n",
    "train_target, test_target = game_target[:divider], game_target[divider:]"
   ]
  },
  {
   "cell_type": "markdown",
   "metadata": {},
   "source": [
    "#### Build graph and starts training"
   ]
  },
  {
   "cell_type": "code",
   "execution_count": 29,
   "metadata": {
    "scrolled": true
   },
   "outputs": [
    {
     "name": "stdout",
     "output_type": "stream",
     "text": [
      "output shape, last_states (64, ?, 2) (LSTMStateTuple(c=<tf.Tensor 'rnn/while/Exit_4:0' shape=(64, 256) dtype=float32>, h=<tf.Tensor 'rnn/while/Exit_5:0' shape=(64, 256) dtype=float32>), LSTMStateTuple(c=<tf.Tensor 'rnn/while/Exit_6:0' shape=(64, 256) dtype=float32>, h=<tf.Tensor 'rnn/while/Exit_7:0' shape=(64, 256) dtype=float32>))\n",
      "label shape:(64, ?, 2) | output prediction shape: (64, ?, 2)\n",
      "Horizon 2 ==========\n",
      "train_x.shape: (8771, 2, 210)\n",
      "train_y.shape: (8771, 2, 2)\n",
      "valid_x.shape: (1141, 2, 210)\n",
      "valid_y.shape: (1141, 2, 2)\n",
      "Epoch 0    | loss: 160.84   | time took: 0.65s | validation loss: 98.58   \n",
      "Epoch 100  | loss: 34.30    | time took: 0.39s | validation loss: 68.84   \n",
      "Epoch 200  | loss: 33.84    | time took: 0.40s | validation loss: 73.83   \n",
      "Epoch 300  | loss: 24.81    | time took: 0.39s | validation loss: 49.71   \n",
      "Epoch 400  | loss: 20.64    | time took: 0.39s | validation loss: 33.77   \n",
      "Epoch 500  | loss: 16.58    | time took: 0.39s | validation loss: 28.99   \n",
      "Epoch 600  | loss: 14.52    | time took: 0.39s | validation loss: 22.74   \n",
      "Epoch 700  | loss: 26.23    | time took: 0.39s | validation loss: 44.45   \n",
      "Epoch 800  | loss: 18.84    | time took: 0.39s | validation loss: 18.40   \n",
      "Epoch 900  | loss: 17.82    | time took: 0.39s | validation loss: 38.84   \n",
      "Horizon 3 ==========\n",
      "train_x.shape: (5827, 3, 210)\n",
      "train_y.shape: (5827, 3, 2)\n",
      "valid_x.shape: (759, 3, 210)\n",
      "valid_y.shape: (759, 3, 2)\n",
      "Epoch 0    | loss: 18.59    | time took: 0.35s | validation loss: 31.35   \n",
      "Epoch 100  | loss: 14.00    | time took: 0.32s | validation loss: 30.00   \n",
      "Epoch 200  | loss: 16.36    | time took: 0.33s | validation loss: 23.14   \n",
      "Epoch 300  | loss: 18.14    | time took: 0.33s | validation loss: 18.20   \n",
      "Epoch 400  | loss: 13.06    | time took: 0.32s | validation loss: 13.92   \n",
      "Epoch 500  | loss: 16.02    | time took: 0.32s | validation loss: 19.60   \n",
      "Epoch 600  | loss: 14.45    | time took: 0.32s | validation loss: 13.83   \n",
      "Epoch 700  | loss: 12.95    | time took: 0.34s | validation loss: 17.44   \n",
      "Epoch 800  | loss: 12.36    | time took: 0.32s | validation loss: 11.39   \n",
      "Epoch 900  | loss: 13.12    | time took: 0.33s | validation loss: 12.53   \n",
      "Horizon 4 ==========\n",
      "train_x.shape: (4357, 4, 210)\n",
      "train_y.shape: (4357, 4, 2)\n",
      "valid_x.shape: (567, 4, 210)\n",
      "valid_y.shape: (567, 4, 2)\n",
      "Epoch 0    | loss: 18.42    | time took: 0.31s | validation loss: 26.47   \n",
      "Epoch 100  | loss: 11.09    | time took: 0.29s | validation loss: 13.41   \n",
      "Epoch 200  | loss: 12.66    | time took: 0.29s | validation loss: 12.76   \n",
      "Epoch 300  | loss: 10.00    | time took: 0.29s | validation loss: 11.94   \n",
      "Epoch 400  | loss: 11.41    | time took: 0.29s | validation loss: 14.13   \n",
      "Epoch 500  | loss: 10.70    | time took: 0.29s | validation loss: 20.21   \n",
      "Epoch 600  | loss: 11.13    | time took: 0.29s | validation loss: 18.62   \n",
      "Epoch 700  | loss: 10.14    | time took: 0.29s | validation loss: 18.29   \n",
      "Epoch 800  | loss: 9.20     | time took: 0.29s | validation loss: 13.98   \n",
      "Epoch 900  | loss: 9.28     | time took: 0.29s | validation loss: 11.40   \n",
      "Horizon 5 ==========\n",
      "train_x.shape: (3467, 5, 210)\n",
      "train_y.shape: (3467, 5, 2)\n",
      "valid_x.shape: (453, 5, 210)\n",
      "valid_y.shape: (453, 5, 2)\n",
      "Epoch 0    | loss: 8.78     | time took: 0.27s | validation loss: 13.36   \n",
      "Epoch 100  | loss: 12.08    | time took: 0.27s | validation loss: 13.20   \n",
      "Epoch 200  | loss: 8.63     | time took: 0.27s | validation loss: 10.61   \n",
      "Epoch 300  | loss: 8.32     | time took: 0.27s | validation loss: 10.31   \n",
      "Epoch 400  | loss: 9.75     | time took: 0.33s | validation loss: 10.09   \n",
      "Epoch 500  | loss: 8.09     | time took: 0.31s | validation loss: 13.12   \n",
      "Epoch 600  | loss: 9.74     | time took: 0.27s | validation loss: 12.93   \n",
      "Epoch 700  | loss: 10.64    | time took: 0.27s | validation loss: 12.24   \n",
      "Epoch 800  | loss: 8.40     | time took: 0.27s | validation loss: 10.48   \n",
      "Epoch 900  | loss: 8.01     | time took: 0.27s | validation loss: 13.08   \n",
      "Horizon 6 ==========\n",
      "train_x.shape: (2883, 6, 210)\n",
      "train_y.shape: (2883, 6, 2)\n",
      "valid_x.shape: (376, 6, 210)\n",
      "valid_y.shape: (376, 6, 2)\n",
      "Epoch 0    | loss: 8.55     | time took: 0.26s | validation loss: 11.41   \n",
      "Epoch 100  | loss: 8.15     | time took: 0.25s | validation loss: 11.40   \n",
      "Epoch 200  | loss: 7.28     | time took: 0.26s | validation loss: 9.17    \n",
      "Epoch 300  | loss: 7.23     | time took: 0.26s | validation loss: 12.52   \n",
      "Epoch 400  | loss: 8.59     | time took: 0.25s | validation loss: 14.70   \n",
      "Epoch 500  | loss: 8.47     | time took: 0.26s | validation loss: 12.25   \n",
      "Epoch 600  | loss: 8.65     | time took: 0.25s | validation loss: 14.03   \n",
      "Epoch 700  | loss: 11.03    | time took: 0.25s | validation loss: 11.60   \n",
      "Epoch 800  | loss: 8.83     | time took: 0.26s | validation loss: 10.60   \n",
      "Epoch 900  | loss: 6.96     | time took: 0.28s | validation loss: 8.01    \n",
      "Horizon 7 ==========\n",
      "train_x.shape: (2463, 7, 210)\n",
      "train_y.shape: (2463, 7, 2)\n",
      "valid_x.shape: (320, 7, 210)\n",
      "valid_y.shape: (320, 7, 2)\n",
      "Epoch 0    | loss: 15.63    | time took: 0.25s | validation loss: 29.68   \n",
      "Epoch 100  | loss: 7.05     | time took: 0.24s | validation loss: 13.83   \n",
      "Epoch 200  | loss: 6.99     | time took: 0.24s | validation loss: 10.26   \n",
      "Epoch 300  | loss: 7.70     | time took: 0.24s | validation loss: 13.43   \n",
      "Epoch 400  | loss: 8.49     | time took: 0.24s | validation loss: 14.37   \n",
      "Epoch 500  | loss: 9.93     | time took: 0.24s | validation loss: 12.56   \n",
      "Epoch 600  | loss: 6.67     | time took: 0.24s | validation loss: 10.51   \n",
      "Epoch 700  | loss: 6.22     | time took: 0.24s | validation loss: 9.07    \n",
      "Epoch 800  | loss: 8.35     | time took: 0.24s | validation loss: 12.33   \n",
      "Epoch 900  | loss: 7.97     | time took: 0.24s | validation loss: 12.02   \n",
      "Horizon 8 ==========\n",
      "train_x.shape: (2149, 8, 210)\n",
      "train_y.shape: (2149, 8, 2)\n",
      "valid_x.shape: (280, 8, 210)\n",
      "valid_y.shape: (280, 8, 2)\n",
      "Epoch 0    | loss: 6.59     | time took: 0.24s | validation loss: 8.63    \n",
      "Epoch 100  | loss: 7.51     | time took: 0.24s | validation loss: 14.30   \n",
      "Epoch 200  | loss: 5.72     | time took: 0.23s | validation loss: 9.70    \n",
      "Epoch 300  | loss: 7.37     | time took: 0.23s | validation loss: 11.40   \n",
      "Epoch 400  | loss: 5.90     | time took: 0.24s | validation loss: 7.38    \n",
      "Epoch 500  | loss: 6.02     | time took: 0.23s | validation loss: 7.29    \n",
      "Epoch 600  | loss: 6.72     | time took: 0.23s | validation loss: 10.94   \n",
      "Epoch 700  | loss: 6.94     | time took: 0.23s | validation loss: 10.06   \n",
      "Epoch 800  | loss: 7.39     | time took: 0.23s | validation loss: 11.31   \n",
      "Epoch 900  | loss: 9.07     | time took: 0.23s | validation loss: 11.95   \n",
      "Horizon 9 ==========\n",
      "train_x.shape: (1904, 9, 210)\n",
      "train_y.shape: (1904, 9, 2)\n",
      "valid_x.shape: (249, 9, 210)\n",
      "valid_y.shape: (249, 9, 2)\n",
      "Epoch 0    | loss: 7.90     | time took: 0.23s | validation loss: 13.28   \n",
      "Epoch 100  | loss: 6.27     | time took: 0.22s | validation loss: 12.24   \n",
      "Epoch 200  | loss: 7.77     | time took: 0.23s | validation loss: 18.28   \n",
      "Epoch 300  | loss: 6.06     | time took: 0.23s | validation loss: 11.48   \n",
      "Epoch 400  | loss: 5.81     | time took: 0.23s | validation loss: 14.45   \n",
      "Epoch 500  | loss: 7.38     | time took: 0.27s | validation loss: 16.32   \n",
      "Epoch 600  | loss: 6.50     | time took: 0.23s | validation loss: 13.37   \n",
      "Epoch 700  | loss: 6.27     | time took: 0.23s | validation loss: 14.74   \n",
      "Epoch 800  | loss: 6.06     | time took: 0.23s | validation loss: 14.75   \n",
      "Epoch 900  | loss: 7.03     | time took: 0.23s | validation loss: 18.25   \n",
      "Horizon 10 ==========\n",
      "train_x.shape: (1702, 10, 210)\n",
      "train_y.shape: (1702, 10, 2)\n",
      "valid_x.shape: (222, 10, 210)\n",
      "valid_y.shape: (222, 10, 2)\n",
      "Epoch 0    | loss: 6.98     | time took: 0.23s | validation loss: 14.85   \n",
      "Epoch 100  | loss: 6.24     | time took: 0.23s | validation loss: 18.78   \n",
      "Epoch 200  | loss: 10.36    | time took: 0.22s | validation loss: 12.69   \n",
      "Epoch 300  | loss: 5.13     | time took: 0.22s | validation loss: 12.13   \n",
      "Epoch 400  | loss: 6.35     | time took: 0.22s | validation loss: 11.56   \n",
      "Epoch 500  | loss: 8.69     | time took: 0.22s | validation loss: 10.94   \n",
      "Epoch 600  | loss: 4.93     | time took: 0.22s | validation loss: 7.75    \n",
      "Epoch 700  | loss: 6.15     | time took: 0.24s | validation loss: 7.00    \n"
     ]
    },
    {
     "name": "stdout",
     "output_type": "stream",
     "text": [
      "Epoch 800  | loss: 6.43     | time took: 0.22s | validation loss: 7.28    \n",
      "Epoch 900  | loss: 13.18    | time took: 0.22s | validation loss: 14.38   \n",
      "Horizon 11 ==========\n",
      "train_x.shape: (1545, 11, 210)\n",
      "train_y.shape: (1545, 11, 2)\n",
      "valid_x.shape: (202, 11, 210)\n",
      "valid_y.shape: (202, 11, 2)\n",
      "Epoch 0    | loss: 6.10     | time took: 0.22s | validation loss: 7.59    \n",
      "Epoch 100  | loss: 7.60     | time took: 0.22s | validation loss: 9.59    \n",
      "Epoch 200  | loss: 5.76     | time took: 0.22s | validation loss: 9.45    \n",
      "Epoch 300  | loss: 6.22     | time took: 0.22s | validation loss: 18.05   \n",
      "Epoch 400  | loss: 9.73     | time took: 0.22s | validation loss: 13.41   \n",
      "Epoch 500  | loss: 6.87     | time took: 0.22s | validation loss: 8.65    \n",
      "Epoch 600  | loss: 5.11     | time took: 0.22s | validation loss: 12.18   \n",
      "Epoch 700  | loss: 5.30     | time took: 0.22s | validation loss: 7.69    \n",
      "Epoch 800  | loss: 6.89     | time took: 0.22s | validation loss: 10.85   \n",
      "Epoch 900  | loss: 11.51    | time took: 0.22s | validation loss: 17.45   \n",
      "Horizon 12 ==========\n",
      "train_x.shape: (1411, 12, 210)\n",
      "train_y.shape: (1411, 12, 2)\n",
      "valid_x.shape: (184, 12, 210)\n",
      "valid_y.shape: (184, 12, 2)\n",
      "Epoch 0    | loss: 8.42     | time took: 0.22s | validation loss: 13.71   \n",
      "Epoch 100  | loss: 24.98    | time took: 0.22s | validation loss: 21.75   \n",
      "Epoch 200  | loss: 6.64     | time took: 0.22s | validation loss: 7.74    \n",
      "Epoch 300  | loss: 5.90     | time took: 0.22s | validation loss: 6.64    \n",
      "Epoch 400  | loss: 6.55     | time took: 0.22s | validation loss: 8.85    \n",
      "Epoch 500  | loss: 6.61     | time took: 0.22s | validation loss: 7.74    \n",
      "Epoch 600  | loss: 5.85     | time took: 0.22s | validation loss: 7.56    \n",
      "Epoch 700  | loss: 5.51     | time took: 0.22s | validation loss: 6.25    \n",
      "Epoch 800  | loss: 5.18     | time took: 0.22s | validation loss: 6.49    \n",
      "Epoch 900  | loss: 6.74     | time took: 0.22s | validation loss: 6.98    \n",
      "Horizon 13 ==========\n",
      "train_x.shape: (1304, 13, 210)\n",
      "train_y.shape: (1304, 13, 2)\n",
      "valid_x.shape: (171, 13, 210)\n",
      "valid_y.shape: (171, 13, 2)\n",
      "Epoch 0    | loss: 6.51     | time took: 0.26s | validation loss: 6.99    \n",
      "Epoch 100  | loss: 5.90     | time took: 0.21s | validation loss: 6.68    \n",
      "Epoch 200  | loss: 5.89     | time took: 0.21s | validation loss: 8.65    \n",
      "Epoch 300  | loss: 9.05     | time took: 0.21s | validation loss: 11.32   \n",
      "Epoch 400  | loss: 6.76     | time took: 0.21s | validation loss: 9.73    \n",
      "Epoch 500  | loss: 5.81     | time took: 0.21s | validation loss: 10.80   \n",
      "Epoch 600  | loss: 6.22     | time took: 0.22s | validation loss: 7.53    \n",
      "Epoch 700  | loss: 6.89     | time took: 0.21s | validation loss: 11.57   \n",
      "Epoch 800  | loss: 6.00     | time took: 0.21s | validation loss: 7.42    \n",
      "Epoch 900  | loss: 5.25     | time took: 0.22s | validation loss: 6.27    \n",
      "Horizon 14 ==========\n",
      "train_x.shape: (1204, 14, 210)\n",
      "train_y.shape: (1204, 14, 2)\n",
      "valid_x.shape: (158, 14, 210)\n",
      "valid_y.shape: (158, 14, 2)\n",
      "Epoch 0    | loss: 6.02     | time took: 0.21s | validation loss: 6.95    \n",
      "Epoch 100  | loss: 5.29     | time took: 0.20s | validation loss: 7.49    \n",
      "Epoch 200  | loss: 5.21     | time took: 0.20s | validation loss: 7.35    \n",
      "Epoch 300  | loss: 5.58     | time took: 0.21s | validation loss: 7.56    \n",
      "Epoch 400  | loss: 4.99     | time took: 0.21s | validation loss: 7.37    \n",
      "Epoch 500  | loss: 7.07     | time took: 0.21s | validation loss: 9.17    \n",
      "Epoch 600  | loss: 4.72     | time took: 0.21s | validation loss: 6.98    \n",
      "Epoch 700  | loss: 10.50    | time took: 0.20s | validation loss: 11.88   \n",
      "Epoch 800  | loss: 12.81    | time took: 0.20s | validation loss: 10.85   \n",
      "Epoch 900  | loss: 7.72     | time took: 0.21s | validation loss: 12.46   \n",
      "Horizon 15 ==========\n",
      "train_x.shape: (1121, 15, 210)\n",
      "train_y.shape: (1121, 15, 2)\n",
      "valid_x.shape: (147, 15, 210)\n",
      "valid_y.shape: (147, 15, 2)\n",
      "Epoch 0    | loss: 7.38     | time took: 0.21s | validation loss: 7.91    \n",
      "Epoch 100  | loss: 5.72     | time took: 0.21s | validation loss: 7.68    \n",
      "Epoch 200  | loss: 6.01     | time took: 0.21s | validation loss: 7.77    \n",
      "Epoch 300  | loss: 7.26     | time took: 0.21s | validation loss: 8.26    \n",
      "Epoch 400  | loss: 7.22     | time took: 0.21s | validation loss: 8.81    \n",
      "Epoch 500  | loss: 5.16     | time took: 0.21s | validation loss: 6.58    \n",
      "Epoch 600  | loss: 6.35     | time took: 0.20s | validation loss: 7.90    \n",
      "Epoch 700  | loss: 6.27     | time took: 0.21s | validation loss: 8.22    \n",
      "Epoch 800  | loss: 6.20     | time took: 0.21s | validation loss: 8.37    \n",
      "Epoch 900  | loss: 7.77     | time took: 0.21s | validation loss: 10.68   \n",
      "Horizon 16 ==========\n",
      "train_x.shape: (1045, 16, 210)\n",
      "train_y.shape: (1045, 16, 2)\n",
      "valid_x.shape: (137, 16, 210)\n",
      "valid_y.shape: (137, 16, 2)\n",
      "Epoch 0    | loss: 5.76     | time took: 0.21s | validation loss: 7.98    \n",
      "Epoch 100  | loss: 6.26     | time took: 0.21s | validation loss: 8.26    \n",
      "Epoch 200  | loss: 5.17     | time took: 0.21s | validation loss: 10.65   \n",
      "Epoch 300  | loss: 5.80     | time took: 0.22s | validation loss: 9.24    \n",
      "Epoch 400  | loss: 6.95     | time took: 0.21s | validation loss: 10.53   \n",
      "Epoch 500  | loss: 6.93     | time took: 0.20s | validation loss: 10.99   \n",
      "Epoch 600  | loss: 6.22     | time took: 0.21s | validation loss: 10.59   \n",
      "Epoch 700  | loss: 5.36     | time took: 0.21s | validation loss: 9.26    \n",
      "Epoch 800  | loss: 5.39     | time took: 0.20s | validation loss: 6.89    \n",
      "Epoch 900  | loss: 7.29     | time took: 0.21s | validation loss: 10.53   \n",
      "Horizon 17 ==========\n",
      "train_x.shape: (978, 17, 210)\n",
      "train_y.shape: (978, 17, 2)\n",
      "valid_x.shape: (129, 17, 210)\n",
      "valid_y.shape: (129, 17, 2)\n",
      "Epoch 0    | loss: 5.93     | time took: 0.20s | validation loss: 8.97    \n",
      "Epoch 100  | loss: 6.39     | time took: 0.20s | validation loss: 9.46    \n",
      "Epoch 200  | loss: 6.77     | time took: 0.20s | validation loss: 9.88    \n",
      "Epoch 300  | loss: 6.50     | time took: 0.20s | validation loss: 12.38   \n",
      "Epoch 400  | loss: 5.40     | time took: 0.20s | validation loss: 8.81    \n",
      "Epoch 500  | loss: 6.61     | time took: 0.20s | validation loss: 11.93   \n",
      "Epoch 600  | loss: 6.71     | time took: 0.20s | validation loss: 9.07    \n",
      "Epoch 700  | loss: 5.15     | time took: 0.20s | validation loss: 7.07    \n",
      "Epoch 800  | loss: 5.30     | time took: 0.20s | validation loss: 9.54    \n",
      "Epoch 900  | loss: 8.55     | time took: 0.20s | validation loss: 12.47   \n",
      "Horizon 18 ==========\n",
      "train_x.shape: (921, 18, 210)\n",
      "train_y.shape: (921, 18, 2)\n",
      "valid_x.shape: (121, 18, 210)\n",
      "valid_y.shape: (121, 18, 2)\n",
      "Epoch 0    | loss: 5.54     | time took: 0.20s | validation loss: 9.83    \n",
      "Epoch 100  | loss: 5.50     | time took: 0.20s | validation loss: 8.36    \n",
      "Epoch 200  | loss: 5.24     | time took: 0.20s | validation loss: 8.20    \n",
      "Epoch 300  | loss: 6.37     | time took: 0.20s | validation loss: 9.63    \n",
      "Epoch 400  | loss: 5.00     | time took: 0.20s | validation loss: 8.80    \n",
      "Epoch 500  | loss: 6.01     | time took: 0.20s | validation loss: 10.04   \n",
      "Epoch 600  | loss: 5.19     | time took: 0.20s | validation loss: 9.35    \n",
      "Epoch 700  | loss: 7.87     | time took: 0.20s | validation loss: 14.29   \n",
      "Epoch 800  | loss: 4.42     | time took: 0.20s | validation loss: 9.44    \n",
      "Epoch 900  | loss: 5.80     | time took: 0.20s | validation loss: 10.07   \n",
      "Horizon 19 ==========\n",
      "train_x.shape: (872, 19, 210)\n",
      "train_y.shape: (872, 19, 2)\n",
      "valid_x.shape: (114, 19, 210)\n",
      "valid_y.shape: (114, 19, 2)\n",
      "Epoch 0    | loss: 4.90     | time took: 0.20s | validation loss: 10.76   \n",
      "Epoch 100  | loss: 4.76     | time took: 0.20s | validation loss: 10.89   \n",
      "Epoch 200  | loss: 7.44     | time took: 0.20s | validation loss: 11.76   \n",
      "Epoch 300  | loss: 5.14     | time took: 0.20s | validation loss: 10.28   \n",
      "Epoch 400  | loss: 4.61     | time took: 0.20s | validation loss: 9.40    \n",
      "Epoch 500  | loss: 4.49     | time took: 0.19s | validation loss: 9.96    \n",
      "Epoch 600  | loss: 4.93     | time took: 0.20s | validation loss: 9.43    \n",
      "Epoch 700  | loss: 6.71     | time took: 0.20s | validation loss: 13.24   \n",
      "Epoch 800  | loss: 4.58     | time took: 0.20s | validation loss: 10.83   \n",
      "Epoch 900  | loss: 6.29     | time took: 0.20s | validation loss: 13.99   \n",
      "Horizon 20 ==========\n",
      "train_x.shape: (820, 20, 210)\n",
      "train_y.shape: (820, 20, 2)\n",
      "valid_x.shape: (107, 20, 210)\n",
      "valid_y.shape: (107, 20, 2)\n"
     ]
    },
    {
     "name": "stdout",
     "output_type": "stream",
     "text": [
      "Epoch 0    | loss: 5.96     | time took: 0.19s | validation loss: 10.12   \n",
      "Epoch 100  | loss: 4.66     | time took: 0.19s | validation loss: 11.32   \n",
      "Epoch 200  | loss: 4.29     | time took: 0.19s | validation loss: 9.73    \n",
      "Epoch 300  | loss: 4.32     | time took: 0.19s | validation loss: 9.79    \n",
      "Epoch 400  | loss: 4.36     | time took: 0.19s | validation loss: 12.26   \n",
      "Epoch 500  | loss: 7.06     | time took: 0.19s | validation loss: 12.60   \n",
      "Epoch 600  | loss: 5.14     | time took: 0.19s | validation loss: 9.52    \n",
      "Epoch 700  | loss: 4.93     | time took: 0.19s | validation loss: 9.20    \n",
      "Epoch 800  | loss: 4.77     | time took: 0.19s | validation loss: 10.02   \n",
      "Epoch 900  | loss: 4.35     | time took: 0.19s | validation loss: 9.66    \n",
      "Horizon 21 ==========\n",
      "train_x.shape: (787, 21, 210)\n",
      "train_y.shape: (787, 21, 2)\n",
      "valid_x.shape: (104, 21, 210)\n",
      "valid_y.shape: (104, 21, 2)\n",
      "Epoch 0    | loss: 4.80     | time took: 0.20s | validation loss: 11.54   \n",
      "Epoch 100  | loss: 5.44     | time took: 0.21s | validation loss: 14.61   \n",
      "Epoch 200  | loss: 11.71    | time took: 0.20s | validation loss: 32.45   \n",
      "Epoch 300  | loss: 9.30     | time took: 0.20s | validation loss: 22.65   \n",
      "Epoch 400  | loss: 5.56     | time took: 0.20s | validation loss: 12.14   \n",
      "Epoch 500  | loss: 5.19     | time took: 0.20s | validation loss: 14.54   \n",
      "Epoch 600  | loss: 5.51     | time took: 0.20s | validation loss: 11.38   \n",
      "Epoch 700  | loss: 5.04     | time took: 0.20s | validation loss: 10.62   \n",
      "Epoch 800  | loss: 4.59     | time took: 0.20s | validation loss: 11.69   \n",
      "Epoch 900  | loss: 5.57     | time took: 0.20s | validation loss: 13.74   \n",
      "Horizon 22 ==========\n",
      "train_x.shape: (743, 22, 210)\n",
      "train_y.shape: (743, 22, 2)\n",
      "valid_x.shape: (98, 22, 210)\n",
      "valid_y.shape: (98, 22, 2)\n",
      "Epoch 0    | loss: 5.40     | time took: 0.19s | validation loss: 13.59   \n",
      "Epoch 100  | loss: 4.52     | time took: 0.19s | validation loss: 11.99   \n",
      "Epoch 200  | loss: 6.19     | time took: 0.19s | validation loss: 13.36   \n",
      "Epoch 300  | loss: 4.49     | time took: 0.19s | validation loss: 15.38   \n",
      "Epoch 400  | loss: 4.31     | time took: 0.19s | validation loss: 17.04   \n",
      "Epoch 500  | loss: 5.34     | time took: 0.19s | validation loss: 25.98   \n",
      "Epoch 600  | loss: 5.32     | time took: 0.19s | validation loss: 29.29   \n",
      "Epoch 700  | loss: 4.97     | time took: 0.19s | validation loss: 26.39   \n",
      "Epoch 800  | loss: 4.59     | time took: 0.19s | validation loss: 26.79   \n",
      "Epoch 900  | loss: 4.56     | time took: 0.19s | validation loss: 18.34   \n",
      "Horizon 23 ==========\n",
      "train_x.shape: (712, 23, 210)\n",
      "train_y.shape: (712, 23, 2)\n",
      "valid_x.shape: (94, 23, 210)\n",
      "valid_y.shape: (94, 23, 2)\n",
      "Epoch 0    | loss: 5.79     | time took: 0.20s | validation loss: 20.80   \n",
      "Epoch 100  | loss: 5.25     | time took: 0.20s | validation loss: 18.78   \n",
      "Epoch 200  | loss: 5.31     | time took: 0.20s | validation loss: 16.74   \n",
      "Epoch 300  | loss: 4.96     | time took: 0.19s | validation loss: 14.10   \n",
      "Epoch 400  | loss: 10.50    | time took: 0.20s | validation loss: 15.31   \n",
      "Epoch 500  | loss: 5.11     | time took: 0.20s | validation loss: 14.64   \n",
      "Epoch 600  | loss: 4.82     | time took: 0.20s | validation loss: 13.05   \n",
      "Epoch 700  | loss: 5.61     | time took: 0.20s | validation loss: 14.15   \n",
      "Epoch 800  | loss: 4.67     | time took: 0.20s | validation loss: 10.97   \n",
      "Epoch 900  | loss: 5.02     | time took: 0.20s | validation loss: 14.42   \n",
      "Horizon 24 ==========\n",
      "train_x.shape: (681, 24, 210)\n",
      "train_y.shape: (681, 24, 2)\n",
      "valid_x.shape: (87, 24, 210)\n",
      "valid_y.shape: (87, 24, 2)\n",
      "Epoch 0    | loss: 6.40     | time took: 0.19s | validation loss: 12.90   \n",
      "Epoch 100  | loss: 4.72     | time took: 0.19s | validation loss: 17.23   \n",
      "Epoch 200  | loss: 4.92     | time took: 0.18s | validation loss: 18.89   \n",
      "Epoch 300  | loss: 5.28     | time took: 0.19s | validation loss: 16.15   \n",
      "Epoch 400  | loss: 5.63     | time took: 0.18s | validation loss: 19.31   \n",
      "Epoch 500  | loss: 4.41     | time took: 0.19s | validation loss: 17.50   \n",
      "Epoch 600  | loss: 6.50     | time took: 0.19s | validation loss: 19.28   \n",
      "Epoch 700  | loss: 4.69     | time took: 0.19s | validation loss: 21.99   \n",
      "Epoch 800  | loss: 5.25     | time took: 0.19s | validation loss: 17.56   \n",
      "Epoch 900  | loss: 4.42     | time took: 0.19s | validation loss: 14.93   \n",
      "Total time took: 1.48hrs\n"
     ]
    }
   ],
   "source": [
    "tf.reset_default_graph()\n",
    "# use training start time as the unique naming\n",
    "train_time = datetime.now().strftime('%Y_%m_%d_%H_%M_%S')\n",
    "logs_path = './train_logs/'\n",
    "\n",
    "# hyper-parameters\n",
    "num_layers = 2\n",
    "state_size = 256\n",
    "batch_size = 64\n",
    "dimx = 210\n",
    "dimy = 2\n",
    "n_epochs = 1000\n",
    "learning_rate = 0.001\n",
    "\n",
    "# lstm cells\n",
    "lstm1 = tf.contrib.rnn.BasicLSTMCell(state_size, forget_bias=1.)\n",
    "# lstm1 = tf.nn.rnn_cell.DropoutWrapper(lstm1, output_keep_prob=0.8)\n",
    "\n",
    "lstm2 = tf.contrib.rnn.BasicLSTMCell(state_size, forget_bias=1.)\n",
    "# lstm2 = tf.nn.rnn_cell.DropoutWrapper(lstm2, output_keep_prob=0.8)\n",
    "\n",
    "lstm_cell = tf.contrib.rnn.MultiRNNCell([lstm1, lstm2])\n",
    "\n",
    "# initial state\n",
    "initial_state = lstm_cell.zero_state(batch_size, dtype=tf.float32)\n",
    "\n",
    "# input placeholders\n",
    "h = tf.placeholder(tf.int32)\n",
    "X = tf.placeholder(tf.float32, [batch_size, None, dimx], name = 'train_input')\n",
    "Y = tf.placeholder(tf.float32, [batch_size, None, dimy], name = 'train_label')\n",
    "# rnn structure\n",
    "output, last_states = rnn_horizon(cell=lstm_cell, \n",
    "                                  initial_state=initial_state, \n",
    "                                  input_=X,\n",
    "                                  batch_size=batch_size,\n",
    "                                  seq_lengths=h,\n",
    "                                  output_dim=dimy)\n",
    "# output as the prediction\n",
    "print('output shape, last_states', output.shape, last_states)\n",
    "pred = output\n",
    "print('label shape:{0:} | output prediction shape: {1:}'.format(Y.shape, pred.shape))\n",
    "\n",
    "# tensorboard's graph visualization more convenient\n",
    "\n",
    "\n",
    "# cost = tf.reduce_sum(tf.pow(pred - y, 2)) + regularization_cost\n",
    "# optimizer = tf.train.AdamOptimizer().minimize(cost)\n",
    "\n",
    "\n",
    "with tf.name_scope('MSEloss'):\n",
    "    # loss (also add regularization on params)\n",
    "    tv = tf.trainable_variables()\n",
    "    # l2 weight loss\n",
    "#     regularization_cost = tf.reduce_sum([tf.nn.l2_loss(v) for v in tv])\n",
    "    # l1 loss\n",
    "    l1_regularizer = tf.contrib.layers.l1_regularizer(scale=0.005, scope=None)\n",
    "    regularization_cost = tf.contrib.layers.apply_regularization(l1_regularizer, tv)\n",
    "\n",
    "    loss = tf.losses.mean_squared_error(Y, pred) + regularization_cost\n",
    "    # no weight loss\n",
    "#     loss = tf.losses.mean_squared_error(Y, pred)\n",
    "with tf.name_scope('Adam'):\n",
    "    # optimzier\n",
    "    opt = tf.train.AdamOptimizer(learning_rate).minimize(loss)\n",
    "    \n",
    "# initialize variables\n",
    "init = tf.global_variables_initializer()\n",
    "# create a summary to monitor cost tensor\n",
    "train_summary = tf.summary.scalar(\"TrainMSEloss\", loss)\n",
    "valid_summary = tf.summary.scalar(\"ValidMSEloss\", loss)\n",
    "# # Merge all summaries into a single op\n",
    "# merged_summary_op = tf.summary.merge_all()\n",
    "\n",
    "\n",
    "# session\n",
    "sess = tf.Session(config=tf.ConfigProto(log_device_placement=True))\n",
    "# initializing the variables\n",
    "sess.run(init)\n",
    "# op to write logs to Tensorboard\n",
    "train_writer = tf.summary.FileWriter(logs_path+'/train'+train_time, graph=tf.get_default_graph())\n",
    "valid_writer = tf.summary.FileWriter(logs_path+'/valid'+train_time, graph=tf.get_default_graph())\n",
    "\n",
    "# ===============================================================================================\n",
    "\n",
    "# start training\n",
    "printn = int(1e2)\n",
    "# horizon = [2, 4, 8, 12, 16, 20, 25]\n",
    "horizon = range(2, 25)\n",
    "t_int = time.time()\n",
    "train_step = 0\n",
    "valid_step = 0\n",
    "for k in horizon:\n",
    "    # look-ahead horizon\n",
    "#     seq_len = k + 1\n",
    "    seq_len = k\n",
    "    print('Horizon {0:} {1:}'.format(seq_len, '='*10))\n",
    "\n",
    "    # train x\n",
    "    train_x = copy.deepcopy([get_sequences(i, seq_len, dimx) for i in train_game])\n",
    "    train_x = copy.deepcopy(np.concatenate(train_x, axis=0))\n",
    "    print('train_x.shape:', train_x.shape)\n",
    "    # train y\n",
    "    train_y = copy.deepcopy([get_sequences(i, seq_len, dimy) for i in train_target])\n",
    "    train_y = copy.deepcopy(np.concatenate(train_y, axis=0))\n",
    "    print('train_y.shape:', train_y.shape)\n",
    "    \n",
    "    # valid x\n",
    "    val_x = copy.deepcopy([get_sequences(i, seq_len, dimx) for i in test_game])\n",
    "    val_x = copy.deepcopy(np.concatenate(val_x, axis=0))\n",
    "    print('valid_x.shape:', val_x.shape)\n",
    "    # valid y\n",
    "    val_y = copy.deepcopy([get_sequences(i, seq_len, dimy) for i in test_target])\n",
    "    val_y = copy.deepcopy(np.concatenate(val_y, axis=0))\n",
    "    print('valid_y.shape:', val_y.shape)\n",
    "    \n",
    "    for epoch in range(n_epochs):\n",
    "        epoch_loss =0.\n",
    "        # number of train batches\n",
    "        n_train_batch = train_x.shape[0]//batch_size\n",
    "        t1 = time.time()\n",
    "        for batch in iterate_minibatches(train_x, train_y, batch_size, shuffle=False):\n",
    "            train_xi, train_yi = batch\n",
    "            p, l, _, train_sum = sess.run([output, loss, opt, train_summary], \n",
    "                                        feed_dict={X: train_xi, Y: train_yi, h:seq_len})\n",
    "            train_writer.add_summary(train_sum, train_step)\n",
    "            epoch_loss += l/n_train_batch\n",
    "            train_step += 1\n",
    "        # print out info\n",
    "        if epoch%printn ==0:\n",
    "            # number of validation batches\n",
    "            n_val_batch = val_x.shape[0]//batch_size\n",
    "            t2 = time.time()\n",
    "            valid_loss = 0\n",
    "            for batch in iterate_minibatches(val_x, val_y, batch_size, shuffle=False):\n",
    "                val_xi, val_yi = batch\n",
    "                val_l, valid_sum = sess.run([loss, train_summary], \n",
    "                                            feed_dict={X: val_xi, Y: val_yi, h:seq_len})\n",
    "                valid_writer.add_summary(valid_sum, valid_step)\n",
    "                valid_loss += val_l/n_val_batch\n",
    "                valid_step += printn\n",
    "            print('Epoch {0:<4d} | loss: {1:<8.2f} | time took: {2:<.2f}s '\n",
    "                  '| validation loss: {3:<8.2f}'.format(epoch, epoch_loss, (t2-t1), valid_loss))\n",
    "                \n",
    "\n",
    "t_end = time.time()\n",
    "print('Total time took: {0:<.2f}hrs'.format((time.time()-t_int)/60/60))\n",
    "# sess.close()\n",
    "# # save model\n",
    "# #Create a saver object which will save all the variables\n",
    "# saver = tf.train.Saver()\n",
    "# #save the graph\n",
    "# saver.save(sess, save_path='./models/test_model')"
   ]
  },
  {
   "cell_type": "markdown",
   "metadata": {
    "collapsed": true
   },
   "source": [
    "### Check model on train set"
   ]
  },
  {
   "cell_type": "code",
   "execution_count": 30,
   "metadata": {},
   "outputs": [
    {
     "name": "stdout",
     "output_type": "stream",
     "text": [
      "check_id: 38\n"
     ]
    },
    {
     "data": {
      "image/png": "[encoded data removed]",
      "text/plain": [
       "<Figure size 1080x576 with 1 Axes>"
      ]
     },
     "metadata": {},
     "output_type": "display_data"
    }
   ],
   "source": [
    "check_seq_len = 3\n",
    "\n",
    "# use while loop to make sure the \n",
    "present = 0\n",
    "while present == 0:\n",
    "    check_ind = np.random.randint(0, len(train_game)-1)\n",
    "    # check_ind = 0\n",
    "#     print('check_id:', check_ind)\n",
    "    input_x = copy.deepcopy(get_sequences(train_game[check_ind], check_seq_len, dimx))\n",
    "#     print('input x shape >>>', input_x.shape)\n",
    "    output_y = copy.deepcopy(get_sequences(train_target[check_ind], check_seq_len, dimy))\n",
    "    if input_x.shape[0] >= batch_size:\n",
    "        print('check_id:', check_ind)\n",
    "        present += 1\n",
    "\n",
    "pred = []\n",
    "y_train = []\n",
    "order_x = []\n",
    "for batch in iterate_minibatches(input_x, output_y, batch_size, shuffle=False):\n",
    "    input_xi, output_yi = batch\n",
    "    p = sess.run([output], feed_dict={X: input_xi, h:check_seq_len})#, Y: train_yi, h:2})\n",
    "    pred.append(p)\n",
    "    order_x.append(input_xi)\n",
    "    y_train.append(output_yi)\n",
    "pred_train = np.array(pred).reshape(-1,2)\n",
    "y_train = np.array(y_train).reshape(-1,2)\n",
    "plt.figure(figsize=(15,8))\n",
    "plt.plot(y_train[:,0], y_train[:,1], pred_train[:, 0], pred_train[:, 1])\n",
    "plt.grid(True)"
   ]
  },
  {
   "cell_type": "markdown",
   "metadata": {},
   "source": [
    "#### Check model on test set"
   ]
  },
  {
   "cell_type": "code",
   "execution_count": 35,
   "metadata": {},
   "outputs": [
    {
     "ename": "KeyboardInterrupt",
     "evalue": "",
     "output_type": "error",
     "traceback": [
      "\u001b[0;31m---------------------------------------------------------------------------\u001b[0m",
      "\u001b[0;31mKeyboardInterrupt\u001b[0m                         Traceback (most recent call last)",
      "\u001b[0;32m<ipython-input-35-40eff588954e>\u001b[0m in \u001b[0;36m<module>\u001b[0;34m()\u001b[0m\n\u001b[1;32m      7\u001b[0m     \u001b[0;31m# check_ind = 0\u001b[0m\u001b[0;34m\u001b[0m\u001b[0;34m\u001b[0m\u001b[0m\n\u001b[1;32m      8\u001b[0m \u001b[0;31m#     print('check_id:', check_ind)\u001b[0m\u001b[0;34m\u001b[0m\u001b[0;34m\u001b[0m\u001b[0m\n\u001b[0;32m----> 9\u001b[0;31m     \u001b[0minput_x\u001b[0m \u001b[0;34m=\u001b[0m \u001b[0mcopy\u001b[0m\u001b[0;34m.\u001b[0m\u001b[0mdeepcopy\u001b[0m\u001b[0;34m(\u001b[0m\u001b[0mget_sequences\u001b[0m\u001b[0;34m(\u001b[0m\u001b[0mtest_game\u001b[0m\u001b[0;34m[\u001b[0m\u001b[0mcheck_ind\u001b[0m\u001b[0;34m]\u001b[0m\u001b[0;34m,\u001b[0m \u001b[0mcheck_seq_len\u001b[0m\u001b[0;34m,\u001b[0m \u001b[0mdimx\u001b[0m\u001b[0;34m)\u001b[0m\u001b[0;34m)\u001b[0m\u001b[0;34m\u001b[0m\u001b[0m\n\u001b[0m\u001b[1;32m     10\u001b[0m \u001b[0;31m#     print('input x shape >>>', input_x.shape)\u001b[0m\u001b[0;34m\u001b[0m\u001b[0;34m\u001b[0m\u001b[0m\n\u001b[1;32m     11\u001b[0m     \u001b[0moutput_y\u001b[0m \u001b[0;34m=\u001b[0m \u001b[0mcopy\u001b[0m\u001b[0;34m.\u001b[0m\u001b[0mdeepcopy\u001b[0m\u001b[0;34m(\u001b[0m\u001b[0mget_sequences\u001b[0m\u001b[0;34m(\u001b[0m\u001b[0mtest_target\u001b[0m\u001b[0;34m[\u001b[0m\u001b[0mcheck_ind\u001b[0m\u001b[0;34m]\u001b[0m\u001b[0;34m,\u001b[0m \u001b[0mcheck_seq_len\u001b[0m\u001b[0;34m,\u001b[0m \u001b[0mdimy\u001b[0m\u001b[0;34m)\u001b[0m\u001b[0;34m)\u001b[0m\u001b[0;34m\u001b[0m\u001b[0m\n",
      "\u001b[0;32m/home/sam/anaconda3/lib/python3.6/copy.py\u001b[0m in \u001b[0;36mdeepcopy\u001b[0;34m(x, memo, _nil)\u001b[0m\n\u001b[1;32m    159\u001b[0m             \u001b[0mcopier\u001b[0m \u001b[0;34m=\u001b[0m \u001b[0mgetattr\u001b[0m\u001b[0;34m(\u001b[0m\u001b[0mx\u001b[0m\u001b[0;34m,\u001b[0m \u001b[0;34m\"__deepcopy__\"\u001b[0m\u001b[0;34m,\u001b[0m \u001b[0;32mNone\u001b[0m\u001b[0;34m)\u001b[0m\u001b[0;34m\u001b[0m\u001b[0m\n\u001b[1;32m    160\u001b[0m             \u001b[0;32mif\u001b[0m \u001b[0mcopier\u001b[0m\u001b[0;34m:\u001b[0m\u001b[0;34m\u001b[0m\u001b[0m\n\u001b[0;32m--> 161\u001b[0;31m                 \u001b[0my\u001b[0m \u001b[0;34m=\u001b[0m \u001b[0mcopier\u001b[0m\u001b[0;34m(\u001b[0m\u001b[0mmemo\u001b[0m\u001b[0;34m)\u001b[0m\u001b[0;34m\u001b[0m\u001b[0m\n\u001b[0m\u001b[1;32m    162\u001b[0m             \u001b[0;32melse\u001b[0m\u001b[0;34m:\u001b[0m\u001b[0;34m\u001b[0m\u001b[0m\n\u001b[1;32m    163\u001b[0m                 \u001b[0mreductor\u001b[0m \u001b[0;34m=\u001b[0m \u001b[0mdispatch_table\u001b[0m\u001b[0;34m.\u001b[0m\u001b[0mget\u001b[0m\u001b[0;34m(\u001b[0m\u001b[0mcls\u001b[0m\u001b[0;34m)\u001b[0m\u001b[0;34m\u001b[0m\u001b[0m\n",
      "\u001b[0;31mKeyboardInterrupt\u001b[0m: "
     ]
    }
   ],
   "source": [
    "check_seq_len = 24\n",
    "\n",
    "# use while loop to make sure the \n",
    "present = 0\n",
    "while present == 0:\n",
    "    check_ind = np.random.randint(0, len(test_game)-1)\n",
    "    # check_ind = 0\n",
    "#     print('check_id:', check_ind)\n",
    "    input_x = copy.deepcopy(get_sequences(test_game[check_ind], check_seq_len, dimx))\n",
    "#     print('input x shape >>>', input_x.shape)\n",
    "    output_y = copy.deepcopy(get_sequences(test_target[check_ind], check_seq_len, dimy))\n",
    "    if input_x.shape[0] >= batch_size:\n",
    "        print('check_id:', check_ind)\n",
    "        present += 1\n",
    "\n",
    "pred = []\n",
    "y_train = []\n",
    "order_x = []\n",
    "print(input_x.shape, output_y.shape)\n",
    "for batch in iterate_minibatches(input_x, output_y, batch_size, shuffle=False):\n",
    "    input_xi, output_yi = batch\n",
    "    p = sess.run([output], feed_dict={X: input_xi, h:check_seq_len})#, Y: train_yi, h:2})\n",
    "    pred.append(p)\n",
    "    order_x.append(input_xi)\n",
    "    y_train.append(output_yi)\n",
    "pred_train = np.array(pred).reshape(-1,2)\n",
    "y_train = np.array(y_train).reshape(-1,2)\n",
    "plt.figure(figsize=(15,8))\n",
    "plt.plot(y_train[:,0], y_train[:,1], pred_train[:, 0], pred_train[:, 1])\n",
    "plt.grid(True)"
   ]
  },
  {
   "cell_type": "markdown",
   "metadata": {},
   "source": [
    "#### Create video based off predictions"
   ]
  },
  {
   "cell_type": "code",
   "execution_count": 32,
   "metadata": {},
   "outputs": [
    {
     "ename": "IndexError",
     "evalue": "list index out of range",
     "output_type": "error",
     "traceback": [
      "\u001b[0;31m---------------------------------------------------------------------------\u001b[0m",
      "\u001b[0;31mIndexError\u001b[0m                                Traceback (most recent call last)",
      "\u001b[0;32m<ipython-input-32-f876186f516b>\u001b[0m in \u001b[0;36m<module>\u001b[0;34m()\u001b[0m\n\u001b[1;32m      7\u001b[0m \u001b[0;31m#         print(x[i][5][2][2:4], pred_train[i])\u001b[0m\u001b[0;34m\u001b[0m\u001b[0;34m\u001b[0m\u001b[0m\n\u001b[1;32m      8\u001b[0m         \u001b[0mx\u001b[0m\u001b[0;34m[\u001b[0m\u001b[0mi\u001b[0m\u001b[0;34m]\u001b[0m\u001b[0;34m[\u001b[0m\u001b[0;36m5\u001b[0m\u001b[0;34m]\u001b[0m\u001b[0;34m[\u001b[0m\u001b[0;36m2\u001b[0m\u001b[0;34m]\u001b[0m\u001b[0;34m[\u001b[0m\u001b[0;36m2\u001b[0m\u001b[0;34m:\u001b[0m\u001b[0;36m4\u001b[0m\u001b[0;34m]\u001b[0m\u001b[0;34m=\u001b[0m\u001b[0mpred_train\u001b[0m\u001b[0;34m[\u001b[0m\u001b[0mi\u001b[0m\u001b[0;34m]\u001b[0m\u001b[0;34m\u001b[0m\u001b[0m\n\u001b[0;32m----> 9\u001b[0;31m \u001b[0mevents_pred\u001b[0m \u001b[0;34m=\u001b[0m \u001b[0mevents_pred\u001b[0m\u001b[0;34m.\u001b[0m\u001b[0mmoments\u001b[0m\u001b[0;34m.\u001b[0m\u001b[0mapply\u001b[0m\u001b[0;34m(\u001b[0m\u001b[0;32mlambda\u001b[0m \u001b[0mx\u001b[0m\u001b[0;34m:\u001b[0m \u001b[0mreplace_pos\u001b[0m\u001b[0;34m(\u001b[0m\u001b[0mx\u001b[0m\u001b[0;34m)\u001b[0m\u001b[0;34m)\u001b[0m\u001b[0;34m\u001b[0m\u001b[0m\n\u001b[0m",
      "\u001b[0;32m/home/sam/anaconda3/lib/python3.6/site-packages/pandas/core/series.py\u001b[0m in \u001b[0;36mapply\u001b[0;34m(self, func, convert_dtype, args, **kwds)\u001b[0m\n\u001b[1;32m   2353\u001b[0m             \u001b[0;32melse\u001b[0m\u001b[0;34m:\u001b[0m\u001b[0;34m\u001b[0m\u001b[0m\n\u001b[1;32m   2354\u001b[0m                 \u001b[0mvalues\u001b[0m \u001b[0;34m=\u001b[0m \u001b[0mself\u001b[0m\u001b[0;34m.\u001b[0m\u001b[0masobject\u001b[0m\u001b[0;34m\u001b[0m\u001b[0m\n\u001b[0;32m-> 2355\u001b[0;31m                 \u001b[0mmapped\u001b[0m \u001b[0;34m=\u001b[0m \u001b[0mlib\u001b[0m\u001b[0;34m.\u001b[0m\u001b[0mmap_infer\u001b[0m\u001b[0;34m(\u001b[0m\u001b[0mvalues\u001b[0m\u001b[0;34m,\u001b[0m \u001b[0mf\u001b[0m\u001b[0;34m,\u001b[0m \u001b[0mconvert\u001b[0m\u001b[0;34m=\u001b[0m\u001b[0mconvert_dtype\u001b[0m\u001b[0;34m)\u001b[0m\u001b[0;34m\u001b[0m\u001b[0m\n\u001b[0m\u001b[1;32m   2356\u001b[0m \u001b[0;34m\u001b[0m\u001b[0m\n\u001b[1;32m   2357\u001b[0m         \u001b[0;32mif\u001b[0m \u001b[0mlen\u001b[0m\u001b[0;34m(\u001b[0m\u001b[0mmapped\u001b[0m\u001b[0;34m)\u001b[0m \u001b[0;32mand\u001b[0m \u001b[0misinstance\u001b[0m\u001b[0;34m(\u001b[0m\u001b[0mmapped\u001b[0m\u001b[0;34m[\u001b[0m\u001b[0;36m0\u001b[0m\u001b[0;34m]\u001b[0m\u001b[0;34m,\u001b[0m \u001b[0mSeries\u001b[0m\u001b[0;34m)\u001b[0m\u001b[0;34m:\u001b[0m\u001b[0;34m\u001b[0m\u001b[0m\n",
      "\u001b[0;32mpandas/_libs/src/inference.pyx\u001b[0m in \u001b[0;36mpandas._libs.lib.map_infer (pandas/_libs/lib.c:66440)\u001b[0;34m()\u001b[0m\n",
      "\u001b[0;32m<ipython-input-32-f876186f516b>\u001b[0m in \u001b[0;36m<lambda>\u001b[0;34m(x)\u001b[0m\n\u001b[1;32m      7\u001b[0m \u001b[0;31m#         print(x[i][5][2][2:4], pred_train[i])\u001b[0m\u001b[0;34m\u001b[0m\u001b[0;34m\u001b[0m\u001b[0m\n\u001b[1;32m      8\u001b[0m         \u001b[0mx\u001b[0m\u001b[0;34m[\u001b[0m\u001b[0mi\u001b[0m\u001b[0;34m]\u001b[0m\u001b[0;34m[\u001b[0m\u001b[0;36m5\u001b[0m\u001b[0;34m]\u001b[0m\u001b[0;34m[\u001b[0m\u001b[0;36m2\u001b[0m\u001b[0;34m]\u001b[0m\u001b[0;34m[\u001b[0m\u001b[0;36m2\u001b[0m\u001b[0;34m:\u001b[0m\u001b[0;36m4\u001b[0m\u001b[0;34m]\u001b[0m\u001b[0;34m=\u001b[0m\u001b[0mpred_train\u001b[0m\u001b[0;34m[\u001b[0m\u001b[0mi\u001b[0m\u001b[0;34m]\u001b[0m\u001b[0;34m\u001b[0m\u001b[0m\n\u001b[0;32m----> 9\u001b[0;31m \u001b[0mevents_pred\u001b[0m \u001b[0;34m=\u001b[0m \u001b[0mevents_pred\u001b[0m\u001b[0;34m.\u001b[0m\u001b[0mmoments\u001b[0m\u001b[0;34m.\u001b[0m\u001b[0mapply\u001b[0m\u001b[0;34m(\u001b[0m\u001b[0;32mlambda\u001b[0m \u001b[0mx\u001b[0m\u001b[0;34m:\u001b[0m \u001b[0mreplace_pos\u001b[0m\u001b[0;34m(\u001b[0m\u001b[0mx\u001b[0m\u001b[0;34m)\u001b[0m\u001b[0;34m)\u001b[0m\u001b[0;34m\u001b[0m\u001b[0m\n\u001b[0m",
      "\u001b[0;32m<ipython-input-32-f876186f516b>\u001b[0m in \u001b[0;36mreplace_pos\u001b[0;34m(x)\u001b[0m\n\u001b[1;32m      6\u001b[0m \u001b[0;31m#         print(x[i][5])\u001b[0m\u001b[0;34m\u001b[0m\u001b[0;34m\u001b[0m\u001b[0m\n\u001b[1;32m      7\u001b[0m \u001b[0;31m#         print(x[i][5][2][2:4], pred_train[i])\u001b[0m\u001b[0;34m\u001b[0m\u001b[0;34m\u001b[0m\u001b[0m\n\u001b[0;32m----> 8\u001b[0;31m         \u001b[0mx\u001b[0m\u001b[0;34m[\u001b[0m\u001b[0mi\u001b[0m\u001b[0;34m]\u001b[0m\u001b[0;34m[\u001b[0m\u001b[0;36m5\u001b[0m\u001b[0;34m]\u001b[0m\u001b[0;34m[\u001b[0m\u001b[0;36m2\u001b[0m\u001b[0;34m]\u001b[0m\u001b[0;34m[\u001b[0m\u001b[0;36m2\u001b[0m\u001b[0;34m:\u001b[0m\u001b[0;36m4\u001b[0m\u001b[0;34m]\u001b[0m\u001b[0;34m=\u001b[0m\u001b[0mpred_train\u001b[0m\u001b[0;34m[\u001b[0m\u001b[0mi\u001b[0m\u001b[0;34m]\u001b[0m\u001b[0;34m\u001b[0m\u001b[0m\n\u001b[0m\u001b[1;32m      9\u001b[0m \u001b[0mevents_pred\u001b[0m \u001b[0;34m=\u001b[0m \u001b[0mevents_pred\u001b[0m\u001b[0;34m.\u001b[0m\u001b[0mmoments\u001b[0m\u001b[0;34m.\u001b[0m\u001b[0mapply\u001b[0m\u001b[0;34m(\u001b[0m\u001b[0;32mlambda\u001b[0m \u001b[0mx\u001b[0m\u001b[0;34m:\u001b[0m \u001b[0mreplace_pos\u001b[0m\u001b[0;34m(\u001b[0m\u001b[0mx\u001b[0m\u001b[0;34m)\u001b[0m\u001b[0;34m)\u001b[0m\u001b[0;34m\u001b[0m\u001b[0m\n",
      "\u001b[0;31mIndexError\u001b[0m: list index out of range"
     ]
    }
   ],
   "source": [
    "# events.head()\n",
    "# replace the true position with the predicted\n",
    "events_pred = events.head(1).copy()\n",
    "def replace_pos(x):\n",
    "    for i in range(len(pred_train)):\n",
    "#         print(x[i][5])\n",
    "#         print(x[i][5][2][2:4], pred_train[i])\n",
    "        x[i][5][2][2:4]=pred_train[i] \n",
    "events_pred = events_pred.moments.apply(lambda x: replace_pos(x))"
   ]
  },
  {
   "cell_type": "code",
   "execution_count": null,
   "metadata": {
    "collapsed": true
   },
   "outputs": [],
   "source": [
    "# save all moments for a specific events\n",
    "Plot = PlotGame(game_id, main_dir, game_dir)\n",
    "moments = range(len(pred_train))\n",
    "event_number = 0\n",
    "for i in moments:\n",
    "    print(i, end='\\r')\n",
    "    Plot.load_pred_moment2img(game_data, event_number, i)\n",
    "# PlotGame.load_pred_moment2img()"
   ]
  },
  {
   "cell_type": "code",
   "execution_count": null,
   "metadata": {
    "collapsed": true
   },
   "outputs": [],
   "source": [
    "#  so by comparing the position we know we are modelling the third position ind = 2\n",
    "# order_x"
   ]
  },
  {
   "cell_type": "code",
   "execution_count": null,
   "metadata": {
    "collapsed": true
   },
   "outputs": [],
   "source": [
    "# prepare to save videos\n",
    "event_dir = game_dir + 'game' + str(game_id) + '/' + 'predevent' + str(event_number) + '/'\n",
    "video_name = event_dir + str(event_number) + '.mp4'\n",
    "print(video_name)\n",
    "images = glob.glob(event_dir + \"*.png\")\n",
    "images = sorted(images, key=lambda x: int(x.split('.')[2].split('/')[-1][4:]))\n",
    "# print(images)\n",
    "# save to video\n",
    "make_video(images, video_name, 15)"
   ]
  },
  {
   "cell_type": "code",
   "execution_count": null,
   "metadata": {
    "collapsed": true
   },
   "outputs": [],
   "source": []
  },
  {
   "cell_type": "code",
   "execution_count": null,
   "metadata": {
    "collapsed": true
   },
   "outputs": [],
   "source": [
    "pred_train.shape"
   ]
  },
  {
   "cell_type": "code",
   "execution_count": null,
   "metadata": {
    "collapsed": true
   },
   "outputs": [],
   "source": [
    "# len(events_pred.moments)"
   ]
  },
  {
   "cell_type": "code",
   "execution_count": null,
   "metadata": {
    "collapsed": true
   },
   "outputs": [],
   "source": []
  },
  {
   "cell_type": "code",
   "execution_count": null,
   "metadata": {
    "collapsed": true
   },
   "outputs": [],
   "source": []
  },
  {
   "cell_type": "code",
   "execution_count": null,
   "metadata": {
    "collapsed": true
   },
   "outputs": [],
   "source": []
  },
  {
   "cell_type": "markdown",
   "metadata": {},
   "source": [
    "### To do:\n",
    "\n",
    "    - 1) Regularize the lstm\n",
    "    - 2) Figure out why there are blanks in the testing\n",
    "    - 3) may consider to collect those left out from the process of creating batches\n",
    "    - 4) related to 3), seq_len = 3 may create null batches \n",
    "\n",
    "    - Split data to defending and offending, as the model for e.g. forward role in deffending and offending should be pretty different. Remove particular events, like free-throw etc.\n",
    "    \n",
    "    - We can use the shot clock as an indicator of when the offending and defending switches.\n",
    "    \n",
    "    - The cameras oprate at 25 frames per second, so in order to learn realistic motions, either we sample the 25 frames, or extend the horizon to 50 for example or even longer(this might be too computationally heavy and model would probably drift a lot).\n",
    "    \n",
    "    - At the moment if we don't have defending or offending sepearted, at least we need to break down the sequences from the 24 secs shot clock, since it usually stands for a change in game state. (note: shot clock sometimes is None)\n",
    "    \n",
    "    - Add tensorboard visualization. Add validation performance (maybe, it would take longer). \n",
    "      tensorboard --logdir=./train_logs\n",
    "      \n",
    "    - Start thinking about 1) joint training 2) Hidden structure 3) Smooth learning"
   ]
  },
  {
   "cell_type": "markdown",
   "metadata": {
    "collapsed": true
   },
   "source": [
    "### Questions\n",
    "\n",
    "    * After a team scored and they go back to get ready for defense, is the going back trajectory pretty much random?\n",
    "    * Do player swap roles during the play? e.g. a forward swapped to a guard, is the forward roles a lot different from gaurds these day? (i.e. can you differentaite a player plaing forward from guard from the game) If yes, then the hidden structure learning/sequencing is necessary. "
   ]
  },
  {
   "cell_type": "code",
   "execution_count": null,
   "metadata": {
    "collapsed": true
   },
   "outputs": [],
   "source": []
  }
 ],
 "metadata": {
  "kernelspec": {
   "display_name": "Python 3",
   "language": "python",
   "name": "python3"
  },
  "language_info": {
   "codemirror_mode": {
    "name": "ipython",
    "version": 3
   },
   "file_extension": ".py",
   "mimetype": "text/x-python",
   "name": "python",
   "nbconvert_exporter": "python",
   "pygments_lexer": "ipython3",
   "version": "3.6.1"
  }
 },
 "nbformat": 4,
 "nbformat_minor": 2
}
