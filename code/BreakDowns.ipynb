{
 "cells": [
  {
   "cell_type": "code",
   "execution_count": 1,
   "metadata": {},
   "outputs": [
    {
     "name": "stderr",
     "output_type": "stream",
     "text": [
      "/home/sam/anaconda3/lib/python3.6/importlib/_bootstrap.py:219: RuntimeWarning: compiletime version 3.5 of module 'tensorflow.python.framework.fast_tensor_util' does not match runtime version 3.6\n",
      "  return f(*args, **kwds)\n",
      "/home/sam/anaconda3/lib/python3.6/site-packages/h5py/__init__.py:36: FutureWarning: Conversion of the second argument of issubdtype from `float` to `np.floating` is deprecated. In future, it will be treated as `np.float64 == np.dtype(float).type`.\n",
      "  from ._conv import register_converters as _register_converters\n"
     ]
    }
   ],
   "source": [
    "import tensorflow as tf\n",
    "from tensorflow.python.ops.rnn import _transpose_batch_time\n",
    "\n",
    "from datetime import datetime\n",
    "import numpy as np\n",
    "import pandas as pd\n",
    "import glob, os, sys, math, warnings\n",
    "import matplotlib.pyplot as  plt\n",
    "import copy, time, glob, os, sys\n",
    "os.environ[\"TF_CPP_MIN_LOG_LEVEL\"]=\"3\"\n",
    "\n",
    "# customized ftns \n",
    "from helpers import *\n",
    "from utilities import *\n",
    "from model import *\n",
    "from train import train_all_single_policies\n",
    "# ---------------------------------------------------------\n",
    "%matplotlib inline\n",
    "%load_ext autoreload\n",
    "%autoreload 2\n",
    "warnings.filterwarnings('ignore')\n",
    "# warnings.filterwarnings(action='once')\n",
    "# ---------------------------------------------------------\n",
    "# directories\n",
    "main_dir = '../'\n",
    "game_dir = main_dir+'data/'\n",
    "Data = LoadData(main_dir, game_dir)\n",
    "models_path = './models/' "
   ]
  },
  {
   "cell_type": "markdown",
   "metadata": {},
   "source": [
    "#### Load raw data"
   ]
  },
  {
   "cell_type": "code",
   "execution_count": 2,
   "metadata": {},
   "outputs": [
    {
     "name": "stdout",
     "output_type": "stream",
     "text": [
      "raw events shape: (234, 8)\n"
     ]
    },
    {
     "data": {
      "text/html": [
       "<div>\n",
       "<style>\n",
       "    .dataframe thead tr:only-child th {\n",
       "        text-align: right;\n",
       "    }\n",
       "\n",
       "    .dataframe thead th {\n",
       "        text-align: left;\n",
       "    }\n",
       "\n",
       "    .dataframe tbody tr th {\n",
       "        vertical-align: top;\n",
       "    }\n",
       "</style>\n",
       "<table border=\"1\" class=\"dataframe\">\n",
       "  <thead>\n",
       "    <tr style=\"text-align: right;\">\n",
       "      <th></th>\n",
       "      <th>end_time_left</th>\n",
       "      <th>home</th>\n",
       "      <th>moments</th>\n",
       "      <th>orig_events</th>\n",
       "      <th>playbyplay</th>\n",
       "      <th>quarter</th>\n",
       "      <th>start_time_left</th>\n",
       "      <th>visitor</th>\n",
       "    </tr>\n",
       "  </thead>\n",
       "  <tbody>\n",
       "    <tr>\n",
       "      <th>0</th>\n",
       "      <td>716.37</td>\n",
       "      <td>{'abbreviation': 'LAC', 'players': [{'playerid...</td>\n",
       "      <td>[[1, 1448224810037, 720.0, 24.0, None, [[-1, -...</td>\n",
       "      <td>[0]</td>\n",
       "      <td>Empty DataFrame\n",
       "Columns: [GAME_ID, EVENTNUM, E...</td>\n",
       "      <td>1</td>\n",
       "      <td>720.00</td>\n",
       "      <td>{'abbreviation': 'TOR', 'players': [{'playerid...</td>\n",
       "    </tr>\n",
       "    <tr>\n",
       "      <th>1</th>\n",
       "      <td>701.37</td>\n",
       "      <td>{'abbreviation': 'LAC', 'players': [{'playerid...</td>\n",
       "      <td>[[1, 1448224810037, 720.0, 24.0, None, [[-1, -...</td>\n",
       "      <td>[1, 2]</td>\n",
       "      <td>GAME_ID  EVENTNUM  EVENTMSGTYPE  EVENTMS...</td>\n",
       "      <td>1</td>\n",
       "      <td>720.00</td>\n",
       "      <td>{'abbreviation': 'TOR', 'players': [{'playerid...</td>\n",
       "    </tr>\n",
       "    <tr>\n",
       "      <th>2</th>\n",
       "      <td>682.36</td>\n",
       "      <td>{'abbreviation': 'LAC', 'players': [{'playerid...</td>\n",
       "      <td>[[1, 1448224825036, 707.33, 11.37, None, [[-1,...</td>\n",
       "      <td>[3, 4]</td>\n",
       "      <td>GAME_ID  EVENTNUM  EVENTMSGTYPE  EVENTMS...</td>\n",
       "      <td>1</td>\n",
       "      <td>707.33</td>\n",
       "      <td>{'abbreviation': 'TOR', 'players': [{'playerid...</td>\n",
       "    </tr>\n",
       "  </tbody>\n",
       "</table>\n",
       "</div>"
      ],
      "text/plain": [
       "   end_time_left                                               home  \\\n",
       "0         716.37  {'abbreviation': 'LAC', 'players': [{'playerid...   \n",
       "1         701.37  {'abbreviation': 'LAC', 'players': [{'playerid...   \n",
       "2         682.36  {'abbreviation': 'LAC', 'players': [{'playerid...   \n",
       "\n",
       "                                             moments orig_events  \\\n",
       "0  [[1, 1448224810037, 720.0, 24.0, None, [[-1, -...         [0]   \n",
       "1  [[1, 1448224810037, 720.0, 24.0, None, [[-1, -...      [1, 2]   \n",
       "2  [[1, 1448224825036, 707.33, 11.37, None, [[-1,...      [3, 4]   \n",
       "\n",
       "                                          playbyplay  quarter  \\\n",
       "0  Empty DataFrame\n",
       "Columns: [GAME_ID, EVENTNUM, E...        1   \n",
       "1        GAME_ID  EVENTNUM  EVENTMSGTYPE  EVENTMS...        1   \n",
       "2        GAME_ID  EVENTNUM  EVENTMSGTYPE  EVENTMS...        1   \n",
       "\n",
       "   start_time_left                                            visitor  \n",
       "0           720.00  {'abbreviation': 'TOR', 'players': [{'playerid...  \n",
       "1           720.00  {'abbreviation': 'TOR', 'players': [{'playerid...  \n",
       "2           707.33  {'abbreviation': 'TOR', 'players': [{'playerid...  "
      ]
     },
     "execution_count": 2,
     "metadata": {},
     "output_type": "execute_result"
    }
   ],
   "source": [
    "# %%time\n",
    "game_id = '0021500196'\n",
    "game_data = Data.load_game(game_id)\n",
    "events_df = pd.DataFrame(game_data['events'])\n",
    "print('raw events shape:', events_df.shape)\n",
    "events_df.head(3)"
   ]
  },
  {
   "cell_type": "markdown",
   "metadata": {},
   "source": [
    "#### Get some suplementary data"
   ]
  },
  {
   "cell_type": "code",
   "execution_count": 3,
   "metadata": {
    "collapsed": true
   },
   "outputs": [],
   "source": [
    "# # play id to play roles/positions\n",
    "# id_role = id_position(events_df)\n",
    "# check_game_roles_duplicates(id_role)\n",
    "\n",
    "# # its possible that F has similar role as G-f or F-G, we create empty slots to ensure meta order\n",
    "# # ddentify defending and offending runs (this is included in process_moments)\n",
    "# court_index = Data.load_csv('./meta_data/court_index.csv')\n",
    "# court_index = dict(zip(court_index.game_id, court_index.court_position))\n",
    "\n",
    "# # home and visitor ids\n",
    "# homeid = events_df.loc[0].home['teamid']\n",
    "# awayid = events_df.loc[0].visitor['teamid']"
   ]
  },
  {
   "cell_type": "markdown",
   "metadata": {},
   "source": [
    "### FILTER EVENTS"
   ]
  },
  {
   "cell_type": "code",
   "execution_count": 4,
   "metadata": {},
   "outputs": [],
   "source": [
    "# # filter out actions except 1: Make, 2: Miss, 4: Rebound, 6:Personal Foul, 7:Violation\n",
    "# use_event = [1, 2]\n",
    "# discard_event = [3, 4, 5, 6, 7, 8, 9, 10, 12, 13, 18]\n",
    "# events = filter_event_type(events_df, discard_event)"
   ]
  },
  {
   "cell_type": "code",
   "execution_count": 5,
   "metadata": {},
   "outputs": [
    {
     "data": {
      "text/plain": [
       "(234, 8)"
      ]
     },
     "execution_count": 5,
     "metadata": {},
     "output_type": "execute_result"
    }
   ],
   "source": [
    "events_df.shape"
   ]
  },
  {
   "cell_type": "code",
   "execution_count": 6,
   "metadata": {},
   "outputs": [
    {
     "data": {
      "text/html": [
       "<div>\n",
       "<style>\n",
       "    .dataframe thead tr:only-child th {\n",
       "        text-align: right;\n",
       "    }\n",
       "\n",
       "    .dataframe thead th {\n",
       "        text-align: left;\n",
       "    }\n",
       "\n",
       "    .dataframe tbody tr th {\n",
       "        vertical-align: top;\n",
       "    }\n",
       "</style>\n",
       "<table border=\"1\" class=\"dataframe\">\n",
       "  <thead>\n",
       "    <tr style=\"text-align: right;\">\n",
       "      <th></th>\n",
       "      <th>end_time_left</th>\n",
       "      <th>home</th>\n",
       "      <th>moments</th>\n",
       "      <th>orig_events</th>\n",
       "      <th>playbyplay</th>\n",
       "      <th>quarter</th>\n",
       "      <th>start_time_left</th>\n",
       "      <th>visitor</th>\n",
       "    </tr>\n",
       "  </thead>\n",
       "  <tbody>\n",
       "    <tr>\n",
       "      <th>0</th>\n",
       "      <td>716.37</td>\n",
       "      <td>{'abbreviation': 'LAC', 'players': [{'playerid...</td>\n",
       "      <td>[[1, 1448224810037, 720.0, 24.0, None, [[-1, -...</td>\n",
       "      <td>[0]</td>\n",
       "      <td>Empty DataFrame\n",
       "Columns: [GAME_ID, EVENTNUM, E...</td>\n",
       "      <td>1</td>\n",
       "      <td>720.00</td>\n",
       "      <td>{'abbreviation': 'TOR', 'players': [{'playerid...</td>\n",
       "    </tr>\n",
       "    <tr>\n",
       "      <th>1</th>\n",
       "      <td>701.37</td>\n",
       "      <td>{'abbreviation': 'LAC', 'players': [{'playerid...</td>\n",
       "      <td>[[1, 1448224810037, 720.0, 24.0, None, [[-1, -...</td>\n",
       "      <td>[1, 2]</td>\n",
       "      <td>GAME_ID  EVENTNUM  EVENTMSGTYPE  EVENTMS...</td>\n",
       "      <td>1</td>\n",
       "      <td>720.00</td>\n",
       "      <td>{'abbreviation': 'TOR', 'players': [{'playerid...</td>\n",
       "    </tr>\n",
       "    <tr>\n",
       "      <th>2</th>\n",
       "      <td>682.36</td>\n",
       "      <td>{'abbreviation': 'LAC', 'players': [{'playerid...</td>\n",
       "      <td>[[1, 1448224825036, 707.33, 11.37, None, [[-1,...</td>\n",
       "      <td>[3, 4]</td>\n",
       "      <td>GAME_ID  EVENTNUM  EVENTMSGTYPE  EVENTMS...</td>\n",
       "      <td>1</td>\n",
       "      <td>707.33</td>\n",
       "      <td>{'abbreviation': 'TOR', 'players': [{'playerid...</td>\n",
       "    </tr>\n",
       "    <tr>\n",
       "      <th>3</th>\n",
       "      <td>670.36</td>\n",
       "      <td>{'abbreviation': 'LAC', 'players': [{'playerid...</td>\n",
       "      <td>[[1, 1448224844036, 688.32, 6.32, None, [[-1, ...</td>\n",
       "      <td>[5, 6]</td>\n",
       "      <td>GAME_ID  EVENTNUM  EVENTMSGTYPE  EVENTMS...</td>\n",
       "      <td>1</td>\n",
       "      <td>688.32</td>\n",
       "      <td>{'abbreviation': 'TOR', 'players': [{'playerid...</td>\n",
       "    </tr>\n",
       "    <tr>\n",
       "      <th>4</th>\n",
       "      <td>636.34</td>\n",
       "      <td>{'abbreviation': 'LAC', 'players': [{'playerid...</td>\n",
       "      <td>[[1, 1448224856036, 676.32, 13.32, None, [[-1,...</td>\n",
       "      <td>[7]</td>\n",
       "      <td>GAME_ID  EVENTNUM  EVENTMSGTYPE  EVENTMS...</td>\n",
       "      <td>1</td>\n",
       "      <td>676.32</td>\n",
       "      <td>{'abbreviation': 'TOR', 'players': [{'playerid...</td>\n",
       "    </tr>\n",
       "  </tbody>\n",
       "</table>\n",
       "</div>"
      ],
      "text/plain": [
       "   end_time_left                                               home  \\\n",
       "0         716.37  {'abbreviation': 'LAC', 'players': [{'playerid...   \n",
       "1         701.37  {'abbreviation': 'LAC', 'players': [{'playerid...   \n",
       "2         682.36  {'abbreviation': 'LAC', 'players': [{'playerid...   \n",
       "3         670.36  {'abbreviation': 'LAC', 'players': [{'playerid...   \n",
       "4         636.34  {'abbreviation': 'LAC', 'players': [{'playerid...   \n",
       "\n",
       "                                             moments orig_events  \\\n",
       "0  [[1, 1448224810037, 720.0, 24.0, None, [[-1, -...         [0]   \n",
       "1  [[1, 1448224810037, 720.0, 24.0, None, [[-1, -...      [1, 2]   \n",
       "2  [[1, 1448224825036, 707.33, 11.37, None, [[-1,...      [3, 4]   \n",
       "3  [[1, 1448224844036, 688.32, 6.32, None, [[-1, ...      [5, 6]   \n",
       "4  [[1, 1448224856036, 676.32, 13.32, None, [[-1,...         [7]   \n",
       "\n",
       "                                          playbyplay  quarter  \\\n",
       "0  Empty DataFrame\n",
       "Columns: [GAME_ID, EVENTNUM, E...        1   \n",
       "1        GAME_ID  EVENTNUM  EVENTMSGTYPE  EVENTMS...        1   \n",
       "2        GAME_ID  EVENTNUM  EVENTMSGTYPE  EVENTMS...        1   \n",
       "3        GAME_ID  EVENTNUM  EVENTMSGTYPE  EVENTMS...        1   \n",
       "4        GAME_ID  EVENTNUM  EVENTMSGTYPE  EVENTMS...        1   \n",
       "\n",
       "   start_time_left                                            visitor  \n",
       "0           720.00  {'abbreviation': 'TOR', 'players': [{'playerid...  \n",
       "1           720.00  {'abbreviation': 'TOR', 'players': [{'playerid...  \n",
       "2           707.33  {'abbreviation': 'TOR', 'players': [{'playerid...  \n",
       "3           688.32  {'abbreviation': 'TOR', 'players': [{'playerid...  \n",
       "4           676.32  {'abbreviation': 'TOR', 'players': [{'playerid...  "
      ]
     },
     "execution_count": 6,
     "metadata": {},
     "output_type": "execute_result"
    }
   ],
   "source": [
    "events_df.head()"
   ]
  },
  {
   "cell_type": "code",
   "execution_count": 7,
   "metadata": {},
   "outputs": [
    {
     "data": {
      "text/html": [
       "<div>\n",
       "<style>\n",
       "    .dataframe thead tr:only-child th {\n",
       "        text-align: right;\n",
       "    }\n",
       "\n",
       "    .dataframe thead th {\n",
       "        text-align: left;\n",
       "    }\n",
       "\n",
       "    .dataframe tbody tr th {\n",
       "        vertical-align: top;\n",
       "    }\n",
       "</style>\n",
       "<table border=\"1\" class=\"dataframe\">\n",
       "  <thead>\n",
       "    <tr style=\"text-align: right;\">\n",
       "      <th></th>\n",
       "      <th>GAME_ID</th>\n",
       "      <th>EVENTNUM</th>\n",
       "      <th>EVENTMSGTYPE</th>\n",
       "      <th>EVENTMSGACTIONTYPE</th>\n",
       "      <th>PERIOD</th>\n",
       "      <th>WCTIMESTRING</th>\n",
       "      <th>PCTIMESTRING</th>\n",
       "      <th>HOMEDESCRIPTION</th>\n",
       "      <th>NEUTRALDESCRIPTION</th>\n",
       "      <th>VISITORDESCRIPTION</th>\n",
       "      <th>...</th>\n",
       "      <th>PERSON3TYPE</th>\n",
       "      <th>PLAYER3_ID</th>\n",
       "      <th>PLAYER3_NAME</th>\n",
       "      <th>PLAYER3_TEAM_ID</th>\n",
       "      <th>PLAYER3_TEAM_CITY</th>\n",
       "      <th>PLAYER3_TEAM_NICKNAME</th>\n",
       "      <th>PLAYER3_TEAM_ABBREVIATION</th>\n",
       "      <th>TEAM</th>\n",
       "      <th>time_left</th>\n",
       "      <th>event_str</th>\n",
       "    </tr>\n",
       "  </thead>\n",
       "  <tbody>\n",
       "    <tr>\n",
       "      <th>2</th>\n",
       "      <td>0021500196</td>\n",
       "      <td>2</td>\n",
       "      <td>2</td>\n",
       "      <td>1</td>\n",
       "      <td>1</td>\n",
       "      <td>3:41 PM</td>\n",
       "      <td>11:45</td>\n",
       "      <td>MISS Redick 22' Jump Shot</td>\n",
       "      <td>None</td>\n",
       "      <td>None</td>\n",
       "      <td>...</td>\n",
       "      <td>0</td>\n",
       "      <td>0</td>\n",
       "      <td>None</td>\n",
       "      <td>NaN</td>\n",
       "      <td>None</td>\n",
       "      <td>None</td>\n",
       "      <td>None</td>\n",
       "      <td>LAC</td>\n",
       "      <td>705</td>\n",
       "      <td>miss</td>\n",
       "    </tr>\n",
       "    <tr>\n",
       "      <th>3</th>\n",
       "      <td>0021500196</td>\n",
       "      <td>3</td>\n",
       "      <td>4</td>\n",
       "      <td>0</td>\n",
       "      <td>1</td>\n",
       "      <td>3:41 PM</td>\n",
       "      <td>11:44</td>\n",
       "      <td>None</td>\n",
       "      <td>None</td>\n",
       "      <td>Biyombo REBOUND (Off:0 Def:1)</td>\n",
       "      <td>...</td>\n",
       "      <td>0</td>\n",
       "      <td>0</td>\n",
       "      <td>None</td>\n",
       "      <td>NaN</td>\n",
       "      <td>None</td>\n",
       "      <td>None</td>\n",
       "      <td>None</td>\n",
       "      <td>TOR</td>\n",
       "      <td>704</td>\n",
       "      <td>rebound</td>\n",
       "    </tr>\n",
       "    <tr>\n",
       "      <th>4</th>\n",
       "      <td>0021500196</td>\n",
       "      <td>4</td>\n",
       "      <td>2</td>\n",
       "      <td>1</td>\n",
       "      <td>1</td>\n",
       "      <td>3:41 PM</td>\n",
       "      <td>11:25</td>\n",
       "      <td>None</td>\n",
       "      <td>None</td>\n",
       "      <td>MISS Lowry 20' Jump Shot</td>\n",
       "      <td>...</td>\n",
       "      <td>0</td>\n",
       "      <td>0</td>\n",
       "      <td>None</td>\n",
       "      <td>NaN</td>\n",
       "      <td>None</td>\n",
       "      <td>None</td>\n",
       "      <td>None</td>\n",
       "      <td>TOR</td>\n",
       "      <td>685</td>\n",
       "      <td>miss</td>\n",
       "    </tr>\n",
       "    <tr>\n",
       "      <th>5</th>\n",
       "      <td>0021500196</td>\n",
       "      <td>5</td>\n",
       "      <td>4</td>\n",
       "      <td>0</td>\n",
       "      <td>1</td>\n",
       "      <td>3:41 PM</td>\n",
       "      <td>11:24</td>\n",
       "      <td>Jordan REBOUND (Off:0 Def:1)</td>\n",
       "      <td>None</td>\n",
       "      <td>None</td>\n",
       "      <td>...</td>\n",
       "      <td>0</td>\n",
       "      <td>0</td>\n",
       "      <td>None</td>\n",
       "      <td>NaN</td>\n",
       "      <td>None</td>\n",
       "      <td>None</td>\n",
       "      <td>None</td>\n",
       "      <td>LAC</td>\n",
       "      <td>684</td>\n",
       "      <td>rebound</td>\n",
       "    </tr>\n",
       "  </tbody>\n",
       "</table>\n",
       "<p>4 rows × 35 columns</p>\n",
       "</div>"
      ],
      "text/plain": [
       "      GAME_ID  EVENTNUM  EVENTMSGTYPE  EVENTMSGACTIONTYPE  PERIOD  \\\n",
       "2  0021500196         2             2                   1       1   \n",
       "3  0021500196         3             4                   0       1   \n",
       "4  0021500196         4             2                   1       1   \n",
       "5  0021500196         5             4                   0       1   \n",
       "\n",
       "  WCTIMESTRING PCTIMESTRING               HOMEDESCRIPTION NEUTRALDESCRIPTION  \\\n",
       "2      3:41 PM        11:45     MISS Redick 22' Jump Shot               None   \n",
       "3      3:41 PM        11:44                          None               None   \n",
       "4      3:41 PM        11:25                          None               None   \n",
       "5      3:41 PM        11:24  Jordan REBOUND (Off:0 Def:1)               None   \n",
       "\n",
       "              VISITORDESCRIPTION    ...     PERSON3TYPE PLAYER3_ID  \\\n",
       "2                           None    ...               0          0   \n",
       "3  Biyombo REBOUND (Off:0 Def:1)    ...               0          0   \n",
       "4       MISS Lowry 20' Jump Shot    ...               0          0   \n",
       "5                           None    ...               0          0   \n",
       "\n",
       "   PLAYER3_NAME  PLAYER3_TEAM_ID PLAYER3_TEAM_CITY  PLAYER3_TEAM_NICKNAME  \\\n",
       "2          None              NaN              None                   None   \n",
       "3          None              NaN              None                   None   \n",
       "4          None              NaN              None                   None   \n",
       "5          None              NaN              None                   None   \n",
       "\n",
       "  PLAYER3_TEAM_ABBREVIATION TEAM  time_left  event_str  \n",
       "2                      None  LAC        705       miss  \n",
       "3                      None  TOR        704    rebound  \n",
       "4                      None  TOR        685       miss  \n",
       "5                      None  LAC        684    rebound  \n",
       "\n",
       "[4 rows x 35 columns]"
      ]
     },
     "execution_count": 7,
     "metadata": {},
     "output_type": "execute_result"
    }
   ],
   "source": [
    "events_df.loc[2].playbyplay"
   ]
  },
  {
   "cell_type": "code",
   "execution_count": null,
   "metadata": {},
   "outputs": [],
   "source": [
    "events_df.dropna(subset=['playbyplay'], inplace=True)\n",
    "events_df.reset_index(drop=True, inplace=True)\n",
    "\n",
    "use_events = [1,2]\n",
    "def filter_events(row, use_events):\n",
    "    pbp = row['playbyplay'].copy()\n",
    "    # when theres no playbyplay data\n",
    "    if len(pbp) == 0:\n",
    "        return []\n",
    "    time_lefts = pbp['time_left'].values\n",
    "    n_events = len(pbp)\n",
    "    result = []\n",
    "    event_i = []\n",
    "    init = 0\n",
    "    start_time = time_lefts[init]\n",
    "    for i in row['moments']:\n",
    "        if i[2] > start_time:\n",
    "            event_i.append(i)\n",
    "        else:\n",
    "            result.append(event_i)\n",
    "            if init < n_events - 1:\n",
    "                init += 1\n",
    "                start_time = time_lefts[init]\n",
    "                event_i = []\n",
    "    select_events = [result[i] for i in range(n_events) if pbp['EVENTMSGTYPE'].values[i] in use_events]\n",
    "    return select_events"
   ]
  },
  {
   "cell_type": "code",
   "execution_count": null,
   "metadata": {},
   "outputs": [],
   "source": [
    "events_df['n'] = events_df.apply(lambda row: filter_events(row, use_events), axis=1)"
   ]
  },
  {
   "cell_type": "code",
   "execution_count": null,
   "metadata": {},
   "outputs": [],
   "source": [
    "events_df.head()"
   ]
  },
  {
   "cell_type": "code",
   "execution_count": null,
   "metadata": {},
   "outputs": [],
   "source": [
    "events_df.playbyplay[2]"
   ]
  },
  {
   "cell_type": "code",
   "execution_count": null,
   "metadata": {},
   "outputs": [],
   "source": [
    "events_df.moments[2]"
   ]
  },
  {
   "cell_type": "code",
   "execution_count": null,
   "metadata": {
    "scrolled": true
   },
   "outputs": [],
   "source": [
    "len(events_df.n[1])"
   ]
  },
  {
   "cell_type": "code",
   "execution_count": null,
   "metadata": {
    "collapsed": true
   },
   "outputs": [],
   "source": [
    "# only use miss or make, and some playbyplay is none"
   ]
  },
  {
   "cell_type": "code",
   "execution_count": null,
   "metadata": {},
   "outputs": [],
   "source": [
    "events_df.n[1]"
   ]
  },
  {
   "cell_type": "code",
   "execution_count": 10,
   "metadata": {},
   "outputs": [
    {
     "name": "stdout",
     "output_type": "stream",
     "text": [
      "event 2/234, moment: 625/625\r"
     ]
    },
    {
     "ename": "IndexError",
     "evalue": "index 625 is out of bounds for axis 0 with size 625",
     "output_type": "error",
     "traceback": [
      "\u001b[0;31m---------------------------------------------------------------------------\u001b[0m",
      "\u001b[0;31mIndexError\u001b[0m                                Traceback (most recent call last)",
      "\u001b[0;32m<ipython-input-10-9fe75accd19c>\u001b[0m in \u001b[0;36m<module>\u001b[0;34m()\u001b[0m\n\u001b[1;32m      1\u001b[0m \u001b[0mP\u001b[0m \u001b[0;34m=\u001b[0m \u001b[0mPlotGame\u001b[0m\u001b[0;34m(\u001b[0m\u001b[0;34m'0021500196'\u001b[0m\u001b[0;34m,\u001b[0m \u001b[0mmain_dir\u001b[0m\u001b[0;34m,\u001b[0m \u001b[0mgame_dir\u001b[0m\u001b[0;34m)\u001b[0m\u001b[0;34m\u001b[0m\u001b[0m\n\u001b[1;32m      2\u001b[0m \u001b[0;32mfor\u001b[0m \u001b[0mi\u001b[0m \u001b[0;32min\u001b[0m \u001b[0mrange\u001b[0m\u001b[0;34m(\u001b[0m\u001b[0;36m715\u001b[0m\u001b[0;34m)\u001b[0m\u001b[0;34m:\u001b[0m\u001b[0;34m\u001b[0m\u001b[0m\n\u001b[0;32m----> 3\u001b[0;31m     \u001b[0mP\u001b[0m\u001b[0;34m.\u001b[0m\u001b[0mload_moment2img\u001b[0m\u001b[0;34m(\u001b[0m\u001b[0mgame_data\u001b[0m\u001b[0;34m,\u001b[0m \u001b[0;36m2\u001b[0m\u001b[0;34m,\u001b[0m \u001b[0mi\u001b[0m\u001b[0;34m)\u001b[0m\u001b[0;34m\u001b[0m\u001b[0m\n\u001b[0m",
      "\u001b[0;32m/home/sam/Desktop/raptors/code/utilities.py\u001b[0m in \u001b[0;36mload_moment2img\u001b[0;34m(self, data, event_number, moment_number, return_img)\u001b[0m\n\u001b[1;32m    130\u001b[0m \u001b[0;34m\u001b[0m\u001b[0m\n\u001b[1;32m    131\u001b[0m         \u001b[0;31m# get player and ball data for the momenet\u001b[0m\u001b[0;34m\u001b[0m\u001b[0;34m\u001b[0m\u001b[0m\n\u001b[0;32m--> 132\u001b[0;31m         \u001b[0mball\u001b[0m \u001b[0;34m=\u001b[0m \u001b[0mball_xy\u001b[0m\u001b[0;34m[\u001b[0m\u001b[0mjj\u001b[0m\u001b[0;34m]\u001b[0m\u001b[0;34m\u001b[0m\u001b[0m\n\u001b[0m\u001b[1;32m    133\u001b[0m         \u001b[0mplayer\u001b[0m \u001b[0;34m=\u001b[0m \u001b[0mplayer_xy\u001b[0m\u001b[0;34m[\u001b[0m\u001b[0mjj\u001b[0m\u001b[0;34m]\u001b[0m\u001b[0;34m\u001b[0m\u001b[0m\n\u001b[1;32m    134\u001b[0m \u001b[0;34m\u001b[0m\u001b[0m\n",
      "\u001b[0;31mIndexError\u001b[0m: index 625 is out of bounds for axis 0 with size 625"
     ]
    },
    {
     "data": {
      "image/png": "[encoded data removed]",
      "text/plain": [
       "<Figure size 432x288 with 1 Axes>"
      ]
     },
     "metadata": {},
     "output_type": "display_data"
    }
   ],
   "source": [
    "P = PlotGame('0021500196', main_dir, game_dir)\n",
    "for i in range(715):\n",
    "    P.load_moment2img(game_data, 2, i)"
   ]
  },
  {
   "cell_type": "code",
   "execution_count": null,
   "metadata": {
    "collapsed": true
   },
   "outputs": [],
   "source": []
  },
  {
   "cell_type": "code",
   "execution_count": null,
   "metadata": {},
   "outputs": [],
   "source": [
    "images = glob.glob('../data/game0021500196/event2/' + \"*.png\")\n",
    "images = sorted(images, key=lambda x: int(x.split('.')[2].split('/')[-1]))\n",
    "make_video(images, '../data/game0021500196/event2/2.mp4', 15)"
   ]
  },
  {
   "cell_type": "code",
   "execution_count": null,
   "metadata": {
    "collapsed": true
   },
   "outputs": [],
   "source": []
  }
 ],
 "metadata": {
  "kernelspec": {
   "display_name": "Python 3",
   "language": "python",
   "name": "python3"
  },
  "language_info": {
   "codemirror_mode": {
    "name": "ipython",
    "version": 3
   },
   "file_extension": ".py",
   "mimetype": "text/x-python",
   "name": "python",
   "nbconvert_exporter": "python",
   "pygments_lexer": "ipython3",
   "version": "3.6.4"
  }
 },
 "nbformat": 4,
 "nbformat_minor": 2
}
