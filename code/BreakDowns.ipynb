{
 "cells": [
  {
   "cell_type": "code",
   "execution_count": 1,
   "metadata": {},
   "outputs": [
    {
     "name": "stderr",
     "output_type": "stream",
     "text": [
      "C:\\Users\\sshi\\AppData\\Local\\Continuum\\Anaconda3\\lib\\site-packages\\h5py\\__init__.py:34: FutureWarning: Conversion of the second argument of issubdtype from `float` to `np.floating` is deprecated. In future, it will be treated as `np.float64 == np.dtype(float).type`.\n",
      "  from ._conv import register_converters as _register_converters\n"
     ]
    }
   ],
   "source": [
    "import tensorflow as tf\n",
    "from tensorflow.python.ops.rnn import _transpose_batch_time\n",
    "\n",
    "from datetime import datetime\n",
    "import numpy as np\n",
    "import pandas as pd\n",
    "import glob, os, sys, math, warnings, copy, time\n",
    "import matplotlib.pyplot as  plt\n",
    "os.environ[\"TF_CPP_MIN_LOG_LEVEL\"]=\"3\"\n",
    "\n",
    "# customized ftns \n",
    "from preprocessing import *\n",
    "from utilities import *\n",
    "from model import *\n",
    "from train import train_all_single_policies\n",
    "# ---------------------------------------------------------\n",
    "%matplotlib inline\n",
    "%load_ext autoreload\n",
    "%autoreload 2\n",
    "warnings.filterwarnings('ignore')\n",
    "# warnings.filterwarnings(action='once')\n",
    "# ---------------------------------------------------------\n",
    "# directories\n",
    "main_dir = '../'\n",
    "game_dir = main_dir+'data/'\n",
    "Data = LoadData(main_dir, game_dir)\n",
    "models_path = './models/'"
   ]
  },
  {
   "cell_type": "markdown",
   "metadata": {},
   "source": [
    "#### Load raw data"
   ]
  },
  {
   "cell_type": "code",
   "execution_count": 2,
   "metadata": {},
   "outputs": [
    {
     "name": "stdout",
     "output_type": "stream",
     "text": [
      "raw events shape: (231, 8)\n"
     ]
    },
    {
     "data": {
      "text/html": [
       "<div>\n",
       "<style scoped>\n",
       "    .dataframe tbody tr th:only-of-type {\n",
       "        vertical-align: middle;\n",
       "    }\n",
       "\n",
       "    .dataframe tbody tr th {\n",
       "        vertical-align: top;\n",
       "    }\n",
       "\n",
       "    .dataframe thead th {\n",
       "        text-align: right;\n",
       "    }\n",
       "</style>\n",
       "<table border=\"1\" class=\"dataframe\">\n",
       "  <thead>\n",
       "    <tr style=\"text-align: right;\">\n",
       "      <th></th>\n",
       "      <th>end_time_left</th>\n",
       "      <th>home</th>\n",
       "      <th>moments</th>\n",
       "      <th>orig_events</th>\n",
       "      <th>playbyplay</th>\n",
       "      <th>quarter</th>\n",
       "      <th>start_time_left</th>\n",
       "      <th>visitor</th>\n",
       "    </tr>\n",
       "  </thead>\n",
       "  <tbody>\n",
       "    <tr>\n",
       "      <th>0</th>\n",
       "      <td>702.31</td>\n",
       "      <td>{'abbreviation': 'CHI', 'players': [{'playerid...</td>\n",
       "      <td>[[1, 1451351428029, 708.28, 12.78, None, [[-1,...</td>\n",
       "      <td>[0]</td>\n",
       "      <td>GAME_ID  EVENTNUM  EVENTMSGTYPE  EVENTMS...</td>\n",
       "      <td>1</td>\n",
       "      <td>708.28</td>\n",
       "      <td>{'abbreviation': 'TOR', 'players': [{'playerid...</td>\n",
       "    </tr>\n",
       "    <tr>\n",
       "      <th>1</th>\n",
       "      <td>686.28</td>\n",
       "      <td>{'abbreviation': 'CHI', 'players': [{'playerid...</td>\n",
       "      <td>[[1, 1451351428029, 708.28, 12.78, None, [[-1,...</td>\n",
       "      <td>[1]</td>\n",
       "      <td>GAME_ID  EVENTNUM  EVENTMSGTYPE  EVENTMS...</td>\n",
       "      <td>1</td>\n",
       "      <td>708.28</td>\n",
       "      <td>{'abbreviation': 'TOR', 'players': [{'playerid...</td>\n",
       "    </tr>\n",
       "    <tr>\n",
       "      <th>2</th>\n",
       "      <td>668.42</td>\n",
       "      <td>{'abbreviation': 'CHI', 'players': [{'playerid...</td>\n",
       "      <td>[[1, 1451351444029, 692.25, 12.21, None, [[-1,...</td>\n",
       "      <td>[2, 3]</td>\n",
       "      <td>GAME_ID  EVENTNUM  EVENTMSGTYPE  EVENTMS...</td>\n",
       "      <td>1</td>\n",
       "      <td>692.25</td>\n",
       "      <td>{'abbreviation': 'TOR', 'players': [{'playerid...</td>\n",
       "    </tr>\n",
       "  </tbody>\n",
       "</table>\n",
       "</div>"
      ],
      "text/plain": [
       "   end_time_left                                               home  \\\n",
       "0         702.31  {'abbreviation': 'CHI', 'players': [{'playerid...   \n",
       "1         686.28  {'abbreviation': 'CHI', 'players': [{'playerid...   \n",
       "2         668.42  {'abbreviation': 'CHI', 'players': [{'playerid...   \n",
       "\n",
       "                                             moments orig_events  \\\n",
       "0  [[1, 1451351428029, 708.28, 12.78, None, [[-1,...         [0]   \n",
       "1  [[1, 1451351428029, 708.28, 12.78, None, [[-1,...         [1]   \n",
       "2  [[1, 1451351444029, 692.25, 12.21, None, [[-1,...      [2, 3]   \n",
       "\n",
       "                                          playbyplay  quarter  \\\n",
       "0        GAME_ID  EVENTNUM  EVENTMSGTYPE  EVENTMS...        1   \n",
       "1        GAME_ID  EVENTNUM  EVENTMSGTYPE  EVENTMS...        1   \n",
       "2        GAME_ID  EVENTNUM  EVENTMSGTYPE  EVENTMS...        1   \n",
       "\n",
       "   start_time_left                                            visitor  \n",
       "0           708.28  {'abbreviation': 'TOR', 'players': [{'playerid...  \n",
       "1           708.28  {'abbreviation': 'TOR', 'players': [{'playerid...  \n",
       "2           692.25  {'abbreviation': 'TOR', 'players': [{'playerid...  "
      ]
     },
     "execution_count": 2,
     "metadata": {},
     "output_type": "execute_result"
    }
   ],
   "source": [
    "# %%time\n",
    "game_id = '0021500463'\n",
    "game_data = Data.load_game(game_id)\n",
    "events_df = pd.DataFrame(game_data['events'])\n",
    "print('raw events shape:', events_df.shape)\n",
    "home_id = events_df.loc[0].home['teamid']\n",
    "events_df.head(3)"
   ]
  },
  {
   "cell_type": "code",
   "execution_count": 3,
   "metadata": {},
   "outputs": [
    {
     "data": {
      "text/plain": [
       "1610612741"
      ]
     },
     "execution_count": 3,
     "metadata": {},
     "output_type": "execute_result"
    }
   ],
   "source": [
    "events_df.home[0]['teamid']"
   ]
  },
  {
   "cell_type": "code",
   "execution_count": 4,
   "metadata": {},
   "outputs": [
    {
     "data": {
      "text/plain": [
       "1610612761"
      ]
     },
     "execution_count": 4,
     "metadata": {},
     "output_type": "execute_result"
    }
   ],
   "source": [
    "events_df.visitor[0]['teamid']"
   ]
  },
  {
   "cell_type": "markdown",
   "metadata": {},
   "source": [
    "#### Get some suplementary data"
   ]
  },
  {
   "cell_type": "code",
   "execution_count": 5,
   "metadata": {
    "collapsed": true
   },
   "outputs": [],
   "source": [
    "# # play id to play roles/positions\n",
    "# id_role = id_position(events_df)\n",
    "# check_game_roles_duplicates(id_role)\n",
    "\n",
    "# # its possible that F has similar role as G-f or F-G, we create empty slots to ensure meta order\n",
    "# # ddentify defending and offending runs (this is included in process_moments)\n",
    "# court_index = Data.load_csv('./meta_data/court_index.csv')\n",
    "# court_index = dict(zip(court_index.game_id, court_index.court_position))\n",
    "\n",
    "# # home and visitor ids\n",
    "# homeid = events_df.loc[0].home['teamid']\n",
    "# awayid = events_df.loc[0].visitor['teamid']"
   ]
  },
  {
   "cell_type": "markdown",
   "metadata": {},
   "source": [
    "### FILTER EVENTS"
   ]
  },
  {
   "cell_type": "code",
   "execution_count": 6,
   "metadata": {
    "collapsed": true
   },
   "outputs": [],
   "source": [
    "# events_df.loc[3].playbyplay.to_dict('list')"
   ]
  },
  {
   "cell_type": "code",
   "execution_count": 7,
   "metadata": {
    "collapsed": true
   },
   "outputs": [],
   "source": [
    "# events_df.moments[3]"
   ]
  },
  {
   "cell_type": "code",
   "execution_count": 8,
   "metadata": {
    "collapsed": true
   },
   "outputs": [],
   "source": [
    "# n_event = 233\n",
    "# P = PlotGame('0021500196', main_dir, game_dir)\n",
    "# for i in range(len(events_df.moments[n_event])):\n",
    "#     P.load_moment2img(game_data, n_event, i)"
   ]
  },
  {
   "cell_type": "markdown",
   "metadata": {},
   "source": [
    "### as we saw that the playbyplay description of events is not accurate, so for now at least we will not try to filter by events"
   ]
  },
  {
   "cell_type": "code",
   "execution_count": 9,
   "metadata": {
    "collapsed": true
   },
   "outputs": [],
   "source": [
    "def remove_non_eleven(events_df, event_length_th=25, verbose=False):\n",
    "    df = events_df.copy()\n",
    "    home_id = df.loc[0]['home']['teamid']\n",
    "    away_id = df.loc[0]['visitor']['teamid']\n",
    "    def remove_non_eleven_(moments, event_length_th=25, verbose=False):\n",
    "        ''' Go through each moment, when encounters balls not present on court,\n",
    "            or less than 10 players, discard these moments and then chunk the following moments \n",
    "            to as another event.\n",
    "\n",
    "            Motivations: balls out of bound or throwing the ball at side line will\n",
    "                probably create a lot noise for the defend trajectory learning model.\n",
    "                We could add the case where players are less than 10 (it could happen),\n",
    "                but this is not allowed in the model and it requres certain input dimension.\n",
    "\n",
    "            moments: A list of moments\n",
    "            event_length_th: The minimum length of an event\n",
    "\n",
    "            segments: A list of events (or, list of moments) e.g. [ms1, ms2] where msi = [m1, m2]\n",
    "        '''\n",
    "\n",
    "        segments = []\n",
    "        segment = []\n",
    "        # looping through each moment\n",
    "        for i in range(len(moments)):\n",
    "            # get moment dimension\n",
    "            moment_dim = len(moments[i][5])\n",
    "            # 1 bball + 10 players\n",
    "            if moment_dim == 11:\n",
    "                segment.append(moments[i])\n",
    "            # less than ten players or basketball is not on the court\n",
    "            else:\n",
    "    #             print('less than 11')\n",
    "                # only grab these satisfy the length threshold\n",
    "                if len(segment) >= event_length_th:\n",
    "                    segments.append(segment)\n",
    "                # reset the segment to empty list\n",
    "                segment = []\n",
    "        # grab the last one\n",
    "        if len(segment) >= event_length_th:\n",
    "            segments.append(segment)\n",
    "        if len(segments) == 0:\n",
    "            if verbose: print('Warning: Zero length event returned')\n",
    "        return segments\n",
    "    # process for each event (row)\n",
    "    df['chunked_moments'] = df.moments.apply(lambda m: remove_non_eleven_(m, event_length_th, verbose))\n",
    "    # in case there's zero length event\n",
    "    df = df[df['chunked_moments'].apply(lambda e: len(e)) != 0]\n",
    "    df['chunked_moments'] = df['chunked_moments'].apply(lambda e: e[0])\n",
    "    return df['chunked_moments'].values, {'home_id': home_id, 'away_id': away_id}"
   ]
  },
  {
   "cell_type": "code",
   "execution_count": 10,
   "metadata": {
    "collapsed": true
   },
   "outputs": [],
   "source": [
    "r, team_ids = remove_non_eleven(events_df)"
   ]
  },
  {
   "cell_type": "code",
   "execution_count": 11,
   "metadata": {},
   "outputs": [
    {
     "data": {
      "text/plain": [
       "True"
      ]
     },
     "execution_count": 11,
     "metadata": {},
     "output_type": "execute_result"
    }
   ],
   "source": [
    "type(r[0]) == list"
   ]
  },
  {
   "cell_type": "code",
   "execution_count": 12,
   "metadata": {
    "collapsed": true
   },
   "outputs": [],
   "source": [
    "events_df1 = pd.DataFrame({'moments': r})"
   ]
  },
  {
   "cell_type": "code",
   "execution_count": 13,
   "metadata": {
    "collapsed": true
   },
   "outputs": [],
   "source": [
    "def chunk_shotclock(events_df, event_length_th=25, verbose=False):\n",
    "    df = events_df.copy()\n",
    "    def chunk_shotclock_(moments, event_length_th, verbose):\n",
    "        ''' When encounters ~24secs or game stops, chunk the moment to another event.\n",
    "            shot clock test:\n",
    "            1) c = [20.1, 20, 19, None,18, 12, 9, 7, 23.59, 23.59, 24, 12, 10, None, None, 10]\n",
    "              result = [[20.1, 20, 19], [18, 12, 9, 7], [23.59], [23.59], [24, 12, 10]]\n",
    "            2) c = [20.1, 20, 19, None, None,18, 12, 9, 7, 7, 7, 23.59, 23.59, 24, 12, 10, None, None, 10]\n",
    "              result = [[20.1, 20, 19], [18, 12, 9, 7], [7], [7], [23.59], [23.59], [24, 12, 10]]\n",
    "\n",
    "            Motivations: game flow would make sharp change when there's 24s or \n",
    "            something happened on the court s.t. the shot clock is stopped, thus discard\n",
    "            these special moments and remake the following valid moments to be next event.\n",
    "\n",
    "            moments: A list of moments\n",
    "            event_length_th: The minimum length of an event\n",
    "            verbose: print out exceptions or not\n",
    "\n",
    "            segments: A list of events (or, list of moments) e.g. [ms1, ms2] where msi = [m1, m2] \n",
    "        '''\n",
    "\n",
    "        segments = []\n",
    "        segment = []\n",
    "        # naturally we won't get the last moment, but it should be okay\n",
    "        for i in range(len(moments)-1):\n",
    "            current_shot_clock_i = moments[i][3]\n",
    "            next_shot_clock_i = moments[i+1][3]\n",
    "            # sometimes the shot clock value is None, thus cannot compare\n",
    "            try:\n",
    "                # if the game is still going i.e. sc is decreasing\n",
    "                if next_shot_clock_i < current_shot_clock_i:\n",
    "                    segment.append(moments[i])\n",
    "                # for any reason the game is sstopped or reset\n",
    "                else:\n",
    "                    # not forget the last moment before game reset or stopped\n",
    "                    if current_shot_clock_i < 24.:\n",
    "                        segment.append(moments[i])\n",
    "                    # add length condition\n",
    "                    if len(segment) >= event_length_th:\n",
    "                        segments.append(segment)\n",
    "                    # reset the segment to empty list\n",
    "                    segment = []\n",
    "            # None value\n",
    "            except Exception as e:\n",
    "                if verbose: print(e)\n",
    "                # not forget the last valid moment before None value\n",
    "                if current_shot_clock_i != None:\n",
    "                    segment.append(moments[i])    \n",
    "                if len(segment) >= event_length_th:\n",
    "                    segments.append(segment)\n",
    "                # reset the segment to empty list\n",
    "                segment = []\n",
    "\n",
    "        # grab the last one\n",
    "        if len(segment) >= event_length_th:\n",
    "            segments.append(segment)            \n",
    "        if len(segments) == 0:\n",
    "            if verbose: print('Warning: Zero length event returned')\n",
    "        return segments\n",
    "    \n",
    "    # process for each event (row)\n",
    "    df['chunked_moments'] = df.moments.apply(lambda m: chunk_shotclock_(m, event_length_th, verbose))\n",
    "    # in case there's zero length event\n",
    "    df = df[df['chunked_moments'].apply(lambda e: len(e)) != 0]\n",
    "    df['chunked_moments'] = df['chunked_moments'].apply(lambda e: e[0])\n",
    "    return df['chunked_moments'].values"
   ]
  },
  {
   "cell_type": "code",
   "execution_count": 14,
   "metadata": {
    "collapsed": true
   },
   "outputs": [],
   "source": [
    "r1 = chunk_shotclock(events_df1)\n",
    "events_df2 = pd.DataFrame({'moments': r1})"
   ]
  },
  {
   "cell_type": "code",
   "execution_count": 15,
   "metadata": {
    "collapsed": true
   },
   "outputs": [],
   "source": [
    "def chunk_halfcourt(events_df, event_length_th=25, verbose=False):\n",
    "    df = events_df.copy()\n",
    "    def chunk_halfcourt_(moments, event_length_th, verbose):\n",
    "        ''' Discard any plays that are not single sided. When the play switches \n",
    "            court withhin one event, we chunk it to be as another event\n",
    "        '''\n",
    "\n",
    "        # NBA court size 94 by 50 feet\n",
    "        half_court = 94/2. # feet\n",
    "        cleaned = []\n",
    "\n",
    "        # remove any moments where two teams are not playing at either side of the court\n",
    "        for i in moments:\n",
    "            # the x coordinates is on the 3rd or 2 ind of the matrix,\n",
    "            # the first and second is team_id and player_id\n",
    "            team1x = np.array(i[5])[1:6, :][:, 2]    # player data starts from 1, 0 ind is bball\n",
    "            team2x = np.array(i[5])[6:11, :][:, 2]\n",
    "            # if both team are on the left court:\n",
    "            if sum(team1x <= half_court)==5 and sum(team2x <= half_court)==5:\n",
    "                cleaned.append(i)\n",
    "            elif sum(team1x >= half_court)==5 and sum(team2x >= half_court)==5:\n",
    "                cleaned.append(i)\n",
    "\n",
    "        # if teamns playing court changed during same list of moments,\n",
    "        # chunk it to another event\n",
    "        segments = []\n",
    "        segment = []\n",
    "        for i in range(len(cleaned)-1):\n",
    "            current_mean = np.mean(np.array(cleaned[i][5])[:, 2], axis=0)\n",
    "            current_pos = 'R' if current_mean >= half_court else 'L'\n",
    "            next_mean = np.mean(np.array(cleaned[i+1][5])[:, 2], axis=0)\n",
    "            next_pos = 'R' if next_mean >= half_court else 'L'\n",
    "\n",
    "            # the next moment both team are still on same side as current\n",
    "            if next_pos == current_pos:\n",
    "                segment.append(cleaned[i])\n",
    "            else:\n",
    "                if len(segment) >= event_length_th:\n",
    "                    segments.append(segment)\n",
    "                segment = []\n",
    "        # grab the last one\n",
    "        if len(segment) >= event_length_th:\n",
    "            segments.append(segment)            \n",
    "        if len(segments) == 0:\n",
    "            if verbose: print('Warning: Zero length event returned')\n",
    "        return segments\n",
    "    \n",
    "    # process for each event (row)\n",
    "    df['chunked_moments'] = df.moments.apply(lambda m: chunk_halfcourt_(m, event_length_th, verbose))\n",
    "    # in case there's zero length event\n",
    "    df = df[df['chunked_moments'].apply(lambda e: len(e)) != 0]\n",
    "    df['chunked_moments'] = df['chunked_moments'].apply(lambda e: e[0])\n",
    "    return df['chunked_moments'].values"
   ]
  },
  {
   "cell_type": "code",
   "execution_count": 16,
   "metadata": {
    "collapsed": true
   },
   "outputs": [],
   "source": [
    "r2 = chunk_halfcourt(events_df2)\n",
    "events_df3 = pd.DataFrame({'moments': r2})"
   ]
  },
  {
   "cell_type": "code",
   "execution_count": 17,
   "metadata": {
    "collapsed": true,
    "scrolled": true
   },
   "outputs": [],
   "source": [
    "# court_index"
   ]
  },
  {
   "cell_type": "code",
   "execution_count": 18,
   "metadata": {},
   "outputs": [
    {
     "data": {
      "text/plain": [
       "1"
      ]
     },
     "execution_count": 18,
     "metadata": {},
     "output_type": "execute_result"
    }
   ],
   "source": [
    "court_index = pd.read_csv('./meta_data/court_index.csv')\n",
    "court_index = dict(zip(court_index.game_id, court_index.court_position))\n",
    "court_index[int('0021500196')]"
   ]
  },
  {
   "cell_type": "code",
   "execution_count": 19,
   "metadata": {
    "collapsed": true
   },
   "outputs": [],
   "source": [
    "def reorder_teams(events_df, game_id):\n",
    "    df = events_df.copy()\n",
    "    def reorder_teams_(input_moments, game_id):\n",
    "        ''' 1) the matrix always lays as home top and away bot VERIFIED\n",
    "            2) the court index indicate which side the top team (home team) defends VERIFIED\n",
    "\n",
    "            Reorder the team position s.t. the defending team is always the first \n",
    "\n",
    "            input_moments: A list moments\n",
    "            game_id: str of the game id\n",
    "        '''\n",
    "        # now we want to reorder the team position based on meta data\n",
    "        court_index = pd.read_csv('./meta_data/court_index.csv')\n",
    "        court_index = dict(zip(court_index.game_id, court_index.court_position))\n",
    "\n",
    "        full_court = 94.\n",
    "        half_court = full_court/2. # feet\n",
    "        home_defense = court_index[int(game_id)]\n",
    "        moments = copy.deepcopy(input_moments)\n",
    "        for i in range(len(moments)):\n",
    "            home_moment_x = np.array(moments[i][5])[1:6,2]\n",
    "            away_moment_x = np.array(moments[i][5])[6:11,2]\n",
    "            quarter = moments[i][0]\n",
    "            # if the home team's basket is on the left\n",
    "            if home_defense == 0:\n",
    "                # first half game\n",
    "                if quarter <= 2:\n",
    "                    # if the home team is over half court, this means they are doing offense\n",
    "                    # and the away team is defending, so switch the away team to top\n",
    "                    if sum(home_moment_x>=half_court)==5 and sum(away_moment_x>=half_court)==5:\n",
    "                        moments[i][5][1:6], moments[i][5][6:11] = moments[i][5][6:11], moments[i][5][1:6]\n",
    "                        for l in moments[i][5][1:6]:\n",
    "                            l[2] = full_court - l[2]\n",
    "                        for l in moments[i][5][6:11]:\n",
    "                            l[2] = full_court - l[2]\n",
    "                # second half game      \n",
    "                elif quarter > 2: # second half game, 3,4 quarter\n",
    "                    # now the home actually gets switch to the other court\n",
    "                    if sum(home_moment_x<=half_court)==5 and sum(away_moment_x<=half_court)==5:\n",
    "                        moments[i][5][1:6], moments[i][5][6:11] = moments[i][5][6:11], moments[i][5][1:6]\n",
    "                    elif sum(home_moment_x>=half_court)==5 and sum(away_moment_x>=half_court)==5:\n",
    "                        for l in moments[i][5][1:6]:\n",
    "                            l[2] = full_court - l[2]\n",
    "                        for l in moments[i][5][6:11]:\n",
    "                            l[2] = full_court - l[2]\n",
    "                else:\n",
    "                    print('Should not be here, check quarter value')\n",
    "            # if the home team's basket is on the right\n",
    "            elif home_defense == 1:\n",
    "                # first half game\n",
    "                if quarter <= 2:\n",
    "                    # if the home team is over half court, this means they are doing offense\n",
    "                    # and the away team is defending, so switch the away team to top\n",
    "                    if sum(home_moment_x<=half_court)==5 and sum(away_moment_x<=half_court)==5:\n",
    "                        moments[i][5][1:6], moments[i][5][6:11] = moments[i][5][6:11], moments[i][5][1:6]\n",
    "                    elif sum(home_moment_x>=half_court)==5 and sum(away_moment_x>=half_court)==5:\n",
    "                        for l in moments[i][5][1:6]:\n",
    "                            l[2] = full_court - l[2]\n",
    "                        for l in moments[i][5][6:11]:\n",
    "                            l[2] = full_court - l[2]\n",
    "                # second half game      \n",
    "                elif quarter > 2: # second half game, 3,4 quarter\n",
    "                    # now the home actually gets switch to the other court\n",
    "                    if sum(home_moment_x>=half_court)==5 and sum(away_moment_x>=half_court)==5:\n",
    "                        moments[i][5][1:6], moments[i][5][6:11] = moments[i][5][6:11], moments[i][5][1:6]\n",
    "                        for l in moments[i][5][1:6]:\n",
    "                            l[2] = full_court - l[2]\n",
    "                        for l in moments[i][5][6:11]:\n",
    "                            l[2] = full_court - l[2]\n",
    "                else:\n",
    "                    print('Should not be here, check quarter value')\n",
    "        return moments\n",
    "    return [reorder_teams_(m, game_id) for m in df.moments.values]"
   ]
  },
  {
   "cell_type": "code",
   "execution_count": 20,
   "metadata": {},
   "outputs": [
    {
     "data": {
      "text/plain": [
       "1610612741"
      ]
     },
     "execution_count": 20,
     "metadata": {},
     "output_type": "execute_result"
    }
   ],
   "source": [
    "home_id"
   ]
  },
  {
   "cell_type": "code",
   "execution_count": 21,
   "metadata": {},
   "outputs": [
    {
     "data": {
      "text/plain": [
       "0"
      ]
     },
     "execution_count": 21,
     "metadata": {},
     "output_type": "execute_result"
    }
   ],
   "source": [
    "court_index[int(game_id)]"
   ]
  },
  {
   "cell_type": "code",
   "execution_count": null,
   "metadata": {
    "collapsed": true
   },
   "outputs": [],
   "source": []
  },
  {
   "cell_type": "code",
   "execution_count": null,
   "metadata": {
    "collapsed": true
   },
   "outputs": [],
   "source": []
  },
  {
   "cell_type": "code",
   "execution_count": 22,
   "metadata": {
    "collapsed": true
   },
   "outputs": [],
   "source": [
    "r3 = reorder_teams(events_df3, game_id)\n",
    "events_df4 = pd.DataFrame({'moments': r3})"
   ]
  },
  {
   "cell_type": "code",
   "execution_count": null,
   "metadata": {
    "collapsed": true
   },
   "outputs": [],
   "source": []
  },
  {
   "cell_type": "code",
   "execution_count": 23,
   "metadata": {},
   "outputs": [
    {
     "data": {
      "text/plain": [
       "[1,\n",
       " 1451351428029,\n",
       " 708.28,\n",
       " 12.78,\n",
       " None,\n",
       " [[-1, -1, 18.38063, 14.07976, 8.56325],\n",
       "  [1610612741, 2200, 11.15334, 21.35529, 0.0],\n",
       "  [1610612741, 201959, 16.79035, 20.55978, 0.0],\n",
       "  [1610612741, 201565, 9.12233, 39.32051, 0.0],\n",
       "  [1610612741, 202710, 21.15543, 32.71616, 0.0],\n",
       "  [1610612741, 202703, 8.40459, 11.67492, 0.0],\n",
       "  [1610612761, 2449, 24.18381, 44.21187, 0.0],\n",
       "  [1610612761, 201960, 1.06327, 2.54971, 0.0],\n",
       "  [1610612761, 200768, 7.28146, 48.40417, 0.0],\n",
       "  [1610612761, 201942, 18.1243, 14.25539, 0.0],\n",
       "  [1610612761, 202687, 10.82794, 26.70275, 0.0]]]"
      ]
     },
     "execution_count": 23,
     "metadata": {},
     "output_type": "execute_result"
    }
   ],
   "source": [
    "r3[0][0]"
   ]
  },
  {
   "cell_type": "code",
   "execution_count": 24,
   "metadata": {
    "collapsed": true
   },
   "outputs": [],
   "source": [
    "m = np.array(r3[0][0][5])"
   ]
  },
  {
   "cell_type": "code",
   "execution_count": 25,
   "metadata": {},
   "outputs": [
    {
     "data": {
      "text/plain": [
       "array([-1.     , -1.     , 18.38063, 14.07976,  8.56325])"
      ]
     },
     "execution_count": 25,
     "metadata": {},
     "output_type": "execute_result"
    }
   ],
   "source": [
    "m[0]"
   ]
  },
  {
   "cell_type": "code",
   "execution_count": 26,
   "metadata": {},
   "outputs": [
    {
     "data": {
      "text/plain": [
       "array([1.61061274e+09, 2.20000000e+03, 1.11533400e+01, 2.13552900e+01,\n",
       "       0.00000000e+00])"
      ]
     },
     "execution_count": 26,
     "metadata": {},
     "output_type": "execute_result"
    }
   ],
   "source": [
    "m[1]"
   ]
  },
  {
   "cell_type": "code",
   "execution_count": 27,
   "metadata": {
    "collapsed": true
   },
   "outputs": [],
   "source": [
    "# features = np.concatenate((m[1:11, 2:4].reshape(-1), m[0][2:5], np.array([r3[0][0][0]]), np.array([r3[0][0][2]])))#,2]]))"
   ]
  },
  {
   "cell_type": "code",
   "execution_count": 28,
   "metadata": {
    "collapsed": true
   },
   "outputs": [],
   "source": [
    "# features"
   ]
  },
  {
   "cell_type": "code",
   "execution_count": 29,
   "metadata": {
    "collapsed": true
   },
   "outputs": [],
   "source": [
    "# len(features)"
   ]
  },
  {
   "cell_type": "code",
   "execution_count": 30,
   "metadata": {
    "collapsed": true
   },
   "outputs": [],
   "source": [
    "# events_df4.moments.loc[0]"
   ]
  },
  {
   "cell_type": "code",
   "execution_count": 31,
   "metadata": {
    "collapsed": true
   },
   "outputs": [],
   "source": [
    "def flatten_moments(events_df):\n",
    "    df = events_df.copy()\n",
    "    def flatten_moment(moment):\n",
    "        m = np.array(moment[5])\n",
    "        features = np.concatenate((m[1:11, 2:4].reshape(-1),    # x,y of all 10 players \n",
    "                                   m[0][2:5],                   # basketball x,y,z \n",
    "                                   np.array([moment[0]]),       # quarter number \n",
    "                                   np.array([moment[2]]),       # time in seconds left to the end of the period\n",
    "                                   np.array([moment[3]])))      # shot clock \n",
    "        return features\n",
    "    \n",
    "    def get_team_ids(moment):\n",
    "        m = np.array(moment[5])\n",
    "        team_id1 = set(m[1:6, 0])\n",
    "        team_id2 = set(m[6:11, 0])\n",
    "        assert len(team_id1) == len(team_id2) == 1\n",
    "        assert team_id1 != team_id2\n",
    "        return [list(team_id1)[0], list(team_id2)[0]]\n",
    "        \n",
    "        \n",
    "    df['flattened'] = df.moments.apply(lambda ms: [flatten_moment(m) for m in ms])\n",
    "    df['team_ids'] = df.moments.apply(lambda ms: get_team_ids(ms[0])) # just use the first one to determine        \n",
    "    \n",
    "    return df['flattened'].values, df['team_ids'].values\n",
    "\n",
    "r4, team_ids = flatten_moments(events_df4)\n",
    "events_df5 = pd.DataFrame({'moments': r4})   \n",
    "\n",
    "\n",
    "def create_static_features(events_df):\n",
    "    df = events_df.copy()\n",
    "    def create_static_features_(moment):\n",
    "        ''' moment: flatten moment i.e. (25=10*2+3+2,)'''\n",
    "        # distance of each players to the ball\n",
    "        player_xy = moment[:10*2]\n",
    "        b_xy = moment[10*2:10*2+2]\n",
    "        hoop_xy = np.array([3.917, 25])\n",
    "\n",
    "        def disp_(pxy, target):\n",
    "            # dispacement to bball\n",
    "            disp = pxy.reshape(-1, 2) - np.tile(target, (10, 1))\n",
    "            r = np.sqrt(disp[:,0]**2 + disp[:, 1]**2)               # r \n",
    "            cos_theta = disp[:, 0]/r                                # costheta\n",
    "            sin_theta = disp[:, 1]/r                                # sintheta\n",
    "            theta = np.arccos(cos_theta)                            # theta\n",
    "            return np.concatenate((r, cos_theta, sin_theta, theta))\n",
    "        return np.concatenate((moment, disp_(player_xy, b_xy), disp_(player_xy, hoop_xy)))\n",
    "    df['enriched'] = df.moments.apply(lambda ms: np.vstack([create_static_features_(m) for m in ms]))\n",
    "    return df['enriched'].values\n",
    "    \n",
    "r5 = create_static_features(events_df5)\n",
    "events_df6 = pd.DataFrame({'moments': r5})"
   ]
  },
  {
   "cell_type": "code",
   "execution_count": 32,
   "metadata": {
    "collapsed": true
   },
   "outputs": [],
   "source": [
    "def create_dynamic_features(events_df, fs):\n",
    "    df = events_df.copy()\n",
    "    def create_dynamic_features_(moments, fs):\n",
    "        ''' moments: (moments length, n existing features)'''\n",
    "        pxy = moments[:, :23] # get the players x,y and basketball x,y,z coordinates\n",
    "        next_pxy = np.roll(pxy, -1, axis=0) # get next frame value\n",
    "        vel = ((next_pxy - pxy)/fs)[:-1, :] # the last velocity is not meaningful\n",
    "        # when we combine this back to the original features, we shift one done,\n",
    "        # i.e. [p1, p2, ..., pT] combine [_, p2-p1, ...., pT-pT_1]\n",
    "        # the reason why we shift is that we don't want to leak next position info\n",
    "        return np.column_stack([moments[1:, :], vel])\n",
    "    df['enriched'] = df.moments.apply(lambda ms: create_dynamic_features_(ms, fs))\n",
    "    return df['enriched'].values\n"
   ]
  },
  {
   "cell_type": "code",
   "execution_count": 33,
   "metadata": {
    "collapsed": true
   },
   "outputs": [],
   "source": [
    "r6 = create_dynamic_features(events_df6, 1/25.)\n",
    "events_df7 = pd.DataFrame({'moments': r6})"
   ]
  },
  {
   "cell_type": "code",
   "execution_count": 34,
   "metadata": {},
   "outputs": [
    {
     "data": {
      "text/plain": [
       "array([ 1.09922700e+01,  2.13145200e+01,  1.64770900e+01,  2.04079900e+01,\n",
       "        9.04023000e+00,  3.92987900e+01,  2.12817200e+01,  3.28909500e+01,\n",
       "        8.39265000e+00,  1.16947200e+01,  2.42594200e+01,  4.41244400e+01,\n",
       "        1.11990000e+00,  2.57540000e+00,  7.33219000e+00,  4.82904400e+01,\n",
       "        1.80694800e+01,  1.42062100e+01,  1.04847800e+01,  2.66978100e+01,\n",
       "        1.82924900e+01,  1.41473300e+01,  8.97331000e+00,  1.00000000e+00,\n",
       "        7.08240000e+02,  1.27500000e+01,  1.02304362e+01,  6.51855358e+00,\n",
       "        2.67992585e+01,  1.89804844e+01,  1.01991239e+01,  3.05651988e+01,\n",
       "        2.07076655e+01,  3.58591709e+01,  2.30651934e-01,  1.47808959e+01,\n",
       "       -7.13578568e-01, -2.78497366e-01, -3.45243134e-01,  1.57489658e-01,\n",
       "       -9.70655923e-01,  1.95219735e-01, -8.29286623e-01, -3.05648450e-01,\n",
       "       -9.66868114e-01, -5.28229821e-01,  7.00575212e-01,  9.60436993e-01,\n",
       "        9.38513281e-01,  9.87520636e-01, -2.40472616e-01,  9.80759530e-01,\n",
       "       -5.58823494e-01,  9.52144435e-01,  2.55276420e-01,  8.49101440e-01,\n",
       "        2.36538938e+00,  1.85302555e+00,  1.92329416e+00,  1.41264826e+00,\n",
       "        2.89873993e+00,  1.37431484e+00,  2.54862623e+00,  1.88141572e+00,\n",
       "        2.88345907e+00,  2.12731077e+00,  7.97760668e+00,  1.33731977e+01,\n",
       "        1.51889065e+01,  1.90735574e+01,  1.40378744e+01,  2.79205705e+01,\n",
       "        2.25983728e+01,  2.35395012e+01,  1.77988368e+01,  6.78367842e+00,\n",
       "        8.86891305e-01,  9.39198708e-01,  3.37300779e-01,  9.10408039e-01,\n",
       "        3.18826758e-01,  7.28581818e-01, -1.23774398e-01,  1.45083363e-01,\n",
       "        7.95135105e-01,  9.68173842e-01, -4.61978153e-01, -3.43374121e-01,\n",
       "        9.41396932e-01,  4.13711497e-01, -9.47813008e-01,  6.84958783e-01,\n",
       "       -9.92310384e-01,  9.89419435e-01, -6.06432325e-01,  2.50278668e-01,\n",
       "        4.80224341e-01,  3.50507102e-01,  1.22674816e+00,  4.26527045e-01,\n",
       "        1.24630494e+00,  7.54547126e-01,  1.69488896e+00,  1.42519910e+00,\n",
       "        6.51565993e-01,  2.52968073e-01, -4.02675000e+00, -1.01925000e+00,\n",
       "       -7.83150000e+00, -3.79475000e+00, -2.05250000e+00, -5.43000000e-01,\n",
       "        3.15725000e+00,  4.36975000e+00, -2.98500000e-01,  4.95000000e-01,\n",
       "        1.89025000e+00, -2.18575000e+00,  1.41575000e+00,  6.42250000e-01,\n",
       "        1.26825000e+00, -2.84325000e+00, -1.37050000e+00, -1.22950000e+00,\n",
       "       -8.57900000e+00, -1.23500000e-01, -2.20350000e+00,  1.68925000e+00,\n",
       "        1.02515000e+01])"
      ]
     },
     "execution_count": 34,
     "metadata": {},
     "output_type": "execute_result"
    }
   ],
   "source": [
    "r6[0][0]"
   ]
  },
  {
   "cell_type": "markdown",
   "metadata": {},
   "source": [
    "##### role alignment"
   ]
  },
  {
   "cell_type": "code",
   "execution_count": 35,
   "metadata": {},
   "outputs": [
    {
     "data": {
      "text/plain": [
       "129"
      ]
     },
     "execution_count": 35,
     "metadata": {},
     "output_type": "execute_result"
    }
   ],
   "source": [
    "# 10*2 (10 players with x,y) + 3(bball x,y,z) + 1(qtr number) + 1(time left in qtr) + 1(sc) + \n",
    "# 10*(4(r,cos,sin,theta)_bball + 4(r, cos, sin, theta)_hoop) + 10*2 (10 players vx, vy) + 3(bball vx,vy,vz)\n",
    "n_fts = 10*2 + 3 + 1 + 1 + 1 + 10*(4+4) + 10*2 + 3\n",
    "n_fts"
   ]
  },
  {
   "cell_type": "code",
   "execution_count": 36,
   "metadata": {
    "collapsed": true
   },
   "outputs": [],
   "source": [
    "class HiddenStructureLearning:\n",
    "    def __init__(self, events_df):\n",
    "        self.df = events_df.copy()\n",
    "        self.defend_players = list(range(5))\n",
    "        self.offend_players = list(range(5, 10))\n",
    "        \n",
    "    def find_features_ind_(self, player):\n",
    "        assert player < 10\n",
    "        pxy_ind = [player*2, player*2+1]\n",
    "        bball_xy_ind = [2*10, 2*10+1, 2*10+2]\n",
    "        qtr_ind = [23]\n",
    "        time_left_ind = [24]\n",
    "        sc_ind = [25]\n",
    "        polar_bball_ind = [26+player*4, 26+player*4+1, 26+player*4+2, 26+player*4+3]\n",
    "        polar_hoop_ind = [66+player*4, 66+player*4+1, 66+player*4+2, 66+player*4+3]\n",
    "        pvxy_ind = [106+player*2, 106+player*2+1]\n",
    "        bball_vxy_ind = [126, 127, 128]\n",
    "        player_features_ind = pxy_ind + polar_bball_ind + polar_hoop_ind + pvxy_ind\n",
    "#         features_ind = np.array(pxy_ind + bball_xy_ind + qtr_ind + time_left_ind + sc_ind + polar_bball_ind \\\n",
    "#                      + polar_hoop_ind + pvxy_ind + bball_vxy_ind)\n",
    "        features_ind = np.array(pxy_ind + bball_xy_ind + sc_ind + polar_bball_ind \\\n",
    "                     + polar_hoop_ind + pvxy_ind + bball_vxy_ind)\n",
    "        return player_features_ind, features_ind\n",
    "    \n",
    "    def create_hmm_input_(self, player_inds):\n",
    "        event = self.df.moments.values\n",
    "        X = np.concatenate([np.concatenate([ms[:, self.find_features_ind_(player)[1]] for ms in event], axis=0) \\\n",
    "                            for player in player_inds], axis=0)\n",
    "        lengths = np.concatenate([[len(ms) for ms in event] for _ in range(len(player_inds))],\n",
    "                                 axis=0)\n",
    "        assert len(event[0]) == lengths[0]\n",
    "        assert len(event[-1]) == lengths[-1]\n",
    "        return X, lengths\n",
    "    \n",
    "    def train_hmm_(self, player_inds, verbose=True, random_state=42):\n",
    "        from hmmlearn import hmm\n",
    "        assert len(player_inds) == 5 # defend and offend players each are five\n",
    "        X, lengths = self.create_hmm_input_(player_inds=player_inds)\n",
    "        model = hmm.GaussianHMM(n_components=5, \n",
    "                                covariance_type='full', \n",
    "                                n_iter=50, \n",
    "                                random_state=random_state,\n",
    "                                verbose=verbose)\n",
    "        model.fit(X, lengths)\n",
    "        state_sequence = model.predict(X, lengths)\n",
    "        state_sequence_prob = model.predict_proba(X, lengths) # (n_samples, n_components)\n",
    "        n_samples, _ = state_sequence_prob.shape\n",
    "        cmeans = model.means_\n",
    "        return {'X': X,\n",
    "                'lengths': lengths,\n",
    "                'state_sequence': state_sequence.reshape(5, -1), \n",
    "#                 'state_sequence_prob': [state_sequence_prob[i:i+n_samples//5] for i in range(0, n_samples, n_samples//5)], \n",
    "                'state_sequence_prob': state_sequence_prob,\n",
    "                'cmeans': cmeans}\n",
    "    \n",
    "    def assign_roles(self, player_inds, mode='euclidean'):\n",
    "        result = self.train_hmm_(player_inds=player_inds)\n",
    "        if mode == 'euclidean':\n",
    "            ed = distance.cdist(result['X'], result['cmeans'], 'euclidean')\n",
    "        if mode == 'cosine':\n",
    "            ed = distance.cdist(result['X'], result['cmeans'], 'cosine')\n",
    "        elif mode == 'post':\n",
    "            print(np.sum(result['state_sequence_prob'], axis=1))\n",
    "#             assert sum(np.sum(result['state_sequence_prob'], axis=1) == 1) == len(result['state_sequence_prob'])\n",
    "            ed = 1 - result['state_sequence_prob']\n",
    "            \n",
    "        assert len(player_inds) == 5\n",
    "        n = len(ed)//5 # number of sequences for each players\n",
    "        assert len(ed) % 5 == 0 # it should be divisibe by number of players\n",
    "        \n",
    "        def assign_ind_(cost):\n",
    "            row_ind, col_ind = linear_sum_assignment(cost)\n",
    "            return col_ind\n",
    "        \n",
    "        role_assignments = np.array([assign_ind_(ed[np.arange(5)*n + i]) for i in range(n)])\n",
    "        return role_assignments, result\n",
    "    \n",
    "    def reorder_moment(self):\n",
    "        defend_role_assignments, defend_result = self.assign_roles(player_inds=HSL.defend_players)\n",
    "        offend_role_assignments, offend_result = self.assign_roles(player_inds=HSL.offend_players)\n",
    "        \n",
    "        original = copy.deepcopy(self.df.moments.values)\n",
    "        reordered = copy.deepcopy(self.df.moments.values)\n",
    "        def reorder_moment_(original, reordered, role_assignments):\n",
    "            divider = 0\n",
    "            lengths = [len(m) for m in original]\n",
    "            # iteratve through each moments length\n",
    "            for i in range(len(lengths)):\n",
    "                # grab the corresponding moments' reordered roles\n",
    "                ra_i = role_assignments[divider:divider+lengths[i]]\n",
    "                # update the next starting index\n",
    "                divider += lengths[i]\n",
    "                # iterate through each moment in the current moments\n",
    "                for j in range(lengths[i]):\n",
    "                    # iterate through each players\n",
    "                    for p in HSL.defend_players:\n",
    "                        # get the current player feature index\n",
    "                        p_ind = HSL.find_features_ind_(p)[0]\n",
    "                        # get the player feature index corresponding to the reordered role\n",
    "                        re_p_ind = HSL.find_features_ind_(ra_i[j][p])[0]\n",
    "                        reordered[i][j][re_p_ind] = original[i][j][p_ind]\n",
    "            return reordered\n",
    "        reordered_defend = copy.deepcopy(reorder_moment_(original, reordered, defend_role_assignments))\n",
    "        reordered_all = copy.deepcopy(reorder_moment_(original, reordered_defend, offend_role_assignments))\n",
    "        return reordered_all"
   ]
  },
  {
   "cell_type": "code",
   "execution_count": 37,
   "metadata": {
    "collapsed": true
   },
   "outputs": [],
   "source": [
    "# HSL.defend_players"
   ]
  },
  {
   "cell_type": "code",
   "execution_count": 38,
   "metadata": {
    "scrolled": true
   },
   "outputs": [
    {
     "name": "stderr",
     "output_type": "stream",
     "text": [
      "         1    -9364457.4715             +nan\n",
      "         2    -8347618.3232    +1016839.1482\n",
      "         3    -7312731.2810    +1034887.0423\n",
      "         4    -7247373.4453      +65357.8356\n",
      "         5    -7234939.6452      +12433.8001\n",
      "         6    -7224795.4171      +10144.2281\n",
      "         7    -7213962.3048      +10833.1124\n",
      "         8    -7205298.9951       +8663.3097\n",
      "         9    -7197884.0653       +7414.9298\n",
      "        10    -7192165.1247       +5718.9406\n",
      "        11    -7185985.7148       +6179.4099\n",
      "        12    -7180329.3359       +5656.3789\n",
      "        13    -7178879.0334       +1450.3025\n",
      "        14    -7178434.8762        +444.1571\n",
      "        15    -7178204.0477        +230.8285\n",
      "        16    -7178144.0802         +59.9675\n",
      "        17    -7178130.8593         +13.2209\n",
      "        18    -7178078.1963         +52.6631\n",
      "        19    -7178069.2113          +8.9849\n",
      "        20    -7178068.4769          +0.7345\n",
      "        21    -7178068.1952          +0.2816\n",
      "        22    -7178068.0225          +0.1728\n",
      "        23    -7178067.9106          +0.1119\n",
      "        24    -7178067.8501          +0.0604\n",
      "        25    -7178067.8244          +0.0257\n",
      "        26    -7178067.8151          +0.0093\n"
     ]
    },
    {
     "name": "stdout",
     "output_type": "stream",
     "text": [
      "[1. 1. 1. ... 1. 1. 1.]\n"
     ]
    }
   ],
   "source": [
    "HSL = HiddenStructureLearning(events_df7)\n",
    "role_assignments, result1 = HSL.assign_roles(player_inds=HSL.defend_players, mode='post')"
   ]
  },
  {
   "cell_type": "code",
   "execution_count": null,
   "metadata": {},
   "outputs": [],
   "source": [
    "result1['state_sequence']"
   ]
  },
  {
   "cell_type": "code",
   "execution_count": null,
   "metadata": {},
   "outputs": [],
   "source": [
    "result['state_sequence']"
   ]
  },
  {
   "cell_type": "code",
   "execution_count": null,
   "metadata": {},
   "outputs": [],
   "source": [
    "np.sum(result1['state_sequence'][3] == result['state_sequence'][3])"
   ]
  },
  {
   "cell_type": "code",
   "execution_count": null,
   "metadata": {},
   "outputs": [],
   "source": [
    "result['state_sequence'][0].shape"
   ]
  },
  {
   "cell_type": "code",
   "execution_count": 54,
   "metadata": {
    "collapsed": true
   },
   "outputs": [],
   "source": []
  },
  {
   "cell_type": "code",
   "execution_count": 65,
   "metadata": {},
   "outputs": [],
   "source": [
    "# n_rows = [len(i) > 0 for i in test_seq]\n",
    "# n_cols = [i.shape[1] for i in test_seq]\n",
    "# assert len(set(n_cols)) == 1\n",
    "# assert sum(n_rows) == len(n_cols)"
   ]
  },
  {
   "cell_type": "code",
   "execution_count": 66,
   "metadata": {
    "collapsed": true
   },
   "outputs": [],
   "source": [
    "# from preprocessing import subsample_sequence"
   ]
  },
  {
   "cell_type": "code",
   "execution_count": 67,
   "metadata": {},
   "outputs": [],
   "source": [
    "# test_seq[2]"
   ]
  },
  {
   "cell_type": "code",
   "execution_count": 68,
   "metadata": {},
   "outputs": [],
   "source": [
    "# subsample_sequence(test_seq, 2)"
   ]
  },
  {
   "cell_type": "code",
   "execution_count": 74,
   "metadata": {},
   "outputs": [],
   "source": [
    "a = np.array([1,2,3])\n",
    "b = pd.DataFrame({'A':a})"
   ]
  },
  {
   "cell_type": "code",
   "execution_count": 78,
   "metadata": {},
   "outputs": [],
   "source": [
    "b['B'] = b.A.apply(lambda x: np.array([0]*x))"
   ]
  },
  {
   "cell_type": "code",
   "execution_count": 81,
   "metadata": {},
   "outputs": [
    {
     "data": {
      "text/plain": [
       "array([0])"
      ]
     },
     "execution_count": 81,
     "metadata": {},
     "output_type": "execute_result"
    }
   ],
   "source": [
    "b['B'][0]"
   ]
  },
  {
   "cell_type": "code",
   "execution_count": 56,
   "metadata": {},
   "outputs": [
    {
     "data": {
      "text/plain": [
       "[7, 6, 2, 7, 9, 3, 2, 8, 5, 4]"
      ]
     },
     "execution_count": 56,
     "metadata": {},
     "output_type": "execute_result"
    }
   ],
   "source": []
  },
  {
   "cell_type": "code",
   "execution_count": null,
   "metadata": {
    "collapsed": true
   },
   "outputs": [],
   "source": []
  },
  {
   "cell_type": "code",
   "execution_count": null,
   "metadata": {},
   "outputs": [],
   "source": [
    "r = HSL.reorder_moment()"
   ]
  },
  {
   "cell_type": "code",
   "execution_count": null,
   "metadata": {
    "collapsed": true
   },
   "outputs": [],
   "source": [
    "lengths[0]"
   ]
  },
  {
   "cell_type": "code",
   "execution_count": null,
   "metadata": {
    "collapsed": true
   },
   "outputs": [],
   "source": [
    "len(role_assignments)"
   ]
  },
  {
   "cell_type": "code",
   "execution_count": null,
   "metadata": {
    "collapsed": true
   },
   "outputs": [],
   "source": [
    "events_df7.moments.values"
   ]
  },
  {
   "cell_type": "code",
   "execution_count": null,
   "metadata": {
    "collapsed": true
   },
   "outputs": [],
   "source": []
  },
  {
   "cell_type": "code",
   "execution_count": null,
   "metadata": {
    "collapsed": true
   },
   "outputs": [],
   "source": [
    "# original = copy.deepcopy(events_df7.moments.values)\n",
    "# reordered = copy.deepcopy(events_df7.moments.values)\n",
    "# divider = 0\n",
    "# lengths = [len(m) for m in original]\n",
    "# # iteratve through each moments length\n",
    "# for i in range(len(lengths)):\n",
    "# #     print(i, len(lengths))\n",
    "#     # grab the corresponding moments' reordered roles\n",
    "#     ra_i = role_assignments[divider:divider+lengths[i]]\n",
    "#     # update the next starting index\n",
    "#     divider += lengths[i]\n",
    "#     # iterate through each moment in the current moments\n",
    "#     for j in range(lengths[i]):\n",
    "#         # iterate through each players\n",
    "#         for p in HSL.defend_players:\n",
    "#             # get the current player feature index\n",
    "#             p_ind = HSL.find_features_ind_(p)[0]\n",
    "#             # get the player feature index corresponding to the reordered role\n",
    "#             re_p_ind = HSL.find_features_ind_(ra_i[j][p])[0]\n",
    "#             reordered[i][j][re_p_ind] = original[i][j][p_ind] \n",
    "    "
   ]
  },
  {
   "cell_type": "code",
   "execution_count": null,
   "metadata": {
    "collapsed": true
   },
   "outputs": [],
   "source": []
  },
  {
   "cell_type": "code",
   "execution_count": null,
   "metadata": {},
   "outputs": [],
   "source": [
    "r[0]"
   ]
  },
  {
   "cell_type": "code",
   "execution_count": null,
   "metadata": {},
   "outputs": [],
   "source": [
    "team_ids"
   ]
  },
  {
   "cell_type": "code",
   "execution_count": null,
   "metadata": {
    "collapsed": true
   },
   "outputs": [],
   "source": [
    "OHE = OneHotEncoding()\n",
    "final = [np.column_stack((r[i], np.tile(OHE.encode(team_ids[i]), (len(r[i]), 1)))) for i in range(len(r))]"
   ]
  },
  {
   "cell_type": "code",
   "execution_count": null,
   "metadata": {
    "collapsed": true
   },
   "outputs": [],
   "source": []
  },
  {
   "cell_type": "code",
   "execution_count": null,
   "metadata": {
    "collapsed": true
   },
   "outputs": [],
   "source": []
  },
  {
   "cell_type": "code",
   "execution_count": null,
   "metadata": {
    "collapsed": true
   },
   "outputs": [],
   "source": []
  },
  {
   "cell_type": "code",
   "execution_count": null,
   "metadata": {
    "collapsed": true
   },
   "outputs": [],
   "source": []
  },
  {
   "cell_type": "code",
   "execution_count": null,
   "metadata": {
    "collapsed": true
   },
   "outputs": [],
   "source": []
  },
  {
   "cell_type": "code",
   "execution_count": null,
   "metadata": {
    "collapsed": true
   },
   "outputs": [],
   "source": []
  },
  {
   "cell_type": "code",
   "execution_count": null,
   "metadata": {
    "collapsed": true
   },
   "outputs": [],
   "source": []
  },
  {
   "cell_type": "code",
   "execution_count": null,
   "metadata": {
    "collapsed": true
   },
   "outputs": [],
   "source": []
  },
  {
   "cell_type": "code",
   "execution_count": null,
   "metadata": {
    "collapsed": true
   },
   "outputs": [],
   "source": []
  },
  {
   "cell_type": "code",
   "execution_count": null,
   "metadata": {
    "collapsed": true
   },
   "outputs": [],
   "source": []
  },
  {
   "cell_type": "code",
   "execution_count": null,
   "metadata": {
    "collapsed": true
   },
   "outputs": [],
   "source": []
  },
  {
   "cell_type": "code",
   "execution_count": null,
   "metadata": {
    "collapsed": true
   },
   "outputs": [],
   "source": []
  },
  {
   "cell_type": "code",
   "execution_count": null,
   "metadata": {
    "collapsed": true
   },
   "outputs": [],
   "source": []
  },
  {
   "cell_type": "code",
   "execution_count": null,
   "metadata": {
    "collapsed": true
   },
   "outputs": [],
   "source": []
  },
  {
   "cell_type": "code",
   "execution_count": null,
   "metadata": {
    "collapsed": true
   },
   "outputs": [],
   "source": []
  },
  {
   "cell_type": "code",
   "execution_count": null,
   "metadata": {
    "collapsed": true
   },
   "outputs": [],
   "source": []
  },
  {
   "cell_type": "code",
   "execution_count": null,
   "metadata": {
    "collapsed": true
   },
   "outputs": [],
   "source": []
  },
  {
   "cell_type": "code",
   "execution_count": null,
   "metadata": {
    "collapsed": true
   },
   "outputs": [],
   "source": []
  },
  {
   "cell_type": "code",
   "execution_count": null,
   "metadata": {
    "collapsed": true
   },
   "outputs": [],
   "source": [
    "cmeans.shape"
   ]
  },
  {
   "cell_type": "code",
   "execution_count": null,
   "metadata": {
    "collapsed": true
   },
   "outputs": [],
   "source": [
    "result[1]['X']"
   ]
  },
  {
   "cell_type": "code",
   "execution_count": null,
   "metadata": {
    "collapsed": true
   },
   "outputs": [],
   "source": [
    "from scipy.spatial import distance\n",
    "ed = distance.cdist(result[1]['X'], result[1]['cmeans'], 'euclidean')"
   ]
  },
  {
   "cell_type": "code",
   "execution_count": null,
   "metadata": {
    "collapsed": true
   },
   "outputs": [],
   "source": [
    "ed.shape"
   ]
  },
  {
   "cell_type": "code",
   "execution_count": null,
   "metadata": {
    "collapsed": true
   },
   "outputs": [],
   "source": [
    "concated_ms[0]"
   ]
  },
  {
   "cell_type": "code",
   "execution_count": null,
   "metadata": {
    "collapsed": true
   },
   "outputs": [],
   "source": [
    "cmeans[0]"
   ]
  },
  {
   "cell_type": "code",
   "execution_count": null,
   "metadata": {
    "collapsed": true
   },
   "outputs": [],
   "source": [
    "np.sqrt(sum((concated_ms[0]-cmeans[0])**2))"
   ]
  },
  {
   "cell_type": "code",
   "execution_count": null,
   "metadata": {
    "collapsed": true
   },
   "outputs": [],
   "source": [
    "np.sqrt(sum((concated_ms[0]-cmeans[1])**2))"
   ]
  },
  {
   "cell_type": "code",
   "execution_count": null,
   "metadata": {
    "collapsed": true
   },
   "outputs": [],
   "source": [
    "ed[0]"
   ]
  },
  {
   "cell_type": "code",
   "execution_count": null,
   "metadata": {
    "collapsed": true
   },
   "outputs": [],
   "source": [
    "n = len(ed)//5 # number of sequences\n",
    "assert len(ed) % 5 == 0"
   ]
  },
  {
   "cell_type": "code",
   "execution_count": null,
   "metadata": {
    "collapsed": true
   },
   "outputs": [],
   "source": [
    "cost = ed[np.arange(5)*n]\n",
    "cost"
   ]
  },
  {
   "cell_type": "code",
   "execution_count": null,
   "metadata": {
    "collapsed": true
   },
   "outputs": [],
   "source": [
    "# 1) minimize the wrong posterior i.e. 1 - posterior\n",
    "# 2) euclidean distance to the means\n",
    "# 3) adjusted consine similarity to the means"
   ]
  },
  {
   "cell_type": "code",
   "execution_count": null,
   "metadata": {
    "collapsed": true
   },
   "outputs": [],
   "source": []
  },
  {
   "cell_type": "code",
   "execution_count": null,
   "metadata": {
    "collapsed": true
   },
   "outputs": [],
   "source": []
  },
  {
   "cell_type": "code",
   "execution_count": null,
   "metadata": {
    "collapsed": true
   },
   "outputs": [],
   "source": []
  },
  {
   "cell_type": "code",
   "execution_count": null,
   "metadata": {
    "collapsed": true
   },
   "outputs": [],
   "source": []
  },
  {
   "cell_type": "code",
   "execution_count": null,
   "metadata": {
    "collapsed": true
   },
   "outputs": [],
   "source": []
  },
  {
   "cell_type": "code",
   "execution_count": null,
   "metadata": {
    "collapsed": true
   },
   "outputs": [],
   "source": [
    "# defend_X, defend_lengths = create_hmm_input(events_df7, players=list(range(5)))\n",
    "# offend_X, offend_lengths = create_hmm_input(events_df7, players=list(range(5, 10)))"
   ]
  },
  {
   "cell_type": "code",
   "execution_count": null,
   "metadata": {
    "collapsed": true,
    "scrolled": true
   },
   "outputs": [],
   "source": [
    "# defend_model = hmm.GaussianHMM(n_components=5, covariance_type='diag', n_iter=50, verbose=True)#, random_state=42)\n",
    "# defend_model.fit(defend_X, defend_lengths)"
   ]
  },
  {
   "cell_type": "code",
   "execution_count": null,
   "metadata": {
    "collapsed": true,
    "scrolled": false
   },
   "outputs": [],
   "source": [
    "# offend_model = hmm.GaussianHMM(n_components=5, covariance_type='diag', n_iter=50, verbose=True)#, random_state=42)\n",
    "# offend_model.fit(offend_X, offend_lengths)"
   ]
  },
  {
   "cell_type": "code",
   "execution_count": null,
   "metadata": {
    "collapsed": true,
    "scrolled": true
   },
   "outputs": [],
   "source": [
    "# from hmmlearn import hmm\n",
    "# model = hmm.GaussianHMM(n_components=5, covariance_type='diag', n_iter=50, verbose=True)\n",
    "# model.fit(X, lengths)"
   ]
  },
  {
   "cell_type": "code",
   "execution_count": null,
   "metadata": {
    "collapsed": true
   },
   "outputs": [],
   "source": [
    "# cmeans = defend_model.means_\n",
    "# covars = defend_model.covars_"
   ]
  },
  {
   "cell_type": "code",
   "execution_count": null,
   "metadata": {
    "collapsed": true
   },
   "outputs": [],
   "source": [
    "# state_sequence = defend_model.predict(defend_X, defend_lengths)"
   ]
  },
  {
   "cell_type": "code",
   "execution_count": null,
   "metadata": {
    "collapsed": true
   },
   "outputs": [],
   "source": [
    "d = defend_lengths.reshape(-1, 5)"
   ]
  },
  {
   "cell_type": "code",
   "execution_count": null,
   "metadata": {
    "collapsed": true
   },
   "outputs": [],
   "source": [
    "s = state_sequence.reshape(-1, 5)"
   ]
  },
  {
   "cell_type": "code",
   "execution_count": null,
   "metadata": {
    "collapsed": true
   },
   "outputs": [],
   "source": [
    "s.shape[0]"
   ]
  },
  {
   "cell_type": "code",
   "execution_count": null,
   "metadata": {
    "collapsed": true
   },
   "outputs": [],
   "source": [
    "a = np.arange(10)\n",
    "a"
   ]
  },
  {
   "cell_type": "code",
   "execution_count": null,
   "metadata": {
    "collapsed": true
   },
   "outputs": [],
   "source": [
    "a.reshape(5, -1).T"
   ]
  },
  {
   "cell_type": "code",
   "execution_count": null,
   "metadata": {
    "collapsed": true
   },
   "outputs": [],
   "source": [
    "defend_lengths.shape"
   ]
  },
  {
   "cell_type": "code",
   "execution_count": null,
   "metadata": {
    "collapsed": true
   },
   "outputs": [],
   "source": [
    "l = defend_lengths.reshape(5, -1)"
   ]
  },
  {
   "cell_type": "code",
   "execution_count": null,
   "metadata": {
    "collapsed": true
   },
   "outputs": [],
   "source": [
    "l[0,:] == l[1,:]"
   ]
  },
  {
   "cell_type": "code",
   "execution_count": null,
   "metadata": {
    "collapsed": true
   },
   "outputs": [],
   "source": []
  },
  {
   "cell_type": "code",
   "execution_count": null,
   "metadata": {
    "collapsed": true
   },
   "outputs": [],
   "source": []
  },
  {
   "cell_type": "code",
   "execution_count": null,
   "metadata": {
    "collapsed": true
   },
   "outputs": [],
   "source": []
  },
  {
   "cell_type": "code",
   "execution_count": null,
   "metadata": {
    "collapsed": true
   },
   "outputs": [],
   "source": []
  },
  {
   "cell_type": "code",
   "execution_count": null,
   "metadata": {
    "collapsed": true
   },
   "outputs": [],
   "source": []
  },
  {
   "cell_type": "markdown",
   "metadata": {},
   "source": [
    "1) sumsample should only happen all the way until the end, e.g. if velocity is computed after subsample then the direction of the velocity will result in more errors."
   ]
  },
  {
   "cell_type": "code",
   "execution_count": null,
   "metadata": {
    "collapsed": true
   },
   "outputs": [],
   "source": []
  }
 ],
 "metadata": {
  "kernelspec": {
   "display_name": "Python 3",
   "language": "python",
   "name": "python3"
  },
  "language_info": {
   "codemirror_mode": {
    "name": "ipython",
    "version": 3
   },
   "file_extension": ".py",
   "mimetype": "text/x-python",
   "name": "python",
   "nbconvert_exporter": "python",
   "pygments_lexer": "ipython3",
   "version": "3.6.1"
  }
 },
 "nbformat": 4,
 "nbformat_minor": 2
}
