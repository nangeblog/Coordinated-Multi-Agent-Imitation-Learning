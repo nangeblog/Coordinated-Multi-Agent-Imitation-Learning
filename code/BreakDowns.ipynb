{
 "cells": [
  {
   "cell_type": "code",
   "execution_count": 4,
   "metadata": {},
   "outputs": [],
   "source": [
    "import tensorflow as tf\n",
    "from tensorflow.python.ops.rnn import _transpose_batch_time\n",
    "\n",
    "from datetime import datetime\n",
    "import numpy as np\n",
    "import pandas as pd\n",
    "import glob, os, sys, math, warnings, copy, time\n",
    "import matplotlib.pyplot as  plt\n",
    "os.environ[\"TF_CPP_MIN_LOG_LEVEL\"]=\"3\"\n",
    "\n",
    "# customized ftns \n",
    "from preprocessing import *\n",
    "from features import *\n",
    "from utilities import *\n",
    "from model import *\n",
    "from train import train_all_single_policies\n",
    "# ---------------------------------------------------------\n",
    "%matplotlib inline\n",
    "%load_ext autoreload\n",
    "%autoreload 2\n",
    "warnings.filterwarnings('ignore')\n",
    "# warnings.filterwarnings(action='once')\n",
    "# ---------------------------------------------------------\n",
    "# directories\n",
    "main_dir = '../'\n",
    "game_dir = main_dir+'data/'\n",
    "Data = LoadData(main_dir, game_dir)\n",
    "models_path = './models/'"
   ]
  },
  {
   "cell_type": "markdown",
   "metadata": {},
   "source": [
    "#### Load raw data"
   ]
  },
  {
   "cell_type": "code",
   "execution_count": 5,
   "metadata": {},
   "outputs": [
    {
     "name": "stdout",
     "output_type": "stream",
     "text": [
      "raw events shape: (234, 8)\n"
     ]
    },
    {
     "data": {
      "text/html": [
       "<div>\n",
       "<style>\n",
       "    .dataframe thead tr:only-child th {\n",
       "        text-align: right;\n",
       "    }\n",
       "\n",
       "    .dataframe thead th {\n",
       "        text-align: left;\n",
       "    }\n",
       "\n",
       "    .dataframe tbody tr th {\n",
       "        vertical-align: top;\n",
       "    }\n",
       "</style>\n",
       "<table border=\"1\" class=\"dataframe\">\n",
       "  <thead>\n",
       "    <tr style=\"text-align: right;\">\n",
       "      <th></th>\n",
       "      <th>end_time_left</th>\n",
       "      <th>home</th>\n",
       "      <th>moments</th>\n",
       "      <th>orig_events</th>\n",
       "      <th>playbyplay</th>\n",
       "      <th>quarter</th>\n",
       "      <th>start_time_left</th>\n",
       "      <th>visitor</th>\n",
       "    </tr>\n",
       "  </thead>\n",
       "  <tbody>\n",
       "    <tr>\n",
       "      <th>0</th>\n",
       "      <td>716.37</td>\n",
       "      <td>{'abbreviation': 'LAC', 'players': [{'playerid...</td>\n",
       "      <td>[[1, 1448224810037, 720.0, 24.0, None, [[-1, -...</td>\n",
       "      <td>[0]</td>\n",
       "      <td>Empty DataFrame\n",
       "Columns: [GAME_ID, EVENTNUM, E...</td>\n",
       "      <td>1</td>\n",
       "      <td>720.00</td>\n",
       "      <td>{'abbreviation': 'TOR', 'players': [{'playerid...</td>\n",
       "    </tr>\n",
       "    <tr>\n",
       "      <th>1</th>\n",
       "      <td>701.37</td>\n",
       "      <td>{'abbreviation': 'LAC', 'players': [{'playerid...</td>\n",
       "      <td>[[1, 1448224810037, 720.0, 24.0, None, [[-1, -...</td>\n",
       "      <td>[1, 2]</td>\n",
       "      <td>GAME_ID  EVENTNUM  EVENTMSGTYPE  EVENTMS...</td>\n",
       "      <td>1</td>\n",
       "      <td>720.00</td>\n",
       "      <td>{'abbreviation': 'TOR', 'players': [{'playerid...</td>\n",
       "    </tr>\n",
       "    <tr>\n",
       "      <th>2</th>\n",
       "      <td>682.36</td>\n",
       "      <td>{'abbreviation': 'LAC', 'players': [{'playerid...</td>\n",
       "      <td>[[1, 1448224825036, 707.33, 11.37, None, [[-1,...</td>\n",
       "      <td>[3, 4]</td>\n",
       "      <td>GAME_ID  EVENTNUM  EVENTMSGTYPE  EVENTMS...</td>\n",
       "      <td>1</td>\n",
       "      <td>707.33</td>\n",
       "      <td>{'abbreviation': 'TOR', 'players': [{'playerid...</td>\n",
       "    </tr>\n",
       "  </tbody>\n",
       "</table>\n",
       "</div>"
      ],
      "text/plain": [
       "   end_time_left                                               home  \\\n",
       "0         716.37  {'abbreviation': 'LAC', 'players': [{'playerid...   \n",
       "1         701.37  {'abbreviation': 'LAC', 'players': [{'playerid...   \n",
       "2         682.36  {'abbreviation': 'LAC', 'players': [{'playerid...   \n",
       "\n",
       "                                             moments orig_events  \\\n",
       "0  [[1, 1448224810037, 720.0, 24.0, None, [[-1, -...         [0]   \n",
       "1  [[1, 1448224810037, 720.0, 24.0, None, [[-1, -...      [1, 2]   \n",
       "2  [[1, 1448224825036, 707.33, 11.37, None, [[-1,...      [3, 4]   \n",
       "\n",
       "                                          playbyplay  quarter  \\\n",
       "0  Empty DataFrame\n",
       "Columns: [GAME_ID, EVENTNUM, E...        1   \n",
       "1        GAME_ID  EVENTNUM  EVENTMSGTYPE  EVENTMS...        1   \n",
       "2        GAME_ID  EVENTNUM  EVENTMSGTYPE  EVENTMS...        1   \n",
       "\n",
       "   start_time_left                                            visitor  \n",
       "0           720.00  {'abbreviation': 'TOR', 'players': [{'playerid...  \n",
       "1           720.00  {'abbreviation': 'TOR', 'players': [{'playerid...  \n",
       "2           707.33  {'abbreviation': 'TOR', 'players': [{'playerid...  "
      ]
     },
     "execution_count": 5,
     "metadata": {},
     "output_type": "execute_result"
    }
   ],
   "source": [
    "# %%time\n",
    "game_id = '0021500196'\n",
    "game_data = Data.load_game(game_id)\n",
    "events_df = pd.DataFrame(game_data['events'])\n",
    "print('raw events shape:', events_df.shape)\n",
    "events_df.head(3)"
   ]
  },
  {
   "cell_type": "markdown",
   "metadata": {},
   "source": [
    "#### Get some suplementary data"
   ]
  },
  {
   "cell_type": "code",
   "execution_count": 6,
   "metadata": {
    "collapsed": true
   },
   "outputs": [],
   "source": [
    "# # play id to play roles/positions\n",
    "# id_role = id_position(events_df)\n",
    "# check_game_roles_duplicates(id_role)\n",
    "\n",
    "# # its possible that F has similar role as G-f or F-G, we create empty slots to ensure meta order\n",
    "# # ddentify defending and offending runs (this is included in process_moments)\n",
    "# court_index = Data.load_csv('./meta_data/court_index.csv')\n",
    "# court_index = dict(zip(court_index.game_id, court_index.court_position))\n",
    "\n",
    "# # home and visitor ids\n",
    "# homeid = events_df.loc[0].home['teamid']\n",
    "# awayid = events_df.loc[0].visitor['teamid']"
   ]
  },
  {
   "cell_type": "markdown",
   "metadata": {},
   "source": [
    "### FILTER EVENTS"
   ]
  },
  {
   "cell_type": "code",
   "execution_count": 7,
   "metadata": {
    "collapsed": true
   },
   "outputs": [],
   "source": [
    "# events_df.loc[3].playbyplay.to_dict('list')"
   ]
  },
  {
   "cell_type": "code",
   "execution_count": 8,
   "metadata": {
    "collapsed": true
   },
   "outputs": [],
   "source": [
    "# events_df.moments[3]"
   ]
  },
  {
   "cell_type": "code",
   "execution_count": 9,
   "metadata": {
    "collapsed": true
   },
   "outputs": [],
   "source": [
    "# n_event = 233\n",
    "# P = PlotGame('0021500196', main_dir, game_dir)\n",
    "# for i in range(len(events_df.moments[n_event])):\n",
    "#     P.load_moment2img(game_data, n_event, i)"
   ]
  },
  {
   "cell_type": "markdown",
   "metadata": {},
   "source": [
    "### as we saw that the playbyplay description of events is not accurate, so for now at least we will not try to filter by events"
   ]
  },
  {
   "cell_type": "code",
   "execution_count": 37,
   "metadata": {
    "collapsed": true
   },
   "outputs": [],
   "source": [
    "def remove_non_eleven(events_df, event_length_th=25, verbose=False):\n",
    "    df = events_df.copy()\n",
    "    def remove_non_eleven_(moments, event_length_th=25, verbose=False):\n",
    "        ''' Go through each moment, when encounters balls not present on court,\n",
    "            or less than 10 players, discard these moments and then chunk the following moments \n",
    "            to as another event.\n",
    "\n",
    "            Motivations: balls out of bound or throwing the ball at side line will\n",
    "                probably create a lot noise for the defend trajectory learning model.\n",
    "                We could add the case where players are less than 10 (it could happen),\n",
    "                but this is not allowed in the model and it requres certain input dimension.\n",
    "\n",
    "            moments: A list of moments\n",
    "            event_length_th: The minimum length of an event\n",
    "\n",
    "            segments: A list of events (or, list of moments) e.g. [ms1, ms2] where msi = [m1, m2]\n",
    "        '''\n",
    "\n",
    "        segments = []\n",
    "        segment = []\n",
    "        # looping through each moment\n",
    "        for i in range(len(moments)):\n",
    "            # get moment dimension\n",
    "            moment_dim = len(moments[i][5])\n",
    "            # 1 bball + 10 players\n",
    "            if moment_dim == 11:\n",
    "                segment.append(moments[i])\n",
    "            # less than ten players or basketball is not on the court\n",
    "            else:\n",
    "    #             print('less than 11')\n",
    "                # only grab these satisfy the length threshold\n",
    "                if len(segment) >= event_length_th:\n",
    "                    segments.append(segment)\n",
    "                # reset the segment to empty list\n",
    "                segment = []\n",
    "        # grab the last one\n",
    "        if len(segment) >= event_length_th:\n",
    "            segments.append(segment)\n",
    "        if len(segments) == 0:\n",
    "            if verbose: print('Warning: Zero length event returned')\n",
    "        return segments\n",
    "    # process for each event (row)\n",
    "    df['chunked_moments'] = df.moments.apply(lambda m: remove_non_eleven_(m, event_length_th, verbose))\n",
    "    # in case there's zero length event\n",
    "    df = df[df['chunked_moments'].apply(lambda e: len(e)) != 0]\n",
    "    df['chunked_moments'] = df['chunked_moments'].apply(lambda e: e[0])\n",
    "    return df['chunked_moments'].values"
   ]
  },
  {
   "cell_type": "code",
   "execution_count": 39,
   "metadata": {},
   "outputs": [],
   "source": [
    "r = remove_non_eleven(events_df)"
   ]
  },
  {
   "cell_type": "code",
   "execution_count": 50,
   "metadata": {},
   "outputs": [
    {
     "data": {
      "text/plain": [
       "True"
      ]
     },
     "execution_count": 50,
     "metadata": {},
     "output_type": "execute_result"
    }
   ],
   "source": [
    "type(r[0]) == list"
   ]
  },
  {
   "cell_type": "code",
   "execution_count": 51,
   "metadata": {
    "collapsed": true
   },
   "outputs": [],
   "source": [
    "events_df = pd.DataFrame({'moments': r})"
   ]
  },
  {
   "cell_type": "code",
   "execution_count": null,
   "metadata": {
    "collapsed": true
   },
   "outputs": [],
   "source": [
    "def chunk_shotclock(events_df, event_length_th=25, verbose=False):\n",
    "    df = events_df.copy()\n",
    "    def chunk_shotclock_(moments, event_length_th, verbose):\n",
    "        ''' When encounters ~24secs or game stops, chunk the moment to another event.\n",
    "            shot clock test:\n",
    "            1) c = [20.1, 20, 19, None,18, 12, 9, 7, 23.59, 23.59, 24, 12, 10, None, None, 10]\n",
    "              result = [[20.1, 20, 19], [18, 12, 9, 7], [23.59], [23.59], [24, 12, 10]]\n",
    "            2) c = [20.1, 20, 19, None, None,18, 12, 9, 7, 7, 7, 23.59, 23.59, 24, 12, 10, None, None, 10]\n",
    "              result = [[20.1, 20, 19], [18, 12, 9, 7], [7], [7], [23.59], [23.59], [24, 12, 10]]\n",
    "\n",
    "            Motivations: game flow would make sharp change when there's 24s or \n",
    "            something happened on the court s.t. the shot clock is stopped, thus discard\n",
    "            these special moments and remake the following valid moments to be next event.\n",
    "\n",
    "            moments: A list of moments\n",
    "            event_length_th: The minimum length of an event\n",
    "            verbose: print out exceptions or not\n",
    "\n",
    "            segments: A list of events (or, list of moments) e.g. [ms1, ms2] where msi = [m1, m2] \n",
    "        '''\n",
    "\n",
    "        segments = []\n",
    "        segment = []\n",
    "        # naturally we won't get the last moment, but it should be okay\n",
    "        for i in range(len(moments)-1):\n",
    "            current_shot_clock_i = moments[i][3]\n",
    "            next_shot_clock_i = moments[i+1][3]\n",
    "            # sometimes the shot clock value is None, thus cannot compare\n",
    "            try:\n",
    "                # if the game is still going i.e. sc is decreasing\n",
    "                if next_shot_clock_i < current_shot_clock_i:\n",
    "                    segment.append(moments[i])\n",
    "                # for any reason the game is sstopped or reset\n",
    "                else:\n",
    "                    # not forget the last moment before game reset or stopped\n",
    "                    if current_shot_clock_i < 24.:\n",
    "                        segment.append(moments[i])\n",
    "                    # add length condition\n",
    "                    if len(segment) >= event_length_th:\n",
    "                        segments.append(segment)\n",
    "                    # reset the segment to empty list\n",
    "                    segment = []\n",
    "            # None value\n",
    "            except Exception as e:\n",
    "                if verbose: print(e)\n",
    "                # not forget the last valid moment before None value\n",
    "                if current_shot_clock_i != None:\n",
    "                    segment.append(moments[i])    \n",
    "                if len(segment) >= event_length_th:\n",
    "                    segments.append(segment)\n",
    "                # reset the segment to empty list\n",
    "                segment = []\n",
    "\n",
    "        # grab the last one\n",
    "        if len(segment) >= event_length_th:\n",
    "            segments.append(segment)            \n",
    "        if len(segments) == 0:\n",
    "            if verbose: print('Warning: Zero length event returned')\n",
    "        return segments\n",
    "    \n",
    "    # process for each event (row)\n",
    "    df['chunked_moments'] = df.moments.apply(lambda m: chunk_shotclock_(m, event_length_th, verbose))\n",
    "    # in case there's zero length event\n",
    "    df = df[df['chunked_moments'].apply(lambda e: len(e)) != 0]\n",
    "    df['chunked_moments'] = df['chunked_moments'].apply(lambda e: e[0])\n",
    "    return df['chunked_moments'].values\n"
   ]
  },
  {
   "cell_type": "code",
   "execution_count": 54,
   "metadata": {
    "collapsed": true
   },
   "outputs": [],
   "source": [
    "r = chunk_shotclock(events_df)\n",
    "events_df = pd.DataFrame({'moments': r})"
   ]
  },
  {
   "cell_type": "code",
   "execution_count": null,
   "metadata": {
    "collapsed": true
   },
   "outputs": [],
   "source": [
    "def chunk_halfcourt(events_df, event_length_th=25, verbose=False):\n",
    "    df = events_df.copy()\n",
    "    def chunk_halfcourt_(moments, event_length_th, verbose):\n",
    "        ''' Discard any plays that are not single sided. When the play switches \n",
    "            court withhin one event, we chunk it to be as another event\n",
    "        '''\n",
    "\n",
    "        # NBA court size 94 by 50 feet\n",
    "        half_court = 94/2. # feet\n",
    "        cleaned = []\n",
    "\n",
    "        # remove any moments where two teams are not playing at either side of the court\n",
    "        for i in moments:\n",
    "            # the x coordinates is on the 3rd or 2 ind of the matrix,\n",
    "            # the first and second is team_id and player_id\n",
    "            team1x = np.array(i[5])[1:6, :][:, 2]    # player data starts from 1, 0 ind is bball\n",
    "            team2x = np.array(i[5])[6:, :][:, 2]\n",
    "            # if both team are on the left court:\n",
    "            if sum(team1x <= half_court)==5 and sum(team2x <= half_court)==5:\n",
    "                cleaned.append(i)\n",
    "            elif sum(team1x >= half_court)==5 and sum(team2x >= half_court)==5:\n",
    "                cleaned.append(i)\n",
    "\n",
    "        # if teamns playing court changed during same list of moments,\n",
    "        # chunk it to another event\n",
    "        segments = []\n",
    "        segment = []\n",
    "        for i in range(len(cleaned)-1):\n",
    "            current_mean = np.mean(np.array(cleaned[i][5])[:, 2], axis=0)\n",
    "            current_pos = 'R' if current_mean >= half_court else 'L'\n",
    "            next_mean = np.mean(np.array(cleaned[i+1][5])[:, 2], axis=0)\n",
    "            next_pos = 'R' if next_mean >= half_court else 'L'\n",
    "\n",
    "            # the next moment both team are still on same side as current\n",
    "            if next_pos == current_pos:\n",
    "                segment.append(cleaned[i])\n",
    "            else:\n",
    "                if len(segment) >= event_length_th:\n",
    "                    segments.append(segment)\n",
    "                segment = []\n",
    "        # grab the last one\n",
    "        if len(segment) >= event_length_th:\n",
    "            segments.append(segment)            \n",
    "        if len(segments) == 0:\n",
    "            if verbose: print('Warning: Zero length event returned')\n",
    "        return segments\n",
    "    \n",
    "    # process for each event (row)\n",
    "    df['chunked_moments'] = df.moments.apply(lambda m: chunk_halfcourt_(m, event_length_th, verbose))\n",
    "    # in case there's zero length event\n",
    "    df = df[df['chunked_moments'].apply(lambda e: len(e)) != 0]\n",
    "    df['chunked_moments'] = df['chunked_moments'].apply(lambda e: e[0])\n",
    "    return df['chunked_moments'].values\n"
   ]
  },
  {
   "cell_type": "code",
   "execution_count": 55,
   "metadata": {
    "collapsed": true
   },
   "outputs": [],
   "source": [
    "r = chunk_shotclock(events_df)\n",
    "events_df = pd.DataFrame({'moments': r})"
   ]
  },
  {
   "cell_type": "code",
   "execution_count": null,
   "metadata": {
    "collapsed": true
   },
   "outputs": [],
   "source": [
    "len(single_game2)"
   ]
  },
  {
   "cell_type": "code",
   "execution_count": null,
   "metadata": {
    "collapsed": true
   },
   "outputs": [],
   "source": [
    "events_df.shape[0]"
   ]
  },
  {
   "cell_type": "code",
   "execution_count": null,
   "metadata": {
    "collapsed": true,
    "scrolled": true
   },
   "outputs": [],
   "source": [
    "# court_index"
   ]
  },
  {
   "cell_type": "code",
   "execution_count": null,
   "metadata": {},
   "outputs": [],
   "source": [
    "court_index = Data.load_csv('./meta_data/court_index.csv')\n",
    "court_index = dict(zip(court_index.game_id, court_index.court_position))\n",
    "court_index[int('0021500196')]"
   ]
  },
  {
   "cell_type": "code",
   "execution_count": null,
   "metadata": {},
   "outputs": [],
   "source": [
    "home_id = events_df.loc[0].home['teamid']\n",
    "home_id"
   ]
  },
  {
   "cell_type": "code",
   "execution_count": null,
   "metadata": {},
   "outputs": [],
   "source": [
    "single_game2[-1][0][5]"
   ]
  },
  {
   "cell_type": "code",
   "execution_count": null,
   "metadata": {
    "collapsed": true
   },
   "outputs": [],
   "source": []
  },
  {
   "cell_type": "code",
   "execution_count": null,
   "metadata": {
    "collapsed": true
   },
   "outputs": [],
   "source": [
    "def reorder_teams(input_moments, game_id):\n",
    "    ''' 1) the matrix always lays as home top and away bot VERIFIED\n",
    "        2) the court index indicate which side the top team (home team) defends VERIFIED\n",
    "        \n",
    "        Reorder the team position s.t. the defending team is always the first \n",
    "        \n",
    "        input_moments: A list moments\n",
    "        game_id: str of the game id\n",
    "    '''\n",
    "    # now we want to reorder the team position based on meta data\n",
    "    court_index = Data.load_csv('./meta_data/court_index.csv')\n",
    "    court_index = dict(zip(court_index.game_id, court_index.court_position))\n",
    "    \n",
    "    half_court = 94/2. # feet\n",
    "    home_defense = court_index[int(game_id)]\n",
    "    moments = copy.deepcopy(input_moments)\n",
    "    for i in range(len(moments)):\n",
    "        home_moment_x = np.array(moments[i][5])[1:6,2]\n",
    "        away_moment_x = np.array(moments[i][5])[6:11,2]\n",
    "        quarter = moments[i][0]\n",
    "        # if the home team's basket is on the left\n",
    "        if home_defense == 0:\n",
    "            # first half game\n",
    "            if quarter <= 2:\n",
    "                # if the home team is over half court, this means they are doing offense\n",
    "                # and the away team is defending, so switch the away team to top\n",
    "                if sum(home_moment_x>=half_court) and sum(away_moment_x>=half_court):\n",
    "                    moments[i][5][1:6], moments[i][5][6:11] = moments[i][5][6:11], moments[i][5][1:6]\n",
    "            # second half game      \n",
    "            if quarter > 2: # second half game, 3,4 quarter\n",
    "                # now the home actually gets switch to the other court\n",
    "                if sum(home_moment_x<=half_court) and sum(away_moment_x<=half_court):\n",
    "                    moments[i][5][1:6], moments[i][5][6:11] = moments[i][5][6:11], moments[i][5][1:6]\n",
    "        # if the home team's basket is on the right\n",
    "        elif home_defense == 1:\n",
    "            # first half game\n",
    "            if quarter <= 2:\n",
    "                # if the home team is over half court, this means they are doing offense\n",
    "                # and the away team is defending, so switch the away team to top\n",
    "                if sum(home_moment_x<=half_court) and sum(away_moment_x<=half_court):\n",
    "                    moments[i][5][1:6], moments[i][5][6:11] = moments[i][5][6:11], moments[i][5][1:6]\n",
    "            # second half game      \n",
    "            if quarter > 2: # second half game, 3,4 quarter\n",
    "                # now the home actually gets switch to the other court\n",
    "                if sum(home_moment_x>=half_court) and sum(away_moment_x>=half_court):\n",
    "                    moments[i][5][1:6], moments[i][5][6:11] = moments[i][5][6:11], moments[i][5][1:6]\n",
    "    return moments"
   ]
  },
  {
   "cell_type": "code",
   "execution_count": null,
   "metadata": {
    "collapsed": true
   },
   "outputs": [],
   "source": [
    "single_game3 = [reorder_teams(i, game_id) for i in single_game2]"
   ]
  },
  {
   "cell_type": "code",
   "execution_count": null,
   "metadata": {},
   "outputs": [],
   "source": [
    "single_game3[0]"
   ]
  },
  {
   "cell_type": "code",
   "execution_count": null,
   "metadata": {
    "collapsed": true
   },
   "outputs": [],
   "source": []
  }
 ],
 "metadata": {
  "kernelspec": {
   "display_name": "Python 3",
   "language": "python",
   "name": "python3"
  },
  "language_info": {
   "codemirror_mode": {
    "name": "ipython",
    "version": 3
   },
   "file_extension": ".py",
   "mimetype": "text/x-python",
   "name": "python",
   "nbconvert_exporter": "python",
   "pygments_lexer": "ipython3",
   "version": "3.6.4"
  }
 },
 "nbformat": 4,
 "nbformat_minor": 2
}
