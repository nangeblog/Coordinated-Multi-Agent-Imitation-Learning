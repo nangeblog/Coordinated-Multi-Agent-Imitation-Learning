{
 "cells": [
  {
   "cell_type": "code",
   "execution_count": 1,
   "metadata": {},
   "outputs": [
    {
     "name": "stderr",
     "output_type": "stream",
     "text": [
      "/home/sam/anaconda3/lib/python3.6/importlib/_bootstrap.py:219: RuntimeWarning: compiletime version 3.5 of module 'tensorflow.python.framework.fast_tensor_util' does not match runtime version 3.6\n",
      "  return f(*args, **kwds)\n",
      "/home/sam/anaconda3/lib/python3.6/site-packages/h5py/__init__.py:36: FutureWarning: Conversion of the second argument of issubdtype from `float` to `np.floating` is deprecated. In future, it will be treated as `np.float64 == np.dtype(float).type`.\n",
      "  from ._conv import register_converters as _register_converters\n"
     ]
    }
   ],
   "source": [
    "import tensorflow as tf\n",
    "from tensorflow.python.ops.rnn import _transpose_batch_time\n",
    "\n",
    "from datetime import datetime\n",
    "import numpy as np\n",
    "import pandas as pd\n",
    "import glob, os, sys, math, warnings, copy, time\n",
    "import matplotlib.pyplot as  plt\n",
    "os.environ[\"TF_CPP_MIN_LOG_LEVEL\"]=\"3\"\n",
    "\n",
    "# customized ftns \n",
    "from preprocessing import *\n",
    "from utilities import *\n",
    "from model import *\n",
    "from train import train_all_single_policies\n",
    "# ---------------------------------------------------------\n",
    "%matplotlib inline\n",
    "%load_ext autoreload\n",
    "%autoreload 2\n",
    "warnings.filterwarnings('ignore')\n",
    "# warnings.filterwarnings(action='once')\n",
    "# ---------------------------------------------------------\n",
    "# directories\n",
    "main_dir = '../'\n",
    "game_dir = main_dir+'data/'\n",
    "Data = LoadData(main_dir, game_dir)\n",
    "models_path = './models/'"
   ]
  },
  {
   "cell_type": "markdown",
   "metadata": {},
   "source": [
    "#### Load raw data"
   ]
  },
  {
   "cell_type": "code",
   "execution_count": 79,
   "metadata": {},
   "outputs": [
    {
     "name": "stdout",
     "output_type": "stream",
     "text": [
      "raw events shape: (231, 8)\n"
     ]
    },
    {
     "data": {
      "text/html": [
       "<div>\n",
       "<style>\n",
       "    .dataframe thead tr:only-child th {\n",
       "        text-align: right;\n",
       "    }\n",
       "\n",
       "    .dataframe thead th {\n",
       "        text-align: left;\n",
       "    }\n",
       "\n",
       "    .dataframe tbody tr th {\n",
       "        vertical-align: top;\n",
       "    }\n",
       "</style>\n",
       "<table border=\"1\" class=\"dataframe\">\n",
       "  <thead>\n",
       "    <tr style=\"text-align: right;\">\n",
       "      <th></th>\n",
       "      <th>end_time_left</th>\n",
       "      <th>home</th>\n",
       "      <th>moments</th>\n",
       "      <th>orig_events</th>\n",
       "      <th>playbyplay</th>\n",
       "      <th>quarter</th>\n",
       "      <th>start_time_left</th>\n",
       "      <th>visitor</th>\n",
       "    </tr>\n",
       "  </thead>\n",
       "  <tbody>\n",
       "    <tr>\n",
       "      <th>0</th>\n",
       "      <td>702.31</td>\n",
       "      <td>{'abbreviation': 'CHI', 'players': [{'playerid...</td>\n",
       "      <td>[[1, 1451351428029, 708.28, 12.78, None, [[-1,...</td>\n",
       "      <td>[0]</td>\n",
       "      <td>GAME_ID  EVENTNUM  EVENTMSGTYPE  EVENTMS...</td>\n",
       "      <td>1</td>\n",
       "      <td>708.28</td>\n",
       "      <td>{'abbreviation': 'TOR', 'players': [{'playerid...</td>\n",
       "    </tr>\n",
       "    <tr>\n",
       "      <th>1</th>\n",
       "      <td>686.28</td>\n",
       "      <td>{'abbreviation': 'CHI', 'players': [{'playerid...</td>\n",
       "      <td>[[1, 1451351428029, 708.28, 12.78, None, [[-1,...</td>\n",
       "      <td>[1]</td>\n",
       "      <td>GAME_ID  EVENTNUM  EVENTMSGTYPE  EVENTMS...</td>\n",
       "      <td>1</td>\n",
       "      <td>708.28</td>\n",
       "      <td>{'abbreviation': 'TOR', 'players': [{'playerid...</td>\n",
       "    </tr>\n",
       "    <tr>\n",
       "      <th>2</th>\n",
       "      <td>668.42</td>\n",
       "      <td>{'abbreviation': 'CHI', 'players': [{'playerid...</td>\n",
       "      <td>[[1, 1451351444029, 692.25, 12.21, None, [[-1,...</td>\n",
       "      <td>[2, 3]</td>\n",
       "      <td>GAME_ID  EVENTNUM  EVENTMSGTYPE  EVENTMS...</td>\n",
       "      <td>1</td>\n",
       "      <td>692.25</td>\n",
       "      <td>{'abbreviation': 'TOR', 'players': [{'playerid...</td>\n",
       "    </tr>\n",
       "  </tbody>\n",
       "</table>\n",
       "</div>"
      ],
      "text/plain": [
       "   end_time_left                                               home  \\\n",
       "0         702.31  {'abbreviation': 'CHI', 'players': [{'playerid...   \n",
       "1         686.28  {'abbreviation': 'CHI', 'players': [{'playerid...   \n",
       "2         668.42  {'abbreviation': 'CHI', 'players': [{'playerid...   \n",
       "\n",
       "                                             moments orig_events  \\\n",
       "0  [[1, 1451351428029, 708.28, 12.78, None, [[-1,...         [0]   \n",
       "1  [[1, 1451351428029, 708.28, 12.78, None, [[-1,...         [1]   \n",
       "2  [[1, 1451351444029, 692.25, 12.21, None, [[-1,...      [2, 3]   \n",
       "\n",
       "                                          playbyplay  quarter  \\\n",
       "0        GAME_ID  EVENTNUM  EVENTMSGTYPE  EVENTMS...        1   \n",
       "1        GAME_ID  EVENTNUM  EVENTMSGTYPE  EVENTMS...        1   \n",
       "2        GAME_ID  EVENTNUM  EVENTMSGTYPE  EVENTMS...        1   \n",
       "\n",
       "   start_time_left                                            visitor  \n",
       "0           708.28  {'abbreviation': 'TOR', 'players': [{'playerid...  \n",
       "1           708.28  {'abbreviation': 'TOR', 'players': [{'playerid...  \n",
       "2           692.25  {'abbreviation': 'TOR', 'players': [{'playerid...  "
      ]
     },
     "execution_count": 79,
     "metadata": {},
     "output_type": "execute_result"
    }
   ],
   "source": [
    "# %%time\n",
    "game_id = '0021500463'\n",
    "game_data = Data.load_game(game_id)\n",
    "events_df = pd.DataFrame(game_data['events'])\n",
    "print('raw events shape:', events_df.shape)\n",
    "home_id = events_df.loc[0].home['teamid']\n",
    "events_df.head(3)"
   ]
  },
  {
   "cell_type": "code",
   "execution_count": 80,
   "metadata": {},
   "outputs": [
    {
     "data": {
      "text/plain": [
       "1610612741"
      ]
     },
     "execution_count": 80,
     "metadata": {},
     "output_type": "execute_result"
    }
   ],
   "source": [
    "events_df.home[0]['teamid']"
   ]
  },
  {
   "cell_type": "code",
   "execution_count": 81,
   "metadata": {},
   "outputs": [
    {
     "data": {
      "text/plain": [
       "1610612761"
      ]
     },
     "execution_count": 81,
     "metadata": {},
     "output_type": "execute_result"
    }
   ],
   "source": [
    "events_df.visitor[0]['teamid']"
   ]
  },
  {
   "cell_type": "markdown",
   "metadata": {},
   "source": [
    "#### Get some suplementary data"
   ]
  },
  {
   "cell_type": "code",
   "execution_count": 3,
   "metadata": {
    "collapsed": true
   },
   "outputs": [],
   "source": [
    "# # play id to play roles/positions\n",
    "# id_role = id_position(events_df)\n",
    "# check_game_roles_duplicates(id_role)\n",
    "\n",
    "# # its possible that F has similar role as G-f or F-G, we create empty slots to ensure meta order\n",
    "# # ddentify defending and offending runs (this is included in process_moments)\n",
    "# court_index = Data.load_csv('./meta_data/court_index.csv')\n",
    "# court_index = dict(zip(court_index.game_id, court_index.court_position))\n",
    "\n",
    "# # home and visitor ids\n",
    "# homeid = events_df.loc[0].home['teamid']\n",
    "# awayid = events_df.loc[0].visitor['teamid']"
   ]
  },
  {
   "cell_type": "markdown",
   "metadata": {},
   "source": [
    "### FILTER EVENTS"
   ]
  },
  {
   "cell_type": "code",
   "execution_count": 4,
   "metadata": {
    "collapsed": true
   },
   "outputs": [],
   "source": [
    "# events_df.loc[3].playbyplay.to_dict('list')"
   ]
  },
  {
   "cell_type": "code",
   "execution_count": 5,
   "metadata": {
    "collapsed": true
   },
   "outputs": [],
   "source": [
    "# events_df.moments[3]"
   ]
  },
  {
   "cell_type": "code",
   "execution_count": 6,
   "metadata": {
    "collapsed": true
   },
   "outputs": [],
   "source": [
    "# n_event = 233\n",
    "# P = PlotGame('0021500196', main_dir, game_dir)\n",
    "# for i in range(len(events_df.moments[n_event])):\n",
    "#     P.load_moment2img(game_data, n_event, i)"
   ]
  },
  {
   "cell_type": "markdown",
   "metadata": {},
   "source": [
    "### as we saw that the playbyplay description of events is not accurate, so for now at least we will not try to filter by events"
   ]
  },
  {
   "cell_type": "code",
   "execution_count": 7,
   "metadata": {
    "collapsed": true
   },
   "outputs": [],
   "source": [
    "def remove_non_eleven(events_df, event_length_th=25, verbose=False):\n",
    "    df = events_df.copy()\n",
    "    home_id = df.loc[0]['home']['teamid']\n",
    "    away_id = df.loc[0]['visitor']['teamid']\n",
    "    def remove_non_eleven_(moments, event_length_th=25, verbose=False):\n",
    "        ''' Go through each moment, when encounters balls not present on court,\n",
    "            or less than 10 players, discard these moments and then chunk the following moments \n",
    "            to as another event.\n",
    "\n",
    "            Motivations: balls out of bound or throwing the ball at side line will\n",
    "                probably create a lot noise for the defend trajectory learning model.\n",
    "                We could add the case where players are less than 10 (it could happen),\n",
    "                but this is not allowed in the model and it requres certain input dimension.\n",
    "\n",
    "            moments: A list of moments\n",
    "            event_length_th: The minimum length of an event\n",
    "\n",
    "            segments: A list of events (or, list of moments) e.g. [ms1, ms2] where msi = [m1, m2]\n",
    "        '''\n",
    "\n",
    "        segments = []\n",
    "        segment = []\n",
    "        # looping through each moment\n",
    "        for i in range(len(moments)):\n",
    "            # get moment dimension\n",
    "            moment_dim = len(moments[i][5])\n",
    "            # 1 bball + 10 players\n",
    "            if moment_dim == 11:\n",
    "                segment.append(moments[i])\n",
    "            # less than ten players or basketball is not on the court\n",
    "            else:\n",
    "    #             print('less than 11')\n",
    "                # only grab these satisfy the length threshold\n",
    "                if len(segment) >= event_length_th:\n",
    "                    segments.append(segment)\n",
    "                # reset the segment to empty list\n",
    "                segment = []\n",
    "        # grab the last one\n",
    "        if len(segment) >= event_length_th:\n",
    "            segments.append(segment)\n",
    "        if len(segments) == 0:\n",
    "            if verbose: print('Warning: Zero length event returned')\n",
    "        return segments\n",
    "    # process for each event (row)\n",
    "    df['chunked_moments'] = df.moments.apply(lambda m: remove_non_eleven_(m, event_length_th, verbose))\n",
    "    # in case there's zero length event\n",
    "    df = df[df['chunked_moments'].apply(lambda e: len(e)) != 0]\n",
    "    df['chunked_moments'] = df['chunked_moments'].apply(lambda e: e[0])\n",
    "    return df['chunked_moments'].values, {'home_id': home_id, 'away_id': away_id}"
   ]
  },
  {
   "cell_type": "code",
   "execution_count": 8,
   "metadata": {
    "collapsed": true
   },
   "outputs": [],
   "source": [
    "r, team_ids = remove_non_eleven(events_df)"
   ]
  },
  {
   "cell_type": "code",
   "execution_count": 9,
   "metadata": {},
   "outputs": [
    {
     "data": {
      "text/plain": [
       "True"
      ]
     },
     "execution_count": 9,
     "metadata": {},
     "output_type": "execute_result"
    }
   ],
   "source": [
    "type(r[0]) == list"
   ]
  },
  {
   "cell_type": "code",
   "execution_count": 10,
   "metadata": {
    "collapsed": true
   },
   "outputs": [],
   "source": [
    "events_df1 = pd.DataFrame({'moments': r})"
   ]
  },
  {
   "cell_type": "code",
   "execution_count": 11,
   "metadata": {
    "collapsed": true
   },
   "outputs": [],
   "source": [
    "def chunk_shotclock(events_df, event_length_th=25, verbose=False):\n",
    "    df = events_df.copy()\n",
    "    def chunk_shotclock_(moments, event_length_th, verbose):\n",
    "        ''' When encounters ~24secs or game stops, chunk the moment to another event.\n",
    "            shot clock test:\n",
    "            1) c = [20.1, 20, 19, None,18, 12, 9, 7, 23.59, 23.59, 24, 12, 10, None, None, 10]\n",
    "              result = [[20.1, 20, 19], [18, 12, 9, 7], [23.59], [23.59], [24, 12, 10]]\n",
    "            2) c = [20.1, 20, 19, None, None,18, 12, 9, 7, 7, 7, 23.59, 23.59, 24, 12, 10, None, None, 10]\n",
    "              result = [[20.1, 20, 19], [18, 12, 9, 7], [7], [7], [23.59], [23.59], [24, 12, 10]]\n",
    "\n",
    "            Motivations: game flow would make sharp change when there's 24s or \n",
    "            something happened on the court s.t. the shot clock is stopped, thus discard\n",
    "            these special moments and remake the following valid moments to be next event.\n",
    "\n",
    "            moments: A list of moments\n",
    "            event_length_th: The minimum length of an event\n",
    "            verbose: print out exceptions or not\n",
    "\n",
    "            segments: A list of events (or, list of moments) e.g. [ms1, ms2] where msi = [m1, m2] \n",
    "        '''\n",
    "\n",
    "        segments = []\n",
    "        segment = []\n",
    "        # naturally we won't get the last moment, but it should be okay\n",
    "        for i in range(len(moments)-1):\n",
    "            current_shot_clock_i = moments[i][3]\n",
    "            next_shot_clock_i = moments[i+1][3]\n",
    "            # sometimes the shot clock value is None, thus cannot compare\n",
    "            try:\n",
    "                # if the game is still going i.e. sc is decreasing\n",
    "                if next_shot_clock_i < current_shot_clock_i:\n",
    "                    segment.append(moments[i])\n",
    "                # for any reason the game is sstopped or reset\n",
    "                else:\n",
    "                    # not forget the last moment before game reset or stopped\n",
    "                    if current_shot_clock_i < 24.:\n",
    "                        segment.append(moments[i])\n",
    "                    # add length condition\n",
    "                    if len(segment) >= event_length_th:\n",
    "                        segments.append(segment)\n",
    "                    # reset the segment to empty list\n",
    "                    segment = []\n",
    "            # None value\n",
    "            except Exception as e:\n",
    "                if verbose: print(e)\n",
    "                # not forget the last valid moment before None value\n",
    "                if current_shot_clock_i != None:\n",
    "                    segment.append(moments[i])    \n",
    "                if len(segment) >= event_length_th:\n",
    "                    segments.append(segment)\n",
    "                # reset the segment to empty list\n",
    "                segment = []\n",
    "\n",
    "        # grab the last one\n",
    "        if len(segment) >= event_length_th:\n",
    "            segments.append(segment)            \n",
    "        if len(segments) == 0:\n",
    "            if verbose: print('Warning: Zero length event returned')\n",
    "        return segments\n",
    "    \n",
    "    # process for each event (row)\n",
    "    df['chunked_moments'] = df.moments.apply(lambda m: chunk_shotclock_(m, event_length_th, verbose))\n",
    "    # in case there's zero length event\n",
    "    df = df[df['chunked_moments'].apply(lambda e: len(e)) != 0]\n",
    "    df['chunked_moments'] = df['chunked_moments'].apply(lambda e: e[0])\n",
    "    return df['chunked_moments'].values"
   ]
  },
  {
   "cell_type": "code",
   "execution_count": 12,
   "metadata": {
    "collapsed": true
   },
   "outputs": [],
   "source": [
    "r1 = chunk_shotclock(events_df1)\n",
    "events_df2 = pd.DataFrame({'moments': r1})"
   ]
  },
  {
   "cell_type": "code",
   "execution_count": 13,
   "metadata": {
    "collapsed": true
   },
   "outputs": [],
   "source": [
    "def chunk_halfcourt(events_df, event_length_th=25, verbose=False):\n",
    "    df = events_df.copy()\n",
    "    def chunk_halfcourt_(moments, event_length_th, verbose):\n",
    "        ''' Discard any plays that are not single sided. When the play switches \n",
    "            court withhin one event, we chunk it to be as another event\n",
    "        '''\n",
    "\n",
    "        # NBA court size 94 by 50 feet\n",
    "        half_court = 94/2. # feet\n",
    "        cleaned = []\n",
    "\n",
    "        # remove any moments where two teams are not playing at either side of the court\n",
    "        for i in moments:\n",
    "            # the x coordinates is on the 3rd or 2 ind of the matrix,\n",
    "            # the first and second is team_id and player_id\n",
    "            team1x = np.array(i[5])[1:6, :][:, 2]    # player data starts from 1, 0 ind is bball\n",
    "            team2x = np.array(i[5])[6:11, :][:, 2]\n",
    "            # if both team are on the left court:\n",
    "            if sum(team1x <= half_court)==5 and sum(team2x <= half_court)==5:\n",
    "                cleaned.append(i)\n",
    "            elif sum(team1x >= half_court)==5 and sum(team2x >= half_court)==5:\n",
    "                cleaned.append(i)\n",
    "\n",
    "        # if teamns playing court changed during same list of moments,\n",
    "        # chunk it to another event\n",
    "        segments = []\n",
    "        segment = []\n",
    "        for i in range(len(cleaned)-1):\n",
    "            current_mean = np.mean(np.array(cleaned[i][5])[:, 2], axis=0)\n",
    "            current_pos = 'R' if current_mean >= half_court else 'L'\n",
    "            next_mean = np.mean(np.array(cleaned[i+1][5])[:, 2], axis=0)\n",
    "            next_pos = 'R' if next_mean >= half_court else 'L'\n",
    "\n",
    "            # the next moment both team are still on same side as current\n",
    "            if next_pos == current_pos:\n",
    "                segment.append(cleaned[i])\n",
    "            else:\n",
    "                if len(segment) >= event_length_th:\n",
    "                    segments.append(segment)\n",
    "                segment = []\n",
    "        # grab the last one\n",
    "        if len(segment) >= event_length_th:\n",
    "            segments.append(segment)            \n",
    "        if len(segments) == 0:\n",
    "            if verbose: print('Warning: Zero length event returned')\n",
    "        return segments\n",
    "    \n",
    "    # process for each event (row)\n",
    "    df['chunked_moments'] = df.moments.apply(lambda m: chunk_halfcourt_(m, event_length_th, verbose))\n",
    "    # in case there's zero length event\n",
    "    df = df[df['chunked_moments'].apply(lambda e: len(e)) != 0]\n",
    "    df['chunked_moments'] = df['chunked_moments'].apply(lambda e: e[0])\n",
    "    return df['chunked_moments'].values"
   ]
  },
  {
   "cell_type": "code",
   "execution_count": 14,
   "metadata": {
    "collapsed": true
   },
   "outputs": [],
   "source": [
    "r2 = chunk_halfcourt(events_df2)\n",
    "events_df3 = pd.DataFrame({'moments': r2})"
   ]
  },
  {
   "cell_type": "code",
   "execution_count": 15,
   "metadata": {
    "collapsed": true,
    "scrolled": true
   },
   "outputs": [],
   "source": [
    "# court_index"
   ]
  },
  {
   "cell_type": "code",
   "execution_count": 16,
   "metadata": {},
   "outputs": [
    {
     "data": {
      "text/plain": [
       "1"
      ]
     },
     "execution_count": 16,
     "metadata": {},
     "output_type": "execute_result"
    }
   ],
   "source": [
    "court_index = pd.read_csv('./meta_data/court_index.csv')\n",
    "court_index = dict(zip(court_index.game_id, court_index.court_position))\n",
    "court_index[int('0021500196')]"
   ]
  },
  {
   "cell_type": "code",
   "execution_count": 17,
   "metadata": {
    "collapsed": true
   },
   "outputs": [],
   "source": [
    "def reorder_teams(events_df, game_id):\n",
    "    df = events_df.copy()\n",
    "    def reorder_teams_(input_moments, game_id):\n",
    "        ''' 1) the matrix always lays as home top and away bot VERIFIED\n",
    "            2) the court index indicate which side the top team (home team) defends VERIFIED\n",
    "\n",
    "            Reorder the team position s.t. the defending team is always the first \n",
    "\n",
    "            input_moments: A list moments\n",
    "            game_id: str of the game id\n",
    "        '''\n",
    "        # now we want to reorder the team position based on meta data\n",
    "        court_index = pd.read_csv('./meta_data/court_index.csv')\n",
    "        court_index = dict(zip(court_index.game_id, court_index.court_position))\n",
    "\n",
    "        full_court = 94.\n",
    "        half_court = full_court/2. # feet\n",
    "        home_defense = court_index[int(game_id)]\n",
    "        moments = copy.deepcopy(input_moments)\n",
    "        for i in range(len(moments)):\n",
    "            home_moment_x = np.array(moments[i][5])[1:6,2]\n",
    "            away_moment_x = np.array(moments[i][5])[6:11,2]\n",
    "            quarter = moments[i][0]\n",
    "            # if the home team's basket is on the left\n",
    "            if home_defense == 0:\n",
    "                # first half game\n",
    "                if quarter <= 2:\n",
    "                    # if the home team is over half court, this means they are doing offense\n",
    "                    # and the away team is defending, so switch the away team to top\n",
    "                    if sum(home_moment_x>=half_court)==5 and sum(away_moment_x>=half_court)==5:\n",
    "                        moments[i][5][1:6], moments[i][5][6:11] = moments[i][5][6:11], moments[i][5][1:6]\n",
    "                        for l in moments[i][5][1:6]:\n",
    "                            l[2] = full_court - l[2]\n",
    "                        for l in moments[i][5][6:11]:\n",
    "                            l[2] = full_court - l[2]\n",
    "                # second half game      \n",
    "                elif quarter > 2: # second half game, 3,4 quarter\n",
    "                    # now the home actually gets switch to the other court\n",
    "                    if sum(home_moment_x<=half_court)==5 and sum(away_moment_x<=half_court)==5:\n",
    "                        moments[i][5][1:6], moments[i][5][6:11] = moments[i][5][6:11], moments[i][5][1:6]\n",
    "                    elif sum(home_moment_x>=half_court)==5 and sum(away_moment_x>=half_court)==5:\n",
    "                        for l in moments[i][5][1:6]:\n",
    "                            l[2] = full_court - l[2]\n",
    "                        for l in moments[i][5][6:11]:\n",
    "                            l[2] = full_court - l[2]\n",
    "                else:\n",
    "                    print('Should not be here, check quarter value')\n",
    "            # if the home team's basket is on the right\n",
    "            elif home_defense == 1:\n",
    "                # first half game\n",
    "                if quarter <= 2:\n",
    "                    # if the home team is over half court, this means they are doing offense\n",
    "                    # and the away team is defending, so switch the away team to top\n",
    "                    if sum(home_moment_x<=half_court)==5 and sum(away_moment_x<=half_court)==5:\n",
    "                        moments[i][5][1:6], moments[i][5][6:11] = moments[i][5][6:11], moments[i][5][1:6]\n",
    "                    elif sum(home_moment_x>=half_court)==5 and sum(away_moment_x>=half_court)==5:\n",
    "                        for l in moments[i][5][1:6]:\n",
    "                            l[2] = full_court - l[2]\n",
    "                        for l in moments[i][5][6:11]:\n",
    "                            l[2] = full_court - l[2]\n",
    "                # second half game      \n",
    "                elif quarter > 2: # second half game, 3,4 quarter\n",
    "                    # now the home actually gets switch to the other court\n",
    "                    if sum(home_moment_x>=half_court)==5 and sum(away_moment_x>=half_court)==5:\n",
    "                        moments[i][5][1:6], moments[i][5][6:11] = moments[i][5][6:11], moments[i][5][1:6]\n",
    "                        for l in moments[i][5][1:6]:\n",
    "                            l[2] = full_court - l[2]\n",
    "                        for l in moments[i][5][6:11]:\n",
    "                            l[2] = full_court - l[2]\n",
    "                else:\n",
    "                    print('Should not be here, check quarter value')\n",
    "        return moments\n",
    "    return [reorder_teams_(m, game_id) for m in df.moments.values]"
   ]
  },
  {
   "cell_type": "code",
   "execution_count": null,
   "metadata": {},
   "outputs": [],
   "source": [
    "home_id"
   ]
  },
  {
   "cell_type": "code",
   "execution_count": null,
   "metadata": {},
   "outputs": [],
   "source": [
    "court_index[int(game_id)]"
   ]
  },
  {
   "cell_type": "code",
   "execution_count": null,
   "metadata": {
    "collapsed": true
   },
   "outputs": [],
   "source": []
  },
  {
   "cell_type": "code",
   "execution_count": null,
   "metadata": {
    "collapsed": true
   },
   "outputs": [],
   "source": []
  },
  {
   "cell_type": "code",
   "execution_count": 18,
   "metadata": {
    "collapsed": true
   },
   "outputs": [],
   "source": [
    "r3 = reorder_teams(events_df3, game_id)\n",
    "events_df4 = pd.DataFrame({'moments': r3})"
   ]
  },
  {
   "cell_type": "code",
   "execution_count": null,
   "metadata": {
    "collapsed": true
   },
   "outputs": [],
   "source": []
  },
  {
   "cell_type": "code",
   "execution_count": null,
   "metadata": {},
   "outputs": [],
   "source": [
    "r3[0][0]"
   ]
  },
  {
   "cell_type": "code",
   "execution_count": null,
   "metadata": {
    "collapsed": true
   },
   "outputs": [],
   "source": [
    "m = np.array(r3[0][0][5])"
   ]
  },
  {
   "cell_type": "code",
   "execution_count": null,
   "metadata": {},
   "outputs": [],
   "source": [
    "m[0]"
   ]
  },
  {
   "cell_type": "code",
   "execution_count": null,
   "metadata": {},
   "outputs": [],
   "source": [
    "m[1]"
   ]
  },
  {
   "cell_type": "code",
   "execution_count": null,
   "metadata": {
    "collapsed": true
   },
   "outputs": [],
   "source": [
    "# features = np.concatenate((m[1:11, 2:4].reshape(-1), m[0][2:5], np.array([r3[0][0][0]]), np.array([r3[0][0][2]])))#,2]]))"
   ]
  },
  {
   "cell_type": "code",
   "execution_count": null,
   "metadata": {
    "collapsed": true
   },
   "outputs": [],
   "source": [
    "# features"
   ]
  },
  {
   "cell_type": "code",
   "execution_count": null,
   "metadata": {
    "collapsed": true
   },
   "outputs": [],
   "source": [
    "# len(features)"
   ]
  },
  {
   "cell_type": "code",
   "execution_count": null,
   "metadata": {
    "collapsed": true
   },
   "outputs": [],
   "source": [
    "# events_df4.moments.loc[0]"
   ]
  },
  {
   "cell_type": "code",
   "execution_count": 47,
   "metadata": {
    "collapsed": true
   },
   "outputs": [],
   "source": [
    "def flatten_moments(events_df):\n",
    "    df = events_df.copy()\n",
    "    def flatten_moment(moment):\n",
    "        m = np.array(moment[5])\n",
    "        features = np.concatenate((m[1:11, 2:4].reshape(-1),    # x,y of all 10 players \n",
    "                                   m[0][2:5],                   # basketball x,y,z \n",
    "                                   np.array([moment[0]]),       # quarter number \n",
    "                                   np.array([moment[2]]),       # time in seconds left to the end of the period\n",
    "                                   np.array([moment[3]])))      # shot clock \n",
    "        return features\n",
    "    \n",
    "    def get_team_ids(moment):\n",
    "        m = np.array(moment[5])\n",
    "        team_id1 = set(m[1:6, 0])\n",
    "        team_id2 = set(m[6:11, 0])\n",
    "        assert len(team_id1) == len(team_id2) == 1\n",
    "        assert team_id1 != team_id2\n",
    "        return [list(team_id1)[0], list(team_id2)[0]]\n",
    "        \n",
    "        \n",
    "    df['flattened'] = df.moments.apply(lambda ms: [flatten_moment(m) for m in ms])\n",
    "    df['team_ids'] = df.moments.apply(lambda ms: get_team_ids(ms[0])) # just use the first one to determine        \n",
    "    \n",
    "    return df['flattened'].values, df['team_ids'].values\n",
    "\n",
    "r4, team_ids = flatten_moments(events_df4)\n",
    "events_df5 = pd.DataFrame({'moments': r4})   \n",
    "\n",
    "\n",
    "def create_static_features(events_df):\n",
    "    df = events_df.copy()\n",
    "    def create_static_features_(moment):\n",
    "        ''' moment: flatten moment i.e. (25=10*2+3+2,)'''\n",
    "        # distance of each players to the ball\n",
    "        player_xy = moment[:10*2]\n",
    "        b_xy = moment[10*2:10*2+2]\n",
    "        hoop_xy = np.array([3.917, 25])\n",
    "\n",
    "        def disp_(pxy, target):\n",
    "            # dispacement to bball\n",
    "            disp = pxy.reshape(-1, 2) - np.tile(target, (10, 1))\n",
    "            r = np.sqrt(disp[:,0]**2 + disp[:, 1]**2)               # r \n",
    "            cos_theta = disp[:, 0]/r                                # costheta\n",
    "            sin_theta = disp[:, 1]/r                                # sintheta\n",
    "            theta = np.arccos(cos_theta)                            # theta\n",
    "            return np.concatenate((r, cos_theta, sin_theta, theta))\n",
    "        return np.concatenate((moment, disp_(player_xy, b_xy), disp_(player_xy, hoop_xy)))\n",
    "    df['enriched'] = df.moments.apply(lambda ms: np.vstack([create_static_features_(m) for m in ms]))\n",
    "    return df['enriched'].values\n",
    "    \n",
    "r5 = create_static_features(events_df5)\n",
    "events_df6 = pd.DataFrame({'moments': r5})"
   ]
  },
  {
   "cell_type": "code",
   "execution_count": 20,
   "metadata": {
    "collapsed": true
   },
   "outputs": [],
   "source": [
    "def create_dynamic_features(events_df, fs):\n",
    "    df = events_df.copy()\n",
    "    def create_dynamic_features_(moments, fs):\n",
    "        ''' moments: (moments length, n existing features)'''\n",
    "        pxy = moments[:, :23] # get the players x,y and basketball x,y,z coordinates\n",
    "        next_pxy = np.roll(pxy, -1, axis=0) # get next frame value\n",
    "        vel = ((next_pxy - pxy)/fs)[:-1, :] # the last velocity is not meaningful\n",
    "        # when we combine this back to the original features, we shift one done,\n",
    "        # i.e. [p1, p2, ..., pT] combine [_, p2-p1, ...., pT-pT_1]\n",
    "        # the reason why we shift is that we don't want to leak next position info\n",
    "        return np.column_stack([moments[1:, :], vel])\n",
    "    df['enriched'] = df.moments.apply(lambda ms: create_dynamic_features_(ms, fs))\n",
    "    return df['enriched'].values\n"
   ]
  },
  {
   "cell_type": "code",
   "execution_count": 21,
   "metadata": {
    "collapsed": true
   },
   "outputs": [],
   "source": [
    "r6 = create_dynamic_features(events_df6, 1/25.)\n",
    "events_df7 = pd.DataFrame({'moments': r6})"
   ]
  },
  {
   "cell_type": "code",
   "execution_count": null,
   "metadata": {},
   "outputs": [],
   "source": [
    "r6[0][0]"
   ]
  },
  {
   "cell_type": "markdown",
   "metadata": {},
   "source": [
    "##### role alignment"
   ]
  },
  {
   "cell_type": "code",
   "execution_count": null,
   "metadata": {},
   "outputs": [],
   "source": [
    "# 10*2 (10 players with x,y) + 3(bball x,y,z) + 1(qtr number) + 1(time left in qtr) + 1(sc) + \n",
    "# 10*(4(r,cos,sin,theta)_bball + 4(r, cos, sin, theta)_hoop) + 10*2 (10 players vx, vy) + 3(bball vx,vy,vz)\n",
    "n_fts = 10*2 + 3 + 1 + 1 + 1 + 10*(4+4) + 10*2 + 3\n",
    "n_fts"
   ]
  },
  {
   "cell_type": "code",
   "execution_count": 147,
   "metadata": {},
   "outputs": [],
   "source": [
    "class HiddenStructureLearning:\n",
    "    def __init__(self, events_df):\n",
    "        self.df = events_df.copy()\n",
    "        self.defend_players = list(range(5))\n",
    "        self.offend_players = list(range(5, 10))\n",
    "        \n",
    "    def find_features_ind_(self, player):\n",
    "        assert player < 10\n",
    "        pxy_ind = [player*2, player*2+1]\n",
    "        bball_xy_ind = [2*10, 2*10+1, 2*10+2]\n",
    "        qtr_ind = [23]\n",
    "        time_left_ind = [24]\n",
    "        sc_ind = [25]\n",
    "        polar_bball_ind = [26+player*4, 26+player*4+1, 26+player*4+2, 26+player*4+3]\n",
    "        polar_hoop_ind = [66+player*4, 66+player*4+1, 66+player*4+2, 66+player*4+3]\n",
    "        pvxy_ind = [106+player*2, 106+player*2+1]\n",
    "        bball_vxy_ind = [126, 127, 128]\n",
    "        player_features_ind = pxy_ind + polar_bball_ind + polar_hoop_ind + pvxy_ind\n",
    "#         features_ind = np.array(pxy_ind + bball_xy_ind + qtr_ind + time_left_ind + sc_ind + polar_bball_ind \\\n",
    "#                      + polar_hoop_ind + pvxy_ind + bball_vxy_ind)\n",
    "        features_ind = np.array(pxy_ind + bball_xy_ind + sc_ind + polar_bball_ind \\\n",
    "                     + polar_hoop_ind + pvxy_ind + bball_vxy_ind)\n",
    "        return player_features_ind, features_ind\n",
    "    \n",
    "    def create_hmm_input_(self, player_inds):\n",
    "        event = self.df.moments.values\n",
    "        X = np.concatenate([np.concatenate([ms[:, self.find_features_ind_(player)[1]] for ms in event], axis=0) \\\n",
    "                            for player in player_inds], axis=0)\n",
    "        lengths = np.concatenate([[len(ms) for ms in event] for _ in range(len(player_inds))],\n",
    "                                 axis=0)\n",
    "        assert len(event[0]) == lengths[0]\n",
    "        assert len(event[-1]) == lengths[-1]\n",
    "        return X, lengths\n",
    "    \n",
    "    def train_hmm_(self, player_inds, verbose=True, random_state=42):\n",
    "        from hmmlearn import hmm\n",
    "        assert len(player_inds) == 5 # defend and offend players each are five\n",
    "        X, lengths = self.create_hmm_input_(player_inds=player_inds)\n",
    "        model = hmm.GaussianHMM(n_components=5, \n",
    "                                covariance_type='full', \n",
    "                                n_iter=50, \n",
    "                                random_state=random_state,\n",
    "                                verbose=verbose)\n",
    "        model.fit(X, lengths)\n",
    "        state_sequence = model.predict(X, lengths)\n",
    "        state_sequence_prob = model.predict_proba(X, lengths) # (n_samples, n_components)\n",
    "        n_samples, _ = state_sequence_prob.shape\n",
    "        cmeans = model.means_\n",
    "        return {'X': X,\n",
    "                'lengths': lengths,\n",
    "                'state_sequence': state_sequence.reshape(5, -1), \n",
    "#                 'state_sequence_prob': [state_sequence_prob[i:i+n_samples//5] for i in range(0, n_samples, n_samples//5)], \n",
    "                'state_sequence_prob': state_sequence_prob,\n",
    "                'cmeans': cmeans}\n",
    "    \n",
    "    def assign_roles(self, player_inds, mode='euclidean'):\n",
    "        result = self.train_hmm_(player_inds=player_inds)\n",
    "        if mode == 'euclidean':\n",
    "            ed = distance.cdist(result['X'], result['cmeans'], 'euclidean')\n",
    "        if mode == 'cosine':\n",
    "            ed = distance.cdist(result['X'], result['cmeans'], 'cosine')\n",
    "        elif mode == 'post':\n",
    "            print(np.sum(result['state_sequence_prob'], axis=1))\n",
    "#             assert sum(np.sum(result['state_sequence_prob'], axis=1) == 1) == len(result['state_sequence_prob'])\n",
    "            ed = 1 - result['state_sequence_prob']\n",
    "            \n",
    "        assert len(player_inds) == 5\n",
    "        n = len(ed)//5 # number of sequences for each players\n",
    "        assert len(ed) % 5 == 0 # it should be divisibe by number of players\n",
    "        \n",
    "        def assign_ind_(cost):\n",
    "            row_ind, col_ind = linear_sum_assignment(cost)\n",
    "            return col_ind\n",
    "        \n",
    "        role_assignments = np.array([assign_ind_(ed[np.arange(5)*n + i]) for i in range(n)])\n",
    "        return role_assignments, result\n",
    "    \n",
    "    def reorder_moment(self):\n",
    "        defend_role_assignments, defend_result = self.assign_roles(player_inds=HSL.defend_players)\n",
    "        offend_role_assignments, offend_result = self.assign_roles(player_inds=HSL.offend_players)\n",
    "        \n",
    "        original = copy.deepcopy(self.df.moments.values)\n",
    "        reordered = copy.deepcopy(self.df.moments.values)\n",
    "        def reorder_moment_(original, reordered, role_assignments):\n",
    "            divider = 0\n",
    "            lengths = [len(m) for m in original]\n",
    "            # iteratve through each moments length\n",
    "            for i in range(len(lengths)):\n",
    "                # grab the corresponding moments' reordered roles\n",
    "                ra_i = role_assignments[divider:divider+lengths[i]]\n",
    "                # update the next starting index\n",
    "                divider += lengths[i]\n",
    "                # iterate through each moment in the current moments\n",
    "                for j in range(lengths[i]):\n",
    "                    # iterate through each players\n",
    "                    for p in HSL.defend_players:\n",
    "                        # get the current player feature index\n",
    "                        p_ind = HSL.find_features_ind_(p)[0]\n",
    "                        # get the player feature index corresponding to the reordered role\n",
    "                        re_p_ind = HSL.find_features_ind_(ra_i[j][p])[0]\n",
    "                        reordered[i][j][re_p_ind] = original[i][j][p_ind]\n",
    "            return reordered\n",
    "        reordered_defend = copy.deepcopy(reorder_moment_(original, reordered, defend_role_assignments))\n",
    "        reordered_all = copy.deepcopy(reorder_moment_(original, reordered_defend, offend_role_assignments))\n",
    "        return reordered_all"
   ]
  },
  {
   "cell_type": "code",
   "execution_count": 148,
   "metadata": {},
   "outputs": [],
   "source": [
    "# HSL.defend_players"
   ]
  },
  {
   "cell_type": "code",
   "execution_count": 153,
   "metadata": {
    "scrolled": true
   },
   "outputs": [
    {
     "name": "stderr",
     "output_type": "stream",
     "text": [
      "         1    -6961961.6230             +nan\n",
      "         2    -6223095.0696     +738866.5534\n",
      "         3    -5457083.2027     +766011.8669\n",
      "         4    -5428900.3055      +28182.8972\n",
      "         5    -5425194.9339       +3705.3716\n",
      "         6    -5423083.1225       +2111.8115\n",
      "         7    -5420850.4661       +2232.6563\n",
      "         8    -5417686.7791       +3163.6870\n",
      "         9    -5413920.5361       +3766.2431\n",
      "        10    -5407994.3102       +5926.2259\n",
      "        11    -5398794.7552       +9199.5550\n",
      "        12    -5385666.8862      +13127.8690\n",
      "        13    -5380410.6699       +5256.2163\n",
      "        14    -5377467.7233       +2942.9466\n",
      "        15    -5375496.6079       +1971.1154\n",
      "        16    -5374292.9759       +1203.6320\n",
      "        17    -5373148.2133       +1144.7625\n",
      "        18    -5372335.4761        +812.7373\n",
      "        19    -5372070.4231        +265.0530\n",
      "        20    -5371937.6897        +132.7334\n",
      "        21    -5371840.0009         +97.6888\n",
      "        22    -5371759.6859         +80.3151\n",
      "        23    -5371688.0108         +71.6751\n",
      "        24    -5371618.9365         +69.0742\n",
      "        25    -5371563.6754         +55.2611\n",
      "        26    -5371548.5141         +15.1614\n",
      "        27    -5371526.7178         +21.7962\n",
      "        28    -5371509.4461         +17.2718\n",
      "        29    -5371502.5386          +6.9075\n",
      "        30    -5371493.0485          +9.4901\n",
      "        31    -5371479.5742         +13.4743\n",
      "        32    -5371452.2761         +27.2981\n",
      "        33    -5371436.1210         +16.1551\n",
      "        34    -5371432.8762          +3.2448\n",
      "        35    -5371431.7229          +1.1533\n",
      "        36    -5371431.5052          +0.2177\n",
      "        37    -5371431.4182          +0.0870\n",
      "        38    -5371431.3500          +0.0683\n",
      "        39    -5371431.2747          +0.0753\n",
      "        40    -5371431.1925          +0.0822\n",
      "        41    -5371431.1220          +0.0705\n",
      "        42    -5371431.0792          +0.0428\n",
      "        43    -5371431.0602          +0.0190\n",
      "        44    -5371431.0533          +0.0069\n"
     ]
    },
    {
     "name": "stdout",
     "output_type": "stream",
     "text": [
      "[1. 1. 1. ... 1. 1. 1.]\n"
     ]
    }
   ],
   "source": [
    "HSL = HiddenStructureLearning(events_df7)\n",
    "role_assignments, result1 = HSL.assign_roles(player_inds=HSL.defend_players, mode='post')"
   ]
  },
  {
   "cell_type": "code",
   "execution_count": 111,
   "metadata": {},
   "outputs": [
    {
     "data": {
      "text/plain": [
       "102855"
      ]
     },
     "execution_count": 111,
     "metadata": {},
     "output_type": "execute_result"
    }
   ],
   "source": [
    "len(result['state_sequence_prob'])"
   ]
  },
  {
   "cell_type": "code",
   "execution_count": 122,
   "metadata": {},
   "outputs": [
    {
     "data": {
      "text/plain": [
       "array([[2, 2, 2, ..., 0, 0, 0],\n",
       "       [2, 2, 2, ..., 0, 0, 0],\n",
       "       [4, 4, 4, ..., 3, 3, 3],\n",
       "       [1, 1, 1, ..., 1, 1, 1],\n",
       "       [1, 1, 1, ..., 1, 1, 1]])"
      ]
     },
     "execution_count": 122,
     "metadata": {},
     "output_type": "execute_result"
    }
   ],
   "source": [
    "result1['state_sequence']"
   ]
  },
  {
   "cell_type": "code",
   "execution_count": 135,
   "metadata": {},
   "outputs": [
    {
     "data": {
      "text/plain": [
       "array([[2, 2, 2, ..., 0, 0, 0],\n",
       "       [2, 2, 2, ..., 0, 0, 0],\n",
       "       [4, 4, 4, ..., 3, 3, 3],\n",
       "       [1, 1, 1, ..., 1, 1, 1],\n",
       "       [1, 1, 1, ..., 1, 1, 1]])"
      ]
     },
     "execution_count": 135,
     "metadata": {},
     "output_type": "execute_result"
    }
   ],
   "source": [
    "result['state_sequence']"
   ]
  },
  {
   "cell_type": "code",
   "execution_count": 154,
   "metadata": {},
   "outputs": [
    {
     "data": {
      "text/plain": [
       "20571"
      ]
     },
     "execution_count": 154,
     "metadata": {},
     "output_type": "execute_result"
    }
   ],
   "source": [
    "np.sum(result1['state_sequence'][3] == result['state_sequence'][3])"
   ]
  },
  {
   "cell_type": "code",
   "execution_count": 152,
   "metadata": {},
   "outputs": [
    {
     "data": {
      "text/plain": [
       "(20571,)"
      ]
     },
     "execution_count": 152,
     "metadata": {},
     "output_type": "execute_result"
    }
   ],
   "source": [
    "result['state_sequence'][0].shape"
   ]
  },
  {
   "cell_type": "code",
   "execution_count": null,
   "metadata": {
    "collapsed": true
   },
   "outputs": [],
   "source": []
  },
  {
   "cell_type": "code",
   "execution_count": 78,
   "metadata": {},
   "outputs": [
    {
     "name": "stderr",
     "output_type": "stream",
     "text": [
      "         1    -7198147.6991             +nan\n",
      "         2    -6069064.3676    +1129083.3316\n",
      "         3    -5697375.9452     +371688.4224\n",
      "         4    -5693093.7315       +4282.2137\n",
      "         5    -5692084.5741       +1009.1574\n",
      "         6    -5691385.3626        +699.2116\n",
      "         7    -5690888.9720        +496.3906\n",
      "         8    -5690348.0394        +540.9325\n",
      "         9    -5689058.9191       +1289.1203\n",
      "        10    -5686258.3946       +2800.5245\n",
      "        11    -5681930.1158       +4328.2788\n",
      "        12    -5676300.5469       +5629.5688\n",
      "        13    -5668676.7335       +7623.8135\n",
      "        14    -5650090.4271      +18586.3064\n",
      "        15    -5638684.5577      +11405.8694\n",
      "        16    -5635424.9977       +3259.5601\n",
      "        17    -5634120.4900       +1304.5077\n",
      "        18    -5633840.1175        +280.3725\n",
      "        19    -5633776.9656         +63.1519\n",
      "        20    -5633708.6334         +68.3323\n",
      "        21    -5633683.3989         +25.2344\n",
      "        22    -5633662.4484         +20.9505\n",
      "        23    -5633626.3209         +36.1276\n",
      "        24    -5633575.2271         +51.0937\n",
      "        25    -5633561.6695         +13.5577\n",
      "        26    -5633555.1593          +6.5101\n",
      "        27    -5633551.8223          +3.3370\n",
      "        28    -5633549.6305          +2.1918\n",
      "        29    -5633548.6581          +0.9724\n",
      "        30    -5633548.1782          +0.4799\n",
      "        31    -5633547.9457          +0.2325\n",
      "        32    -5633547.8400          +0.1058\n",
      "        33    -5633547.7920          +0.0480\n",
      "        34    -5633547.7697          +0.0223\n",
      "        35    -5633547.7591          +0.0106\n",
      "        36    -5633547.7539          +0.0052\n",
      "         1    -5184995.7565             +nan\n",
      "         2    -4987883.3944     +197112.3621\n",
      "         3    -4797643.0830     +190240.3114\n",
      "         4    -4744020.1092      +53622.9738\n",
      "         5    -4704634.5123      +39385.5969\n",
      "         6    -4664074.6080      +40559.9043\n",
      "         7    -4645537.4044      +18537.2035\n",
      "         8    -4642046.3517       +3491.0527\n",
      "         9    -4639959.5732       +2086.7785\n",
      "        10    -4638071.4099       +1888.1633\n",
      "        11    -4636490.8031       +1580.6067\n",
      "        12    -4635139.0855       +1351.7176\n",
      "        13    -4634041.1602       +1097.9253\n",
      "        14    -4633378.8668        +662.2934\n",
      "        15    -4633024.6014        +354.2654\n",
      "        16    -4632726.2002        +298.4012\n",
      "        17    -4632500.9592        +225.2410\n",
      "        18    -4632392.1775        +108.7816\n",
      "        19    -4632334.1221         +58.0555\n",
      "        20    -4632300.4079         +33.7141\n",
      "        21    -4632279.1489         +21.2590\n",
      "        22    -4632258.2989         +20.8500\n",
      "        23    -4632232.4425         +25.8564\n",
      "        24    -4632220.7215         +11.7210\n",
      "        25    -4632216.0021          +4.7194\n",
      "        26    -4632211.8782          +4.1240\n",
      "        27    -4632207.0420          +4.8362\n",
      "        28    -4632202.9505          +4.0915\n",
      "        29    -4632199.9016          +3.0488\n",
      "        30    -4632197.1244          +2.7773\n",
      "        31    -4632194.5992          +2.5252\n",
      "        32    -4632193.1439          +1.4552\n",
      "        33    -4632192.3544          +0.7896\n",
      "        34    -4632191.8289          +0.5255\n",
      "        35    -4632191.3011          +0.5278\n",
      "        36    -4632190.5138          +0.7873\n",
      "        37    -4632189.6888          +0.8250\n",
      "        38    -4632189.1195          +0.5693\n",
      "        39    -4632188.5666          +0.5529\n",
      "        40    -4632188.0646          +0.5020\n",
      "        41    -4632187.7318          +0.3328\n",
      "        42    -4632187.5069          +0.2249\n",
      "        43    -4632187.3307          +0.1761\n",
      "        44    -4632187.1818          +0.1489\n",
      "        45    -4632187.0506          +0.1312\n",
      "        46    -4632186.9313          +0.1193\n",
      "        47    -4632186.8200          +0.1113\n",
      "        48    -4632186.7135          +0.1064\n",
      "        49    -4632186.6095          +0.1040\n",
      "        50    -4632186.5059          +0.1036\n"
     ]
    }
   ],
   "source": [
    "r = HSL.reorder_moment()"
   ]
  },
  {
   "cell_type": "code",
   "execution_count": null,
   "metadata": {},
   "outputs": [],
   "source": [
    "lengths[0]"
   ]
  },
  {
   "cell_type": "code",
   "execution_count": null,
   "metadata": {},
   "outputs": [],
   "source": [
    "len(role_assignments)"
   ]
  },
  {
   "cell_type": "code",
   "execution_count": null,
   "metadata": {},
   "outputs": [],
   "source": [
    "events_df7.moments.values"
   ]
  },
  {
   "cell_type": "code",
   "execution_count": null,
   "metadata": {
    "collapsed": true
   },
   "outputs": [],
   "source": []
  },
  {
   "cell_type": "code",
   "execution_count": 29,
   "metadata": {},
   "outputs": [],
   "source": [
    "# original = copy.deepcopy(events_df7.moments.values)\n",
    "# reordered = copy.deepcopy(events_df7.moments.values)\n",
    "# divider = 0\n",
    "# lengths = [len(m) for m in original]\n",
    "# # iteratve through each moments length\n",
    "# for i in range(len(lengths)):\n",
    "# #     print(i, len(lengths))\n",
    "#     # grab the corresponding moments' reordered roles\n",
    "#     ra_i = role_assignments[divider:divider+lengths[i]]\n",
    "#     # update the next starting index\n",
    "#     divider += lengths[i]\n",
    "#     # iterate through each moment in the current moments\n",
    "#     for j in range(lengths[i]):\n",
    "#         # iterate through each players\n",
    "#         for p in HSL.defend_players:\n",
    "#             # get the current player feature index\n",
    "#             p_ind = HSL.find_features_ind_(p)[0]\n",
    "#             # get the player feature index corresponding to the reordered role\n",
    "#             re_p_ind = HSL.find_features_ind_(ra_i[j][p])[0]\n",
    "#             reordered[i][j][re_p_ind] = original[i][j][p_ind] \n",
    "    "
   ]
  },
  {
   "cell_type": "code",
   "execution_count": null,
   "metadata": {
    "collapsed": true
   },
   "outputs": [],
   "source": []
  },
  {
   "cell_type": "code",
   "execution_count": 48,
   "metadata": {},
   "outputs": [
    {
     "data": {
      "text/plain": [
       "array([[17.83854, 25.35957, 24.4642 , ...,  2.01125, -0.068  , -1.77475],\n",
       "       [ 9.49804, 28.69024, 24.56545, ...,  1.78825, -0.0605 , -2.14325],\n",
       "       [ 9.34305, 28.61103, 24.67584, ...,  1.578  , -0.05325, -2.5025 ],\n",
       "       ...,\n",
       "       [31.20334, 13.76215,  4.61717, ...,  0.30975, -0.85325, -1.321  ],\n",
       "       [31.62487, 13.52891,  4.68727, ...,  0.2475 ,  0.53975,  2.08775],\n",
       "       [32.05961, 13.3156 ,  4.77033, ...,  1.15475,  1.367  ,  3.02425]])"
      ]
     },
     "execution_count": 48,
     "metadata": {},
     "output_type": "execute_result"
    }
   ],
   "source": [
    "r[0]"
   ]
  },
  {
   "cell_type": "code",
   "execution_count": 49,
   "metadata": {},
   "outputs": [
    {
     "data": {
      "text/plain": [
       "array([list([1610612761.0, 1610612746.0]),\n",
       "       list([1610612746.0, 1610612761.0]),\n",
       "       list([1610612761.0, 1610612746.0]),\n",
       "       list([1610612746.0, 1610612761.0]),\n",
       "       list([1610612761.0, 1610612746.0]),\n",
       "       list([1610612746.0, 1610612761.0]),\n",
       "       list([1610612746.0, 1610612761.0]),\n",
       "       list([1610612746.0, 1610612761.0]),\n",
       "       list([1610612746.0, 1610612761.0]),\n",
       "       list([1610612761.0, 1610612746.0]),\n",
       "       list([1610612746.0, 1610612761.0]),\n",
       "       list([1610612746.0, 1610612761.0]),\n",
       "       list([1610612746.0, 1610612761.0]),\n",
       "       list([1610612746.0, 1610612761.0]),\n",
       "       list([1610612761.0, 1610612746.0]),\n",
       "       list([1610612761.0, 1610612746.0]),\n",
       "       list([1610612746.0, 1610612761.0]),\n",
       "       list([1610612746.0, 1610612761.0]),\n",
       "       list([1610612746.0, 1610612761.0]),\n",
       "       list([1610612746.0, 1610612761.0]),\n",
       "       list([1610612761.0, 1610612746.0]),\n",
       "       list([1610612761.0, 1610612746.0]),\n",
       "       list([1610612746.0, 1610612761.0]),\n",
       "       list([1610612761.0, 1610612746.0]),\n",
       "       list([1610612761.0, 1610612746.0]),\n",
       "       list([1610612746.0, 1610612761.0]),\n",
       "       list([1610612761.0, 1610612746.0]),\n",
       "       list([1610612746.0, 1610612761.0]),\n",
       "       list([1610612746.0, 1610612761.0]),\n",
       "       list([1610612746.0, 1610612761.0]),\n",
       "       list([1610612761.0, 1610612746.0]),\n",
       "       list([1610612761.0, 1610612746.0]),\n",
       "       list([1610612761.0, 1610612746.0]),\n",
       "       list([1610612761.0, 1610612746.0]),\n",
       "       list([1610612761.0, 1610612746.0]),\n",
       "       list([1610612746.0, 1610612761.0]),\n",
       "       list([1610612746.0, 1610612761.0]),\n",
       "       list([1610612746.0, 1610612761.0]),\n",
       "       list([1610612761.0, 1610612746.0]),\n",
       "       list([1610612761.0, 1610612746.0]),\n",
       "       list([1610612746.0, 1610612761.0]),\n",
       "       list([1610612746.0, 1610612761.0]),\n",
       "       list([1610612746.0, 1610612761.0]),\n",
       "       list([1610612746.0, 1610612761.0]),\n",
       "       list([1610612746.0, 1610612761.0]),\n",
       "       list([1610612761.0, 1610612746.0]),\n",
       "       list([1610612746.0, 1610612761.0]),\n",
       "       list([1610612746.0, 1610612761.0]),\n",
       "       list([1610612746.0, 1610612761.0]),\n",
       "       list([1610612746.0, 1610612761.0]),\n",
       "       list([1610612746.0, 1610612761.0]),\n",
       "       list([1610612761.0, 1610612746.0]),\n",
       "       list([1610612761.0, 1610612746.0]),\n",
       "       list([1610612746.0, 1610612761.0]),\n",
       "       list([1610612761.0, 1610612746.0]),\n",
       "       list([1610612746.0, 1610612761.0]),\n",
       "       list([1610612746.0, 1610612761.0]),\n",
       "       list([1610612761.0, 1610612746.0]),\n",
       "       list([1610612746.0, 1610612761.0]),\n",
       "       list([1610612746.0, 1610612761.0]),\n",
       "       list([1610612746.0, 1610612761.0]),\n",
       "       list([1610612761.0, 1610612746.0]),\n",
       "       list([1610612761.0, 1610612746.0]),\n",
       "       list([1610612746.0, 1610612761.0]),\n",
       "       list([1610612761.0, 1610612746.0]),\n",
       "       list([1610612746.0, 1610612761.0]),\n",
       "       list([1610612746.0, 1610612761.0]),\n",
       "       list([1610612761.0, 1610612746.0]),\n",
       "       list([1610612761.0, 1610612746.0]),\n",
       "       list([1610612746.0, 1610612761.0]),\n",
       "       list([1610612746.0, 1610612761.0]),\n",
       "       list([1610612746.0, 1610612761.0]),\n",
       "       list([1610612746.0, 1610612761.0]),\n",
       "       list([1610612761.0, 1610612746.0]),\n",
       "       list([1610612761.0, 1610612746.0]),\n",
       "       list([1610612761.0, 1610612746.0]),\n",
       "       list([1610612746.0, 1610612761.0]),\n",
       "       list([1610612746.0, 1610612761.0]),\n",
       "       list([1610612761.0, 1610612746.0]),\n",
       "       list([1610612761.0, 1610612746.0]),\n",
       "       list([1610612761.0, 1610612746.0]),\n",
       "       list([1610612746.0, 1610612761.0]),\n",
       "       list([1610612761.0, 1610612746.0]),\n",
       "       list([1610612746.0, 1610612761.0]),\n",
       "       list([1610612761.0, 1610612746.0]),\n",
       "       list([1610612761.0, 1610612746.0]),\n",
       "       list([1610612746.0, 1610612761.0]),\n",
       "       list([1610612746.0, 1610612761.0]),\n",
       "       list([1610612761.0, 1610612746.0]),\n",
       "       list([1610612746.0, 1610612761.0]),\n",
       "       list([1610612746.0, 1610612761.0]),\n",
       "       list([1610612761.0, 1610612746.0]),\n",
       "       list([1610612746.0, 1610612761.0]),\n",
       "       list([1610612746.0, 1610612761.0]),\n",
       "       list([1610612761.0, 1610612746.0]),\n",
       "       list([1610612761.0, 1610612746.0]),\n",
       "       list([1610612746.0, 1610612761.0]),\n",
       "       list([1610612746.0, 1610612761.0]),\n",
       "       list([1610612746.0, 1610612761.0]),\n",
       "       list([1610612761.0, 1610612746.0]),\n",
       "       list([1610612761.0, 1610612746.0]),\n",
       "       list([1610612746.0, 1610612761.0]),\n",
       "       list([1610612761.0, 1610612746.0]),\n",
       "       list([1610612761.0, 1610612746.0]),\n",
       "       list([1610612746.0, 1610612761.0]),\n",
       "       list([1610612761.0, 1610612746.0]),\n",
       "       list([1610612746.0, 1610612761.0]),\n",
       "       list([1610612761.0, 1610612746.0]),\n",
       "       list([1610612746.0, 1610612761.0]),\n",
       "       list([1610612746.0, 1610612761.0]),\n",
       "       list([1610612746.0, 1610612761.0]),\n",
       "       list([1610612761.0, 1610612746.0]),\n",
       "       list([1610612746.0, 1610612761.0]),\n",
       "       list([1610612746.0, 1610612761.0]),\n",
       "       list([1610612746.0, 1610612761.0]),\n",
       "       list([1610612746.0, 1610612761.0]),\n",
       "       list([1610612746.0, 1610612761.0]),\n",
       "       list([1610612746.0, 1610612761.0]),\n",
       "       list([1610612746.0, 1610612761.0]),\n",
       "       list([1610612746.0, 1610612761.0]),\n",
       "       list([1610612746.0, 1610612761.0]),\n",
       "       list([1610612746.0, 1610612761.0]),\n",
       "       list([1610612761.0, 1610612746.0]),\n",
       "       list([1610612761.0, 1610612746.0]),\n",
       "       list([1610612761.0, 1610612746.0]),\n",
       "       list([1610612746.0, 1610612761.0]),\n",
       "       list([1610612746.0, 1610612761.0]),\n",
       "       list([1610612746.0, 1610612761.0]),\n",
       "       list([1610612746.0, 1610612761.0]),\n",
       "       list([1610612761.0, 1610612746.0]),\n",
       "       list([1610612761.0, 1610612746.0]),\n",
       "       list([1610612761.0, 1610612746.0]),\n",
       "       list([1610612746.0, 1610612761.0]),\n",
       "       list([1610612746.0, 1610612761.0]),\n",
       "       list([1610612746.0, 1610612761.0]),\n",
       "       list([1610612746.0, 1610612761.0]),\n",
       "       list([1610612746.0, 1610612761.0]),\n",
       "       list([1610612746.0, 1610612761.0]),\n",
       "       list([1610612746.0, 1610612761.0]),\n",
       "       list([1610612746.0, 1610612761.0]),\n",
       "       list([1610612746.0, 1610612761.0]),\n",
       "       list([1610612746.0, 1610612761.0]),\n",
       "       list([1610612761.0, 1610612746.0]),\n",
       "       list([1610612761.0, 1610612746.0]),\n",
       "       list([1610612761.0, 1610612746.0]),\n",
       "       list([1610612746.0, 1610612761.0]),\n",
       "       list([1610612761.0, 1610612746.0]),\n",
       "       list([1610612761.0, 1610612746.0]),\n",
       "       list([1610612746.0, 1610612761.0]),\n",
       "       list([1610612761.0, 1610612746.0]),\n",
       "       list([1610612761.0, 1610612746.0]),\n",
       "       list([1610612746.0, 1610612761.0]),\n",
       "       list([1610612761.0, 1610612746.0]),\n",
       "       list([1610612761.0, 1610612746.0]),\n",
       "       list([1610612746.0, 1610612761.0]),\n",
       "       list([1610612761.0, 1610612746.0]),\n",
       "       list([1610612761.0, 1610612746.0]),\n",
       "       list([1610612746.0, 1610612761.0]),\n",
       "       list([1610612761.0, 1610612746.0]),\n",
       "       list([1610612761.0, 1610612746.0]),\n",
       "       list([1610612761.0, 1610612746.0]),\n",
       "       list([1610612761.0, 1610612746.0]),\n",
       "       list([1610612761.0, 1610612746.0]),\n",
       "       list([1610612761.0, 1610612746.0])], dtype=object)"
      ]
     },
     "execution_count": 49,
     "metadata": {},
     "output_type": "execute_result"
    }
   ],
   "source": [
    "team_ids"
   ]
  },
  {
   "cell_type": "code",
   "execution_count": 72,
   "metadata": {},
   "outputs": [],
   "source": [
    "OHE = OneHotEncoding()\n",
    "final = [np.column_stack((r[i], np.tile(OHE.encode(team_ids[i]), (len(r[i]), 1)))) for i in range(len(r))]"
   ]
  },
  {
   "cell_type": "code",
   "execution_count": null,
   "metadata": {
    "collapsed": true
   },
   "outputs": [],
   "source": []
  },
  {
   "cell_type": "code",
   "execution_count": null,
   "metadata": {
    "collapsed": true
   },
   "outputs": [],
   "source": []
  },
  {
   "cell_type": "code",
   "execution_count": null,
   "metadata": {
    "collapsed": true
   },
   "outputs": [],
   "source": []
  },
  {
   "cell_type": "code",
   "execution_count": null,
   "metadata": {
    "collapsed": true
   },
   "outputs": [],
   "source": []
  },
  {
   "cell_type": "code",
   "execution_count": null,
   "metadata": {
    "collapsed": true
   },
   "outputs": [],
   "source": []
  },
  {
   "cell_type": "code",
   "execution_count": null,
   "metadata": {
    "collapsed": true
   },
   "outputs": [],
   "source": []
  },
  {
   "cell_type": "code",
   "execution_count": null,
   "metadata": {
    "collapsed": true
   },
   "outputs": [],
   "source": []
  },
  {
   "cell_type": "code",
   "execution_count": null,
   "metadata": {
    "collapsed": true
   },
   "outputs": [],
   "source": []
  },
  {
   "cell_type": "code",
   "execution_count": null,
   "metadata": {
    "collapsed": true
   },
   "outputs": [],
   "source": []
  },
  {
   "cell_type": "code",
   "execution_count": null,
   "metadata": {
    "collapsed": true
   },
   "outputs": [],
   "source": []
  },
  {
   "cell_type": "code",
   "execution_count": null,
   "metadata": {
    "collapsed": true
   },
   "outputs": [],
   "source": []
  },
  {
   "cell_type": "code",
   "execution_count": null,
   "metadata": {
    "collapsed": true
   },
   "outputs": [],
   "source": []
  },
  {
   "cell_type": "code",
   "execution_count": null,
   "metadata": {
    "collapsed": true
   },
   "outputs": [],
   "source": []
  },
  {
   "cell_type": "code",
   "execution_count": null,
   "metadata": {
    "collapsed": true
   },
   "outputs": [],
   "source": []
  },
  {
   "cell_type": "code",
   "execution_count": null,
   "metadata": {
    "collapsed": true
   },
   "outputs": [],
   "source": []
  },
  {
   "cell_type": "code",
   "execution_count": null,
   "metadata": {
    "collapsed": true
   },
   "outputs": [],
   "source": []
  },
  {
   "cell_type": "code",
   "execution_count": null,
   "metadata": {
    "collapsed": true
   },
   "outputs": [],
   "source": []
  },
  {
   "cell_type": "code",
   "execution_count": null,
   "metadata": {
    "collapsed": true
   },
   "outputs": [],
   "source": []
  },
  {
   "cell_type": "code",
   "execution_count": null,
   "metadata": {},
   "outputs": [],
   "source": [
    "cmeans.shape"
   ]
  },
  {
   "cell_type": "code",
   "execution_count": null,
   "metadata": {},
   "outputs": [],
   "source": [
    "result[1]['X']"
   ]
  },
  {
   "cell_type": "code",
   "execution_count": null,
   "metadata": {},
   "outputs": [],
   "source": [
    "from scipy.spatial import distance\n",
    "ed = distance.cdist(result[1]['X'], result[1]['cmeans'], 'euclidean')"
   ]
  },
  {
   "cell_type": "code",
   "execution_count": null,
   "metadata": {},
   "outputs": [],
   "source": [
    "ed.shape"
   ]
  },
  {
   "cell_type": "code",
   "execution_count": null,
   "metadata": {},
   "outputs": [],
   "source": [
    "concated_ms[0]"
   ]
  },
  {
   "cell_type": "code",
   "execution_count": null,
   "metadata": {},
   "outputs": [],
   "source": [
    "cmeans[0]"
   ]
  },
  {
   "cell_type": "code",
   "execution_count": null,
   "metadata": {},
   "outputs": [],
   "source": [
    "np.sqrt(sum((concated_ms[0]-cmeans[0])**2))"
   ]
  },
  {
   "cell_type": "code",
   "execution_count": null,
   "metadata": {},
   "outputs": [],
   "source": [
    "np.sqrt(sum((concated_ms[0]-cmeans[1])**2))"
   ]
  },
  {
   "cell_type": "code",
   "execution_count": null,
   "metadata": {},
   "outputs": [],
   "source": [
    "ed[0]"
   ]
  },
  {
   "cell_type": "code",
   "execution_count": null,
   "metadata": {
    "collapsed": true
   },
   "outputs": [],
   "source": [
    "n = len(ed)//5 # number of sequences\n",
    "assert len(ed) % 5 == 0"
   ]
  },
  {
   "cell_type": "code",
   "execution_count": null,
   "metadata": {},
   "outputs": [],
   "source": [
    "cost = ed[np.arange(5)*n]\n",
    "cost"
   ]
  },
  {
   "cell_type": "code",
   "execution_count": null,
   "metadata": {
    "collapsed": true
   },
   "outputs": [],
   "source": [
    "# 1) minimize the wrong posterior i.e. 1 - posterior\n",
    "# 2) euclidean distance to the means\n",
    "# 3) adjusted consine similarity to the means"
   ]
  },
  {
   "cell_type": "code",
   "execution_count": null,
   "metadata": {
    "collapsed": true
   },
   "outputs": [],
   "source": []
  },
  {
   "cell_type": "code",
   "execution_count": null,
   "metadata": {
    "collapsed": true
   },
   "outputs": [],
   "source": []
  },
  {
   "cell_type": "code",
   "execution_count": null,
   "metadata": {
    "collapsed": true
   },
   "outputs": [],
   "source": []
  },
  {
   "cell_type": "code",
   "execution_count": null,
   "metadata": {
    "collapsed": true
   },
   "outputs": [],
   "source": []
  },
  {
   "cell_type": "code",
   "execution_count": null,
   "metadata": {
    "collapsed": true
   },
   "outputs": [],
   "source": []
  },
  {
   "cell_type": "code",
   "execution_count": null,
   "metadata": {
    "collapsed": true
   },
   "outputs": [],
   "source": [
    "# defend_X, defend_lengths = create_hmm_input(events_df7, players=list(range(5)))\n",
    "# offend_X, offend_lengths = create_hmm_input(events_df7, players=list(range(5, 10)))"
   ]
  },
  {
   "cell_type": "code",
   "execution_count": null,
   "metadata": {
    "collapsed": true,
    "scrolled": true
   },
   "outputs": [],
   "source": [
    "# defend_model = hmm.GaussianHMM(n_components=5, covariance_type='diag', n_iter=50, verbose=True)#, random_state=42)\n",
    "# defend_model.fit(defend_X, defend_lengths)"
   ]
  },
  {
   "cell_type": "code",
   "execution_count": null,
   "metadata": {
    "collapsed": true,
    "scrolled": false
   },
   "outputs": [],
   "source": [
    "# offend_model = hmm.GaussianHMM(n_components=5, covariance_type='diag', n_iter=50, verbose=True)#, random_state=42)\n",
    "# offend_model.fit(offend_X, offend_lengths)"
   ]
  },
  {
   "cell_type": "code",
   "execution_count": null,
   "metadata": {
    "collapsed": true,
    "scrolled": true
   },
   "outputs": [],
   "source": [
    "# from hmmlearn import hmm\n",
    "# model = hmm.GaussianHMM(n_components=5, covariance_type='diag', n_iter=50, verbose=True)\n",
    "# model.fit(X, lengths)"
   ]
  },
  {
   "cell_type": "code",
   "execution_count": null,
   "metadata": {
    "collapsed": true
   },
   "outputs": [],
   "source": [
    "# cmeans = defend_model.means_\n",
    "# covars = defend_model.covars_"
   ]
  },
  {
   "cell_type": "code",
   "execution_count": null,
   "metadata": {
    "collapsed": true
   },
   "outputs": [],
   "source": [
    "# state_sequence = defend_model.predict(defend_X, defend_lengths)"
   ]
  },
  {
   "cell_type": "code",
   "execution_count": null,
   "metadata": {
    "collapsed": true
   },
   "outputs": [],
   "source": [
    "d = defend_lengths.reshape(-1, 5)"
   ]
  },
  {
   "cell_type": "code",
   "execution_count": null,
   "metadata": {
    "collapsed": true
   },
   "outputs": [],
   "source": [
    "s = state_sequence.reshape(-1, 5)"
   ]
  },
  {
   "cell_type": "code",
   "execution_count": null,
   "metadata": {},
   "outputs": [],
   "source": [
    "s.shape[0]"
   ]
  },
  {
   "cell_type": "code",
   "execution_count": null,
   "metadata": {},
   "outputs": [],
   "source": [
    "a = np.arange(10)\n",
    "a"
   ]
  },
  {
   "cell_type": "code",
   "execution_count": null,
   "metadata": {},
   "outputs": [],
   "source": [
    "a.reshape(5, -1).T"
   ]
  },
  {
   "cell_type": "code",
   "execution_count": null,
   "metadata": {},
   "outputs": [],
   "source": [
    "defend_lengths.shape"
   ]
  },
  {
   "cell_type": "code",
   "execution_count": null,
   "metadata": {
    "collapsed": true
   },
   "outputs": [],
   "source": [
    "l = defend_lengths.reshape(5, -1)"
   ]
  },
  {
   "cell_type": "code",
   "execution_count": null,
   "metadata": {},
   "outputs": [],
   "source": [
    "l[0,:] == l[1,:]"
   ]
  },
  {
   "cell_type": "code",
   "execution_count": null,
   "metadata": {
    "collapsed": true
   },
   "outputs": [],
   "source": []
  },
  {
   "cell_type": "code",
   "execution_count": null,
   "metadata": {
    "collapsed": true
   },
   "outputs": [],
   "source": []
  },
  {
   "cell_type": "code",
   "execution_count": null,
   "metadata": {
    "collapsed": true
   },
   "outputs": [],
   "source": []
  },
  {
   "cell_type": "code",
   "execution_count": null,
   "metadata": {
    "collapsed": true
   },
   "outputs": [],
   "source": []
  },
  {
   "cell_type": "code",
   "execution_count": null,
   "metadata": {
    "collapsed": true
   },
   "outputs": [],
   "source": []
  },
  {
   "cell_type": "markdown",
   "metadata": {},
   "source": [
    "1) sumsample should only happen all the way until the end, e.g. if velocity is computed after subsample then the direction of the velocity will result in more errors."
   ]
  },
  {
   "cell_type": "code",
   "execution_count": null,
   "metadata": {
    "collapsed": true
   },
   "outputs": [],
   "source": []
  }
 ],
 "metadata": {
  "kernelspec": {
   "display_name": "Python 3",
   "language": "python",
   "name": "python3"
  },
  "language_info": {
   "codemirror_mode": {
    "name": "ipython",
    "version": 3
   },
   "file_extension": ".py",
   "mimetype": "text/x-python",
   "name": "python",
   "nbconvert_exporter": "python",
   "pygments_lexer": "ipython3",
   "version": "3.6.4"
  }
 },
 "nbformat": 4,
 "nbformat_minor": 2
}
