{
 "cells": [
  {
   "cell_type": "code",
   "execution_count": 24,
   "metadata": {},
   "outputs": [
    {
     "name": "stdout",
     "output_type": "stream",
     "text": [
      "The autoreload extension is already loaded. To reload it, use:\n",
      "  %reload_ext autoreload\n"
     ]
    }
   ],
   "source": [
    "import pandas as pd\n",
    "import numpy as np\n",
    "import glob, os, sys\n",
    "osp = sys.platform\n",
    "\n",
    "from keras.models import Sequential\n",
    "from keras.layers import Dense, Activation, Dropout, TimeDistributed, BatchNormalization\n",
    "from keras.layers import LSTM, GRU\n",
    "from keras.optimizers import RMSprop, Adagrad, Adam, SGD\n",
    "#from keras.models import load_model\n",
    "import keras.backend as K\n",
    "import matplotlib.pyplot as plt\n",
    "%matplotlib inline\n",
    "\n",
    "from utilities import LoadData\n",
    "from helpers import id_player, id_position, get_player_trajectory, segment\n",
    "\n",
    "# ---------------------------------------------------------\n",
    "%load_ext autoreload\n",
    "%autoreload 2"
   ]
  },
  {
   "cell_type": "code",
   "execution_count": 2,
   "metadata": {
    "collapsed": true
   },
   "outputs": [],
   "source": [
    "gameid='0021500463'\n",
    "\n",
    "# directories\n",
    "# CHANGE HERE\n",
    "main_dir = '../'\n",
    "game_dir = main_dir+'data/'\n",
    "# court_path = data_dir + 'nba_court_T.png'\n",
    "\n",
    "Data = LoadData(main_dir, game_dir)\n",
    "data = Data.load_game(gameid)\n",
    "event_number, moment_number = 0, 0"
   ]
  },
  {
   "cell_type": "code",
   "execution_count": 3,
   "metadata": {},
   "outputs": [
    {
     "name": "stdout",
     "output_type": "stream",
     "text": [
      "150 (231, 8)\n"
     ]
    },
    {
     "data": {
      "text/html": [
       "<div>\n",
       "<style scoped>\n",
       "    .dataframe tbody tr th:only-of-type {\n",
       "        vertical-align: middle;\n",
       "    }\n",
       "\n",
       "    .dataframe tbody tr th {\n",
       "        vertical-align: top;\n",
       "    }\n",
       "\n",
       "    .dataframe thead th {\n",
       "        text-align: right;\n",
       "    }\n",
       "</style>\n",
       "<table border=\"1\" class=\"dataframe\">\n",
       "  <thead>\n",
       "    <tr style=\"text-align: right;\">\n",
       "      <th></th>\n",
       "      <th>end_time_left</th>\n",
       "      <th>home</th>\n",
       "      <th>moments</th>\n",
       "      <th>orig_events</th>\n",
       "      <th>playbyplay</th>\n",
       "      <th>quarter</th>\n",
       "      <th>start_time_left</th>\n",
       "      <th>visitor</th>\n",
       "    </tr>\n",
       "  </thead>\n",
       "  <tbody>\n",
       "    <tr>\n",
       "      <th>0</th>\n",
       "      <td>702.31</td>\n",
       "      <td>{'abbreviation': 'CHI', 'players': [{'playerid...</td>\n",
       "      <td>[[1, 1451351428029, 708.28, 12.78, None, [[-1,...</td>\n",
       "      <td>[0]</td>\n",
       "      <td>GAME_ID  EVENTNUM  EVENTMSGTYPE  EVENTMS...</td>\n",
       "      <td>1</td>\n",
       "      <td>708.28</td>\n",
       "      <td>{'abbreviation': 'TOR', 'players': [{'playerid...</td>\n",
       "    </tr>\n",
       "    <tr>\n",
       "      <th>1</th>\n",
       "      <td>686.28</td>\n",
       "      <td>{'abbreviation': 'CHI', 'players': [{'playerid...</td>\n",
       "      <td>[[1, 1451351428029, 708.28, 12.78, None, [[-1,...</td>\n",
       "      <td>[1]</td>\n",
       "      <td>GAME_ID  EVENTNUM  EVENTMSGTYPE  EVENTMS...</td>\n",
       "      <td>1</td>\n",
       "      <td>708.28</td>\n",
       "      <td>{'abbreviation': 'TOR', 'players': [{'playerid...</td>\n",
       "    </tr>\n",
       "    <tr>\n",
       "      <th>2</th>\n",
       "      <td>668.42</td>\n",
       "      <td>{'abbreviation': 'CHI', 'players': [{'playerid...</td>\n",
       "      <td>[[1, 1451351444029, 692.25, 12.21, None, [[-1,...</td>\n",
       "      <td>[2, 3]</td>\n",
       "      <td>GAME_ID  EVENTNUM  EVENTMSGTYPE  EVENTMS...</td>\n",
       "      <td>1</td>\n",
       "      <td>692.25</td>\n",
       "      <td>{'abbreviation': 'TOR', 'players': [{'playerid...</td>\n",
       "    </tr>\n",
       "    <tr>\n",
       "      <th>3</th>\n",
       "      <td>665.71</td>\n",
       "      <td>{'abbreviation': 'CHI', 'players': [{'playerid...</td>\n",
       "      <td>[[1, 1451351463029, 673.22, 21.44, None, [[-1,...</td>\n",
       "      <td>[4, 5]</td>\n",
       "      <td>GAME_ID  EVENTNUM  EVENTMSGTYPE  EVENTMS...</td>\n",
       "      <td>1</td>\n",
       "      <td>673.22</td>\n",
       "      <td>{'abbreviation': 'TOR', 'players': [{'playerid...</td>\n",
       "    </tr>\n",
       "    <tr>\n",
       "      <th>4</th>\n",
       "      <td>646.64</td>\n",
       "      <td>{'abbreviation': 'CHI', 'players': [{'playerid...</td>\n",
       "      <td>[[1, 1451351473027, 668.0, 22.9, None, [[-1, -...</td>\n",
       "      <td>[6]</td>\n",
       "      <td>GAME_ID  EVENTNUM  EVENTMSGTYPE  EVENTMS...</td>\n",
       "      <td>1</td>\n",
       "      <td>668.00</td>\n",
       "      <td>{'abbreviation': 'TOR', 'players': [{'playerid...</td>\n",
       "    </tr>\n",
       "  </tbody>\n",
       "</table>\n",
       "</div>"
      ],
      "text/plain": [
       "   end_time_left                                               home  \\\n",
       "0         702.31  {'abbreviation': 'CHI', 'players': [{'playerid...   \n",
       "1         686.28  {'abbreviation': 'CHI', 'players': [{'playerid...   \n",
       "2         668.42  {'abbreviation': 'CHI', 'players': [{'playerid...   \n",
       "3         665.71  {'abbreviation': 'CHI', 'players': [{'playerid...   \n",
       "4         646.64  {'abbreviation': 'CHI', 'players': [{'playerid...   \n",
       "\n",
       "                                             moments orig_events  \\\n",
       "0  [[1, 1451351428029, 708.28, 12.78, None, [[-1,...         [0]   \n",
       "1  [[1, 1451351428029, 708.28, 12.78, None, [[-1,...         [1]   \n",
       "2  [[1, 1451351444029, 692.25, 12.21, None, [[-1,...      [2, 3]   \n",
       "3  [[1, 1451351463029, 673.22, 21.44, None, [[-1,...      [4, 5]   \n",
       "4  [[1, 1451351473027, 668.0, 22.9, None, [[-1, -...         [6]   \n",
       "\n",
       "                                          playbyplay  quarter  \\\n",
       "0        GAME_ID  EVENTNUM  EVENTMSGTYPE  EVENTMS...        1   \n",
       "1        GAME_ID  EVENTNUM  EVENTMSGTYPE  EVENTMS...        1   \n",
       "2        GAME_ID  EVENTNUM  EVENTMSGTYPE  EVENTMS...        1   \n",
       "3        GAME_ID  EVENTNUM  EVENTMSGTYPE  EVENTMS...        1   \n",
       "4        GAME_ID  EVENTNUM  EVENTMSGTYPE  EVENTMS...        1   \n",
       "\n",
       "   start_time_left                                            visitor  \n",
       "0           708.28  {'abbreviation': 'TOR', 'players': [{'playerid...  \n",
       "1           708.28  {'abbreviation': 'TOR', 'players': [{'playerid...  \n",
       "2           692.25  {'abbreviation': 'TOR', 'players': [{'playerid...  \n",
       "3           673.22  {'abbreviation': 'TOR', 'players': [{'playerid...  \n",
       "4           668.00  {'abbreviation': 'TOR', 'players': [{'playerid...  "
      ]
     },
     "execution_count": 3,
     "metadata": {},
     "output_type": "execute_result"
    }
   ],
   "source": [
    "# get events and number of events\n",
    "event_df = pd.DataFrame(data['events'])\n",
    "n_events = event_df.shape[0]\n",
    "# get numebr of moments\n",
    "moments = event_df.iloc[event_number,:]['moments']\n",
    "n_moments = len(moments)\n",
    "\n",
    "print(n_moments, event_df.shape)\n",
    "event_df.head()"
   ]
  },
  {
   "cell_type": "code",
   "execution_count": 4,
   "metadata": {
    "collapsed": true
   },
   "outputs": [],
   "source": [
    "# first try to predict next trajectories for single player\n",
    "pid = 2200\n",
    "pid_track = pd.DataFrame(event_df['moments'].apply(lambda m: get_player_trajectory(m, pid)))\n",
    "pid_track = pid_track[pid_track.moments.apply(lambda m: len(m) != 0)]\n",
    "pid_track.reset_index(inplace=True, drop=True)\n",
    "pid_track['length'] = pid_track.moments.apply(lambda m: len(m))"
   ]
  },
  {
   "cell_type": "code",
   "execution_count": 5,
   "metadata": {},
   "outputs": [
    {
     "data": {
      "text/html": [
       "<div>\n",
       "<style scoped>\n",
       "    .dataframe tbody tr th:only-of-type {\n",
       "        vertical-align: middle;\n",
       "    }\n",
       "\n",
       "    .dataframe tbody tr th {\n",
       "        vertical-align: top;\n",
       "    }\n",
       "\n",
       "    .dataframe thead th {\n",
       "        text-align: right;\n",
       "    }\n",
       "</style>\n",
       "<table border=\"1\" class=\"dataframe\">\n",
       "  <thead>\n",
       "    <tr style=\"text-align: right;\">\n",
       "      <th></th>\n",
       "      <th>moments</th>\n",
       "      <th>length</th>\n",
       "    </tr>\n",
       "  </thead>\n",
       "  <tbody>\n",
       "    <tr>\n",
       "      <th>0</th>\n",
       "      <td>[[11.15334, 21.35529, 18.38063, 14.07976, 8.56...</td>\n",
       "      <td>150</td>\n",
       "    </tr>\n",
       "    <tr>\n",
       "      <th>1</th>\n",
       "      <td>[[11.15334, 21.35529, 18.38063, 14.07976, 8.56...</td>\n",
       "      <td>550</td>\n",
       "    </tr>\n",
       "    <tr>\n",
       "      <th>2</th>\n",
       "      <td>[[80.35941, 16.31437, 63.70549, 29.93382, 3.52...</td>\n",
       "      <td>596</td>\n",
       "    </tr>\n",
       "    <tr>\n",
       "      <th>3</th>\n",
       "      <td>[[16.77111, 29.51087, 31.06114, 31.5842, 3.586...</td>\n",
       "      <td>289</td>\n",
       "    </tr>\n",
       "    <tr>\n",
       "      <th>4</th>\n",
       "      <td>[[52.14782, 24.2909, 49.76765, 17.82403, 4.968...</td>\n",
       "      <td>610</td>\n",
       "    </tr>\n",
       "  </tbody>\n",
       "</table>\n",
       "</div>"
      ],
      "text/plain": [
       "                                             moments  length\n",
       "0  [[11.15334, 21.35529, 18.38063, 14.07976, 8.56...     150\n",
       "1  [[11.15334, 21.35529, 18.38063, 14.07976, 8.56...     550\n",
       "2  [[80.35941, 16.31437, 63.70549, 29.93382, 3.52...     596\n",
       "3  [[16.77111, 29.51087, 31.06114, 31.5842, 3.586...     289\n",
       "4  [[52.14782, 24.2909, 49.76765, 17.82403, 4.968...     610"
      ]
     },
     "execution_count": 5,
     "metadata": {},
     "output_type": "execute_result"
    }
   ],
   "source": [
    "pid_track.head()"
   ]
  },
  {
   "cell_type": "code",
   "execution_count": 6,
   "metadata": {},
   "outputs": [
    {
     "data": {
      "text/plain": [
       "32912.5"
      ]
     },
     "execution_count": 6,
     "metadata": {},
     "output_type": "execute_result"
    }
   ],
   "source": [
    "pid_track.length.sum()/2"
   ]
  },
  {
   "cell_type": "code",
   "execution_count": 7,
   "metadata": {},
   "outputs": [],
   "source": [
    "train = []\n",
    "for i in range(len(pid_track)):\n",
    "    train += segment(pid_track.moments[i], length=2)\n",
    "\n",
    "train = np.array(train)"
   ]
  },
  {
   "cell_type": "code",
   "execution_count": 8,
   "metadata": {},
   "outputs": [
    {
     "data": {
      "text/plain": [
       "(32878, 2, 5)"
      ]
     },
     "execution_count": 8,
     "metadata": {},
     "output_type": "execute_result"
    }
   ],
   "source": [
    "n, m, f = train.shape\n",
    "train.shape"
   ]
  },
  {
   "cell_type": "code",
   "execution_count": 9,
   "metadata": {},
   "outputs": [
    {
     "name": "stdout",
     "output_type": "stream",
     "text": [
      "65756\n",
      "65755 (65756, 2)\n"
     ]
    },
    {
     "data": {
      "text/plain": [
       "(32877, 2, 5)"
      ]
     },
     "execution_count": 9,
     "metadata": {},
     "output_type": "execute_result"
    }
   ],
   "source": [
    "# create label\n",
    "label = train[:, :, :2].reshape(n*m, 2)\n",
    "cut = n*m\n",
    "print(cut)\n",
    "if label.shape[0] %2 == 0:\n",
    "    cut -= 1\n",
    "print(cut, label.shape)\n",
    "label = label[1:cut, :].reshape((cut-1)//2, 2, 2)\n",
    "# also remove the last one in train\n",
    "train = train[:-1, :, :]\n",
    "train.shape"
   ]
  },
  {
   "cell_type": "code",
   "execution_count": 10,
   "metadata": {},
   "outputs": [
    {
     "data": {
      "text/plain": [
       "(32877, 2, 5)"
      ]
     },
     "execution_count": 10,
     "metadata": {},
     "output_type": "execute_result"
    }
   ],
   "source": [
    "# train = train.reshape(-1, 5)\n",
    "train.shape"
   ]
  },
  {
   "cell_type": "code",
   "execution_count": 11,
   "metadata": {},
   "outputs": [
    {
     "data": {
      "text/plain": [
       "(32877, 2, 2)"
      ]
     },
     "execution_count": 11,
     "metadata": {},
     "output_type": "execute_result"
    }
   ],
   "source": [
    "label.shape"
   ]
  },
  {
   "cell_type": "code",
   "execution_count": 12,
   "metadata": {
    "collapsed": true
   },
   "outputs": [],
   "source": [
    "# only take the prediction of second timestep\n",
    "label = label[:, 1, :]"
   ]
  },
  {
   "cell_type": "code",
   "execution_count": 13,
   "metadata": {},
   "outputs": [
    {
     "data": {
      "text/plain": [
       "(32877, 2)"
      ]
     },
     "execution_count": 13,
     "metadata": {},
     "output_type": "execute_result"
    }
   ],
   "source": [
    "label.shape"
   ]
  },
  {
   "cell_type": "code",
   "execution_count": 14,
   "metadata": {},
   "outputs": [
    {
     "data": {
      "text/plain": [
       "6"
      ]
     },
     "execution_count": 14,
     "metadata": {},
     "output_type": "execute_result"
    }
   ],
   "source": [
    "pid_track.length.min()"
   ]
  },
  {
   "cell_type": "code",
   "execution_count": 15,
   "metadata": {
    "collapsed": true
   },
   "outputs": [],
   "source": [
    "# # chunk to batch\n",
    "# # define ftn that generates batches\n",
    "# def get_minibatches(inputs, targets, batchsize, shuffle=False):\n",
    "#     assert len(inputs) == len(targets)\n",
    "#     batches = []\n",
    "#     target_batches = []\n",
    "#     if shuffle:\n",
    "#         indices = np.arange(len(inputs))\n",
    "#         np.random.shuffle(indices)\n",
    "#     for start_idx in range(0, len(inputs) - batchsize + 1, batchsize):\n",
    "#         if shuffle:\n",
    "#             excerpt = indices[start_idx:start_idx + batchsize]\n",
    "#         else:\n",
    "#             excerpt = slice(start_idx, start_idx + batchsize)\n",
    "#         batches.append(inputs[excerpt])\n",
    "#         target_batches.append(targets[excerpt])\n",
    "#     return np.array(batches), np.array(target_batches)\n",
    "\n",
    "# batch_size = 128\n",
    "# train, label = get_minibatches(train, label, batch_size)"
   ]
  },
  {
   "cell_type": "code",
   "execution_count": 16,
   "metadata": {},
   "outputs": [
    {
     "data": {
      "text/plain": [
       "(32877, 2, 5)"
      ]
     },
     "execution_count": 16,
     "metadata": {},
     "output_type": "execute_result"
    }
   ],
   "source": [
    "train.shape"
   ]
  },
  {
   "cell_type": "code",
   "execution_count": 17,
   "metadata": {},
   "outputs": [
    {
     "name": "stdout",
     "output_type": "stream",
     "text": [
      "_________________________________________________________________\n",
      "Layer (type)                 Output Shape              Param #   \n",
      "=================================================================\n",
      "lstm_1 (LSTM)                (None, 2, 512)            1060864   \n",
      "_________________________________________________________________\n",
      "lstm_2 (LSTM)                (None, 512)               2099200   \n",
      "_________________________________________________________________\n",
      "dense_1 (Dense)              (None, 2)                 1026      \n",
      "_________________________________________________________________\n",
      "activation_1 (Activation)    (None, 2)                 0         \n",
      "=================================================================\n",
      "Total params: 3,161,090\n",
      "Trainable params: 3,161,090\n",
      "Non-trainable params: 0\n",
      "_________________________________________________________________\n"
     ]
    }
   ],
   "source": [
    "batch_size = 117\n",
    "timesteps = 2\n",
    "input_dim = 5\n",
    "\n",
    "model = Sequential()\n",
    "# model.add(LSTM(512 ,return_sequences=True, batch_input_shape=(batch_size, timesteps, input_dim), stateful=True))\n",
    "# model.add(LSTM(512 , return_sequences=False, stateful=True))\n",
    "model.add(LSTM(512 ,return_sequences=True, input_shape=(timesteps, input_dim)))\n",
    "model.add(LSTM(512 , return_sequences=False))\n",
    "model.add(Dense (2))\n",
    "model.add(Activation('linear'))\n",
    "model.summary()"
   ]
  },
  {
   "cell_type": "code",
   "execution_count": 18,
   "metadata": {
    "collapsed": true
   },
   "outputs": [],
   "source": [
    "model.compile(loss='mse', optimizer='adagrad')\n",
    "#model.compile(loss='mse', optimizer=adagradOpt)\n",
    "# model.load_weights(model_name)\n",
    "#model.load_weights('init_weights_minibatch1024_10epochs.h5') # Load the pretrained model\n",
    "# model.reset_states()"
   ]
  },
  {
   "cell_type": "code",
   "execution_count": 19,
   "metadata": {
    "scrolled": true
   },
   "outputs": [
    {
     "name": "stdout",
     "output_type": "stream",
     "text": [
      "Train on 26301 samples, validate on 6576 samples\n",
      "Epoch 1/20\n",
      " - 42s - loss: 83.4230 - val_loss: 13.3164\n",
      "Epoch 2/20\n",
      " - 40s - loss: 7.1489 - val_loss: 6.6131\n",
      "Epoch 3/20\n",
      " - 43s - loss: 4.4174 - val_loss: 5.7592\n",
      "Epoch 4/20\n",
      " - 45s - loss: 3.5857 - val_loss: 4.7901\n",
      "Epoch 5/20\n",
      " - 44s - loss: 3.0639 - val_loss: 4.6335\n",
      "Epoch 6/20\n",
      " - 43s - loss: 3.0621 - val_loss: 4.5499\n",
      "Epoch 7/20\n",
      " - 42s - loss: 2.8605 - val_loss: 4.6928\n",
      "Epoch 8/20\n",
      " - 42s - loss: 2.8694 - val_loss: 4.2152\n",
      "Epoch 9/20\n",
      " - 41s - loss: 2.7712 - val_loss: 4.2202\n",
      "Epoch 10/20\n",
      " - 44s - loss: 2.6759 - val_loss: 4.1661\n",
      "Epoch 11/20\n",
      " - 40s - loss: 2.6863 - val_loss: 4.1383\n",
      "Epoch 12/20\n",
      " - 41s - loss: 2.6315 - val_loss: 4.1207\n",
      "Epoch 13/20\n",
      " - 41s - loss: 2.6264 - val_loss: 4.0914\n",
      "Epoch 14/20\n",
      " - 41s - loss: 2.6454 - val_loss: 4.0515\n",
      "Epoch 15/20\n",
      " - 43s - loss: 2.6166 - val_loss: 4.0608\n",
      "Epoch 16/20\n",
      " - 44s - loss: 2.5489 - val_loss: 4.0581\n",
      "Epoch 17/20\n",
      " - 40s - loss: 2.5675 - val_loss: 4.0759\n",
      "Epoch 18/20\n",
      " - 39s - loss: 2.5594 - val_loss: 4.0293\n",
      "Epoch 19/20\n",
      " - 38s - loss: 2.5774 - val_loss: 4.2536\n",
      "Epoch 20/20\n",
      " - 37s - loss: 2.5259 - val_loss: 4.0083\n"
     ]
    }
   ],
   "source": [
    "history = model.fit(train, label, epochs = 20, batch_size = batch_size, \n",
    "                    verbose = 2, shuffle = True, validation_split = 0.2)"
   ]
  },
  {
   "cell_type": "code",
   "execution_count": 25,
   "metadata": {},
   "outputs": [
    {
     "data": {
      "image/png": "[encoded data removed]",
      "text/plain": [
       "<matplotlib.figure.Figure at 0x240acc88>"
      ]
     },
     "metadata": {},
     "output_type": "display_data"
    }
   ],
   "source": [
    "plt.plot(history.history[\"loss\"])\n",
    "plt.plot(history.history[\"val_loss\"])\n",
    "plt.grid('on')\n",
    "plt.title(\"model loss\")\n",
    "plt.ylabel(\"loss\")\n",
    "plt.xlabel(\"epoch\")\n",
    "plt.legend([\"train\", \"valid\"], loc = \"upper right\")\n",
    "plt.show()"
   ]
  },
  {
   "cell_type": "code",
   "execution_count": null,
   "metadata": {
    "collapsed": true
   },
   "outputs": [],
   "source": []
  },
  {
   "cell_type": "code",
   "execution_count": null,
   "metadata": {
    "collapsed": true
   },
   "outputs": [],
   "source": []
  }
 ],
 "metadata": {
  "kernelspec": {
   "display_name": "Python 3",
   "language": "python",
   "name": "python3"
  },
  "language_info": {
   "codemirror_mode": {
    "name": "ipython",
    "version": 3
   },
   "file_extension": ".py",
   "mimetype": "text/x-python",
   "name": "python",
   "nbconvert_exporter": "python",
   "pygments_lexer": "ipython3",
   "version": "3.6.1"
  }
 },
 "nbformat": 4,
 "nbformat_minor": 2
}
