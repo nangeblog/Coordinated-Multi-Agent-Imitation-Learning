{
 "cells": [
  {
   "cell_type": "code",
   "execution_count": 1,
   "metadata": {},
   "outputs": [
    {
     "name": "stderr",
     "output_type": "stream",
     "text": [
      "Using TensorFlow backend.\n"
     ]
    }
   ],
   "source": [
    "import pandas as pd\n",
    "import numpy as np\n",
    "import glob, os, sys\n",
    "osp = sys.platform\n",
    "\n",
    "from keras.models import Sequential\n",
    "from keras.layers import Dense, Activation, Dropout, TimeDistributed, BatchNormalization\n",
    "from keras.layers import LSTM, GRU\n",
    "from keras.optimizers import RMSprop, Adagrad, Adam, SGD\n",
    "#from keras.models import load_model\n",
    "import keras.backend as K\n",
    "# import matplotlib.pyplot as plt\n",
    "# %matplotlib inline\n",
    "\n",
    "from utilities import LoadData\n",
    "from helpers import id_player, id_position, get_player_trajectory\n",
    "\n",
    "# ---------------------------------------------------------\n",
    "%load_ext autoreload\n",
    "%autoreload 2"
   ]
  },
  {
   "cell_type": "code",
   "execution_count": 2,
   "metadata": {
    "collapsed": true
   },
   "outputs": [],
   "source": [
    "gameid='0021500463'\n",
    "\n",
    "# directories\n",
    "# CHANGE HERE\n",
    "main_dir = '../'\n",
    "game_dir = main_dir+'data/'\n",
    "# court_path = data_dir + 'nba_court_T.png'\n",
    "\n",
    "Data = LoadData(main_dir, game_dir)\n",
    "data = Data.load_game(gameid)\n",
    "event_number, moment_number = 0, 0"
   ]
  },
  {
   "cell_type": "code",
   "execution_count": 3,
   "metadata": {},
   "outputs": [
    {
     "name": "stdout",
     "output_type": "stream",
     "text": [
      "150 (231, 8)\n"
     ]
    },
    {
     "data": {
      "text/html": [
       "<div>\n",
       "<style>\n",
       "    .dataframe thead tr:only-child th {\n",
       "        text-align: right;\n",
       "    }\n",
       "\n",
       "    .dataframe thead th {\n",
       "        text-align: left;\n",
       "    }\n",
       "\n",
       "    .dataframe tbody tr th {\n",
       "        vertical-align: top;\n",
       "    }\n",
       "</style>\n",
       "<table border=\"1\" class=\"dataframe\">\n",
       "  <thead>\n",
       "    <tr style=\"text-align: right;\">\n",
       "      <th></th>\n",
       "      <th>end_time_left</th>\n",
       "      <th>home</th>\n",
       "      <th>moments</th>\n",
       "      <th>orig_events</th>\n",
       "      <th>playbyplay</th>\n",
       "      <th>quarter</th>\n",
       "      <th>start_time_left</th>\n",
       "      <th>visitor</th>\n",
       "    </tr>\n",
       "  </thead>\n",
       "  <tbody>\n",
       "    <tr>\n",
       "      <th>0</th>\n",
       "      <td>702.31</td>\n",
       "      <td>{'abbreviation': 'CHI', 'players': [{'playerid...</td>\n",
       "      <td>[[1, 1451351428029, 708.28, 12.78, None, [[-1,...</td>\n",
       "      <td>[0]</td>\n",
       "      <td>GAME_ID  EVENTNUM  EVENTMSGTYPE  EVENTMS...</td>\n",
       "      <td>1</td>\n",
       "      <td>708.28</td>\n",
       "      <td>{'abbreviation': 'TOR', 'players': [{'playerid...</td>\n",
       "    </tr>\n",
       "    <tr>\n",
       "      <th>1</th>\n",
       "      <td>686.28</td>\n",
       "      <td>{'abbreviation': 'CHI', 'players': [{'playerid...</td>\n",
       "      <td>[[1, 1451351428029, 708.28, 12.78, None, [[-1,...</td>\n",
       "      <td>[1]</td>\n",
       "      <td>GAME_ID  EVENTNUM  EVENTMSGTYPE  EVENTMS...</td>\n",
       "      <td>1</td>\n",
       "      <td>708.28</td>\n",
       "      <td>{'abbreviation': 'TOR', 'players': [{'playerid...</td>\n",
       "    </tr>\n",
       "    <tr>\n",
       "      <th>2</th>\n",
       "      <td>668.42</td>\n",
       "      <td>{'abbreviation': 'CHI', 'players': [{'playerid...</td>\n",
       "      <td>[[1, 1451351444029, 692.25, 12.21, None, [[-1,...</td>\n",
       "      <td>[2, 3]</td>\n",
       "      <td>GAME_ID  EVENTNUM  EVENTMSGTYPE  EVENTMS...</td>\n",
       "      <td>1</td>\n",
       "      <td>692.25</td>\n",
       "      <td>{'abbreviation': 'TOR', 'players': [{'playerid...</td>\n",
       "    </tr>\n",
       "    <tr>\n",
       "      <th>3</th>\n",
       "      <td>665.71</td>\n",
       "      <td>{'abbreviation': 'CHI', 'players': [{'playerid...</td>\n",
       "      <td>[[1, 1451351463029, 673.22, 21.44, None, [[-1,...</td>\n",
       "      <td>[4, 5]</td>\n",
       "      <td>GAME_ID  EVENTNUM  EVENTMSGTYPE  EVENTMS...</td>\n",
       "      <td>1</td>\n",
       "      <td>673.22</td>\n",
       "      <td>{'abbreviation': 'TOR', 'players': [{'playerid...</td>\n",
       "    </tr>\n",
       "    <tr>\n",
       "      <th>4</th>\n",
       "      <td>646.64</td>\n",
       "      <td>{'abbreviation': 'CHI', 'players': [{'playerid...</td>\n",
       "      <td>[[1, 1451351473027, 668.0, 22.9, None, [[-1, -...</td>\n",
       "      <td>[6]</td>\n",
       "      <td>GAME_ID  EVENTNUM  EVENTMSGTYPE  EVENTMS...</td>\n",
       "      <td>1</td>\n",
       "      <td>668.00</td>\n",
       "      <td>{'abbreviation': 'TOR', 'players': [{'playerid...</td>\n",
       "    </tr>\n",
       "  </tbody>\n",
       "</table>\n",
       "</div>"
      ],
      "text/plain": [
       "   end_time_left                                               home  \\\n",
       "0         702.31  {'abbreviation': 'CHI', 'players': [{'playerid...   \n",
       "1         686.28  {'abbreviation': 'CHI', 'players': [{'playerid...   \n",
       "2         668.42  {'abbreviation': 'CHI', 'players': [{'playerid...   \n",
       "3         665.71  {'abbreviation': 'CHI', 'players': [{'playerid...   \n",
       "4         646.64  {'abbreviation': 'CHI', 'players': [{'playerid...   \n",
       "\n",
       "                                             moments orig_events  \\\n",
       "0  [[1, 1451351428029, 708.28, 12.78, None, [[-1,...         [0]   \n",
       "1  [[1, 1451351428029, 708.28, 12.78, None, [[-1,...         [1]   \n",
       "2  [[1, 1451351444029, 692.25, 12.21, None, [[-1,...      [2, 3]   \n",
       "3  [[1, 1451351463029, 673.22, 21.44, None, [[-1,...      [4, 5]   \n",
       "4  [[1, 1451351473027, 668.0, 22.9, None, [[-1, -...         [6]   \n",
       "\n",
       "                                          playbyplay  quarter  \\\n",
       "0        GAME_ID  EVENTNUM  EVENTMSGTYPE  EVENTMS...        1   \n",
       "1        GAME_ID  EVENTNUM  EVENTMSGTYPE  EVENTMS...        1   \n",
       "2        GAME_ID  EVENTNUM  EVENTMSGTYPE  EVENTMS...        1   \n",
       "3        GAME_ID  EVENTNUM  EVENTMSGTYPE  EVENTMS...        1   \n",
       "4        GAME_ID  EVENTNUM  EVENTMSGTYPE  EVENTMS...        1   \n",
       "\n",
       "   start_time_left                                            visitor  \n",
       "0           708.28  {'abbreviation': 'TOR', 'players': [{'playerid...  \n",
       "1           708.28  {'abbreviation': 'TOR', 'players': [{'playerid...  \n",
       "2           692.25  {'abbreviation': 'TOR', 'players': [{'playerid...  \n",
       "3           673.22  {'abbreviation': 'TOR', 'players': [{'playerid...  \n",
       "4           668.00  {'abbreviation': 'TOR', 'players': [{'playerid...  "
      ]
     },
     "execution_count": 3,
     "metadata": {},
     "output_type": "execute_result"
    }
   ],
   "source": [
    "# get events and number of events\n",
    "event_df = pd.DataFrame(data['events'])\n",
    "n_events = event_df.shape[0]\n",
    "# get numebr of moments\n",
    "moments = event_df.iloc[event_number,:]['moments']\n",
    "n_moments = len(moments)\n",
    "\n",
    "print(n_moments, event_df.shape)\n",
    "event_df.head()"
   ]
  },
  {
   "cell_type": "code",
   "execution_count": 4,
   "metadata": {},
   "outputs": [],
   "source": [
    "# predict next trajectories for single player\n",
    "pid = 2200\n",
    "pid_track = pd.DataFrame(event_df['moments'].apply(lambda m: get_player_trajectory(m, pid)))\n",
    "pid_track = pid_track[pid_track.moments.apply(lambda m: len(m) != 0)]\n",
    "pid_track.reset_index(inplace=True, drop=True)\n",
    "pid_track['length'] = pid_track.moments.apply(lambda m: len(m))"
   ]
  },
  {
   "cell_type": "code",
   "execution_count": 5,
   "metadata": {},
   "outputs": [
    {
     "data": {
      "text/html": [
       "<div>\n",
       "<style>\n",
       "    .dataframe thead tr:only-child th {\n",
       "        text-align: right;\n",
       "    }\n",
       "\n",
       "    .dataframe thead th {\n",
       "        text-align: left;\n",
       "    }\n",
       "\n",
       "    .dataframe tbody tr th {\n",
       "        vertical-align: top;\n",
       "    }\n",
       "</style>\n",
       "<table border=\"1\" class=\"dataframe\">\n",
       "  <thead>\n",
       "    <tr style=\"text-align: right;\">\n",
       "      <th></th>\n",
       "      <th>moments</th>\n",
       "      <th>length</th>\n",
       "    </tr>\n",
       "  </thead>\n",
       "  <tbody>\n",
       "    <tr>\n",
       "      <th>0</th>\n",
       "      <td>[[11.15334, 21.35529, 18.38063, 14.07976, 8.56...</td>\n",
       "      <td>150</td>\n",
       "    </tr>\n",
       "    <tr>\n",
       "      <th>1</th>\n",
       "      <td>[[11.15334, 21.35529, 18.38063, 14.07976, 8.56...</td>\n",
       "      <td>550</td>\n",
       "    </tr>\n",
       "    <tr>\n",
       "      <th>2</th>\n",
       "      <td>[[80.35941, 16.31437, 63.70549, 29.93382, 3.52...</td>\n",
       "      <td>596</td>\n",
       "    </tr>\n",
       "    <tr>\n",
       "      <th>3</th>\n",
       "      <td>[[16.77111, 29.51087, 31.06114, 31.5842, 3.586...</td>\n",
       "      <td>289</td>\n",
       "    </tr>\n",
       "    <tr>\n",
       "      <th>4</th>\n",
       "      <td>[[52.14782, 24.2909, 49.76765, 17.82403, 4.968...</td>\n",
       "      <td>610</td>\n",
       "    </tr>\n",
       "  </tbody>\n",
       "</table>\n",
       "</div>"
      ],
      "text/plain": [
       "                                             moments  length\n",
       "0  [[11.15334, 21.35529, 18.38063, 14.07976, 8.56...     150\n",
       "1  [[11.15334, 21.35529, 18.38063, 14.07976, 8.56...     550\n",
       "2  [[80.35941, 16.31437, 63.70549, 29.93382, 3.52...     596\n",
       "3  [[16.77111, 29.51087, 31.06114, 31.5842, 3.586...     289\n",
       "4  [[52.14782, 24.2909, 49.76765, 17.82403, 4.968...     610"
      ]
     },
     "execution_count": 5,
     "metadata": {},
     "output_type": "execute_result"
    }
   ],
   "source": [
    "pid_track.head()"
   ]
  },
  {
   "cell_type": "code",
   "execution_count": 6,
   "metadata": {},
   "outputs": [
    {
     "data": {
      "text/plain": [
       "32912.5"
      ]
     },
     "execution_count": 6,
     "metadata": {},
     "output_type": "execute_result"
    }
   ],
   "source": [
    "pid_track.length.sum()/2"
   ]
  },
  {
   "cell_type": "code",
   "execution_count": 7,
   "metadata": {},
   "outputs": [
    {
     "data": {
      "text/plain": [
       "0"
      ]
     },
     "execution_count": 7,
     "metadata": {},
     "output_type": "execute_result"
    }
   ],
   "source": [
    "10%2"
   ]
  },
  {
   "cell_type": "code",
   "execution_count": 8,
   "metadata": {},
   "outputs": [],
   "source": [
    "def chunks(X, length):\n",
    "    # if odd discard last moment\n",
    "    len_X = len(X)\n",
    "    if len_X % 2 != 0:\n",
    "        len_X -= 1\n",
    "    return [X[0+i:length+i] for i in range(0, len_X, length)]\n",
    "\n",
    "train = []\n",
    "for i in range(len(pid_track)):\n",
    "    train += chunks(pid_track.moments[i], length=2)\n",
    "\n",
    "train = np.array(train)"
   ]
  },
  {
   "cell_type": "code",
   "execution_count": 9,
   "metadata": {},
   "outputs": [
    {
     "data": {
      "text/plain": [
       "(32878, 2, 5)"
      ]
     },
     "execution_count": 9,
     "metadata": {},
     "output_type": "execute_result"
    }
   ],
   "source": [
    "n, m, f = train.shape\n",
    "train.shape"
   ]
  },
  {
   "cell_type": "code",
   "execution_count": 10,
   "metadata": {},
   "outputs": [
    {
     "name": "stdout",
     "output_type": "stream",
     "text": [
      "65756\n",
      "65755 (65756, 2)\n"
     ]
    },
    {
     "data": {
      "text/plain": [
       "(32877, 2, 5)"
      ]
     },
     "execution_count": 10,
     "metadata": {},
     "output_type": "execute_result"
    }
   ],
   "source": [
    "# create label\n",
    "label = train[:, :, :2].reshape(n*m, 2)\n",
    "cut = n*m\n",
    "print(cut)\n",
    "if label.shape[0] %2 == 0:\n",
    "    cut -= 1\n",
    "print(cut, label.shape)\n",
    "label = label[1:cut, :].reshape((cut-1)//2, 2, 2)\n",
    "# also remove the last one in train\n",
    "train = train[:-1, :, :]\n",
    "train.shape"
   ]
  },
  {
   "cell_type": "code",
   "execution_count": 11,
   "metadata": {},
   "outputs": [
    {
     "data": {
      "text/plain": [
       "(32877, 2, 5)"
      ]
     },
     "execution_count": 11,
     "metadata": {},
     "output_type": "execute_result"
    }
   ],
   "source": [
    "# train = train.reshape(-1, 5)\n",
    "train.shape"
   ]
  },
  {
   "cell_type": "code",
   "execution_count": 12,
   "metadata": {},
   "outputs": [
    {
     "data": {
      "text/plain": [
       "(32877, 2, 2)"
      ]
     },
     "execution_count": 12,
     "metadata": {},
     "output_type": "execute_result"
    }
   ],
   "source": [
    "label.shape"
   ]
  },
  {
   "cell_type": "code",
   "execution_count": 13,
   "metadata": {
    "collapsed": true
   },
   "outputs": [],
   "source": [
    "# only take the prediction of second timestep\n",
    "label = label[:, 1, :]"
   ]
  },
  {
   "cell_type": "code",
   "execution_count": 14,
   "metadata": {},
   "outputs": [
    {
     "data": {
      "text/plain": [
       "(32877, 2)"
      ]
     },
     "execution_count": 14,
     "metadata": {},
     "output_type": "execute_result"
    }
   ],
   "source": [
    "label.shape"
   ]
  },
  {
   "cell_type": "code",
   "execution_count": 15,
   "metadata": {},
   "outputs": [
    {
     "data": {
      "text/plain": [
       "6"
      ]
     },
     "execution_count": 15,
     "metadata": {},
     "output_type": "execute_result"
    }
   ],
   "source": [
    "pid_track.length.min()"
   ]
  },
  {
   "cell_type": "code",
   "execution_count": 16,
   "metadata": {},
   "outputs": [],
   "source": [
    "# # chunk to batch\n",
    "# # define ftn that generates batches\n",
    "# def get_minibatches(inputs, targets, batchsize, shuffle=False):\n",
    "#     assert len(inputs) == len(targets)\n",
    "#     batches = []\n",
    "#     target_batches = []\n",
    "#     if shuffle:\n",
    "#         indices = np.arange(len(inputs))\n",
    "#         np.random.shuffle(indices)\n",
    "#     for start_idx in range(0, len(inputs) - batchsize + 1, batchsize):\n",
    "#         if shuffle:\n",
    "#             excerpt = indices[start_idx:start_idx + batchsize]\n",
    "#         else:\n",
    "#             excerpt = slice(start_idx, start_idx + batchsize)\n",
    "#         batches.append(inputs[excerpt])\n",
    "#         target_batches.append(targets[excerpt])\n",
    "#     return np.array(batches), np.array(target_batches)\n",
    "\n",
    "# batch_size = 128\n",
    "# train, label = get_minibatches(train, label, batch_size)"
   ]
  },
  {
   "cell_type": "code",
   "execution_count": 17,
   "metadata": {},
   "outputs": [
    {
     "data": {
      "text/plain": [
       "(32877, 2, 5)"
      ]
     },
     "execution_count": 17,
     "metadata": {},
     "output_type": "execute_result"
    }
   ],
   "source": [
    "train.shape"
   ]
  },
  {
   "cell_type": "code",
   "execution_count": 25,
   "metadata": {},
   "outputs": [
    {
     "name": "stdout",
     "output_type": "stream",
     "text": [
      "_________________________________________________________________\n",
      "Layer (type)                 Output Shape              Param #   \n",
      "=================================================================\n",
      "lstm_4 (LSTM)                (117, 2, 512)             1060864   \n",
      "_________________________________________________________________\n",
      "lstm_5 (LSTM)                (117, 512)                2099200   \n",
      "_________________________________________________________________\n",
      "dense_2 (Dense)              (117, 2)                  1026      \n",
      "_________________________________________________________________\n",
      "activation_2 (Activation)    (117, 2)                  0         \n",
      "=================================================================\n",
      "Total params: 3,161,090\n",
      "Trainable params: 3,161,090\n",
      "Non-trainable params: 0\n",
      "_________________________________________________________________\n"
     ]
    }
   ],
   "source": [
    "batch_size = 117\n",
    "timesteps = 2\n",
    "input_dim = 5\n",
    "\n",
    "model = Sequential()\n",
    "model.add(LSTM(512 ,return_sequences=True, batch_input_shape=(batch_size, timesteps, input_dim), stateful=True))\n",
    "model.add(LSTM(512 , return_sequences=False, stateful=True))\n",
    "model.add(Dense (2))\n",
    "model.add(Activation('linear'))\n",
    "model.summary()"
   ]
  },
  {
   "cell_type": "code",
   "execution_count": 26,
   "metadata": {
    "collapsed": true
   },
   "outputs": [],
   "source": [
    "model.compile(loss='mse', optimizer='adagrad')\n",
    "#model.compile(loss='mse', optimizer=adagradOpt)\n",
    "# model.load_weights(model_name)\n",
    "#model.load_weights('init_weights_minibatch1024_10epochs.h5') # Load the pretrained model\n",
    "# model.reset_states()"
   ]
  },
  {
   "cell_type": "code",
   "execution_count": 30,
   "metadata": {
    "scrolled": true
   },
   "outputs": [
    {
     "name": "stdout",
     "output_type": "stream",
     "text": [
      "Epoch 1/100\n",
      " - 2s - loss: 164.8259\n",
      "Epoch 2/100\n",
      " - 2s - loss: 163.9234\n",
      "Epoch 3/100\n",
      " - 2s - loss: 163.0396\n",
      "Epoch 4/100\n",
      " - 2s - loss: 162.1487\n",
      "Epoch 5/100\n",
      " - 2s - loss: 161.2854\n",
      "Epoch 6/100\n",
      " - 2s - loss: 160.3697\n",
      "Epoch 7/100\n",
      " - 2s - loss: 159.5298\n",
      "Epoch 8/100\n",
      " - 2s - loss: 158.6938\n",
      "Epoch 9/100\n",
      " - 2s - loss: 157.8474\n",
      "Epoch 10/100\n",
      " - 2s - loss: 157.0142\n",
      "Epoch 11/100\n",
      " - 2s - loss: 156.1637\n",
      "Epoch 12/100\n",
      " - 2s - loss: 155.3628\n",
      "Epoch 13/100\n",
      " - 2s - loss: 154.5302\n",
      "Epoch 14/100\n",
      " - 2s - loss: 153.7275\n",
      "Epoch 15/100\n",
      " - 2s - loss: 152.9284\n",
      "Epoch 16/100\n",
      " - 2s - loss: 152.1482\n",
      "Epoch 17/100\n",
      " - 2s - loss: 151.3917\n",
      "Epoch 18/100\n",
      " - 2s - loss: 150.6073\n",
      "Epoch 19/100\n",
      " - 2s - loss: 149.8674\n",
      "Epoch 20/100\n",
      " - 2s - loss: 149.0966\n",
      "Epoch 21/100\n",
      " - 2s - loss: 148.3299\n",
      "Epoch 22/100\n",
      " - 2s - loss: 147.6050\n",
      "Epoch 23/100\n",
      " - 2s - loss: 146.8663\n",
      "Epoch 24/100\n",
      " - 2s - loss: 146.1670\n",
      "Epoch 25/100\n",
      " - 2s - loss: 145.4292\n",
      "Epoch 26/100\n",
      " - 2s - loss: 144.6903\n",
      "Epoch 27/100\n",
      " - 2s - loss: 143.9715\n",
      "Epoch 28/100\n",
      " - 2s - loss: 143.2692\n",
      "Epoch 29/100\n",
      " - 2s - loss: 142.5838\n",
      "Epoch 30/100\n",
      " - 2s - loss: 141.9072\n",
      "Epoch 31/100\n",
      " - 2s - loss: 141.2219\n",
      "Epoch 32/100\n",
      " - 2s - loss: 140.5118\n",
      "Epoch 33/100\n",
      " - 2s - loss: 139.8555\n",
      "Epoch 34/100\n",
      " - 2s - loss: 139.1730\n",
      "Epoch 35/100\n",
      " - 2s - loss: 138.5518\n",
      "Epoch 36/100\n",
      " - 2s - loss: 137.9066\n",
      "Epoch 37/100\n",
      " - 2s - loss: 137.2105\n",
      "Epoch 38/100\n",
      " - 2s - loss: 136.5574\n",
      "Epoch 39/100\n",
      " - 2s - loss: 135.9778\n",
      "Epoch 40/100\n",
      " - 2s - loss: 135.2907\n",
      "Epoch 41/100\n",
      " - 2s - loss: 134.7001\n",
      "Epoch 42/100\n",
      " - 2s - loss: 134.0654\n",
      "Epoch 43/100\n",
      " - 2s - loss: 133.4607\n",
      "Epoch 44/100\n",
      " - 2s - loss: 132.7808\n",
      "Epoch 45/100\n",
      " - 2s - loss: 132.2302\n",
      "Epoch 46/100\n",
      " - 2s - loss: 131.6261\n",
      "Epoch 47/100\n",
      " - 2s - loss: 131.0507\n",
      "Epoch 48/100\n",
      " - 2s - loss: 130.3866\n",
      "Epoch 49/100\n",
      " - 2s - loss: 129.8221\n",
      "Epoch 50/100\n",
      " - 2s - loss: 129.2537\n",
      "Epoch 51/100\n",
      " - 2s - loss: 128.6862\n",
      "Epoch 52/100\n",
      " - 2s - loss: 128.0982\n",
      "Epoch 53/100\n",
      " - 2s - loss: 127.5504\n",
      "Epoch 54/100\n",
      " - 2s - loss: 126.9764\n",
      "Epoch 55/100\n",
      " - 2s - loss: 126.4131\n",
      "Epoch 56/100\n",
      " - 2s - loss: 125.8460\n",
      "Epoch 57/100\n",
      " - 2s - loss: 125.3079\n",
      "Epoch 58/100\n",
      " - 2s - loss: 124.7414\n",
      "Epoch 59/100\n",
      " - 2s - loss: 124.2257\n",
      "Epoch 60/100\n",
      " - 2s - loss: 123.6762\n",
      "Epoch 61/100\n",
      " - 2s - loss: 123.1639\n",
      "Epoch 62/100\n",
      " - 2s - loss: 122.6005\n",
      "Epoch 63/100\n",
      " - 2s - loss: 122.1033\n",
      "Epoch 64/100\n",
      " - 2s - loss: 121.5643\n",
      "Epoch 65/100\n",
      " - 2s - loss: 121.0804\n",
      "Epoch 66/100\n",
      " - 2s - loss: 120.5431\n",
      "Epoch 67/100\n",
      " - 2s - loss: 120.0481\n",
      "Epoch 68/100\n",
      " - 2s - loss: 119.5345\n",
      "Epoch 69/100\n",
      " - 2s - loss: 119.0154\n",
      "Epoch 70/100\n",
      " - 2s - loss: 118.5167\n",
      "Epoch 71/100\n",
      " - 2s - loss: 118.0026\n",
      "Epoch 72/100\n",
      " - 2s - loss: 117.6057\n",
      "Epoch 73/100\n",
      " - 2s - loss: 117.0565\n",
      "Epoch 74/100\n",
      " - 2s - loss: 116.5307\n",
      "Epoch 75/100\n",
      " - 2s - loss: 116.0315\n",
      "Epoch 76/100\n",
      " - 2s - loss: 115.6068\n",
      "Epoch 77/100\n",
      " - 2s - loss: 115.1285\n",
      "Epoch 78/100\n",
      " - 2s - loss: 114.6474\n",
      "Epoch 79/100\n",
      " - 2s - loss: 114.1667\n",
      "Epoch 80/100\n",
      " - 2s - loss: 113.7400\n",
      "Epoch 81/100\n",
      " - 2s - loss: 113.2473\n",
      "Epoch 82/100\n",
      " - 2s - loss: 112.8007\n",
      "Epoch 83/100\n",
      " - 2s - loss: 112.3289\n",
      "Epoch 84/100\n",
      " - 2s - loss: 111.8851\n",
      "Epoch 85/100\n",
      " - 2s - loss: 111.4824\n",
      "Epoch 86/100\n",
      " - 2s - loss: 111.0043\n",
      "Epoch 87/100\n",
      " - 2s - loss: 110.5814\n",
      "Epoch 88/100\n",
      " - 2s - loss: 110.1442\n",
      "Epoch 89/100\n",
      " - 2s - loss: 109.6982\n",
      "Epoch 90/100\n",
      " - 2s - loss: 109.2169\n",
      "Epoch 91/100\n",
      " - 2s - loss: 108.8384\n",
      "Epoch 92/100\n",
      " - 2s - loss: 108.4199\n",
      "Epoch 93/100\n",
      " - 2s - loss: 107.9877\n",
      "Epoch 94/100\n",
      " - 2s - loss: 107.5544\n",
      "Epoch 95/100\n",
      " - 2s - loss: 107.1380\n",
      "Epoch 96/100\n",
      " - 2s - loss: 106.7695\n",
      "Epoch 97/100\n",
      " - 2s - loss: 106.3298\n",
      "Epoch 98/100\n",
      " - 2s - loss: 105.9350\n",
      "Epoch 99/100\n",
      " - 2s - loss: 105.5387\n",
      "Epoch 100/100\n",
      " - 2s - loss: 105.1013\n"
     ]
    }
   ],
   "source": [
    "history = model.fit(train, label, epochs = 100, batch_size = batch_size, \n",
    "                    verbose = 2, shuffle = True)#, validation_split = 0.1)"
   ]
  },
  {
   "cell_type": "code",
   "execution_count": null,
   "metadata": {
    "collapsed": true
   },
   "outputs": [],
   "source": []
  },
  {
   "cell_type": "code",
   "execution_count": null,
   "metadata": {
    "collapsed": true
   },
   "outputs": [],
   "source": []
  },
  {
   "cell_type": "code",
   "execution_count": null,
   "metadata": {
    "collapsed": true
   },
   "outputs": [],
   "source": []
  },
  {
   "cell_type": "code",
   "execution_count": null,
   "metadata": {
    "collapsed": true
   },
   "outputs": [],
   "source": []
  }
 ],
 "metadata": {
  "kernelspec": {
   "display_name": "Python 3",
   "language": "python",
   "name": "python3"
  },
  "language_info": {
   "codemirror_mode": {
    "name": "ipython",
    "version": 3
   },
   "file_extension": ".py",
   "mimetype": "text/x-python",
   "name": "python",
   "nbconvert_exporter": "python",
   "pygments_lexer": "ipython3",
   "version": "3.6.4"
  }
 },
 "nbformat": 4,
 "nbformat_minor": 2
}
