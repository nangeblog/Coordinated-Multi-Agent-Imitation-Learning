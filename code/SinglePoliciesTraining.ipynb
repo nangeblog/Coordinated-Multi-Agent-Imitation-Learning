{
 "cells": [
  {
   "cell_type": "code",
   "execution_count": 1,
   "metadata": {},
   "outputs": [
    {
     "name": "stderr",
     "output_type": "stream",
     "text": [
      "/home/sam/anaconda3/lib/python3.6/importlib/_bootstrap.py:219: RuntimeWarning: compiletime version 3.5 of module 'tensorflow.python.framework.fast_tensor_util' does not match runtime version 3.6\n",
      "  return f(*args, **kwds)\n",
      "/home/sam/anaconda3/lib/python3.6/site-packages/h5py/__init__.py:36: FutureWarning: Conversion of the second argument of issubdtype from `float` to `np.floating` is deprecated. In future, it will be treated as `np.float64 == np.dtype(float).type`.\n",
      "  from ._conv import register_converters as _register_converters\n"
     ]
    }
   ],
   "source": [
    "import tensorflow as tf\n",
    "from tensorflow.python.ops.rnn import _transpose_batch_time\n",
    "\n",
    "from datetime import datetime\n",
    "import numpy as np\n",
    "import pandas as pd\n",
    "import glob, os, sys, math, warnings, copy, time, glob\n",
    "import matplotlib.pyplot as plt\n",
    "os.environ[\"TF_CPP_MIN_LOG_LEVEL\"]=\"3\"\n",
    "\n",
    "# customized ftns \n",
    "from preprocessing import *\n",
    "from features import *\n",
    "from utilities import *\n",
    "from model import *\n",
    "from train import train_all_single_policies\n",
    "# ---------------------------------------------------------\n",
    "%matplotlib inline\n",
    "%load_ext autoreload\n",
    "%autoreload 2\n",
    "warnings.filterwarnings('ignore')\n",
    "# warnings.filterwarnings(action='once')\n",
    "# ---------------------------------------------------------\n",
    "# directories\n",
    "main_dir = '../'\n",
    "game_dir = main_dir+'data/'\n",
    "Data = LoadData(main_dir, game_dir)\n",
    "models_path = './models/' "
   ]
  },
  {
   "cell_type": "markdown",
   "metadata": {},
   "source": [
    "#### Pre-process \n",
    "filter events, subsample frames, add velocity, reorder moments, re-arrange team order\n",
    "shot clock, filter out event with short moments"
   ]
  },
  {
   "cell_type": "code",
   "execution_count": 2,
   "metadata": {},
   "outputs": [],
   "source": [
    "all_games_id = [i.split('/')[-1].split('.')[0] for i in glob.glob('../data/*.pkl')]"
   ]
  },
  {
   "cell_type": "code",
   "execution_count": 3,
   "metadata": {
    "scrolled": true
   },
   "outputs": [
    {
     "name": "stdout",
     "output_type": "stream",
     "text": [
      "removing non eleven1500066 | 0 out of total 42 games\n",
      "chunk shotclock\n",
      "chunk half court\n",
      "reordering team\n",
      "flatten moment\n",
      "add static features\n",
      "add velocities\n",
      "add one hot encoding\n",
      "removing non eleven1500529 | 1 out of total 42 games\n",
      "chunk shotclock\n",
      "chunk half court\n",
      "reordering team\n",
      "flatten moment\n",
      "add static features\n",
      "add velocities\n",
      "add one hot encoding\n",
      "removing non eleven1500042 | 2 out of total 42 games\n",
      "chunk shotclock\n",
      "chunk half court\n",
      "reordering team\n",
      "flatten moment\n",
      "add static features\n",
      "add velocities\n",
      "add one hot encoding\n",
      "removing non eleven1500115 | 3 out of total 42 games\n",
      "chunk shotclock\n",
      "chunk half court\n",
      "reordering team\n",
      "flatten moment\n",
      "add static features\n",
      "add velocities\n",
      "add one hot encoding\n",
      "removing non eleven1500096 | 4 out of total 42 games\n",
      "chunk shotclock\n",
      "chunk half court\n",
      "reordering team\n",
      "flatten moment\n",
      "add static features\n",
      "add velocities\n",
      "add one hot encoding\n",
      "removing non eleven1500649 | 5 out of total 42 games\n",
      "chunk shotclock\n",
      "chunk half court\n",
      "reordering team\n",
      "flatten moment\n",
      "add static features\n",
      "add velocities\n",
      "add one hot encoding\n",
      "removing non eleven1500383 | 6 out of total 42 games\n",
      "chunk shotclock\n",
      "chunk half court\n",
      "reordering team\n",
      "flatten moment\n",
      "add static features\n",
      "add velocities\n",
      "add one hot encoding\n",
      "removing non eleven1500272 | 7 out of total 42 games\n",
      "chunk shotclock\n",
      "chunk half court\n",
      "reordering team\n",
      "flatten moment\n",
      "add static features\n",
      "add velocities\n",
      "add one hot encoding\n",
      "removing non eleven1500075 | 8 out of total 42 games\n",
      "chunk shotclock\n",
      "chunk half court\n",
      "reordering team\n",
      "flatten moment\n",
      "add static features\n",
      "add velocities\n",
      "add one hot encoding\n",
      "removing non eleven1500355 | 9 out of total 42 games\n",
      "chunk shotclock\n",
      "chunk half court\n",
      "reordering team\n",
      "flatten moment\n",
      "add static features\n",
      "add velocities\n",
      "add one hot encoding\n",
      "removing non eleven1500421 | 10 out of total 42 games\n",
      "chunk shotclock\n",
      "chunk half court\n",
      "reordering team\n",
      "flatten moment\n",
      "add static features\n",
      "add velocities\n",
      "add one hot encoding\n",
      "removing non eleven1500196 | 11 out of total 42 games\n",
      "chunk shotclock\n",
      "chunk half court\n",
      "reordering team\n",
      "flatten moment\n",
      "add static features\n",
      "add velocities\n",
      "add one hot encoding\n",
      "removing non eleven1500463 | 12 out of total 42 games\n",
      "chunk shotclock\n",
      "chunk half court\n",
      "reordering team\n",
      "flatten moment\n",
      "add static features\n",
      "add velocities\n",
      "add one hot encoding\n",
      "removing non eleven1500308 | 13 out of total 42 games\n",
      "chunk shotclock\n",
      "chunk half court\n",
      "reordering team\n",
      "flatten moment\n",
      "add static features\n",
      "add velocities\n",
      "add one hot encoding\n",
      "removing non eleven1500323 | 14 out of total 42 games\n",
      "chunk shotclock\n",
      "chunk half court\n",
      "reordering team\n",
      "flatten moment\n",
      "add static features\n",
      "add velocities\n",
      "add one hot encoding\n",
      "removing non eleven1500024 | 15 out of total 42 games\n",
      "chunk shotclock\n",
      "chunk half court\n",
      "reordering team\n",
      "flatten moment\n",
      "add static features\n",
      "add velocities\n",
      "add one hot encoding\n",
      "removing non eleven1500507 | 16 out of total 42 games\n",
      "chunk shotclock\n",
      "chunk half court\n",
      "reordering team\n",
      "flatten moment\n",
      "add static features\n",
      "add velocities\n",
      "add one hot encoding\n",
      "removing non eleven1500250 | 17 out of total 42 games\n",
      "chunk shotclock\n",
      "chunk half court\n",
      "reordering team\n",
      "flatten moment\n",
      "add static features\n",
      "add velocities\n",
      "add one hot encoding\n",
      "removing non eleven1500492 | 18 out of total 42 games\n",
      "chunk shotclock\n",
      "chunk half court\n",
      "reordering team\n",
      "flatten moment\n",
      "add static features\n",
      "add velocities\n",
      "add one hot encoding\n",
      "removing non eleven1500173 | 19 out of total 42 games\n",
      "chunk shotclock\n",
      "chunk half court\n",
      "reordering team\n",
      "flatten moment\n",
      "add static features\n",
      "add velocities\n",
      "add one hot encoding\n",
      "removing non eleven1500477 | 20 out of total 42 games\n",
      "chunk shotclock\n",
      "chunk half court\n",
      "reordering team\n",
      "flatten moment\n",
      "add static features\n",
      "add velocities\n",
      "add one hot encoding\n",
      "removing non eleven1500357 | 21 out of total 42 games\n",
      "chunk shotclock\n",
      "chunk half court\n",
      "reordering team\n",
      "flatten moment\n",
      "add static features\n",
      "add velocities\n",
      "add one hot encoding\n",
      "removing non eleven1500540 | 22 out of total 42 games\n",
      "chunk shotclock\n",
      "chunk half court\n",
      "reordering team\n",
      "flatten moment\n",
      "add static features\n",
      "add velocities\n",
      "add one hot encoding\n",
      "removing non eleven1500278 | 23 out of total 42 games\n",
      "chunk shotclock\n",
      "chunk half court\n",
      "reordering team\n",
      "flatten moment\n",
      "add static features\n",
      "add velocities\n",
      "add one hot encoding\n",
      "removing non eleven1500511 | 24 out of total 42 games\n",
      "chunk shotclock\n",
      "chunk half court\n",
      "reordering team\n",
      "flatten moment\n",
      "add static features\n",
      "add velocities\n",
      "add one hot encoding\n",
      "removing non eleven1500337 | 25 out of total 42 games\n",
      "chunk shotclock\n",
      "chunk half court\n",
      "reordering team\n",
      "flatten moment\n",
      "add static features\n",
      "add velocities\n",
      "add one hot encoding\n",
      "removing non eleven1500290 | 26 out of total 42 games\n",
      "chunk shotclock\n",
      "chunk half court\n",
      "reordering team\n",
      "flatten moment\n",
      "add static features\n",
      "add velocities\n",
      "add one hot encoding\n",
      "removing non eleven1500239 | 27 out of total 42 games\n",
      "chunk shotclock\n",
      "chunk half court\n",
      "reordering team\n",
      "flatten moment\n",
      "add static features\n",
      "add velocities\n",
      "add one hot encoding\n",
      "removing non eleven1500131 | 28 out of total 42 games\n",
      "chunk shotclock\n",
      "chunk half court\n",
      "reordering team\n",
      "flatten moment\n",
      "add static features\n",
      "add velocities\n",
      "add one hot encoding\n",
      "removing non eleven1500390 | 29 out of total 42 games\n",
      "chunk shotclock\n",
      "chunk half court\n",
      "reordering team\n",
      "flatten moment\n",
      "add static features\n",
      "add velocities\n",
      "add one hot encoding\n",
      "removing non eleven1500219 | 30 out of total 42 games\n",
      "chunk shotclock\n",
      "chunk half court\n",
      "reordering team\n",
      "flatten moment\n",
      "add static features\n",
      "add velocities\n",
      "add one hot encoding\n",
      "removing non eleven1500441 | 31 out of total 42 games\n",
      "chunk shotclock\n",
      "chunk half court\n",
      "reordering team\n",
      "flatten moment\n",
      "add static features\n",
      "add velocities\n",
      "add one hot encoding\n",
      "removing non eleven1500164 | 32 out of total 42 games\n",
      "chunk shotclock\n",
      "chunk half court\n",
      "reordering team\n",
      "flatten moment\n",
      "add static features\n",
      "add velocities\n",
      "add one hot encoding\n",
      "removing non eleven1500150 | 33 out of total 42 games\n",
      "chunk shotclock\n",
      "chunk half court\n",
      "reordering team\n",
      "flatten moment\n",
      "add static features\n",
      "add velocities\n",
      "add one hot encoding\n",
      "removing non eleven1500554 | 34 out of total 42 games\n",
      "chunk shotclock\n",
      "chunk half court\n",
      "reordering team\n",
      "flatten moment\n",
      "add static features\n",
      "add velocities\n",
      "add one hot encoding\n",
      "removing non eleven1500057 | 35 out of total 42 games\n",
      "chunk shotclock\n",
      "chunk half court\n",
      "reordering team\n",
      "flatten moment\n",
      "add static features\n",
      "add velocities\n",
      "add one hot encoding\n",
      "removing non eleven1500109 | 36 out of total 42 games\n",
      "chunk shotclock\n",
      "chunk half court\n",
      "reordering team\n",
      "flatten moment\n",
      "add static features\n",
      "add velocities\n",
      "add one hot encoding\n",
      "removing non eleven1500408 | 37 out of total 42 games\n",
      "chunk shotclock\n",
      "chunk half court\n",
      "reordering team\n",
      "flatten moment\n",
      "add static features\n",
      "add velocities\n",
      "add one hot encoding\n",
      "removing non eleven1500009 | 38 out of total 42 games\n",
      "chunk shotclock\n",
      "chunk half court\n",
      "reordering team\n",
      "flatten moment\n",
      "add static features\n",
      "add velocities\n",
      "add one hot encoding\n",
      "removing non eleven1500633 | 39 out of total 42 games\n",
      "chunk shotclock\n",
      "chunk half court\n",
      "reordering team\n",
      "flatten moment\n",
      "add static features\n",
      "add velocities\n",
      "add one hot encoding\n",
      "removing non eleven1500621 | 40 out of total 42 games\n",
      "chunk shotclock\n",
      "chunk half court\n",
      "reordering team\n",
      "flatten moment\n",
      "add static features\n",
      "add velocities\n",
      "add one hot encoding\n",
      "removing non eleven1500188 | 41 out of total 42 games\n",
      "chunk shotclock\n",
      "chunk half court\n",
      "reordering team\n",
      "flatten moment\n",
      "add static features\n",
      "add velocities\n",
      "add one hot encoding\n",
      "learning hidden roles\n"
     ]
    },
    {
     "name": "stderr",
     "output_type": "stream",
     "text": [
      "         1  -310494016.7869             +nan\n",
      "         2  -244228577.8561   +66265438.9308\n",
      "         3  -208982578.7303   +35245999.1257\n",
      "         4  -206908768.5124    +2073810.2180\n",
      "         5  -205807065.6957    +1101702.8167\n",
      "         6  -205048446.0416     +758619.6541\n",
      "         7  -204503266.4551     +545179.5865\n",
      "         8  -204224072.6170     +279193.8381\n",
      "         9  -204133773.4067      +90299.2103\n",
      "        10  -204110665.6818      +23107.7248\n",
      "        11  -204104473.2969       +6192.3850\n",
      "        12  -204102870.2755       +1603.0214\n",
      "        13  -204102444.2259        +426.0496\n",
      "        14  -204102343.8104        +100.4155\n",
      "        15  -204102319.7112         +24.0993\n",
      "        16  -204102313.9206          +5.7905\n",
      "        17  -204102312.5154          +1.4053\n",
      "        18  -204102312.1692          +0.3461\n",
      "        19  -204102312.0825          +0.0867\n",
      "        20  -204102312.0604          +0.0222\n",
      "        21  -204102312.0545          +0.0059\n",
      "         1  -173645331.8385             +nan\n",
      "         2  -164943552.6629    +8701779.1755\n",
      "         3  -150177544.9452   +14766007.7177\n",
      "         4  -146986091.3499    +3191453.5953\n",
      "         5  -145746397.7240    +1239693.6260\n",
      "         6  -143572596.2121    +2173801.5119\n",
      "         7  -141620674.6992    +1951921.5129\n",
      "         8  -140483701.5804    +1136973.1188\n",
      "         9  -139846365.7200     +637335.8605\n",
      "        10  -139409632.2385     +436733.4814\n",
      "        11  -139168787.2260     +240845.0125\n",
      "        12  -139074274.5957      +94512.6303\n",
      "        13  -139043532.0559      +30742.5398\n",
      "        14  -139033583.2557       +9948.8002\n",
      "        15  -139029890.7724       +3692.4833\n",
      "        16  -139028046.2820       +1844.4905\n",
      "        17  -139026893.9787       +1152.3033\n",
      "        18  -139026012.8039        +881.1747\n",
      "        19  -139025265.3688        +747.4351\n",
      "        20  -139024621.6725        +643.6963\n",
      "        21  -139024032.6169        +589.0557\n",
      "        22  -139023415.0058        +617.6111\n",
      "        23  -139022678.6918        +736.3139\n",
      "        24  -139021788.7864        +889.9055\n",
      "        25  -139020801.0169        +987.7695\n",
      "        26  -139019724.0933       +1076.9236\n",
      "        27  -139018428.4627       +1295.6306\n",
      "        28  -139016989.5397       +1438.9230\n",
      "        29  -139015288.1685       +1701.3711\n",
      "        30  -139013204.3122       +2083.8564\n",
      "        31  -139010667.8723       +2536.4399\n",
      "        32  -139007925.3546       +2742.5177\n",
      "        33  -139004518.5525       +3406.8020\n",
      "        34  -139000099.9038       +4418.6488\n",
      "        35  -138994574.2058       +5525.6979\n",
      "        36  -138987429.5419       +7144.6639\n",
      "        37  -138980242.1654       +7187.3765\n",
      "        38  -138973270.1933       +6971.9721\n",
      "        39  -138966235.2288       +7034.9645\n",
      "        40  -138960137.3564       +6097.8724\n",
      "        41  -138954799.3006       +5338.0558\n",
      "        42  -138950263.8963       +4535.4043\n",
      "        43  -138946361.9705       +3901.9258\n",
      "        44  -138942182.7557       +4179.2148\n",
      "        45  -138938011.6341       +4171.1217\n",
      "        46  -138934214.5359       +3797.0982\n",
      "        47  -138930528.9394       +3685.5965\n",
      "        48  -138927083.5414       +3445.3979\n",
      "        49  -138923853.9032       +3229.6383\n",
      "        50  -138920487.7104       +3366.1927\n"
     ]
    },
    {
     "name": "stdout",
     "output_type": "stream",
     "text": [
      "Final number of events: 7206\n"
     ]
    }
   ],
   "source": [
    "event_threshold = 50\n",
    "subsample_factor = 2\n",
    "# single_game = process_game_data(game_id, events_df, event_threshold, subsample_factor)\n",
    "\n",
    "single_game = process_game_data(Data, all_games_id, event_threshold, subsample_factor)\n",
    "\n",
    "print('Final number of events:', len(single_game))"
   ]
  },
  {
   "cell_type": "markdown",
   "metadata": {},
   "source": [
    "#### Show the plot, for the sake of comparison with processed moment later on"
   ]
  },
  {
   "cell_type": "code",
   "execution_count": 6,
   "metadata": {
    "scrolled": false
   },
   "outputs": [],
   "source": [
    "game_id = all_games_id[0]\n",
    "Plot = PlotGame(game_id, main_dir, game_dir)\n",
    "# for i in range(plotn): \n",
    "# Plot.load_moment2img(game_data, event_number=0, moment_number=0, return_img=True)"
   ]
  },
  {
   "cell_type": "code",
   "execution_count": 7,
   "metadata": {
    "collapsed": true
   },
   "outputs": [],
   "source": [
    "plt_ind = 0"
   ]
  },
  {
   "cell_type": "code",
   "execution_count": 8,
   "metadata": {
    "scrolled": false
   },
   "outputs": [
    {
     "name": "stdout",
     "output_type": "stream",
     "text": [
      "0\n"
     ]
    },
    {
     "data": {
      "image/png": "[encoded data removed]",
      "text/plain": [
       "<Figure size 360x504 with 1 Axes>"
      ]
     },
     "metadata": {},
     "output_type": "display_data"
    }
   ],
   "source": [
    "# manual plot check\n",
    "print(plt_ind)\n",
    "plot_check(single_game, plt_ind)\n",
    "plt_ind += 1"
   ]
  },
  {
   "cell_type": "markdown",
   "metadata": {},
   "source": [
    "#### Build graph and starts training for all single policies"
   ]
  },
  {
   "cell_type": "code",
   "execution_count": 10,
   "metadata": {
    "scrolled": true
   },
   "outputs": [
    {
     "name": "stdout",
     "output_type": "stream",
     "text": [
      "Wroking on policy 0\n",
      "train len: 36200 test shape: 9050\n",
      "Horizon 0 ==========\n",
      "Epoch 0    | loss: 204.19   | time took: 20.96s | validation loss: 193.89  \n",
      "Epoch 100  | loss: 2.34     | time took: 20.54s | validation loss: 2.60    \n",
      "Epoch 200  | loss: 2.34     | time took: 20.55s | validation loss: 2.48    \n",
      "Epoch 300  | loss: 2.02     | time took: 20.54s | validation loss: 2.74    \n",
      "Epoch 400  | loss: 1.94     | time took: 20.55s | validation loss: 2.52    \n",
      "Epoch 500  | loss: 1.83     | time took: 20.55s | validation loss: 2.53    \n",
      "Epoch 600  | loss: 1.83     | time took: 20.61s | validation loss: 2.51    \n",
      "Epoch 700  | loss: 1.93     | time took: 20.61s | validation loss: 2.57    \n",
      "Epoch 800  | loss: 1.89     | time took: 20.58s | validation loss: 2.47    \n",
      "Epoch 900  | loss: 1.91     | time took: 20.54s | validation loss: 2.69    \n",
      "Epoch 1000 | loss: 1.81     | time took: 20.57s | validation loss: 2.74    \n",
      "Epoch 1100 | loss: 1.95     | time took: 20.59s | validation loss: 2.73    \n",
      "Epoch 1200 | loss: 1.88     | time took: 20.57s | validation loss: 2.71    \n",
      "Epoch 1300 | loss: 1.93     | time took: 20.58s | validation loss: 2.64    \n",
      "Epoch 1400 | loss: 1.97     | time took: 20.57s | validation loss: 2.68    \n"
     ]
    },
    {
     "ename": "KeyboardInterrupt",
     "evalue": "",
     "output_type": "error",
     "traceback": [
      "\u001b[0;31m---------------------------------------------------------------------------\u001b[0m",
      "\u001b[0;31mKeyboardInterrupt\u001b[0m                         Traceback (most recent call last)",
      "\u001b[0;32m<ipython-input-10-3526603a9b7d>\u001b[0m in \u001b[0;36m<module>\u001b[0;34m()\u001b[0m\n\u001b[1;32m      2\u001b[0m \u001b[0moverlap\u001b[0m \u001b[0;34m=\u001b[0m \u001b[0;36m10\u001b[0m\u001b[0;34m\u001b[0m\u001b[0m\n\u001b[1;32m      3\u001b[0m \u001b[0mbatch_size\u001b[0m \u001b[0;34m=\u001b[0m \u001b[0;36m32\u001b[0m\u001b[0;34m\u001b[0m\u001b[0m\n\u001b[0;32m----> 4\u001b[0;31m \u001b[0mtrain_all_single_policies\u001b[0m\u001b[0;34m(\u001b[0m\u001b[0msingle_game\u001b[0m\u001b[0;34m,\u001b[0m \u001b[0mbatch_size\u001b[0m\u001b[0;34m,\u001b[0m \u001b[0msequence_length\u001b[0m\u001b[0;34m,\u001b[0m \u001b[0moverlap\u001b[0m\u001b[0;34m,\u001b[0m \u001b[0mmodels_path\u001b[0m\u001b[0;34m)\u001b[0m\u001b[0;34m\u001b[0m\u001b[0m\n\u001b[0m",
      "\u001b[0;32m/home/sam/Desktop/raptors/code/train.py\u001b[0m in \u001b[0;36mtrain_all_single_policies\u001b[0;34m(single_game, batch_size, sequence_length, overlap, models_path)\u001b[0m\n\u001b[1;32m     40\u001b[0m                 \u001b[0;32mfor\u001b[0m \u001b[0mbatch\u001b[0m \u001b[0;32min\u001b[0m \u001b[0miterate_minibatches\u001b[0m\u001b[0;34m(\u001b[0m\u001b[0mtrain_game\u001b[0m\u001b[0;34m,\u001b[0m \u001b[0mtrain_target\u001b[0m\u001b[0;34m,\u001b[0m \u001b[0mbatch_size\u001b[0m\u001b[0;34m,\u001b[0m \u001b[0mshuffle\u001b[0m\u001b[0;34m=\u001b[0m\u001b[0;32mFalse\u001b[0m\u001b[0;34m)\u001b[0m\u001b[0;34m:\u001b[0m\u001b[0;34m\u001b[0m\u001b[0m\n\u001b[1;32m     41\u001b[0m                     \u001b[0mtrain_xi\u001b[0m\u001b[0;34m,\u001b[0m \u001b[0mtrain_yi\u001b[0m \u001b[0;34m=\u001b[0m \u001b[0mbatch\u001b[0m\u001b[0;34m\u001b[0m\u001b[0m\n\u001b[0;32m---> 42\u001b[0;31m                     \u001b[0mp\u001b[0m\u001b[0;34m,\u001b[0m \u001b[0ml\u001b[0m\u001b[0;34m,\u001b[0m \u001b[0m_\u001b[0m\u001b[0;34m,\u001b[0m \u001b[0mtrain_sum\u001b[0m \u001b[0;34m=\u001b[0m \u001b[0mmodel\u001b[0m\u001b[0;34m.\u001b[0m\u001b[0mtrain\u001b[0m\u001b[0;34m(\u001b[0m\u001b[0mtrain_xi\u001b[0m\u001b[0;34m,\u001b[0m \u001b[0mtrain_yi\u001b[0m\u001b[0;34m,\u001b[0m \u001b[0mk\u001b[0m\u001b[0;34m)\u001b[0m\u001b[0;34m\u001b[0m\u001b[0m\n\u001b[0m\u001b[1;32m     43\u001b[0m                     \u001b[0mmodel\u001b[0m\u001b[0;34m.\u001b[0m\u001b[0mtrain_writer\u001b[0m\u001b[0;34m.\u001b[0m\u001b[0madd_summary\u001b[0m\u001b[0;34m(\u001b[0m\u001b[0mtrain_sum\u001b[0m\u001b[0;34m,\u001b[0m \u001b[0mtrain_step\u001b[0m\u001b[0;34m)\u001b[0m\u001b[0;34m\u001b[0m\u001b[0m\n\u001b[1;32m     44\u001b[0m                     \u001b[0mepoch_loss\u001b[0m \u001b[0;34m+=\u001b[0m \u001b[0ml\u001b[0m\u001b[0;34m/\u001b[0m\u001b[0mn_train_batch\u001b[0m\u001b[0;34m\u001b[0m\u001b[0m\n",
      "\u001b[0;32m/home/sam/Desktop/raptors/code/model.py\u001b[0m in \u001b[0;36mtrain\u001b[0;34m(self, train_xi, train_yi, k)\u001b[0m\n\u001b[1;32m    124\u001b[0m     \u001b[0;32mdef\u001b[0m \u001b[0mtrain\u001b[0m\u001b[0;34m(\u001b[0m\u001b[0mself\u001b[0m\u001b[0;34m,\u001b[0m \u001b[0mtrain_xi\u001b[0m\u001b[0;34m,\u001b[0m \u001b[0mtrain_yi\u001b[0m\u001b[0;34m,\u001b[0m \u001b[0mk\u001b[0m\u001b[0;34m)\u001b[0m\u001b[0;34m:\u001b[0m\u001b[0;34m\u001b[0m\u001b[0m\n\u001b[1;32m    125\u001b[0m         return self.sess.run([self.pred, self.loss, self.opt, self.train_summary], \n\u001b[0;32m--> 126\u001b[0;31m                              feed_dict={self.X: train_xi, self.Y: train_yi, self.h: k})\n\u001b[0m\u001b[1;32m    127\u001b[0m \u001b[0;34m\u001b[0m\u001b[0m\n\u001b[1;32m    128\u001b[0m     \u001b[0;32mdef\u001b[0m \u001b[0mvalidate\u001b[0m\u001b[0;34m(\u001b[0m\u001b[0mself\u001b[0m\u001b[0;34m,\u001b[0m \u001b[0mval_xi\u001b[0m\u001b[0;34m,\u001b[0m \u001b[0mval_yi\u001b[0m\u001b[0;34m,\u001b[0m \u001b[0mk\u001b[0m\u001b[0;34m)\u001b[0m\u001b[0;34m:\u001b[0m\u001b[0;34m\u001b[0m\u001b[0m\n",
      "\u001b[0;32m/home/sam/anaconda3/lib/python3.6/site-packages/tensorflow/python/client/session.py\u001b[0m in \u001b[0;36mrun\u001b[0;34m(self, fetches, feed_dict, options, run_metadata)\u001b[0m\n\u001b[1;32m    887\u001b[0m     \u001b[0;32mtry\u001b[0m\u001b[0;34m:\u001b[0m\u001b[0;34m\u001b[0m\u001b[0m\n\u001b[1;32m    888\u001b[0m       result = self._run(None, fetches, feed_dict, options_ptr,\n\u001b[0;32m--> 889\u001b[0;31m                          run_metadata_ptr)\n\u001b[0m\u001b[1;32m    890\u001b[0m       \u001b[0;32mif\u001b[0m \u001b[0mrun_metadata\u001b[0m\u001b[0;34m:\u001b[0m\u001b[0;34m\u001b[0m\u001b[0m\n\u001b[1;32m    891\u001b[0m         \u001b[0mproto_data\u001b[0m \u001b[0;34m=\u001b[0m \u001b[0mtf_session\u001b[0m\u001b[0;34m.\u001b[0m\u001b[0mTF_GetBuffer\u001b[0m\u001b[0;34m(\u001b[0m\u001b[0mrun_metadata_ptr\u001b[0m\u001b[0;34m)\u001b[0m\u001b[0;34m\u001b[0m\u001b[0m\n",
      "\u001b[0;32m/home/sam/anaconda3/lib/python3.6/site-packages/tensorflow/python/client/session.py\u001b[0m in \u001b[0;36m_run\u001b[0;34m(self, handle, fetches, feed_dict, options, run_metadata)\u001b[0m\n\u001b[1;32m   1118\u001b[0m     \u001b[0;32mif\u001b[0m \u001b[0mfinal_fetches\u001b[0m \u001b[0;32mor\u001b[0m \u001b[0mfinal_targets\u001b[0m \u001b[0;32mor\u001b[0m \u001b[0;34m(\u001b[0m\u001b[0mhandle\u001b[0m \u001b[0;32mand\u001b[0m \u001b[0mfeed_dict_tensor\u001b[0m\u001b[0;34m)\u001b[0m\u001b[0;34m:\u001b[0m\u001b[0;34m\u001b[0m\u001b[0m\n\u001b[1;32m   1119\u001b[0m       results = self._do_run(handle, final_targets, final_fetches,\n\u001b[0;32m-> 1120\u001b[0;31m                              feed_dict_tensor, options, run_metadata)\n\u001b[0m\u001b[1;32m   1121\u001b[0m     \u001b[0;32melse\u001b[0m\u001b[0;34m:\u001b[0m\u001b[0;34m\u001b[0m\u001b[0m\n\u001b[1;32m   1122\u001b[0m       \u001b[0mresults\u001b[0m \u001b[0;34m=\u001b[0m \u001b[0;34m[\u001b[0m\u001b[0;34m]\u001b[0m\u001b[0;34m\u001b[0m\u001b[0m\n",
      "\u001b[0;32m/home/sam/anaconda3/lib/python3.6/site-packages/tensorflow/python/client/session.py\u001b[0m in \u001b[0;36m_do_run\u001b[0;34m(self, handle, target_list, fetch_list, feed_dict, options, run_metadata)\u001b[0m\n\u001b[1;32m   1315\u001b[0m     \u001b[0;32mif\u001b[0m \u001b[0mhandle\u001b[0m \u001b[0;32mis\u001b[0m \u001b[0;32mNone\u001b[0m\u001b[0;34m:\u001b[0m\u001b[0;34m\u001b[0m\u001b[0m\n\u001b[1;32m   1316\u001b[0m       return self._do_call(_run_fn, self._session, feeds, fetches, targets,\n\u001b[0;32m-> 1317\u001b[0;31m                            options, run_metadata)\n\u001b[0m\u001b[1;32m   1318\u001b[0m     \u001b[0;32melse\u001b[0m\u001b[0;34m:\u001b[0m\u001b[0;34m\u001b[0m\u001b[0m\n\u001b[1;32m   1319\u001b[0m       \u001b[0;32mreturn\u001b[0m \u001b[0mself\u001b[0m\u001b[0;34m.\u001b[0m\u001b[0m_do_call\u001b[0m\u001b[0;34m(\u001b[0m\u001b[0m_prun_fn\u001b[0m\u001b[0;34m,\u001b[0m \u001b[0mself\u001b[0m\u001b[0;34m.\u001b[0m\u001b[0m_session\u001b[0m\u001b[0;34m,\u001b[0m \u001b[0mhandle\u001b[0m\u001b[0;34m,\u001b[0m \u001b[0mfeeds\u001b[0m\u001b[0;34m,\u001b[0m \u001b[0mfetches\u001b[0m\u001b[0;34m)\u001b[0m\u001b[0;34m\u001b[0m\u001b[0m\n",
      "\u001b[0;32m/home/sam/anaconda3/lib/python3.6/site-packages/tensorflow/python/client/session.py\u001b[0m in \u001b[0;36m_do_call\u001b[0;34m(self, fn, *args)\u001b[0m\n\u001b[1;32m   1321\u001b[0m   \u001b[0;32mdef\u001b[0m \u001b[0m_do_call\u001b[0m\u001b[0;34m(\u001b[0m\u001b[0mself\u001b[0m\u001b[0;34m,\u001b[0m \u001b[0mfn\u001b[0m\u001b[0;34m,\u001b[0m \u001b[0;34m*\u001b[0m\u001b[0margs\u001b[0m\u001b[0;34m)\u001b[0m\u001b[0;34m:\u001b[0m\u001b[0;34m\u001b[0m\u001b[0m\n\u001b[1;32m   1322\u001b[0m     \u001b[0;32mtry\u001b[0m\u001b[0;34m:\u001b[0m\u001b[0;34m\u001b[0m\u001b[0m\n\u001b[0;32m-> 1323\u001b[0;31m       \u001b[0;32mreturn\u001b[0m \u001b[0mfn\u001b[0m\u001b[0;34m(\u001b[0m\u001b[0;34m*\u001b[0m\u001b[0margs\u001b[0m\u001b[0;34m)\u001b[0m\u001b[0;34m\u001b[0m\u001b[0m\n\u001b[0m\u001b[1;32m   1324\u001b[0m     \u001b[0;32mexcept\u001b[0m \u001b[0merrors\u001b[0m\u001b[0;34m.\u001b[0m\u001b[0mOpError\u001b[0m \u001b[0;32mas\u001b[0m \u001b[0me\u001b[0m\u001b[0;34m:\u001b[0m\u001b[0;34m\u001b[0m\u001b[0m\n\u001b[1;32m   1325\u001b[0m       \u001b[0mmessage\u001b[0m \u001b[0;34m=\u001b[0m \u001b[0mcompat\u001b[0m\u001b[0;34m.\u001b[0m\u001b[0mas_text\u001b[0m\u001b[0;34m(\u001b[0m\u001b[0me\u001b[0m\u001b[0;34m.\u001b[0m\u001b[0mmessage\u001b[0m\u001b[0;34m)\u001b[0m\u001b[0;34m\u001b[0m\u001b[0m\n",
      "\u001b[0;32m/home/sam/anaconda3/lib/python3.6/site-packages/tensorflow/python/client/session.py\u001b[0m in \u001b[0;36m_run_fn\u001b[0;34m(session, feed_dict, fetch_list, target_list, options, run_metadata)\u001b[0m\n\u001b[1;32m   1300\u001b[0m           return tf_session.TF_Run(session, options,\n\u001b[1;32m   1301\u001b[0m                                    \u001b[0mfeed_dict\u001b[0m\u001b[0;34m,\u001b[0m \u001b[0mfetch_list\u001b[0m\u001b[0;34m,\u001b[0m \u001b[0mtarget_list\u001b[0m\u001b[0;34m,\u001b[0m\u001b[0;34m\u001b[0m\u001b[0m\n\u001b[0;32m-> 1302\u001b[0;31m                                    status, run_metadata)\n\u001b[0m\u001b[1;32m   1303\u001b[0m \u001b[0;34m\u001b[0m\u001b[0m\n\u001b[1;32m   1304\u001b[0m     \u001b[0;32mdef\u001b[0m \u001b[0m_prun_fn\u001b[0m\u001b[0;34m(\u001b[0m\u001b[0msession\u001b[0m\u001b[0;34m,\u001b[0m \u001b[0mhandle\u001b[0m\u001b[0;34m,\u001b[0m \u001b[0mfeed_dict\u001b[0m\u001b[0;34m,\u001b[0m \u001b[0mfetch_list\u001b[0m\u001b[0;34m)\u001b[0m\u001b[0;34m:\u001b[0m\u001b[0;34m\u001b[0m\u001b[0m\n",
      "\u001b[0;31mKeyboardInterrupt\u001b[0m: "
     ]
    }
   ],
   "source": [
    "sequence_length = 25\n",
    "overlap = 10\n",
    "batch_size = 64\n",
    "train_all_single_policies(single_game, batch_size, sequence_length, overlap, models_path)"
   ]
  },
  {
   "cell_type": "code",
   "execution_count": null,
   "metadata": {
    "collapsed": true
   },
   "outputs": [],
   "source": []
  },
  {
   "cell_type": "code",
   "execution_count": null,
   "metadata": {
    "collapsed": true
   },
   "outputs": [],
   "source": []
  },
  {
   "cell_type": "code",
   "execution_count": null,
   "metadata": {
    "collapsed": true
   },
   "outputs": [],
   "source": []
  },
  {
   "cell_type": "markdown",
   "metadata": {},
   "source": [
    "### Check performance"
   ]
  },
  {
   "cell_type": "code",
   "execution_count": null,
   "metadata": {
    "collapsed": true
   },
   "outputs": [],
   "source": [
    "# pad short sequence and chunk long sequence with overlaps\n",
    "policy = 0\n",
    "train, target = get_sequences(single_game, policy, sequence_length, overlap)\n",
    "# create train and test set\n",
    "p = 0.8 # train percentage\n",
    "divider = int(len(train)*p)\n",
    "train_game, test_game = np.copy(train[:divider]), np.copy(train[divider:])\n",
    "train_target, test_target = np.copy(target[:divider]), np.copy(target[divider:])\n",
    "Model = ImportGraph('policy0/')"
   ]
  },
  {
   "cell_type": "code",
   "execution_count": null,
   "metadata": {
    "collapsed": true
   },
   "outputs": [],
   "source": [
    "n = 0"
   ]
  },
  {
   "cell_type": "code",
   "execution_count": null,
   "metadata": {
    "collapsed": true
   },
   "outputs": [],
   "source": [
    "# manual plot check\n",
    "plot_check(train_game, n)\n",
    "n+=1"
   ]
  },
  {
   "cell_type": "code",
   "execution_count": null,
   "metadata": {
    "collapsed": true
   },
   "outputs": [],
   "source": [
    "# use while loop to make sure the \n",
    "train_batches = get_minibatches(train_game, train_target, batch_size, shuffle=False)\n",
    "\n",
    "check_ind = np.random.randint(0, len(train_game)//batch_size)\n",
    "print('rand checking index: {0:} out of {1:}'.format(check_ind, len(train_game)//batch_size))\n",
    "\n",
    "input_xi, output_yi = train_batches\n",
    "\n",
    "y_pred = Model.forward_pass(input_xi[check_ind], h=1)\n",
    "y_true = output_yi[check_ind]\n",
    "    \n",
    "y_pred = y_pred[0][0].reshape(-1,2)\n",
    "y_true = y_true[0].reshape(-1,2)\n",
    "\n",
    "plt.figure(figsize=(15,8))\n",
    "for k in range(0, len(y_pred)):\n",
    "    plt.plot(y_pred[:, 0][k], y_pred[:, 1][k], linestyle=\"None\", marker=\"o\", markersize=k, color='g')\n",
    "    plt.plot(y_true[:, 0][k], y_true[:, 1][k], linestyle=\"None\", marker=\"o\", markersize=k, color='b')\n",
    "\n",
    "plt.plot(y_pred[:, 0], y_pred[:, 1],'g', y_true[:,0], y_true[:,1], 'b')#, pred_train[:, 0], pred_train[:, 1])\n",
    "plt.grid(True)"
   ]
  },
  {
   "cell_type": "code",
   "execution_count": null,
   "metadata": {
    "collapsed": true
   },
   "outputs": [],
   "source": []
  },
  {
   "cell_type": "code",
   "execution_count": null,
   "metadata": {
    "collapsed": true
   },
   "outputs": [],
   "source": []
  },
  {
   "cell_type": "code",
   "execution_count": null,
   "metadata": {
    "collapsed": true
   },
   "outputs": [],
   "source": []
  },
  {
   "cell_type": "code",
   "execution_count": null,
   "metadata": {
    "collapsed": true
   },
   "outputs": [],
   "source": []
  },
  {
   "cell_type": "markdown",
   "metadata": {},
   "source": [
    "### To do:\n",
    "\n",
    "    - 1) Regularize the lstm\n",
    "    - 2) Figure out why there are blanks in the testing\n",
    "    - 3) may consider to collect those left out from the process of creating batches\n",
    "    - 4) related to 3), seq_len = 3 may create null batches \n",
    "\n",
    "    - Split data to defending and offending, as the model for e.g. forward role in deffending and offending should be pretty different. Remove particular events, like free-throw etc.\n",
    "    \n",
    "    - We can use the shot clock as an indicator of when the offending and defending switches.\n",
    "    \n",
    "    - The cameras oprate at 25 frames per second, so in order to learn realistic motions, either we sample the 25 frames, or extend the horizon to 50 for example or even longer(this might be too computationally heavy and model would probably drift a lot).\n",
    "    \n",
    "    - At the moment if we don't have defending or offending sepearted, at least we need to break down the sequences from the 24 secs shot clock, since it usually stands for a change in game state. (note: shot clock sometimes is None)\n",
    "    \n",
    "    - Add tensorboard visualization. Add validation performance (maybe, it would take longer). \n",
    "      tensorboard --logdir=./train_logs\n",
    "      \n",
    "    - Start thinking about 1) joint training 2) Hidden structure 3) Smooth learning\n",
    "    - from each sample to next sample theres not much change, subsample them "
   ]
  },
  {
   "cell_type": "markdown",
   "metadata": {
    "collapsed": true
   },
   "source": [
    "### Questions\n",
    "\n",
    "    * After a team scored and they go back to get ready for defense, is the going back trajectory pretty much random?\n",
    "    * Do player swap roles during the play? e.g. a forward swapped to a guard, is the forward roles a lot different from gaurds these day? (i.e. can you differentaite a player plaing forward from guard from the game) If yes, then the hidden structure learning/sequencing is necessary. "
   ]
  },
  {
   "cell_type": "code",
   "execution_count": null,
   "metadata": {
    "collapsed": true
   },
   "outputs": [],
   "source": []
  }
 ],
 "metadata": {
  "kernelspec": {
   "display_name": "Python 3",
   "language": "python",
   "name": "python3"
  },
  "language_info": {
   "codemirror_mode": {
    "name": "ipython",
    "version": 3
   },
   "file_extension": ".py",
   "mimetype": "text/x-python",
   "name": "python",
   "nbconvert_exporter": "python",
   "pygments_lexer": "ipython3",
   "version": "3.6.4"
  }
 },
 "nbformat": 4,
 "nbformat_minor": 2
}
