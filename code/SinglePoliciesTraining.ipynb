{
 "cells": [
  {
   "cell_type": "code",
   "execution_count": 1,
   "metadata": {},
   "outputs": [
    {
     "name": "stderr",
     "output_type": "stream",
     "text": [
      "/home/sam/anaconda3/lib/python3.6/importlib/_bootstrap.py:219: RuntimeWarning: compiletime version 3.5 of module 'tensorflow.python.framework.fast_tensor_util' does not match runtime version 3.6\n",
      "  return f(*args, **kwds)\n",
      "/home/sam/anaconda3/lib/python3.6/site-packages/h5py/__init__.py:36: FutureWarning: Conversion of the second argument of issubdtype from `float` to `np.floating` is deprecated. In future, it will be treated as `np.float64 == np.dtype(float).type`.\n",
      "  from ._conv import register_converters as _register_converters\n"
     ]
    }
   ],
   "source": [
    "import tensorflow as tf\n",
    "from tensorflow.python.ops.rnn import _transpose_batch_time\n",
    "\n",
    "from datetime import datetime\n",
    "import numpy as np\n",
    "import pandas as pd\n",
    "import glob, os, sys, math, warnings\n",
    "import matplotlib.pyplot as plt\n",
    "import copy, time, glob, os, sys\n",
    "os.environ[\"TF_CPP_MIN_LOG_LEVEL\"]=\"3\"\n",
    "\n",
    "# customized ftns \n",
    "from helpers import *\n",
    "from utilities import *\n",
    "from model import *\n",
    "from train import train_all_single_policies\n",
    "# ---------------------------------------------------------\n",
    "%matplotlib inline\n",
    "%load_ext autoreload\n",
    "%autoreload 2\n",
    "warnings.filterwarnings('ignore')\n",
    "# warnings.filterwarnings(action='once')\n",
    "# ---------------------------------------------------------\n",
    "# directories\n",
    "main_dir = '../'\n",
    "game_dir = main_dir+'data/'\n",
    "Data = LoadData(main_dir, game_dir)\n",
    "models_path = './models/' "
   ]
  },
  {
   "cell_type": "markdown",
   "metadata": {},
   "source": [
    "#### Load raw data"
   ]
  },
  {
   "cell_type": "code",
   "execution_count": 2,
   "metadata": {},
   "outputs": [
    {
     "name": "stdout",
     "output_type": "stream",
     "text": [
      "raw events shape: (231, 8)\n"
     ]
    },
    {
     "data": {
      "text/html": [
       "<div>\n",
       "<style>\n",
       "    .dataframe thead tr:only-child th {\n",
       "        text-align: right;\n",
       "    }\n",
       "\n",
       "    .dataframe thead th {\n",
       "        text-align: left;\n",
       "    }\n",
       "\n",
       "    .dataframe tbody tr th {\n",
       "        vertical-align: top;\n",
       "    }\n",
       "</style>\n",
       "<table border=\"1\" class=\"dataframe\">\n",
       "  <thead>\n",
       "    <tr style=\"text-align: right;\">\n",
       "      <th></th>\n",
       "      <th>end_time_left</th>\n",
       "      <th>home</th>\n",
       "      <th>moments</th>\n",
       "      <th>orig_events</th>\n",
       "      <th>playbyplay</th>\n",
       "      <th>quarter</th>\n",
       "      <th>start_time_left</th>\n",
       "      <th>visitor</th>\n",
       "    </tr>\n",
       "  </thead>\n",
       "  <tbody>\n",
       "    <tr>\n",
       "      <th>0</th>\n",
       "      <td>702.31</td>\n",
       "      <td>{'abbreviation': 'CHI', 'players': [{'playerid...</td>\n",
       "      <td>[[1, 1451351428029, 708.28, 12.78, None, [[-1,...</td>\n",
       "      <td>[0]</td>\n",
       "      <td>GAME_ID  EVENTNUM  EVENTMSGTYPE  EVENTMS...</td>\n",
       "      <td>1</td>\n",
       "      <td>708.28</td>\n",
       "      <td>{'abbreviation': 'TOR', 'players': [{'playerid...</td>\n",
       "    </tr>\n",
       "    <tr>\n",
       "      <th>1</th>\n",
       "      <td>686.28</td>\n",
       "      <td>{'abbreviation': 'CHI', 'players': [{'playerid...</td>\n",
       "      <td>[[1, 1451351428029, 708.28, 12.78, None, [[-1,...</td>\n",
       "      <td>[1]</td>\n",
       "      <td>GAME_ID  EVENTNUM  EVENTMSGTYPE  EVENTMS...</td>\n",
       "      <td>1</td>\n",
       "      <td>708.28</td>\n",
       "      <td>{'abbreviation': 'TOR', 'players': [{'playerid...</td>\n",
       "    </tr>\n",
       "    <tr>\n",
       "      <th>2</th>\n",
       "      <td>668.42</td>\n",
       "      <td>{'abbreviation': 'CHI', 'players': [{'playerid...</td>\n",
       "      <td>[[1, 1451351444029, 692.25, 12.21, None, [[-1,...</td>\n",
       "      <td>[2, 3]</td>\n",
       "      <td>GAME_ID  EVENTNUM  EVENTMSGTYPE  EVENTMS...</td>\n",
       "      <td>1</td>\n",
       "      <td>692.25</td>\n",
       "      <td>{'abbreviation': 'TOR', 'players': [{'playerid...</td>\n",
       "    </tr>\n",
       "  </tbody>\n",
       "</table>\n",
       "</div>"
      ],
      "text/plain": [
       "   end_time_left                                               home  \\\n",
       "0         702.31  {'abbreviation': 'CHI', 'players': [{'playerid...   \n",
       "1         686.28  {'abbreviation': 'CHI', 'players': [{'playerid...   \n",
       "2         668.42  {'abbreviation': 'CHI', 'players': [{'playerid...   \n",
       "\n",
       "                                             moments orig_events  \\\n",
       "0  [[1, 1451351428029, 708.28, 12.78, None, [[-1,...         [0]   \n",
       "1  [[1, 1451351428029, 708.28, 12.78, None, [[-1,...         [1]   \n",
       "2  [[1, 1451351444029, 692.25, 12.21, None, [[-1,...      [2, 3]   \n",
       "\n",
       "                                          playbyplay  quarter  \\\n",
       "0        GAME_ID  EVENTNUM  EVENTMSGTYPE  EVENTMS...        1   \n",
       "1        GAME_ID  EVENTNUM  EVENTMSGTYPE  EVENTMS...        1   \n",
       "2        GAME_ID  EVENTNUM  EVENTMSGTYPE  EVENTMS...        1   \n",
       "\n",
       "   start_time_left                                            visitor  \n",
       "0           708.28  {'abbreviation': 'TOR', 'players': [{'playerid...  \n",
       "1           708.28  {'abbreviation': 'TOR', 'players': [{'playerid...  \n",
       "2           692.25  {'abbreviation': 'TOR', 'players': [{'playerid...  "
      ]
     },
     "execution_count": 2,
     "metadata": {},
     "output_type": "execute_result"
    }
   ],
   "source": [
    "# %%time\n",
    "game_id = '0021500463'\n",
    "game_data = Data.load_game(game_id)\n",
    "events_df = pd.DataFrame(game_data['events'])\n",
    "print('raw events shape:', events_df.shape)\n",
    "events_df.head(3)"
   ]
  },
  {
   "cell_type": "markdown",
   "metadata": {},
   "source": [
    "#### Get some suplementary data"
   ]
  },
  {
   "cell_type": "code",
   "execution_count": 3,
   "metadata": {
    "collapsed": true
   },
   "outputs": [],
   "source": [
    "# play id to play roles/positions\n",
    "id_role = id_position(events_df)\n",
    "check_game_roles_duplicates(id_role)\n",
    "\n",
    "# its possible that F has similar role as G-f or F-G, we create empty slots to ensure meta order\n",
    "# ddentify defending and offending runs (this is included in process_moments)\n",
    "court_index = Data.load_csv('./meta_data/court_index.csv')\n",
    "court_index = dict(zip(court_index.game_id, court_index.court_position))\n",
    "\n",
    "# home and visitor ids\n",
    "homeid = events_df.loc[0].home['teamid']\n",
    "awayid = events_df.loc[0].visitor['teamid']"
   ]
  },
  {
   "cell_type": "markdown",
   "metadata": {},
   "source": [
    "#### Pre-process \n",
    "filter events, subsample frames, add velocity, reorder moments, re-arrange team order\n",
    "shot clock, filter out event with short moments"
   ]
  },
  {
   "cell_type": "code",
   "execution_count": 4,
   "metadata": {},
   "outputs": [
    {
     "name": "stdout",
     "output_type": "stream",
     "text": [
      "After filtering events has shape: (134, 8)\n",
      "Final number of events: 165\n"
     ]
    }
   ],
   "source": [
    "# filter out actions except 1: Make, 2: Miss, 4: Rebound, 6:Personal Foul, 7:Violation\n",
    "use_event = [1, 2, 4, 6, 7]\n",
    "discard_event = [3, 5, 8, 9, 10, 12, 13, 18]\n",
    "# events = filter_event_type(events_df, discard_event)\n",
    "events = events_df.copy()\n",
    "# print('After filtering events has shape:', events.shape)\n",
    "# break up sequences at 24secs shot clock point (or irregular case, e.g. out of bound maybe),\n",
    "# and obtain the game data\n",
    "subsample_factor = 2\n",
    "single_game, single_game_balls = get_game_data_ra(events, court_index, game_id, \n",
    "                                                  event_threshold=10, subsample_factor=subsample_factor)\n",
    "print('Final number of events:', len(single_game))\n",
    "\n",
    "# get player velocity\n",
    "fs_base = 1./25 # 1/25 sec/frame   or  25 frames/sec\n",
    "fs = fs_base * subsample_factor if subsample_factor != 0 else fs_base\n",
    "single_game = [get_velocity(i, fs, mode=1) for i in single_game]\n",
    "n_events = len(single_game)\n",
    "\n",
    "# get basketball velocity\n",
    "single_game_balls = [np.concatenate([i[:-1, :], get_velocity(i, fs, mode=0)], axis=1) for i in single_game_balls]"
   ]
  },
  {
   "cell_type": "code",
   "execution_count": 5,
   "metadata": {},
   "outputs": [
    {
     "data": {
      "text/plain": [
       "(37, 40)"
      ]
     },
     "execution_count": 5,
     "metadata": {},
     "output_type": "execute_result"
    }
   ],
   "source": [
    "single_game[0].shape"
   ]
  },
  {
   "cell_type": "code",
   "execution_count": 6,
   "metadata": {},
   "outputs": [
    {
     "data": {
      "text/plain": [
       "(37, 6)"
      ]
     },
     "execution_count": 6,
     "metadata": {},
     "output_type": "execute_result"
    }
   ],
   "source": [
    "single_game_balls[0].shape"
   ]
  },
  {
   "cell_type": "markdown",
   "metadata": {},
   "source": [
    "#### Role assignment and reorder moment"
   ]
  },
  {
   "cell_type": "code",
   "execution_count": 7,
   "metadata": {
    "collapsed": true
   },
   "outputs": [],
   "source": [
    "# first prepare data\n",
    "n_defend = 5\n",
    "n_offend = 5\n",
    "n_ind = 4\n",
    "\n",
    "# length for each moment\n",
    "event_lengths = np.array([len(i) for i in single_game])\n",
    "# repeat the event_lengths 5 times in order to match the unstack later on with moments\n",
    "event_lengths_repeat = np.concatenate([event_lengths for _ in range(n_defend)], axis=0)\n",
    "# all the moments\n",
    "all_moments = np.concatenate(single_game, axis=0)\n",
    "all_moments_vel = np.concatenate(single_game, axis=0) # vel\n",
    "# we only need the first 5 players x,y coordindates\n",
    "# defend\n",
    "all_defend_moments = all_moments[:, :n_ind*n_defend]\n",
    "# offend\n",
    "all_offend_moments = all_moments[:, n_ind*n_offend:]\n",
    "\n",
    "# flattened\n",
    "all_defend_moments_ = np.concatenate([all_defend_moments[:, i:i+n_ind] for i in range(0, n_ind*n_defend, n_ind)], axis=0)\n",
    "all_offend_moments_ = np.concatenate([all_offend_moments[:, i:i+n_ind] for i in range(0, n_ind*n_offend, n_ind)], axis=0)"
   ]
  },
  {
   "cell_type": "code",
   "execution_count": 8,
   "metadata": {
    "collapsed": true
   },
   "outputs": [],
   "source": [
    "# create hmm model\n",
    "n_comp = 7\n",
    "n_mix = None\n",
    "RA = RoleAssignment(n_iter=50,verbose=True)"
   ]
  },
  {
   "cell_type": "code",
   "execution_count": 9,
   "metadata": {
    "scrolled": true
   },
   "outputs": [
    {
     "name": "stderr",
     "output_type": "stream",
     "text": [
      "         1    -1526457.8325             +nan\n",
      "         2    -1268924.5854     +257533.2471\n",
      "         3    -1200828.2524      +68096.3330\n",
      "         4    -1172055.6233      +28772.6291\n",
      "         5    -1168202.8601       +3852.7632\n",
      "         6    -1166918.4365       +1284.4236\n",
      "         7    -1166079.8787        +838.5578\n",
      "         8    -1165555.5242        +524.3545\n",
      "         9    -1165269.0194        +286.5048\n",
      "        10    -1165082.1474        +186.8720\n",
      "        11    -1164971.9147        +110.2327\n",
      "        12    -1164914.3671         +57.5477\n",
      "        13    -1164891.1977         +23.1694\n",
      "        14    -1164881.8610          +9.3367\n",
      "        15    -1164877.5057          +4.3553\n",
      "        16    -1164875.3154          +2.1902\n",
      "        17    -1164874.1176          +1.1978\n",
      "        18    -1164873.3956          +0.7220\n",
      "        19    -1164872.9145          +0.4811\n",
      "        20    -1164872.5633          +0.3512\n",
      "        21    -1164872.2874          +0.2759\n",
      "        22    -1164872.0588          +0.2287\n",
      "        23    -1164871.8621          +0.1966\n",
      "        24    -1164871.6884          +0.1737\n",
      "        25    -1164871.5309          +0.1575\n",
      "        26    -1164871.3832          +0.1477\n",
      "        27    -1164871.2383          +0.1449\n",
      "        28    -1164871.0897          +0.1486\n",
      "        29    -1164870.9373          +0.1523\n",
      "        30    -1164870.7939          +0.1435\n",
      "        31    -1164870.6772          +0.1167\n",
      "        32    -1164870.5929          +0.0843\n",
      "        33    -1164870.5329          +0.0600\n",
      "        34    -1164870.4876          +0.0453\n",
      "        35    -1164870.4510          +0.0366\n",
      "        36    -1164870.4200          +0.0310\n",
      "        37    -1164870.3930          +0.0270\n",
      "        38    -1164870.3692          +0.0238\n",
      "        39    -1164870.3481          +0.0212\n",
      "        40    -1164870.3291          +0.0190\n",
      "        41    -1164870.3120          +0.0171\n",
      "        42    -1164870.2965          +0.0155\n",
      "        43    -1164870.2823          +0.0142\n",
      "        44    -1164870.2693          +0.0130\n",
      "        45    -1164870.2572          +0.0120\n",
      "        46    -1164870.2461          +0.0112\n",
      "        47    -1164870.2356          +0.0104\n",
      "        48    -1164870.2259          +0.0098\n",
      "         1    -1677542.2184             +nan\n",
      "         2    -1397223.2042     +280319.0142\n",
      "         3    -1318761.2083      +78461.9960\n",
      "         4    -1292368.8909      +26392.3173\n",
      "         5    -1284579.2792       +7789.6118\n",
      "         6    -1282959.7569       +1619.5222\n",
      "         7    -1281825.3392       +1134.4178\n",
      "         8    -1281054.7844        +770.5548\n",
      "         9    -1280509.7090        +545.0753\n",
      "        10    -1280193.0207        +316.6883\n",
      "        11    -1280023.9156        +169.1051\n",
      "        12    -1279896.2449        +127.6707\n",
      "        13    -1279769.0750        +127.1699\n",
      "        14    -1279627.7735        +141.3015\n",
      "        15    -1279500.9772        +126.7963\n",
      "        16    -1279378.2119        +122.7652\n",
      "        17    -1279303.6785         +74.5334\n",
      "        18    -1279263.6661         +40.0124\n",
      "        19    -1279241.8657         +21.8004\n",
      "        20    -1279229.2685         +12.5972\n",
      "        21    -1279221.7699          +7.4986\n",
      "        22    -1279216.8560          +4.9139\n",
      "        23    -1279213.1648          +3.6912\n",
      "        24    -1279210.0003          +3.1646\n",
      "        25    -1279207.0391          +2.9611\n",
      "        26    -1279204.2209          +2.8182\n",
      "        27    -1279201.6883          +2.5326\n",
      "        28    -1279199.6302          +2.0582\n",
      "        29    -1279198.1007          +1.5294\n",
      "        30    -1279197.0132          +1.0875\n",
      "        31    -1279196.2382          +0.7750\n",
      "        32    -1279195.6674          +0.5709\n",
      "        33    -1279195.2244          +0.4430\n",
      "        34    -1279194.8571          +0.3672\n",
      "        35    -1279194.5295          +0.3276\n",
      "        36    -1279194.2173          +0.3123\n",
      "        37    -1279193.9077          +0.3096\n",
      "        38    -1279193.6016          +0.3061\n",
      "        39    -1279193.3114          +0.2902\n",
      "        40    -1279193.0517          +0.2597\n",
      "        41    -1279192.8299          +0.2218\n",
      "        42    -1279192.6451          +0.1848\n",
      "        43    -1279192.4922          +0.1529\n",
      "        44    -1279192.3654          +0.1268\n",
      "        45    -1279192.2596          +0.1058\n",
      "        46    -1279192.1707          +0.0889\n",
      "        47    -1279192.0954          +0.0753\n",
      "        48    -1279192.0311          +0.0643\n",
      "        49    -1279191.9758          +0.0554\n",
      "        50    -1279191.9276          +0.0482\n"
     ]
    }
   ],
   "source": [
    "# train\n",
    "defend_state_sequence_, defend_means, defend_covs, _ = RA.train_hmm(all_defend_moments_, event_lengths_repeat, n_comp, n_mix)\n",
    "offend_state_sequence_, offend_means, offend_covs, _ = RA.train_hmm(all_offend_moments_, event_lengths_repeat, n_comp, n_mix)\n",
    "# get role orders\n",
    "_, defend_roles = RA.assign_roles(all_defend_moments_, all_defend_moments, defend_means, event_lengths)\n",
    "_, offend_roles = RA.assign_roles(all_offend_moments_, all_offend_moments, offend_means, event_lengths)"
   ]
  },
  {
   "cell_type": "code",
   "execution_count": 10,
   "metadata": {
    "collapsed": true
   },
   "outputs": [],
   "source": [
    "defend_pos_vel = order_moment_ra([i[:, :n_ind*5] for i in single_game], defend_roles)\n",
    "offend_pos_vel = order_moment_ra([i[:, n_ind*5:] for i in single_game], offend_roles)"
   ]
  },
  {
   "cell_type": "code",
   "execution_count": 11,
   "metadata": {},
   "outputs": [
    {
     "data": {
      "text/plain": [
       "(37, 6)"
      ]
     },
     "execution_count": 11,
     "metadata": {},
     "output_type": "execute_result"
    }
   ],
   "source": [
    "single_game_balls[0].shape"
   ]
  },
  {
   "cell_type": "code",
   "execution_count": 12,
   "metadata": {},
   "outputs": [
    {
     "data": {
      "text/plain": [
       "(37, 28)"
      ]
     },
     "execution_count": 12,
     "metadata": {},
     "output_type": "execute_result"
    }
   ],
   "source": [
    "defend_pos_vel[0].shape"
   ]
  },
  {
   "cell_type": "code",
   "execution_count": 13,
   "metadata": {},
   "outputs": [
    {
     "data": {
      "text/plain": [
       "array([[11.15334, 21.35529, -4.02675, ..., 11.67492, -0.2985 ,  0.495  ],\n",
       "       [10.99227, 21.31452, -2.59725, ..., 11.69472, -0.29875,  0.7705 ],\n",
       "       [10.88838, 21.3161 , -2.02775, ..., 11.72554, -0.30525,  1.0805 ],\n",
       "       ...,\n",
       "       [ 8.37199, 23.28826, -5.046  , ..., 17.59439,  1.261  ,  0.8865 ],\n",
       "       [ 8.17015, 23.48841, -4.9075 , ..., 17.62985,  0.03675,  0.445  ],\n",
       "       [ 7.97385, 23.71319, -4.1805 , ..., 17.64765, -0.16425,  0.76475]])"
      ]
     },
     "execution_count": 13,
     "metadata": {},
     "output_type": "execute_result"
    }
   ],
   "source": [
    "defend_pos_vel[0]"
   ]
  },
  {
   "cell_type": "code",
   "execution_count": 14,
   "metadata": {
    "collapsed": true
   },
   "outputs": [],
   "source": [
    "# concatenate defend, offend roles pos and velocity and the basketball pos and vel\n",
    "single_game = [np.concatenate([defend_pos_vel[i], offend_pos_vel[i], single_game_balls[i]], axis=1) for i in range(n_events)]\n",
    "# single_game = [np.concatenate([defend_pos_vel[i], offend_pos_vel[i]], axis=1) for i in range(n_events)]"
   ]
  },
  {
   "cell_type": "code",
   "execution_count": 15,
   "metadata": {},
   "outputs": [
    {
     "data": {
      "text/plain": [
       "(37, 62)"
      ]
     },
     "execution_count": 15,
     "metadata": {},
     "output_type": "execute_result"
    }
   ],
   "source": [
    "single_game[0].shape"
   ]
  },
  {
   "cell_type": "code",
   "execution_count": 16,
   "metadata": {
    "collapsed": true
   },
   "outputs": [],
   "source": [
    "all_roles = [np.concatenate([defend_roles[i], offend_roles[i]], axis=1) for i in range(len(single_game))]"
   ]
  },
  {
   "cell_type": "code",
   "execution_count": 17,
   "metadata": {},
   "outputs": [
    {
     "data": {
      "text/plain": [
       "(37, 10)"
      ]
     },
     "execution_count": 17,
     "metadata": {},
     "output_type": "execute_result"
    }
   ],
   "source": [
    "all_roles[0].shape"
   ]
  },
  {
   "cell_type": "code",
   "execution_count": 18,
   "metadata": {},
   "outputs": [
    {
     "data": {
      "text/plain": [
       "165"
      ]
     },
     "execution_count": 18,
     "metadata": {},
     "output_type": "execute_result"
    }
   ],
   "source": [
    "len(all_roles)"
   ]
  },
  {
   "cell_type": "code",
   "execution_count": 19,
   "metadata": {},
   "outputs": [
    {
     "data": {
      "text/plain": [
       "165"
      ]
     },
     "execution_count": 19,
     "metadata": {},
     "output_type": "execute_result"
    }
   ],
   "source": [
    "n_events"
   ]
  },
  {
   "cell_type": "markdown",
   "metadata": {},
   "source": [
    "#### Show the plot, for the sake of comparison with processed moment later on"
   ]
  },
  {
   "cell_type": "code",
   "execution_count": 20,
   "metadata": {
    "collapsed": true,
    "scrolled": false
   },
   "outputs": [],
   "source": [
    "# Plot = PlotGame(game_id, main_dir, game_dir)\n",
    "# # for i in range(plotn): \n",
    "# Plot.load_moment2img(game_data, event_number=0, moment_number=0, return_img=True)"
   ]
  },
  {
   "cell_type": "code",
   "execution_count": 21,
   "metadata": {
    "collapsed": true
   },
   "outputs": [],
   "source": [
    "# # manual plot check\n",
    "# plot_check(single_game, plt_ind=0)"
   ]
  },
  {
   "cell_type": "markdown",
   "metadata": {},
   "source": [
    "#### Build graph and starts training for all single policies"
   ]
  },
  {
   "cell_type": "code",
   "execution_count": 22,
   "metadata": {
    "scrolled": true
   },
   "outputs": [
    {
     "name": "stdout",
     "output_type": "stream",
     "text": [
      "Wroking on policy 0\n",
      "Horizon 0 ==========\n",
      "Epoch 0    | loss: 241.57   | time took: 0.85s | validation loss: 157.75  \n",
      "Epoch 100  | loss: 9.12     | time took: 0.68s | validation loss: 11.74   \n",
      "Epoch 200  | loss: 7.66     | time took: 0.68s | validation loss: 14.51   \n",
      "Epoch 300  | loss: 6.85     | time took: 0.68s | validation loss: 9.52    \n",
      "Epoch 400  | loss: 5.73     | time took: 0.68s | validation loss: 8.77    \n",
      "Epoch 500  | loss: 5.31     | time took: 0.69s | validation loss: 8.77    \n",
      "Epoch 600  | loss: 5.31     | time took: 0.68s | validation loss: 8.83    \n",
      "Epoch 700  | loss: 5.61     | time took: 0.68s | validation loss: 10.70   \n",
      "Epoch 800  | loss: 5.00     | time took: 0.69s | validation loss: 8.95    \n",
      "Epoch 900  | loss: 4.80     | time took: 0.68s | validation loss: 8.88    \n",
      "Total time took: 0.19hrs\n",
      "Horizon 2 ==========\n",
      "Epoch 0    | loss: 12.74    | time took: 0.72s | validation loss: 21.88   \n",
      "Epoch 100  | loss: 6.43     | time took: 0.71s | validation loss: 17.75   \n",
      "Epoch 200  | loss: 10.87    | time took: 0.71s | validation loss: 28.84   \n",
      "Epoch 300  | loss: 6.01     | time took: 0.71s | validation loss: 27.09   \n",
      "Epoch 400  | loss: 5.77     | time took: 0.71s | validation loss: 21.44   \n",
      "Epoch 500  | loss: 5.75     | time took: 0.71s | validation loss: 25.56   \n",
      "Epoch 600  | loss: 6.55     | time took: 0.71s | validation loss: 22.29   \n",
      "Epoch 700  | loss: 5.85     | time took: 0.71s | validation loss: 24.03   \n",
      "Epoch 800  | loss: 5.62     | time took: 0.71s | validation loss: 21.87   \n",
      "Epoch 900  | loss: 5.87     | time took: 0.71s | validation loss: 25.98   \n",
      "Total time took: 0.39hrs\n",
      "Horizon 4 ==========\n",
      "Epoch 0    | loss: 6.24     | time took: 0.72s | validation loss: 27.64   \n",
      "Epoch 100  | loss: 5.95     | time took: 0.71s | validation loss: 27.81   \n",
      "Epoch 200  | loss: 7.46     | time took: 0.71s | validation loss: 24.79   \n",
      "Epoch 300  | loss: 6.15     | time took: 0.71s | validation loss: 30.86   \n",
      "Epoch 400  | loss: 7.12     | time took: 0.71s | validation loss: 29.82   \n",
      "Epoch 500  | loss: 5.97     | time took: 0.71s | validation loss: 30.43   \n",
      "Epoch 600  | loss: 7.33     | time took: 0.71s | validation loss: 27.84   \n",
      "Epoch 700  | loss: 7.20     | time took: 0.72s | validation loss: 29.18   \n",
      "Epoch 800  | loss: 7.27     | time took: 0.71s | validation loss: 29.02   \n",
      "Epoch 900  | loss: 6.48     | time took: 0.71s | validation loss: 29.99   \n",
      "Total time took: 0.59hrs\n",
      "Horizon 6 ==========\n",
      "Epoch 0    | loss: 6.33     | time took: 0.72s | validation loss: 34.75   \n",
      "Epoch 100  | loss: 6.29     | time took: 0.72s | validation loss: 29.54   \n",
      "Epoch 200  | loss: 6.05     | time took: 0.72s | validation loss: 29.48   \n",
      "Epoch 300  | loss: 6.02     | time took: 0.72s | validation loss: 28.96   \n",
      "Epoch 400  | loss: 6.06     | time took: 0.72s | validation loss: 28.25   \n",
      "Epoch 500  | loss: 5.87     | time took: 0.72s | validation loss: 28.97   \n",
      "Epoch 600  | loss: 5.80     | time took: 0.71s | validation loss: 28.34   \n",
      "Epoch 700  | loss: 6.76     | time took: 0.72s | validation loss: 28.36   \n",
      "Epoch 800  | loss: 6.04     | time took: 0.72s | validation loss: 29.56   \n",
      "Epoch 900  | loss: 6.19     | time took: 0.72s | validation loss: 30.41   \n",
      "Total time took: 0.79hrs\n",
      "Done saving model for 0 \n",
      "\n",
      "Wroking on policy 1\n",
      "Horizon 0 ==========\n",
      "Epoch 0    | loss: 357.89   | time took: 0.75s | validation loss: 200.22  \n",
      "Epoch 100  | loss: 8.18     | time took: 0.69s | validation loss: 8.11    \n",
      "Epoch 200  | loss: 6.61     | time took: 0.69s | validation loss: 6.48    \n",
      "Epoch 300  | loss: 6.56     | time took: 0.69s | validation loss: 6.21    \n",
      "Epoch 400  | loss: 5.24     | time took: 0.69s | validation loss: 5.32    \n",
      "Epoch 500  | loss: 4.91     | time took: 0.69s | validation loss: 4.93    \n",
      "Epoch 600  | loss: 4.84     | time took: 0.69s | validation loss: 5.03    \n",
      "Epoch 700  | loss: 4.48     | time took: 0.69s | validation loss: 4.53    \n",
      "Epoch 800  | loss: 4.18     | time took: 0.69s | validation loss: 4.38    \n",
      "Epoch 900  | loss: 4.46     | time took: 0.69s | validation loss: 4.40    \n",
      "Total time took: 0.19hrs\n",
      "Horizon 2 ==========\n",
      "Epoch 0    | loss: 15.38    | time took: 0.72s | validation loss: 13.28   \n",
      "Epoch 100  | loss: 6.06     | time took: 0.72s | validation loss: 6.31    \n",
      "Epoch 200  | loss: 5.93     | time took: 0.72s | validation loss: 10.86   \n",
      "Epoch 300  | loss: 5.38     | time took: 0.72s | validation loss: 6.91    \n",
      "Epoch 400  | loss: 5.00     | time took: 0.72s | validation loss: 7.28    \n",
      "Epoch 500  | loss: 6.40     | time took: 0.73s | validation loss: 10.41   \n",
      "Epoch 600  | loss: 5.42     | time took: 0.72s | validation loss: 13.95   \n",
      "Epoch 700  | loss: 4.92     | time took: 0.73s | validation loss: 9.56    \n",
      "Epoch 800  | loss: 4.84     | time took: 0.72s | validation loss: 11.68   \n",
      "Epoch 900  | loss: 4.67     | time took: 0.72s | validation loss: 9.12    \n",
      "Total time took: 0.39hrs\n",
      "Horizon 4 ==========\n",
      "Epoch 0    | loss: 5.16     | time took: 0.73s | validation loss: 10.61   \n",
      "Epoch 100  | loss: 5.12     | time took: 0.73s | validation loss: 11.94   \n",
      "Epoch 200  | loss: 4.94     | time took: 0.73s | validation loss: 14.23   \n",
      "Epoch 300  | loss: 4.92     | time took: 0.73s | validation loss: 14.85   \n",
      "Epoch 400  | loss: 5.36     | time took: 0.73s | validation loss: 17.57   \n",
      "Epoch 500  | loss: 5.31     | time took: 0.73s | validation loss: 14.19   \n",
      "Epoch 600  | loss: 5.66     | time took: 0.73s | validation loss: 12.87   \n",
      "Epoch 700  | loss: 5.28     | time took: 0.73s | validation loss: 11.88   \n",
      "Epoch 800  | loss: 5.26     | time took: 0.73s | validation loss: 14.31   \n",
      "Epoch 900  | loss: 5.44     | time took: 0.73s | validation loss: 15.76   \n",
      "Total time took: 0.60hrs\n",
      "Horizon 6 ==========\n",
      "Epoch 0    | loss: 6.00     | time took: 0.73s | validation loss: 17.33   \n",
      "Epoch 100  | loss: 5.03     | time took: 0.73s | validation loss: 17.13   \n",
      "Epoch 200  | loss: 5.22     | time took: 0.74s | validation loss: 15.25   \n",
      "Epoch 300  | loss: 4.97     | time took: 0.73s | validation loss: 15.06   \n",
      "Epoch 400  | loss: 4.68     | time took: 0.73s | validation loss: 14.61   \n",
      "Epoch 500  | loss: 4.79     | time took: 0.73s | validation loss: 14.63   \n",
      "Epoch 600  | loss: 4.98     | time took: 0.73s | validation loss: 15.17   \n",
      "Epoch 700  | loss: 9.90     | time took: 0.74s | validation loss: 15.60   \n",
      "Epoch 800  | loss: 4.80     | time took: 0.73s | validation loss: 16.36   \n",
      "Epoch 900  | loss: 4.67     | time took: 0.73s | validation loss: 15.48   \n",
      "Total time took: 0.80hrs\n",
      "Done saving model for 1 \n",
      "\n",
      "Wroking on policy 2\n",
      "Horizon 0 ==========\n",
      "Epoch 0    | loss: 36.19    | time took: 0.76s | validation loss: 21.75   \n",
      "Epoch 100  | loss: 0.48     | time took: 0.69s | validation loss: 0.53    \n",
      "Epoch 200  | loss: 0.48     | time took: 0.69s | validation loss: 0.53    \n",
      "Epoch 300  | loss: 0.48     | time took: 0.69s | validation loss: 0.53    \n",
      "Epoch 400  | loss: 0.48     | time took: 0.69s | validation loss: 0.53    \n",
      "Epoch 500  | loss: 0.48     | time took: 0.69s | validation loss: 0.53    \n",
      "Epoch 600  | loss: 0.48     | time took: 0.70s | validation loss: 0.53    \n",
      "Epoch 700  | loss: 0.48     | time took: 0.69s | validation loss: 0.53    \n",
      "Epoch 800  | loss: 0.48     | time took: 0.70s | validation loss: 0.53    \n",
      "Epoch 900  | loss: 0.48     | time took: 0.69s | validation loss: 0.53    \n",
      "Total time took: 0.19hrs\n",
      "Horizon 2 ==========\n",
      "Epoch 0    | loss: 0.48     | time took: 0.78s | validation loss: 0.53    \n",
      "Epoch 100  | loss: 0.48     | time took: 0.72s | validation loss: 0.53    \n",
      "Epoch 200  | loss: 0.48     | time took: 0.72s | validation loss: 0.53    \n",
      "Epoch 300  | loss: 0.48     | time took: 0.72s | validation loss: 0.53    \n",
      "Epoch 400  | loss: 0.48     | time took: 0.73s | validation loss: 0.53    \n",
      "Epoch 500  | loss: 0.48     | time took: 0.73s | validation loss: 0.53    \n",
      "Epoch 600  | loss: 0.48     | time took: 0.72s | validation loss: 0.53    \n",
      "Epoch 700  | loss: 0.48     | time took: 0.73s | validation loss: 0.53    \n",
      "Epoch 800  | loss: 0.48     | time took: 0.72s | validation loss: 0.53    \n",
      "Epoch 900  | loss: 0.48     | time took: 0.72s | validation loss: 0.53    \n",
      "Total time took: 0.39hrs\n",
      "Horizon 4 ==========\n",
      "Epoch 0    | loss: 0.48     | time took: 0.73s | validation loss: 0.53    \n",
      "Epoch 100  | loss: 0.48     | time took: 0.73s | validation loss: 0.53    \n"
     ]
    },
    {
     "name": "stdout",
     "output_type": "stream",
     "text": [
      "Epoch 200  | loss: 0.48     | time took: 0.72s | validation loss: 0.53    \n",
      "Epoch 300  | loss: 0.48     | time took: 0.73s | validation loss: 0.53    \n",
      "Epoch 400  | loss: 0.48     | time took: 0.72s | validation loss: 0.53    \n",
      "Epoch 500  | loss: 0.48     | time took: 0.73s | validation loss: 0.53    \n",
      "Epoch 600  | loss: 0.48     | time took: 0.73s | validation loss: 0.53    \n",
      "Epoch 700  | loss: 0.48     | time took: 0.73s | validation loss: 0.53    \n",
      "Epoch 800  | loss: 0.48     | time took: 0.73s | validation loss: 0.53    \n",
      "Epoch 900  | loss: 0.48     | time took: 0.73s | validation loss: 0.53    \n",
      "Total time took: 0.60hrs\n",
      "Horizon 6 ==========\n",
      "Epoch 0    | loss: 0.48     | time took: 0.73s | validation loss: 0.53    \n",
      "Epoch 100  | loss: 0.48     | time took: 0.73s | validation loss: 0.53    \n",
      "Epoch 200  | loss: 0.48     | time took: 0.73s | validation loss: 0.53    \n",
      "Epoch 300  | loss: 0.48     | time took: 0.73s | validation loss: 0.53    \n",
      "Epoch 400  | loss: 0.48     | time took: 0.73s | validation loss: 0.53    \n",
      "Epoch 500  | loss: 0.48     | time took: 0.73s | validation loss: 0.53    \n",
      "Epoch 600  | loss: 0.48     | time took: 0.73s | validation loss: 0.53    \n",
      "Epoch 700  | loss: 0.48     | time took: 0.73s | validation loss: 0.53    \n",
      "Epoch 800  | loss: 0.48     | time took: 0.74s | validation loss: 0.53    \n",
      "Epoch 900  | loss: 0.48     | time took: 0.73s | validation loss: 0.53    \n",
      "Total time took: 0.80hrs\n",
      "Done saving model for 2 \n",
      "\n",
      "Wroking on policy 3\n",
      "Horizon 0 ==========\n",
      "Epoch 0    | loss: 35.89    | time took: 0.76s | validation loss: 21.43   \n",
      "Epoch 100  | loss: 0.31     | time took: 0.69s | validation loss: 0.30    \n",
      "Epoch 200  | loss: 0.31     | time took: 0.70s | validation loss: 0.30    \n",
      "Epoch 300  | loss: 0.31     | time took: 0.69s | validation loss: 0.30    \n",
      "Epoch 400  | loss: 0.31     | time took: 0.69s | validation loss: 0.30    \n",
      "Epoch 500  | loss: 0.31     | time took: 0.69s | validation loss: 0.30    \n",
      "Epoch 600  | loss: 0.31     | time took: 0.69s | validation loss: 0.30    \n",
      "Epoch 700  | loss: 0.31     | time took: 0.69s | validation loss: 0.30    \n",
      "Epoch 800  | loss: 0.31     | time took: 0.69s | validation loss: 0.30    \n",
      "Epoch 900  | loss: 0.31     | time took: 0.71s | validation loss: 0.30    \n",
      "Total time took: 0.19hrs\n",
      "Horizon 2 ==========\n",
      "Epoch 0    | loss: 0.31     | time took: 0.72s | validation loss: 0.30    \n",
      "Epoch 100  | loss: 0.31     | time took: 0.72s | validation loss: 0.30    \n",
      "Epoch 200  | loss: 0.31     | time took: 0.72s | validation loss: 0.30    \n",
      "Epoch 300  | loss: 0.31     | time took: 0.72s | validation loss: 0.30    \n",
      "Epoch 400  | loss: 0.31     | time took: 0.72s | validation loss: 0.30    \n",
      "Epoch 500  | loss: 0.31     | time took: 0.72s | validation loss: 0.30    \n",
      "Epoch 600  | loss: 0.31     | time took: 0.72s | validation loss: 0.30    \n",
      "Epoch 700  | loss: 0.31     | time took: 0.72s | validation loss: 0.30    \n",
      "Epoch 800  | loss: 0.31     | time took: 0.72s | validation loss: 0.30    \n",
      "Epoch 900  | loss: 0.31     | time took: 0.72s | validation loss: 0.30    \n",
      "Total time took: 0.39hrs\n",
      "Horizon 4 ==========\n",
      "Epoch 0    | loss: 0.31     | time took: 0.73s | validation loss: 0.30    \n",
      "Epoch 100  | loss: 0.31     | time took: 0.73s | validation loss: 0.30    \n",
      "Epoch 200  | loss: 0.31     | time took: 0.72s | validation loss: 0.30    \n",
      "Epoch 300  | loss: 0.31     | time took: 0.72s | validation loss: 0.30    \n",
      "Epoch 400  | loss: 0.31     | time took: 0.73s | validation loss: 0.30    \n",
      "Epoch 500  | loss: 0.31     | time took: 0.74s | validation loss: 0.30    \n",
      "Epoch 600  | loss: 0.31     | time took: 0.72s | validation loss: 0.30    \n",
      "Epoch 700  | loss: 0.31     | time took: 0.72s | validation loss: 0.30    \n",
      "Epoch 800  | loss: 0.31     | time took: 0.72s | validation loss: 0.30    \n",
      "Epoch 900  | loss: 0.31     | time took: 0.72s | validation loss: 0.30    \n",
      "Total time took: 0.59hrs\n",
      "Horizon 6 ==========\n",
      "Epoch 0    | loss: 0.31     | time took: 0.73s | validation loss: 0.30    \n",
      "Epoch 100  | loss: 0.31     | time took: 0.73s | validation loss: 0.30    \n",
      "Epoch 200  | loss: 0.31     | time took: 0.73s | validation loss: 0.30    \n",
      "Epoch 300  | loss: 0.31     | time took: 0.73s | validation loss: 0.30    \n",
      "Epoch 400  | loss: 0.31     | time took: 0.73s | validation loss: 0.30    \n",
      "Epoch 500  | loss: 0.31     | time took: 0.73s | validation loss: 0.30    \n",
      "Epoch 600  | loss: 0.31     | time took: 0.72s | validation loss: 0.30    \n",
      "Epoch 700  | loss: 0.31     | time took: 0.72s | validation loss: 0.30    \n",
      "Epoch 800  | loss: 0.31     | time took: 0.73s | validation loss: 0.30    \n",
      "Epoch 900  | loss: 0.31     | time took: 0.73s | validation loss: 0.30    \n",
      "Total time took: 0.80hrs\n",
      "Done saving model for 3 \n",
      "\n",
      "Wroking on policy 4\n",
      "Horizon 0 ==========\n",
      "Epoch 0    | loss: 436.36   | time took: 0.77s | validation loss: 289.82  \n",
      "Epoch 100  | loss: 9.69     | time took: 0.69s | validation loss: 10.78   \n",
      "Epoch 200  | loss: 8.41     | time took: 0.70s | validation loss: 9.22    \n",
      "Epoch 300  | loss: 8.41     | time took: 0.70s | validation loss: 9.73    \n",
      "Epoch 400  | loss: 7.25     | time took: 0.69s | validation loss: 8.85    \n",
      "Epoch 500  | loss: 7.30     | time took: 0.69s | validation loss: 8.58    \n",
      "Epoch 600  | loss: 6.22     | time took: 0.69s | validation loss: 7.51    \n",
      "Epoch 700  | loss: 5.72     | time took: 0.69s | validation loss: 7.24    \n",
      "Epoch 800  | loss: 5.67     | time took: 0.70s | validation loss: 7.15    \n",
      "Epoch 900  | loss: 5.55     | time took: 0.70s | validation loss: 7.13    \n",
      "Total time took: 0.19hrs\n",
      "Horizon 2 ==========\n",
      "Epoch 0    | loss: 16.07    | time took: 0.73s | validation loss: 31.74   \n",
      "Epoch 100  | loss: 8.09     | time took: 0.73s | validation loss: 14.37   \n",
      "Epoch 200  | loss: 6.69     | time took: 0.73s | validation loss: 15.42   \n",
      "Epoch 300  | loss: 8.04     | time took: 0.73s | validation loss: 16.84   \n",
      "Epoch 400  | loss: 7.23     | time took: 0.73s | validation loss: 21.61   \n",
      "Epoch 500  | loss: 7.49     | time took: 0.73s | validation loss: 22.67   \n",
      "Epoch 600  | loss: 7.14     | time took: 0.73s | validation loss: 17.07   \n",
      "Epoch 700  | loss: 7.07     | time took: 0.73s | validation loss: 19.60   \n",
      "Epoch 800  | loss: 6.46     | time took: 0.73s | validation loss: 19.68   \n",
      "Epoch 900  | loss: 6.94     | time took: 0.74s | validation loss: 20.55   \n",
      "Total time took: 0.40hrs\n",
      "Horizon 4 ==========\n",
      "Epoch 0    | loss: 8.02     | time took: 0.73s | validation loss: 27.91   \n",
      "Epoch 100  | loss: 7.17     | time took: 0.73s | validation loss: 31.12   \n",
      "Epoch 200  | loss: 7.17     | time took: 0.73s | validation loss: 29.29   \n",
      "Epoch 300  | loss: 8.68     | time took: 0.73s | validation loss: 35.67   \n",
      "Epoch 400  | loss: 8.04     | time took: 0.73s | validation loss: 32.22   \n",
      "Epoch 500  | loss: 7.72     | time took: 0.73s | validation loss: 36.97   \n",
      "Epoch 600  | loss: 7.74     | time took: 0.73s | validation loss: 33.77   \n",
      "Epoch 700  | loss: 7.55     | time took: 0.74s | validation loss: 38.08   \n",
      "Epoch 800  | loss: 9.42     | time took: 0.73s | validation loss: 31.84   \n",
      "Epoch 900  | loss: 7.35     | time took: 0.74s | validation loss: 36.65   \n",
      "Total time took: 0.60hrs\n",
      "Horizon 6 ==========\n",
      "Epoch 0    | loss: 7.83     | time took: 0.73s | validation loss: 36.90   \n",
      "Epoch 100  | loss: 7.76     | time took: 0.73s | validation loss: 35.89   \n",
      "Epoch 200  | loss: 7.52     | time took: 0.74s | validation loss: 35.43   \n",
      "Epoch 300  | loss: 7.56     | time took: 0.74s | validation loss: 32.73   \n",
      "Epoch 400  | loss: 8.72     | time took: 0.73s | validation loss: 33.54   \n",
      "Epoch 500  | loss: 7.42     | time took: 0.73s | validation loss: 35.43   \n",
      "Epoch 600  | loss: 8.07     | time took: 0.73s | validation loss: 32.84   \n",
      "Epoch 700  | loss: 7.25     | time took: 0.73s | validation loss: 34.03   \n",
      "Epoch 800  | loss: 6.90     | time took: 0.73s | validation loss: 32.84   \n",
      "Epoch 900  | loss: 6.65     | time took: 0.73s | validation loss: 33.83   \n",
      "Total time took: 0.80hrs\n",
      "Done saving model for 4 \n",
      "\n",
      "Wroking on policy 5\n",
      "Horizon 0 ==========\n",
      "Epoch 0    | loss: 346.47   | time took: 0.77s | validation loss: 266.17  \n",
      "Epoch 100  | loss: 14.92    | time took: 0.70s | validation loss: 21.41   \n",
      "Epoch 200  | loss: 12.23    | time took: 0.69s | validation loss: 17.11   \n",
      "Epoch 300  | loss: 12.56    | time took: 0.70s | validation loss: 17.93   \n"
     ]
    },
    {
     "name": "stdout",
     "output_type": "stream",
     "text": [
      "Epoch 400  | loss: 10.99    | time took: 0.69s | validation loss: 17.01   \n",
      "Epoch 500  | loss: 11.67    | time took: 0.69s | validation loss: 18.98   \n",
      "Epoch 600  | loss: 10.44    | time took: 0.69s | validation loss: 18.19   \n",
      "Epoch 700  | loss: 10.03    | time took: 0.70s | validation loss: 19.98   \n",
      "Epoch 800  | loss: 11.91    | time took: 0.70s | validation loss: 19.96   \n",
      "Epoch 900  | loss: 9.22     | time took: 0.69s | validation loss: 18.53   \n",
      "Total time took: 0.19hrs\n",
      "Horizon 2 ==========\n",
      "Epoch 0    | loss: 19.65    | time took: 0.73s | validation loss: 44.50   \n",
      "Epoch 100  | loss: 12.20    | time took: 0.72s | validation loss: 34.47   \n",
      "Epoch 200  | loss: 11.64    | time took: 0.73s | validation loss: 35.34   \n",
      "Epoch 300  | loss: 11.04    | time took: 0.74s | validation loss: 35.92   \n",
      "Epoch 400  | loss: 15.23    | time took: 0.73s | validation loss: 36.07   \n",
      "Epoch 500  | loss: 11.70    | time took: 0.73s | validation loss: 34.33   \n",
      "Epoch 600  | loss: 12.85    | time took: 0.73s | validation loss: 34.71   \n",
      "Epoch 700  | loss: 12.39    | time took: 0.73s | validation loss: 35.17   \n",
      "Epoch 800  | loss: 10.56    | time took: 0.73s | validation loss: 35.49   \n",
      "Epoch 900  | loss: 15.79    | time took: 0.73s | validation loss: 43.09   \n",
      "Total time took: 0.40hrs\n",
      "Horizon 4 ==========\n",
      "Epoch 0    | loss: 14.69    | time took: 0.74s | validation loss: 44.22   \n",
      "Epoch 100  | loss: 13.75    | time took: 0.73s | validation loss: 43.13   \n",
      "Epoch 200  | loss: 12.90    | time took: 0.73s | validation loss: 43.86   \n",
      "Epoch 300  | loss: 10.91    | time took: 0.74s | validation loss: 44.58   \n",
      "Epoch 400  | loss: 10.95    | time took: 0.73s | validation loss: 42.63   \n",
      "Epoch 500  | loss: 10.71    | time took: 0.73s | validation loss: 43.47   \n",
      "Epoch 600  | loss: 11.02    | time took: 0.73s | validation loss: 43.09   \n",
      "Epoch 700  | loss: 11.63    | time took: 0.73s | validation loss: 42.75   \n",
      "Epoch 800  | loss: 11.74    | time took: 0.73s | validation loss: 44.29   \n",
      "Epoch 900  | loss: 14.25    | time took: 0.73s | validation loss: 43.10   \n",
      "Total time took: 0.60hrs\n",
      "Horizon 6 ==========\n",
      "Epoch 0    | loss: 13.90    | time took: 0.74s | validation loss: 47.44   \n",
      "Epoch 100  | loss: 11.23    | time took: 0.73s | validation loss: 47.88   \n",
      "Epoch 200  | loss: 10.41    | time took: 0.74s | validation loss: 45.76   \n",
      "Epoch 300  | loss: 10.70    | time took: 0.73s | validation loss: 47.65   \n",
      "Epoch 400  | loss: 17.75    | time took: 0.73s | validation loss: 44.03   \n",
      "Epoch 500  | loss: 11.67    | time took: 0.73s | validation loss: 44.56   \n",
      "Epoch 600  | loss: 13.56    | time took: 0.73s | validation loss: 44.83   \n",
      "Epoch 700  | loss: 12.07    | time took: 0.73s | validation loss: 43.57   \n",
      "Epoch 800  | loss: 11.25    | time took: 0.73s | validation loss: 44.26   \n",
      "Epoch 900  | loss: 13.48    | time took: 0.73s | validation loss: 42.60   \n",
      "Total time took: 0.80hrs\n",
      "Done saving model for 5 \n",
      "\n",
      "Wroking on policy 6\n",
      "Horizon 0 ==========\n",
      "Epoch 0    | loss: 119.18   | time took: 0.77s | validation loss: 54.14   \n",
      "Epoch 100  | loss: 5.68     | time took: 0.69s | validation loss: 5.50    \n",
      "Epoch 200  | loss: 4.92     | time took: 0.70s | validation loss: 5.02    \n",
      "Epoch 300  | loss: 4.29     | time took: 0.69s | validation loss: 5.74    \n",
      "Epoch 400  | loss: 3.89     | time took: 0.69s | validation loss: 5.77    \n",
      "Epoch 500  | loss: 4.35     | time took: 0.69s | validation loss: 5.39    \n",
      "Epoch 600  | loss: 4.22     | time took: 0.69s | validation loss: 5.04    \n",
      "Epoch 700  | loss: 3.50     | time took: 0.70s | validation loss: 4.45    \n",
      "Epoch 800  | loss: 4.52     | time took: 0.69s | validation loss: 5.27    \n",
      "Epoch 900  | loss: 3.13     | time took: 0.70s | validation loss: 4.12    \n",
      "Total time took: 0.19hrs\n",
      "Horizon 2 ==========\n",
      "Epoch 0    | loss: 5.49     | time took: 0.73s | validation loss: 10.13   \n",
      "Epoch 100  | loss: 3.99     | time took: 0.73s | validation loss: 6.71    \n",
      "Epoch 200  | loss: 4.27     | time took: 0.74s | validation loss: 7.28    \n",
      "Epoch 300  | loss: 5.47     | time took: 0.72s | validation loss: 7.44    \n",
      "Epoch 400  | loss: 3.92     | time took: 0.73s | validation loss: 7.53    \n",
      "Epoch 500  | loss: 4.29     | time took: 0.73s | validation loss: 7.60    \n",
      "Epoch 600  | loss: 4.78     | time took: 0.72s | validation loss: 7.50    \n",
      "Epoch 700  | loss: 3.88     | time took: 0.72s | validation loss: 7.74    \n",
      "Epoch 800  | loss: 3.74     | time took: 0.73s | validation loss: 8.20    \n",
      "Epoch 900  | loss: 3.87     | time took: 0.73s | validation loss: 7.26    \n",
      "Total time took: 0.39hrs\n",
      "Horizon 4 ==========\n",
      "Epoch 0    | loss: 5.26     | time took: 0.73s | validation loss: 10.74   \n",
      "Epoch 100  | loss: 3.92     | time took: 0.74s | validation loss: 9.53    \n",
      "Epoch 200  | loss: 6.71     | time took: 0.73s | validation loss: 8.78    \n",
      "Epoch 300  | loss: 4.52     | time took: 0.73s | validation loss: 11.32   \n",
      "Epoch 400  | loss: 4.22     | time took: 0.73s | validation loss: 11.33   \n",
      "Epoch 500  | loss: 3.78     | time took: 0.73s | validation loss: 11.44   \n",
      "Epoch 600  | loss: 4.37     | time took: 0.73s | validation loss: 11.12   \n",
      "Epoch 700  | loss: 4.23     | time took: 0.73s | validation loss: 10.31   \n",
      "Epoch 800  | loss: 3.79     | time took: 0.73s | validation loss: 10.60   \n",
      "Epoch 900  | loss: 3.88     | time took: 0.73s | validation loss: 11.05   \n",
      "Total time took: 0.60hrs\n",
      "Horizon 6 ==========\n",
      "Epoch 0    | loss: 4.97     | time took: 0.74s | validation loss: 11.53   \n",
      "Epoch 100  | loss: 4.27     | time took: 0.73s | validation loss: 12.41   \n",
      "Epoch 200  | loss: 3.91     | time took: 0.74s | validation loss: 12.53   \n",
      "Epoch 300  | loss: 3.87     | time took: 0.73s | validation loss: 13.61   \n",
      "Epoch 400  | loss: 4.34     | time took: 0.73s | validation loss: 13.40   \n",
      "Epoch 500  | loss: 4.62     | time took: 0.73s | validation loss: 12.63   \n",
      "Epoch 600  | loss: 3.87     | time took: 0.74s | validation loss: 13.31   \n",
      "Epoch 700  | loss: 4.37     | time took: 0.73s | validation loss: 13.41   \n",
      "Epoch 800  | loss: 4.40     | time took: 0.73s | validation loss: 12.83   \n",
      "Epoch 900  | loss: 5.17     | time took: 0.73s | validation loss: 12.00   \n",
      "Total time took: 0.80hrs\n",
      "Done saving model for 6 \n",
      "\n"
     ]
    }
   ],
   "source": [
    "sequence_length = 30\n",
    "overlap = 15\n",
    "batch_size = 32\n",
    "train_all_single_policies(single_game, batch_size, sequence_length, overlap, models_path)"
   ]
  },
  {
   "cell_type": "code",
   "execution_count": null,
   "metadata": {
    "collapsed": true
   },
   "outputs": [],
   "source": []
  },
  {
   "cell_type": "code",
   "execution_count": null,
   "metadata": {
    "collapsed": true
   },
   "outputs": [],
   "source": []
  },
  {
   "cell_type": "code",
   "execution_count": null,
   "metadata": {
    "collapsed": true
   },
   "outputs": [],
   "source": []
  },
  {
   "cell_type": "markdown",
   "metadata": {},
   "source": [
    "### To do:\n",
    "\n",
    "    - 1) Regularize the lstm\n",
    "    - 2) Figure out why there are blanks in the testing\n",
    "    - 3) may consider to collect those left out from the process of creating batches\n",
    "    - 4) related to 3), seq_len = 3 may create null batches \n",
    "\n",
    "    - Split data to defending and offending, as the model for e.g. forward role in deffending and offending should be pretty different. Remove particular events, like free-throw etc.\n",
    "    \n",
    "    - We can use the shot clock as an indicator of when the offending and defending switches.\n",
    "    \n",
    "    - The cameras oprate at 25 frames per second, so in order to learn realistic motions, either we sample the 25 frames, or extend the horizon to 50 for example or even longer(this might be too computationally heavy and model would probably drift a lot).\n",
    "    \n",
    "    - At the moment if we don't have defending or offending sepearted, at least we need to break down the sequences from the 24 secs shot clock, since it usually stands for a change in game state. (note: shot clock sometimes is None)\n",
    "    \n",
    "    - Add tensorboard visualization. Add validation performance (maybe, it would take longer). \n",
    "      tensorboard --logdir=./train_logs\n",
    "      \n",
    "    - Start thinking about 1) joint training 2) Hidden structure 3) Smooth learning\n",
    "    - from each sample to next sample theres not much change, subsample them "
   ]
  },
  {
   "cell_type": "markdown",
   "metadata": {
    "collapsed": true
   },
   "source": [
    "### Questions\n",
    "\n",
    "    * After a team scored and they go back to get ready for defense, is the going back trajectory pretty much random?\n",
    "    * Do player swap roles during the play? e.g. a forward swapped to a guard, is the forward roles a lot different from gaurds these day? (i.e. can you differentaite a player plaing forward from guard from the game) If yes, then the hidden structure learning/sequencing is necessary. "
   ]
  },
  {
   "cell_type": "code",
   "execution_count": null,
   "metadata": {
    "collapsed": true
   },
   "outputs": [],
   "source": []
  }
 ],
 "metadata": {
  "kernelspec": {
   "display_name": "Python 3",
   "language": "python",
   "name": "python3"
  },
  "language_info": {
   "codemirror_mode": {
    "name": "ipython",
    "version": 3
   },
   "file_extension": ".py",
   "mimetype": "text/x-python",
   "name": "python",
   "nbconvert_exporter": "python",
   "pygments_lexer": "ipython3",
   "version": "3.6.1"
  }
 },
 "nbformat": 4,
 "nbformat_minor": 2
}
