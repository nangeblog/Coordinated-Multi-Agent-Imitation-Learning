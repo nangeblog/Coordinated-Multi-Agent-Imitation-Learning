{
 "cells": [
  {
   "cell_type": "code",
   "execution_count": 1,
   "metadata": {},
   "outputs": [
    {
     "name": "stderr",
     "output_type": "stream",
     "text": [
      "C:\\Users\\sshi\\AppData\\Local\\Continuum\\Anaconda3\\lib\\site-packages\\h5py\\__init__.py:34: FutureWarning: Conversion of the second argument of issubdtype from `float` to `np.floating` is deprecated. In future, it will be treated as `np.float64 == np.dtype(float).type`.\n",
      "  from ._conv import register_converters as _register_converters\n"
     ]
    }
   ],
   "source": [
    "import tensorflow as tf\n",
    "from tensorflow.python.ops.rnn import _transpose_batch_time\n",
    "\n",
    "from datetime import datetime\n",
    "import numpy as np\n",
    "import pandas as pd\n",
    "import glob, os, sys, math, warnings, copy, time, glob\n",
    "import matplotlib.pyplot as plt\n",
    "os.environ[\"TF_CPP_MIN_LOG_LEVEL\"]=\"3\"\n",
    "\n",
    "# customized ftns \n",
    "from helpers import *\n",
    "from utilities import *\n",
    "from model import *\n",
    "from train import train_all_single_policies\n",
    "# ---------------------------------------------------------\n",
    "%matplotlib inline\n",
    "%load_ext autoreload\n",
    "%autoreload 2\n",
    "warnings.filterwarnings('ignore')\n",
    "# warnings.filterwarnings(action='once')\n",
    "# ---------------------------------------------------------\n",
    "# directories\n",
    "main_dir = '../'\n",
    "game_dir = main_dir+'data/'\n",
    "Data = LoadData(main_dir, game_dir)\n",
    "models_path = './models/' "
   ]
  },
  {
   "cell_type": "markdown",
   "metadata": {},
   "source": [
    "#### Load raw data"
   ]
  },
  {
   "cell_type": "code",
   "execution_count": 2,
   "metadata": {},
   "outputs": [
    {
     "name": "stdout",
     "output_type": "stream",
     "text": [
      "raw events shape: (231, 8)\n"
     ]
    },
    {
     "data": {
      "text/html": [
       "<div>\n",
       "<style scoped>\n",
       "    .dataframe tbody tr th:only-of-type {\n",
       "        vertical-align: middle;\n",
       "    }\n",
       "\n",
       "    .dataframe tbody tr th {\n",
       "        vertical-align: top;\n",
       "    }\n",
       "\n",
       "    .dataframe thead th {\n",
       "        text-align: right;\n",
       "    }\n",
       "</style>\n",
       "<table border=\"1\" class=\"dataframe\">\n",
       "  <thead>\n",
       "    <tr style=\"text-align: right;\">\n",
       "      <th></th>\n",
       "      <th>end_time_left</th>\n",
       "      <th>home</th>\n",
       "      <th>moments</th>\n",
       "      <th>orig_events</th>\n",
       "      <th>playbyplay</th>\n",
       "      <th>quarter</th>\n",
       "      <th>start_time_left</th>\n",
       "      <th>visitor</th>\n",
       "    </tr>\n",
       "  </thead>\n",
       "  <tbody>\n",
       "    <tr>\n",
       "      <th>0</th>\n",
       "      <td>702.31</td>\n",
       "      <td>{'abbreviation': 'CHI', 'players': [{'playerid...</td>\n",
       "      <td>[[1, 1451351428029, 708.28, 12.78, None, [[-1,...</td>\n",
       "      <td>[0]</td>\n",
       "      <td>GAME_ID  EVENTNUM  EVENTMSGTYPE  EVENTMS...</td>\n",
       "      <td>1</td>\n",
       "      <td>708.28</td>\n",
       "      <td>{'abbreviation': 'TOR', 'players': [{'playerid...</td>\n",
       "    </tr>\n",
       "    <tr>\n",
       "      <th>1</th>\n",
       "      <td>686.28</td>\n",
       "      <td>{'abbreviation': 'CHI', 'players': [{'playerid...</td>\n",
       "      <td>[[1, 1451351428029, 708.28, 12.78, None, [[-1,...</td>\n",
       "      <td>[1]</td>\n",
       "      <td>GAME_ID  EVENTNUM  EVENTMSGTYPE  EVENTMS...</td>\n",
       "      <td>1</td>\n",
       "      <td>708.28</td>\n",
       "      <td>{'abbreviation': 'TOR', 'players': [{'playerid...</td>\n",
       "    </tr>\n",
       "    <tr>\n",
       "      <th>2</th>\n",
       "      <td>668.42</td>\n",
       "      <td>{'abbreviation': 'CHI', 'players': [{'playerid...</td>\n",
       "      <td>[[1, 1451351444029, 692.25, 12.21, None, [[-1,...</td>\n",
       "      <td>[2, 3]</td>\n",
       "      <td>GAME_ID  EVENTNUM  EVENTMSGTYPE  EVENTMS...</td>\n",
       "      <td>1</td>\n",
       "      <td>692.25</td>\n",
       "      <td>{'abbreviation': 'TOR', 'players': [{'playerid...</td>\n",
       "    </tr>\n",
       "  </tbody>\n",
       "</table>\n",
       "</div>"
      ],
      "text/plain": [
       "   end_time_left                                               home  \\\n",
       "0         702.31  {'abbreviation': 'CHI', 'players': [{'playerid...   \n",
       "1         686.28  {'abbreviation': 'CHI', 'players': [{'playerid...   \n",
       "2         668.42  {'abbreviation': 'CHI', 'players': [{'playerid...   \n",
       "\n",
       "                                             moments orig_events  \\\n",
       "0  [[1, 1451351428029, 708.28, 12.78, None, [[-1,...         [0]   \n",
       "1  [[1, 1451351428029, 708.28, 12.78, None, [[-1,...         [1]   \n",
       "2  [[1, 1451351444029, 692.25, 12.21, None, [[-1,...      [2, 3]   \n",
       "\n",
       "                                          playbyplay  quarter  \\\n",
       "0        GAME_ID  EVENTNUM  EVENTMSGTYPE  EVENTMS...        1   \n",
       "1        GAME_ID  EVENTNUM  EVENTMSGTYPE  EVENTMS...        1   \n",
       "2        GAME_ID  EVENTNUM  EVENTMSGTYPE  EVENTMS...        1   \n",
       "\n",
       "   start_time_left                                            visitor  \n",
       "0           708.28  {'abbreviation': 'TOR', 'players': [{'playerid...  \n",
       "1           708.28  {'abbreviation': 'TOR', 'players': [{'playerid...  \n",
       "2           692.25  {'abbreviation': 'TOR', 'players': [{'playerid...  "
      ]
     },
     "execution_count": 2,
     "metadata": {},
     "output_type": "execute_result"
    }
   ],
   "source": [
    "# %%time\n",
    "game_id = '0021500463'\n",
    "game_data = Data.load_game(game_id)\n",
    "events_df = pd.DataFrame(game_data['events'])\n",
    "print('raw events shape:', events_df.shape)\n",
    "events_df.head(3)"
   ]
  },
  {
   "cell_type": "markdown",
   "metadata": {},
   "source": [
    "#### Get some suplementary data"
   ]
  },
  {
   "cell_type": "code",
   "execution_count": 3,
   "metadata": {
    "collapsed": true
   },
   "outputs": [],
   "source": [
    "# # its possible that F has similar role as G-f or F-G, we create empty slots to ensure meta order\n",
    "# # ddentify defending and offending runs (this is included in process_moments)\n",
    "# court_index = Data.load_csv('./meta_data/court_index.csv')\n",
    "# court_index = dict(zip(court_index.game_id, court_index.court_position))\n",
    "\n",
    "# # home and visitor ids\n",
    "# homeid = events_df.loc[0].home['teamid']\n",
    "# awayid = events_df.loc[0].visitor['teamid']"
   ]
  },
  {
   "cell_type": "markdown",
   "metadata": {},
   "source": [
    "#### Pre-process \n",
    "filter events, subsample frames, add velocity, reorder moments, re-arrange team order\n",
    "shot clock, filter out event with short moments"
   ]
  },
  {
   "cell_type": "code",
   "execution_count": 13,
   "metadata": {
    "scrolled": true
   },
   "outputs": [
    {
     "name": "stdout",
     "output_type": "stream",
     "text": [
      "[1610612761, 1610612741]\n",
      "[1610612761, 1610612741]\n",
      "[1610612761, 1610612741]\n",
      "[1610612741, 1610612761]\n",
      "[1610612761, 1610612741]\n",
      "[1610612761, 1610612741]\n",
      "[1610612741, 1610612761]\n",
      "[1610612761, 1610612741]\n",
      "[1610612761, 1610612741]\n",
      "[1610612761, 1610612741]\n",
      "[1610612761, 1610612741]\n",
      "[1610612761, 1610612741]\n",
      "[1610612741, 1610612761]\n",
      "[1610612741, 1610612761]\n",
      "[1610612741, 1610612761]\n",
      "[1610612741, 1610612761]\n",
      "[1610612741, 1610612761]\n",
      "[1610612741, 1610612761]\n",
      "[1610612741, 1610612761]\n",
      "[1610612741, 1610612761]\n",
      "[1610612741, 1610612761]\n",
      "[1610612741, 1610612761]\n",
      "[1610612761, 1610612741]\n",
      "[1610612761, 1610612741]\n",
      "[1610612761, 1610612741]\n",
      "[1610612741, 1610612761]\n",
      "[1610612741, 1610612761]\n",
      "[1610612761, 1610612741]\n",
      "[1610612761, 1610612741]\n",
      "[1610612741, 1610612761]\n",
      "[1610612741, 1610612761]\n",
      "[1610612761, 1610612741]\n",
      "[1610612761, 1610612741]\n",
      "[1610612741, 1610612761]\n",
      "[1610612741, 1610612761]\n",
      "[1610612741, 1610612761]\n",
      "[1610612741, 1610612761]\n",
      "[1610612741, 1610612761]\n",
      "[1610612761, 1610612741]\n",
      "[1610612761, 1610612741]\n",
      "[1610612761, 1610612741]\n",
      "[1610612741, 1610612761]\n",
      "[1610612741, 1610612761]\n",
      "[1610612741, 1610612761]\n",
      "[1610612761, 1610612741]\n",
      "[1610612741, 1610612761]\n",
      "[1610612741, 1610612761]\n",
      "[1610612741, 1610612761]\n",
      "[1610612761, 1610612741]\n",
      "[1610612741, 1610612761]\n",
      "[1610612741, 1610612761]\n",
      "[1610612741, 1610612761]\n",
      "[1610612761, 1610612741]\n",
      "[1610612761, 1610612741]\n",
      "[1610612761, 1610612741]\n",
      "[1610612761, 1610612741]\n",
      "[1610612761, 1610612741]\n",
      "[1610612741, 1610612761]\n",
      "[1610612741, 1610612761]\n",
      "[1610612761, 1610612741]\n",
      "[1610612761, 1610612741]\n",
      "[1610612761, 1610612741]\n",
      "[1610612761, 1610612741]\n",
      "[1610612741, 1610612761]\n",
      "[1610612741, 1610612761]\n",
      "[1610612741, 1610612761]\n",
      "[1610612741, 1610612761]\n",
      "[1610612741, 1610612761]\n",
      "[1610612761, 1610612741]\n",
      "[1610612761, 1610612741]\n",
      "[1610612761, 1610612741]\n",
      "[1610612741, 1610612761]\n",
      "[1610612761, 1610612741]\n",
      "[1610612761, 1610612741]\n",
      "[1610612761, 1610612741]\n",
      "[1610612741, 1610612761]\n",
      "[1610612741, 1610612761]\n",
      "[1610612741, 1610612761]\n",
      "[1610612761, 1610612741]\n",
      "[1610612761, 1610612741]\n",
      "[1610612761, 1610612741]\n",
      "[1610612741, 1610612761]\n",
      "[1610612761, 1610612741]\n",
      "[1610612761, 1610612741]\n",
      "[1610612741, 1610612761]\n",
      "[1610612741, 1610612761]\n",
      "[1610612741, 1610612761]\n",
      "[1610612761, 1610612741]\n",
      "[1610612761, 1610612741]\n",
      "[1610612741, 1610612761]\n",
      "[1610612761, 1610612741]\n",
      "[1610612741, 1610612761]\n",
      "[1610612741, 1610612761]\n",
      "[1610612761, 1610612741]\n",
      "[1610612761, 1610612741]\n",
      "[1610612741, 1610612761]\n",
      "[1610612741, 1610612761]\n",
      "[1610612741, 1610612761]\n",
      "[1610612741, 1610612761]\n",
      "[1610612741, 1610612761]\n",
      "[1610612761, 1610612741]\n",
      "[1610612761, 1610612741]\n",
      "[1610612741, 1610612761]\n",
      "[1610612761, 1610612741]\n",
      "[1610612761, 1610612741]\n",
      "[1610612741, 1610612761]\n",
      "[1610612741, 1610612761]\n",
      "[1610612741, 1610612761]\n",
      "[1610612741, 1610612761]\n",
      "[1610612741, 1610612761]\n",
      "[1610612741, 1610612761]\n",
      "[1610612741, 1610612761]\n",
      "[1610612741, 1610612761]\n",
      "[1610612741, 1610612761]\n",
      "[1610612741, 1610612761]\n",
      "[1610612761, 1610612741]\n",
      "[1610612761, 1610612741]\n",
      "[1610612761, 1610612741]\n",
      "[1610612741, 1610612761]\n",
      "[1610612741, 1610612761]\n",
      "[1610612741, 1610612761]\n",
      "[1610612741, 1610612761]\n",
      "[1610612761, 1610612741]\n",
      "[1610612741, 1610612761]\n",
      "[1610612741, 1610612761]\n",
      "[1610612761, 1610612741]\n",
      "[1610612741, 1610612761]\n",
      "[1610612741, 1610612761]\n",
      "[1610612761, 1610612741]\n",
      "[1610612761, 1610612741]\n",
      "[1610612741, 1610612761]\n",
      "[1610612741, 1610612761]\n",
      "[1610612761, 1610612741]\n",
      "[1610612741, 1610612761]\n",
      "[1610612741, 1610612761]\n",
      "[1610612741, 1610612761]\n",
      "[1610612761, 1610612741]\n",
      "[1610612761, 1610612741]\n",
      "[1610612741, 1610612761]\n",
      "[1610612741, 1610612761]\n",
      "[1610612761, 1610612741]\n",
      "[1610612761, 1610612741]\n",
      "[1610612761, 1610612741]\n",
      "[1610612761, 1610612741]\n",
      "[1610612761, 1610612741]\n",
      "[1610612761, 1610612741]\n",
      "[1610612761, 1610612741]\n",
      "[1610612761, 1610612741]\n",
      "[1610612741, 1610612761]\n",
      "[1610612761, 1610612741]\n",
      "[1610612761, 1610612741]\n",
      "[1610612761, 1610612741]\n",
      "[1610612741, 1610612761]\n",
      "[1610612741, 1610612761]\n",
      "[1610612741, 1610612761]\n",
      "[1610612761, 1610612741]\n",
      "[1610612741, 1610612761]\n",
      "[1610612741, 1610612761]\n",
      "[1610612761, 1610612741]\n",
      "[1610612761, 1610612741]\n",
      "[1610612761, 1610612741]\n",
      "[1610612741, 1610612761]\n",
      "[1610612761, 1610612741]\n",
      "[1610612761, 1610612741]\n",
      "[1610612761, 1610612741]\n",
      "[1610612761, 1610612741]\n",
      "[1610612741, 1610612761]\n",
      "[1610612761, 1610612741]\n",
      "[1610612761, 1610612741]\n",
      "[1610612761, 1610612741]\n",
      "[1610612741, 1610612761]\n",
      "[1610612741, 1610612761]\n",
      "[1610612761, 1610612741]\n",
      "[1610612761, 1610612741]\n",
      "[1610612761, 1610612741]\n",
      "[1610612761, 1610612741]\n",
      "[1610612741, 1610612761]\n",
      "[1610612741, 1610612761]\n",
      "[1610612741, 1610612761]\n",
      "[1610612761, 1610612741]\n",
      "[1610612761, 1610612741]\n",
      "[1610612761, 1610612741]\n",
      "[1610612761, 1610612741]\n",
      "[1610612741, 1610612761]\n",
      "[1610612741, 1610612761]\n",
      "[1610612741, 1610612761]\n",
      "[1610612741, 1610612761]\n",
      "[1610612761, 1610612741]\n",
      "[1610612761, 1610612741]\n",
      "[1610612761, 1610612741]\n",
      "[1610612761, 1610612741]\n",
      "[1610612761, 1610612741]\n",
      "[1610612761, 1610612741]\n",
      "[1610612761, 1610612741]\n",
      "[1610612761, 1610612741]\n",
      "[1610612761, 1610612741]\n",
      "[1610612741, 1610612761]\n",
      "[1610612761, 1610612741]\n",
      "[1610612761, 1610612741]\n",
      "[1610612761, 1610612741]\n",
      "[1610612761, 1610612741]\n",
      "[1610612761, 1610612741]\n",
      "[1610612761, 1610612741]\n",
      "[1610612741, 1610612761]\n",
      "[1610612741, 1610612761]\n",
      "[1610612741, 1610612761]\n",
      "[1610612761, 1610612741]\n",
      "[1610612761, 1610612741]\n",
      "[1610612741, 1610612761]\n",
      "[1610612741, 1610612761]\n",
      "[1610612761, 1610612741]\n",
      "[1610612761, 1610612741]\n",
      "[1610612741, 1610612761]\n",
      "[1610612741, 1610612761]\n",
      "[1610612761, 1610612741]\n",
      "[1610612741, 1610612761]\n",
      "[1610612761, 1610612741]\n",
      "[1610612741, 1610612761]\n",
      "[1610612761, 1610612741]\n",
      "[1610612761, 1610612741]\n",
      "[1610612741, 1610612761]\n",
      "[1610612761, 1610612741]\n",
      "[1610612761, 1610612741]\n",
      "[1610612741, 1610612761]\n",
      "[1610612741, 1610612761]\n",
      "[1610612761, 1610612741]\n",
      "[1610612761, 1610612741]\n",
      "[1610612741, 1610612761]\n",
      "[1610612761, 1610612741]\n",
      "[1610612741, 1610612761]\n",
      "[1610612741, 1610612761]\n",
      "[1610612741, 1610612761]\n",
      "[1610612741, 1610612761]\n",
      "[1610612741, 1610612761]\n",
      "[1610612761, 1610612741]\n",
      "[1610612741, 1610612761]\n",
      "[1610612741, 1610612761]\n",
      "[1610612741, 1610612761]\n",
      "[1610612761, 1610612741]\n",
      "[1610612761, 1610612741]\n",
      "[1610612741, 1610612761]\n",
      "[1610612741, 1610612761]\n",
      "[1610612761, 1610612741]\n",
      "[1610612761, 1610612741]\n",
      "[1610612761, 1610612741]\n",
      "[1610612761, 1610612741]\n",
      "[1610612741, 1610612761]\n",
      "[1610612741, 1610612761]\n",
      "[1610612761, 1610612741]\n",
      "[1610612761, 1610612741]\n",
      "[1610612741, 1610612761]\n",
      "[1610612741, 1610612761]\n",
      "[1610612761, 1610612741]\n",
      "[1610612741, 1610612761]\n",
      "[1610612761, 1610612741]\n",
      "[1610612741, 1610612761]\n",
      "[1610612761, 1610612741]\n",
      "[1610612761, 1610612741]\n",
      "[1610612741, 1610612761]\n",
      "[1610612761, 1610612741]\n",
      "[1610612761, 1610612741]\n",
      "[1610612741, 1610612761]\n",
      "[1610612741, 1610612761]\n",
      "[1610612761, 1610612741]\n",
      "[1610612761, 1610612741]\n",
      "[1610612741, 1610612761]\n",
      "[1610612741, 1610612761]\n",
      "[1610612761, 1610612741]\n",
      "[1610612761, 1610612741]\n",
      "[1610612761, 1610612741]\n",
      "[1610612741, 1610612761]\n",
      "[1610612741, 1610612761]\n",
      "[1610612761, 1610612741]\n",
      "[1610612761, 1610612741]\n",
      "[1610612761, 1610612741]\n",
      "[1610612741, 1610612761]\n",
      "[1610612741, 1610612761]\n",
      "[1610612741, 1610612761]\n",
      "[1610612741, 1610612761]\n",
      "[1610612761, 1610612741]\n",
      "[1610612761, 1610612741]\n",
      "[1610612741, 1610612761]\n",
      "[1610612741, 1610612761]\n",
      "[1610612741, 1610612761]\n",
      "[1610612741, 1610612761]\n",
      "[1610612741, 1610612761]\n",
      "[1610612761, 1610612741]\n",
      "[1610612741, 1610612761]\n",
      "[1610612761, 1610612741]\n",
      "[1610612761, 1610612741]\n",
      "[1610612741, 1610612761]\n",
      "[1610612761, 1610612741]\n",
      "[1610612741, 1610612761]\n",
      "[1610612761, 1610612741]\n",
      "[1610612761, 1610612741]\n",
      "[1610612761, 1610612741]\n",
      "[1610612741, 1610612761]\n",
      "[1610612741, 1610612761]\n",
      "[1610612741, 1610612761]\n",
      "[1610612741, 1610612761]\n",
      "[1610612741, 1610612761]\n",
      "[1610612741, 1610612761]\n",
      "[1610612741, 1610612761]\n",
      "[1610612741, 1610612761]\n",
      "[1610612761, 1610612741]\n",
      "[1610612741, 1610612761]\n",
      "[1610612741, 1610612761]\n",
      "[1610612741, 1610612761]\n",
      "[1610612761, 1610612741]\n",
      "[1610612741, 1610612761]\n",
      "[1610612761, 1610612741]\n",
      "[1610612741, 1610612761]\n",
      "[1610612761, 1610612741]\n",
      "[1610612761, 1610612741]\n",
      "[1610612741, 1610612761]\n",
      "[1610612741, 1610612761]\n",
      "[1610612761, 1610612741]\n",
      "[1610612761, 1610612741]\n",
      "[1610612761, 1610612741]\n",
      "[1610612761, 1610612741]\n",
      "[1610612761, 1610612741]\n",
      "[1610612741, 1610612761]\n",
      "[1610612741, 1610612761]\n",
      "[1610612741, 1610612761]\n",
      "[1610612741, 1610612761]\n",
      "[1610612741, 1610612761]\n",
      "[1610612761, 1610612741]\n",
      "[1610612761, 1610612741]\n",
      "[1610612741, 1610612761]\n",
      "[1610612741, 1610612761]\n",
      "[1610612761, 1610612741]\n",
      "[1610612741, 1610612761]\n",
      "[1610612741, 1610612761]\n",
      "[1610612761, 1610612741]\n",
      "[1610612761, 1610612741]\n",
      "[1610612741, 1610612761]\n",
      "[1610612741, 1610612761]\n",
      "[1610612761, 1610612741]\n",
      "[1610612761, 1610612741]\n",
      "[1610612761, 1610612741]\n",
      "[1610612761, 1610612741]\n",
      "[1610612761, 1610612741]\n",
      "[1610612761, 1610612741]\n",
      "[1610612761, 1610612741]\n",
      "[1610612761, 1610612741]\n",
      "[1610612741, 1610612761]\n",
      "[1610612761, 1610612741]\n",
      "[1610612741, 1610612761]\n",
      "[1610612761, 1610612741]\n",
      "[1610612761, 1610612741]\n"
     ]
    },
    {
     "name": "stdout",
     "output_type": "stream",
     "text": [
      "[1610612741, 1610612761]\n",
      "[1610612741, 1610612761]\n",
      "[1610612761, 1610612741]\n",
      "[1610612761, 1610612741]\n",
      "[1610612761, 1610612741]\n",
      "[1610612741, 1610612761]\n",
      "[1610612761, 1610612741]\n",
      "[1610612761, 1610612741]\n",
      "[1610612741, 1610612761]\n",
      "[1610612741, 1610612761]\n",
      "[1610612761, 1610612741]\n",
      "[1610612761, 1610612741]\n",
      "[1610612741, 1610612761]\n",
      "[1610612761, 1610612741]\n",
      "[1610612761, 1610612741]\n",
      "[1610612761, 1610612741]\n",
      "[1610612761, 1610612741]\n",
      "[1610612761, 1610612741]\n",
      "subsample enabled with subsample factor 2\n",
      "Final number of events: 368\n"
     ]
    }
   ],
   "source": [
    "# filter out actions except 1: Make, 2: Miss, 4: Rebound, 6:Personal Foul, 7:Violation\n",
    "# use_event = [1, 2, 4, 6, 7]\n",
    "# discard_event = [3, 5, 8, 9, 10, 12, 13, 18]\n",
    "# events = filter_event_type(events_df, discard_event)\n",
    "# events = events_df.copy()\n",
    "# print('After filtering events has shape:', events.shape)\n",
    "# break up sequences at 24secs shot clock point (or irregular case, e.g. out of bound maybe),\n",
    "# and obtain the game data\n",
    "event_threshold = 50\n",
    "subsample_factor = 2\n",
    "single_game, single_game_balls, ohes = process_game_data(game_id, events_df, event_threshold, subsample_factor)\n",
    "\n",
    "print('Final number of events:', len(single_game))"
   ]
  },
  {
   "cell_type": "code",
   "execution_count": 14,
   "metadata": {
    "collapsed": true
   },
   "outputs": [],
   "source": [
    "# get player velocity\n",
    "fs_base = 1./25 # 1/25 sec/frame   or  25 frames/sec\n",
    "fs = fs_base * subsample_factor if subsample_factor != 0 else fs_base\n",
    "single_game = [get_velocity(i, fs, mode=1) for i in single_game]\n",
    "n_events = len(single_game)\n",
    "\n",
    "# get basketball velocity\n",
    "single_game_balls = [np.concatenate([i[:-1, :], get_velocity(i, fs, mode=0)], axis=1) for i in single_game_balls]"
   ]
  },
  {
   "cell_type": "code",
   "execution_count": 15,
   "metadata": {},
   "outputs": [
    {
     "data": {
      "text/plain": [
       "368"
      ]
     },
     "execution_count": 15,
     "metadata": {},
     "output_type": "execute_result"
    }
   ],
   "source": [
    "len(single_game)"
   ]
  },
  {
   "cell_type": "code",
   "execution_count": 16,
   "metadata": {},
   "outputs": [
    {
     "data": {
      "text/plain": [
       "(164, 6)"
      ]
     },
     "execution_count": 16,
     "metadata": {},
     "output_type": "execute_result"
    }
   ],
   "source": [
    "single_game_balls[0].shape"
   ]
  },
  {
   "cell_type": "markdown",
   "metadata": {},
   "source": [
    "#### Role assignment and reorder moment"
   ]
  },
  {
   "cell_type": "code",
   "execution_count": 17,
   "metadata": {
    "collapsed": true
   },
   "outputs": [],
   "source": [
    "# first prepare data\n",
    "n_defend = 5\n",
    "n_offend = 5\n",
    "n_ind = 4\n",
    "\n",
    "# length for each moment\n",
    "event_lengths = np.array([len(i) for i in single_game])\n",
    "# repeat the event_lengths 5 times in order to match the unstack later on with moments\n",
    "event_lengths_repeat = np.concatenate([event_lengths for _ in range(n_defend)], axis=0)\n",
    "# all the moments\n",
    "all_moments = np.concatenate(single_game, axis=0)\n",
    "all_moments_vel = np.concatenate(single_game, axis=0) # vel\n",
    "# we only need the first 5 players x,y coordindates\n",
    "# defend\n",
    "all_defend_moments = all_moments[:, :n_ind*n_defend]\n",
    "# offend\n",
    "all_offend_moments = all_moments[:, n_ind*n_offend:]\n",
    "\n",
    "# flattened\n",
    "all_defend_moments_ = np.concatenate([all_defend_moments[:, i:i+n_ind] for i in range(0, n_ind*n_defend, n_ind)], axis=0)\n",
    "all_offend_moments_ = np.concatenate([all_offend_moments[:, i:i+n_ind] for i in range(0, n_ind*n_offend, n_ind)], axis=0)"
   ]
  },
  {
   "cell_type": "code",
   "execution_count": 18,
   "metadata": {
    "collapsed": true
   },
   "outputs": [],
   "source": [
    "# create hmm model\n",
    "n_comp = 5\n",
    "n_mix = None\n",
    "RA = RoleAssignment(n_iter=50,verbose=True)"
   ]
  },
  {
   "cell_type": "code",
   "execution_count": 19,
   "metadata": {
    "scrolled": true
   },
   "outputs": [
    {
     "name": "stderr",
     "output_type": "stream",
     "text": [
      "         1    -1826674.4044             +nan\n",
      "         2    -1686692.6638     +139981.7406\n",
      "         3    -1581640.9931     +105051.6707\n",
      "         4    -1545529.0201      +36111.9731\n",
      "         5    -1528093.9220      +17435.0981\n",
      "         6    -1522984.7918       +5109.1302\n",
      "         7    -1521051.9357       +1932.8561\n",
      "         8    -1519875.2619       +1176.6738\n",
      "         9    -1519038.4413        +836.8206\n",
      "        10    -1518430.6125        +607.8288\n",
      "        11    -1517867.9870        +562.6256\n",
      "        12    -1517232.3533        +635.6336\n",
      "        13    -1516611.6591        +620.6942\n",
      "        14    -1516085.2894        +526.3697\n",
      "        15    -1515605.5084        +479.7810\n",
      "        16    -1515154.5973        +450.9112\n",
      "        17    -1514849.3621        +305.2351\n",
      "        18    -1514659.2799        +190.0822\n",
      "        19    -1514561.7972         +97.4827\n",
      "        20    -1514509.0675         +52.7298\n",
      "        21    -1514473.0346         +36.0329\n",
      "        22    -1514445.1851         +27.8495\n",
      "        23    -1514426.6073         +18.5778\n",
      "        24    -1514416.8004          +9.8069\n",
      "        25    -1514411.5654          +5.2350\n",
      "        26    -1514408.4989          +3.0666\n",
      "        27    -1514406.6089          +1.8900\n",
      "        28    -1514405.4512          +1.1577\n",
      "        29    -1514404.7547          +0.6965\n",
      "        30    -1514404.3380          +0.4168\n",
      "        31    -1514404.0872          +0.2508\n",
      "        32    -1514403.9348          +0.1525\n",
      "        33    -1514403.8410          +0.0938\n",
      "        34    -1514403.7827          +0.0583\n",
      "        35    -1514403.7461          +0.0366\n",
      "        36    -1514403.7230          +0.0231\n",
      "        37    -1514403.7083          +0.0147\n",
      "        38    -1514403.6989          +0.0094\n",
      "         1    -1937497.4230             +nan\n",
      "         2    -1817680.9423     +119816.4807\n",
      "         3    -1715735.6038     +101945.3385\n",
      "         4    -1677855.2285      +37880.3753\n",
      "         5    -1668249.5825       +9605.6460\n",
      "         6    -1665899.2202       +2350.3623\n",
      "         7    -1664727.8612       +1171.3590\n",
      "         8    -1664129.6766        +598.1846\n",
      "         9    -1663869.3151        +260.3615\n",
      "        10    -1663763.9424        +105.3727\n",
      "        11    -1663715.4117         +48.5307\n",
      "        12    -1663679.4867         +35.9250\n",
      "        13    -1663640.7246         +38.7621\n",
      "        14    -1663596.8233         +43.9013\n",
      "        15    -1663551.6273         +45.1960\n",
      "        16    -1663507.0099         +44.6174\n",
      "        17    -1663469.8569         +37.1530\n",
      "        18    -1663442.5664         +27.2905\n",
      "        19    -1663422.6714         +19.8949\n",
      "        20    -1663407.7052         +14.9662\n",
      "        21    -1663394.1290         +13.5762\n",
      "        22    -1663377.5965         +16.5326\n",
      "        23    -1663369.2815          +8.3150\n",
      "        24    -1663364.6687          +4.6127\n",
      "        25    -1663361.1395          +3.5292\n",
      "        26    -1663356.3437          +4.7958\n",
      "        27    -1663348.1685          +8.1751\n",
      "        28    -1663344.6313          +3.5372\n",
      "        29    -1663343.1116          +1.5197\n",
      "        30    -1663342.2414          +0.8702\n",
      "        31    -1663341.7147          +0.5267\n",
      "        32    -1663341.3824          +0.3322\n",
      "        33    -1663341.1701          +0.2123\n",
      "        34    -1663341.0360          +0.1341\n",
      "        35    -1663340.9531          +0.0829\n",
      "        36    -1663340.9029          +0.0502\n",
      "        37    -1663340.8730          +0.0299\n",
      "        38    -1663340.8554          +0.0176\n",
      "        39    -1663340.8451          +0.0103\n",
      "        40    -1663340.8391          +0.0060\n"
     ]
    }
   ],
   "source": [
    "# train\n",
    "defend_state_sequence_, defend_means, defend_covs, _ = RA.train_hmm(all_defend_moments_, event_lengths_repeat, n_comp, n_mix)\n",
    "offend_state_sequence_, offend_means, offend_covs, _ = RA.train_hmm(all_offend_moments_, event_lengths_repeat, n_comp, n_mix)\n",
    "# get role orders\n",
    "_, defend_roles = RA.assign_roles(all_defend_moments_, all_defend_moments, defend_means, event_lengths)\n",
    "_, offend_roles = RA.assign_roles(all_offend_moments_, all_offend_moments, offend_means, event_lengths)"
   ]
  },
  {
   "cell_type": "code",
   "execution_count": 20,
   "metadata": {
    "collapsed": true
   },
   "outputs": [],
   "source": [
    "defend_pos_vel = order_moment_ra([i[:, :n_ind*5] for i in single_game], defend_roles, components=n_comp)\n",
    "offend_pos_vel = order_moment_ra([i[:, n_ind*5:] for i in single_game], offend_roles, components=n_comp)"
   ]
  },
  {
   "cell_type": "code",
   "execution_count": 21,
   "metadata": {
    "collapsed": true
   },
   "outputs": [],
   "source": [
    "ohes_ = [np.tile(ohes[i], (len(single_game_balls[i]), 1)) for i in range(n_events)]\n",
    "# concatenate defend, offend roles pos and velocity and the basketball pos and vel\n",
    "single_game = [np.concatenate([defend_pos_vel[i], offend_pos_vel[i], single_game_balls[i], ohes_[i]], axis=1) for i in range(n_events)]"
   ]
  },
  {
   "cell_type": "markdown",
   "metadata": {},
   "source": [
    "#### Show the plot, for the sake of comparison with processed moment later on"
   ]
  },
  {
   "cell_type": "code",
   "execution_count": 22,
   "metadata": {
    "scrolled": false
   },
   "outputs": [
    {
     "name": "stdout",
     "output_type": "stream",
     "text": [
      "event 0/231, moment: 0/150\r"
     ]
    },
    {
     "data": {
      "text/plain": [
       "<matplotlib.axes._subplots.AxesSubplot at 0x23521630>"
      ]
     },
     "execution_count": 22,
     "metadata": {},
     "output_type": "execute_result"
    },
    {
     "data": {
      "image/png": "[encoded data removed]",
      "text/plain": [
       "<matplotlib.figure.Figure at 0x310e7da0>"
      ]
     },
     "metadata": {},
     "output_type": "display_data"
    }
   ],
   "source": [
    "Plot = PlotGame(game_id, main_dir, game_dir)\n",
    "# for i in range(plotn): \n",
    "Plot.load_moment2img(game_data, event_number=0, moment_number=0, return_img=True)"
   ]
  },
  {
   "cell_type": "code",
   "execution_count": 23,
   "metadata": {},
   "outputs": [
    {
     "data": {
      "text/plain": [
       "(164, 50)"
      ]
     },
     "execution_count": 23,
     "metadata": {},
     "output_type": "execute_result"
    }
   ],
   "source": [
    "single_game[0].shape"
   ]
  },
  {
   "cell_type": "code",
   "execution_count": null,
   "metadata": {
    "collapsed": true
   },
   "outputs": [],
   "source": [
    "plt_ind = 0"
   ]
  },
  {
   "cell_type": "code",
   "execution_count": null,
   "metadata": {},
   "outputs": [],
   "source": [
    "single_game[46]"
   ]
  },
  {
   "cell_type": "code",
   "execution_count": null,
   "metadata": {},
   "outputs": [],
   "source": [
    "single_game[0].shape"
   ]
  },
  {
   "cell_type": "code",
   "execution_count": null,
   "metadata": {
    "scrolled": false
   },
   "outputs": [],
   "source": [
    "# manual plot check\n",
    "print(plt_ind)\n",
    "plot_check(single_game, plt_ind)\n",
    "plt_ind += 1"
   ]
  },
  {
   "cell_type": "markdown",
   "metadata": {},
   "source": [
    "#### Build graph and starts training for all single policies"
   ]
  },
  {
   "cell_type": "code",
   "execution_count": null,
   "metadata": {
    "scrolled": true
   },
   "outputs": [],
   "source": [
    "sequence_length = 25\n",
    "overlap = 10\n",
    "batch_size = 32\n",
    "train_all_single_policies(single_game, batch_size, sequence_length, overlap, models_path)"
   ]
  },
  {
   "cell_type": "code",
   "execution_count": null,
   "metadata": {
    "collapsed": true
   },
   "outputs": [],
   "source": []
  },
  {
   "cell_type": "code",
   "execution_count": null,
   "metadata": {
    "collapsed": true
   },
   "outputs": [],
   "source": []
  },
  {
   "cell_type": "code",
   "execution_count": null,
   "metadata": {
    "collapsed": true
   },
   "outputs": [],
   "source": []
  },
  {
   "cell_type": "markdown",
   "metadata": {},
   "source": [
    "### Check performance"
   ]
  },
  {
   "cell_type": "code",
   "execution_count": null,
   "metadata": {},
   "outputs": [],
   "source": [
    "# pad short sequence and chunk long sequence with overlaps\n",
    "policy = 0\n",
    "train, target = get_sequences(single_game, policy, sequence_length, overlap)\n",
    "# create train and test set\n",
    "p = 0.8 # train percentage\n",
    "divider = int(len(train)*p)\n",
    "train_game, test_game = np.copy(train[:divider]), np.copy(train[divider:])\n",
    "train_target, test_target = np.copy(target[:divider]), np.copy(target[divider:])\n",
    "Model = ImportGraph('policy0/')"
   ]
  },
  {
   "cell_type": "code",
   "execution_count": null,
   "metadata": {
    "collapsed": true
   },
   "outputs": [],
   "source": [
    "n = 0"
   ]
  },
  {
   "cell_type": "code",
   "execution_count": null,
   "metadata": {},
   "outputs": [],
   "source": [
    "# manual plot check\n",
    "plot_check(train_game, n)\n",
    "n+=1"
   ]
  },
  {
   "cell_type": "code",
   "execution_count": null,
   "metadata": {},
   "outputs": [],
   "source": [
    "# use while loop to make sure the \n",
    "train_batches = get_minibatches(train_game, train_target, batch_size, shuffle=False)\n",
    "\n",
    "check_ind = np.random.randint(0, len(train_game)//batch_size)\n",
    "print('rand checking index: {0:} out of {1:}'.format(check_ind, len(train_game)//batch_size))\n",
    "\n",
    "input_xi, output_yi = train_batches\n",
    "\n",
    "y_pred = Model.forward_pass(input_xi[check_ind], h=1)\n",
    "y_true = output_yi[check_ind]\n",
    "    \n",
    "y_pred = y_pred[0][0].reshape(-1,2)\n",
    "y_true = y_true[0].reshape(-1,2)\n",
    "\n",
    "plt.figure(figsize=(15,8))\n",
    "for k in range(0, len(y_pred)):\n",
    "    plt.plot(y_pred[:, 0][k], y_pred[:, 1][k], linestyle=\"None\", marker=\"o\", markersize=k/3, color='g')\n",
    "    plt.plot(y_true[:, 0][k], y_true[:, 1][k], linestyle=\"None\", marker=\"o\", markersize=k/3, color='b')\n",
    "\n",
    "plt.plot(y_pred[:, 0], y_pred[:, 1],'g', y_true[:,0], y_true[:,1], 'b')#, pred_train[:, 0], pred_train[:, 1])\n",
    "plt.grid(True)"
   ]
  },
  {
   "cell_type": "code",
   "execution_count": null,
   "metadata": {
    "collapsed": true
   },
   "outputs": [],
   "source": []
  },
  {
   "cell_type": "markdown",
   "metadata": {},
   "source": [
    "### To do:\n",
    "\n",
    "    - 1) Regularize the lstm\n",
    "    - 2) Figure out why there are blanks in the testing\n",
    "    - 3) may consider to collect those left out from the process of creating batches\n",
    "    - 4) related to 3), seq_len = 3 may create null batches \n",
    "\n",
    "    - Split data to defending and offending, as the model for e.g. forward role in deffending and offending should be pretty different. Remove particular events, like free-throw etc.\n",
    "    \n",
    "    - We can use the shot clock as an indicator of when the offending and defending switches.\n",
    "    \n",
    "    - The cameras oprate at 25 frames per second, so in order to learn realistic motions, either we sample the 25 frames, or extend the horizon to 50 for example or even longer(this might be too computationally heavy and model would probably drift a lot).\n",
    "    \n",
    "    - At the moment if we don't have defending or offending sepearted, at least we need to break down the sequences from the 24 secs shot clock, since it usually stands for a change in game state. (note: shot clock sometimes is None)\n",
    "    \n",
    "    - Add tensorboard visualization. Add validation performance (maybe, it would take longer). \n",
    "      tensorboard --logdir=./train_logs\n",
    "      \n",
    "    - Start thinking about 1) joint training 2) Hidden structure 3) Smooth learning\n",
    "    - from each sample to next sample theres not much change, subsample them "
   ]
  },
  {
   "cell_type": "markdown",
   "metadata": {
    "collapsed": true
   },
   "source": [
    "### Questions\n",
    "\n",
    "    * After a team scored and they go back to get ready for defense, is the going back trajectory pretty much random?\n",
    "    * Do player swap roles during the play? e.g. a forward swapped to a guard, is the forward roles a lot different from gaurds these day? (i.e. can you differentaite a player plaing forward from guard from the game) If yes, then the hidden structure learning/sequencing is necessary. "
   ]
  },
  {
   "cell_type": "code",
   "execution_count": null,
   "metadata": {
    "collapsed": true
   },
   "outputs": [],
   "source": []
  }
 ],
 "metadata": {
  "kernelspec": {
   "display_name": "Python 3",
   "language": "python",
   "name": "python3"
  },
  "language_info": {
   "codemirror_mode": {
    "name": "ipython",
    "version": 3
   },
   "file_extension": ".py",
   "mimetype": "text/x-python",
   "name": "python",
   "nbconvert_exporter": "python",
   "pygments_lexer": "ipython3",
   "version": "3.6.1"
  }
 },
 "nbformat": 4,
 "nbformat_minor": 2
}
