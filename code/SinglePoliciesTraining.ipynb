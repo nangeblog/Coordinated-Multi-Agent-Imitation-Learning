{
 "cells": [
  {
   "cell_type": "code",
   "execution_count": 1,
   "metadata": {},
   "outputs": [
    {
     "name": "stderr",
     "output_type": "stream",
     "text": [
      "/home/sam/anaconda3/lib/python3.6/importlib/_bootstrap.py:219: RuntimeWarning: compiletime version 3.5 of module 'tensorflow.python.framework.fast_tensor_util' does not match runtime version 3.6\n",
      "  return f(*args, **kwds)\n",
      "/home/sam/anaconda3/lib/python3.6/site-packages/h5py/__init__.py:36: FutureWarning: Conversion of the second argument of issubdtype from `float` to `np.floating` is deprecated. In future, it will be treated as `np.float64 == np.dtype(float).type`.\n",
      "  from ._conv import register_converters as _register_converters\n"
     ]
    }
   ],
   "source": [
    "import tensorflow as tf\n",
    "from tensorflow.python.ops.rnn import _transpose_batch_time\n",
    "\n",
    "from datetime import datetime\n",
    "import numpy as np\n",
    "import pandas as pd\n",
    "import glob, os, sys, math, warnings, copy, time, glob, pickle\n",
    "import matplotlib.pyplot as plt\n",
    "os.environ[\"TF_CPP_MIN_LOG_LEVEL\"]=\"3\"\n",
    "\n",
    "# customized ftns \n",
    "from preprocessing import process_game_data\n",
    "from sequencing import get_sequences, get_minibatches, iterate_minibatches, subsample_sequence\n",
    "from utilities import *\n",
    "from model import *\n",
    "from train import train_all_single_policies\n",
    "# ---------------------------------------------------------\n",
    "%matplotlib inline\n",
    "%load_ext autoreload\n",
    "%autoreload 2\n",
    "warnings.filterwarnings('ignore')\n",
    "# warnings.filterwarnings(action='once')\n",
    "# ---------------------------------------------------------\n",
    "# directories\n",
    "main_dir = '../'\n",
    "game_dir = main_dir+'data/'\n",
    "Data = LoadData(main_dir, game_dir)\n",
    "models_path = './models/' "
   ]
  },
  {
   "cell_type": "markdown",
   "metadata": {},
   "source": [
    "#### Pre-process \n",
    "filter events, subsample frames, add velocity, reorder moments, re-arrange team order\n",
    "shot clock, filter out event with short moments"
   ]
  },
  {
   "cell_type": "code",
   "execution_count": 2,
   "metadata": {
    "collapsed": true
   },
   "outputs": [],
   "source": [
    "all_games_id = [i.split('/')[-1].split('.')[0] for i in glob.glob('../data/*.pkl')]"
   ]
  },
  {
   "cell_type": "code",
   "execution_count": 3,
   "metadata": {
    "collapsed": true
   },
   "outputs": [],
   "source": [
    "# all_games_id = ['0021500024']"
   ]
  },
  {
   "cell_type": "code",
   "execution_count": 4,
   "metadata": {
    "scrolled": true
   },
   "outputs": [
    {
     "name": "stdout",
     "output_type": "stream",
     "text": [
      "2018-05-17 10:12:03,137 | INFO : working on game 0021500066 | 1 out of total 42 games\n",
      "2018-05-17 10:12:23,423 | INFO : working on game 0021500529 | 2 out of total 42 games\n",
      "2018-05-17 10:12:43,167 | INFO : working on game 0021500042 | 3 out of total 42 games\n",
      "2018-05-17 10:12:59,930 | INFO : working on game 0021500115 | 4 out of total 42 games\n",
      "2018-05-17 10:13:20,171 | INFO : working on game 0021500096 | 5 out of total 42 games\n",
      "2018-05-17 10:13:42,731 | INFO : working on game 0021500649 | 6 out of total 42 games\n",
      "2018-05-17 10:14:01,100 | INFO : working on game 0021500383 | 7 out of total 42 games\n",
      "2018-05-17 10:14:25,725 | INFO : working on game 0021500272 | 8 out of total 42 games\n",
      "2018-05-17 10:14:44,426 | INFO : working on game 0021500075 | 9 out of total 42 games\n",
      "2018-05-17 10:15:02,086 | INFO : working on game 0021500355 | 10 out of total 42 games\n",
      "2018-05-17 10:15:25,444 | INFO : working on game 0021500421 | 11 out of total 42 games\n",
      "2018-05-17 10:15:49,864 | INFO : working on game 0021500196 | 12 out of total 42 games\n",
      "2018-05-17 10:16:13,298 | INFO : working on game 0021500463 | 13 out of total 42 games\n",
      "2018-05-17 10:16:32,988 | INFO : working on game 0021500308 | 14 out of total 42 games\n",
      "2018-05-17 10:16:57,441 | INFO : working on game 0021500323 | 15 out of total 42 games\n",
      "2018-05-17 10:17:20,681 | INFO : working on game 0021500024 | 16 out of total 42 games\n",
      "2018-05-17 10:17:43,255 | INFO : working on game 0021500507 | 17 out of total 42 games\n",
      "2018-05-17 10:18:04,319 | INFO : working on game 0021500250 | 18 out of total 42 games\n",
      "2018-05-17 10:18:26,963 | INFO : working on game 0021500492 | 19 out of total 42 games\n",
      "2018-05-17 10:18:47,904 | INFO : working on game 0021500173 | 20 out of total 42 games\n",
      "2018-05-17 10:19:10,189 | INFO : working on game 0021500477 | 21 out of total 42 games\n",
      "2018-05-17 10:19:30,225 | INFO : working on game 0021500357 | 22 out of total 42 games\n",
      "2018-05-17 10:19:49,097 | INFO : working on game 0021500540 | 23 out of total 42 games\n",
      "2018-05-17 10:20:11,761 | INFO : working on game 0021500278 | 24 out of total 42 games\n",
      "2018-05-17 10:20:33,735 | INFO : working on game 0021500511 | 25 out of total 42 games\n",
      "2018-05-17 10:20:50,414 | INFO : working on game 0021500337 | 26 out of total 42 games\n",
      "2018-05-17 10:21:12,186 | INFO : working on game 0021500290 | 27 out of total 42 games\n",
      "2018-05-17 10:21:33,920 | INFO : working on game 0021500239 | 28 out of total 42 games\n",
      "2018-05-17 10:21:56,918 | INFO : working on game 0021500131 | 29 out of total 42 games\n",
      "2018-05-17 10:22:18,388 | INFO : working on game 0021500390 | 30 out of total 42 games\n",
      "2018-05-17 10:22:38,582 | INFO : working on game 0021500219 | 31 out of total 42 games\n",
      "2018-05-17 10:23:00,609 | INFO : working on game 0021500441 | 32 out of total 42 games\n",
      "2018-05-17 10:23:21,106 | INFO : working on game 0021500164 | 33 out of total 42 games\n",
      "2018-05-17 10:23:42,834 | INFO : working on game 0021500150 | 34 out of total 42 games\n",
      "2018-05-17 10:24:03,460 | INFO : working on game 0021500554 | 35 out of total 42 games\n",
      "2018-05-17 10:24:21,530 | INFO : working on game 0021500057 | 36 out of total 42 games\n",
      "2018-05-17 10:24:39,152 | INFO : working on game 0021500109 | 37 out of total 42 games\n",
      "2018-05-17 10:24:51,755 | INFO : working on game 0021500408 | 38 out of total 42 games\n",
      "2018-05-17 10:25:12,949 | INFO : working on game 0021500009 | 39 out of total 42 games\n",
      "2018-05-17 10:25:30,526 | INFO : working on game 0021500633 | 40 out of total 42 games\n",
      "2018-05-17 10:25:49,822 | INFO : working on game 0021500621 | 41 out of total 42 games\n",
      "2018-05-17 10:26:08,340 | INFO : working on game 0021500188 | 42 out of total 42 games\n",
      "2018-05-17 10:26:30,173 | INFO : Assigning roles by cosine method.\n",
      "2018-05-17 10:26:30,174 | INFO : Training for player_inds: [0, 1, 2, 3, 4] with iterations: 90\n"
     ]
    },
    {
     "name": "stderr",
     "output_type": "stream",
     "text": [
      "         1  -169724388.5778             +nan\n",
      "         2  -147823214.3897   +21901174.1881\n",
      "         3  -142410113.7409    +5413100.6488\n",
      "         4  -141242212.0875    +1167901.6534\n",
      "         5  -140517954.4937     +724257.5938\n",
      "         6  -139917415.6611     +600538.8326\n",
      "         7  -139549793.8034     +367621.8577\n",
      "         8  -139299729.1151     +250064.6883\n",
      "         9  -139119939.6876     +179789.4275\n",
      "        10  -139001026.6960     +118912.9917\n",
      "        11  -138924595.8095      +76430.8864\n",
      "        12  -138875215.8216      +49379.9879\n",
      "        13  -138841163.5742      +34052.2475\n",
      "        14  -138817312.1466      +23851.4276\n",
      "        15  -138799686.1249      +17626.0217\n",
      "        16  -138785914.7344      +13771.3905\n",
      "        17  -138774300.2092      +11614.5252\n",
      "        18  -138764126.0092      +10174.2000\n",
      "        19  -138754534.4640       +9591.5452\n",
      "        20  -138744864.4392       +9670.0249\n",
      "        21  -138734365.4461      +10498.9931\n",
      "        22  -138721986.9518      +12378.4943\n",
      "        23  -138705340.9542      +16645.9976\n",
      "        24  -138679150.7842      +26190.1699\n",
      "        25  -138627182.9741      +51967.8101\n",
      "        26  -138482066.7895     +145116.1846\n",
      "        27  -138139652.2804     +342414.5090\n",
      "        28  -137994410.3672     +145241.9133\n",
      "        29  -137935854.8749      +58555.4923\n",
      "        30  -137881172.2464      +54682.6286\n",
      "        31  -137835853.6608      +45318.5855\n",
      "        32  -137811357.5605      +24496.1003\n",
      "        33  -137796624.8449      +14732.7157\n",
      "        34  -137786836.8898       +9787.9550\n",
      "        35  -137780063.8777       +6773.0121\n",
      "        36  -137775082.2951       +4981.5826\n",
      "        37  -137771404.4847       +3677.8104\n",
      "        38  -137768700.0785       +2704.4062\n",
      "        39  -137766784.8333       +1915.2451\n",
      "        40  -137765379.5695       +1405.2639\n",
      "        41  -137764313.9959       +1065.5736\n",
      "        42  -137763467.7981        +846.1977\n",
      "        43  -137762769.7984        +697.9997\n",
      "        44  -137762180.6166        +589.1818\n",
      "        45  -137761668.0586        +512.5580\n",
      "        46  -137761183.0044        +485.0542\n",
      "        47  -137760705.9099        +477.0945\n",
      "        48  -137760217.6280        +488.2818\n",
      "        49  -137759713.7285        +503.8995\n",
      "        50  -137759193.9772        +519.7514\n",
      "        51  -137758629.2765        +564.7007\n",
      "        52  -137758069.9988        +559.2777\n",
      "        53  -137757556.8128        +513.1859\n",
      "        54  -137757091.2915        +465.5213\n",
      "        55  -137756667.0801        +424.2114\n",
      "        56  -137756301.1878        +365.8923\n",
      "        57  -137755998.3742        +302.8137\n",
      "        58  -137755763.3133        +235.0609\n",
      "        59  -137755581.7680        +181.5453\n",
      "        60  -137755435.7009        +146.0672\n",
      "        61  -137755311.7597        +123.9412\n",
      "        62  -137755207.1251        +104.6346\n",
      "        63  -137755119.9238         +87.2013\n",
      "        64  -137755046.7999         +73.1238\n",
      "        65  -137754984.7651         +62.0348\n",
      "        66  -137754931.0544         +53.7107\n",
      "        67  -137754886.0663         +44.9881\n",
      "        68  -137754848.7101         +37.3562\n",
      "        69  -137754817.7117         +30.9984\n",
      "        70  -137754792.0407         +25.6711\n",
      "        71  -137754770.7366         +21.3041\n",
      "        72  -137754752.9661         +17.7705\n",
      "        73  -137754738.1552         +14.8109\n",
      "        74  -137754725.9760         +12.1791\n",
      "        75  -137754716.1580          +9.8181\n",
      "        76  -137754708.3659          +7.7920\n",
      "        77  -137754702.2262          +6.1398\n",
      "        78  -137754697.3875          +4.8387\n",
      "        79  -137754693.5544          +3.8331\n",
      "        80  -137754690.4933          +3.0611\n",
      "        81  -137754688.0255          +2.4678\n",
      "        82  -137754686.0157          +2.0097\n",
      "        83  -137754684.3616          +1.6541\n",
      "        84  -137754682.9836          +1.3780\n",
      "        85  -137754681.8166          +1.1671\n",
      "        86  -137754680.7996          +1.0170\n",
      "        87  -137754679.8648          +0.9348\n",
      "        88  -137754678.9418          +0.9230\n",
      "        89  -137754678.0315          +0.9103\n",
      "        90  -137754677.2251          +0.8065\n"
     ]
    },
    {
     "name": "stdout",
     "output_type": "stream",
     "text": [
      "2018-05-17 11:21:58,771 | INFO : Assigning roles by cosine method.\n",
      "2018-05-17 11:21:58,772 | INFO : Training for player_inds: [5, 6, 7, 8, 9] with iterations: 130\n"
     ]
    },
    {
     "name": "stderr",
     "output_type": "stream",
     "text": [
      "         1  -184791489.4785             +nan\n",
      "         2  -157711793.9455   +27079695.5330\n",
      "         3  -152663993.4817    +5047800.4638\n",
      "         4  -152032760.6717     +631232.8100\n",
      "         5  -151775921.3740     +256839.2977\n",
      "         6  -151576813.8406     +199107.5334\n",
      "         7  -151414960.9051     +161852.9355\n",
      "         8  -151277234.4549     +137726.4502\n",
      "         9  -151155492.4309     +121742.0240\n",
      "        10  -151049890.3215     +105602.1094\n",
      "        11  -150958873.9815      +91016.3401\n",
      "        12  -150882386.9971      +76486.9843\n",
      "        13  -150820345.7043      +62041.2929\n",
      "        14  -150773539.6066      +46806.0977\n",
      "        15  -150738057.7623      +35481.8443\n",
      "        16  -150711180.0121      +26877.7502\n",
      "        17  -150690349.5805      +20830.4316\n",
      "        18  -150673318.0010      +17031.5795\n",
      "        19  -150659110.2262      +14207.7747\n",
      "        20  -150647110.3465      +11999.8797\n",
      "        21  -150636310.4056      +10799.9410\n",
      "        22  -150627014.1759       +9296.2297\n",
      "        23  -150618805.5760       +8208.5999\n",
      "        24  -150611761.6251       +7043.9509\n",
      "        25  -150605496.6481       +6264.9770\n",
      "        26  -150599765.8678       +5730.7803\n",
      "        27  -150594280.6837       +5485.1841\n",
      "        28  -150589215.6909       +5064.9929\n",
      "        29  -150584602.2721       +4613.4188\n",
      "        30  -150580452.1595       +4150.1126\n",
      "        31  -150576597.1620       +3854.9975\n",
      "        32  -150572983.8484       +3613.3135\n",
      "        33  -150569572.9880       +3410.8605\n",
      "        34  -150566320.3900       +3252.5980\n",
      "        35  -150563007.2704       +3313.1196\n",
      "        36  -150559470.0020       +3537.2684\n",
      "        37  -150555701.1496       +3768.8524\n",
      "        38  -150551574.1111       +4127.0384\n",
      "        39  -150547055.6207       +4518.4904\n",
      "        40  -150542066.0909       +4989.5298\n",
      "        41  -150536129.7999       +5936.2911\n",
      "        42  -150528872.7333       +7257.0666\n",
      "        43  -150519546.2319       +9326.5013\n",
      "        44  -150507459.4310      +12086.8009\n",
      "        45  -150491732.0344      +15727.3966\n",
      "        46  -150470132.1892      +21599.8452\n",
      "        47  -150440557.2161      +29574.9731\n",
      "        48  -150402683.6296      +37873.5866\n",
      "        49  -150358194.7024      +44488.9271\n",
      "        50  -150309040.9399      +49153.7625\n",
      "        51  -150256377.6556      +52663.2843\n",
      "        52  -150209866.6445      +46511.0111\n",
      "        53  -150174262.3778      +35604.2667\n",
      "        54  -150146986.5290      +27275.8488\n",
      "        55  -150125775.8138      +21210.7152\n",
      "        56  -150107027.3437      +18748.4701\n",
      "        57  -150085743.7897      +21283.5540\n",
      "        58  -150053021.8436      +32721.9461\n",
      "        59  -149981812.2801      +71209.5635\n",
      "        60  -149825562.4632     +156249.8168\n",
      "        61  -149576874.6711     +248687.7922\n",
      "        62  -149279313.2402     +297561.4308\n",
      "        63  -149006334.7097     +272978.5305\n",
      "        64  -148792452.3961     +213882.3136\n",
      "        65  -148636363.3384     +156089.0577\n",
      "        66  -148531136.9711     +105226.3673\n",
      "        67  -148462546.0700      +68590.9011\n",
      "        68  -148416135.9097      +46410.1602\n",
      "        69  -148385177.4206      +30958.4892\n",
      "        70  -148366099.0805      +19078.3400\n",
      "        71  -148354337.2121      +11761.8684\n",
      "        72  -148346562.0852       +7775.1269\n",
      "        73  -148341326.1322       +5235.9530\n",
      "        74  -148337659.4056       +3666.7266\n",
      "        75  -148334972.4918       +2686.9137\n",
      "        76  -148332982.2568       +1990.2350\n",
      "        77  -148331429.4009       +1552.8560\n",
      "        78  -148330204.7557       +1224.6452\n",
      "        79  -148329238.1474        +966.6083\n",
      "        80  -148328424.1536        +813.9938\n",
      "        81  -148327756.9866        +667.1670\n",
      "        82  -148327209.0240        +547.9627\n",
      "        83  -148326758.5091        +450.5148\n",
      "        84  -148326394.6795        +363.8297\n",
      "        85  -148326096.2795        +298.3999\n",
      "        86  -148325850.0688        +246.2107\n",
      "        87  -148325647.5401        +202.5287\n",
      "        88  -148325479.2757        +168.2644\n",
      "        89  -148325335.9379        +143.3378\n",
      "        90  -148325213.4520        +122.4859\n",
      "        91  -148325111.4564        +101.9956\n",
      "        92  -148325027.7424         +83.7140\n",
      "        93  -148324959.3119         +68.4306\n",
      "        94  -148324903.3739         +55.9380\n",
      "        95  -148324857.6135         +45.7603\n",
      "        96  -148324820.2576         +37.3559\n",
      "        97  -148324789.8035         +30.4541\n",
      "        98  -148324764.9306         +24.8729\n",
      "        99  -148324744.5473         +20.3833\n",
      "       100  -148324727.7936         +16.7537\n",
      "       101  -148324714.0015         +13.7921\n",
      "       102  -148324702.6482         +11.3533\n",
      "       103  -148324693.3153          +9.3329\n",
      "       104  -148324685.6590          +7.6563\n",
      "       105  -148324679.3904          +6.2686\n",
      "       106  -148324674.2643          +5.1261\n",
      "       107  -148324670.0738          +4.1905\n",
      "       108  -148324666.6460          +3.4277\n",
      "       109  -148324663.8393          +2.8067\n",
      "       110  -148324661.5387          +2.3006\n",
      "       111  -148324659.6520          +1.8868\n",
      "       112  -148324658.1048          +1.5471\n",
      "       113  -148324656.8374          +1.2674\n",
      "       114  -148324655.8007          +1.0367\n",
      "       115  -148324654.9543          +0.8464\n",
      "       116  -148324654.2648          +0.6895\n",
      "       117  -148324653.7043          +0.5605\n",
      "       118  -148324653.2496          +0.4547\n",
      "       119  -148324652.8814          +0.3682\n",
      "       120  -148324652.5838          +0.2976\n",
      "       121  -148324652.3436          +0.2402\n",
      "       122  -148324652.1500          +0.1936\n",
      "       123  -148324651.9941          +0.1559\n",
      "       124  -148324651.8688          +0.1254\n",
      "       125  -148324651.7680          +0.1007\n",
      "       126  -148324651.6871          +0.0809\n",
      "       127  -148324651.6222          +0.0649\n",
      "       128  -148324651.5701          +0.0521\n",
      "       129  -148324651.5283          +0.0418\n",
      "       130  -148324651.4949          +0.0335\n"
     ]
    },
    {
     "name": "stdout",
     "output_type": "stream",
     "text": [
      "2018-05-17 12:36:30,433 | INFO : Total HMM training took 130.00432457129162mins\n",
      "Final number of events: 6485\n"
     ]
    }
   ],
   "source": [
    "event_threshold = 100\n",
    "subsample_factor = 2\n",
    "# single_game = process_game_data(game_id, events_df, event_threshold, subsample_factor)\n",
    "\n",
    "game_files = './all_games.pkl'\n",
    "if os.path.isfile(game_files):\n",
    "    with open(game_files, 'rb') as f:\n",
    "        single_game = pickle.load(f)\n",
    "else:\n",
    "    single_game = process_game_data(Data, all_games_id, event_threshold, subsample_factor)\n",
    "    with open(game_files, 'wb') as f:\n",
    "        pickle.dump(single_game, f)\n",
    "print('Final number of events:', len(single_game))"
   ]
  },
  {
   "cell_type": "markdown",
   "metadata": {},
   "source": [
    "#### Show the plot, for the sake of comparison with processed moment later on"
   ]
  },
  {
   "cell_type": "code",
   "execution_count": 5,
   "metadata": {
    "collapsed": true,
    "scrolled": false
   },
   "outputs": [],
   "source": [
    "game_id = all_games_id[0]\n",
    "Plot = PlotGame(game_id, main_dir, game_dir)\n",
    "# for i in range(plotn): \n",
    "# Plot.load_moment2img(game_data, event_number=0, moment_number=0, return_img=True)"
   ]
  },
  {
   "cell_type": "code",
   "execution_count": 6,
   "metadata": {
    "collapsed": true
   },
   "outputs": [],
   "source": [
    "plt_ind = 0"
   ]
  },
  {
   "cell_type": "code",
   "execution_count": null,
   "metadata": {
    "scrolled": false
   },
   "outputs": [
    {
     "name": "stdout",
     "output_type": "stream",
     "text": [
      "0\n"
     ]
    },
    {
     "data": {
      "image/png": "[encoded data removed]",
      "text/plain": [
       "<Figure size 360x504 with 1 Axes>"
      ]
     },
     "metadata": {},
     "output_type": "display_data"
    }
   ],
   "source": [
    "# manual plot check\n",
    "print(plt_ind)\n",
    "plot_check(single_game, plt_ind)\n",
    "plt_ind += 1"
   ]
  },
  {
   "cell_type": "markdown",
   "metadata": {},
   "source": [
    "#### Build graph and starts training for all single policies"
   ]
  },
  {
   "cell_type": "code",
   "execution_count": null,
   "metadata": {
    "scrolled": true
   },
   "outputs": [
    {
     "name": "stdout",
     "output_type": "stream",
     "text": [
      "2018-05-17 12:39:06,018 | INFO : Training with hyper parameters: \n",
      "{'batch_size': 64, 'sequence_length': 50, 'overlap': 25, 'state_size': 256, 'input_dim': 179, 'learning_rate': 0.001, 'n_epoch': 1000}\n",
      "2018-05-17 12:39:06,019 | INFO : Wroking on policy 0\n",
      "2018-05-17 12:39:06,714 | INFO : train len: 20546 | test shape: 5137\n",
      "2018-05-17 12:39:07,789 | INFO : Horizon 0 ==========\n",
      "2018-05-17 12:39:21,554 | INFO : Epoch 0    | loss: 55.04    | time took: 12.43s | validation loss: 36.03   \n",
      "2018-05-17 12:59:57,290 | INFO : Epoch 100  | loss: 1.94     | time took: 12.37s | validation loss: 2.15    \n",
      "2018-05-17 13:20:35,711 | INFO : Epoch 200  | loss: 1.53     | time took: 12.35s | validation loss: 2.19    \n",
      "2018-05-17 13:41:14,299 | INFO : Epoch 300  | loss: 1.21     | time took: 12.34s | validation loss: 2.37    \n",
      "2018-05-17 14:01:52,758 | INFO : Epoch 400  | loss: 1.02     | time took: 12.35s | validation loss: 2.44    \n",
      "2018-05-17 14:22:32,184 | INFO : Epoch 500  | loss: 0.81     | time took: 12.43s | validation loss: 2.38    \n"
     ]
    }
   ],
   "source": [
    "sequence_length = 50\n",
    "overlap = 25\n",
    "batch_size = 64\n",
    "\n",
    "hyper_params = {'batch_size': batch_size,\n",
    "                'sequence_length': sequence_length,\n",
    "                'overlap': overlap,\n",
    "                'state_size': 256,\n",
    "                'input_dim': 179,\n",
    "                'learning_rate': 0.0005,\n",
    "                'n_epoch': int(1e3)}\n",
    "\n",
    "train_all_single_policies(single_game, hyper_params, models_path)"
   ]
  },
  {
   "cell_type": "code",
   "execution_count": null,
   "metadata": {
    "collapsed": true
   },
   "outputs": [],
   "source": []
  },
  {
   "cell_type": "code",
   "execution_count": null,
   "metadata": {
    "collapsed": true
   },
   "outputs": [],
   "source": []
  },
  {
   "cell_type": "markdown",
   "metadata": {},
   "source": [
    "### Check performance"
   ]
  },
  {
   "cell_type": "code",
   "execution_count": null,
   "metadata": {},
   "outputs": [],
   "source": [
    "# pad short sequence and chunk long sequence with overlaps\n",
    "policy = 0\n",
    "train, target = get_sequences(single_game, policy, sequence_length, overlap)\n",
    "# create train and test set\n",
    "p = 0.8 # train percentage\n",
    "divider = int(len(train)*p)\n",
    "train_game, test_game = np.copy(train[:divider]), np.copy(train[divider:])\n",
    "train_target, test_target = np.copy(target[:divider]), np.copy(target[divider:])\n",
    "Model = ImportGraph('policy0/')"
   ]
  },
  {
   "cell_type": "code",
   "execution_count": null,
   "metadata": {
    "collapsed": true
   },
   "outputs": [],
   "source": [
    "n = 0"
   ]
  },
  {
   "cell_type": "code",
   "execution_count": null,
   "metadata": {},
   "outputs": [],
   "source": [
    "# manual plot check\n",
    "plot_check(train_game, n)\n",
    "n+=1"
   ]
  },
  {
   "cell_type": "code",
   "execution_count": null,
   "metadata": {},
   "outputs": [],
   "source": [
    "# use while loop to make sure the \n",
    "train_batches = get_minibatches(train_game, train_target, batch_size, shuffle=False)\n",
    "\n",
    "check_ind = np.random.randint(0, len(train_game)//batch_size)\n",
    "print('rand checking index: {0:} out of {1:}'.format(check_ind, len(train_game)//batch_size))\n",
    "\n",
    "input_xi, output_yi = train_batches\n",
    "\n",
    "y_pred = Model.forward_pass(input_xi[check_ind], h=1)\n",
    "y_true = output_yi[check_ind]\n",
    "    \n",
    "y_pred = y_pred[0][0].reshape(-1,2)\n",
    "y_true = y_true[0].reshape(-1,2)\n",
    "\n",
    "plt.figure(figsize=(15,8))\n",
    "for k in range(0, len(y_pred)):\n",
    "    plt.plot(y_pred[:, 0][k], y_pred[:, 1][k], linestyle=\"None\", marker=\"o\", markersize=k, color='g')\n",
    "    plt.plot(y_true[:, 0][k], y_true[:, 1][k], linestyle=\"None\", marker=\"o\", markersize=k, color='b')\n",
    "\n",
    "plt.plot(y_pred[:, 0], y_pred[:, 1],'g', y_true[:,0], y_true[:,1], 'b')#, pred_train[:, 0], pred_train[:, 1])\n",
    "plt.grid(True)"
   ]
  },
  {
   "cell_type": "code",
   "execution_count": null,
   "metadata": {
    "collapsed": true
   },
   "outputs": [],
   "source": []
  },
  {
   "cell_type": "code",
   "execution_count": null,
   "metadata": {
    "collapsed": true
   },
   "outputs": [],
   "source": []
  },
  {
   "cell_type": "code",
   "execution_count": null,
   "metadata": {
    "collapsed": true
   },
   "outputs": [],
   "source": []
  },
  {
   "cell_type": "code",
   "execution_count": null,
   "metadata": {
    "collapsed": true
   },
   "outputs": [],
   "source": []
  },
  {
   "cell_type": "markdown",
   "metadata": {},
   "source": [
    "### To do:\n",
    "\n",
    "    - 1) Regularize the lstm\n",
    "    - 2) Figure out why there are blanks in the testing\n",
    "    - 3) may consider to collect those left out from the process of creating batches\n",
    "    - 4) related to 3), seq_len = 3 may create null batches \n",
    "\n",
    "    - Split data to defending and offending, as the model for e.g. forward role in deffending and offending should be pretty different. Remove particular events, like free-throw etc.\n",
    "    \n",
    "    - We can use the shot clock as an indicator of when the offending and defending switches.\n",
    "    \n",
    "    - The cameras oprate at 25 frames per second, so in order to learn realistic motions, either we sample the 25 frames, or extend the horizon to 50 for example or even longer(this might be too computationally heavy and model would probably drift a lot).\n",
    "    \n",
    "    - At the moment if we don't have defending or offending sepearted, at least we need to break down the sequences from the 24 secs shot clock, since it usually stands for a change in game state. (note: shot clock sometimes is None)\n",
    "    \n",
    "    - Add tensorboard visualization. Add validation performance (maybe, it would take longer). \n",
    "      tensorboard --logdir=./train_logs\n",
    "      \n",
    "    - Start thinking about 1) joint training 2) Hidden structure 3) Smooth learning\n",
    "    - from each sample to next sample theres not much change, subsample them "
   ]
  },
  {
   "cell_type": "markdown",
   "metadata": {
    "collapsed": true
   },
   "source": [
    "### Questions\n",
    "\n",
    "    * After a team scored and they go back to get ready for defense, is the going back trajectory pretty much random?\n",
    "    * Do player swap roles during the play? e.g. a forward swapped to a guard, is the forward roles a lot different from gaurds these day? (i.e. can you differentaite a player plaing forward from guard from the game) If yes, then the hidden structure learning/sequencing is necessary. "
   ]
  },
  {
   "cell_type": "code",
   "execution_count": null,
   "metadata": {
    "collapsed": true
   },
   "outputs": [],
   "source": []
  }
 ],
 "metadata": {
  "kernelspec": {
   "display_name": "Python 3",
   "language": "python",
   "name": "python3"
  },
  "language_info": {
   "codemirror_mode": {
    "name": "ipython",
    "version": 3
   },
   "file_extension": ".py",
   "mimetype": "text/x-python",
   "name": "python",
   "nbconvert_exporter": "python",
   "pygments_lexer": "ipython3",
   "version": "3.6.4"
  }
 },
 "nbformat": 4,
 "nbformat_minor": 2
}
