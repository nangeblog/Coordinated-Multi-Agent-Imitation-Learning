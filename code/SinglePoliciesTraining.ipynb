{
 "cells": [
  {
   "cell_type": "code",
   "execution_count": 1,
   "metadata": {},
   "outputs": [
    {
     "name": "stderr",
     "output_type": "stream",
     "text": [
      "/home/sam/anaconda3/lib/python3.6/importlib/_bootstrap.py:219: RuntimeWarning: compiletime version 3.5 of module 'tensorflow.python.framework.fast_tensor_util' does not match runtime version 3.6\n",
      "  return f(*args, **kwds)\n",
      "/home/sam/anaconda3/lib/python3.6/site-packages/h5py/__init__.py:36: FutureWarning: Conversion of the second argument of issubdtype from `float` to `np.floating` is deprecated. In future, it will be treated as `np.float64 == np.dtype(float).type`.\n",
      "  from ._conv import register_converters as _register_converters\n"
     ]
    }
   ],
   "source": [
    "import tensorflow as tf\n",
    "from tensorflow.python.ops.rnn import _transpose_batch_time\n",
    "\n",
    "from datetime import datetime\n",
    "import numpy as np\n",
    "import pandas as pd\n",
    "import glob, os, sys, math, warnings, copy, time, glob\n",
    "import matplotlib.pyplot as plt\n",
    "os.environ[\"TF_CPP_MIN_LOG_LEVEL\"]=\"3\"\n",
    "\n",
    "# customized ftns \n",
    "from preprocessing import process_game_data\n",
    "from sequencing import get_sequences, get_minibatches, iterate_minibatches, subsample_sequence\n",
    "from utilities import *\n",
    "from model import *\n",
    "from train import train_all_single_policies\n",
    "# ---------------------------------------------------------\n",
    "%matplotlib inline\n",
    "%load_ext autoreload\n",
    "%autoreload 2\n",
    "warnings.filterwarnings('ignore')\n",
    "# warnings.filterwarnings(action='once')\n",
    "# ---------------------------------------------------------\n",
    "# directories\n",
    "main_dir = '../'\n",
    "game_dir = main_dir+'data/'\n",
    "Data = LoadData(main_dir, game_dir)\n",
    "models_path = './models/' "
   ]
  },
  {
   "cell_type": "markdown",
   "metadata": {},
   "source": [
    "#### Pre-process \n",
    "filter events, subsample frames, add velocity, reorder moments, re-arrange team order\n",
    "shot clock, filter out event with short moments"
   ]
  },
  {
   "cell_type": "code",
   "execution_count": 2,
   "metadata": {
    "collapsed": true
   },
   "outputs": [],
   "source": [
    "all_games_id = [i.split('/')[-1].split('.')[0] for i in glob.glob('../data/*.pkl')]"
   ]
  },
  {
   "cell_type": "code",
   "execution_count": 3,
   "metadata": {
    "collapsed": true
   },
   "outputs": [],
   "source": [
    "# all_games_id = ['0021500024']"
   ]
  },
  {
   "cell_type": "code",
   "execution_count": 4,
   "metadata": {
    "scrolled": true
   },
   "outputs": [
    {
     "name": "stdout",
     "output_type": "stream",
     "text": [
      "2018-05-15 23:44:36,354 | INFO : working on game 0021500066 | 0 out of total 42 games\n",
      "2018-05-15 23:44:57,666 | INFO : working on game 0021500529 | 1 out of total 42 games\n",
      "2018-05-15 23:45:18,415 | INFO : working on game 0021500042 | 2 out of total 42 games\n",
      "2018-05-15 23:45:35,293 | INFO : working on game 0021500115 | 3 out of total 42 games\n",
      "2018-05-15 23:45:55,594 | INFO : working on game 0021500096 | 4 out of total 42 games\n",
      "2018-05-15 23:46:18,322 | INFO : working on game 0021500649 | 5 out of total 42 games\n",
      "2018-05-15 23:46:36,863 | INFO : working on game 0021500383 | 6 out of total 42 games\n",
      "2018-05-15 23:47:01,358 | INFO : working on game 0021500272 | 7 out of total 42 games\n",
      "2018-05-15 23:47:20,172 | INFO : working on game 0021500075 | 8 out of total 42 games\n",
      "2018-05-15 23:47:37,793 | INFO : working on game 0021500355 | 9 out of total 42 games\n",
      "2018-05-15 23:48:01,037 | INFO : working on game 0021500421 | 10 out of total 42 games\n",
      "2018-05-15 23:48:25,217 | INFO : working on game 0021500196 | 11 out of total 42 games\n",
      "2018-05-15 23:48:48,418 | INFO : working on game 0021500463 | 12 out of total 42 games\n",
      "2018-05-15 23:49:07,987 | INFO : working on game 0021500308 | 13 out of total 42 games\n",
      "2018-05-15 23:49:32,395 | INFO : working on game 0021500323 | 14 out of total 42 games\n",
      "2018-05-15 23:49:55,519 | INFO : working on game 0021500024 | 15 out of total 42 games\n",
      "2018-05-15 23:50:17,990 | INFO : working on game 0021500507 | 16 out of total 42 games\n",
      "2018-05-15 23:50:39,065 | INFO : working on game 0021500250 | 17 out of total 42 games\n",
      "2018-05-15 23:51:01,540 | INFO : working on game 0021500492 | 18 out of total 42 games\n",
      "2018-05-15 23:51:22,307 | INFO : working on game 0021500173 | 19 out of total 42 games\n",
      "2018-05-15 23:51:44,465 | INFO : working on game 0021500477 | 20 out of total 42 games\n",
      "2018-05-15 23:52:04,460 | INFO : working on game 0021500357 | 21 out of total 42 games\n",
      "2018-05-15 23:52:23,368 | INFO : working on game 0021500540 | 22 out of total 42 games\n",
      "2018-05-15 23:52:45,978 | INFO : working on game 0021500278 | 23 out of total 42 games\n",
      "2018-05-15 23:53:07,901 | INFO : working on game 0021500511 | 24 out of total 42 games\n",
      "2018-05-15 23:53:24,483 | INFO : working on game 0021500337 | 25 out of total 42 games\n",
      "2018-05-15 23:53:46,256 | INFO : working on game 0021500290 | 26 out of total 42 games\n",
      "2018-05-15 23:54:08,020 | INFO : working on game 0021500239 | 27 out of total 42 games\n",
      "2018-05-15 23:54:31,041 | INFO : working on game 0021500131 | 28 out of total 42 games\n",
      "2018-05-15 23:54:52,482 | INFO : working on game 0021500390 | 29 out of total 42 games\n",
      "2018-05-15 23:55:12,607 | INFO : working on game 0021500219 | 30 out of total 42 games\n",
      "2018-05-15 23:55:34,571 | INFO : working on game 0021500441 | 31 out of total 42 games\n",
      "2018-05-15 23:55:54,981 | INFO : working on game 0021500164 | 32 out of total 42 games\n",
      "2018-05-15 23:56:16,637 | INFO : working on game 0021500150 | 33 out of total 42 games\n",
      "2018-05-15 23:56:37,214 | INFO : working on game 0021500554 | 34 out of total 42 games\n",
      "2018-05-15 23:56:55,146 | INFO : working on game 0021500057 | 35 out of total 42 games\n",
      "2018-05-15 23:57:12,638 | INFO : working on game 0021500109 | 36 out of total 42 games\n",
      "2018-05-15 23:57:25,176 | INFO : working on game 0021500408 | 37 out of total 42 games\n",
      "2018-05-15 23:57:46,472 | INFO : working on game 0021500009 | 38 out of total 42 games\n",
      "2018-05-15 23:58:03,979 | INFO : working on game 0021500633 | 39 out of total 42 games\n",
      "2018-05-15 23:58:23,254 | INFO : working on game 0021500621 | 40 out of total 42 games\n",
      "2018-05-15 23:58:41,587 | INFO : working on game 0021500188 | 41 out of total 42 games\n"
     ]
    },
    {
     "name": "stderr",
     "output_type": "stream",
     "text": [
      "         1  -169724388.5778             +nan\n",
      "         2  -147823214.3897   +21901174.1881\n",
      "         3  -142410113.7409    +5413100.6488\n",
      "         4  -141242212.0875    +1167901.6534\n",
      "         5  -140517954.4937     +724257.5938\n",
      "         6  -139917415.6611     +600538.8326\n",
      "         7  -139549793.8034     +367621.8577\n",
      "         8  -139299729.1151     +250064.6883\n",
      "         9  -139119939.6876     +179789.4275\n",
      "        10  -139001026.6960     +118912.9917\n",
      "        11  -138924595.8095      +76430.8864\n",
      "        12  -138875215.8216      +49379.9879\n",
      "        13  -138841163.5742      +34052.2475\n",
      "        14  -138817312.1466      +23851.4276\n",
      "        15  -138799686.1249      +17626.0217\n",
      "        16  -138785914.7344      +13771.3905\n",
      "        17  -138774300.2092      +11614.5252\n",
      "        18  -138764126.0092      +10174.2000\n",
      "        19  -138754534.4640       +9591.5452\n",
      "        20  -138744864.4392       +9670.0249\n",
      "        21  -138734365.4461      +10498.9931\n",
      "        22  -138721986.9518      +12378.4943\n",
      "        23  -138705340.9542      +16645.9976\n",
      "        24  -138679150.7842      +26190.1699\n",
      "        25  -138627182.9741      +51967.8101\n",
      "        26  -138482066.7895     +145116.1846\n",
      "        27  -138139652.2804     +342414.5090\n",
      "        28  -137994410.3672     +145241.9133\n",
      "        29  -137935854.8749      +58555.4923\n",
      "        30  -137881172.2464      +54682.6286\n",
      "        31  -137835853.6608      +45318.5855\n",
      "        32  -137811357.5605      +24496.1003\n",
      "        33  -137796624.8449      +14732.7157\n",
      "        34  -137786836.8898       +9787.9550\n",
      "        35  -137780063.8777       +6773.0121\n",
      "        36  -137775082.2951       +4981.5826\n",
      "        37  -137771404.4847       +3677.8104\n",
      "        38  -137768700.0785       +2704.4062\n",
      "        39  -137766784.8333       +1915.2451\n",
      "        40  -137765379.5695       +1405.2639\n",
      "        41  -137764313.9959       +1065.5736\n",
      "        42  -137763467.7981        +846.1977\n",
      "        43  -137762769.7984        +697.9997\n",
      "        44  -137762180.6166        +589.1818\n",
      "        45  -137761668.0586        +512.5580\n",
      "        46  -137761183.0044        +485.0542\n",
      "        47  -137760705.9099        +477.0945\n",
      "        48  -137760217.6280        +488.2818\n",
      "        49  -137759713.7285        +503.8995\n",
      "        50  -137759193.9772        +519.7514\n",
      "         1  -184791489.4785             +nan\n",
      "         2  -157711793.9455   +27079695.5330\n",
      "         3  -152663993.4817    +5047800.4638\n",
      "         4  -152032760.6717     +631232.8100\n",
      "         5  -151775921.3740     +256839.2977\n",
      "         6  -151576813.8406     +199107.5334\n",
      "         7  -151414960.9051     +161852.9355\n",
      "         8  -151277234.4549     +137726.4502\n",
      "         9  -151155492.4309     +121742.0240\n",
      "        10  -151049890.3215     +105602.1094\n",
      "        11  -150958873.9815      +91016.3401\n",
      "        12  -150882386.9971      +76486.9843\n",
      "        13  -150820345.7043      +62041.2929\n",
      "        14  -150773539.6066      +46806.0977\n",
      "        15  -150738057.7623      +35481.8443\n",
      "        16  -150711180.0121      +26877.7502\n",
      "        17  -150690349.5805      +20830.4316\n",
      "        18  -150673318.0010      +17031.5795\n",
      "        19  -150659110.2262      +14207.7747\n",
      "        20  -150647110.3465      +11999.8797\n",
      "        21  -150636310.4056      +10799.9410\n",
      "        22  -150627014.1759       +9296.2297\n",
      "        23  -150618805.5760       +8208.5999\n",
      "        24  -150611761.6251       +7043.9509\n",
      "        25  -150605496.6481       +6264.9770\n",
      "        26  -150599765.8678       +5730.7803\n",
      "        27  -150594280.6837       +5485.1841\n",
      "        28  -150589215.6909       +5064.9929\n",
      "        29  -150584602.2721       +4613.4188\n",
      "        30  -150580452.1595       +4150.1126\n",
      "        31  -150576597.1620       +3854.9975\n",
      "        32  -150572983.8484       +3613.3135\n",
      "        33  -150569572.9880       +3410.8605\n",
      "        34  -150566320.3900       +3252.5980\n",
      "        35  -150563007.2704       +3313.1196\n",
      "        36  -150559470.0020       +3537.2684\n",
      "        37  -150555701.1496       +3768.8524\n",
      "        38  -150551574.1111       +4127.0384\n",
      "        39  -150547055.6207       +4518.4904\n",
      "        40  -150542066.0909       +4989.5298\n",
      "        41  -150536129.7999       +5936.2911\n",
      "        42  -150528872.7333       +7257.0666\n",
      "        43  -150519546.2319       +9326.5013\n",
      "        44  -150507459.4310      +12086.8009\n",
      "        45  -150491732.0344      +15727.3966\n",
      "        46  -150470132.1892      +21599.8452\n",
      "        47  -150440557.2161      +29574.9731\n",
      "        48  -150402683.6296      +37873.5866\n",
      "        49  -150358194.7024      +44488.9271\n",
      "        50  -150309040.9399      +49153.7625\n"
     ]
    },
    {
     "name": "stdout",
     "output_type": "stream",
     "text": [
      "Final number of events: 6485\n"
     ]
    }
   ],
   "source": [
    "event_threshold = 100\n",
    "subsample_factor = 2\n",
    "# single_game = process_game_data(game_id, events_df, event_threshold, subsample_factor)\n",
    "\n",
    "single_game = process_game_data(Data, all_games_id, event_threshold, subsample_factor)\n",
    "\n",
    "print('Final number of events:', len(single_game))"
   ]
  },
  {
   "cell_type": "markdown",
   "metadata": {},
   "source": [
    "#### Show the plot, for the sake of comparison with processed moment later on"
   ]
  },
  {
   "cell_type": "code",
   "execution_count": 5,
   "metadata": {
    "collapsed": true,
    "scrolled": false
   },
   "outputs": [],
   "source": [
    "game_id = all_games_id[0]\n",
    "Plot = PlotGame(game_id, main_dir, game_dir)\n",
    "# for i in range(plotn): \n",
    "# Plot.load_moment2img(game_data, event_number=0, moment_number=0, return_img=True)"
   ]
  },
  {
   "cell_type": "code",
   "execution_count": 6,
   "metadata": {
    "collapsed": true
   },
   "outputs": [],
   "source": [
    "plt_ind = 0"
   ]
  },
  {
   "cell_type": "code",
   "execution_count": null,
   "metadata": {
    "scrolled": false
   },
   "outputs": [
    {
     "name": "stdout",
     "output_type": "stream",
     "text": [
      "0\n"
     ]
    },
    {
     "data": {
      "image/png": "[encoded data removed]",
      "text/plain": [
       "<Figure size 360x504 with 1 Axes>"
      ]
     },
     "metadata": {},
     "output_type": "display_data"
    }
   ],
   "source": [
    "# manual plot check\n",
    "print(plt_ind)\n",
    "plot_check(single_game, plt_ind)\n",
    "plt_ind += 1"
   ]
  },
  {
   "cell_type": "markdown",
   "metadata": {},
   "source": [
    "#### Build graph and starts training for all single policies"
   ]
  },
  {
   "cell_type": "code",
   "execution_count": null,
   "metadata": {
    "scrolled": true
   },
   "outputs": [
    {
     "name": "stdout",
     "output_type": "stream",
     "text": [
      "2018-05-16 01:10:08,928 | INFO : Training with hyper parameters: {'batch_size': 64, 'sequence_length': 50, 'overlap': 25, 'state_size': 512, 'input_dim': 179, 'learning_rate': 0.0005, 'n_epoch': 10000}\n",
      "2018-05-16 01:10:08,929 | INFO : Wroking on policy 0\n",
      "train len: 20546 test shape: 5137\n",
      "Horizon 0 ==========\n",
      "Epoch 0    | loss: 47.38    | time took: 16.12s | validation loss: 26.84   \n",
      "Epoch 100  | loss: 1.68     | time took: 16.02s | validation loss: 2.16    \n",
      "Epoch 200  | loss: 1.29     | time took: 16.07s | validation loss: 2.32    \n",
      "Epoch 300  | loss: 1.08     | time took: 16.05s | validation loss: 2.45    \n",
      "Epoch 400  | loss: 0.71     | time took: 16.06s | validation loss: 2.34    \n",
      "Epoch 500  | loss: 0.51     | time took: 16.07s | validation loss: 2.36    \n",
      "Epoch 600  | loss: 0.50     | time took: 16.04s | validation loss: 2.42    \n",
      "Epoch 700  | loss: 0.50     | time took: 16.03s | validation loss: 2.70    \n",
      "Epoch 800  | loss: 0.28     | time took: 16.04s | validation loss: 2.82    \n",
      "Epoch 900  | loss: 0.56     | time took: 16.06s | validation loss: 2.70    \n",
      "Epoch 1000 | loss: 0.37     | time took: 16.02s | validation loss: 3.00    \n",
      "Epoch 1100 | loss: 0.25     | time took: 16.03s | validation loss: 3.06    \n",
      "Epoch 1200 | loss: 0.18     | time took: 16.04s | validation loss: 2.64    \n",
      "Epoch 1300 | loss: 0.18     | time took: 16.02s | validation loss: 2.51    \n",
      "Epoch 1400 | loss: 0.31     | time took: 16.04s | validation loss: 3.14    \n"
     ]
    }
   ],
   "source": [
    "sequence_length = 50\n",
    "overlap = 25\n",
    "batch_size = 64\n",
    "\n",
    "hyper_params = {'batch_size': batch_size,\n",
    "                'sequence_length': sequence_length,\n",
    "                'overlap': overlap,\n",
    "                'state_size': 512,\n",
    "                'input_dim': 179,\n",
    "                'learning_rate': 0.0005,\n",
    "                'n_epoch': int(1e4)}\n",
    "\n",
    "\n",
    "\n",
    "train_all_single_policies(single_game, hyper_params, models_path)"
   ]
  },
  {
   "cell_type": "code",
   "execution_count": null,
   "metadata": {
    "collapsed": true
   },
   "outputs": [],
   "source": []
  },
  {
   "cell_type": "code",
   "execution_count": null,
   "metadata": {
    "collapsed": true
   },
   "outputs": [],
   "source": []
  },
  {
   "cell_type": "markdown",
   "metadata": {},
   "source": [
    "### Check performance"
   ]
  },
  {
   "cell_type": "code",
   "execution_count": null,
   "metadata": {},
   "outputs": [],
   "source": [
    "# pad short sequence and chunk long sequence with overlaps\n",
    "policy = 0\n",
    "train, target = get_sequences(single_game, policy, sequence_length, overlap)\n",
    "# create train and test set\n",
    "p = 0.8 # train percentage\n",
    "divider = int(len(train)*p)\n",
    "train_game, test_game = np.copy(train[:divider]), np.copy(train[divider:])\n",
    "train_target, test_target = np.copy(target[:divider]), np.copy(target[divider:])\n",
    "Model = ImportGraph('policy0/')"
   ]
  },
  {
   "cell_type": "code",
   "execution_count": null,
   "metadata": {
    "collapsed": true
   },
   "outputs": [],
   "source": [
    "n = 0"
   ]
  },
  {
   "cell_type": "code",
   "execution_count": null,
   "metadata": {},
   "outputs": [],
   "source": [
    "# manual plot check\n",
    "plot_check(train_game, n)\n",
    "n+=1"
   ]
  },
  {
   "cell_type": "code",
   "execution_count": null,
   "metadata": {},
   "outputs": [],
   "source": [
    "# use while loop to make sure the \n",
    "train_batches = get_minibatches(train_game, train_target, batch_size, shuffle=False)\n",
    "\n",
    "check_ind = np.random.randint(0, len(train_game)//batch_size)\n",
    "print('rand checking index: {0:} out of {1:}'.format(check_ind, len(train_game)//batch_size))\n",
    "\n",
    "input_xi, output_yi = train_batches\n",
    "\n",
    "y_pred = Model.forward_pass(input_xi[check_ind], h=1)\n",
    "y_true = output_yi[check_ind]\n",
    "    \n",
    "y_pred = y_pred[0][0].reshape(-1,2)\n",
    "y_true = y_true[0].reshape(-1,2)\n",
    "\n",
    "plt.figure(figsize=(15,8))\n",
    "for k in range(0, len(y_pred)):\n",
    "    plt.plot(y_pred[:, 0][k], y_pred[:, 1][k], linestyle=\"None\", marker=\"o\", markersize=k, color='g')\n",
    "    plt.plot(y_true[:, 0][k], y_true[:, 1][k], linestyle=\"None\", marker=\"o\", markersize=k, color='b')\n",
    "\n",
    "plt.plot(y_pred[:, 0], y_pred[:, 1],'g', y_true[:,0], y_true[:,1], 'b')#, pred_train[:, 0], pred_train[:, 1])\n",
    "plt.grid(True)"
   ]
  },
  {
   "cell_type": "code",
   "execution_count": null,
   "metadata": {
    "collapsed": true
   },
   "outputs": [],
   "source": []
  },
  {
   "cell_type": "code",
   "execution_count": null,
   "metadata": {
    "collapsed": true
   },
   "outputs": [],
   "source": []
  },
  {
   "cell_type": "code",
   "execution_count": null,
   "metadata": {
    "collapsed": true
   },
   "outputs": [],
   "source": []
  },
  {
   "cell_type": "code",
   "execution_count": null,
   "metadata": {
    "collapsed": true
   },
   "outputs": [],
   "source": []
  },
  {
   "cell_type": "markdown",
   "metadata": {},
   "source": [
    "### To do:\n",
    "\n",
    "    - 1) Regularize the lstm\n",
    "    - 2) Figure out why there are blanks in the testing\n",
    "    - 3) may consider to collect those left out from the process of creating batches\n",
    "    - 4) related to 3), seq_len = 3 may create null batches \n",
    "\n",
    "    - Split data to defending and offending, as the model for e.g. forward role in deffending and offending should be pretty different. Remove particular events, like free-throw etc.\n",
    "    \n",
    "    - We can use the shot clock as an indicator of when the offending and defending switches.\n",
    "    \n",
    "    - The cameras oprate at 25 frames per second, so in order to learn realistic motions, either we sample the 25 frames, or extend the horizon to 50 for example or even longer(this might be too computationally heavy and model would probably drift a lot).\n",
    "    \n",
    "    - At the moment if we don't have defending or offending sepearted, at least we need to break down the sequences from the 24 secs shot clock, since it usually stands for a change in game state. (note: shot clock sometimes is None)\n",
    "    \n",
    "    - Add tensorboard visualization. Add validation performance (maybe, it would take longer). \n",
    "      tensorboard --logdir=./train_logs\n",
    "      \n",
    "    - Start thinking about 1) joint training 2) Hidden structure 3) Smooth learning\n",
    "    - from each sample to next sample theres not much change, subsample them "
   ]
  },
  {
   "cell_type": "markdown",
   "metadata": {
    "collapsed": true
   },
   "source": [
    "### Questions\n",
    "\n",
    "    * After a team scored and they go back to get ready for defense, is the going back trajectory pretty much random?\n",
    "    * Do player swap roles during the play? e.g. a forward swapped to a guard, is the forward roles a lot different from gaurds these day? (i.e. can you differentaite a player plaing forward from guard from the game) If yes, then the hidden structure learning/sequencing is necessary. "
   ]
  },
  {
   "cell_type": "code",
   "execution_count": null,
   "metadata": {
    "collapsed": true
   },
   "outputs": [],
   "source": []
  }
 ],
 "metadata": {
  "kernelspec": {
   "display_name": "Python 3",
   "language": "python",
   "name": "python3"
  },
  "language_info": {
   "codemirror_mode": {
    "name": "ipython",
    "version": 3
   },
   "file_extension": ".py",
   "mimetype": "text/x-python",
   "name": "python",
   "nbconvert_exporter": "python",
   "pygments_lexer": "ipython3",
   "version": "3.6.4"
  }
 },
 "nbformat": 4,
 "nbformat_minor": 2
}
