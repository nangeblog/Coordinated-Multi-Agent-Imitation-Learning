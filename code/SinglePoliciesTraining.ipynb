{
 "cells": [
  {
   "cell_type": "code",
   "execution_count": 1,
   "metadata": {},
   "outputs": [
    {
     "name": "stderr",
     "output_type": "stream",
     "text": [
      "/home/sam/anaconda3/lib/python3.6/importlib/_bootstrap.py:219: RuntimeWarning: compiletime version 3.5 of module 'tensorflow.python.framework.fast_tensor_util' does not match runtime version 3.6\n",
      "  return f(*args, **kwds)\n",
      "/home/sam/anaconda3/lib/python3.6/site-packages/h5py/__init__.py:36: FutureWarning: Conversion of the second argument of issubdtype from `float` to `np.floating` is deprecated. In future, it will be treated as `np.float64 == np.dtype(float).type`.\n",
      "  from ._conv import register_converters as _register_converters\n"
     ]
    }
   ],
   "source": [
    "import tensorflow as tf\n",
    "from tensorflow.python.ops.rnn import _transpose_batch_time\n",
    "\n",
    "from datetime import datetime\n",
    "import numpy as np\n",
    "import pandas as pd\n",
    "import glob, os, sys, math, warnings, copy, time, glob\n",
    "import matplotlib.pyplot as plt\n",
    "os.environ[\"TF_CPP_MIN_LOG_LEVEL\"]=\"3\"\n",
    "\n",
    "# customized ftns \n",
    "from preprocessing import process_game_data\n",
    "from sequencing import get_sequences, get_minibatches, iterate_minibatches, subsample_sequence\n",
    "from utilities import *\n",
    "from model import *\n",
    "from train import train_all_single_policies\n",
    "# ---------------------------------------------------------\n",
    "%matplotlib inline\n",
    "%load_ext autoreload\n",
    "%autoreload 2\n",
    "warnings.filterwarnings('ignore')\n",
    "# warnings.filterwarnings(action='once')\n",
    "# ---------------------------------------------------------\n",
    "# directories\n",
    "main_dir = '../'\n",
    "game_dir = main_dir+'data/'\n",
    "Data = LoadData(main_dir, game_dir)\n",
    "models_path = './models/' "
   ]
  },
  {
   "cell_type": "markdown",
   "metadata": {},
   "source": [
    "#### Pre-process \n",
    "filter events, subsample frames, add velocity, reorder moments, re-arrange team order\n",
    "shot clock, filter out event with short moments"
   ]
  },
  {
   "cell_type": "code",
   "execution_count": 2,
   "metadata": {
    "collapsed": true
   },
   "outputs": [],
   "source": [
    "all_games_id = [i.split('/')[-1].split('.')[0] for i in glob.glob('../data/*.pkl')]"
   ]
  },
  {
   "cell_type": "code",
   "execution_count": null,
   "metadata": {
    "collapsed": true
   },
   "outputs": [],
   "source": [
    "# all_games_id = ['0021500024']"
   ]
  },
  {
   "cell_type": "code",
   "execution_count": null,
   "metadata": {
    "scrolled": true
   },
   "outputs": [
    {
     "name": "stdout",
     "output_type": "stream",
     "text": [
      "2018-05-16 21:52:34,996 | INFO : working on game 0021500066 | 0 out of total 42 games\n",
      "2018-05-16 21:52:55,498 | INFO : working on game 0021500529 | 1 out of total 42 games\n",
      "2018-05-16 21:53:15,586 | INFO : working on game 0021500042 | 2 out of total 42 games\n",
      "2018-05-16 21:53:32,545 | INFO : working on game 0021500115 | 3 out of total 42 games\n",
      "2018-05-16 21:53:53,042 | INFO : working on game 0021500096 | 4 out of total 42 games\n",
      "2018-05-16 21:54:15,798 | INFO : working on game 0021500649 | 5 out of total 42 games\n",
      "2018-05-16 21:54:34,386 | INFO : working on game 0021500383 | 6 out of total 42 games\n",
      "2018-05-16 21:54:59,230 | INFO : working on game 0021500272 | 7 out of total 42 games\n",
      "2018-05-16 21:55:18,116 | INFO : working on game 0021500075 | 8 out of total 42 games\n",
      "2018-05-16 21:55:36,049 | INFO : working on game 0021500355 | 9 out of total 42 games\n",
      "2018-05-16 21:55:59,347 | INFO : working on game 0021500421 | 10 out of total 42 games\n",
      "2018-05-16 21:56:23,724 | INFO : working on game 0021500196 | 11 out of total 42 games\n",
      "2018-05-16 21:56:47,120 | INFO : working on game 0021500463 | 12 out of total 42 games\n",
      "2018-05-16 21:57:06,778 | INFO : working on game 0021500308 | 13 out of total 42 games\n",
      "2018-05-16 21:57:31,213 | INFO : working on game 0021500323 | 14 out of total 42 games\n",
      "2018-05-16 21:57:54,556 | INFO : working on game 0021500024 | 15 out of total 42 games\n",
      "2018-05-16 21:58:17,278 | INFO : working on game 0021500507 | 16 out of total 42 games\n",
      "2018-05-16 21:58:38,308 | INFO : working on game 0021500250 | 17 out of total 42 games\n",
      "2018-05-16 21:59:01,065 | INFO : working on game 0021500492 | 18 out of total 42 games\n",
      "2018-05-16 21:59:22,294 | INFO : working on game 0021500173 | 19 out of total 42 games\n",
      "2018-05-16 21:59:44,708 | INFO : working on game 0021500477 | 20 out of total 42 games\n",
      "2018-05-16 22:00:04,781 | INFO : working on game 0021500357 | 21 out of total 42 games\n",
      "2018-05-16 22:00:23,673 | INFO : working on game 0021500540 | 22 out of total 42 games\n",
      "2018-05-16 22:00:46,448 | INFO : working on game 0021500278 | 23 out of total 42 games\n",
      "2018-05-16 22:01:08,814 | INFO : working on game 0021500511 | 24 out of total 42 games\n",
      "2018-05-16 22:01:25,619 | INFO : working on game 0021500337 | 25 out of total 42 games\n",
      "2018-05-16 22:01:47,700 | INFO : working on game 0021500290 | 26 out of total 42 games\n",
      "2018-05-16 22:02:09,679 | INFO : working on game 0021500239 | 27 out of total 42 games\n",
      "2018-05-16 22:02:32,878 | INFO : working on game 0021500131 | 28 out of total 42 games\n",
      "2018-05-16 22:02:54,687 | INFO : working on game 0021500390 | 29 out of total 42 games\n",
      "2018-05-16 22:03:15,230 | INFO : working on game 0021500219 | 30 out of total 42 games\n",
      "2018-05-16 22:03:37,443 | INFO : working on game 0021500441 | 31 out of total 42 games\n",
      "2018-05-16 22:03:58,103 | INFO : working on game 0021500164 | 32 out of total 42 games\n",
      "2018-05-16 22:04:20,053 | INFO : working on game 0021500150 | 33 out of total 42 games\n",
      "2018-05-16 22:04:40,701 | INFO : working on game 0021500554 | 34 out of total 42 games\n",
      "2018-05-16 22:04:58,831 | INFO : working on game 0021500057 | 35 out of total 42 games\n",
      "2018-05-16 22:05:16,604 | INFO : working on game 0021500109 | 36 out of total 42 games\n",
      "2018-05-16 22:05:29,214 | INFO : working on game 0021500408 | 37 out of total 42 games\n",
      "2018-05-16 22:05:50,359 | INFO : working on game 0021500009 | 38 out of total 42 games\n",
      "2018-05-16 22:06:08,012 | INFO : working on game 0021500633 | 39 out of total 42 games\n",
      "2018-05-16 22:06:27,382 | INFO : working on game 0021500621 | 40 out of total 42 games\n",
      "2018-05-16 22:06:45,860 | INFO : working on game 0021500188 | 41 out of total 42 games\n"
     ]
    },
    {
     "name": "stderr",
     "output_type": "stream",
     "text": [
      "         1  -169724388.5778             +nan\n",
      "         2  -147823214.3897   +21901174.1881\n",
      "         3  -142410113.7409    +5413100.6488\n",
      "         4  -141242212.0875    +1167901.6534\n",
      "         5  -140517954.4937     +724257.5938\n",
      "         6  -139917415.6611     +600538.8326\n",
      "         7  -139549793.8034     +367621.8577\n",
      "         8  -139299729.1151     +250064.6883\n",
      "         9  -139119939.6876     +179789.4275\n",
      "        10  -139001026.6960     +118912.9917\n",
      "        11  -138924595.8095      +76430.8864\n",
      "        12  -138875215.8216      +49379.9879\n",
      "        13  -138841163.5742      +34052.2475\n"
     ]
    }
   ],
   "source": [
    "event_threshold = 100\n",
    "subsample_factor = 2\n",
    "# single_game = process_game_data(game_id, events_df, event_threshold, subsample_factor)\n",
    "import os.path\n",
    "import pickle\n",
    "\n",
    "game_files = './all_games.pkl'\n",
    "if os.path.isfile(game_files):\n",
    "    with open(game_files, 'rb') as f:\n",
    "        single_game = pickle.load(f)\n",
    "else:\n",
    "    single_game = process_game_data(Data, all_games_id, event_threshold, subsample_factor)\n",
    "    with open(game_files, 'wb') as f:\n",
    "        pickle.dump(single_game, f)\n",
    "print('Final number of events:', len(single_game))"
   ]
  },
  {
   "cell_type": "markdown",
   "metadata": {},
   "source": [
    "#### Show the plot, for the sake of comparison with processed moment later on"
   ]
  },
  {
   "cell_type": "code",
   "execution_count": null,
   "metadata": {
    "collapsed": true,
    "scrolled": false
   },
   "outputs": [],
   "source": [
    "game_id = all_games_id[0]\n",
    "Plot = PlotGame(game_id, main_dir, game_dir)\n",
    "# for i in range(plotn): \n",
    "# Plot.load_moment2img(game_data, event_number=0, moment_number=0, return_img=True)"
   ]
  },
  {
   "cell_type": "code",
   "execution_count": null,
   "metadata": {
    "collapsed": true
   },
   "outputs": [],
   "source": [
    "plt_ind = 0"
   ]
  },
  {
   "cell_type": "code",
   "execution_count": null,
   "metadata": {
    "scrolled": false
   },
   "outputs": [],
   "source": [
    "# manual plot check\n",
    "print(plt_ind)\n",
    "plot_check(single_game, plt_ind)\n",
    "plt_ind += 1"
   ]
  },
  {
   "cell_type": "markdown",
   "metadata": {},
   "source": [
    "#### Build graph and starts training for all single policies"
   ]
  },
  {
   "cell_type": "code",
   "execution_count": null,
   "metadata": {
    "scrolled": true
   },
   "outputs": [],
   "source": [
    "sequence_length = 50\n",
    "overlap = 25\n",
    "batch_size = 64\n",
    "\n",
    "hyper_params = {'batch_size': batch_size,\n",
    "                'sequence_length': sequence_length,\n",
    "                'overlap': overlap,\n",
    "                'state_size': 256,\n",
    "                'input_dim': 179,\n",
    "                'learning_rate': 0.001,\n",
    "                'n_epoch': int(1e3)}\n",
    "\n",
    "train_all_single_policies(single_game, hyper_params, models_path)"
   ]
  },
  {
   "cell_type": "code",
   "execution_count": null,
   "metadata": {
    "collapsed": true
   },
   "outputs": [],
   "source": []
  },
  {
   "cell_type": "code",
   "execution_count": null,
   "metadata": {
    "collapsed": true
   },
   "outputs": [],
   "source": []
  },
  {
   "cell_type": "markdown",
   "metadata": {},
   "source": [
    "### Check performance"
   ]
  },
  {
   "cell_type": "code",
   "execution_count": null,
   "metadata": {
    "collapsed": true
   },
   "outputs": [],
   "source": [
    "# pad short sequence and chunk long sequence with overlaps\n",
    "policy = 0\n",
    "train, target = get_sequences(single_game, policy, sequence_length, overlap)\n",
    "# create train and test set\n",
    "p = 0.8 # train percentage\n",
    "divider = int(len(train)*p)\n",
    "train_game, test_game = np.copy(train[:divider]), np.copy(train[divider:])\n",
    "train_target, test_target = np.copy(target[:divider]), np.copy(target[divider:])\n",
    "Model = ImportGraph('policy0/')"
   ]
  },
  {
   "cell_type": "code",
   "execution_count": null,
   "metadata": {
    "collapsed": true
   },
   "outputs": [],
   "source": [
    "n = 0"
   ]
  },
  {
   "cell_type": "code",
   "execution_count": null,
   "metadata": {
    "collapsed": true
   },
   "outputs": [],
   "source": [
    "# manual plot check\n",
    "plot_check(train_game, n)\n",
    "n+=1"
   ]
  },
  {
   "cell_type": "code",
   "execution_count": null,
   "metadata": {
    "collapsed": true
   },
   "outputs": [],
   "source": [
    "# use while loop to make sure the \n",
    "train_batches = get_minibatches(train_game, train_target, batch_size, shuffle=False)\n",
    "\n",
    "check_ind = np.random.randint(0, len(train_game)//batch_size)\n",
    "print('rand checking index: {0:} out of {1:}'.format(check_ind, len(train_game)//batch_size))\n",
    "\n",
    "input_xi, output_yi = train_batches\n",
    "\n",
    "y_pred = Model.forward_pass(input_xi[check_ind], h=1)\n",
    "y_true = output_yi[check_ind]\n",
    "    \n",
    "y_pred = y_pred[0][0].reshape(-1,2)\n",
    "y_true = y_true[0].reshape(-1,2)\n",
    "\n",
    "plt.figure(figsize=(15,8))\n",
    "for k in range(0, len(y_pred)):\n",
    "    plt.plot(y_pred[:, 0][k], y_pred[:, 1][k], linestyle=\"None\", marker=\"o\", markersize=k, color='g')\n",
    "    plt.plot(y_true[:, 0][k], y_true[:, 1][k], linestyle=\"None\", marker=\"o\", markersize=k, color='b')\n",
    "\n",
    "plt.plot(y_pred[:, 0], y_pred[:, 1],'g', y_true[:,0], y_true[:,1], 'b')#, pred_train[:, 0], pred_train[:, 1])\n",
    "plt.grid(True)"
   ]
  },
  {
   "cell_type": "code",
   "execution_count": null,
   "metadata": {
    "collapsed": true
   },
   "outputs": [],
   "source": []
  },
  {
   "cell_type": "code",
   "execution_count": null,
   "metadata": {
    "collapsed": true
   },
   "outputs": [],
   "source": []
  },
  {
   "cell_type": "code",
   "execution_count": null,
   "metadata": {
    "collapsed": true
   },
   "outputs": [],
   "source": []
  },
  {
   "cell_type": "code",
   "execution_count": null,
   "metadata": {
    "collapsed": true
   },
   "outputs": [],
   "source": []
  },
  {
   "cell_type": "markdown",
   "metadata": {},
   "source": [
    "### To do:\n",
    "\n",
    "    - 1) Regularize the lstm\n",
    "    - 2) Figure out why there are blanks in the testing\n",
    "    - 3) may consider to collect those left out from the process of creating batches\n",
    "    - 4) related to 3), seq_len = 3 may create null batches \n",
    "\n",
    "    - Split data to defending and offending, as the model for e.g. forward role in deffending and offending should be pretty different. Remove particular events, like free-throw etc.\n",
    "    \n",
    "    - We can use the shot clock as an indicator of when the offending and defending switches.\n",
    "    \n",
    "    - The cameras oprate at 25 frames per second, so in order to learn realistic motions, either we sample the 25 frames, or extend the horizon to 50 for example or even longer(this might be too computationally heavy and model would probably drift a lot).\n",
    "    \n",
    "    - At the moment if we don't have defending or offending sepearted, at least we need to break down the sequences from the 24 secs shot clock, since it usually stands for a change in game state. (note: shot clock sometimes is None)\n",
    "    \n",
    "    - Add tensorboard visualization. Add validation performance (maybe, it would take longer). \n",
    "      tensorboard --logdir=./train_logs\n",
    "      \n",
    "    - Start thinking about 1) joint training 2) Hidden structure 3) Smooth learning\n",
    "    - from each sample to next sample theres not much change, subsample them "
   ]
  },
  {
   "cell_type": "markdown",
   "metadata": {
    "collapsed": true
   },
   "source": [
    "### Questions\n",
    "\n",
    "    * After a team scored and they go back to get ready for defense, is the going back trajectory pretty much random?\n",
    "    * Do player swap roles during the play? e.g. a forward swapped to a guard, is the forward roles a lot different from gaurds these day? (i.e. can you differentaite a player plaing forward from guard from the game) If yes, then the hidden structure learning/sequencing is necessary. "
   ]
  },
  {
   "cell_type": "code",
   "execution_count": null,
   "metadata": {
    "collapsed": true
   },
   "outputs": [],
   "source": []
  }
 ],
 "metadata": {
  "kernelspec": {
   "display_name": "Python 3",
   "language": "python",
   "name": "python3"
  },
  "language_info": {
   "codemirror_mode": {
    "name": "ipython",
    "version": 3
   },
   "file_extension": ".py",
   "mimetype": "text/x-python",
   "name": "python",
   "nbconvert_exporter": "python",
   "pygments_lexer": "ipython3",
   "version": "3.6.4"
  }
 },
 "nbformat": 4,
 "nbformat_minor": 2
}
